{
  "nbformat": 4,
  "nbformat_minor": 0,
  "metadata": {
    "colab": {
      "name": "cs231n A1 cont.ipynb",
      "version": "0.3.2",
      "provenance": [],
      "collapsed_sections": [
        "4vbyIR7wyf5o",
        "btumq8anyoQk",
        "7j7IsHI7zOgt",
        "wgM24wQ2eoIM"
      ],
      "include_colab_link": true
    },
    "kernelspec": {
      "name": "python3",
      "display_name": "Python 3"
    },
    "accelerator": "GPU"
  },
  "cells": [
    {
      "cell_type": "markdown",
      "metadata": {
        "id": "view-in-github",
        "colab_type": "text"
      },
      "source": [
        "<a href=\"https://colab.research.google.com/github/paruliansaragi/Notebooks/blob/master/cs231n_A1_cont.ipynb\" target=\"_parent\"><img src=\"https://colab.research.google.com/assets/colab-badge.svg\" alt=\"Open In Colab\"/></a>"
      ]
    },
    {
      "cell_type": "markdown",
      "metadata": {
        "id": "4vbyIR7wyf5o",
        "colab_type": "text"
      },
      "source": [
        "http://cs231n.github.io/neural-networks-1/\n",
        "\n",
        "#Neural Nets 1"
      ]
    },
    {
      "cell_type": "markdown",
      "metadata": {
        "id": "uKVQEJ20V88o",
        "colab_type": "text"
      },
      "source": [
        "As before, a linear classifier would compute scores $s = Wx$, in NN's we compute $s = W_2max(0, W_1x)$. Here $W_1$ could be a 100x3072 matrix transforming the image into 100-D intermediate vector. The max function introduces non-linearity element wise thresholding at 0. $W_2$ then would be 10x100 and we get 10 class scores. Non-linearity is crucial-if we left it out, the two matrices could be collapsed into 1, and the class scores would just be a linear function of the input. Parameters are learned with SGD, and gradients derived with chain rule computed with backprop. \n",
        "\n",
        "##Modeling one neuron\n",
        "\n",
        "```\n",
        "class Neuron(object):\n",
        "def forward(self, x):\n",
        "cell_body_sum = np.sum(x * self.weights) + self.bias\n",
        "firing_rate = 1.0 / (1.0 + math.exp(-cell_body_sum))#sigmoid\n",
        "return firing_rate\n",
        "```\n",
        "Each neuron performs a dot product with the input and its weights then non-linearity. \n",
        "\n",
        "##Single neuron as a linear classifier\n",
        "\n",
        "A neuron has the ability to like (activation near one) or dislike (activation near 0) certain linear regions of its input space. With an appropriate loss we can turn a single neuron into a linear classifier.\n",
        "\n",
        "**Binary softmax classifier**: for instance, we can interpret $\\sigma(\\sum_iw_ix_i + b)$ to be the probability of one of the classes $P(y_i = 1 \\mid x_i; w)$. The probability of other class would be $P(y_i = 0 \\mid x_i; w) = 1 - P(y_i = 1 \\mid x_i; w)$, since they must sum to one. We can formulate the cross-entropy loss and optimizing would lead to binary softmax classifier (logistic regression). Since sigmoid restricts values between 0-1, the predictions are based on whether the output of the neuron is greater than 0.5. \n",
        "\n",
        "We could attach a max-margin hinge loss to the output and train it to be a binary SVM classifier. \n",
        "\n",
        "##Commonly used activation functions\n",
        "\n",
        "Every activation function (non-linearity) takes a single number and performs a fixed-mathematical operation on it. \n",
        "\n",
        "Sigmoid: this function has the form $\\sigma(x) = 1 / (1 + e^{-x})$. ![alt text](http://cs231n.github.io/assets/nn1/sigmoid.jpeg)\n",
        "It squishes numbers between 0 and 1. Large negatives or positives become 0 and 1 respectively. Sigmoid is not used because:\n",
        "- sigmoids saturate and kill gradients: one property is that when the neuron's activation saturates at either tail of 0 or 1, the gradient at these regions is almost 0. Recall in backprop the local gradient will be multiplied to the gradient of this gate's output. If the local gradient is very small, it will kill the gradient and almost no signal will flow through the neuron to its weights and to its data. You have to be careful initializing the weights of sigmoid to prevent saturation, if too large then most neurons will become saturated and the NN won't learn. \n",
        "- Sigmoid outputs are not zero-centered: this is not good since neurons in the later layers of would receive data that is not zero-centered. If the data coming into a neuron is always positive e.g. x > 0 elementwise in $f = w^Tx + b$, then the gradient on the weights w will during backprop become either all positive or all negative. This could introduce undesirable zig-zagging in the gradient updates for the weights. However, once these gradients are added up across a batch of data the final update for the weights can have variable signs mitigating the issue. Inconvenient but less severe.\n",
        "\n",
        "Tanh: It squishes between -1, 1, its outputs saturate but are not zero centered. It is prefered to over sigmoid, it is simply a scaled sigmoid, $\\tanh(x) = 2 \\sigma(2x) -1$. \n",
        "\n",
        "Relu: it computes $f(x) = \\max(0, x)$ and is simply a threshold at 0. Pro's and cons:\n",
        "- (+) It greatly accelerated convergence of SGD compared with tahnh/sigmoid, due to its linear, non-saturating form. \n",
        "- (+) Compared to tanh/sigmoid that involve expensive ops like exp, ReLU can be implemented simply by thresholding a matrix of activations at 0. \n",
        "- (-) ReLU units are fragile during training and can die. For example, a large gradient flowing through a ReLU neuron could cause the weights to update in such a way that the neuron will never activate on any datapoint again. If this happens, then the gradient flowing through the unit will forever be zero from that point on. That is ReLU can irreversibly die as they can get knocked off the data manifold. For instance, if the learning rate is too high as much as 40% can be dead.\n",
        "\n",
        "Leaky ReLU: They fix the dying ReLU problem. Instead of the function being 0 when x < 0, a leaky ReLU instead has a small negative slope of 0.01. The function computes $f(x) = \\mathbb{1}(x < 0) (\\alpha x) + \\mathbb{1}(x>=0) (x)$ where $\\alpha$ is a small constant. \n",
        "\n",
        "Maxout: This generalizes the ReLU and its leaky version. It computes the function $\\max(w_1^Tx+b_1, w_2^Tx + b_2)$. It enjoys all the benefits of ReLU (linear regime of operation and no saturation) and not its drawbacks (dying relu). It does double the number of parameters for every single neuron increasing total parameters. \n",
        "\n",
        "##NN architectures\n",
        "###Layer-wise organisation\n",
        "NN's are neurons in graphs. They are collections of neurons connected in a acyclic graph. Meaning, outputs of some neurons can become inputs to other neurons. Cycles are not allowed since that would imply an infinite loop in forward propagation. NN are organised into layers of neurons. Neurons between 2 adjacent layers are fully pairwise connected but neurons within a distinct layer share no connections. \n",
        "\n",
        "##Example Feed-Forward Computation\n",
        "Repeated matrix multiplications interwoven with activation function. Working with an example 3-layer NN, the input say 3x1 vector. All connection strengths are stored in a single matrix. E.g., the first hidden layer's weights W1 would be of size 4x3, and biases vector b1 4x1. Every neuron has its weights in W1, so the matrix vector multiplication np.dot(W1, x) evaluates the activations of all neurons in that layer. \n",
        "\n",
        "```\n",
        "f = lambda x: 1.0/(1.0 + np.exp(-x))#activation function (sigmoid)\n",
        "x = np.random.randn(3,1)\n",
        "h1 = f(np.dot(W1, x) + b1)\n",
        "h2 = f(np.dot(W1, h1) + b2)\n",
        "out = np.dot(W3, h2) + b3\n",
        "```\n",
        "\n",
        "Note that instead of having a single input column vector, the variable x could hold the entire batch of training data (where each input example could be a column in x) and then all examples would be efficiently evaluated in parallel. \n",
        "\n",
        "##Representational Power\n",
        "One way to look at NN's is that they define a family of functions that are parameterized by the weights of the network. What is the representational power of this family of funcs? Are there funcs that cant be modeled with a NN?\n",
        "\n",
        "It turns out that NN's with at least one hidden layer are universal approximators. Given any continuous function f(x) and some $\\epsilon > 0$, there exists a Neural Network g(x) with one hidden layer (with reasonable choice of non-linearity e.g. sigmoid) such that  for all x's, $\\forall x, \\mid f(x) - g(x) \\mid < \\epsilon$. The NN can approximate any continuous function. \n",
        "\n",
        "If one hidden layer suffices to approximate any function why use more and go deeper? The answer is that while a two-layer NN is a universal approximator it is a weak statement in practice. In 1-D, the sum of indicator bumps function $g(x) = \\sum_i c_i \\mathbb{1}(a_i < x < b_i)$ where a,b,c are param vectors is also a universal approximator but noone would suggest to use this functional form in ML. NN's work well in practice because they express nice smooth functions that fit well with statistical properties of data we encounter, and are easy to learn using optimization algorithms. Deeper nets work better than single hidden layer nets is an empirical observation, despite the fact their representational power is equal. Often the case 3 > 2 layers but deeper rarely helps. Unlike CNNs where going deeper works. One argument is that images contain hierarchical structure so several layers of processing makes sense. \n",
        "\n",
        "##Setting Number of layers and their sizes\n",
        "\n",
        "As we increase the size and number of layers in a NN, the capacity of the network increases. That is the sapce of representable functions grows since neurons can collaborate to express many different functions. Larger nets can represent more complicated functions. ![alt text](http://cs231n.github.io/assets/nn1/layer_sizes.jpeg)\n",
        "\n",
        "Although it can express more complexity it leads to overfitting. Overfitting occurs when a model with high capacity fits the noise in the data instead of the underlying relationship. In the above the 20 hidden neurons fit all training data points but it segments the space into many disjoint decision regions. Conversly, the 3 hidden model lacks representational power. This models the data as two blobs and interprets a few outliers (noise) in the green blob which may lead to better generalization on the test set. \n",
        "\n",
        "Smaller nets may appear better but it is almost always better to overfit and regularize. The reason being that the smaller nets are harder to train with local methods such as gradient descent: it's clear their loss functions have few local minima, but that many of these minima are easier to converge to, and they are bad (with high loss). Conversly, bigger nets contain more local minima but they have much better loss. Since NN are non-convex it's hard to study these properties mathematically. In practice, you find that if you train a small net the final loss can display a good amount of variance. If you train a large net you'll start to find many different solutions, but the variance in the final achieved loss will be much smaller. \n",
        "\n",
        "![alt text](http://cs231n.github.io/assets/nn1/reg_strengths.jpeg) \n",
        "\n",
        "Effects of regularisation: changing regularization strength makes the nets final decision regions smoother with higher regularisation.\n",
        "\n"
      ]
    },
    {
      "cell_type": "markdown",
      "metadata": {
        "id": "btumq8anyoQk",
        "colab_type": "text"
      },
      "source": [
        "http://cs231n.github.io/neural-networks-2/\n",
        "\n",
        "#Neural Networks 2"
      ]
    },
    {
      "cell_type": "markdown",
      "metadata": {
        "id": "C2W4JHYyHaNz",
        "colab_type": "text"
      },
      "source": [
        "##Data Preprocessing\n",
        "There are 3 common forms of data preprocessing of a data matrix X where X is NxD where N is number of data, D is their dimensionality.\n",
        "\n",
        "**Mean subtraction**: most common, involves subtracting the mean across every individual feature in the data, and has the geometric interpretation of centering the cloud of data around the origin along every dimension. In numpy this is done as: X -= np.mean(X, axis=0). With images for convenience it can be common to subtract a single value from all pixels e.g. X -= np.mean(X) or to do so separately across the three color channels. \n",
        "\n",
        "**Normalization** normalizing data dimensions so they are similar scale. 2 common ways: One is to divide each dimension by its standard deviation, once it has been zero-centered: X /= np.std(X, axis=0). Another form of this preprocessing normalizes each dimension so that the min and max along the dimension is -1 and 1. \n",
        "\n",
        "![alt text](http://cs231n.github.io/assets/nn2/prepro1.jpeg)\n",
        "\n",
        "Middle: zero-centered subtracting mean in each dimension. The data cloud is centered around the origin. Right: Each dimension is scaled by its standard deviation. The red lines indicate the extent of the data - they are of unequal length in the middle, but of equal length on the right.\n",
        "\n",
        "**PCA and whitening**: data is first centered. Then, we can compute the covariance matrix that tells us the correlation structure in the data:\n",
        "```\n",
        "x -= np.mean(X, axis=0)#zero-center data\n",
        "cov = np.dot(X.T, X) / X.shape[0] #get the data covariance matrix\n",
        "```\n",
        "The i,j element contains the covariance between the i-th, j-th dimension of the data. The diagonal of this matrix contains the variances. The covariance matrix is symmetric and positive semi-definite (symmetric matrix M is said to be positive definite if the scalar $z^{T}Mz$ is strictly positive for every non-zero column vector of $z$. $Mz$ = output of M that is acting on input $z$ implying the output always has a positive inner product with the input). We can compute the SVD factorization of the data covariance matrix: \n",
        "```\n",
        "U, S, V = np.linalg.svd(cov)\n",
        "```\n",
        "where the columns of U are the eigenvectors and S is a 1-D array of singular values. To decorrelate the data, we project the original but zero-centered data into the eigenbasis: \n",
        "```\n",
        "Xrot = np.dot(X, U)#decorrelate\n",
        "```\n",
        "Notice the columns of U are a set of orthonormal vectors (norm 1, and orthogonal to each other), so they can be regarded as basis vectors. The projection thus corresponds to a rotation of the data in X so that the new axes are the eigenvectors. If we compute the covariance matrix of Xrot we see its now diagonal. np.linalg.svd returns the value U, with the eigenvector columns sorted by their eigenvalues. We can use this to reduce the dimensionality of the data by only using the top few eigenvectors, and discarding the dimensions along which the data has no variance (keep the principal components that gave the most information). This is sometimes referred to as PCA: \n",
        "```\n",
        "Xrot_reduced = np.dpt(X, Y[:, :100])#Xrot_reduced becomes N x 100\n",
        "```\n",
        "We have now reduced the dataset of size N x D to one of N x 100 keeping 100 dims of the data that contain the most variance. It's often the case you get good performance by training NN's on PCA-reduced datasets saving time and space.\n",
        "\n",
        "**Whitening**: takes the data in the eigenbasis and divides every dimension by the eigenvalue to normalize the scale. The geometric interpretation of this transformation is that if the input data is a multivariable gaussian, then the whitened data will be a gaussian with zero mean and identity covariance matrix. This goes:\n",
        "```\n",
        "#whiten data: divide by eigenvalues which are the square roots of the singular values\n",
        "Xwhite = Xrot / np.sqrt(S + 1e-5)\n",
        "```\n",
        "Warning: Exaggerating noise: note we're adding a small constant 1e-5 to prevent division by zero. One weakness of this transformation is it can exaggerate noise in the data, since it stretches all dimensions (including irrelevant dims of tiny variance that are mostly noise) to be of equal size in the input. This can be mitigated by stronger smoothing i.e. increasing 1e-5. \n",
        "\n",
        "![alt text](http://cs231n.github.io/assets/nn2/prepro2.jpeg)\n",
        "\n",
        "PCA/whitening. **Middle**: after PCA, the data is centered at 0 and then rotated into the eigenbasis of the data covariance matrix. This decorrelates the data (covariance matrix becomes diagonal). **Right**: Each dim is additionally scaled by the eigenvalues, transforming the data covariance matrix into the identity matrix. Geometrically, this corresponds to stretching and squeezing the data into an isotropic gaussian blob.\n",
        "\n",
        "Lets visualise this with Cifar-10 (50,000 images of 3072 stretched row vectors). We can then compute the 3072 x 3072 covariance matrix and compute its SVD decomposition. \n",
        "\n",
        "![alt text](http://cs231n.github.io/assets/nn2/cifar10pca.jpeg)\n",
        "\n",
        "The second from left, shows the top 144 out of 3072 eigenvectors. The top eigenvectors account for most of the variance in the data, and we can see that they correspond to lower frequencies in the images. The second from right, shows 49 images reduced with PCA, using the 144 eigenvectors. Instead of a 3072 vector where each element is the brightness of a pixel. This represents every image wit a 144-D vector where each element measures how much each eigenvector adds up to make an image. To visualize what image information has been retained by 144 vector, we must rotate back into the pixel basis of 3072 numbers. Since U is a rotation, this can be achieved by multiplying by U.transpose()[:144], then visualizing the resulting 3072 numbers as the image. They are blurry reflecting the fact that the top eigenvectors capture lower frequencies. Most of the info is still preserved. Right: visualization of white representation, where the variance along every one of 144-D is squashed to equal length. The 144 numbers are rotated back by multiplying U.transpose()[:144]. The lower frequencies which accounted for most variance are now negligible, while higher frequencies which account for little variance become exaggerated.\n",
        "\n",
        "The data mean must be computed on the training data, then applied to the validation / test data. E.g. compute the mean and subtract from every image across entire dataset then split into train/val/test would be a mistake, the mean must be computed only over training then subracted equally from all splits (train/val/test).\n",
        "\n",
        "##Weight Initialization\n",
        "\n",
        "**Pitfall: all zero initialization:** This is a bad idea, because if every neuron in the net computes the same output, then they will compute the same gradients during backprop and undergo the same parameter updates. There is no asymmetry between neurons if their weights are initialized to be the same. \n",
        "\n",
        "**Small random numbers**. We still want weights to be close to zero since with data norm it is reasonable to assume that approximately half the weights will be positive and half negative. It is common to init weights of neurons to small numbers called symmetry breaking. The idea being the neurons are all random and unique in the beginning, so they will compute distinct updates. This might look like: ``` W = 0.01*np.random.randn(D,H)``` where randn samples from a zero mean, unit standard deviation gaussian. The weights are init as a random vector sampled from a multi-dimensional gaussian, so the neurons point in random directions in the input space. NB: not always the case small numbers work better, as this produces small gradients during backprop, since the gradient is proportional to the value of the weights. This could diminish the gradient signal flowing back. \n",
        "\n",
        "**Calibrating the variances with 1/sqrt(n)**. One problem with above method is the distribution of outputs from a randomly initialized neuron has a variance that grows with number of inputs. We can normalize the variances of each neuron's output to 1 by scling its weight vector by the square root of its fan-in (number of inputs). ```w = np.random.randn(n)/sqrt(n) #n num of inputs```. This improves rate of convergence and ensures the output distribution is approx the same for all neurons. \n",
        "\n",
        "The derivation is as follows: consider the inner product $s = \\sum_i^n w_i x_i$ between the weigths and input w,x which gives the activation pre non-linearity.  \n",
        "$\\begin{align}\n",
        "\\text{Var}(s) &= \\text{Var}(\\sum_i^n w_ix_i) \\\\\\\\\n",
        "&= \\sum_i^n \\text{Var}(w_ix_i) \\\\\\\\\n",
        "&= \\sum_i^n [E(w_i)]^2\\text{Var}(x_i) + E[(x_i)]^2\\text{Var}(w_i) + \\text{Var}(x_i)\\text{Var}(w_i) \\\\\\\\\n",
        "&= \\sum_i^n \\text{Var}(x_i)\\text{Var}(w_i) \\\\\\\\\n",
        "&= \\left( n \\text{Var}(w) \\right) \\text{Var}(x)\n",
        "\\end{align}$\n",
        "\n",
        "NB: variance is the expectation of the squared deviation of a random variable from its mean. The spread of a set of random numbers are spread out from their average value. The variance is the square of the standard deviation and the covariance (measure of the joint variability of two random vars. If the greater values of one var mainly correspond with greater values of the other then the covariance is positive) of the random variable with itself. \n",
        "\n",
        "The first two steps are the properties of variance. In the third step, we assumed zero mean inputs and weights, so $E[x_i] = E[w_i] = 0$. We assumed all $w_i,x_i$ are identically distributed. From this, we see we want s to have the same variance as x, then during initialization we ensure the variance of every weight w is $1/n$. Since $\\text{Var}(aX) = a^2\\text{Var}(X)$ for a random variable $X$ and a scalar a, this implies we should draw from unit gaussian and scale it by $a = \\sqrt{1/n}$, to make sure its variance $1/n$. This gives initialization ``` w = np.random.randn(n) / sqrt(n)```.\n",
        "\n",
        "The study Understanding the difficult of training deep FF NN by Glorot et al. recommend an initialization of the form $\\text{Var}(w) = 2/(n_{in} + n_{out})$ where $n_{in},n_{out}$ are the number of units in the prev layer and next layer. A recent paper (Delving Deep into Rectifiers) by He et al., derives an initialization for ReLU neurons, concluding the variance of neurons in the network $2.0/n$. THis gives ```w = np.random.randn(n) * sqrt(2.0/n) ```, and is current recommendation for use in practice in specific case of NN with relus. \n",
        "\n",
        "**Sparse initialization**: set all weights to 0 but break symmetry as every neuron is randomly connected (with weights sampled from small gaussian as above) to a fixed number of neurons below it. A typical number of neurons to connect may be as small as 10.\n",
        "\n",
        "**Initializing the biases**: Common to init biases to 0, since asymmetry breaking is provided by the small random numbers in the weights. For ReLU some like to use small const 0.01 for all biases, ensuring the ReLU fire in the beginning and obtain gradients (not dying). \n",
        "\n",
        "**In practice** for ReLU use ``` w = np.random.randn(n) * sqrt(2.0/n) ``` as discussed in He et al. \n",
        "\n",
        "**Batch Norm**: by loffe and Szegedy called batch nor alleviating a lot of headaches with properly initializing NN by forcing activations throughout a network to take on a unit gaussian distribution at the beginning of training. Batch norm is a simple differentiable operation. Usually insert batch norm after a FC layer or Conv and before non-linearities. Batch Norm is robust to bad initialization. Can be seen as preprocessing at every layer differentiably. \n",
        "\n",
        "##Regularisation\n",
        "\n",
        "Several methods for controlling overfitting:\n",
        "\n",
        "**L2 Regularisation** penalisez the squared magnitude of all parameters directly in the objective. For every weight $w$, we add the term $\\frac{1}{2} \\lambda w^2$ to the objective where $\\lambda$ is the regularization strength. It is common to see the factor $\\frac{1}{2}$ in front because the gradient of this term w.r.t the parameter $w$ is simply $\\lambda w$ instead of $2 \\lambda w$. The L2 regularisaiton has the intuitive interpretation of heavily penalizing peaky weight vectors and preferring diffuse weight vectors. This has the effect of encouraging the network to use all of its inputs rather than some of its inputs a lot. Lastly, during gradient descent parameter update, using L2 means that every weight is decayed linearly: ``` W += - lambda * W ``` towards zero.\n",
        "\n",
        "**L1 Regularisation** is another common form, where for each weight $w$ we add the term $\\lambda |w|$ to the objective. You can combine L1 and L2: $\\lambda_1 |w| + \\lambda_2 w^2$ (this is called Elastic net regularisation). L1 has the property of leading weight vectors to become sparse during optimisation ( i.e. close to 0). In other words, neurons with L1 end up using only a sparse subset of their most important inputs and become nearly invariant to noisy inputs. \n",
        "\n",
        "**Max norm constraints**. Another form is to enforce an absolute upper bound on the magnitude of the weight vector for every neuron and use projected gradient descent to enforce the constraint. This corresponds to performing the parameter update as normal, then enforcing the constraint by clamping the weight vector $\\overrightarrow{w}$ of every neuron to satisfy $||\\overrightarrow{w}||_2 < c$. Typical values of $c$ are on orders of 3 or 4. One of this methods appealing properties is that the network cannot explode when learning rates are set too high because the updates are bound.\n",
        "\n",
        "**Dropout** is extremely effective and simple that complements other methods L1, L2, maxnorm. While training, dropout is implemented by keeping a neuron active with some probability $p$ or setting them to inactive. It can be interpreted as sampling a NN within a full NN and only updating the parameters of the sampled network based on the input data. Dropout is not applied at test with the interpretation of evaluating an averaged prediction across the exponentially-sized ensemble of all sub-networks. \n",
        "```\n",
        "#Vannila dropout\n",
        "\n",
        "p= 0.6\n",
        "\n",
        "def train_step(x):\n",
        "H1 = np.maximum(0, np.dot(W1, X) + b1)\n",
        "U1 = np.random.randn(*H1.shape) < p #first dropout mask\n",
        "H1 *= U1 #drop\n",
        "H2 = np.maximum(0, np.dot(W2, H1) + b2)\n",
        "U2 = np.random.randn(*H2.shape) < p #second dropout mask\n",
        "H2 *= U2 #drop\n",
        "out = np.dot(W3, H2) + b3\n",
        "\n",
        "def predict(X):\n",
        "H1 = np.maximum(0, np.dot(W1, X) + b1) * p # NOTE: scale the activations\n",
        "  H2 = np.maximum(0, np.dot(W2, H1) + b2) * p # NOTE: scale the activations\n",
        "  out = np.dot(W3, H2) + b3\n",
        "```\n",
        "It is possible to perform dropout on the input layer by binary masking for the input. \n",
        "\n",
        "In predict we dont use dropout but scale both hidden layer outputs by $p$. With dropout the expected output from this neuron will become $px + (1-p)0$, because the neuron's output will be set to zero with probability $1-p$. At test, we keep the neuron always active, we must adjust $x \\rightarrow px$ to keep the same expected output. Scaling at test time is not preferable so we prefer to use inverted dropout, which performs the scaling at train time, leaving the forward pass untouched. \n",
        "\n",
        "**Theme of noise in forward pass**. Dropout falls into a more general category of methods that introduce stochastic behavior in the forward pass of the net. During test, noise is marginalized over analytically (as is the case with dropout when multiplying by $p$), or numerically (e.g. via sampling, by performing several forward passes with different random decisions and then averaging over them). Another similar method is DropConnect where random sets of weights are set to zero (dropping the connections). CNN's also take advantage of this theme with methods such as stochastic pooling, fractional pooling and data augmentation.\n",
        "\n",
        "**Bias regularization**. It is not common to regularize the bias since it does not interact with the data multiplicatively, and doesn't control the influence of data on the final objective like the weights. This often improves results since the classifier can afford to use the biases if it needs them to obtain a better data loss. \n",
        "\n",
        "**Per-layer regularisation**. \n",
        "\n",
        "**In practice**: it is common to use a global L2 regularisation strength that is cross validated and combine this with dropout at 0.5.\n",
        "\n",
        "##Loss functions\n",
        "\n",
        "The second part of an objective is the data loss, which in supervised learning measure the compatibility between a prediction and ground truth. The data loss takes the form of an average over the data losses for every individual example. That is, $L = \\frac{1}{N} \\sum_i L_i$ where N is the number of training data. Lets abbreviate $f = f(x_i;W)$ to be the activations of the output layer. There are several problems you want to solve in practice:\n",
        "\n",
        "**Classification**. Let's assume a dataset of examples and a single correct label. One of two most common cost functions is SVM e.g. the Weston Watkins formulation: \n",
        "\n",
        "$L_i = \\sum_{j\\neq y_i} \\max(0, f_j - f_{y_i} + 1)$ \n",
        "\n",
        "The squared hing loss is the same but with a squared term $\\max(0, f_j - f_{y_i} + 1)^2$. The second common choice is the Softmax classifier that uses cross-entropy loss:\n",
        "\n",
        "$L_i = -\\log\\left(\\frac{e^{f_{y_i}}}{ \\sum_j e^{f_j} }\\right)$\n",
        "\n",
        "**Problem: Large number of classes**. When the set of classes is very large, it may be helpful to use *Hierarchical Softmax*. This decomposes labels into a tree. Each label is then represented as a path along the tree, and a softmax classifier is trained at every node of the tree to disambiguate between left and right branch. \n",
        "\n",
        "**Attribute classification**. Both lossess assume there is a single correct answer, but what is $y_i$ is a binary vector where every example may or may not have a certain attribute, and where attributes are not exclusive? For example, images on Instagram can be thought of as labeled with a certain subset of hashtags from a large set of all hashtags, and an image may contain multiple. An approach to this is to build a binary classifier for every single attribute independently. For example, a binary classifier for each category independently would take the form: \n",
        "\n",
        "$L_i = \\sum_j \\max(0, 1 - y_{ij} f_j)$\n",
        "\n",
        "where the sum is over all categories $j$ and $y_{ij}$ is either +1 or -1 depending on whether the i-th example is labeled with the j-th attribute and the score vector $f_j$ will be positive when the class is predicted to be present and negative otherwise. The loss is accumulated if a positive example has a score less than +1 or when a negative example has a score > -1. \n",
        "\n",
        "An alternative is to train a logistic regression classifier for every attribute independently. A binary logistic regression classifier has only 2 classes (0,1) and calculates a probability of class 1 as: \n",
        "\n",
        "$P(y = 1 \\mid x; w, b) = \\frac{1}{1 + e^{-(w^Tx +b)}} = \\sigma (w^Tx + b)$\n",
        "\n",
        "Since probabilities of class 1 and 0 sum to one, the probability for class 0 is $P(y = 0 \\mid x; w, b) = 1 - P(y = 1 \\mid x; w,b)$. Hence, an example is classified as a positive example y=1 if $\\sigma (w^Tx + b) > 0.5$ or equivalently if the score $w^Tx +b > 0$. The loss function then maximizes the log likelihood of this probability. This simplifies to: \n",
        "\n",
        "$L_i = \\sum_j y_{ij} \\log(\\sigma(f_j)) + (1 - y_{ij}) \\log(1 - \\sigma(f_j))$\n",
        "\n",
        "where $y_{ij}$ are assumed to be either 1 or 0 and the $\\sigma$ is sigmoid function.The gradient on $f$ is extremely simple and intuitive: $\\partial{L_i} / \\partial{f_j} = y_{ij} - \\sigma(f_j)$.\n",
        "\n",
        "**Regression** is the task of predicting real-valued quantities. For this is is common to compute the loss between predicted and true answer and measure the L2 squared norm or L1 norm of the difference. L2 norm squared:\n",
        "\n",
        "$L_i = \\Vert f - y_i \\Vert_2^2$\n",
        "\n",
        "The reason L2 norm is squared in the objective is that the gradient becomes simpler, without changing the optimal parameters since squared is a monotonic operation. The L1 norm is formulated by summing the absolute value along each dimension: \n",
        "\n",
        "$L_i = \\Vert f - y_i \\Vert_1 = \\sum_j \\mid f_j - (y_i)_j \\mid$\n",
        "\n",
        "where the sum is over all dimensions of the desired prediction. Looking at the j-th dimension of the i-th example and denoting the difference between the true and predicted value by $\\delta_{ij}$, the gradient for this dimension is easily derived to be either $\\delta_{ij}$ with L2 norm or $sign(\\delta_{ij})$. That is, the gradient on the score will either be directly proportional to the difference in the error or will be fixed and only inherit the sign of the difference.\n",
        "\n",
        "NB: L2 is harder to optimize than softmax. For the softmax precise scores are less important it only matters that their magnitudes are appropriate. Outliers in L2 can bring huge gradients. \n",
        "\n",
        "**Structured prediction**. The structured loss refers to a case where the labels can be arbitrary structures such as graphs, trees. The space of structures is very large. The basic idea behind structured SVM loss is to demand a margin between the correct structure $y_i$ and the highest scoring incorrect structure. Special solvers are devised so that the simplifying assumptions of the structure space can be taken advantage of. \n"
      ]
    },
    {
      "cell_type": "markdown",
      "metadata": {
        "id": "7j7IsHI7zOgt",
        "colab_type": "text"
      },
      "source": [
        "#Neural Networks 3\n",
        "\n",
        "http://cs231n.github.io/neural-networks-3/"
      ]
    },
    {
      "cell_type": "markdown",
      "metadata": {
        "id": "rzXuqkilzQrp",
        "colab_type": "text"
      },
      "source": [
        "##Gradient Checks\n",
        "\n",
        "In theory, performing a gradient check is as simple as comparing the analytic gradient to numerical gradient. In practice this is much more error prone.\n",
        "\n",
        "**Use centered formula**. The formula you may have seen for the finite difference approximation when evaluating the numerical gradient looks as follows: $\\frac{df(x)}{dx} = \\frac{f(x + h) - f(x)}{h} \\hspace{0.1in} \\text{(bad, do not use)}$ where $h$ is a very small number (1e-5). In practice it is much better to use the centered difference formula: $\\frac{df(x)}{dx} = \\frac{f(x + h) - f(x - h)}{2h} \\hspace{0.1in} \\text{(use instead)}$\n",
        "\n",
        "This requires you to evaluate the loss function twice to check every single dimension so it is doubly expensive but the gradient approximation is more precise. To see this, use Taylor expansion of $f(x+h)$ and $f(x-h)$ and verify that the first formula has an error on order $O(h)$, while the second formula only has erorr terms on order of $O(h^2)$ i.e. it is a second order approximation.\n",
        "\n",
        "**Use relative error for comparison**. How do we know if the numerical and analytic gradient are not compatible? You might keep track of the difference or its square and define the gradient check as failed if that difference is above a threshold. This leads to problems. In the case where their difference is 1e-4. This seems like a match. But if the gradients both on order of 1e-5 or lower, we'd consider 1e-4 a huge difference and a likely failure. It is more appropriate to consider the relative error: \n",
        "\n",
        "$\\frac{\\mid f'_a - f'_n \\mid}{\\max(\\mid f'_a \\mid, \\mid f'_n \\mid)}$\n",
        "\n",
        "which considers their ratio of differences to the ratio of absolute values of both gradients. Notice the formula includes one of two terms, but it is preferred to max or add both to make it symmetric and prevent dividing by zero. One must keep track of the edge case where both are zero and pass. In practice:\n",
        "\n",
        "- relative error > 1e-2 means gradient might be wrong\n",
        "- 1e-2 > relative error > 1e-4 is uncomfortable\n",
        "- 1e-4 > relative error is usally okay for objectives with kinks, if there are no kinks this is too high\n",
        "- 1e-7 and less you should be happy\n",
        "\n",
        "The deeper the network the higher the relative error. \n",
        "\n",
        "**Use double precision** floating points to compute gradient check. Relative error can decrease from 1e-2 to 1e-8 by switching to double precision.\n",
        "\n",
        "**Stick around active range of floating point**. It is common to normalize the loss function over the batch. If your gradients per data points are very small, then dividng them by the number of data points will give very small numbers which leads to more numerical issues. \n",
        "\n",
        "**Kinks in the objective**. One source of inaccuracy is the problem of kinks. These are non-differentiable parts of an objective function such as ReLU or SVM loss. Consider checking the gradient of ReLU where x=-1e-6 and since x<0 the analytic gradient will be exactly 0. However, the numeric gradient would compute a non-zero gradient because $f(x+h)$ might cross over the kink and introduce a non-zero contribution. \n",
        "\n",
        "**Using only few datapoints**. One fix to the above is to use fewer datapoints, since loss functions that contain kinks will have fewer kinks with fewer datapoints, it is less likely for you to cross one when you perform finite difference approximation. \n",
        "\n",
        "**Be careful with step size h**. The smaller may not be better, because when $h$ is much smaller, you may run into numerical precision problems. It is possible if you change $h$ to 1e-4 or 1e-6 the gradient check will suddenly be correct. \n",
        "\n",
        "**Gradcheck during a \"characteristic\" mode of operation.** It is important that a gradient check is performed at a particular (usually random) point in the space of parameters. Even if it succeeds at that point it doesn't guarantee the gradient is implemented correctly globally. \n",
        "\n",
        "**Don't let regularization overwhelm the data**. It is often the case the loss function is a sum of the data loss and the regularization loss (e.g. L2 penalty on weights). Regularization loss may overwhelm the data loss, in which case the gradients will primarily come from the regularization term (which has a simpler gradient expression). So turn off regularisation and check the data loss alone first. \n",
        "\n",
        "**Remember to turn off dropout/augmentations.** Remember to turn off any non-deterministic effects in the network such as dropout or random data augmentation. Do this by using a random seed before evaluating the gradient checks.\n",
        "\n",
        "**Check only few dimensions**. In practice gradients can have sizes of millions of parameters. In such a case it is practical to check some of the dimensions and assume others are correct. \n",
        "\n",
        "##Before Learning: Sanity Checks\n",
        "\n",
        "- **Look for correct loss at chance performance**. Make sure you're getting the loss you expect when you initialize with small parameters. \n",
        "- Increasing regularization should increase the loss\n",
        "- **Overfit a tiny subset of data**. Train on a small sample and make sure you can achieve zero cost. Also set regularization to 0, otherwise this can prevent 0 cost. Unless you pass this don't proceed with the full dataset. \n",
        "\n",
        "\n",
        "\n"
      ]
    },
    {
      "cell_type": "markdown",
      "metadata": {
        "id": "y7I8v_IELCy5",
        "colab_type": "text"
      },
      "source": [
        "##Babysitting the learning process\n",
        "\n",
        "There are many useful quantities you should monitor during training. The x axis is always epochs, which measure how many times every example has been seen during training (1 epoch = each training example has been seen once). \n",
        "\n",
        "####Loss function\n",
        "\n",
        "The first quantity to track is the loss as it is evaluated on individual batches during the forward pass. \n",
        "\n",
        "![alt text](http://cs231n.github.io/assets/nn3/learningrates.jpeg)\n",
        "\n",
        "This shows the effects of different learning rates. Low learning rates are slow but linear. Higher learning rates are quicker to converge but get stuck at worse values see green.\n",
        "\n",
        "![alt text](http://cs231n.github.io/assets/nn3/loss.jpeg)\n",
        "\n",
        "This depicts the Loss function over time, it may indicate too small a learning rate based on its speed of decay and batch size is too low given the cost is a little too noisy.\n",
        "\n",
        "The amount of wiggle in the loss is related to batch size. \n",
        "\n",
        "####Train/Val accuracy\n",
        "\n",
        "The second this to track is the validation/training accuracy giving you indications of overfitting.\n",
        "\n",
        "![alt text](http://cs231n.github.io/assets/nn3/accuracies.jpeg)\n",
        "\n",
        "The gap between the training and validation accuracy indicates overfitting. The blue validation error shows weak validation accuracy compared to training showing overfitting. \n",
        "\n",
        "####Ratio of weights: updates\n",
        "\n",
        "The last thing is the ratio of update magnitudes to the value magnitudes. Note: updates are not the raw gradients (in vanialla sgd this would be the gradient multiplied by the learning rate). You may want to evaluate and track this ratio for every set of parameters independently. A good ratio is 1e-3, if lower than this the learning rate may be too low. \n",
        "\n",
        "```\n",
        "#assume param vector W and its gradient dW\n",
        "param_scale = np.linalg.norm(W.ravel())#\n",
        "\"\"\"\n",
        ">>> x = np.array([[1, 2, 3], [4, 5, 6]])\n",
        ">>> print(np.ravel(x))\n",
        "[1 2 3 4 5 6]\n",
        "\"\"\"\n",
        "update = -learning_rate * dW #simple sgd update\n",
        "update_scale = np.linalg.norm(update.ravel())\n",
        "W += update #actual update\n",
        "print(update_scale / param_scale)#want ~1e-3\n",
        "```\n",
        "\n",
        "####Activation/ Gradient distributions per layer\n",
        "\n",
        "An incorrect initialization can slow down or halt the learning process. To mitigate, plot activation/gradient histograms for all layers. Strange distributions are what we then look for.\n",
        "\n",
        "####First-layer Visualizations\n",
        "\n",
        "It may be helpful to plot the first layer features visually. \n",
        "\n"
      ]
    },
    {
      "cell_type": "markdown",
      "metadata": {
        "id": "6cX2FVU5NZy0",
        "colab_type": "text"
      },
      "source": [
        "##Parameter updates\n",
        "\n",
        "Once the analytic gradient is computed with backprop, the gradients are used to perform a parameter update. There are several approaches to perform the update.\n",
        "\n",
        "####SGD and bells and whistles\n",
        "\n",
        "**Vanilla update**. The simplest form is to change the parameters along the negative gradient direction (since gradient shows direction of steepest ascent). Assuming vector of parameters x and gradient dx, the simplest update has the form:\n",
        "\n",
        "```\n",
        "x += - learning_rate * dx\n",
        "```\n",
        "where learning_rate is a hyper-parameter and a fixed constant.\n",
        "\n",
        "**Momentum update** is another approach that converges better. The loss can be interpreted as the height of a hilly terrain and therefore also to the potential energy since $U = mgh$ and thus $U \\propto h$. Initializing the parameters with random numbers is the same as setting a particle with zero initial velocity at some location. Optimization can be seen as the process of simulating the parameter vector (a particle) as rolling on the landscape. \n",
        "\n",
        "Since the force of the particle is related to the gradient of potential energy i.e. $F = - \\nabla U$ tthe force felt by the particle is precisely the negative gradient of the loss. Moreover, $F=ma$ so the negative gradient is in this view proportional to the acceleration of the particle. In SGD update the gradient integrates the position, here, the gradient only directly influences the velocity, which in turn has an effect on the position. \n",
        "\n",
        "```\n",
        "#Momentum update\n",
        "\n",
        "v = mu * v - learning_rate * dx #integrate velocity\n",
        "x += v # integrate position\n",
        "```\n",
        "\n",
        "Here v variable is initialized at 0 and an additional hyperparameter mu. It is mistaken as the variable for momentum (usually set at 0.9) but is more akin to the coefficient of friction. This variable damps the velocity and reduces the kinetic energy of the system, otherwise the particle would never come to a stop at the bottom of a hill. This parameter is usually set to 0.5, 0.9, 0.95. Similar to annealing schedules for learning rate, optimization can benefit from momentum schedules, where momentum is increased in later stages of learning. \n",
        "\n",
        "\"With momentum update, the parameter vector will build up velocity in any direction that has a consistent gradient\".\n",
        "\n",
        "**Nesterov Momentum** is slightly different to momentum. The core idea is that when the current parameter vector is at some position x, then looking at the momentum update above, we know that the momentum term alone (ignoring the second term with the gradient) is about to nudge the parameter vector by mu * v. Thus, if we are about to compute the gradient, we can treat the future approximation position x + mu * v as a lookahead - this is a point in the vicinity of where we are soon going to end up. Hence it makes sense to compute the gradient at x + mu * v instead of at the old/stale position x. \n",
        "\n",
        "![alt text](http://cs231n.github.io/assets/nn3/nesterov.jpeg)\n",
        "\n",
        "Instead of evaluating the gradient at the current position (red circle), we know that our momentum is about to carry us to the tip of the green arrow. We thus instead evaluate the graient at this looked ahead position.\n",
        "\n",
        "We would like to do the following:\n",
        "\n",
        "```\n",
        "x_ahead = x + mu * v\n",
        "#evaluate the dx_ahead (the gradient at x_ahead instead of x)\n",
        "v = mu * v - learning_rate * dx_ahead\n",
        "x += v\n",
        "```\n",
        "\n",
        "In practice people make it look like vanilla sgd. This is done by changing the above with a variable transform x_ahead = x + mu * v, and then expressing the update in terms of x_ahead instead of x. \n",
        "\n",
        "```\n",
        "v_prev = v # keep copy\n",
        "v = mu * v - learning_rate * dx #velocity update is the same\n",
        "x += -mu * v_prev + (1 + mu) * v #position update changes form\n",
        "```\n",
        "\n",
        "####Annealing the learning rate\n",
        "\n",
        "It is helpful to anneal the learning rate over time. With a high learning rate, the system has too much kinetic energy and the parameter vector bounces around eratically, unable to settle down. Knowing when to decay the learning rate (lr) can be tricky: Decay it slowly you bounce too much, too fast and you wont converge quickly enough. There are 3 types of lr deacy:\n",
        "\n",
        "- **Step decay**: reduce the lr by some factor every few epochs. \n",
        "- **Exponential decay**. Has the form $\\alpha = \\alpha_0 e^{-k t}$ where $\\alpha_0, k$ are hyperparameters and $t$ is the iteration number. \n",
        "- **1/t decay** has the form $\\alpha = \\alpha_0 / (1 + k t )$ where $\\alpha_0, k$ are hyperparameters and $t$ is the iteration number. \n",
        "\n",
        "Step decay is preferable but there have been advances in this area. \n",
        "\n",
        "Super-Convergence: Very Fast Training of Neural Networks Using Large Learning Rates, https://arxiv.org/abs/1708.07120. The idea being that large learning rates act as a regularizer, reducing the need for other regularization. \n",
        "\n",
        "Cyclical Learning Rates for Training Neural Networks\n",
        ": https://arxiv.org/pdf/1506.01186.pdf . The idea behind cyclical learning rates removes the need for monotonically decreasing the learning rate but setting a \"reasonable boundary\" of values. \n",
        "\n",
        "We start with small lr then increase it linearly or exponentially. To achieve super-convergence a One-cycle policy is used which requires specifying minimum and maximum lr bounds. One cycle involves two step sizes, one in which the lr increases from min to max and decreases from max to min. The intuition behing that the lr starts small to allow convergence to begin but as the net traverses, the lr becomes large allow faster traversal. During the latter stages as we try to reach a local minimum, the lr is reduced. Training with large learning rates acts as a regularizer. \n",
        "\n",
        "####Second order methods\n",
        "\n",
        "Another popular method for optimization is based on Newton's method which iterates the following update: \n",
        "\n",
        "$x \\leftarrow x - [H f(x)]^{-1} \\nabla f(x)$\n",
        "\n",
        "Here $H f(x)$ is the Hessian matrix (which is a square matrix of second-order partial derivatives). The term $\\nabla f(x)$ is the gradient vector. The Gessian describes the local curvature of the loss function, which allows us to perform a more efficient updaet. Multiplying by the inverse Hessian leaads the optimization to take more aggressive steps in directions of shallow curvature and shorter steps in directions of steep curvature. This requires no learning rate hyperparameter unlike the first-order methods.\n",
        "\n",
        "This is impractical since computing and inverting the Hessian is costly. E.g. a NN with 1 million parameters would have a Hessian of 1million x 1million, needing 3725 gigabytes of RAM. \n",
        "\n",
        "####Per-parameter adaptive learning rate methods\n",
        "\n",
        "All previous approaches manipulated the lr globally and equally for all parameters. Tuning lr's is expensive and lots of effort has gone into adaptively tuning lrs and even per parameter. Below are some common adaptive methods:\n",
        "\n",
        "**Adagrad** :\n",
        "\n",
        "```\n",
        "#Assume the gradient dx and parameter vector x\n",
        "cache += dx**2\n",
        "X += - learning_rate * dx / (np.sqrt(cache) + eps)\n",
        "```\n",
        "Note cache has size equal to the size of the gradient and keeps track of per-parameter sum of squared gradients. This normalizes the update step element-wise. Weigts that receive high gradients have their effective lr reduced, whereas weights with small or infrequent updates have their lr increased. The smoothing term eps avoids division by 0. Often too aggressive.\n",
        "\n",
        "**RMSpop**. This adjusts the Adagrad method to reduce aggressiveness, monotonically decreasing the learning rate. It uses a moving average of squared gradients instead:\n",
        "\n",
        "```\n",
        "cache = decay_rate * cache + (1 - decay_rate) * dx**2\n",
        "x += - learning_rate * dx / (np.sqrt(cache) + eps)\n",
        "```\n",
        "\n",
        "Decay rate is a hyperparameter. Notice x+= update is identical to Adagrad but the cache variable is leaky. Hence it modulates the lr of each weight based on the magnitudes of its gradients. \n",
        "\n",
        "**Adam** like RMSProp with momentum.\n",
        "\n",
        "```\n",
        "m = beta1 * m + (1 - beta1) * dx\n",
        "v = beta2 * v + (1 - beta2) * (dx**2)\n",
        "x += - learning_rate * m / (np.sqrt(v) + eps)\n",
        "```\n",
        "This is the same as RMSprop but with the smooth version of the gradient m instead of raw noisy gradient vector dx. The full adam has a bias correction mechansim as in the first few steps vectors m,v are initialized and biased at 0, before they fully warm up:\n",
        "```\n",
        "#t is your iteration counter going from 1 to infinity\n",
        "m = beta1 * m + (1 - beta1) * dx\n",
        "mt = m / (1-beta**t)\n",
        "v = beta2 * v + (1 - beta2) * (dx**2)\n",
        "vt = v / (1 - beta2 ** t)\n",
        "x += - learning_rate * mt / (np.sqrt(vt) + eps)\n",
        "```\n",
        "\n",
        "![alt text](http://cs231n.github.io/assets/nn3/opt2.gif)\n",
        "![alt text](http://cs231n.github.io/assets/nn3/opt1.gif)\n",
        "\n",
        "\n"
      ]
    },
    {
      "cell_type": "markdown",
      "metadata": {
        "id": "YympLMWobLcW",
        "colab_type": "text"
      },
      "source": [
        "##Hyperparameter optimization\n",
        "\n",
        "The most common hyperparameters are: initial lr, lr decay schedule, regularisation strength.\n",
        "\n",
        "**Prefer one validation fold to cross-validation.** In most cases a single validation set of respectable size simplifies the code base without the need for cross-validation. \n",
        "\n",
        "Search for hyperparameters of log scale. That is generate a random number from a uniform distribution then raising it to the power 10. ```lr = 10 ** uniform(-6, 1)```. \n",
        "\n",
        "**Prefer random search to grid search**. Randomly chosen trials are more efficient for hyper-parameter optimization than trials on a grid.\n",
        "\n",
        "![alt text](http://cs231n.github.io/assets/nn3/gridsearchbad.jpeg)\n",
        "\n",
        "##Evaluation\n",
        "\n",
        "####Model Ensembles\n",
        "\n",
        "One reliable approach to improve performance is to train multiple independent models and at test average their predictions. Ensemble methods:\n",
        "\n",
        "- **Same model, different initializations**\n",
        "- **Top models discovered during cross-validation**. Use cv to determine best hyperparams and pick top few models to form the ensemble.\n",
        "- **Different checkpoints of a single model**. Take different checkpoints of a single network and using those to form an ensemble.\n",
        "- **Random average of parameters during training**. Maintain a second copy of the networks weights that maintains an exponentially decaying sum of previous weights during training. This way you're averaging the state of the network over last several iterations. This smoothed version of the weights gets better validation error. "
      ]
    },
    {
      "cell_type": "markdown",
      "metadata": {
        "id": "IENuNvwBF2Ea",
        "colab_type": "text"
      },
      "source": [
        "####Floating point arithmetic\n",
        "https://docs.oracle.com/cd/E19957-01/806-3568/ncg_goldberg.html\n",
        "\n"
      ]
    },
    {
      "cell_type": "markdown",
      "metadata": {
        "id": "oI9ZQxSqAS1t",
        "colab_type": "text"
      },
      "source": [
        "####Taylor Series\n",
        "\n",
        "A Taylor series is an expansion of a function into an infinite sum of terms, with increasing exponents of a variable. It says that the function $e^x$ is equal to the infinite sum of terms $1 + x+ x^2/2! + x^3/3! + ...$. \n",
        "\n",
        "![alt text](https://www.mathsisfun.com/algebra/images/taylor-cos-2.gif)\n",
        "\n",
        "![alt text](https://www.mathsisfun.com/algebra/images/taylor-cos-4.gif)\n",
        "\n",
        "![alt text](https://www.mathsisfun.com/algebra/images/taylor-cos-6.gif)\n",
        "\n",
        "![alt text](https://www.mathsisfun.com/algebra/images/taylor-cos-8.gif)\n",
        "\n",
        "\n",
        "How can we turn a function into a series of power terms?\n",
        "\n",
        "First we want to have this expansion: \n",
        "\n",
        "$f(x) = c0 + c1(x-a) + c2(x-a)^2 + c3(x-a)^3 + ...$ \n",
        "\n",
        "Then we choose a value of $a$ and work out the $c_0, c_1...$ \n",
        "\n",
        "This is done using derivatives. To get $c_0$ chose $x=a$ so all the $(x-a)$ terms become zero leaving us with: $f(a)=c_0$ so $c_0=f(a)$. To get $c_1$ take the derivative of f(x): $f’(x) = c1 + 2c_2(x-a) + 3c_3(x-a)^2 + ...$ with $x=a$ all the $(x-a)$ terms become zero: \n",
        "\n",
        "$f^\\prime(a) = c_1$ so $c_1=f\\prime(a)$ \n",
        "\n",
        "To get $c_2$ do the derivative again: $f’'(x) = 2c_2 + 3*2*c_3(x-a) +...$ There is a pattern emerging, each term is the next higher derivative, divided by all the exponents so far multiplied together (for which we use the factorial notation, e.g. 3! =3x2x1). And we get: \n",
        "\n",
        "$f(x) = f(a) + \\frac{f'(a)}{ 1!} (x-a) +  \\frac{f'(a)}{ 2!}(x-a)^2 +   \\frac{f'''(a)}{ 3!}(x-a)^3 + ...$ Now we have a way to find our taylor series:\n",
        "\n",
        "**For each term: take the next derivative, divide by n!, multiply by $(x-a)^n$.\n",
        "\n",
        "Lets do the Taylor Series for cos(x). Start with:\n",
        "\n",
        "\n",
        "$f(x) = f(a) + \\frac{f'(a)}{ 1!} (x-a) +  \\frac{f'(a)}{ 2!}(x-a)^2 +   \\frac{f'''(a)}{ 3!}(x-a)^3 + ...$\n",
        "\n",
        "\n",
        "The derivative of cos is -sin and the derivative of sin is cos so: \n",
        "\n",
        "$f(x)=cos(x)\n",
        "f'(x)=-sin(x)\n",
        "f''(x)=-cos(x)\n",
        "f'''(x)=sin(x)\n",
        "f''''(x)=cos(x)\n",
        "f'''''(x)-sin(x) \n",
        ".... \\text{so on}\n",
        "$\n",
        "\n",
        "So plug this into the starting formula we get:\n",
        "\n",
        "$cos(x) = cos(a) - \\frac{sin(a)}{ 1!}(x-a) - \\frac{cos(a)}{ 2!}(x-a)^2 +  \\frac{sin(a)}{ 3!}(x-a)^3 + \\frac{cos(a)}{4!}(x-a)^4 - \\frac{-sin(a)}{5!}(x-a)^5...$\n",
        "\n",
        "Now set a=0, which makes cos(0)=1 and sin(0)=0:\n",
        "\n",
        "$cos(x) = 1 - \\frac{0}{ 1!}(x-0) - \\frac{1}{ 2!}(x-0)^2 +  \\frac{0}{ 3!}(x-0)^3 + \\frac{1}{4!}(x-0)^4 - \\frac{0}{5!}(x-0)^5...$\n"
      ]
    },
    {
      "cell_type": "markdown",
      "metadata": {
        "id": "wgM24wQ2eoIM",
        "colab_type": "text"
      },
      "source": [
        "#Putting it all together\n"
      ]
    },
    {
      "cell_type": "markdown",
      "metadata": {
        "id": "XTruDEahetkL",
        "colab_type": "text"
      },
      "source": [
        "Complete implementation of NN in 2-d. Starting with a linear classifier then to a 2-layer NN."
      ]
    },
    {
      "cell_type": "markdown",
      "metadata": {
        "id": "2WZ0LtS6e3Br",
        "colab_type": "text"
      },
      "source": [
        "##Generate some data"
      ]
    },
    {
      "cell_type": "code",
      "metadata": {
        "id": "8Nmrhwihe4lx",
        "colab_type": "code",
        "colab": {
          "base_uri": "https://localhost:8080/",
          "height": 485
        },
        "outputId": "533d1deb-a0a0-4c1c-b692-ae24e2f4c209"
      },
      "source": [
        "import numpy as np\n",
        "import matplotlib.pyplot as plt\n",
        "\n",
        "%matplotlib inline\n",
        "plt.rcParams['figure.figsize'] = (10.0, 8.0) # set default size of plots\n",
        "plt.rcParams['image.interpolation'] = 'nearest'\n",
        "plt.rcParams['image.cmap'] = 'gray'\n",
        "\n",
        "import matplotlib.cm as cm\n",
        "\n",
        "cmap = cm.get_cmap(\"Spectral\")\n",
        "\n",
        "N = 150 #number of points per class\n",
        "D = 2 #dims\n",
        "K = 3 #num classes\n",
        "X = np.zeros((N*K, D)) #data matrix (each row = single example)\n",
        "y = np.zeros(N*K, dtype='uint8') #class labels\n",
        "for j in range(K):\n",
        "  ix = range(N*j, N*(j+1))\n",
        "  r = np.linspace(0.0,1,N)#radius\n",
        "  t = np.linspace(j*4,(j+1)*4,N) + np.random.randn(N)*0.2 #theta\n",
        "  X[ix] = np.c_[r*np.sin(t), r*np.cos(t)]\n",
        "  y[ix] = j\n",
        "plt.scatter(X[:, 0], X[:, 1], c=y, s=40, cmap=cmap)\n",
        "plt.show()"
      ],
      "execution_count": 27,
      "outputs": [
        {
          "output_type": "display_data",
          "data": {
            "image/png": "[encoded data removed]",
            "text/plain": [
              "<Figure size 720x576 with 1 Axes>"
            ]
          },
          "metadata": {
            "tags": []
          }
        }
      ]
    },
    {
      "cell_type": "markdown",
      "metadata": {
        "id": "iEq-54yVgRLH",
        "colab_type": "text"
      },
      "source": [
        "We have three classes that are non-linearly separable. \n",
        "\n",
        "##Training a softmax linear classifier\n",
        "\n",
        "####Initialize the parameters\n",
        "\n",
        "Lets first train a softmax classifier. The softmax classifier has a linear score function and uses cross-entropy loss. The parameters consist of a weight matrix W and a bias vector b for each class"
      ]
    },
    {
      "cell_type": "code",
      "metadata": {
        "id": "hpFbJ3-Jgkdk",
        "colab_type": "code",
        "colab": {}
      },
      "source": [
        "W = 0.01 * np.random.randn(D,K)\n",
        "b = np.zeros((1,K))"
      ],
      "execution_count": 0,
      "outputs": []
    },
    {
      "cell_type": "markdown",
      "metadata": {
        "id": "BVfZFLrfgqlk",
        "colab_type": "text"
      },
      "source": [
        "####Compute the class scores\n",
        "\n",
        "Since it is a linear classifier we can compute all class scores with a single matrix multiply"
      ]
    },
    {
      "cell_type": "code",
      "metadata": {
        "id": "3P0yhsp9gx5o",
        "colab_type": "code",
        "colab": {}
      },
      "source": [
        "scores = np.dot(X, W)+b"
      ],
      "execution_count": 0,
      "outputs": []
    },
    {
      "cell_type": "markdown",
      "metadata": {
        "id": "e3MM5hXOg3ux",
        "colab_type": "text"
      },
      "source": [
        "We have 300 2-D points, so the scores is size 300 x 3 where each row gives the class scores coresponding to the 3 classes.\n",
        "\n",
        "####Compute the loss\n",
        "\n",
        "WE also need a differentiable objective that quantifies our unhappiness with the computed class score. Lets use cross-entropy loss that is associated with the softmax classifier. $f$ is the array of clas scores for a single example, then the softmax computes the loss for that example as:\n",
        "\n",
        "$L_i = -\\log\\left(\\frac{e^{f_{y_i}}}{ \\sum_j e^{f_j} }\\right)$\n",
        "\n",
        "We see that softmax classifier interprets every element of $f$ as holding the unnormalized log probabilities of the three classes. We exponeniate these to get unnormalized probabilities, then normalize to get probabilities. The expression inside the log is the normalized probability of the correct class. When the probability of the correct class is small the loss will go towards positive infinity. When the correct classss probability goes towards 1, the loss will go towards zero because $log(1)=0$. Hence, the expression for $L_i$ is low when the correct class probability is high nad its very high when low. \n",
        "\n",
        "The full softmax classifier loss is defined as the average cross-entropy loss over the training examples and regularization:\n",
        "\n",
        "$L =  \\underbrace{ \\frac{1}{N} \\sum_i L_i }_\\text{data loss} + \\underbrace{ \\frac{1}{2} \\lambda \\sum_k\\sum_l W_{k,l}^2 }_\\text{regularization loss} \\\\\\\\$\n",
        "\n",
        "Given the array of scoes we can compute the loss. First, to obtain the probabilities is straight forward:\n",
        "\n"
      ]
    },
    {
      "cell_type": "code",
      "metadata": {
        "id": "nAylYBx-iMli",
        "colab_type": "code",
        "colab": {}
      },
      "source": [
        "num_examples = X.shape[0]\n",
        "#get unnorm probs\n",
        "exp_scores = np.exp(scores)\n",
        "#norm them for each example\n",
        "probs = exp_scores / np.sum(exp_scores, axis=1, keepdims=True)"
      ],
      "execution_count": 0,
      "outputs": []
    },
    {
      "cell_type": "markdown",
      "metadata": {
        "id": "Ky7LQ5ymiYuj",
        "colab_type": "text"
      },
      "source": [
        "We now have array probs of size 300x3. We can now query for the log probabilities assigned to the correct classes in each example:\n"
      ]
    },
    {
      "cell_type": "code",
      "metadata": {
        "id": "dnSeLuWWigfn",
        "colab_type": "code",
        "colab": {}
      },
      "source": [
        "correct_logprobs = -np.log(probs[range(num_examples), y])"
      ],
      "execution_count": 0,
      "outputs": []
    },
    {
      "cell_type": "markdown",
      "metadata": {
        "id": "PS9HwMyKiljK",
        "colab_type": "text"
      },
      "source": [
        "correct logprobs is a 1D array of just probabilities assigned to the correct classes for each example. The full loss is then the average of these log probs and reg:"
      ]
    },
    {
      "cell_type": "code",
      "metadata": {
        "id": "1r4LK9VtitDX",
        "colab_type": "code",
        "colab": {}
      },
      "source": [
        "reg = 1e-3\n",
        "#compute avg CE loss and reg\n",
        "data_loss = np.sum(correct_logprobs)/num_examples\n",
        "reg_loss = 0.5*reg*np.sum(W*W)\n",
        "loss = data_loss + reg_loss"
      ],
      "execution_count": 0,
      "outputs": []
    },
    {
      "cell_type": "markdown",
      "metadata": {
        "id": "mXEY2TuDi-lM",
        "colab_type": "text"
      },
      "source": [
        "Reg is multiplied by 0.5 for convenience. Evaluating this might give us loss 1.1 which is np.log(1.0/3), since with small initial random weights all probs assigned to all classes are about one third. We now want to make the loss as small as possible. \n",
        "\n",
        "####Computing the Analytic Gradient with Backprop\n",
        "\n",
        "We now have to minimize the loss. We do so with GD. Start with random params, and evaluate the gradient of the loss w.r.t the params, so that we know how we should change the params to decrease the loss. Lets introduce the intermediate variable $p$, a vector of normalized probs. The loss for one example is:\n",
        "\n",
        "$p_k = \\frac{e^{f_k}}{ \\sum_j e^{f_j} } \\hspace{1in} L_i =-\\log\\left(p_{y_i}\\right)$\n",
        "\n",
        "We now want to understand how the computed scores inside $f$ should change to decrease the loss $L_i$. We want to derive the gradient $\\partial L_i / \\partial f_k$. The loss $L_i$ is computed from $p$, which in turn depends on $f$. It is easy to compute using the chain rule since lots of things cancel out:\n",
        "\n",
        "$\\frac{\\partial L_i }{ \\partial f_k } = p_k - \\mathbb{1}(y_i = k)$\n",
        "\n",
        "Suppose the probs were p = 0.2, 0.3, 0.5 and the correct class was the middle one 0.3. According to this derivation the gradient on the scores would be df = 0.2, -0.7, 0.5. Increasing the first or last element of the score vector f (the scores of the incorrect classes) leads to an increased loss (due to the positive signs +0.2 and _0.5) - and increasing the loss is bad as expected. However, increasing the score of the correct class has negative influence on the loss. The gradient of -0.7 is telling us that increasing the correct class score would lead to a decrease of the loss $L_i$. \n",
        "\n",
        "Recall probs stores the probs of all classes as rows for each example. To get the gradient on the scores which we call dscores:\n",
        "\n"
      ]
    },
    {
      "cell_type": "code",
      "metadata": {
        "id": "kSx2K_HnlO6y",
        "colab_type": "code",
        "colab": {}
      },
      "source": [
        "dscores = probs\n",
        "dscores[range(num_examples),y] -= 1\n",
        "dscores /= num_examples"
      ],
      "execution_count": 0,
      "outputs": []
    },
    {
      "cell_type": "markdown",
      "metadata": {
        "id": "bJCFIADiliwU",
        "colab_type": "text"
      },
      "source": [
        "We had that scores = np.dot(X, W) + b, so armed with the gradient on scores stored in dscores we can backpropagate into W and B:"
      ]
    },
    {
      "cell_type": "code",
      "metadata": {
        "id": "TyGsFSU-lrDP",
        "colab_type": "code",
        "colab": {}
      },
      "source": [
        "dW = np.dot(X.T, dscores)\n",
        "db = np.sum(dscores, axis=0, keepdims=True)\n",
        "dW += reg*W #regularisation gradient"
      ],
      "execution_count": 0,
      "outputs": []
    },
    {
      "cell_type": "markdown",
      "metadata": {
        "id": "lT2_UnU2l0xZ",
        "colab_type": "text"
      },
      "source": [
        "Where we see that we have backpropped through the matrix multiply operation, and also added the contribution from the regularization. \n",
        "\n",
        "Note the reg gradient has a simple form reg*W since we used constant 0.5 for its loss contribution. This simplifies the gradient expression.\n",
        "\n",
        "####Performing param update\n",
        "\n",
        "Update in the negative gradient direction to decrease the loss."
      ]
    },
    {
      "cell_type": "code",
      "metadata": {
        "id": "wD8812HbmLur",
        "colab_type": "code",
        "colab": {}
      },
      "source": [
        "step_size = 1e-0\n",
        "W += -step_size * dW\n",
        "b += -step_size *db"
      ],
      "execution_count": 0,
      "outputs": []
    },
    {
      "cell_type": "markdown",
      "metadata": {
        "id": "_98hge85mUQ9",
        "colab_type": "text"
      },
      "source": [
        "####Putting it all together\n"
      ]
    },
    {
      "cell_type": "code",
      "metadata": {
        "id": "i-_koX6XmXac",
        "colab_type": "code",
        "colab": {
          "base_uri": "https://localhost:8080/",
          "height": 372
        },
        "outputId": "a03fc508-9344-46fa-e8c1-7c9d81ae0659"
      },
      "source": [
        "step_size = 1e-0\n",
        "reg = 1e-3 \n",
        "W = 0.01 * np.random.randn(D,K)\n",
        "b = np.zeros((1,K))\n",
        "num_examples = X.shape[0]\n",
        "for i in range(200):\n",
        "  scores = np.dot(X, W) + b\n",
        "  exp_scores = np.exp(scores)\n",
        "  probs = exp_scores / np.sum(exp_scores, axis=1, keepdims=True)\n",
        "  correct_logprobs = -np.log(probs[range(num_examples),y])\n",
        "  data_loss = np.sum(correct_logprobs)/num_examples\n",
        "  reg_loss = 0.5*reg*np.sum(W*W)\n",
        "  loss = data_loss + reg_loss\n",
        "  if i % 10 == 0:\n",
        "    print(\"iteration %d: loss %f\" % (i, loss))\n",
        "    \n",
        "  dscores = probs\n",
        "  dscores[range(num_examples),y] -= 1\n",
        "  dscores /= num_examples\n",
        "  dW = np.dot(X.T, dscores)\n",
        "  db = np.sum(dscores, axis=0, keepdims=True)\n",
        "  dW += reg*W\n",
        "  W += -step_size * dW\n",
        "  b += -step_size * db"
      ],
      "execution_count": 28,
      "outputs": [
        {
          "output_type": "stream",
          "text": [
            "iteration 0: loss 1.097401\n",
            "iteration 10: loss 0.893428\n",
            "iteration 20: loss 0.817209\n",
            "iteration 30: loss 0.781943\n",
            "iteration 40: loss 0.763167\n",
            "iteration 50: loss 0.752223\n",
            "iteration 60: loss 0.745440\n",
            "iteration 70: loss 0.741049\n",
            "iteration 80: loss 0.738112\n",
            "iteration 90: loss 0.736099\n",
            "iteration 100: loss 0.734693\n",
            "iteration 110: loss 0.733695\n",
            "iteration 120: loss 0.732979\n",
            "iteration 130: loss 0.732459\n",
            "iteration 140: loss 0.732078\n",
            "iteration 150: loss 0.731798\n",
            "iteration 160: loss 0.731591\n",
            "iteration 170: loss 0.731436\n",
            "iteration 180: loss 0.731320\n",
            "iteration 190: loss 0.731233\n"
          ],
          "name": "stdout"
        }
      ]
    },
    {
      "cell_type": "code",
      "metadata": {
        "id": "dox9ydmNnMM5",
        "colab_type": "code",
        "colab": {
          "base_uri": "https://localhost:8080/",
          "height": 34
        },
        "outputId": "0668e3a5-8076-46a7-d51f-aea619ab4ba8"
      },
      "source": [
        "# evaluate training set accuracy\n",
        "scores = np.dot(X, W) + b\n",
        "predicted_class = np.argmax(scores, axis=1)\n",
        "print ('training accuracy: %.2f' % (np.mean(predicted_class == y)))"
      ],
      "execution_count": 29,
      "outputs": [
        {
          "output_type": "stream",
          "text": [
            "training accuracy: 0.55\n"
          ],
          "name": "stdout"
        }
      ]
    },
    {
      "cell_type": "code",
      "metadata": {
        "id": "tVNIdUKOnUhd",
        "colab_type": "code",
        "colab": {
          "base_uri": "https://localhost:8080/",
          "height": 503
        },
        "outputId": "b9106017-4ca4-47e0-d2f4-5f16f3ea8222"
      },
      "source": [
        "# plot the resulting classifier\n",
        "h = 0.02\n",
        "x_min, x_max = X[:, 0].min() - 1, X[:, 0].max() + 1\n",
        "y_min, y_max = X[:, 1].min() - 1, X[:, 1].max() + 1\n",
        "xx, yy = np.meshgrid(np.arange(x_min, x_max, h),\n",
        "                     np.arange(y_min, y_max, h))\n",
        "Z = np.dot(np.c_[xx.ravel(), yy.ravel()], W) + b\n",
        "Z = np.argmax(Z, axis=1)\n",
        "Z = Z.reshape(xx.shape)\n",
        "fig = plt.figure()\n",
        "plt.contourf(xx, yy, Z, cmap=plt.cm.Spectral, alpha=0.8)\n",
        "plt.scatter(X[:, 0], X[:, 1], c=y, s=40, cmap=plt.cm.Spectral)\n",
        "plt.xlim(xx.min(), xx.max())\n",
        "plt.ylim(yy.min(), yy.max())\n",
        "#fig.savefig('spiral_linear.png')"
      ],
      "execution_count": 30,
      "outputs": [
        {
          "output_type": "execute_result",
          "data": {
            "text/plain": [
              "(-1.8812728601742603, 1.918727139825743)"
            ]
          },
          "metadata": {
            "tags": []
          },
          "execution_count": 30
        },
        {
          "output_type": "display_data",
          "data": {
            "image/png": "[encoded data removed]",
            "text/plain": [
              "<Figure size 720x576 with 1 Axes>"
            ]
          },
          "metadata": {
            "tags": []
          }
        }
      ]
    },
    {
      "cell_type": "markdown",
      "metadata": {
        "id": "LKGGqsSXni6U",
        "colab_type": "text"
      },
      "source": [
        "##Training a NN\n",
        "\n"
      ]
    },
    {
      "cell_type": "code",
      "metadata": {
        "id": "97dgNW3Fnli7",
        "colab_type": "code",
        "colab": {}
      },
      "source": [
        "h = 100 # size of hidden layer\n",
        "W = 0.01 * np.random.randn(D,h)\n",
        "b = np.zeros((1,h))\n",
        "W2 = 0.01 * np.random.randn(h,K)\n",
        "b2 = np.zeros((1,K))"
      ],
      "execution_count": 0,
      "outputs": []
    },
    {
      "cell_type": "markdown",
      "metadata": {
        "id": "Vnxb-cSwnnJj",
        "colab_type": "text"
      },
      "source": [
        "Compute forward pass"
      ]
    },
    {
      "cell_type": "code",
      "metadata": {
        "id": "-iK6sOlnnokP",
        "colab_type": "code",
        "colab": {}
      },
      "source": [
        "hidden_layer = np.maximum(0, np.dot(X, W) + b) # note, ReLU activation\n",
        "scores = np.dot(hidden_layer, W2) + b2"
      ],
      "execution_count": 0,
      "outputs": []
    },
    {
      "cell_type": "markdown",
      "metadata": {
        "id": "7BCWF7SRnq4s",
        "colab_type": "text"
      },
      "source": [
        "We've now added nonlinearity. Everything ramins the same. Backprop does change however, first backprop the second layer which is identical as before. "
      ]
    },
    {
      "cell_type": "code",
      "metadata": {
        "id": "YbKsE7X_n3Ux",
        "colab_type": "code",
        "colab": {}
      },
      "source": [
        "dW2 = np.dot(hidden_layer.T, dscores)\n",
        "db2 = np.sum(dscores, axis=0, keepdims=True)"
      ],
      "execution_count": 0,
      "outputs": []
    },
    {
      "cell_type": "markdown",
      "metadata": {
        "id": "sh0RWwtin4Zn",
        "colab_type": "text"
      },
      "source": [
        "Unlike before, because the hidden layer is a function of other parameters and data, we need to compute backprop through this variable"
      ]
    },
    {
      "cell_type": "code",
      "metadata": {
        "id": "Gh847usin_Kl",
        "colab_type": "code",
        "colab": {}
      },
      "source": [
        "dhidden = np.dot(dscores, W2.T)"
      ],
      "execution_count": 0,
      "outputs": []
    },
    {
      "cell_type": "markdown",
      "metadata": {
        "id": "eYuVt8K9oALX",
        "colab_type": "text"
      },
      "source": [
        "Now we have the gradient on outputs, we backprop the ReLU. This is easy because ReLU during the backward pass is effectively a switch. $r = max(0,x)$ we have that $\\frac{dr}{dx} = 1(x > 0)$. Combined with the chain rule, we see that ReLU lets the gradient pass through unchanged if its input was greater than 0 but kills it if its input was less than zero during forward. Hence we can back ReLU simply with"
      ]
    },
    {
      "cell_type": "code",
      "metadata": {
        "id": "UxJA_s1YpIbP",
        "colab_type": "code",
        "colab": {}
      },
      "source": [
        "dhidden[hidden_layer <= 0] = 0"
      ],
      "execution_count": 0,
      "outputs": []
    },
    {
      "cell_type": "markdown",
      "metadata": {
        "id": "eHtFgzIkpJcS",
        "colab_type": "text"
      },
      "source": [
        "Finally continue to the first layer"
      ]
    },
    {
      "cell_type": "code",
      "metadata": {
        "id": "r69zw0SEpLWG",
        "colab_type": "code",
        "colab": {}
      },
      "source": [
        "dW = np.dot(X.T, dhidden)\n",
        "db = np.sum(dhidden, axis=0, keepdims=True)"
      ],
      "execution_count": 0,
      "outputs": []
    },
    {
      "cell_type": "markdown",
      "metadata": {
        "id": "pIn_AUfNpNXl",
        "colab_type": "text"
      },
      "source": [
        "Thats it!"
      ]
    },
    {
      "cell_type": "code",
      "metadata": {
        "id": "Uvnsmf5tpObb",
        "colab_type": "code",
        "colab": {
          "base_uri": "https://localhost:8080/",
          "height": 194
        },
        "outputId": "0fa2b765-0209-4bce-dcf3-08faffdf90ef"
      },
      "source": [
        "h = 100 # size of hidden layer\n",
        "W = 0.01 * np.random.randn(D,h)\n",
        "b = np.zeros((1,h))\n",
        "W2 = 0.01 * np.random.randn(h,K)\n",
        "b2 = np.zeros((1,K))\n",
        "\n",
        "# some hyperparameters\n",
        "step_size = 1e-0\n",
        "reg = 1e-3 # regularization strength\n",
        "\n",
        "# gradient descent loop\n",
        "num_examples = X.shape[0]\n",
        "for i in range(10000):\n",
        "  \n",
        "  # evaluate class scores, [N x K]\n",
        "  hidden_layer = np.maximum(0, np.dot(X, W) + b) # note, ReLU activation\n",
        "  scores = np.dot(hidden_layer, W2) + b2\n",
        "  \n",
        "  # compute the class probabilities\n",
        "  exp_scores = np.exp(scores)\n",
        "  probs = exp_scores / np.sum(exp_scores, axis=1, keepdims=True) # [N x K]\n",
        "  \n",
        "  # compute the loss: average cross-entropy loss and regularization\n",
        "  correct_logprobs = -np.log(probs[range(num_examples),y])\n",
        "  data_loss = np.sum(correct_logprobs)/num_examples\n",
        "  reg_loss = 0.5*reg*np.sum(W*W) + 0.5*reg*np.sum(W2*W2)\n",
        "  loss = data_loss + reg_loss\n",
        "  if i % 1000 == 0:\n",
        "    print( \"iteration %d: loss %f\" % (i, loss))\n",
        "  \n",
        "  # compute the gradient on scores\n",
        "  dscores = probs\n",
        "  dscores[range(num_examples),y] -= 1\n",
        "  dscores /= num_examples\n",
        "  \n",
        "  # backpropate the gradient to the parameters\n",
        "  # first backprop into parameters W2 and b2\n",
        "  dW2 = np.dot(hidden_layer.T, dscores)\n",
        "  db2 = np.sum(dscores, axis=0, keepdims=True)\n",
        "  # next backprop into hidden layer\n",
        "  dhidden = np.dot(dscores, W2.T)\n",
        "  # backprop the ReLU non-linearity\n",
        "  dhidden[hidden_layer <= 0] = 0\n",
        "  # finally into W,b\n",
        "  dW = np.dot(X.T, dhidden)\n",
        "  db = np.sum(dhidden, axis=0, keepdims=True)\n",
        "  \n",
        "  # add regularization gradient contribution\n",
        "  dW2 += reg * W2\n",
        "  dW += reg * W\n",
        "  \n",
        "  # perform a parameter update\n",
        "  W += -step_size * dW\n",
        "  b += -step_size * db\n",
        "  W2 += -step_size * dW2\n",
        "  b2 += -step_size * db2"
      ],
      "execution_count": 39,
      "outputs": [
        {
          "output_type": "stream",
          "text": [
            "iteration 0: loss 1.098650\n",
            "iteration 1000: loss 0.350592\n",
            "iteration 2000: loss 0.257913\n",
            "iteration 3000: loss 0.246325\n",
            "iteration 4000: loss 0.242535\n",
            "iteration 5000: loss 0.240529\n",
            "iteration 6000: loss 0.239593\n",
            "iteration 7000: loss 0.239148\n",
            "iteration 8000: loss 0.238773\n",
            "iteration 9000: loss 0.238245\n"
          ],
          "name": "stdout"
        }
      ]
    },
    {
      "cell_type": "code",
      "metadata": {
        "id": "z-NPAbanpU3W",
        "colab_type": "code",
        "colab": {
          "base_uri": "https://localhost:8080/",
          "height": 34
        },
        "outputId": "4ff56cd3-6d45-4c7e-8360-2c55dc96a19f"
      },
      "source": [
        "hidden_layer = np.maximum(0, np.dot(X, W) + b)\n",
        "scores = np.dot(hidden_layer, W2) + b2\n",
        "predicted_class = np.argmax(scores, axis=1)\n",
        "print ('training accuracy: %.2f' % (np.mean(predicted_class == y)))"
      ],
      "execution_count": 40,
      "outputs": [
        {
          "output_type": "stream",
          "text": [
            "training accuracy: 0.99\n"
          ],
          "name": "stdout"
        }
      ]
    },
    {
      "cell_type": "code",
      "metadata": {
        "id": "8LSOYtOCpYFL",
        "colab_type": "code",
        "colab": {
          "base_uri": "https://localhost:8080/",
          "height": 503
        },
        "outputId": "f426fa14-11ad-47f8-802d-1afd27daa802"
      },
      "source": [
        "# plot the resulting classifier\n",
        "h = 0.02\n",
        "x_min, x_max = X[:, 0].min() - 1, X[:, 0].max() + 1\n",
        "y_min, y_max = X[:, 1].min() - 1, X[:, 1].max() + 1\n",
        "xx, yy = np.meshgrid(np.arange(x_min, x_max, h),\n",
        "                     np.arange(y_min, y_max, h))\n",
        "Z = np.dot(np.maximum(0, np.dot(np.c_[xx.ravel(), yy.ravel()], W) + b), W2) + b2\n",
        "Z = np.argmax(Z, axis=1)\n",
        "Z = Z.reshape(xx.shape)\n",
        "fig = plt.figure()\n",
        "plt.contourf(xx, yy, Z, cmap=plt.cm.Spectral, alpha=0.8)\n",
        "plt.scatter(X[:, 0], X[:, 1], c=y, s=40, cmap=plt.cm.Spectral)\n",
        "plt.xlim(xx.min(), xx.max())\n",
        "plt.ylim(yy.min(), yy.max())\n",
        "#fig.savefig('spiral_net.png')"
      ],
      "execution_count": 41,
      "outputs": [
        {
          "output_type": "execute_result",
          "data": {
            "text/plain": [
              "(-1.8812728601742603, 1.918727139825743)"
            ]
          },
          "metadata": {
            "tags": []
          },
          "execution_count": 41
        },
        {
          "output_type": "display_data",
          "data": {
            "image/png": "[encoded data removed]",
            "text/plain": [
              "<Figure size 720x576 with 1 Axes>"
            ]
          },
          "metadata": {
            "tags": []
          }
        }
      ]
    }
  ]
}
