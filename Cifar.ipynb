{
  "nbformat": 4,
  "nbformat_minor": 0,
  "metadata": {
    "colab": {
      "name": "Cifar.ipynb",
      "version": "0.3.2",
      "provenance": [],
      "include_colab_link": true
    },
    "kernelspec": {
      "name": "python3",
      "display_name": "Python 3"
    },
    "accelerator": "GPU"
  },
  "cells": [
    {
      "cell_type": "markdown",
      "metadata": {
        "id": "view-in-github",
        "colab_type": "text"
      },
      "source": [
        "<a href=\"https://colab.research.google.com/github/paruliansaragi/DL-Notebooks/blob/master/Cifar.ipynb\" target=\"_parent\"><img src=\"https://colab.research.google.com/assets/colab-badge.svg\" alt=\"Open In Colab\"/></a>"
      ]
    },
    {
      "cell_type": "code",
      "metadata": {
        "id": "_sRUVG30quK8",
        "colab_type": "code",
        "outputId": "63d292a1-0ef4-42d6-c8f6-a9da854abcd4",
        "colab": {
          "base_uri": "https://localhost:8080/",
          "height": 52
        }
      },
      "source": [
        "!wget http://pjreddie.com/media/files/cifar.tgz  "
      ],
      "execution_count": 0,
      "outputs": [
        {
          "output_type": "stream",
          "text": [
            "\n",
            "Redirecting output to ‘wget-log’.\n"
          ],
          "name": "stdout"
        }
      ]
    },
    {
      "cell_type": "markdown",
      "metadata": {
        "id": "5sl_rvPggmf_",
        "colab_type": "text"
      },
      "source": [
        "Creating a model from scratch. Finding the mean, standard deviations etc.\n",
        "\n",
        "https://github.com/fastai/fastai/blob/master/courses/dl1/lesson7-cifar10.ipynb"
      ]
    },
    {
      "cell_type": "code",
      "metadata": {
        "id": "tm2fStGtfoud",
        "colab_type": "code",
        "colab": {}
      },
      "source": [
        "!mv cifar.tgz data"
      ],
      "execution_count": 0,
      "outputs": []
    },
    {
      "cell_type": "code",
      "metadata": {
        "id": "u71FsIw1jwqQ",
        "colab_type": "code",
        "colab": {}
      },
      "source": [
        "!tar zxvf cifar.tgz"
      ],
      "execution_count": 0,
      "outputs": []
    },
    {
      "cell_type": "code",
      "metadata": {
        "id": "4CJvsdp3o2LN",
        "colab_type": "code",
        "colab": {}
      },
      "source": [
        "!pip install fastai"
      ],
      "execution_count": 0,
      "outputs": []
    },
    {
      "cell_type": "code",
      "metadata": {
        "id": "sKr7BoTegAuZ",
        "colab_type": "code",
        "colab": {}
      },
      "source": [
        "from fastai.conv_learner import *\n",
        "PATH = \"cifar/\""
      ],
      "execution_count": 0,
      "outputs": []
    },
    {
      "cell_type": "code",
      "metadata": {
        "id": "YJO4jWv5pAMS",
        "colab_type": "code",
        "colab": {}
      },
      "source": [
        "classes = ('plane', 'car', 'bird', 'cat', 'deer', 'dog', 'frog', 'horse', 'ship', 'truck')\n",
        "stats = (np.array([ 0.4914 ,  0.48216,  0.44653]), np.array([ 0.24703,  0.24349,  0.26159]))"
      ],
      "execution_count": 0,
      "outputs": []
    },
    {
      "cell_type": "code",
      "metadata": {
        "id": "-_3HcFtCqGoi",
        "colab_type": "code",
        "colab": {}
      },
      "source": [
        "for i in classes:\n",
        "  os.makedirs('cifar/train/'+i,exist_ok=True)"
      ],
      "execution_count": 0,
      "outputs": []
    },
    {
      "cell_type": "code",
      "metadata": {
        "id": "_GvUoEm8qXlD",
        "colab_type": "code",
        "colab": {}
      },
      "source": [
        "for i in classes:\n",
        "  os.makedirs('cifar/test/'+i,exist_ok=True)"
      ],
      "execution_count": 0,
      "outputs": []
    },
    {
      "cell_type": "code",
      "metadata": {
        "id": "zJF8i_HmoXzE",
        "colab_type": "code",
        "colab": {}
      },
      "source": [
        "import shutil\n",
        "\n",
        "source = 'cifar/test/'\n",
        "dest1 = 'cifar/test/plane'\n",
        "\n",
        "files = os.listdir(source)\n",
        "\n",
        "\n",
        "for f in files:\n",
        "  if 'plane' not in f :\n",
        "    continue\n",
        "  else:\n",
        "    shutil.move(source+f, dest1)"
      ],
      "execution_count": 0,
      "outputs": []
    },
    {
      "cell_type": "code",
      "metadata": {
        "id": "JqQsH9F2yQIL",
        "colab_type": "code",
        "colab": {}
      },
      "source": [
        "!find -type f -name '*automobile*' -delete"
      ],
      "execution_count": 0,
      "outputs": []
    },
    {
      "cell_type": "code",
      "metadata": {
        "id": "a8bcWEKVt2qk",
        "colab_type": "code",
        "colab": {}
      },
      "source": [
        "def get_data(sz,bs):\n",
        "    tfms = tfms_from_stats(stats, sz, aug_tfms=[RandomFlip()], pad=sz//8)\n",
        "    return ImageClassifierData.from_paths(PATH, val_name='test', tfms=tfms, bs=bs)"
      ],
      "execution_count": 0,
      "outputs": []
    },
    {
      "cell_type": "code",
      "metadata": {
        "id": "3u90EENHvSNb",
        "colab_type": "code",
        "colab": {}
      },
      "source": [
        "bs=256"
      ],
      "execution_count": 0,
      "outputs": []
    },
    {
      "cell_type": "code",
      "metadata": {
        "id": "DR4UMxoFyEXF",
        "colab_type": "code",
        "colab": {}
      },
      "source": [
        "data = get_data(32,4)\n"
      ],
      "execution_count": 0,
      "outputs": []
    },
    {
      "cell_type": "code",
      "metadata": {
        "id": "_C1sY_sQyGxd",
        "colab_type": "code",
        "colab": {}
      },
      "source": [
        "x,y=next(iter(data.trn_dl))\n"
      ],
      "execution_count": 0,
      "outputs": []
    },
    {
      "cell_type": "code",
      "metadata": {
        "id": "doWmcQUsyjSZ",
        "colab_type": "code",
        "outputId": "508573e2-4a5c-4d15-8a73-7260979d6130",
        "colab": {
          "base_uri": "https://localhost:8080/",
          "height": 347
        }
      },
      "source": [
        "plt.imshow(data.trn_ds.denorm(x)[0]);\n"
      ],
      "execution_count": 0,
      "outputs": [
        {
          "output_type": "display_data",
          "data": {
            "image/png": "[encoded data removed]",
            "text/plain": [
              "<matplotlib.figure.Figure at 0x7ff768b605f8>"
            ]
          },
          "metadata": {
            "tags": []
          }
        }
      ]
    },
    {
      "cell_type": "code",
      "metadata": {
        "id": "5RS7gZGvylQC",
        "colab_type": "code",
        "outputId": "5374f0e2-0a7a-410d-f8aa-02897074c2bd",
        "colab": {
          "base_uri": "https://localhost:8080/",
          "height": 347
        }
      },
      "source": [
        "plt.imshow(data.trn_ds.denorm(x)[1]);\n"
      ],
      "execution_count": 0,
      "outputs": [
        {
          "output_type": "display_data",
          "data": {
            "image/png": "[encoded data removed]",
            "text/plain": [
              "<matplotlib.figure.Figure at 0x7ff768a834e0>"
            ]
          },
          "metadata": {
            "tags": []
          }
        }
      ]
    },
    {
      "cell_type": "code",
      "metadata": {
        "id": "_cmZDCP2ynIb",
        "colab_type": "code",
        "colab": {}
      },
      "source": [
        "data = get_data(32,bs)\n"
      ],
      "execution_count": 0,
      "outputs": []
    },
    {
      "cell_type": "code",
      "metadata": {
        "id": "gnPeQ1r3yqfv",
        "colab_type": "code",
        "colab": {}
      },
      "source": [
        "lr=1e-2\n"
      ],
      "execution_count": 0,
      "outputs": []
    },
    {
      "cell_type": "code",
      "metadata": {
        "id": "4D-mJ-doyrDF",
        "colab_type": "code",
        "colab": {}
      },
      "source": [
        "class SimpleNet(nn.Module):\n",
        "    def __init__(self, layers):\n",
        "        super().__init__()\n",
        "        self.layers = nn.ModuleList([\n",
        "            nn.Linear(layers[i], layers[i + 1]) for i in range(len(layers) - 1)])\n",
        "        \n",
        "    def forward(self, x):\n",
        "        x = x.view(x.size(0), -1)\n",
        "        for l in self.layers:\n",
        "            l_x = l(x)\n",
        "            x = F.relu(l_x)\n",
        "        return F.log_softmax(l_x, dim=-1)\n"
      ],
      "execution_count": 0,
      "outputs": []
    },
    {
      "cell_type": "code",
      "metadata": {
        "id": "4bARbhNkytXI",
        "colab_type": "code",
        "colab": {}
      },
      "source": [
        "learn = ConvLearner.from_model_data(SimpleNet([32*32*3, 40,10]), data)\n"
      ],
      "execution_count": 0,
      "outputs": []
    },
    {
      "cell_type": "code",
      "metadata": {
        "id": "IUmH5QnKyxEQ",
        "colab_type": "code",
        "outputId": "cb15a356-fc9d-4dc1-b294-0f320afde3f2",
        "colab": {
          "base_uri": "https://localhost:8080/",
          "height": 121
        }
      },
      "source": [
        "learn, [o.numel() for o in learn.model.parameters()]\n"
      ],
      "execution_count": 0,
      "outputs": [
        {
          "output_type": "execute_result",
          "data": {
            "text/plain": [
              "(SimpleNet(\n",
              "   (layers): ModuleList(\n",
              "     (0): Linear(in_features=3072, out_features=40, bias=True)\n",
              "     (1): Linear(in_features=40, out_features=10, bias=True)\n",
              "   )\n",
              " ), [122880, 40, 400, 10])"
            ]
          },
          "metadata": {
            "tags": []
          },
          "execution_count": 59
        }
      ]
    },
    {
      "cell_type": "code",
      "metadata": {
        "id": "qjOPvKhSyxam",
        "colab_type": "code",
        "outputId": "797a2eab-3bb2-4548-a8c7-084e4e864e1a",
        "colab": {
          "base_uri": "https://localhost:8080/",
          "height": 191
        }
      },
      "source": [
        "learn.summary()\n"
      ],
      "execution_count": 0,
      "outputs": [
        {
          "output_type": "execute_result",
          "data": {
            "text/plain": [
              "OrderedDict([('Linear-1',\n",
              "              OrderedDict([('input_shape', [-1, 3072]),\n",
              "                           ('output_shape', [-1, 40]),\n",
              "                           ('trainable', True),\n",
              "                           ('nb_params', 122920)])),\n",
              "             ('Linear-2',\n",
              "              OrderedDict([('input_shape', [-1, 40]),\n",
              "                           ('output_shape', [-1, 10]),\n",
              "                           ('trainable', True),\n",
              "                           ('nb_params', 410)]))])"
            ]
          },
          "metadata": {
            "tags": []
          },
          "execution_count": 60
        }
      ]
    },
    {
      "cell_type": "code",
      "metadata": {
        "id": "c8BSTXZay2gH",
        "colab_type": "code",
        "outputId": "2f98e231-e146-4157-f487-59fdfd2f6f5b",
        "colab": {
          "base_uri": "https://localhost:8080/",
          "height": 52
        }
      },
      "source": [
        "learn.lr_find()\n"
      ],
      "execution_count": 0,
      "outputs": [
        {
          "output_type": "display_data",
          "data": {
            "application/vnd.jupyter.widget-view+json": {
              "model_id": "9f0792c5e41b4f1f93ed9a3db9f22ef3",
              "version_minor": 0,
              "version_major": 2
            },
            "text/plain": [
              "HBox(children=(IntProgress(value=0, description='Epoch', max=1), HTML(value='')))"
            ]
          },
          "metadata": {
            "tags": []
          }
        },
        {
          "output_type": "stream",
          "text": [
            " 76%|███████▌  | 133/176 [00:21<00:07,  6.14it/s, loss=8.72]"
          ],
          "name": "stdout"
        }
      ]
    },
    {
      "cell_type": "code",
      "metadata": {
        "id": "1PUnc9xZy5tB",
        "colab_type": "code",
        "outputId": "0893a90f-c666-4721-9b66-4d66ec6c4613",
        "colab": {
          "base_uri": "https://localhost:8080/",
          "height": 367
        }
      },
      "source": [
        "learn.sched.plot()"
      ],
      "execution_count": 0,
      "outputs": [
        {
          "output_type": "display_data",
          "data": {
            "image/png": "[encoded data removed]",
            "text/plain": [
              "<matplotlib.figure.Figure at 0x7ff768d3c550>"
            ]
          },
          "metadata": {
            "tags": []
          }
        }
      ]
    },
    {
      "cell_type": "code",
      "metadata": {
        "id": "3ltiw_1R1WXE",
        "colab_type": "code",
        "outputId": "93c68a35-400e-45af-88e4-17661b7be190",
        "colab": {
          "base_uri": "https://localhost:8080/",
          "height": 139
        }
      },
      "source": [
        "%time learn.fit(lr, 2)"
      ],
      "execution_count": 0,
      "outputs": [
        {
          "output_type": "display_data",
          "data": {
            "application/vnd.jupyter.widget-view+json": {
              "model_id": "33b33728c5664363919a04bf81ac148c",
              "version_minor": 0,
              "version_major": 2
            },
            "text/plain": [
              "HBox(children=(IntProgress(value=0, description='Epoch', max=2), HTML(value='')))"
            ]
          },
          "metadata": {
            "tags": []
          }
        },
        {
          "output_type": "stream",
          "text": [
            "epoch      trn_loss   val_loss   accuracy   \n",
            "    0      1.682744   1.562661   0.432778  \n",
            "    1      1.610785   1.517009   0.455889  \n",
            "CPU times: user 1min 4s, sys: 33.9 s, total: 1min 38s\n",
            "Wall time: 1min 5s\n"
          ],
          "name": "stdout"
        },
        {
          "output_type": "execute_result",
          "data": {
            "text/plain": [
              "[array([1.51701]), 0.4558888889418708]"
            ]
          },
          "metadata": {
            "tags": []
          },
          "execution_count": 63
        }
      ]
    },
    {
      "cell_type": "code",
      "metadata": {
        "id": "Ge0fYMxp1Wro",
        "colab_type": "code",
        "colab": {}
      },
      "source": [
        "class ConvNet(nn.Module):\n",
        "    def __init__(self, layers, c):\n",
        "        super().__init__()\n",
        "        self.layers = nn.ModuleList([\n",
        "            nn.Conv2d(layers[i], layers[i + 1], kernel_size=3, stride=2)\n",
        "            for i in range(len(layers) - 1)])\n",
        "        self.pool = nn.AdaptiveMaxPool2d(1)\n",
        "        self.out = nn.Linear(layers[-1], c)\n",
        "        \n",
        "    def forward(self, x):\n",
        "        for l in self.layers: x = F.relu(l(x))\n",
        "        x = self.pool(x)\n",
        "        x = x.view(x.size(0), -1)\n",
        "        return F.log_softmax(self.out(x), dim=-1)"
      ],
      "execution_count": 0,
      "outputs": []
    },
    {
      "cell_type": "code",
      "metadata": {
        "id": "Co1w7bkn19va",
        "colab_type": "code",
        "colab": {}
      },
      "source": [
        "learn = ConvLearner.from_model_data(ConvNet([3, 20, 40, 80], 10), data)\n"
      ],
      "execution_count": 0,
      "outputs": []
    },
    {
      "cell_type": "code",
      "metadata": {
        "id": "7O3ilIvk2AVx",
        "colab_type": "code",
        "outputId": "36b35a97-ef94-495e-efd4-6a87fd9dd69c",
        "colab": {
          "base_uri": "https://localhost:8080/",
          "height": 433
        }
      },
      "source": [
        "learn.summary()\n"
      ],
      "execution_count": 0,
      "outputs": [
        {
          "output_type": "execute_result",
          "data": {
            "text/plain": [
              "OrderedDict([('Conv2d-1',\n",
              "              OrderedDict([('input_shape', [-1, 3, 32, 32]),\n",
              "                           ('output_shape', [-1, 20, 15, 15]),\n",
              "                           ('trainable', True),\n",
              "                           ('nb_params', 560)])),\n",
              "             ('Conv2d-2',\n",
              "              OrderedDict([('input_shape', [-1, 20, 15, 15]),\n",
              "                           ('output_shape', [-1, 40, 7, 7]),\n",
              "                           ('trainable', True),\n",
              "                           ('nb_params', 7240)])),\n",
              "             ('Conv2d-3',\n",
              "              OrderedDict([('input_shape', [-1, 40, 7, 7]),\n",
              "                           ('output_shape', [-1, 80, 3, 3]),\n",
              "                           ('trainable', True),\n",
              "                           ('nb_params', 28880)])),\n",
              "             ('AdaptiveMaxPool2d-4',\n",
              "              OrderedDict([('input_shape', [-1, 80, 3, 3]),\n",
              "                           ('output_shape', [-1, 80, 1, 1]),\n",
              "                           ('nb_params', 0)])),\n",
              "             ('Linear-5',\n",
              "              OrderedDict([('input_shape', [-1, 80]),\n",
              "                           ('output_shape', [-1, 10]),\n",
              "                           ('trainable', True),\n",
              "                           ('nb_params', 810)]))])"
            ]
          },
          "metadata": {
            "tags": []
          },
          "execution_count": 70
        }
      ]
    },
    {
      "cell_type": "code",
      "metadata": {
        "id": "C6AHk7lm2Bma",
        "colab_type": "code",
        "outputId": "163f8e0b-32ae-499e-f285-e590d05a7709",
        "colab": {
          "base_uri": "https://localhost:8080/",
          "height": 52
        }
      },
      "source": [
        "learn.lr_find(end_lr=100)\n"
      ],
      "execution_count": 0,
      "outputs": [
        {
          "output_type": "display_data",
          "data": {
            "application/vnd.jupyter.widget-view+json": {
              "model_id": "dac789c6d9c043839c6664e4d59a02b0",
              "version_minor": 0,
              "version_major": 2
            },
            "text/plain": [
              "HBox(children=(IntProgress(value=0, description='Epoch', max=1), HTML(value='')))"
            ]
          },
          "metadata": {
            "tags": []
          }
        },
        {
          "output_type": "stream",
          "text": [
            " 69%|██████▉   | 122/176 [00:20<00:11,  4.63it/s, loss=28.4]"
          ],
          "name": "stdout"
        }
      ]
    },
    {
      "cell_type": "code",
      "metadata": {
        "id": "KrtkWiHG2HZP",
        "colab_type": "code",
        "outputId": "64403ae0-8816-4e4f-a5bd-a23aa40bf9da",
        "colab": {
          "base_uri": "https://localhost:8080/",
          "height": 365
        }
      },
      "source": [
        "learn.sched.plot()\n"
      ],
      "execution_count": 0,
      "outputs": [
        {
          "output_type": "display_data",
          "data": {
            "image/png": "[encoded data removed]",
            "text/plain": [
              "<matplotlib.figure.Figure at 0x7ff768f05ba8>"
            ]
          },
          "metadata": {
            "tags": []
          }
        }
      ]
    },
    {
      "cell_type": "code",
      "metadata": {
        "id": "Epj-y9xt2Q2i",
        "colab_type": "code",
        "outputId": "3023296d-8b48-412b-972a-de43fab418a2",
        "colab": {
          "base_uri": "https://localhost:8080/",
          "height": 139
        }
      },
      "source": [
        "%time learn.fit(1e-1, 2)\n"
      ],
      "execution_count": 0,
      "outputs": [
        {
          "output_type": "display_data",
          "data": {
            "application/vnd.jupyter.widget-view+json": {
              "model_id": "902f66510c894297a67ec35113e4bbd3",
              "version_minor": 0,
              "version_major": 2
            },
            "text/plain": [
              "HBox(children=(IntProgress(value=0, description='Epoch', max=2), HTML(value='')))"
            ]
          },
          "metadata": {
            "tags": []
          }
        },
        {
          "output_type": "stream",
          "text": [
            "epoch      trn_loss   val_loss   accuracy   \n",
            "    0      1.696589   1.572525   0.421333  \n",
            "    1      1.492112   1.418274   0.493111  \n",
            "CPU times: user 1min 4s, sys: 33.5 s, total: 1min 38s\n",
            "Wall time: 1min 5s\n"
          ],
          "name": "stdout"
        },
        {
          "output_type": "execute_result",
          "data": {
            "text/plain": [
              "[array([1.41827]), 0.4931111112170749]"
            ]
          },
          "metadata": {
            "tags": []
          },
          "execution_count": 73
        }
      ]
    },
    {
      "cell_type": "code",
      "metadata": {
        "id": "5wcFWwJe2SJs",
        "colab_type": "code",
        "colab": {}
      },
      "source": [
        "%time learn.fit(1e-1, 4, cycle_len=1)\n"
      ],
      "execution_count": 0,
      "outputs": []
    }
  ]
}