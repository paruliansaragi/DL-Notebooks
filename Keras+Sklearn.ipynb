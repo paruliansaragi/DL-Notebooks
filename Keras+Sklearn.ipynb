{
  "nbformat": 4,
  "nbformat_minor": 0,
  "metadata": {
    "colab": {
      "name": "Keras+Sklearn.ipynb",
      "version": "0.3.2",
      "provenance": [],
      "collapsed_sections": [],
      "include_colab_link": true
    },
    "kernelspec": {
      "name": "python3",
      "display_name": "Python 3"
    }
  },
  "cells": [
    {
      "cell_type": "markdown",
      "metadata": {
        "id": "view-in-github",
        "colab_type": "text"
      },
      "source": [
        "<a href=\"https://colab.research.google.com/github/paruliansaragi/DL-Notebooks/blob/master/Keras%2BSklearn.ipynb\" target=\"_parent\"><img src=\"https://colab.research.google.com/assets/colab-badge.svg\" alt=\"Open In Colab\"/></a>"
      ]
    },
    {
      "cell_type": "code",
      "metadata": {
        "id": "YfzxnnROP3qL",
        "colab_type": "code",
        "colab": {}
      },
      "source": [
        "import numpy as np\n",
        "from random import randint\n",
        "from sklearn.preprocessing import MinMaxScaler"
      ],
      "execution_count": 0,
      "outputs": []
    },
    {
      "cell_type": "code",
      "metadata": {
        "id": "7fqsWEVyQBF9",
        "colab_type": "code",
        "colab": {}
      },
      "source": [
        "train_labels = []\n",
        "train_samples = []\n",
        "test_samples = []\n",
        "test_labels = []"
      ],
      "execution_count": 0,
      "outputs": []
    },
    {
      "cell_type": "code",
      "metadata": {
        "id": "mwbgaa2UQF-h",
        "colab_type": "code",
        "colab": {}
      },
      "source": [
        "for i in range(1000):\n",
        "  random_younger = randint(13,64)\n",
        "  train_samples.append(random_younger)\n",
        "  train_labels.append(0)\n",
        "  \n",
        "  test_samples.append(random_younger)\n",
        "  test_labels.append(0)\n",
        "  \n",
        "  random_older = randint(65,100)\n",
        "  train_samples.append(random_older)\n",
        "  train_labels.append(1)\n",
        "  \n",
        "  test_samples.append(random_older)\n",
        "  test_labels.append(1)\n",
        "  \n",
        "for i in range(50):\n",
        "  random_younger = randint(13,64)\n",
        "  train_samples.append(random_younger)\n",
        "  train_labels.append(0)\n",
        "  \n",
        "  test_samples.append(random_younger)\n",
        "  test_labels.append(0)\n",
        "  \n",
        "  random_older = randint(65,100)\n",
        "  train_samples.append(random_older)\n",
        "  train_labels.append(1)\n",
        "  \n",
        "  test_samples.append(random_older)\n",
        "  test_labels.append(1)"
      ],
      "execution_count": 0,
      "outputs": []
    },
    {
      "cell_type": "code",
      "metadata": {
        "id": "AfUguEiSQd7N",
        "colab_type": "code",
        "colab": {}
      },
      "source": [
        "for i in train_samples:\n",
        "  print(i)\n",
        "  "
      ],
      "execution_count": 0,
      "outputs": []
    },
    {
      "cell_type": "code",
      "metadata": {
        "id": "oHA5cN2aQnia",
        "colab_type": "code",
        "colab": {}
      },
      "source": [
        "train_labels = np.array(train_labels)\n",
        "train_samples = np.array(train_samples)\n",
        "#convert to numpy array"
      ],
      "execution_count": 0,
      "outputs": []
    },
    {
      "cell_type": "code",
      "metadata": {
        "id": "rVNPVToGQq0M",
        "colab_type": "code",
        "outputId": "6d2f235b-f02d-4cf4-950e-f47c34424644",
        "colab": {
          "base_uri": "https://localhost:8080/",
          "height": 72
        }
      },
      "source": [
        "scaler = MinMaxScaler(feature_range=(0,1))\n",
        "#scales input from 0 to 1\n",
        "scaled_train_samples = scaler.fit_transform((train_samples).reshape(-1,1))\n",
        "#fit transform actually scales the data\n",
        "# we use -1, 1 reshape to allow fit_transform to accept 1d array"
      ],
      "execution_count": 0,
      "outputs": [
        {
          "output_type": "stream",
          "text": [
            "/usr/local/lib/python3.6/dist-packages/sklearn/utils/validation.py:475: DataConversionWarning: Data with input dtype int64 was converted to float64 by MinMaxScaler.\n",
            "  warnings.warn(msg, DataConversionWarning)\n"
          ],
          "name": "stderr"
        }
      ]
    },
    {
      "cell_type": "code",
      "metadata": {
        "id": "Z61XU3P8RSVM",
        "colab_type": "code",
        "outputId": "259808c6-cb52-432e-c5a7-6beac949efd2",
        "colab": {
          "base_uri": "https://localhost:8080/",
          "height": 191
        }
      },
      "source": [
        "for i in scaled_train_samples[:10]:\n",
        "  print(i)"
      ],
      "execution_count": 0,
      "outputs": [
        {
          "output_type": "stream",
          "text": [
            "[0.14942529]\n",
            "[0.29885057]\n",
            "[1.]\n",
            "[0.10344828]\n",
            "[0.93103448]\n",
            "[0.28735632]\n",
            "[0.88505747]\n",
            "[0.06896552]\n",
            "[0.67816092]\n",
            "[0.1954023]\n"
          ],
          "name": "stdout"
        }
      ]
    },
    {
      "cell_type": "code",
      "metadata": {
        "id": "f0p8sVbBR6ui",
        "colab_type": "code",
        "colab": {}
      },
      "source": [
        "import keras\n",
        "from keras import backend as K\n",
        "from keras.models import Sequential\n",
        "from keras.layers import Activation\n",
        "from keras.layers.core import Dense\n",
        "from keras.optimizers import Adam\n",
        "from keras.metrics import categorical_crossentropy"
      ],
      "execution_count": 0,
      "outputs": []
    },
    {
      "cell_type": "code",
      "metadata": {
        "id": "HISVLjW8SnF2",
        "colab_type": "code",
        "colab": {}
      },
      "source": [
        "model = Sequential([\n",
        "  Dense(16, input_shape=(1,), activation='relu'),\n",
        "  Dense(32, activation='relu'),\n",
        "  Dense(2, activation='softmax')\n",
        "])"
      ],
      "execution_count": 0,
      "outputs": []
    },
    {
      "cell_type": "code",
      "metadata": {
        "id": "fc4k3lcrSxt8",
        "colab_type": "code",
        "outputId": "d3da117c-2167-4169-c586-d4620f9e5192",
        "colab": {
          "base_uri": "https://localhost:8080/",
          "height": 243
        }
      },
      "source": [
        "model.summary()"
      ],
      "execution_count": 0,
      "outputs": [
        {
          "output_type": "stream",
          "text": [
            "_________________________________________________________________\n",
            "Layer (type)                 Output Shape              Param #   \n",
            "=================================================================\n",
            "dense_1 (Dense)              (None, 16)                32        \n",
            "_________________________________________________________________\n",
            "dense_2 (Dense)              (None, 32)                544       \n",
            "_________________________________________________________________\n",
            "dense_3 (Dense)              (None, 2)                 66        \n",
            "=================================================================\n",
            "Total params: 642\n",
            "Trainable params: 642\n",
            "Non-trainable params: 0\n",
            "_________________________________________________________________\n"
          ],
          "name": "stdout"
        }
      ]
    },
    {
      "cell_type": "code",
      "metadata": {
        "id": "2wca_L3GTi9A",
        "colab_type": "code",
        "colab": {}
      },
      "source": [
        "model.compile(Adam(lr=.0001), loss=\"sparse_categorical_crossentropy\", metrics=['accuracy'])"
      ],
      "execution_count": 0,
      "outputs": []
    },
    {
      "cell_type": "code",
      "metadata": {
        "id": "XXwzO4M2UTEf",
        "colab_type": "code",
        "outputId": "b3a497a5-59e8-48c1-9f4e-eaefb71b40b6",
        "colab": {
          "base_uri": "https://localhost:8080/",
          "height": 745
        }
      },
      "source": [
        "model.fit(scaled_train_samples, train_labels, validation_split=0.1, batch_size=10, epochs=20, shuffle=True, verbose=2)\n",
        "#shuffle = True is default\n",
        "#verbose = 2 how much text output "
      ],
      "execution_count": 0,
      "outputs": [
        {
          "output_type": "stream",
          "text": [
            "Train on 1890 samples, validate on 211 samples\n",
            "Epoch 1/20\n",
            " - 0s - loss: 0.0399 - acc: 0.9968 - val_loss: 0.0330 - val_acc: 0.9810\n",
            "Epoch 2/20\n",
            " - 0s - loss: 0.0396 - acc: 0.9937 - val_loss: 0.0317 - val_acc: 1.0000\n",
            "Epoch 3/20\n",
            " - 0s - loss: 0.0392 - acc: 0.9947 - val_loss: 0.0312 - val_acc: 1.0000\n",
            "Epoch 4/20\n",
            " - 0s - loss: 0.0389 - acc: 0.9963 - val_loss: 0.0314 - val_acc: 1.0000\n",
            "Epoch 5/20\n",
            " - 0s - loss: 0.0387 - acc: 0.9947 - val_loss: 0.0319 - val_acc: 0.9810\n",
            "Epoch 6/20\n",
            " - 0s - loss: 0.0381 - acc: 0.9963 - val_loss: 0.0318 - val_acc: 0.9810\n",
            "Epoch 7/20\n",
            " - 0s - loss: 0.0375 - acc: 0.9963 - val_loss: 0.0297 - val_acc: 1.0000\n",
            "Epoch 8/20\n",
            " - 0s - loss: 0.0376 - acc: 0.9968 - val_loss: 0.0302 - val_acc: 1.0000\n",
            "Epoch 9/20\n",
            " - 0s - loss: 0.0373 - acc: 0.9963 - val_loss: 0.0300 - val_acc: 1.0000\n",
            "Epoch 10/20\n",
            " - 0s - loss: 0.0368 - acc: 0.9995 - val_loss: 0.0305 - val_acc: 0.9810\n",
            "Epoch 11/20\n",
            " - 0s - loss: 0.0366 - acc: 0.9963 - val_loss: 0.0307 - val_acc: 0.9810\n",
            "Epoch 12/20\n",
            " - 0s - loss: 0.0362 - acc: 0.9958 - val_loss: 0.0298 - val_acc: 1.0000\n",
            "Epoch 13/20\n",
            " - 0s - loss: 0.0358 - acc: 0.9958 - val_loss: 0.0297 - val_acc: 1.0000\n",
            "Epoch 14/20\n",
            " - 0s - loss: 0.0355 - acc: 0.9958 - val_loss: 0.0285 - val_acc: 1.0000\n",
            "Epoch 15/20\n",
            " - 0s - loss: 0.0353 - acc: 0.9979 - val_loss: 0.0298 - val_acc: 0.9810\n",
            "Epoch 16/20\n",
            " - 0s - loss: 0.0350 - acc: 0.9979 - val_loss: 0.0302 - val_acc: 0.9810\n",
            "Epoch 17/20\n",
            " - 0s - loss: 0.0348 - acc: 0.9963 - val_loss: 0.0298 - val_acc: 0.9810\n",
            "Epoch 18/20\n",
            " - 0s - loss: 0.0343 - acc: 0.9958 - val_loss: 0.0277 - val_acc: 1.0000\n",
            "Epoch 19/20\n",
            " - 0s - loss: 0.0343 - acc: 1.0000 - val_loss: 0.0288 - val_acc: 0.9810\n",
            "Epoch 20/20\n",
            " - 0s - loss: 0.0342 - acc: 0.9942 - val_loss: 0.0275 - val_acc: 1.0000\n"
          ],
          "name": "stdout"
        },
        {
          "output_type": "execute_result",
          "data": {
            "text/plain": [
              "<keras.callbacks.History at 0x7f0c9039d5c0>"
            ]
          },
          "metadata": {
            "tags": []
          },
          "execution_count": 34
        }
      ]
    },
    {
      "cell_type": "code",
      "metadata": {
        "id": "oktvHiPAWOIm",
        "colab_type": "code",
        "colab": {}
      },
      "source": [
        "test_labels = np.array(test_labels)\n",
        "test_samples = np.array(test_samples)\n",
        "#convert to numpy array"
      ],
      "execution_count": 0,
      "outputs": []
    },
    {
      "cell_type": "code",
      "metadata": {
        "id": "uByXOf3yW0Dn",
        "colab_type": "code",
        "outputId": "7b09519e-19aa-4324-e181-6f75df9f86f9",
        "colab": {
          "base_uri": "https://localhost:8080/",
          "height": 72
        }
      },
      "source": [
        "scaled_test_samples = scaler.fit_transform((test_samples).reshape(-1,1))"
      ],
      "execution_count": 0,
      "outputs": [
        {
          "output_type": "stream",
          "text": [
            "/usr/local/lib/python3.6/dist-packages/sklearn/utils/validation.py:475: DataConversionWarning: Data with input dtype int64 was converted to float64 by MinMaxScaler.\n",
            "  warnings.warn(msg, DataConversionWarning)\n"
          ],
          "name": "stderr"
        }
      ]
    },
    {
      "cell_type": "code",
      "metadata": {
        "id": "zIo-WpYFU8e_",
        "colab_type": "code",
        "colab": {}
      },
      "source": [
        "predictions = model.predict(scaled_test_samples, batch_size=10, verbose=0)"
      ],
      "execution_count": 0,
      "outputs": []
    },
    {
      "cell_type": "code",
      "metadata": {
        "id": "9gAAA_kjXKRG",
        "colab_type": "code",
        "outputId": "e06680b1-e9fb-4427-f331-4e206a7c4748",
        "colab": {
          "base_uri": "https://localhost:8080/",
          "height": 191
        }
      },
      "source": [
        "for i in predictions[:10]:\n",
        "  print(i)"
      ],
      "execution_count": 0,
      "outputs": [
        {
          "output_type": "stream",
          "text": [
            "[9.9949074e-01 5.0919870e-04]\n",
            "[0.02130726 0.9786927 ]\n",
            "[9.9966180e-01 3.3820508e-04]\n",
            "[1.02792114e-07 9.99999881e-01]\n",
            "[0.9838368  0.01616317]\n",
            "[3.0376086e-07 9.9999964e-01]\n",
            "[9.9979812e-01 2.0189946e-04]\n",
            "[1.4451348e-04 9.9985552e-01]\n",
            "[0.9907659 0.0092341]\n",
            "[0.0022796 0.9977204]\n"
          ],
          "name": "stdout"
        }
      ]
    },
    {
      "cell_type": "code",
      "metadata": {
        "id": "l55ATlqyXgD7",
        "colab_type": "code",
        "colab": {}
      },
      "source": [
        "rounded_predictions = model.predict_classes(scaled_test_samples, batch_size=10, verbose=0)"
      ],
      "execution_count": 0,
      "outputs": []
    },
    {
      "cell_type": "code",
      "metadata": {
        "id": "NH_lVvWZXrlf",
        "colab_type": "code",
        "outputId": "d3c7212b-d93a-4164-c95e-6f7df8d8122d",
        "colab": {
          "base_uri": "https://localhost:8080/",
          "height": 191
        }
      },
      "source": [
        "for i in rounded_predictions[:10]:\n",
        "  print(i)"
      ],
      "execution_count": 0,
      "outputs": [
        {
          "output_type": "stream",
          "text": [
            "0\n",
            "1\n",
            "0\n",
            "1\n",
            "0\n",
            "1\n",
            "0\n",
            "1\n",
            "0\n",
            "1\n"
          ],
          "name": "stdout"
        }
      ]
    },
    {
      "cell_type": "code",
      "metadata": {
        "id": "gD0A0SIiX-zo",
        "colab_type": "code",
        "colab": {}
      },
      "source": [
        "%matplotlib inline\n",
        "from sklearn.metrics import confusion_matrix\n",
        "import itertools\n",
        "import matplotlib.pyplot as plt"
      ],
      "execution_count": 0,
      "outputs": []
    },
    {
      "cell_type": "code",
      "metadata": {
        "id": "KTb9wLNxYaNY",
        "colab_type": "code",
        "colab": {}
      },
      "source": [
        "cm = confusion_matrix(test_labels, rounded_predictions)"
      ],
      "execution_count": 0,
      "outputs": []
    },
    {
      "cell_type": "markdown",
      "metadata": {
        "id": "EVqh3_IPYv3G",
        "colab_type": "text"
      },
      "source": [
        "Below is from sklearn http://scikit-learn.org/stable/auto_examples/model_selection/plot_confusion_matrix.html "
      ]
    },
    {
      "cell_type": "code",
      "metadata": {
        "id": "x16lSCdMYf2I",
        "colab_type": "code",
        "colab": {}
      },
      "source": [
        "def plot_confusion_matrix(cm, classes,\n",
        "                          normalize=False,\n",
        "                          title='Confusion matrix',\n",
        "                          cmap=plt.cm.Blues):\n",
        "    \"\"\"\n",
        "    This function prints and plots the confusion matrix.\n",
        "    Normalization can be applied by setting `normalize=True`.\n",
        "    \"\"\"\n",
        "\n",
        "    plt.imshow(cm, interpolation='nearest', cmap=cmap)\n",
        "    plt.title(title)\n",
        "    plt.colorbar()\n",
        "    tick_marks = np.arange(len(classes))\n",
        "    plt.xticks(tick_marks, classes, rotation=45)\n",
        "    plt.yticks(tick_marks, classes)\n",
        "    \n",
        "    if normalize:\n",
        "        cm = cm.astype('float') / cm.sum(axis=1)[:, np.newaxis]\n",
        "        print(\"Normalized confusion matrix\")\n",
        "    else:\n",
        "        print('Confusion matrix, without normalization')\n",
        "\n",
        "    print(cm)\n",
        "\n",
        "    fmt = '.2f' if normalize else 'd'\n",
        "    thresh = cm.max() / 2.\n",
        "    for i, j in itertools.product(range(cm.shape[0]), range(cm.shape[1])):\n",
        "        plt.text(j, i, format(cm[i, j], fmt),\n",
        "                 horizontalalignment=\"center\",\n",
        "                 color=\"white\" if cm[i, j] > thresh else \"black\")\n",
        "\n",
        "    plt.tight_layout()\n",
        "    plt.ylabel('True label')\n",
        "    plt.xlabel('Predicted label')\n",
        "\n",
        "  "
      ],
      "execution_count": 0,
      "outputs": []
    },
    {
      "cell_type": "code",
      "metadata": {
        "id": "5OwAUlnkZEZx",
        "colab_type": "code",
        "outputId": "17b73573-8d96-45d3-e0ee-e69789be99bd",
        "colab": {
          "base_uri": "https://localhost:8080/",
          "height": 363
        }
      },
      "source": [
        "cm_plot_labels = ['no_side_effects', 'had_side_effects']\n",
        "plot_confusion_matrix(cm, cm_plot_labels, title='Confusion Matrix')"
      ],
      "execution_count": 0,
      "outputs": [
        {
          "output_type": "stream",
          "text": [
            "Confusion matrix, without normalization\n",
            "[[1050    0]\n",
            " [   0 1050]]\n"
          ],
          "name": "stdout"
        },
        {
          "output_type": "display_data",
          "data": {
            "image/png": "[encoded data removed]",
            "text/plain": [
              "<matplotlib.figure.Figure at 0x7f0c8db1a898>"
            ]
          },
          "metadata": {
            "tags": []
          }
        }
      ]
    },
    {
      "cell_type": "code",
      "metadata": {
        "id": "gdHTBVSoZX7c",
        "colab_type": "code",
        "colab": {}
      },
      "source": [
        "model.save(\"medical_trial_model.h5\")"
      ],
      "execution_count": 0,
      "outputs": []
    },
    {
      "cell_type": "code",
      "metadata": {
        "id": "LYBalwNTapOf",
        "colab_type": "code",
        "colab": {}
      },
      "source": [
        "from keras.models import load_model"
      ],
      "execution_count": 0,
      "outputs": []
    },
    {
      "cell_type": "code",
      "metadata": {
        "id": "CKBw0aivasQe",
        "colab_type": "code",
        "colab": {}
      },
      "source": [
        "new_model = load_model(\"medical_trial_model.h5\")"
      ],
      "execution_count": 0,
      "outputs": []
    },
    {
      "cell_type": "code",
      "metadata": {
        "id": "PyWa_7ZqayTm",
        "colab_type": "code",
        "outputId": "e40791d4-463c-46c8-f3f5-3cb63815e860",
        "colab": {
          "base_uri": "https://localhost:8080/",
          "height": 243
        }
      },
      "source": [
        "new_model.summary()"
      ],
      "execution_count": 0,
      "outputs": [
        {
          "output_type": "stream",
          "text": [
            "_________________________________________________________________\n",
            "Layer (type)                 Output Shape              Param #   \n",
            "=================================================================\n",
            "dense_1 (Dense)              (None, 16)                32        \n",
            "_________________________________________________________________\n",
            "dense_2 (Dense)              (None, 32)                544       \n",
            "_________________________________________________________________\n",
            "dense_3 (Dense)              (None, 2)                 66        \n",
            "=================================================================\n",
            "Total params: 642\n",
            "Trainable params: 642\n",
            "Non-trainable params: 0\n",
            "_________________________________________________________________\n"
          ],
          "name": "stdout"
        }
      ]
    },
    {
      "cell_type": "code",
      "metadata": {
        "id": "mcPzXb2QazqJ",
        "colab_type": "code",
        "outputId": "a85002e3-aa16-4926-ede2-6166b8892e0e",
        "colab": {
          "base_uri": "https://localhost:8080/",
          "height": 3900
        }
      },
      "source": [
        "new_model.get_weights()"
      ],
      "execution_count": 0,
      "outputs": [
        {
          "output_type": "execute_result",
          "data": {
            "text/plain": [
              "[array([[-0.10307963, -0.5419015 , -0.50813013, -0.11314046, -0.03948814,\n",
              "          0.74857295, -0.11745089,  0.63280666, -0.36809957, -0.07700157,\n",
              "          0.4800552 ,  0.636465  ,  0.75673074, -0.05597526, -0.5705619 ,\n",
              "          0.7239438 ]], dtype=float32),\n",
              " array([ 0.3909689 ,  0.        ,  0.        ,  0.        ,  0.        ,\n",
              "        -0.22115272,  0.        , -0.2545957 ,  0.        ,  0.        ,\n",
              "        -0.20636974,  0.01198408, -0.21321635,  0.        ,  0.        ,\n",
              "        -0.25302592], dtype=float32),\n",
              " array([[ 6.75519466e-01, -1.04317039e-01, -3.34094852e-01,\n",
              "          9.00072008e-02,  1.78493969e-02,  2.57133812e-01,\n",
              "         -3.81988108e-01,  2.08941191e-01, -1.09311476e-01,\n",
              "         -4.19992000e-01, -1.83037445e-01,  7.12085962e-02,\n",
              "          4.34213549e-01, -3.07341218e-01, -1.04436606e-01,\n",
              "          3.23853374e-01, -2.26912975e-01,  7.15126514e-01,\n",
              "         -4.29112315e-02, -2.49916822e-01, -1.01156928e-01,\n",
              "          1.28126383e-01,  7.52505437e-02,  4.39139187e-01,\n",
              "          6.93847477e-01, -3.78134817e-01,  4.85813111e-01,\n",
              "         -4.58032429e-01,  3.02856028e-01, -1.59600943e-01,\n",
              "         -2.42526025e-01, -3.33390236e-01],\n",
              "        [ 2.86321908e-01,  2.14601189e-01, -2.91484475e-01,\n",
              "         -2.74741232e-01,  1.64203674e-01, -3.39500278e-01,\n",
              "          2.15862781e-01, -2.63491571e-01, -2.71278948e-01,\n",
              "         -7.36485720e-02, -3.30423445e-01,  2.97726959e-01,\n",
              "          1.19709671e-02,  1.70331150e-01,  1.47421390e-01,\n",
              "         -1.77184165e-01, -2.51041889e-01,  2.88972169e-01,\n",
              "         -1.05576336e-01, -2.11234689e-01,  1.45738989e-01,\n",
              "         -3.25392544e-01, -2.38118321e-01,  3.44043076e-02,\n",
              "          2.47909278e-01,  2.55922377e-02,  2.09082067e-02,\n",
              "          2.65340716e-01, -2.77927220e-02, -1.11451685e-01,\n",
              "         -2.99084902e-01,  1.98470205e-01],\n",
              "        [-3.20727229e-01,  4.17577624e-02,  3.14094394e-01,\n",
              "         -2.48657644e-01,  1.45725250e-01,  2.02827007e-01,\n",
              "          2.25813061e-01,  3.47797662e-01, -3.26745808e-01,\n",
              "          1.79635078e-01,  8.87804925e-02,  7.24990666e-02,\n",
              "          1.35762513e-01,  2.99034148e-01,  3.03090304e-01,\n",
              "          2.74387002e-02, -2.21723184e-01,  3.40139240e-01,\n",
              "          2.32255846e-01, -2.99883932e-01,  2.70168781e-02,\n",
              "         -1.83890909e-01,  7.14351237e-02, -3.31868917e-01,\n",
              "          1.63506001e-01, -3.02938551e-01,  3.35323811e-02,\n",
              "          1.58402413e-01,  1.93588704e-01,  2.41625577e-01,\n",
              "          3.35868388e-01, -4.43075597e-02],\n",
              "        [-2.53626496e-01,  8.75014067e-02,  7.31324553e-02,\n",
              "         -1.70142353e-01,  3.34329337e-01,  1.85296327e-01,\n",
              "         -1.68227881e-01,  2.03008384e-01,  5.73212206e-02,\n",
              "          8.35704803e-03, -1.89262778e-01, -5.68856001e-02,\n",
              "         -2.66059577e-01,  5.04273474e-02, -1.13043413e-01,\n",
              "         -8.22224319e-02, -1.24017358e-01,  2.19467551e-01,\n",
              "          4.58731353e-02, -2.82770365e-01, -2.89509386e-01,\n",
              "         -8.86785984e-03,  2.83308238e-01,  7.42561817e-02,\n",
              "         -2.22285092e-02,  7.36959577e-02, -1.65076301e-01,\n",
              "          1.48239762e-01, -2.51118004e-01,  2.12768584e-01,\n",
              "          1.82578355e-01, -3.36980730e-01],\n",
              "        [-3.09257388e-01, -1.95699960e-01, -4.82977629e-02,\n",
              "         -1.20483339e-01,  2.91224152e-01, -1.42125413e-01,\n",
              "          2.36876309e-02,  3.98070216e-02,  2.59824783e-01,\n",
              "          4.22641039e-02,  1.43173337e-03, -1.36304513e-01,\n",
              "          2.55795866e-01,  1.72498524e-02,  2.92552143e-01,\n",
              "         -1.92094877e-01, -9.74881053e-02,  8.43340158e-03,\n",
              "          2.04761535e-01,  1.45108223e-01, -2.48019606e-01,\n",
              "          4.85565364e-02, -5.66334724e-02, -1.69963405e-01,\n",
              "          7.36605525e-02, -2.91444093e-01,  3.45962375e-01,\n",
              "         -1.76270425e-01, -7.88459480e-02,  3.42995375e-01,\n",
              "          3.23889405e-01,  3.37101847e-01],\n",
              "        [-1.82293415e-01,  4.76347834e-01, -3.31070989e-01,\n",
              "         -2.36393362e-01,  4.89569634e-01, -1.01063184e-01,\n",
              "          6.18852019e-01, -1.93320841e-01, -7.48557448e-02,\n",
              "          6.93698645e-01,  1.28731221e-01, -8.92624035e-02,\n",
              "         -2.83011764e-01, -2.11051106e-02,  9.74767208e-02,\n",
              "         -3.60878408e-01, -1.21244006e-01, -8.90653729e-02,\n",
              "         -2.75192380e-01,  4.38907444e-01,  1.72706932e-01,\n",
              "          4.74659860e-01,  1.00259468e-01, -8.67988095e-02,\n",
              "         -4.95796055e-01,  6.24782741e-01, -5.58436155e-01,\n",
              "          5.63515186e-01,  8.05692747e-02,  1.20331287e-01,\n",
              "          4.97813970e-01, -9.47827101e-02],\n",
              "        [-3.31358433e-01, -2.13169575e-01, -1.97692662e-01,\n",
              "          3.01433235e-01,  8.64419937e-02, -2.11513281e-01,\n",
              "          1.57566577e-01, -3.66531014e-02,  2.13915318e-01,\n",
              "          2.05368996e-02, -2.35437512e-01, -1.33532882e-02,\n",
              "         -8.49048197e-02,  2.45141059e-01,  7.07443357e-02,\n",
              "          7.79040754e-02,  1.94294184e-01,  1.29058212e-01,\n",
              "          2.28357464e-01, -6.68289661e-02, -1.03974000e-01,\n",
              "          2.74854273e-01, -2.66533375e-01, -1.49007067e-01,\n",
              "         -3.41848284e-01,  2.62830108e-01,  2.43170470e-01,\n",
              "         -3.29999626e-01, -3.14668536e-01,  2.66744524e-01,\n",
              "         -3.60347033e-02,  5.81351817e-02],\n",
              "        [-5.85745871e-01,  8.11980665e-01, -2.82309651e-02,\n",
              "          2.05090553e-01,  2.11262405e-01, -7.46379614e-01,\n",
              "          8.61262619e-01, -2.55268723e-01, -1.32388726e-01,\n",
              "          4.46055204e-01, -1.19489089e-01,  1.26283154e-01,\n",
              "         -5.51093161e-01,  6.11525476e-02,  7.06715882e-02,\n",
              "         -5.64820170e-01, -3.25369537e-01, -7.88642824e-01,\n",
              "         -1.27251700e-01,  5.24906278e-01,  1.63468927e-01,\n",
              "          4.18983698e-01,  5.02554297e-01, -2.91805089e-01,\n",
              "         -6.75303400e-01,  5.35413206e-01, -2.98549742e-01,\n",
              "          5.24697959e-01,  4.40929942e-02,  6.48966730e-02,\n",
              "          4.77269053e-01, -1.81177914e-01],\n",
              "        [-2.52027184e-01,  2.27087468e-01, -2.46708393e-02,\n",
              "         -3.06002200e-02, -3.25718850e-01,  1.90521091e-01,\n",
              "          2.87505835e-01, -2.49820709e-01,  8.82719457e-02,\n",
              "         -7.04116225e-02,  4.42318618e-02, -2.56299794e-01,\n",
              "          6.81637526e-02, -2.88769722e-01, -1.73884153e-01,\n",
              "          3.23473543e-01,  1.96352988e-01, -2.18743235e-01,\n",
              "          5.33583164e-02,  2.76598364e-01, -1.03689164e-01,\n",
              "         -2.26584747e-01, -6.68576360e-03,  1.41344666e-01,\n",
              "          2.09497660e-01,  1.64380938e-01,  4.42944765e-02,\n",
              "         -2.54115403e-01, -2.46891946e-01, -2.37768918e-01,\n",
              "          1.17235243e-01,  3.01048547e-01],\n",
              "        [-2.23036230e-01, -2.89648741e-01,  2.88232356e-01,\n",
              "         -4.45898473e-02, -9.32254493e-02,  2.86880165e-01,\n",
              "         -1.94205254e-01, -2.51910359e-01, -3.27180028e-02,\n",
              "          1.97558910e-01, -1.41241670e-01, -1.44297063e-01,\n",
              "         -1.41035914e-01,  2.24340588e-01, -2.88602471e-01,\n",
              "         -2.70050794e-01, -2.72114962e-01,  2.05017596e-01,\n",
              "          7.85306096e-02,  2.14355260e-01,  8.93148184e-02,\n",
              "         -1.17832214e-01,  8.83749425e-02, -3.51051450e-01,\n",
              "         -1.63492933e-01,  1.59458131e-01,  8.88499320e-02,\n",
              "         -3.42652619e-01,  2.16975361e-01, -2.87587762e-01,\n",
              "         -2.71073848e-01,  1.73348188e-02],\n",
              "        [-8.43312562e-01,  5.07207215e-01,  1.91054612e-01,\n",
              "          2.45999366e-01,  5.85144341e-01, -3.83256406e-01,\n",
              "          5.15942454e-01, -1.97232500e-01,  1.03137463e-01,\n",
              "          6.35209322e-01, -1.02911562e-01,  2.30859786e-01,\n",
              "         -3.52867424e-01, -1.77368939e-01,  1.48437589e-01,\n",
              "         -6.34030223e-01,  2.59131193e-04, -5.82452118e-01,\n",
              "          1.69136733e-01,  3.52792263e-01,  6.95000291e-01,\n",
              "          8.41293454e-01,  3.53005499e-01, -6.12039745e-01,\n",
              "         -7.07957983e-01,  8.84387374e-01, -1.97727919e-01,\n",
              "          5.87541878e-01, -4.63911384e-01, -8.17894042e-02,\n",
              "          7.74094999e-01, -1.30835533e-01],\n",
              "        [ 2.10691407e-01,  3.66145670e-01,  1.19133532e-01,\n",
              "         -8.19742084e-02,  4.35856402e-01,  2.23980412e-01,\n",
              "          5.07365942e-01, -3.13784361e-01, -2.47369543e-01,\n",
              "          2.71377712e-01, -2.30032861e-01, -1.70111567e-01,\n",
              "          2.00076118e-01,  2.36878693e-02, -1.96693942e-01,\n",
              "          5.72090559e-02,  7.55436197e-02, -2.09923178e-01,\n",
              "         -1.84505746e-01,  4.78027537e-02,  1.86610878e-01,\n",
              "         -1.65910274e-02,  2.37038746e-01,  7.09540695e-02,\n",
              "          2.69648224e-01,  2.41576985e-01, -2.86734909e-01,\n",
              "          3.87926131e-01, -5.49741462e-02,  1.16708502e-01,\n",
              "          2.42987171e-01,  1.24020129e-01],\n",
              "        [-1.34609967e-01,  6.40906453e-01, -5.40655553e-02,\n",
              "         -4.40478399e-02,  5.66352010e-01, -3.96546781e-01,\n",
              "          5.01502216e-01,  3.18897039e-01,  1.01737022e-01,\n",
              "          5.53685427e-01, -2.56173074e-01, -5.37438095e-02,\n",
              "         -1.44430444e-01,  1.78791076e-01, -4.02319431e-02,\n",
              "         -6.63196994e-03,  2.93176144e-01, -3.25331002e-01,\n",
              "         -2.42589325e-01,  5.13548493e-01,  6.78390801e-01,\n",
              "          6.35069072e-01,  6.88436270e-01, -4.93958920e-01,\n",
              "         -3.82816374e-01,  5.10908902e-01, -3.44913095e-01,\n",
              "          4.86274809e-01, -2.61614501e-01, -2.99934924e-01,\n",
              "          6.08353794e-01,  5.42849302e-04],\n",
              "        [ 1.30537063e-01,  2.31453151e-01, -1.38723314e-01,\n",
              "         -2.44461328e-01, -4.22573090e-03, -4.92706001e-02,\n",
              "          1.27798021e-01, -9.49662924e-02,  2.36525923e-01,\n",
              "          9.38446820e-02,  2.01172203e-01,  1.00968510e-01,\n",
              "          2.87193269e-01,  2.47435540e-01, -4.54313457e-02,\n",
              "          4.98037636e-02,  3.38578612e-01,  3.38552505e-01,\n",
              "          3.46208185e-01, -1.96197957e-01, -3.11697841e-01,\n",
              "          2.56932467e-01,  1.69649720e-03,  1.73505753e-01,\n",
              "          2.62636751e-01, -2.79728383e-01,  1.07526302e-01,\n",
              "         -1.17927551e-01, -9.14555490e-02, -1.13924369e-01,\n",
              "          3.22345763e-01,  4.16859388e-02],\n",
              "        [ 1.04322225e-01, -5.52692711e-02, -5.14536202e-02,\n",
              "          1.15950853e-01, -6.84658587e-02, -3.15446496e-01,\n",
              "         -1.57726109e-02,  1.52726501e-01,  7.15215206e-02,\n",
              "          2.14859545e-02, -3.03114235e-01,  2.00712711e-01,\n",
              "         -4.71089780e-02,  3.15298349e-01,  3.00431520e-01,\n",
              "          2.71814436e-01, -2.30361342e-01,  2.83393294e-01,\n",
              "          3.47481877e-01, -5.43448925e-02,  8.72525871e-02,\n",
              "         -1.85366973e-01,  3.09943765e-01,  5.85503876e-02,\n",
              "          1.69064730e-01,  1.62342191e-03, -2.97774643e-01,\n",
              "         -1.37770876e-01,  2.89961189e-01, -1.00396991e-01,\n",
              "         -4.21356261e-02,  1.64565444e-03],\n",
              "        [-7.25893497e-01,  7.16079831e-01, -3.21989864e-01,\n",
              "         -2.35158771e-01,  7.17705607e-01, -2.77831703e-01,\n",
              "          2.58257478e-01, -2.23498076e-01,  9.16577578e-02,\n",
              "          1.91174880e-01,  3.27632040e-01,  1.99518423e-03,\n",
              "         -3.76647294e-01, -1.23337612e-01, -7.30699003e-02,\n",
              "         -3.04217428e-01, -5.75168757e-03, -2.79558092e-01,\n",
              "         -7.89964199e-02,  5.92529893e-01,  6.93467081e-01,\n",
              "          1.96326554e-01,  7.95779943e-01, -9.94988382e-02,\n",
              "         -3.96917075e-01,  2.64593452e-01, -1.53364047e-01,\n",
              "          3.42114657e-01, -1.67306393e-01,  1.18915765e-02,\n",
              "          6.55720770e-01, -3.07517648e-02]], dtype=float32),\n",
              " array([ 0.36125156, -0.21678554,  0.        , -0.03579928, -0.2355018 ,\n",
              "         0.35592493, -0.20143647, -0.07965197,  0.        , -0.146366  ,\n",
              "         0.        , -0.02829443,  0.35106966,  0.        ,  0.        ,\n",
              "         0.3560196 , -0.00212953,  0.43043447,  0.        , -0.1275229 ,\n",
              "        -0.17800261, -0.18196665, -0.22165273,  0.35033378,  0.4456653 ,\n",
              "        -0.14929143,  0.4445612 , -0.15653037,  0.07403737, -0.00063752,\n",
              "        -0.18978623,  0.        ], dtype=float32),\n",
              " array([[ 1.0864061 , -1.1130725 ],\n",
              "        [-0.6802578 ,  0.5589298 ],\n",
              "        [ 0.23244557, -0.2757241 ],\n",
              "        [ 0.06468619,  0.36264536],\n",
              "        [-0.4454473 ,  0.70517343],\n",
              "        [ 0.81622154, -0.6331745 ],\n",
              "        [-0.2219191 ,  0.9146694 ],\n",
              "        [-0.35559964,  0.19962244],\n",
              "        [ 0.38287523, -0.20067945],\n",
              "        [-0.9633193 ,  1.0210788 ],\n",
              "        [ 0.12491557,  0.26745936],\n",
              "        [-0.37922674,  0.1972219 ],\n",
              "        [ 0.37649688, -0.799716  ],\n",
              "        [-0.34794077, -0.31719714],\n",
              "        [ 0.3989754 ,  0.24414316],\n",
              "        [ 0.6747024 , -0.8397162 ],\n",
              "        [-0.21088572, -0.13818002],\n",
              "        [ 1.2408059 , -0.76430756],\n",
              "        [ 0.12779275, -0.07522795],\n",
              "        [-1.0855955 ,  0.6720936 ],\n",
              "        [-0.8906724 ,  0.88011724],\n",
              "        [-0.7380902 ,  0.9447503 ],\n",
              "        [-0.4874775 ,  0.68966264],\n",
              "        [ 0.51962703, -0.54547906],\n",
              "        [ 0.6737375 , -1.1012261 ],\n",
              "        [-0.9657999 ,  0.774217  ],\n",
              "        [ 0.70280135, -1.3246562 ],\n",
              "        [-0.41378307,  1.0635189 ],\n",
              "        [ 0.55492806, -0.39163896],\n",
              "        [-0.13945657,  0.09849081],\n",
              "        [-0.9656506 ,  0.30233347],\n",
              "        [ 0.4122152 , -0.26546967]], dtype=float32),\n",
              " array([ 0.3173642 , -0.31736416], dtype=float32)]"
            ]
          },
          "metadata": {
            "tags": []
          },
          "execution_count": 59
        }
      ]
    },
    {
      "cell_type": "code",
      "metadata": {
        "id": "nWJkHQ3Va2wH",
        "colab_type": "code",
        "outputId": "f97fdf18-eec8-4ac5-fe52-e3d1d3e24ce5",
        "colab": {
          "base_uri": "https://localhost:8080/",
          "height": 35
        }
      },
      "source": [
        "new_model.optimizer"
      ],
      "execution_count": 0,
      "outputs": [
        {
          "output_type": "execute_result",
          "data": {
            "text/plain": [
              "<keras.optimizers.Adam at 0x7f0c8d203b00>"
            ]
          },
          "metadata": {
            "tags": []
          },
          "execution_count": 60
        }
      ]
    },
    {
      "cell_type": "code",
      "metadata": {
        "id": "zjVUKr9ca7CQ",
        "colab_type": "code",
        "colab": {}
      },
      "source": [
        "#model to json\n",
        "json_string = model.to_json()"
      ],
      "execution_count": 0,
      "outputs": []
    },
    {
      "cell_type": "code",
      "metadata": {
        "id": "zxv0F4yNa_kX",
        "colab_type": "code",
        "outputId": "d8ad3135-e4d5-4048-ed9f-e5e6a5ef7530",
        "colab": {
          "base_uri": "https://localhost:8080/",
          "height": 55
        }
      },
      "source": [
        "json_string"
      ],
      "execution_count": 0,
      "outputs": [
        {
          "output_type": "execute_result",
          "data": {
            "text/plain": [
              "'{\"class_name\": \"Sequential\", \"config\": [{\"class_name\": \"Dense\", \"config\": {\"name\": \"dense_1\", \"trainable\": true, \"batch_input_shape\": [null, 1], \"dtype\": \"float32\", \"units\": 16, \"activation\": \"relu\", \"use_bias\": true, \"kernel_initializer\": {\"class_name\": \"VarianceScaling\", \"config\": {\"scale\": 1.0, \"mode\": \"fan_avg\", \"distribution\": \"uniform\", \"seed\": null}}, \"bias_initializer\": {\"class_name\": \"Zeros\", \"config\": {}}, \"kernel_regularizer\": null, \"bias_regularizer\": null, \"activity_regularizer\": null, \"kernel_constraint\": null, \"bias_constraint\": null}}, {\"class_name\": \"Dense\", \"config\": {\"name\": \"dense_2\", \"trainable\": true, \"units\": 32, \"activation\": \"relu\", \"use_bias\": true, \"kernel_initializer\": {\"class_name\": \"VarianceScaling\", \"config\": {\"scale\": 1.0, \"mode\": \"fan_avg\", \"distribution\": \"uniform\", \"seed\": null}}, \"bias_initializer\": {\"class_name\": \"Zeros\", \"config\": {}}, \"kernel_regularizer\": null, \"bias_regularizer\": null, \"activity_regularizer\": null, \"kernel_constraint\": null, \"bias_constraint\": null}}, {\"class_name\": \"Dense\", \"config\": {\"name\": \"dense_3\", \"trainable\": true, \"units\": 2, \"activation\": \"softmax\", \"use_bias\": true, \"kernel_initializer\": {\"class_name\": \"VarianceScaling\", \"config\": {\"scale\": 1.0, \"mode\": \"fan_avg\", \"distribution\": \"uniform\", \"seed\": null}}, \"bias_initializer\": {\"class_name\": \"Zeros\", \"config\": {}}, \"kernel_regularizer\": null, \"bias_regularizer\": null, \"activity_regularizer\": null, \"kernel_constraint\": null, \"bias_constraint\": null}}], \"keras_version\": \"2.1.6\", \"backend\": \"tensorflow\"}'"
            ]
          },
          "metadata": {
            "tags": []
          },
          "execution_count": 62
        }
      ]
    },
    {
      "cell_type": "code",
      "metadata": {
        "id": "M00MzDi8bAtV",
        "colab_type": "code",
        "colab": {}
      },
      "source": [
        "from keras.models import model_from_json\n",
        "model_architecture = model_from_json(json_string)"
      ],
      "execution_count": 0,
      "outputs": []
    },
    {
      "cell_type": "code",
      "metadata": {
        "id": "1zN3txGrbPr3",
        "colab_type": "code",
        "outputId": "6070344a-c6a2-4392-a421-0883d371c850",
        "colab": {
          "base_uri": "https://localhost:8080/",
          "height": 243
        }
      },
      "source": [
        "model_architecture.summary()"
      ],
      "execution_count": 0,
      "outputs": [
        {
          "output_type": "stream",
          "text": [
            "_________________________________________________________________\n",
            "Layer (type)                 Output Shape              Param #   \n",
            "=================================================================\n",
            "dense_1 (Dense)              (None, 16)                32        \n",
            "_________________________________________________________________\n",
            "dense_2 (Dense)              (None, 32)                544       \n",
            "_________________________________________________________________\n",
            "dense_3 (Dense)              (None, 2)                 66        \n",
            "=================================================================\n",
            "Total params: 642\n",
            "Trainable params: 642\n",
            "Non-trainable params: 0\n",
            "_________________________________________________________________\n"
          ],
          "name": "stdout"
        }
      ]
    },
    {
      "cell_type": "code",
      "metadata": {
        "id": "OMRefBYXbRyb",
        "colab_type": "code",
        "colab": {}
      },
      "source": [
        "model.save_weights(\"my_model_weights.h5\")"
      ],
      "execution_count": 0,
      "outputs": []
    }
  ]
}