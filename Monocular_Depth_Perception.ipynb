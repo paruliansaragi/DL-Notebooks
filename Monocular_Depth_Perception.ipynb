{
  "nbformat": 4,
  "nbformat_minor": 0,
  "metadata": {
    "colab": {
      "name": "Monocular Depth Perception.ipynb",
      "version": "0.3.2",
      "provenance": [],
      "collapsed_sections": [],
      "include_colab_link": true
    },
    "kernelspec": {
      "name": "python3",
      "display_name": "Python 3"
    },
    "accelerator": "GPU"
  },
  "cells": [
    {
      "cell_type": "markdown",
      "metadata": {
        "id": "view-in-github",
        "colab_type": "text"
      },
      "source": [
        "<a href=\"https://colab.research.google.com/github/paruliansaragi/Notebooks/blob/master/Monocular_Depth_Perception.ipynb\" target=\"_parent\"><img src=\"https://colab.research.google.com/assets/colab-badge.svg\" alt=\"Open In Colab\"/></a>"
      ]
    },
    {
      "cell_type": "markdown",
      "metadata": {
        "id": "mRsA_4YDR1ck",
        "colab_type": "text"
      },
      "source": [
        "http://openaccess.thecvf.com/content_cvpr_2017/papers/Godard_Unsupervised_Monocular_Depth_CVPR_2017_paper.pdf\n",
        "\n",
        "#Unsupervised Monocular Depth Estimation with Left-Right Consistency\n"
      ]
    },
    {
      "cell_type": "code",
      "metadata": {
        "id": "mPWSsj6GZI5D",
        "colab_type": "code",
        "outputId": "3018ae6d-f0a6-4e2c-e6a6-18c90c768ce4",
        "colab": {
          "base_uri": "https://localhost:8080/",
          "height": 131
        }
      },
      "source": [
        "!git clone https://github.com/mrharicot/monodepth.git"
      ],
      "execution_count": 0,
      "outputs": [
        {
          "output_type": "stream",
          "text": [
            "Cloning into 'monodepth'...\n",
            "remote: Enumerating objects: 3, done.\u001b[K\n",
            "remote: Counting objects: 100% (3/3), done.\u001b[K\n",
            "remote: Compressing objects: 100% (3/3), done.\u001b[K\n",
            "remote: Total 126 (delta 0), reused 1 (delta 0), pack-reused 123\u001b[K\n",
            "Receiving objects: 100% (126/126), 921.89 KiB | 6.68 MiB/s, done.\n",
            "Resolving deltas: 100% (64/64), done.\n"
          ],
          "name": "stdout"
        }
      ]
    },
    {
      "cell_type": "code",
      "metadata": {
        "id": "U1tYuClCZWPL",
        "colab_type": "code",
        "outputId": "1630c6a0-15ac-4805-d3b6-c40f4be6109b",
        "colab": {
          "base_uri": "https://localhost:8080/",
          "height": 33
        }
      },
      "source": [
        "%cd monodepth"
      ],
      "execution_count": 0,
      "outputs": [
        {
          "output_type": "stream",
          "text": [
            "/content/monodepth\n"
          ],
          "name": "stdout"
        }
      ]
    },
    {
      "cell_type": "code",
      "metadata": {
        "id": "W_PYgm7PZqM_",
        "colab_type": "code",
        "colab": {}
      },
      "source": [
        "!mkdir pretrained"
      ],
      "execution_count": 0,
      "outputs": []
    },
    {
      "cell_type": "code",
      "metadata": {
        "id": "nRbHa_fLZbTu",
        "colab_type": "code",
        "outputId": "2ba82df0-ea6c-4e45-9de4-0040a4b21531",
        "colab": {
          "base_uri": "https://localhost:8080/",
          "height": 277
        }
      },
      "source": [
        "!sh ./utils/get_model.sh model_kitti ./pretrained"
      ],
      "execution_count": 0,
      "outputs": [
        {
          "output_type": "stream",
          "text": [
            "Downloading model_kitti\n",
            "--2019-05-21 11:11:51--  http://visual.cs.ucl.ac.uk/pubs/monoDepth/models/model_kitti.zip\n",
            "Resolving visual.cs.ucl.ac.uk (visual.cs.ucl.ac.uk)... 128.16.10.31\n",
            "Connecting to visual.cs.ucl.ac.uk (visual.cs.ucl.ac.uk)|128.16.10.31|:80... connected.\n",
            "HTTP request sent, awaiting response... 200 OK\n",
            "Length: 348889379 (333M) [application/zip]\n",
            "Saving to: ‘./pretrained/model_kitti.zip’\n",
            "\n",
            "./pretrained/model_ 100%[===================>] 332.73M  30.2MB/s    in 12s     \n",
            "\n",
            "2019-05-21 11:12:04 (28.3 MB/s) - ‘./pretrained/model_kitti.zip’ saved [348889379/348889379]\n",
            "\n",
            "Archive:  ./pretrained/model_kitti.zip\n",
            "  inflating: ./pretrained/model_kitti.data-00000-of-00001  \n",
            "  inflating: ./pretrained/model_kitti.index  \n",
            "  inflating: ./pretrained/model_kitti.meta  \n"
          ],
          "name": "stdout"
        }
      ]
    },
    {
      "cell_type": "code",
      "metadata": {
        "id": "dhWJfP35cC60",
        "colab_type": "code",
        "outputId": "6aa54929-45d5-4680-e7b9-9f3611c54e07",
        "colab": {
          "base_uri": "https://localhost:8080/",
          "height": 277
        }
      },
      "source": [
        "!sh ./utils/get_model.sh model_cityscapes ./pretrained"
      ],
      "execution_count": 0,
      "outputs": [
        {
          "output_type": "stream",
          "text": [
            "Downloading model_cityscapes\n",
            "--2019-05-21 11:12:09--  http://visual.cs.ucl.ac.uk/pubs/monoDepth/models/model_cityscapes.zip\n",
            "Resolving visual.cs.ucl.ac.uk (visual.cs.ucl.ac.uk)... 128.16.10.31\n",
            "Connecting to visual.cs.ucl.ac.uk (visual.cs.ucl.ac.uk)|128.16.10.31|:80... connected.\n",
            "HTTP request sent, awaiting response... 200 OK\n",
            "Length: 349634144 (333M) [application/zip]\n",
            "Saving to: ‘./pretrained/model_cityscapes.zip’\n",
            "\n",
            "./pretrained/model_ 100%[===================>] 333.44M  25.4MB/s    in 14s     \n",
            "\n",
            "2019-05-21 11:12:23 (24.1 MB/s) - ‘./pretrained/model_cityscapes.zip’ saved [349634144/349634144]\n",
            "\n",
            "Archive:  ./pretrained/model_cityscapes.zip\n",
            "  inflating: ./pretrained/model_cityscapes.data-00000-of-00001  \n",
            "  inflating: ./pretrained/model_cityscapes.index  \n",
            "  inflating: ./pretrained/model_cityscapes.meta  \n"
          ],
          "name": "stdout"
        }
      ]
    },
    {
      "cell_type": "code",
      "metadata": {
        "id": "2i8D0-A4Zt-b",
        "colab_type": "code",
        "outputId": "5dc34cf0-689b-43a5-8906-4d69a0c96d1c",
        "colab": {
          "base_uri": "https://localhost:8080/",
          "height": 326
        }
      },
      "source": [
        "!python monodepth_simple.py --image_path ../test_image.jpg --checkpoint_path pretrained/model_cityscapes"
      ],
      "execution_count": 0,
      "outputs": [
        {
          "output_type": "stream",
          "text": [
            "WARNING:tensorflow:From /usr/local/lib/python3.6/dist-packages/tensorflow/python/framework/op_def_library.py:263: colocate_with (from tensorflow.python.framework.ops) is deprecated and will be removed in a future version.\n",
            "Instructions for updating:\n",
            "Colocations handled automatically by placer.\n",
            "Traceback (most recent call last):\n",
            "  File \"monodepth_simple.py\", line 110, in <module>\n",
            "    tf.app.run()\n",
            "  File \"/usr/local/lib/python3.6/dist-packages/tensorflow/python/platform/app.py\", line 125, in run\n",
            "    _sys.exit(main(argv))\n",
            "  File \"monodepth_simple.py\", line 107, in main\n",
            "    test_simple(params)\n",
            "  File \"monodepth_simple.py\", line 55, in test_simple\n",
            "    input_image = scipy.misc.imread(args.image_path, mode=\"RGB\")\n",
            "  File \"/usr/local/lib/python3.6/dist-packages/numpy/lib/utils.py\", line 101, in newfunc\n",
            "    return func(*args, **kwds)\n",
            "  File \"/usr/local/lib/python3.6/dist-packages/scipy/misc/pilutil.py\", line 164, in imread\n",
            "    im = Image.open(name)\n",
            "  File \"/usr/local/lib/python3.6/dist-packages/PIL/Image.py\", line 2530, in open\n",
            "    fp = builtins.open(filename, \"rb\")\n",
            "FileNotFoundError: [Errno 2] No such file or directory: '../test_image.jpg'\n"
          ],
          "name": "stdout"
        }
      ]
    },
    {
      "cell_type": "code",
      "metadata": {
        "id": "0mI0SKiBa35p",
        "colab_type": "code",
        "outputId": "299a9951-2ef6-4bcd-83a7-cedad5dbaf2b",
        "colab": {
          "base_uri": "https://localhost:8080/",
          "height": 33
        }
      },
      "source": [
        "import tensorflow as tf\n",
        "\n",
        "tf.__version__"
      ],
      "execution_count": 0,
      "outputs": [
        {
          "output_type": "execute_result",
          "data": {
            "text/plain": [
              "'1.13.1'"
            ]
          },
          "metadata": {
            "tags": []
          },
          "execution_count": 7
        }
      ]
    },
    {
      "cell_type": "code",
      "metadata": {
        "id": "gaapAsYHcjQz",
        "colab_type": "code",
        "outputId": "ad636d34-ae26-4451-ba94-60e9ce5e272b",
        "colab": {
          "base_uri": "https://localhost:8080/",
          "height": 571
        }
      },
      "source": [
        "!pip install tensorflow==1.12.0"
      ],
      "execution_count": 0,
      "outputs": [
        {
          "output_type": "stream",
          "text": [
            "Collecting tensorflow==1.12.0\n",
            "\u001b[?25l  Downloading https://files.pythonhosted.org/packages/22/cc/ca70b78087015d21c5f3f93694107f34ebccb3be9624385a911d4b52ecef/tensorflow-1.12.0-cp36-cp36m-manylinux1_x86_64.whl (83.1MB)\n",
            "\u001b[K     |████████████████████████████████| 83.1MB 1.4MB/s \n",
            "\u001b[?25hRequirement already satisfied: absl-py>=0.1.6 in /usr/local/lib/python3.6/dist-packages (from tensorflow==1.12.0) (0.7.1)\n",
            "Requirement already satisfied: termcolor>=1.1.0 in /usr/local/lib/python3.6/dist-packages (from tensorflow==1.12.0) (1.1.0)\n",
            "Requirement already satisfied: gast>=0.2.0 in /usr/local/lib/python3.6/dist-packages (from tensorflow==1.12.0) (0.2.2)\n",
            "Requirement already satisfied: astor>=0.6.0 in /usr/local/lib/python3.6/dist-packages (from tensorflow==1.12.0) (0.7.1)\n",
            "Requirement already satisfied: protobuf>=3.6.1 in /usr/local/lib/python3.6/dist-packages (from tensorflow==1.12.0) (3.7.1)\n",
            "Requirement already satisfied: keras-applications>=1.0.6 in /usr/local/lib/python3.6/dist-packages (from tensorflow==1.12.0) (1.0.7)\n",
            "Requirement already satisfied: grpcio>=1.8.6 in /usr/local/lib/python3.6/dist-packages (from tensorflow==1.12.0) (1.15.0)\n",
            "Requirement already satisfied: wheel>=0.26 in /usr/local/lib/python3.6/dist-packages (from tensorflow==1.12.0) (0.33.4)\n",
            "Requirement already satisfied: numpy>=1.13.3 in /usr/local/lib/python3.6/dist-packages (from tensorflow==1.12.0) (1.16.3)\n",
            "Requirement already satisfied: six>=1.10.0 in /usr/local/lib/python3.6/dist-packages (from tensorflow==1.12.0) (1.12.0)\n",
            "Collecting tensorboard<1.13.0,>=1.12.0 (from tensorflow==1.12.0)\n",
            "\u001b[?25l  Downloading https://files.pythonhosted.org/packages/07/53/8d32ce9471c18f8d99028b7cef2e5b39ea8765bd7ef250ca05b490880971/tensorboard-1.12.2-py3-none-any.whl (3.0MB)\n",
            "\u001b[K     |████████████████████████████████| 3.1MB 42.3MB/s \n",
            "\u001b[?25hRequirement already satisfied: keras-preprocessing>=1.0.5 in /usr/local/lib/python3.6/dist-packages (from tensorflow==1.12.0) (1.0.9)\n",
            "Requirement already satisfied: setuptools in /usr/local/lib/python3.6/dist-packages (from protobuf>=3.6.1->tensorflow==1.12.0) (41.0.1)\n",
            "Requirement already satisfied: h5py in /usr/local/lib/python3.6/dist-packages (from keras-applications>=1.0.6->tensorflow==1.12.0) (2.8.0)\n",
            "Requirement already satisfied: werkzeug>=0.11.10 in /usr/local/lib/python3.6/dist-packages (from tensorboard<1.13.0,>=1.12.0->tensorflow==1.12.0) (0.15.3)\n",
            "Requirement already satisfied: markdown>=2.6.8 in /usr/local/lib/python3.6/dist-packages (from tensorboard<1.13.0,>=1.12.0->tensorflow==1.12.0) (3.1)\n",
            "Installing collected packages: tensorboard, tensorflow\n",
            "  Found existing installation: tensorboard 1.13.1\n",
            "    Uninstalling tensorboard-1.13.1:\n",
            "      Successfully uninstalled tensorboard-1.13.1\n",
            "  Found existing installation: tensorflow 1.13.1\n",
            "    Uninstalling tensorflow-1.13.1:\n",
            "      Successfully uninstalled tensorflow-1.13.1\n",
            "Successfully installed tensorboard-1.12.2 tensorflow-1.12.0\n"
          ],
          "name": "stdout"
        },
        {
          "output_type": "display_data",
          "data": {
            "application/vnd.colab-display-data+json": {
              "pip_warning": {
                "packages": [
                  "tensorflow"
                ]
              }
            }
          },
          "metadata": {
            "tags": []
          }
        }
      ]
    },
    {
      "cell_type": "code",
      "metadata": {
        "id": "O6d8XwbAczhG",
        "colab_type": "code",
        "outputId": "6deb73aa-c8df-4cf0-e9b7-1d2b57c0ba76",
        "colab": {
          "base_uri": "https://localhost:8080/",
          "height": 115
        }
      },
      "source": [
        "!python monodepth_simple.py --image_path ../test_image2.jpg --checkpoint_path pretrained/model_cityscapes"
      ],
      "execution_count": 0,
      "outputs": [
        {
          "output_type": "stream",
          "text": [
            "2019-05-21 11:18:38.533600: I tensorflow/core/platform/cpu_feature_guard.cc:141] Your CPU supports instructions that this TensorFlow binary was not compiled to use: AVX2 FMA\n",
            "WARNING:tensorflow:From monodepth_simple.py:72: start_queue_runners (from tensorflow.python.training.queue_runner_impl) is deprecated and will be removed in a future version.\n",
            "Instructions for updating:\n",
            "To construct input pipelines, use the `tf.data` module.\n",
            "WARNING:tensorflow:`tf.train.start_queue_runners()` was called when no queue runners were defined. You can safely remove the call to this deprecated function.\n",
            "done!\n"
          ],
          "name": "stdout"
        }
      ]
    },
    {
      "cell_type": "markdown",
      "metadata": {
        "id": "2K7ac_D6KfCA",
        "colab_type": "text"
      },
      "source": [
        "https://github.com/gautam678/Pix2Depth\n",
        "\n"
      ]
    },
    {
      "cell_type": "code",
      "metadata": {
        "id": "_Ul5uj-boid5",
        "colab_type": "code",
        "outputId": "3b8a9f62-66d8-49a8-def9-f9a7f588502f",
        "colab": {
          "base_uri": "https://localhost:8080/",
          "height": 118
        }
      },
      "source": [
        "from google.colab import drive\n",
        "drive.mount('/content/gdrive')"
      ],
      "execution_count": 0,
      "outputs": [
        {
          "output_type": "stream",
          "text": [
            "Go to this URL in a browser: https://accounts.google.com/o/oauth2/auth?client_id=947318989803-6bn6qk8qdgf4n4g3pfee6491hc0brc4i.apps.googleusercontent.com&redirect_uri=urn%3Aietf%3Awg%3Aoauth%3A2.0%3Aoob&scope=email%20https%3A%2F%2Fwww.googleapis.com%2Fauth%2Fdocs.test%20https%3A%2F%2Fwww.googleapis.com%2Fauth%2Fdrive%20https%3A%2F%2Fwww.googleapis.com%2Fauth%2Fdrive.photos.readonly%20https%3A%2F%2Fwww.googleapis.com%2Fauth%2Fpeopleapi.readonly&response_type=code\n",
            "\n",
            "Enter your authorization code:\n",
            "··········\n",
            "Mounted at /content/gdrive\n"
          ],
          "name": "stdout"
        }
      ]
    },
    {
      "cell_type": "code",
      "metadata": {
        "id": "edDq2U6rQuZc",
        "colab_type": "code",
        "outputId": "2e2ad6de-2390-47ba-c4e8-a9bd83116c4a",
        "colab": {
          "base_uri": "https://localhost:8080/",
          "height": 135
        }
      },
      "source": [
        "!python monodepth_simple.py --image_path \"../20190521_121325.jpg\" --checkpoint_path pretrained/model_cityscapes"
      ],
      "execution_count": 0,
      "outputs": [
        {
          "output_type": "stream",
          "text": [
            "2019-05-21 12:00:39.812864: I tensorflow/core/platform/cpu_feature_guard.cc:141] Your CPU supports instructions that this TensorFlow binary was not compiled to use: AVX2 FMA\n",
            "WARNING:tensorflow:From monodepth_simple.py:72: start_queue_runners (from tensorflow.python.training.queue_runner_impl) is deprecated and will be removed in a future version.\n",
            "Instructions for updating:\n",
            "To construct input pipelines, use the `tf.data` module.\n",
            "WARNING:tensorflow:`tf.train.start_queue_runners()` was called when no queue runners were defined. You can safely remove the call to this deprecated function.\n",
            "done!\n"
          ],
          "name": "stdout"
        }
      ]
    },
    {
      "cell_type": "code",
      "metadata": {
        "id": "hE_LCmniNA0J",
        "colab_type": "code",
        "outputId": "1cb8b706-66ea-4220-bbf8-85b17504fb61",
        "colab": {
          "base_uri": "https://localhost:8080/",
          "height": 135
        }
      },
      "source": [
        "!python monodepth_simple.py --image_path \"../15.jpg\" --checkpoint_path pretrained/model_cityscapes"
      ],
      "execution_count": 0,
      "outputs": [
        {
          "output_type": "stream",
          "text": [
            "2019-05-21 12:03:40.636160: I tensorflow/core/platform/cpu_feature_guard.cc:141] Your CPU supports instructions that this TensorFlow binary was not compiled to use: AVX2 FMA\n",
            "WARNING:tensorflow:From monodepth_simple.py:72: start_queue_runners (from tensorflow.python.training.queue_runner_impl) is deprecated and will be removed in a future version.\n",
            "Instructions for updating:\n",
            "To construct input pipelines, use the `tf.data` module.\n",
            "WARNING:tensorflow:`tf.train.start_queue_runners()` was called when no queue runners were defined. You can safely remove the call to this deprecated function.\n",
            "done!\n"
          ],
          "name": "stdout"
        }
      ]
    },
    {
      "cell_type": "code",
      "metadata": {
        "id": "kv_K_Ii_RinA",
        "colab_type": "code",
        "outputId": "dbf9e99e-32a1-4a4b-8c61-3b2e0a01bea6",
        "colab": {
          "base_uri": "https://localhost:8080/",
          "height": 135
        }
      },
      "source": [
        "!python monodepth_simple.py --image_path \"../10.jpg\" --checkpoint_path pretrained/model_cityscapes"
      ],
      "execution_count": 0,
      "outputs": [
        {
          "output_type": "stream",
          "text": [
            "2019-05-21 12:11:13.572676: I tensorflow/core/platform/cpu_feature_guard.cc:141] Your CPU supports instructions that this TensorFlow binary was not compiled to use: AVX2 FMA\n",
            "WARNING:tensorflow:From monodepth_simple.py:72: start_queue_runners (from tensorflow.python.training.queue_runner_impl) is deprecated and will be removed in a future version.\n",
            "Instructions for updating:\n",
            "To construct input pipelines, use the `tf.data` module.\n",
            "WARNING:tensorflow:`tf.train.start_queue_runners()` was called when no queue runners were defined. You can safely remove the call to this deprecated function.\n",
            "done!\n"
          ],
          "name": "stdout"
        }
      ]
    },
    {
      "cell_type": "code",
      "metadata": {
        "id": "uuQmqfUdRjVA",
        "colab_type": "code",
        "outputId": "bb76ae5e-b0d7-4cd1-80f6-048f604f3166",
        "colab": {
          "base_uri": "https://localhost:8080/",
          "height": 135
        }
      },
      "source": [
        "!python monodepth_simple.py --image_path \"../1.jpg\" --checkpoint_path pretrained/model_cityscapes"
      ],
      "execution_count": 0,
      "outputs": [
        {
          "output_type": "stream",
          "text": [
            "2019-05-21 12:18:00.969906: I tensorflow/core/platform/cpu_feature_guard.cc:141] Your CPU supports instructions that this TensorFlow binary was not compiled to use: AVX2 FMA\n",
            "WARNING:tensorflow:From monodepth_simple.py:72: start_queue_runners (from tensorflow.python.training.queue_runner_impl) is deprecated and will be removed in a future version.\n",
            "Instructions for updating:\n",
            "To construct input pipelines, use the `tf.data` module.\n",
            "WARNING:tensorflow:`tf.train.start_queue_runners()` was called when no queue runners were defined. You can safely remove the call to this deprecated function.\n",
            "done!\n"
          ],
          "name": "stdout"
        }
      ]
    },
    {
      "cell_type": "code",
      "metadata": {
        "id": "zRYRdYvoUvUX",
        "colab_type": "code",
        "outputId": "a613ef8b-7441-435a-bbf9-4dc58f25696f",
        "colab": {
          "base_uri": "https://localhost:8080/",
          "height": 135
        }
      },
      "source": [
        "!python monodepth_simple.py --image_path \"../nyu_example_1.jpg\" --checkpoint_path pretrained/model_cityscapes"
      ],
      "execution_count": 0,
      "outputs": [
        {
          "output_type": "stream",
          "text": [
            "2019-05-21 12:30:28.322427: I tensorflow/core/platform/cpu_feature_guard.cc:141] Your CPU supports instructions that this TensorFlow binary was not compiled to use: AVX2 FMA\n",
            "WARNING:tensorflow:From monodepth_simple.py:72: start_queue_runners (from tensorflow.python.training.queue_runner_impl) is deprecated and will be removed in a future version.\n",
            "Instructions for updating:\n",
            "To construct input pipelines, use the `tf.data` module.\n",
            "WARNING:tensorflow:`tf.train.start_queue_runners()` was called when no queue runners were defined. You can safely remove the call to this deprecated function.\n",
            "done!\n"
          ],
          "name": "stdout"
        }
      ]
    },
    {
      "cell_type": "code",
      "metadata": {
        "id": "3nu5VYsCXwMk",
        "colab_type": "code",
        "colab": {}
      },
      "source": [
        ""
      ],
      "execution_count": 0,
      "outputs": []
    }
  ]
}