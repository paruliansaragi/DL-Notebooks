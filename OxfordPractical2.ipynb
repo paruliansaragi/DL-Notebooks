{
  "nbformat": 4,
  "nbformat_minor": 0,
  "metadata": {
    "colab": {
      "name": "OxfordPractical2.ipynb",
      "version": "0.3.2",
      "provenance": [],
      "collapsed_sections": [],
      "include_colab_link": true
    },
    "kernelspec": {
      "name": "python3",
      "display_name": "Python 3"
    },
    "accelerator": "GPU"
  },
  "cells": [
    {
      "cell_type": "markdown",
      "metadata": {
        "id": "view-in-github",
        "colab_type": "text"
      },
      "source": [
        "<a href=\"https://colab.research.google.com/github/paruliansaragi/DL-Notebooks/blob/master/OxfordPractical2.ipynb\" target=\"_parent\"><img src=\"https://colab.research.google.com/assets/colab-badge.svg\" alt=\"Open In Colab\"/></a>"
      ]
    },
    {
      "cell_type": "code",
      "metadata": {
        "id": "cvbodmKhqBjT",
        "colab_type": "code",
        "colab": {}
      },
      "source": [
        "%reload_ext autoreload\n",
        "%autoreload 2\n",
        "%matplotlib inline"
      ],
      "execution_count": 0,
      "outputs": []
    },
    {
      "cell_type": "code",
      "metadata": {
        "id": "WSj7UKjEFS6o",
        "colab_type": "code",
        "colab": {}
      },
      "source": [
        "import numpy as np\n",
        "import os\n",
        "from random import shuffle\n",
        "import re\n",
        "from gensim.models import KeyedVectors\n",
        "import matplotlib.pyplot as plt\n",
        "import collections\n",
        "import time\n",
        "import pandas as pd\n",
        "import urllib.request\n",
        "import zipfile\n",
        "import lxml.etree"
      ],
      "execution_count": 0,
      "outputs": []
    },
    {
      "cell_type": "code",
      "metadata": {
        "id": "ZUYz76Sjmofp",
        "colab_type": "code",
        "colab": {}
      },
      "source": [
        "if not os.path.isfile('ted_en-20160408.zip'):\n",
        "    urllib.request.urlretrieve(\"https://wit3.fbk.eu/get.php?path=XML_releases/xml/ted_en-20160408.zip&filename=ted_en-20160408.zip\", filename=\"ted_en-20160408.zip\")"
      ],
      "execution_count": 0,
      "outputs": []
    },
    {
      "cell_type": "code",
      "metadata": {
        "id": "9GzFuMUvS6KO",
        "colab_type": "code",
        "colab": {}
      },
      "source": [
        "# extract both the texts and the labels from the xml file\n",
        "with zipfile.ZipFile('ted_en-20160408.zip', 'r') as z:\n",
        "    doc = lxml.etree.parse(z.open('ted_en-20160408.xml', 'r'))\n",
        "texts = doc.xpath('//content/text()')\n",
        "labels = doc.xpath('//head/keywords/text()')\n",
        "del doc"
      ],
      "execution_count": 0,
      "outputs": []
    },
    {
      "cell_type": "code",
      "metadata": {
        "id": "C6j7-l4k7qoh",
        "colab_type": "code",
        "outputId": "b34aff80-716c-4112-8f89-0aa0a3d02f28",
        "colab": {
          "base_uri": "https://localhost:8080/",
          "height": 35
        }
      },
      "source": [
        "# preprocess the labels: search for occurences of the keywords \"technology\", \"entertainment\" or \"design\" and build labels\n",
        "label_lookup = ['ooo', 'Too', 'oEo', 'ooD', 'TEo', 'ToD', 'oED', 'TED']\n",
        "for i in range(len(labels)):\n",
        "    ted_labels = ['o', 'o', 'o']\n",
        "    keyword_list = labels[i].split(', ')\n",
        "    if 'technology' in keyword_list:\n",
        "        ted_labels[0] = 'T'\n",
        "    if 'entertainment' in keyword_list:\n",
        "        ted_labels[1] = 'E'\n",
        "    if 'design' in keyword_list:\n",
        "        ted_labels[2] = 'D'\n",
        "    labels[i] = ''.join(ted_labels)\n",
        "    labels[i] = label_lookup.index(labels[i])\n",
        "len(labels)\n",
        "labels[:20]"
      ],
      "execution_count": 0,
      "outputs": [
        {
          "output_type": "execute_result",
          "data": {
            "text/plain": [
              "[0, 0, 0, 3, 5, 0, 0, 0, 0, 5, 0, 3, 2, 5, 0, 0, 3, 0, 5, 0]"
            ]
          },
          "metadata": {
            "tags": []
          },
          "execution_count": 98
        }
      ]
    },
    {
      "cell_type": "code",
      "metadata": {
        "id": "FKUkjOOgIaHe",
        "colab_type": "code",
        "colab": {}
      },
      "source": [
        "#Map index to Label name\n",
        "#label_text = []\n",
        "#for i in labels:\n",
        "#  label_text.append(label_lookup[i])"
      ],
      "execution_count": 0,
      "outputs": []
    },
    {
      "cell_type": "code",
      "metadata": {
        "id": "mYfR2OM8UbbN",
        "colab_type": "code",
        "outputId": "b8b212d3-3f57-403c-da5b-9a01f7ff7bd3",
        "colab": {
          "base_uri": "https://localhost:8080/",
          "height": 35
        }
      },
      "source": [
        "# preprocess the texts: lowercase, remove text in parentheses, remove punctuation, \n",
        "#tokenize into words (split on whitespace)\n",
        "\n",
        "#removing text in parentheses\n",
        "input_texts = [re.sub(r'\\([^)]*\\)', '', input_text) for input_text in texts]\n",
        "#lowercase\n",
        "input_texts = [input_text.lower() for input_text in input_texts]\n",
        "#remove punctuation\n",
        "input_texts = [re.sub(r'[^a-z0-9]+', ' ', input_text) for input_text in input_texts]\n",
        "#tokenize into words\n",
        "input_texts = [input_text.split() for input_text in input_texts]\n",
        "len(input_texts)"
      ],
      "execution_count": 0,
      "outputs": [
        {
          "output_type": "execute_result",
          "data": {
            "text/plain": [
              "2085"
            ]
          },
          "metadata": {
            "tags": []
          },
          "execution_count": 100
        }
      ]
    },
    {
      "cell_type": "code",
      "metadata": {
        "id": "rXsJwZgLV4X8",
        "colab_type": "code",
        "outputId": "4db2d564-b080-4cd4-cebd-c8ff735ed112",
        "colab": {
          "base_uri": "https://localhost:8080/",
          "height": 35
        }
      },
      "source": [
        "vocab_list = list(set([word for input_text in input_texts for word in input_text]))\n",
        "word_to_index = {}\n",
        "index_to_word = {}\n",
        "for i, word in enumerate(vocab_list):\n",
        "    word_to_index[word] = i\n",
        "    index_to_word[i] = word\n",
        "input_indices_list = []\n",
        "for input_text in input_texts:\n",
        "    input_indices_list.append([word_to_index[word] for word in input_text])\n",
        "len(vocab_list)"
      ],
      "execution_count": 0,
      "outputs": [
        {
          "output_type": "execute_result",
          "data": {
            "text/plain": [
              "54778"
            ]
          },
          "metadata": {
            "tags": []
          },
          "execution_count": 101
        }
      ]
    },
    {
      "cell_type": "markdown",
      "metadata": {
        "id": "FgQwE73RMgz8",
        "colab_type": "text"
      },
      "source": [
        "https://github.com/bentrevett/pytorch-sentiment-analysis/blob/master/1%20-%20Simple%20Sentiment%20Analysis.ipynb"
      ]
    },
    {
      "cell_type": "code",
      "metadata": {
        "id": "KUPqmDU9drRc",
        "colab_type": "code",
        "colab": {}
      },
      "source": [
        "# combining the tokens and labels for each input, then shuffle them and split into train/test/cv\n",
        "inputs_combined = list(zip(texts, labels))\n",
        "df = pd.DataFrame(inputs_combined, columns=['Texts', 'Labels'])"
      ],
      "execution_count": 0,
      "outputs": []
    },
    {
      "cell_type": "code",
      "metadata": {
        "id": "ICVtJ4a7d_xp",
        "colab_type": "code",
        "outputId": "2d62cd12-5a48-4160-bf91-f7e9607d3dcf",
        "colab": {
          "base_uri": "https://localhost:8080/",
          "height": 202
        }
      },
      "source": [
        "df.head()"
      ],
      "execution_count": 0,
      "outputs": [
        {
          "output_type": "execute_result",
          "data": {
            "text/html": [
              "<div>\n",
              "<style scoped>\n",
              "    .dataframe tbody tr th:only-of-type {\n",
              "        vertical-align: middle;\n",
              "    }\n",
              "\n",
              "    .dataframe tbody tr th {\n",
              "        vertical-align: top;\n",
              "    }\n",
              "\n",
              "    .dataframe thead th {\n",
              "        text-align: right;\n",
              "    }\n",
              "</style>\n",
              "<table border=\"1\" class=\"dataframe\">\n",
              "  <thead>\n",
              "    <tr style=\"text-align: right;\">\n",
              "      <th></th>\n",
              "      <th>Texts</th>\n",
              "      <th>Labels</th>\n",
              "    </tr>\n",
              "  </thead>\n",
              "  <tbody>\n",
              "    <tr>\n",
              "      <th>0</th>\n",
              "      <td>Here are two reasons companies fail: they only...</td>\n",
              "      <td>0</td>\n",
              "    </tr>\n",
              "    <tr>\n",
              "      <th>1</th>\n",
              "      <td>So there are lands few and far between on Eart...</td>\n",
              "      <td>0</td>\n",
              "    </tr>\n",
              "    <tr>\n",
              "      <th>2</th>\n",
              "      <td>OK, so, confession: I've always been weirdly o...</td>\n",
              "      <td>0</td>\n",
              "    </tr>\n",
              "    <tr>\n",
              "      <th>3</th>\n",
              "      <td>It has been 128 years since the last country i...</td>\n",
              "      <td>3</td>\n",
              "    </tr>\n",
              "    <tr>\n",
              "      <th>4</th>\n",
              "      <td>Thousands of years from now, we'll look back a...</td>\n",
              "      <td>5</td>\n",
              "    </tr>\n",
              "  </tbody>\n",
              "</table>\n",
              "</div>"
            ],
            "text/plain": [
              "                                               Texts  Labels\n",
              "0  Here are two reasons companies fail: they only...       0\n",
              "1  So there are lands few and far between on Eart...       0\n",
              "2  OK, so, confession: I've always been weirdly o...       0\n",
              "3  It has been 128 years since the last country i...       3\n",
              "4  Thousands of years from now, we'll look back a...       5"
            ]
          },
          "metadata": {
            "tags": []
          },
          "execution_count": 103
        }
      ]
    },
    {
      "cell_type": "code",
      "metadata": {
        "id": "vB-M7MAre2q5",
        "colab_type": "code",
        "colab": {}
      },
      "source": [
        "from sklearn.model_selection import train_test_split\n",
        "\n",
        "trn, test = train_test_split(df, test_size=0.1)"
      ],
      "execution_count": 0,
      "outputs": []
    },
    {
      "cell_type": "markdown",
      "metadata": {
        "id": "MgT4eRbMg9Qv",
        "colab_type": "text"
      },
      "source": [
        "https://github.com/DSKSD/DeepNLP-models-Pytorch/blob/master/notebooks/08.CNN-for-Text-Classification.ipynb"
      ]
    },
    {
      "cell_type": "code",
      "metadata": {
        "id": "iCmAw1nVinDO",
        "colab_type": "code",
        "colab": {}
      },
      "source": [
        "import sys, os, re, csv, codecs, numpy as np, pandas as pd\n",
        "import keras\n",
        "from keras.preprocessing.text import Tokenizer\n",
        "from keras.preprocessing.sequence import pad_sequences\n",
        "from keras.layers import Dense, Input, LSTM, Embedding, Dropout, Activation\n",
        "from keras.layers import Bidirectional, GlobalMaxPool1D\n",
        "from keras.models import Model\n",
        "from keras import initializers, regularizers, constraints, optimizers, layers"
      ],
      "execution_count": 0,
      "outputs": []
    },
    {
      "cell_type": "code",
      "metadata": {
        "id": "amIE_qFbnud4",
        "colab_type": "code",
        "colab": {}
      },
      "source": [
        "embed_size = 50 # how big is each word vector\n",
        "max_features = 20000 # how many unique words to use (i.e num rows in embedding vector)\n",
        "maxlen = 100 # max number of words in a comment to use"
      ],
      "execution_count": 0,
      "outputs": []
    },
    {
      "cell_type": "code",
      "metadata": {
        "id": "xm1BsCmgn85E",
        "colab_type": "code",
        "outputId": "3cc7686c-e419-4365-e702-812fbd777085",
        "colab": {
          "base_uri": "https://localhost:8080/",
          "height": 202
        }
      },
      "source": [
        "df.head()"
      ],
      "execution_count": 0,
      "outputs": [
        {
          "output_type": "execute_result",
          "data": {
            "text/html": [
              "<div>\n",
              "<style scoped>\n",
              "    .dataframe tbody tr th:only-of-type {\n",
              "        vertical-align: middle;\n",
              "    }\n",
              "\n",
              "    .dataframe tbody tr th {\n",
              "        vertical-align: top;\n",
              "    }\n",
              "\n",
              "    .dataframe thead th {\n",
              "        text-align: right;\n",
              "    }\n",
              "</style>\n",
              "<table border=\"1\" class=\"dataframe\">\n",
              "  <thead>\n",
              "    <tr style=\"text-align: right;\">\n",
              "      <th></th>\n",
              "      <th>Texts</th>\n",
              "      <th>Labels</th>\n",
              "    </tr>\n",
              "  </thead>\n",
              "  <tbody>\n",
              "    <tr>\n",
              "      <th>0</th>\n",
              "      <td>Here are two reasons companies fail: they only...</td>\n",
              "      <td>0</td>\n",
              "    </tr>\n",
              "    <tr>\n",
              "      <th>1</th>\n",
              "      <td>So there are lands few and far between on Eart...</td>\n",
              "      <td>0</td>\n",
              "    </tr>\n",
              "    <tr>\n",
              "      <th>2</th>\n",
              "      <td>OK, so, confession: I've always been weirdly o...</td>\n",
              "      <td>0</td>\n",
              "    </tr>\n",
              "    <tr>\n",
              "      <th>3</th>\n",
              "      <td>It has been 128 years since the last country i...</td>\n",
              "      <td>3</td>\n",
              "    </tr>\n",
              "    <tr>\n",
              "      <th>4</th>\n",
              "      <td>Thousands of years from now, we'll look back a...</td>\n",
              "      <td>5</td>\n",
              "    </tr>\n",
              "  </tbody>\n",
              "</table>\n",
              "</div>"
            ],
            "text/plain": [
              "                                               Texts  Labels\n",
              "0  Here are two reasons companies fail: they only...       0\n",
              "1  So there are lands few and far between on Eart...       0\n",
              "2  OK, so, confession: I've always been weirdly o...       0\n",
              "3  It has been 128 years since the last country i...       3\n",
              "4  Thousands of years from now, we'll look back a...       5"
            ]
          },
          "metadata": {
            "tags": []
          },
          "execution_count": 107
        }
      ]
    },
    {
      "cell_type": "code",
      "metadata": {
        "id": "CLfUImoin7RE",
        "colab_type": "code",
        "colab": {}
      },
      "source": [
        "list_sentences_train = trn[\"Texts\"].fillna(\"_na_\").values\n",
        "y = trn[\"Labels\"].values\n",
        "list_sentences_test = test[\"Texts\"].fillna(\"_na_\").values"
      ],
      "execution_count": 0,
      "outputs": []
    },
    {
      "cell_type": "code",
      "metadata": {
        "id": "M7WnMeZAnx7p",
        "colab_type": "code",
        "colab": {}
      },
      "source": [
        "tokenizer = Tokenizer(num_words=max_features)\n",
        "tokenizer.fit_on_texts(list(list_sentences_train))\n",
        "list_tokenized_train = tokenizer.texts_to_sequences(list_sentences_train)\n",
        "list_tokenized_test = tokenizer.texts_to_sequences(list_sentences_test)\n",
        "X_t = pad_sequences(list_tokenized_train, maxlen=maxlen)\n",
        "X_te = pad_sequences(list_tokenized_test, maxlen=maxlen)"
      ],
      "execution_count": 0,
      "outputs": []
    },
    {
      "cell_type": "code",
      "metadata": {
        "id": "4VOiHLZWrhMS",
        "colab_type": "code",
        "outputId": "ff3de272-ab86-4763-d759-7062aa00daf7",
        "colab": {
          "base_uri": "https://localhost:8080/",
          "height": 35
        }
      },
      "source": [
        "len(df.Labels.unique())"
      ],
      "execution_count": 0,
      "outputs": [
        {
          "output_type": "execute_result",
          "data": {
            "text/plain": [
              "8"
            ]
          },
          "metadata": {
            "tags": []
          },
          "execution_count": 110
        }
      ]
    },
    {
      "cell_type": "code",
      "metadata": {
        "id": "M-pPv4Iordsv",
        "colab_type": "code",
        "colab": {}
      },
      "source": [
        "y_train = keras.utils.to_categorical(trn.Labels, 8)\n"
      ],
      "execution_count": 0,
      "outputs": []
    },
    {
      "cell_type": "code",
      "metadata": {
        "id": "UQDnMcmbr1zY",
        "colab_type": "code",
        "outputId": "7b137233-a728-401d-e84a-ba4475da9a4c",
        "colab": {
          "base_uri": "https://localhost:8080/",
          "height": 52
        }
      },
      "source": [
        "y_train[0], y_train[1]"
      ],
      "execution_count": 0,
      "outputs": [
        {
          "output_type": "execute_result",
          "data": {
            "text/plain": [
              "(array([1., 0., 0., 0., 0., 0., 0., 0.], dtype=float32),\n",
              " array([1., 0., 0., 0., 0., 0., 0., 0.], dtype=float32))"
            ]
          },
          "metadata": {
            "tags": []
          },
          "execution_count": 112
        }
      ]
    },
    {
      "cell_type": "code",
      "metadata": {
        "id": "iBowIE_fpptn",
        "colab_type": "code",
        "outputId": "c5d8bb2e-383a-451e-989e-fcd366b3e665",
        "colab": {
          "base_uri": "https://localhost:8080/",
          "height": 35
        }
      },
      "source": [
        "X_t.shape, y.shape"
      ],
      "execution_count": 0,
      "outputs": [
        {
          "output_type": "execute_result",
          "data": {
            "text/plain": [
              "((1876, 100), (1876,))"
            ]
          },
          "metadata": {
            "tags": []
          },
          "execution_count": 113
        }
      ]
    },
    {
      "cell_type": "code",
      "metadata": {
        "id": "9ZjCe_3foaom",
        "colab_type": "code",
        "colab": {}
      },
      "source": [
        "path = './'\n",
        "EMBEDDING_FILE=f'{path}glove.6B.50d.txt'"
      ],
      "execution_count": 0,
      "outputs": []
    },
    {
      "cell_type": "code",
      "metadata": {
        "id": "XLiQn4hxon2n",
        "colab_type": "code",
        "outputId": "72eb770e-3688-4558-c985-a1095c9f784a",
        "colab": {
          "base_uri": "https://localhost:8080/",
          "height": 277
        }
      },
      "source": [
        "!wget http://nlp.stanford.edu/data/glove.6B.zip"
      ],
      "execution_count": 0,
      "outputs": [
        {
          "output_type": "stream",
          "text": [
            "--2019-01-21 21:18:49--  http://nlp.stanford.edu/data/glove.6B.zip\n",
            "Resolving nlp.stanford.edu (nlp.stanford.edu)... 171.64.67.140\n",
            "Connecting to nlp.stanford.edu (nlp.stanford.edu)|171.64.67.140|:80... connected.\n",
            "HTTP request sent, awaiting response... 302 Found\n",
            "Location: https://nlp.stanford.edu/data/glove.6B.zip [following]\n",
            "--2019-01-21 21:18:49--  https://nlp.stanford.edu/data/glove.6B.zip\n",
            "Connecting to nlp.stanford.edu (nlp.stanford.edu)|171.64.67.140|:443... connected.\n",
            "HTTP request sent, awaiting response... 200 OK\n",
            "Length: 862182613 (822M) [application/zip]\n",
            "Saving to: ‘glove.6B.zip.1’\n",
            "\n",
            "glove.6B.zip.1      100%[===================>] 822.24M  11.0MB/s    in 73s     \n",
            "\n",
            "2019-01-21 21:20:02 (11.3 MB/s) - ‘glove.6B.zip.1’ saved [862182613/862182613]\n",
            "\n"
          ],
          "name": "stdout"
        }
      ]
    },
    {
      "cell_type": "code",
      "metadata": {
        "id": "wI8wEWpZopJ5",
        "colab_type": "code",
        "outputId": "7a365666-9856-4f3b-ee45-6f6a1980a480",
        "colab": {
          "base_uri": "https://localhost:8080/",
          "height": 52
        }
      },
      "source": [
        "!unzip glove.6B.zip"
      ],
      "execution_count": 0,
      "outputs": [
        {
          "output_type": "stream",
          "text": [
            "Archive:  glove.6B.zip\n",
            "replace glove.6B.50d.txt? [y]es, [n]o, [A]ll, [N]one, [r]ename: N\n"
          ],
          "name": "stdout"
        }
      ]
    },
    {
      "cell_type": "code",
      "metadata": {
        "id": "HIafeMgsoRgj",
        "colab_type": "code",
        "colab": {}
      },
      "source": [
        "def get_coefs(word,*arr): return word, np.asarray(arr, dtype='float32')\n",
        "embeddings_index = dict(get_coefs(*o.strip().split()) for o in open(EMBEDDING_FILE))"
      ],
      "execution_count": 0,
      "outputs": []
    },
    {
      "cell_type": "code",
      "metadata": {
        "id": "ht25cdJcoeqq",
        "colab_type": "code",
        "outputId": "0b87d8a9-4628-4953-f553-e8f665b81581",
        "colab": {
          "base_uri": "https://localhost:8080/",
          "height": 35
        }
      },
      "source": [
        "all_embs = np.stack(embeddings_index.values())\n",
        "emb_mean,emb_std = all_embs.mean(), all_embs.std()\n",
        "emb_mean,emb_std"
      ],
      "execution_count": 0,
      "outputs": [
        {
          "output_type": "execute_result",
          "data": {
            "text/plain": [
              "(0.020940498, 0.6441043)"
            ]
          },
          "metadata": {
            "tags": []
          },
          "execution_count": 118
        }
      ]
    },
    {
      "cell_type": "code",
      "metadata": {
        "id": "i3XaOOCKpZV1",
        "colab_type": "code",
        "colab": {}
      },
      "source": [
        "word_index = tokenizer.word_index\n",
        "nb_words = min(max_features, len(word_index))\n",
        "embedding_matrix = np.random.normal(emb_mean, emb_std, (nb_words, embed_size))\n",
        "for word, i in word_index.items():\n",
        "    if i >= max_features: continue\n",
        "    embedding_vector = embeddings_index.get(word)\n",
        "    if embedding_vector is not None: embedding_matrix[i] = embedding_vector"
      ],
      "execution_count": 0,
      "outputs": []
    },
    {
      "cell_type": "code",
      "metadata": {
        "id": "NGaJcyXkpeDT",
        "colab_type": "code",
        "colab": {}
      },
      "source": [
        "inp = Input(shape=(maxlen,))\n",
        "x = Embedding(max_features, embed_size, weights=[embedding_matrix])(inp)\n",
        "x = Bidirectional(LSTM(50, return_sequences=True, dropout=0.1, recurrent_dropout=0.1))(x)\n",
        "x = GlobalMaxPool1D()(x)\n",
        "x = Dense(50, activation=\"relu\")(x)\n",
        "x = Dropout(0.1)(x)\n",
        "x = Dense(8, activation=\"sigmoid\")(x)\n",
        "model = Model(inputs=inp, outputs=x)\n",
        "model.compile(loss='binary_crossentropy', optimizer='adam', metrics=['accuracy'])\n",
        "#Future idea: try drop connections as a better method of regularization than dropout."
      ],
      "execution_count": 0,
      "outputs": []
    },
    {
      "cell_type": "code",
      "metadata": {
        "id": "qdTNwNmIpgwu",
        "colab_type": "code",
        "outputId": "70a53058-5324-4366-e2f1-f6c560b28214",
        "colab": {
          "base_uri": "https://localhost:8080/",
          "height": 208
        }
      },
      "source": [
        "model.fit(X_t, y_train, batch_size=32, epochs=5, validation_split=0.1);"
      ],
      "execution_count": 0,
      "outputs": [
        {
          "output_type": "stream",
          "text": [
            "Train on 1688 samples, validate on 188 samples\n",
            "Epoch 1/5\n",
            "1688/1688 [==============================] - 32s 19ms/step - loss: 0.3700 - acc: 0.8621 - val_loss: 0.2967 - val_acc: 0.8763\n",
            "Epoch 2/5\n",
            "1688/1688 [==============================] - 28s 17ms/step - loss: 0.2859 - acc: 0.8842 - val_loss: 0.2825 - val_acc: 0.8883\n",
            "Epoch 3/5\n",
            "1688/1688 [==============================] - 28s 17ms/step - loss: 0.2804 - acc: 0.8871 - val_loss: 0.2810 - val_acc: 0.8816\n",
            "Epoch 4/5\n",
            "1688/1688 [==============================] - 28s 16ms/step - loss: 0.2767 - acc: 0.8921 - val_loss: 0.2783 - val_acc: 0.8783\n",
            "Epoch 5/5\n",
            "1688/1688 [==============================] - 28s 17ms/step - loss: 0.2650 - acc: 0.8981 - val_loss: 0.2805 - val_acc: 0.8803\n"
          ],
          "name": "stdout"
        }
      ]
    },
    {
      "cell_type": "code",
      "metadata": {
        "id": "ITsJKV9kplDH",
        "colab_type": "code",
        "outputId": "f97758a0-7a04-4309-e2cb-0a607bcf24b0",
        "colab": {
          "base_uri": "https://localhost:8080/",
          "height": 260
        }
      },
      "source": [
        "y_test = model.predict([X_te], batch_size=1024, verbose=1); y_test"
      ],
      "execution_count": 0,
      "outputs": [
        {
          "output_type": "stream",
          "text": [
            "\r209/209 [==============================] - 1s 5ms/step\n"
          ],
          "name": "stdout"
        },
        {
          "output_type": "execute_result",
          "data": {
            "text/plain": [
              "array([[0.61623055, 0.17294072, 0.06487866, ..., 0.04402405, 0.00857992,\n",
              "        0.01092159],\n",
              "       [0.7335242 , 0.16294411, 0.06699197, ..., 0.03705277, 0.01086555,\n",
              "        0.01639839],\n",
              "       [0.3683236 , 0.29769585, 0.19367303, ..., 0.08433745, 0.01835334,\n",
              "        0.0235731 ],\n",
              "       ...,\n",
              "       [0.75984985, 0.14874512, 0.07800739, ..., 0.03821587, 0.01300069,\n",
              "        0.01815613],\n",
              "       [0.37052464, 0.27739808, 0.08840923, ..., 0.07980302, 0.01008764,\n",
              "        0.01740964],\n",
              "       [0.78692466, 0.13244998, 0.05725488, ..., 0.02869911, 0.00957986,\n",
              "        0.01459876]], dtype=float32)"
            ]
          },
          "metadata": {
            "tags": []
          },
          "execution_count": 122
        }
      ]
    },
    {
      "cell_type": "code",
      "metadata": {
        "id": "GWgnkJUSAVxI",
        "colab_type": "code",
        "outputId": "f5b43c7d-3552-4737-e892-78fe788b47b2",
        "colab": {
          "base_uri": "https://localhost:8080/",
          "height": 35
        }
      },
      "source": [
        "np.argmax(y_test[1])"
      ],
      "execution_count": 0,
      "outputs": [
        {
          "output_type": "execute_result",
          "data": {
            "text/plain": [
              "0"
            ]
          },
          "metadata": {
            "tags": []
          },
          "execution_count": 127
        }
      ]
    },
    {
      "cell_type": "markdown",
      "metadata": {
        "id": "WS5lcKTQDWY6",
        "colab_type": "text"
      },
      "source": [
        "# Predict Text from label"
      ]
    },
    {
      "cell_type": "code",
      "metadata": {
        "id": "1scIpUctDiO6",
        "colab_type": "code",
        "outputId": "0ddcc1b5-cb5f-449b-aa08-968f83be0c7e",
        "colab": {
          "base_uri": "https://localhost:8080/",
          "height": 35
        }
      },
      "source": [
        "X_t.shape, y_train.shape"
      ],
      "execution_count": 0,
      "outputs": [
        {
          "output_type": "execute_result",
          "data": {
            "text/plain": [
              "((1876, 100), (1876, 8))"
            ]
          },
          "metadata": {
            "tags": []
          },
          "execution_count": 124
        }
      ]
    },
    {
      "cell_type": "code",
      "metadata": {
        "id": "s2IK0hCDDkRJ",
        "colab_type": "code",
        "outputId": "59a3deea-c864-408d-8147-9e447ee0abe6",
        "colab": {
          "base_uri": "https://localhost:8080/",
          "height": 208
        }
      },
      "source": [
        "model.fit(y_train, X_t, batch_size=32, epochs=5, validation_split=0.1);"
      ],
      "execution_count": 0,
      "outputs": [
        {
          "output_type": "stream",
          "text": [
            "Train on 1688 samples, validate on 188 samples\n",
            "Epoch 1/5\n",
            "1688/1688 [==============================] - 5s 3ms/step - loss: -1685.5170 - acc: 0.0353 - val_loss: -7305.7932 - val_acc: 0.0437\n",
            "Epoch 2/5\n",
            "1688/1688 [==============================] - 3s 2ms/step - loss: -12989.4064 - acc: 0.0416 - val_loss: -13746.7209 - val_acc: 0.0437\n",
            "Epoch 3/5\n",
            "1688/1688 [==============================] - 3s 2ms/step - loss: -14132.0390 - acc: 0.0416 - val_loss: -13746.7209 - val_acc: 0.0437\n",
            "Epoch 4/5\n",
            "1688/1688 [==============================] - 3s 2ms/step - loss: -14132.0428 - acc: 0.0416 - val_loss: -13746.7209 - val_acc: 0.0437\n",
            "Epoch 5/5\n",
            "1688/1688 [==============================] - 3s 2ms/step - loss: -14131.9199 - acc: 0.0416 - val_loss: -13746.7209 - val_acc: 0.0437\n"
          ],
          "name": "stdout"
        }
      ]
    },
    {
      "cell_type": "code",
      "metadata": {
        "id": "8EJNQKKHH25V",
        "colab_type": "code",
        "colab": {}
      },
      "source": [
        "with zipfile.ZipFile('ted_en-20160408.zip', 'r') as z:\n",
        "    doc = lxml.etree.parse(z.open('ted_en-20160408.xml', 'r'))\n",
        "rev_label = doc.xpath('//head/keywords/text()')\n",
        "del doc"
      ],
      "execution_count": 0,
      "outputs": []
    },
    {
      "cell_type": "code",
      "metadata": {
        "id": "BhS3xcJGEi77",
        "colab_type": "code",
        "colab": {}
      },
      "source": [
        "inputs_combined = list(zip(texts, rev_label))\n",
        "df_rev = pd.DataFrame(inputs_combined, columns=['Texts', 'Labels'])"
      ],
      "execution_count": 0,
      "outputs": []
    },
    {
      "cell_type": "code",
      "metadata": {
        "id": "bHEawLjkHwDq",
        "colab_type": "code",
        "outputId": "412bf64c-c039-443d-f7eb-974398dd4495",
        "colab": {
          "base_uri": "https://localhost:8080/",
          "height": 202
        }
      },
      "source": [
        "df_rev.head()"
      ],
      "execution_count": 0,
      "outputs": [
        {
          "output_type": "execute_result",
          "data": {
            "text/html": [
              "<div>\n",
              "<style scoped>\n",
              "    .dataframe tbody tr th:only-of-type {\n",
              "        vertical-align: middle;\n",
              "    }\n",
              "\n",
              "    .dataframe tbody tr th {\n",
              "        vertical-align: top;\n",
              "    }\n",
              "\n",
              "    .dataframe thead th {\n",
              "        text-align: right;\n",
              "    }\n",
              "</style>\n",
              "<table border=\"1\" class=\"dataframe\">\n",
              "  <thead>\n",
              "    <tr style=\"text-align: right;\">\n",
              "      <th></th>\n",
              "      <th>Texts</th>\n",
              "      <th>Labels</th>\n",
              "    </tr>\n",
              "  </thead>\n",
              "  <tbody>\n",
              "    <tr>\n",
              "      <th>0</th>\n",
              "      <td>Here are two reasons companies fail: they only...</td>\n",
              "      <td>talks, business, creativity, curiosity, goal-s...</td>\n",
              "    </tr>\n",
              "    <tr>\n",
              "      <th>1</th>\n",
              "      <td>So there are lands few and far between on Eart...</td>\n",
              "      <td>talks, Planets, TEDx, bacteria, biology, engin...</td>\n",
              "    </tr>\n",
              "    <tr>\n",
              "      <th>2</th>\n",
              "      <td>OK, so, confession: I've always been weirdly o...</td>\n",
              "      <td>talks, Debate, Guns, activism, big problems, c...</td>\n",
              "    </tr>\n",
              "    <tr>\n",
              "      <th>3</th>\n",
              "      <td>It has been 128 years since the last country i...</td>\n",
              "      <td>talks, Brazil, Slavery, art, beauty, community...</td>\n",
              "    </tr>\n",
              "    <tr>\n",
              "      <th>4</th>\n",
              "      <td>Thousands of years from now, we'll look back a...</td>\n",
              "      <td>talks, NASA, communication, computers, creativ...</td>\n",
              "    </tr>\n",
              "  </tbody>\n",
              "</table>\n",
              "</div>"
            ],
            "text/plain": [
              "                                               Texts  \\\n",
              "0  Here are two reasons companies fail: they only...   \n",
              "1  So there are lands few and far between on Eart...   \n",
              "2  OK, so, confession: I've always been weirdly o...   \n",
              "3  It has been 128 years since the last country i...   \n",
              "4  Thousands of years from now, we'll look back a...   \n",
              "\n",
              "                                              Labels  \n",
              "0  talks, business, creativity, curiosity, goal-s...  \n",
              "1  talks, Planets, TEDx, bacteria, biology, engin...  \n",
              "2  talks, Debate, Guns, activism, big problems, c...  \n",
              "3  talks, Brazil, Slavery, art, beauty, community...  \n",
              "4  talks, NASA, communication, computers, creativ...  "
            ]
          },
          "metadata": {
            "tags": []
          },
          "execution_count": 57
        }
      ]
    },
    {
      "cell_type": "code",
      "metadata": {
        "id": "PX520YfdISjs",
        "colab_type": "code",
        "colab": {}
      },
      "source": [
        "trn_rev, test_rev = train_test_split(df_rev, test_size=0.1)"
      ],
      "execution_count": 0,
      "outputs": []
    },
    {
      "cell_type": "code",
      "metadata": {
        "id": "Tex245oUIERr",
        "colab_type": "code",
        "colab": {}
      },
      "source": [
        "list_of_labels_trn = trn_rev[\"Labels\"].fillna(\"_na_\").values\n",
        "y_rev = trn_rev[\"Texts\"]\n",
        "list_of_labels_test = test_rev[\"Labels\"].fillna(\"_na_\").values"
      ],
      "execution_count": 0,
      "outputs": []
    },
    {
      "cell_type": "code",
      "metadata": {
        "id": "O93bvPv1IfrJ",
        "colab_type": "code",
        "outputId": "4bc2955c-12d5-4eea-956d-0a2dc7283b18",
        "colab": {
          "base_uri": "https://localhost:8080/",
          "height": 121
        }
      },
      "source": [
        "y_rev[:5]"
      ],
      "execution_count": 0,
      "outputs": [
        {
          "output_type": "execute_result",
          "data": {
            "text/plain": [
              "1307    I grew up in a very small village in Canada, a...\n",
              "1070    I was offered a position as associate professo...\n",
              "111     (Guitar music)\\nI was just thinking that I hav...\n",
              "659     When I was a young boy, I used to gaze through...\n",
              "1822    To be new at TED -- it's like being the last h...\n",
              "Name: Texts, dtype: object"
            ]
          },
          "metadata": {
            "tags": []
          },
          "execution_count": 75
        }
      ]
    },
    {
      "cell_type": "code",
      "metadata": {
        "id": "yzdSJB_tLOz9",
        "colab_type": "code",
        "outputId": "8ed785e4-7732-4054-9415-6b5667cb005b",
        "colab": {
          "base_uri": "https://localhost:8080/",
          "height": 121
        }
      },
      "source": [
        "list_of_labels_trn[:5]"
      ],
      "execution_count": 0,
      "outputs": [
        {
          "output_type": "execute_result",
          "data": {
            "text/plain": [
              "array(['talks, culture, design, education, green',\n",
              "       'talks, design, medical research, science, visualizations',\n",
              "       'talks, guitar, live music, music, performance, piano',\n",
              "       'talks, TEDx, animals, anthropology, deextinction, evolution',\n",
              "       'talks, TED Conference, architecture, art, business, design, humor'],\n",
              "      dtype=object)"
            ]
          },
          "metadata": {
            "tags": []
          },
          "execution_count": 76
        }
      ]
    },
    {
      "cell_type": "code",
      "metadata": {
        "id": "IAcW-6C1I328",
        "colab_type": "code",
        "colab": {}
      },
      "source": [
        "rev_tokenizer = Tokenizer(num_words=max_features)\n",
        "rev_tokenizer.fit_on_texts(list(y_rev))\n",
        "rev_list_tokenized_train = tokenizer.texts_to_sequences(list_of_labels_trn)\n",
        "rev_list_tokenized_test = tokenizer.texts_to_sequences(list_of_labels_test)\n",
        "rev_X_t = pad_sequences(rev_list_tokenized_train, maxlen=8)\n",
        "rev_X_te = pad_sequences(rev_list_tokenized_test, maxlen=maxlen)"
      ],
      "execution_count": 0,
      "outputs": []
    },
    {
      "cell_type": "code",
      "metadata": {
        "id": "xe8Rvi3yJTPz",
        "colab_type": "code",
        "colab": {}
      },
      "source": [
        "rev_X_t[:5]"
      ],
      "execution_count": 0,
      "outputs": []
    },
    {
      "cell_type": "code",
      "metadata": {
        "id": "xwDsuol0JlCU",
        "colab_type": "code",
        "colab": {}
      },
      "source": [
        "rev_tldr = tokenizer.texts_to_sequences(y_rev)\n",
        "rev_tldr_X_t = pad_sequences(rev_tldr, maxlen=maxlen)"
      ],
      "execution_count": 0,
      "outputs": []
    },
    {
      "cell_type": "code",
      "metadata": {
        "id": "0yRnqO2WJ9fT",
        "colab_type": "code",
        "colab": {}
      },
      "source": [
        "rev_tldr_X_t[:5]"
      ],
      "execution_count": 0,
      "outputs": []
    },
    {
      "cell_type": "code",
      "metadata": {
        "id": "1LkAsw1gKAGX",
        "colab_type": "code",
        "colab": {}
      },
      "source": [
        "rev_word_index = rev_tokenizer.word_index\n",
        "rev_nb_words = min(max_features, len(rev_word_index))\n",
        "rev_embedding_matrix = np.random.normal(emb_mean, emb_std, (rev_nb_words, embed_size))\n",
        "for word, i in rev_word_index.items():\n",
        "    if i >= max_features: continue\n",
        "    rev_embedding_vector = embeddings_index.get(word)\n",
        "    if rev_embedding_vector is not None: rev_embedding_matrix[i] = rev_embedding_vector"
      ],
      "execution_count": 0,
      "outputs": []
    },
    {
      "cell_type": "code",
      "metadata": {
        "id": "Vr_25RRlKXa4",
        "colab_type": "code",
        "outputId": "7d7e44aa-b73f-47c4-b008-d4bf8cdda6cc",
        "colab": {
          "base_uri": "https://localhost:8080/",
          "height": 35
        }
      },
      "source": [
        "rev_tldr_X_t.shape, rev_X_t.shape"
      ],
      "execution_count": 0,
      "outputs": [
        {
          "output_type": "execute_result",
          "data": {
            "text/plain": [
              "((1876, 100), (1876, 8))"
            ]
          },
          "metadata": {
            "tags": []
          },
          "execution_count": 90
        }
      ]
    },
    {
      "cell_type": "code",
      "metadata": {
        "id": "br82184RDVHD",
        "colab_type": "code",
        "colab": {}
      },
      "source": [
        "#we want to predict text based on label\n",
        "\n",
        "inp = Input(shape=(maxlen,))\n",
        "x = Embedding(max_features, embed_size, weights=[embedding_matrix])(inp)\n",
        "x = Bidirectional(LSTM(50, return_sequences=True, dropout=0.1, recurrent_dropout=0.1))(x)\n",
        "x = GlobalMaxPool1D()(x)\n",
        "x = Dense(50, activation=\"relu\")(x)\n",
        "x = Dropout(0.1)(x)\n",
        "x = Dense(8, activation=\"sigmoid\")(x)\n",
        "model = Model(inputs=inp, outputs=x)\n",
        "model.compile(loss='binary_crossentropy', optimizer='adam', metrics=['accuracy'])\n",
        "#categorical cross entropy might work better\n",
        "#Future idea: try drop connections as a better method of regularization than dropout."
      ],
      "execution_count": 0,
      "outputs": []
    },
    {
      "cell_type": "code",
      "metadata": {
        "id": "9r-ZhUDRKgaB",
        "colab_type": "code",
        "colab": {}
      },
      "source": [
        "model.fit(rev_X_t, rev_tldr_X_t, batch_size=32, epochs=5, validation_split=0.1);"
      ],
      "execution_count": 0,
      "outputs": []
    },
    {
      "cell_type": "code",
      "metadata": {
        "id": "maNO3_zPKsaE",
        "colab_type": "code",
        "colab": {}
      },
      "source": [
        ""
      ],
      "execution_count": 0,
      "outputs": []
    }
  ]
}