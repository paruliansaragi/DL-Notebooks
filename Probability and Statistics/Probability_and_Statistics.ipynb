{
  "nbformat": 4,
  "nbformat_minor": 0,
  "metadata": {
    "colab": {
      "name": "Probability and Statistics.ipynb",
      "version": "0.3.2",
      "provenance": [],
      "collapsed_sections": [
        "isUput71VAPy",
        "chqQlgsWWXcb",
        "EkDuzaACn-Mv",
        "gwU_-VoXh2Vb",
        "Pea7yGljkTnI",
        "sABN1oMtqfxW",
        "i5R_hgYAyY4n",
        "yCPzxABJ6ina",
        "SeXc4lWTElzS",
        "w3IjWI8lMJyd",
        "YEmUENoAPaf1",
        "y4ILAA10Pbqc",
        "qOb3AcV7PcDT",
        "RRUTYXuzoF5h",
        "yFLI9ezDtq_O",
        "XGzy8bfIy_Aa",
        "qLdqCd_J934X",
        "08HU8Fs_Ze59",
        "0xsyTGlGej9K",
        "9piawZcOOqwM",
        "z0RsiYrmwNzg",
        "rcxwPnkA3_07",
        "QatSyd5hLi87",
        "TWdUI1ddMrL4",
        "15BTVRE0R3in",
        "77Edal1u1j-1",
        "zWL7TWyXfWC0"
      ],
      "include_colab_link": true
    },
    "kernelspec": {
      "name": "python3",
      "display_name": "Python 3"
    }
  },
  "cells": [
    {
      "cell_type": "markdown",
      "metadata": {
        "id": "view-in-github",
        "colab_type": "text"
      },
      "source": [
        "<a href=\"https://colab.research.google.com/github/paruliansaragi/Notebooks/blob/master/Probability_and_Statistics.ipynb\" target=\"_parent\"><img src=\"https://colab.research.google.com/assets/colab-badge.svg\" alt=\"Open In Colab\"/></a>"
      ]
    },
    {
      "cell_type": "markdown",
      "metadata": {
        "id": "T7-6RcDDVC53",
        "colab_type": "text"
      },
      "source": [
        "#Stanford Online Probability and Statistics"
      ]
    },
    {
      "cell_type": "markdown",
      "metadata": {
        "id": "bq2yjG8_isJq",
        "colab_type": "text"
      },
      "source": [
        "![alt text](https://lagunita.stanford.edu/assets/courseware/v1/0d3536ac7b87dc389e37935b9a01a6f3/asset-v1:OLI+ProbStat+Open_Jan2017+type@asset+block/probability_big_picture_probability.gif)"
      ]
    },
    {
      "cell_type": "markdown",
      "metadata": {
        "id": "fQS60rEzjggt",
        "colab_type": "text"
      },
      "source": [
        "https://lagunita.stanford.edu/courses/course-v1:OLI+ProbStat+Open_Jan2017/course/"
      ]
    },
    {
      "cell_type": "code",
      "metadata": {
        "id": "OGRVssDtU0j2",
        "colab_type": "code",
        "colab": {}
      },
      "source": [
        "# activate R magic\n",
        "import rpy2\n",
        "%load_ext rpy2.ipython"
      ],
      "execution_count": 0,
      "outputs": []
    },
    {
      "cell_type": "markdown",
      "metadata": {
        "id": "isUput71VAPy",
        "colab_type": "text"
      },
      "source": [
        "###Scales of Measurement\n",
        "\n"
      ]
    },
    {
      "cell_type": "markdown",
      "metadata": {
        "id": "OxsP4bl8oEY4",
        "colab_type": "text"
      },
      "source": [
        "Nomial - qualitative measure that uses discrete categories to describe a characteristic of research participants. The categories are not ranked or ordered.\n",
        "\n",
        "Ordinal - rank orders participants on some scale or attribute, but the difference between numbers does not convey fixed or equal differences.\n",
        "\n",
        "Interval - the distance between pairs of consecutive numbers is assumed to be equal. \n",
        "\n",
        "Ratio - similar to interval, a number is assigned to a subject that represents the amount of the attribute that the subject has and the difference between numbers is assumed to be equal. The difference is how we interpret a value of 0, for ratio it is meaningful and tells us that the attribute is not present in the participant. "
      ]
    },
    {
      "cell_type": "markdown",
      "metadata": {
        "id": "chqQlgsWWXcb",
        "colab_type": "text"
      },
      "source": [
        "###Examining Distributions\n"
      ]
    },
    {
      "cell_type": "markdown",
      "metadata": {
        "id": "d1ke-uAIoGsF",
        "colab_type": "text"
      },
      "source": [
        "\n",
        "To convert data into useful info we need to summarize and then examine the distribution of the variable. By distribution we mean: what values the variable takes and how often the variable takes those values.\n",
        "\n",
        "To summarize the distribution of a categorical varaible we create a table of different values the variable takes, the amount of times each value occurs (count) and how often each value occurs (convert counts to percentages).; this table is called a frequency distribution"
      ]
    },
    {
      "cell_type": "code",
      "metadata": {
        "id": "YR9D_cPhXRCY",
        "colab_type": "code",
        "outputId": "e73a2a31-83f4-45bc-9bd1-67c3fbb67f51",
        "colab": {
          "base_uri": "https://localhost:8080/"
        }
      },
      "source": [
        "!wget https://lagunita.stanford.edu/assets/courseware/v1/6c69fdf1ef819cd13c1d53a0b3481435/asset-v1:OLI+ProbStat+Open_Jan2017+type@asset+block/friends.RData"
      ],
      "execution_count": 0,
      "outputs": [
        {
          "output_type": "stream",
          "text": [
            "--2019-05-28 07:39:24--  https://lagunita.stanford.edu/assets/courseware/v1/6c69fdf1ef819cd13c1d53a0b3481435/asset-v1:OLI+ProbStat+Open_Jan2017+type@asset+block/friends.RData\n",
            "Resolving lagunita.stanford.edu (lagunita.stanford.edu)... 54.176.179.4, 13.57.143.231\n",
            "Connecting to lagunita.stanford.edu (lagunita.stanford.edu)|54.176.179.4|:443... connected.\n",
            "HTTP request sent, awaiting response... 200 OK\n",
            "Length: 220 [application/octet-stream]\n",
            "Saving to: ‘friends.RData’\n",
            "\n",
            "\rfriends.RData         0%[                    ]       0  --.-KB/s               \rfriends.RData       100%[===================>]     220  --.-KB/s    in 0s      \n",
            "\n",
            "2019-05-28 07:39:25 (27.7 MB/s) - ‘friends.RData’ saved [220/220]\n",
            "\n"
          ],
          "name": "stdout"
        }
      ]
    },
    {
      "cell_type": "code",
      "metadata": {
        "id": "c6YPjprfYSiL",
        "colab_type": "code",
        "outputId": "90c5df40-623a-4327-97aa-39c478dda520",
        "colab": {
          "base_uri": "https://localhost:8080/"
        }
      },
      "source": [
        "%%R\n",
        "load(\"./friends.RData\") \n",
        "head(friends)"
      ],
      "execution_count": 0,
      "outputs": [
        {
          "output_type": "display_data",
          "data": {
            "text/plain": [
              "        Friends\n",
              "1 No difference\n",
              "2 No difference\n",
              "3 No difference\n",
              "4 No difference\n",
              "5 No difference\n",
              "6 No difference\n"
            ]
          },
          "metadata": {
            "tags": []
          }
        }
      ]
    },
    {
      "cell_type": "code",
      "metadata": {
        "id": "HZ1xsMQAYmRP",
        "colab_type": "code",
        "outputId": "613ee0ec-042c-43af-a110-ac21eba293e2",
        "colab": {
          "base_uri": "https://localhost:8080/",
          "height": 70
        }
      },
      "source": [
        "%%R\n",
        "t = table(friends$Friends);t\n"
      ],
      "execution_count": 0,
      "outputs": [
        {
          "output_type": "display_data",
          "data": {
            "text/plain": [
              "\n",
              "No difference  Opposite sex      Same sex \n",
              "          602           434           164 \n"
            ]
          },
          "metadata": {
            "tags": []
          }
        }
      ]
    },
    {
      "cell_type": "code",
      "metadata": {
        "id": "CgPODdC0ZVC8",
        "colab_type": "code",
        "outputId": "9030139b-0788-4096-920c-709667ffe288",
        "colab": {
          "base_uri": "https://localhost:8080/",
          "height": 70
        }
      },
      "source": [
        "%%R\n",
        "prop = prop.table(t);prop\n",
        "# proportion of the total in each category\n"
      ],
      "execution_count": 0,
      "outputs": [
        {
          "output_type": "display_data",
          "data": {
            "text/plain": [
              "\n",
              "No difference  Opposite sex      Same sex \n",
              "    0.5016667     0.3616667     0.1366667 \n"
            ]
          },
          "metadata": {
            "tags": []
          }
        }
      ]
    },
    {
      "cell_type": "code",
      "metadata": {
        "id": "nBKNFxRSZj70",
        "colab_type": "code",
        "outputId": "49ae62ee-aa11-4118-a3f0-35e26b19c3eb",
        "colab": {
          "base_uri": "https://localhost:8080/",
          "height": 70
        }
      },
      "source": [
        "%%R\n",
        "#percentage of the total in each category\n",
        "percent=prop.table(t)*100;percent\n"
      ],
      "execution_count": 0,
      "outputs": [
        {
          "output_type": "display_data",
          "data": {
            "text/plain": [
              "\n",
              "No difference  Opposite sex      Same sex \n",
              "     50.16667      36.16667      13.66667 \n"
            ]
          },
          "metadata": {
            "tags": []
          }
        }
      ]
    },
    {
      "cell_type": "code",
      "metadata": {
        "id": "R0kTIqwgZwC8",
        "colab_type": "code",
        "outputId": "bea414e6-c02b-4a76-cb86-b0c351378789",
        "colab": {
          "base_uri": "https://localhost:8080/",
          "height": 496
        }
      },
      "source": [
        "%%R\n",
        "pie(t)\n"
      ],
      "execution_count": 0,
      "outputs": [
        {
          "output_type": "display_data",
          "data": {
            "image/png": "[encoded data removed]"
          },
          "metadata": {
            "tags": []
          }
        }
      ]
    },
    {
      "cell_type": "code",
      "metadata": {
        "id": "wqwkyRRyZ0OR",
        "colab_type": "code",
        "outputId": "00f45a3c-3406-4080-d97a-8248a48d1376",
        "colab": {
          "base_uri": "https://localhost:8080/",
          "height": 70
        }
      },
      "source": [
        "%%R\n",
        "pf = round(percent,1);pf\n"
      ],
      "execution_count": 0,
      "outputs": [
        {
          "output_type": "display_data",
          "data": {
            "text/plain": [
              "\n",
              "No difference  Opposite sex      Same sex \n",
              "         50.2          36.2          13.7 \n"
            ]
          },
          "metadata": {
            "tags": []
          }
        }
      ]
    },
    {
      "cell_type": "code",
      "metadata": {
        "id": "rBHGhb6QZ2T9",
        "colab_type": "code",
        "outputId": "8cdf3739-0401-4464-87a2-a3612dc5708a",
        "colab": {
          "base_uri": "https://localhost:8080/",
          "height": 34
        }
      },
      "source": [
        "%%R\n",
        "lbl = paste(c(\"No difference\",\"Opposite sex\",\"Same sex\"),pf,\"%\",sep=\" \");lbl\n"
      ],
      "execution_count": 0,
      "outputs": [
        {
          "output_type": "display_data",
          "data": {
            "text/plain": [
              "[1] \"No difference 50.2 %\" \"Opposite sex 36.2 %\"  \"Same sex 13.7 %\"     \n"
            ]
          },
          "metadata": {
            "tags": []
          }
        }
      ]
    },
    {
      "cell_type": "code",
      "metadata": {
        "id": "nsj3IuLHZ5pm",
        "colab_type": "code",
        "outputId": "705ce8c1-81f1-498b-9b99-3c6cea583e7c",
        "colab": {
          "base_uri": "https://localhost:8080/",
          "height": 496
        }
      },
      "source": [
        "%%R\n",
        "pie(t,label=lbl)\n"
      ],
      "execution_count": 0,
      "outputs": [
        {
          "output_type": "display_data",
          "data": {
            "image/png": "[encoded data removed]"
          },
          "metadata": {
            "tags": []
          }
        }
      ]
    },
    {
      "cell_type": "markdown",
      "metadata": {
        "id": "EkDuzaACn-Mv",
        "colab_type": "text"
      },
      "source": [
        "###Quantitative Variable"
      ]
    },
    {
      "cell_type": "markdown",
      "metadata": {
        "id": "jXPceomhaICx",
        "colab_type": "text"
      },
      "source": [
        "Histograms - break range of values into intervals (bins or classes). We plot the intervals on the X-axis and number of observations (frequency) on the Y-axis. \n",
        "\n",
        "Turn it into a relative frequency table by adding a total number of observations and a column to calculate the relative frequency by dividing the number of observations by total number of observations.\n",
        "\n",
        "![alt text](https://lagunita.stanford.edu/assets/courseware/v1/f58dd4371215204d05c7c1cd3d67c211/asset-v1:OLI+ProbStat+Open_Jan2017+type@asset+block/eda_examining_distributions_feq_table.png)\n",
        "\n",
        "Histogram Intepretation - Shape, Center, Spread being the overall pattern and outliers being the deviations.\n",
        "\n",
        "Shape - Symmetry/skewness and Peakedness (modality) the number of peaks (modes) the distribution has.\n",
        "\n",
        "Symmetric Distributions:\n",
        "\n",
        "![alt text](https://lagunita.stanford.edu/assets/courseware/v1/555d1de4be33e15667b6fe7fb76ab540/asset-v1:OLI+ProbStat+Open_Jan2017+type@asset+block/eda_examining_distributions_histogram2.gif)\n",
        "![alt text](https://lagunita.stanford.edu/assets/courseware/v1/53757a95fdab73950f0ba6e95cac8748/asset-v1:OLI+ProbStat+Open_Jan2017+type@asset+block/eda_examining_distributions_histogram3.gif)\n",
        "![alt text](https://lagunita.stanford.edu/assets/courseware/v1/28c908115c0f597fe349ce492f1d5f14/asset-v1:OLI+ProbStat+Open_Jan2017+type@asset+block/eda_examining_distributions_histogram4.gif)\n",
        "\n",
        "The three distributions are symmetric but have different modalities. \n",
        "\n",
        "Right Skewed distributions has a right tail (larger values) much longer than the left tail. The bulk of the observations are small/medium, with a few observations much larger than the rest. \n",
        "\n",
        "Left Skewed has a left tail longer than the right. The bulk of observatinos are medium/large. \n",
        "\n",
        "NB: skewed distributions can be bimodal. \n",
        "\n",
        "The center of a distribution is its midpoint-the value that divides the distributin, so that approximately half the observations take smaller values and half take larger. \n",
        "\n",
        "Spread - also called variability, are the approx range covered by the data. We can approximate the smallest observation (min) and largest (max).\n",
        "\n",
        "Outliers - observations that fall outside the overall pattern. \n"
      ]
    },
    {
      "cell_type": "code",
      "metadata": {
        "id": "VEh6Hh_6Z78j",
        "colab_type": "code",
        "outputId": "d9b07163-deb6-49e3-cfa9-3d7df3aa54cd",
        "colab": {
          "base_uri": "https://localhost:8080/",
          "height": 232
        }
      },
      "source": [
        "!wget https://lagunita.stanford.edu/assets/courseware/v1/02e453d16cf2bc066c5faa63dd6328de/asset-v1:OLI+ProbStat+Open_Jan2017+type@asset+block/actor_2013.RData"
      ],
      "execution_count": 0,
      "outputs": [
        {
          "output_type": "stream",
          "text": [
            "--2019-05-28 08:09:43--  https://lagunita.stanford.edu/assets/courseware/v1/02e453d16cf2bc066c5faa63dd6328de/asset-v1:OLI+ProbStat+Open_Jan2017+type@asset+block/actor_2013.RData\n",
            "Resolving lagunita.stanford.edu (lagunita.stanford.edu)... 54.176.179.4, 13.57.143.231\n",
            "Connecting to lagunita.stanford.edu (lagunita.stanford.edu)|54.176.179.4|:443... connected.\n",
            "HTTP request sent, awaiting response... 200 OK\n",
            "Length: 226 [application/octet-stream]\n",
            "Saving to: ‘actor_2013.RData’\n",
            "\n",
            "\ractor_2013.RData      0%[                    ]       0  --.-KB/s               \ractor_2013.RData    100%[===================>]     226  --.-KB/s    in 0s      \n",
            "\n",
            "2019-05-28 08:09:44 (30.2 MB/s) - ‘actor_2013.RData’ saved [226/226]\n",
            "\n"
          ],
          "name": "stdout"
        }
      ]
    },
    {
      "cell_type": "code",
      "metadata": {
        "id": "LC5ouUQCfRp-",
        "colab_type": "code",
        "outputId": "f69f9112-0cee-479e-9de2-877e66464d99",
        "colab": {
          "base_uri": "https://localhost:8080/",
          "height": 141
        }
      },
      "source": [
        "%%R\n",
        "load(\"./actor_2013.RData\") \n",
        "head(actor_age)"
      ],
      "execution_count": 0,
      "outputs": [
        {
          "output_type": "display_data",
          "data": {
            "text/plain": [
              "  Age\n",
              "1  43\n",
              "2  42\n",
              "3  48\n",
              "4  49\n",
              "5  56\n",
              "6  38\n"
            ]
          },
          "metadata": {
            "tags": []
          }
        }
      ]
    },
    {
      "cell_type": "code",
      "metadata": {
        "id": "TvmrCjvcgL4U",
        "colab_type": "code",
        "outputId": "dfe486f5-32e6-4875-d6a7-1e27399b4ba2",
        "colab": {
          "base_uri": "https://localhost:8080/",
          "height": 496
        }
      },
      "source": [
        "%%R\n",
        "\n",
        "hist(actor_age$Age)"
      ],
      "execution_count": 0,
      "outputs": [
        {
          "output_type": "display_data",
          "data": {
            "image/png": "[encoded data removed]"
          },
          "metadata": {
            "tags": []
          }
        }
      ]
    },
    {
      "cell_type": "code",
      "metadata": {
        "id": "mBy5e7O0gPR_",
        "colab_type": "code",
        "outputId": "874642f1-d96b-404e-f27d-6cfb0f539745",
        "colab": {
          "base_uri": "https://localhost:8080/",
          "height": 496
        }
      },
      "source": [
        "%%R\n",
        "hist(actor_age$Age, xlab=\"Age of Best Actor Oscar Winners (1970-2013)\", \n",
        "     ylab=\"Number of Actors\", \n",
        "     main=\"Best Actor Oscar Winners Ages\")"
      ],
      "execution_count": 0,
      "outputs": [
        {
          "output_type": "display_data",
          "data": {
            "image/png": "[encoded data removed]"
          },
          "metadata": {
            "tags": []
          }
        }
      ]
    },
    {
      "cell_type": "code",
      "metadata": {
        "id": "_9bOK7cvgbGs",
        "colab_type": "code",
        "outputId": "378e9b77-b1b0-4252-bc09-e17e825d5e7c",
        "colab": {
          "base_uri": "https://localhost:8080/",
          "height": 496
        }
      },
      "source": [
        "%%R\n",
        "hist(actor_age$Age, xlab=\"Age of Best Actor Oscar Winners (1970-2013)\", \n",
        "     ylab=\"Number of Actors\", \n",
        "     main=\"Best Actor Oscar Winners Ages\",\n",
        "     breaks=20)"
      ],
      "execution_count": 0,
      "outputs": [
        {
          "output_type": "display_data",
          "data": {
            "image/png": "[encoded data removed]"
          },
          "metadata": {
            "tags": []
          }
        }
      ]
    },
    {
      "cell_type": "markdown",
      "metadata": {
        "id": "1KoGYrtFhSFy",
        "colab_type": "text"
      },
      "source": [
        "Stemplot or stem and leaf plot - displays distribution. Separates each data point into a stem and leaf, the leaf is the right-most digit, the stem is everything except the right most digit. So if the data point is 34 then 3 is the steam and 4 is the leaf. ![alt text](https://lagunita.stanford.edu/assets/courseware/v1/f9eea9313f10852389d4be39c0ce0ef7/asset-v1:OLI+ProbStat+Open_Jan2017+type@asset+block/eda_examining_distributions_best_actress_stemplot.jpg)\n",
        "\n",
        "Dotplot - like stemplot it shows each observation but displays it with a dot rather than an actual value. "
      ]
    },
    {
      "cell_type": "markdown",
      "metadata": {
        "id": "gwU_-VoXh2Vb",
        "colab_type": "text"
      },
      "source": [
        "###Numerical Measures\n",
        "\n",
        " "
      ]
    },
    {
      "cell_type": "markdown",
      "metadata": {
        "id": "0OeTR3fyoJ-5",
        "colab_type": "text"
      },
      "source": [
        "Mode - mode as the value where the distribution has a peak and we can have distributions with one mode (unimodal) and two modes (bimodal). \n",
        "\n",
        "Mean - average set of observations. (Expected value from a set of observations). \n",
        "\n",
        "Median - is the midpoint of the distributions. The number such that half the observations fall above and half fall below. \n",
        "\n",
        "The mean is very sensitive to outliers because it factors in their magnitude, while the median is resistant. For symmetric distributions with no outliers the mean is approximately equal to M. For right skewed with outliers the mean > median, and vice versa for left."
      ]
    },
    {
      "cell_type": "markdown",
      "metadata": {
        "id": "Pea7yGljkTnI",
        "colab_type": "text"
      },
      "source": [
        "###Measures of Spread \n",
        "\n"
      ]
    },
    {
      "cell_type": "markdown",
      "metadata": {
        "id": "A-9IkCXjn6mr",
        "colab_type": "text"
      },
      "source": [
        "To describe a distribution, we need to supplement the graphical display not only with a measure of center but a measure of variability or spread of a distribution: Range, IQR, Standard Deviation.\n",
        "\n",
        "Range = Max - Min\n",
        "\n",
        "Inter-Quartile Range (IQR) - the IQR measures the variability of a distribution by giving us the range covered by the MIDDLE 50%. Found by: arranging data in increasing order, find the median, find the median of the lower 50% giving us the first quartile distribution (Q1), repeat for top 50% of data to get Q3. IQR = Q3 - Q1. \n",
        "\n",
        "Using IQR to detect outliers - the 1.5 IQR criterion for outliers, an observation is considered a suspected outlier if it is: below Q1 - 1.5(IQR) or above Q3 + 1.5(IQR). \n",
        "\n",
        "Understanding outliers - if they can occur again then such an outlier indicates something important and should be kept. If an outlier is produced under different conditions from the rest of the data it can be removed. \n",
        "\n",
        "The Five Number summary - Min, Q1, Median, Q3, Max. "
      ]
    },
    {
      "cell_type": "code",
      "metadata": {
        "id": "d_ZGCyKqglf8",
        "colab_type": "code",
        "outputId": "ea6da6b2-5548-4843-db3c-7a160fc073ee",
        "colab": {
          "base_uri": "https://localhost:8080/"
        }
      },
      "source": [
        "%%R\n",
        "summary(actor_age$Age)"
      ],
      "execution_count": 0,
      "outputs": [
        {
          "output_type": "display_data",
          "data": {
            "text/plain": [
              "   Min. 1st Qu.  Median    Mean 3rd Qu.    Max. \n",
              "  29.00   38.00   43.50   44.98   50.25   76.00 \n"
            ]
          },
          "metadata": {
            "tags": []
          }
        }
      ]
    },
    {
      "cell_type": "code",
      "metadata": {
        "id": "7nGgOUkjndUg",
        "colab_type": "code",
        "outputId": "faaf8c75-01d8-4142-b088-4209a5f5fea5",
        "colab": {
          "base_uri": "https://localhost:8080/"
        }
      },
      "source": [
        "%%R \n",
        "sd(actor_age$Age)"
      ],
      "execution_count": 0,
      "outputs": [
        {
          "output_type": "display_data",
          "data": {
            "text/plain": [
              "[1] 9.749153\n"
            ]
          },
          "metadata": {
            "tags": []
          }
        }
      ]
    },
    {
      "cell_type": "code",
      "metadata": {
        "id": "4-wtwV79nlTV",
        "colab_type": "code",
        "outputId": "ecb16979-14f7-4881-e713-3fdc3adfaae6",
        "colab": {
          "base_uri": "https://localhost:8080/"
        }
      },
      "source": [
        "%%R\n",
        "var(actor_age$Age)"
      ],
      "execution_count": 0,
      "outputs": [
        {
          "output_type": "display_data",
          "data": {
            "text/plain": [
              "[1] 95.04598\n"
            ]
          },
          "metadata": {
            "tags": []
          }
        }
      ]
    },
    {
      "cell_type": "code",
      "metadata": {
        "id": "CZ1SluCEntCM",
        "colab_type": "code",
        "outputId": "62487491-b034-4495-8195-98e2f0680888",
        "colab": {
          "base_uri": "https://localhost:8080/"
        }
      },
      "source": [
        "%%R\n",
        "IQR(actor_age$Age)"
      ],
      "execution_count": 0,
      "outputs": [
        {
          "output_type": "display_data",
          "data": {
            "text/plain": [
              "[1] 12.25\n"
            ]
          },
          "metadata": {
            "tags": []
          }
        }
      ]
    },
    {
      "cell_type": "code",
      "metadata": {
        "id": "VZLnT0kYnu7o",
        "colab_type": "code",
        "outputId": "a695005f-4c02-4961-f838-d5147ebc77dd",
        "colab": {
          "base_uri": "https://localhost:8080/"
        }
      },
      "source": [
        "%%R\n",
        "quantile(actor_age$Age, 0.25)\n"
      ],
      "execution_count": 0,
      "outputs": [
        {
          "output_type": "display_data",
          "data": {
            "text/plain": [
              "25% \n",
              " 38 \n"
            ]
          },
          "metadata": {
            "tags": []
          }
        }
      ]
    },
    {
      "cell_type": "markdown",
      "metadata": {
        "id": "4MtJ2R7In1nd",
        "colab_type": "text"
      },
      "source": [
        "The boxplot represents the distribution of a quantiative variable by visually displaying the five-number summary and any observation that was classified as a suspected outlier using the 1.5(IQR) criterion.\n",
        "\n",
        "Comparative Boxplots - Side-by-side boxplots allows us to compare dstributions for two or more groups.\n",
        "\n"
      ]
    },
    {
      "cell_type": "code",
      "metadata": {
        "id": "irPySsS7nxb0",
        "colab_type": "code",
        "outputId": "0b9688b9-d720-4561-c23c-aa62be88e26d",
        "colab": {
          "base_uri": "https://localhost:8080/",
          "height": 232
        }
      },
      "source": [
        "!wget https://lagunita.stanford.edu/assets/courseware/v1/3d35a69ef0649f3f50ebf7b562a3cd37/asset-v1:OLI+ProbStat+Open_Jan2017+type@asset+block/graduation.RData"
      ],
      "execution_count": 0,
      "outputs": [
        {
          "output_type": "stream",
          "text": [
            "--2019-05-28 08:55:04--  https://lagunita.stanford.edu/assets/courseware/v1/3d35a69ef0649f3f50ebf7b562a3cd37/asset-v1:OLI+ProbStat+Open_Jan2017+type@asset+block/graduation.RData\n",
            "Resolving lagunita.stanford.edu (lagunita.stanford.edu)... 54.176.179.4, 13.57.143.231\n",
            "Connecting to lagunita.stanford.edu (lagunita.stanford.edu)|54.176.179.4|:443... connected.\n",
            "HTTP request sent, awaiting response... 200 OK\n",
            "Length: 333 [application/octet-stream]\n",
            "Saving to: ‘graduation.RData’\n",
            "\n",
            "\rgraduation.RData      0%[                    ]       0  --.-KB/s               \rgraduation.RData    100%[===================>]     333  --.-KB/s    in 0s      \n",
            "\n",
            "2019-05-28 08:55:04 (60.6 MB/s) - ‘graduation.RData’ saved [333/333]\n",
            "\n"
          ],
          "name": "stdout"
        }
      ]
    },
    {
      "cell_type": "code",
      "metadata": {
        "id": "mgQpZyPApmvP",
        "colab_type": "code",
        "outputId": "5e7ed143-9f93-4780-8259-94ddc17ccc05",
        "colab": {
          "base_uri": "https://localhost:8080/",
          "height": 141
        }
      },
      "source": [
        "%%R\n",
        "load('graduation.RData')\n",
        "head(grad_data)"
      ],
      "execution_count": 0,
      "outputs": [
        {
          "output_type": "display_data",
          "data": {
            "text/plain": [
              "  College.A College.B College.C College.D College.E College.F\n",
              "1      57.6      70.1      54.5      80.1      71.3      68.8\n",
              "2      43.2      69.6      55.6      77.3      62.6      61.0\n",
              "3      49.6      67.3      56.9      74.7      54.5      57.7\n",
              "4      51.4      76.7      71.0      79.2      57.5      66.4\n",
              "5      69.9      69.4      73.3      84.6      55.0      75.2\n",
              "6      69.9      72.6      74.8      78.8      67.0      87.4\n"
            ]
          },
          "metadata": {
            "tags": []
          }
        }
      ]
    },
    {
      "cell_type": "code",
      "metadata": {
        "id": "3LaapoU_psqw",
        "colab_type": "code",
        "outputId": "fd7a8ff9-b35f-42c6-cedd-521223c3c01a",
        "colab": {
          "base_uri": "https://localhost:8080/",
          "height": 265
        }
      },
      "source": [
        "%%R\n",
        "summary(grad_data)"
      ],
      "execution_count": 0,
      "outputs": [
        {
          "output_type": "display_data",
          "data": {
            "text/plain": [
              "   College.A       College.B       College.C       College.D    \n",
              " Min.   :43.20   Min.   :67.30   Min.   :54.50   Min.   :74.10  \n",
              " 1st Qu.:50.95   1st Qu.:69.55   1st Qu.:56.58   1st Qu.:76.65  \n",
              " Median :63.75   Median :70.15   Median :67.65   Median :79.00  \n",
              " Mean   :60.96   Mean   :71.29   Mean   :65.17   Mean   :79.11  \n",
              " 3rd Qu.:70.50   3rd Qu.:73.05   3rd Qu.:71.58   3rd Qu.:81.10  \n",
              " Max.   :73.80   Max.   :76.70   Max.   :74.80   Max.   :84.60  \n",
              "   College.E       College.F    \n",
              " Min.   :54.50   Min.   :57.70  \n",
              " 1st Qu.:56.88   1st Qu.:65.05  \n",
              " Median :59.15   Median :72.00  \n",
              " Mean   :60.77   Mean   :72.78  \n",
              " 3rd Qu.:63.70   3rd Qu.:81.28  \n",
              " Max.   :71.30   Max.   :87.40  \n"
            ]
          },
          "metadata": {
            "tags": []
          }
        }
      ]
    },
    {
      "cell_type": "code",
      "metadata": {
        "id": "eRNjoJj5pu2e",
        "colab_type": "code",
        "outputId": "34cc87bd-8324-43e4-9b37-bfd602889c57",
        "colab": {
          "base_uri": "https://localhost:8080/",
          "height": 496
        }
      },
      "source": [
        "%%R\n",
        "boxplot(grad_data,\n",
        "        xlab=\"Colleges\",\n",
        "        ylab =\"Graduation Rates\", \n",
        "        main=\"Comparison of Graduation Rates\")\n"
      ],
      "execution_count": 0,
      "outputs": [
        {
          "output_type": "display_data",
          "data": {
            "image/png": "[encoded data removed]"
          },
          "metadata": {
            "tags": []
          }
        }
      ]
    },
    {
      "cell_type": "markdown",
      "metadata": {
        "id": "sABN1oMtqfxW",
        "colab_type": "text"
      },
      "source": [
        "###Standard Deviation"
      ]
    },
    {
      "cell_type": "markdown",
      "metadata": {
        "id": "0B1-XyPAqh8U",
        "colab_type": "text"
      },
      "source": [
        "The idea behind standard deviation (std for short) is to quantify the spread of a distribution by measuring how far the observations are from the mean. It gives the typical or average distance between a data point and the mean. \n",
        "\n",
        "To calculate: find the mean, find the deviations from the mean (difference between each observation and the mean), square each of the deviations, average the square deviations by adding them up and dividing by n - 1 (one less than sample size). The average of squared deviations is called the variance, the std is the square root of the variance. We take the square root since the variance is the squared deviations. "
      ]
    },
    {
      "cell_type": "code",
      "metadata": {
        "id": "hisjW13JrY5y",
        "colab_type": "code",
        "outputId": "b87bccef-eb53-4f57-da8e-7b6c9c65c4c4",
        "colab": {
          "base_uri": "https://localhost:8080/"
        }
      },
      "source": [
        "!wget https://lagunita.stanford.edu/assets/courseware/v1/99f0403f511575c39790c10cf1f27a7c/asset-v1:OLI+ProbStat+Open_Jan2017+type@asset+block/sdintuition.RData"
      ],
      "execution_count": 0,
      "outputs": [
        {
          "output_type": "stream",
          "text": [
            "--2019-05-28 09:02:54--  https://lagunita.stanford.edu/assets/courseware/v1/99f0403f511575c39790c10cf1f27a7c/asset-v1:OLI+ProbStat+Open_Jan2017+type@asset+block/sdintuition.RData\n",
            "Resolving lagunita.stanford.edu (lagunita.stanford.edu)... 13.57.143.231, 54.176.179.4\n",
            "Connecting to lagunita.stanford.edu (lagunita.stanford.edu)|13.57.143.231|:443... connected.\n",
            "HTTP request sent, awaiting response... 200 OK\n",
            "Length: 180 [application/octet-stream]\n",
            "Saving to: ‘sdintuition.RData’\n",
            "\n",
            "\rsdintuition.RData     0%[                    ]       0  --.-KB/s               \rsdintuition.RData   100%[===================>]     180  --.-KB/s    in 0s      \n",
            "\n",
            "2019-05-28 09:02:54 (28.7 MB/s) - ‘sdintuition.RData’ saved [180/180]\n",
            "\n"
          ],
          "name": "stdout"
        }
      ]
    },
    {
      "cell_type": "code",
      "metadata": {
        "id": "TYIKxuUyrZjM",
        "colab_type": "code",
        "outputId": "946348e2-3899-4e6c-b9a4-ca22eaa004bd",
        "colab": {
          "base_uri": "https://localhost:8080/"
        }
      },
      "source": [
        "%%R\n",
        "load('sdintuition.RData')\n",
        "head(ratings)"
      ],
      "execution_count": 0,
      "outputs": [
        {
          "output_type": "display_data",
          "data": {
            "text/plain": [
              "  Class.I Class.II Class.III\n",
              "1       1        1         1\n",
              "2       1        1         2\n",
              "3       5        1         3\n",
              "4       5        1         4\n",
              "5       5        1         5\n",
              "6       5        1         6\n"
            ]
          },
          "metadata": {
            "tags": []
          }
        }
      ]
    },
    {
      "cell_type": "code",
      "metadata": {
        "id": "oQamjxYHre3I",
        "colab_type": "code",
        "outputId": "7a15eb4f-0f7d-4445-9b4d-a75a6dbfae0f",
        "colab": {
          "base_uri": "https://localhost:8080/"
        }
      },
      "source": [
        "%%R\n",
        "sapply(ratings, sd)\n",
        "#calculates the standard deviation for each variable"
      ],
      "execution_count": 0,
      "outputs": [
        {
          "output_type": "display_data",
          "data": {
            "text/plain": [
              "  Class.I  Class.II Class.III \n",
              " 1.568929  4.000000  2.631174 \n"
            ]
          },
          "metadata": {
            "tags": []
          }
        }
      ]
    },
    {
      "cell_type": "markdown",
      "metadata": {
        "id": "y_RyZ8e1rvbC",
        "colab_type": "text"
      },
      "source": [
        "Standard deviation rule - also known as the empirical rule, consider a symmetric mound shaped distribution. For distributions with this normal shape the rule applies: approximately 68% of observations fall within 1 std of the mean, 95% fall within 2 std of the mean, 99.7% fall within 3 std. ![alt text](https://lagunita.stanford.edu/assets/courseware/v1/4aefcaab4b213df17d78693099c25cc8/asset-v1:OLI+ProbStat+Open_Jan2017+type@asset+block/eda_examining_distributions_sdgraph2.gif)\n",
        "\n"
      ]
    },
    {
      "cell_type": "markdown",
      "metadata": {
        "id": "VxJpGr9Tu8Nf",
        "colab_type": "text"
      },
      "source": [
        "Q1. What are the drinking habits of students at this university? In particular, what is the typical number of drinks a student has during a week? \n",
        "\n",
        "Roughly 4.5. \n",
        "\n",
        "Do the data suggest that drinking is a problem in this university?\n",
        "\n"
      ]
    },
    {
      "cell_type": "code",
      "metadata": {
        "id": "ytEhnNzls3Gi",
        "colab_type": "code",
        "outputId": "31bf81f3-50b2-4a3e-f25c-1b4830a1b4ce",
        "colab": {
          "base_uri": "https://localhost:8080/",
          "height": 197
        }
      },
      "source": [
        "import pandas as pd\n",
        "\n",
        "df = pd.read_excel('drinking.xls')\n",
        "df.head()"
      ],
      "execution_count": 0,
      "outputs": [
        {
          "output_type": "execute_result",
          "data": {
            "text/html": [
              "<div>\n",
              "<style scoped>\n",
              "    .dataframe tbody tr th:only-of-type {\n",
              "        vertical-align: middle;\n",
              "    }\n",
              "\n",
              "    .dataframe tbody tr th {\n",
              "        vertical-align: top;\n",
              "    }\n",
              "\n",
              "    .dataframe thead th {\n",
              "        text-align: right;\n",
              "    }\n",
              "</style>\n",
              "<table border=\"1\" class=\"dataframe\">\n",
              "  <thead>\n",
              "    <tr style=\"text-align: right;\">\n",
              "      <th></th>\n",
              "      <th>Gender</th>\n",
              "      <th>Alcohol</th>\n",
              "      <th>Height</th>\n",
              "      <th>Cheat</th>\n",
              "    </tr>\n",
              "  </thead>\n",
              "  <tbody>\n",
              "    <tr>\n",
              "      <th>0</th>\n",
              "      <td>Female</td>\n",
              "      <td>15</td>\n",
              "      <td>64.0</td>\n",
              "      <td>0</td>\n",
              "    </tr>\n",
              "    <tr>\n",
              "      <th>1</th>\n",
              "      <td>Male</td>\n",
              "      <td>14</td>\n",
              "      <td>69.0</td>\n",
              "      <td>0</td>\n",
              "    </tr>\n",
              "    <tr>\n",
              "      <th>2</th>\n",
              "      <td>Female</td>\n",
              "      <td>*</td>\n",
              "      <td>66.0</td>\n",
              "      <td>0</td>\n",
              "    </tr>\n",
              "    <tr>\n",
              "      <th>3</th>\n",
              "      <td>Female</td>\n",
              "      <td>10</td>\n",
              "      <td>63.0</td>\n",
              "      <td>0</td>\n",
              "    </tr>\n",
              "    <tr>\n",
              "      <th>4</th>\n",
              "      <td>Male</td>\n",
              "      <td>30</td>\n",
              "      <td>72.0</td>\n",
              "      <td>0</td>\n",
              "    </tr>\n",
              "  </tbody>\n",
              "</table>\n",
              "</div>"
            ],
            "text/plain": [
              "   Gender Alcohol  Height  Cheat\n",
              "0  Female      15    64.0      0\n",
              "1    Male      14    69.0      0\n",
              "2  Female       *    66.0      0\n",
              "3  Female      10    63.0      0\n",
              "4    Male      30    72.0      0"
            ]
          },
          "metadata": {
            "tags": []
          },
          "execution_count": 88
        }
      ]
    },
    {
      "cell_type": "code",
      "metadata": {
        "id": "SkCXaizCvlfp",
        "colab_type": "code",
        "colab": {}
      },
      "source": [
        "df = df[df.Alcohol != \"*\"]"
      ],
      "execution_count": 0,
      "outputs": []
    },
    {
      "cell_type": "code",
      "metadata": {
        "id": "lW_d0WMFv4Qx",
        "colab_type": "code",
        "outputId": "c61909ea-2980-4f85-ffb0-842252b81ce5",
        "colab": {
          "base_uri": "https://localhost:8080/",
          "height": 34
        }
      },
      "source": [
        "df.Alcohol.mean()"
      ],
      "execution_count": 0,
      "outputs": [
        {
          "output_type": "execute_result",
          "data": {
            "text/plain": [
              "4.538834951456311"
            ]
          },
          "metadata": {
            "tags": []
          },
          "execution_count": 85
        }
      ]
    },
    {
      "cell_type": "code",
      "metadata": {
        "id": "eyOO324hu5aR",
        "colab_type": "code",
        "outputId": "816ddafb-bad0-4dab-b5b9-b7db00989263",
        "colab": {
          "base_uri": "https://localhost:8080/",
          "height": 287
        }
      },
      "source": [
        "df.describe()"
      ],
      "execution_count": 0,
      "outputs": [
        {
          "output_type": "execute_result",
          "data": {
            "text/html": [
              "<div>\n",
              "<style scoped>\n",
              "    .dataframe tbody tr th:only-of-type {\n",
              "        vertical-align: middle;\n",
              "    }\n",
              "\n",
              "    .dataframe tbody tr th {\n",
              "        vertical-align: top;\n",
              "    }\n",
              "\n",
              "    .dataframe thead th {\n",
              "        text-align: right;\n",
              "    }\n",
              "</style>\n",
              "<table border=\"1\" class=\"dataframe\">\n",
              "  <thead>\n",
              "    <tr style=\"text-align: right;\">\n",
              "      <th></th>\n",
              "      <th>Height</th>\n",
              "      <th>Cheat</th>\n",
              "    </tr>\n",
              "  </thead>\n",
              "  <tbody>\n",
              "    <tr>\n",
              "      <th>count</th>\n",
              "      <td>206.000000</td>\n",
              "      <td>206.000000</td>\n",
              "    </tr>\n",
              "    <tr>\n",
              "      <th>mean</th>\n",
              "      <td>66.731796</td>\n",
              "      <td>0.092233</td>\n",
              "    </tr>\n",
              "    <tr>\n",
              "      <th>std</th>\n",
              "      <td>3.857046</td>\n",
              "      <td>0.290059</td>\n",
              "    </tr>\n",
              "    <tr>\n",
              "      <th>min</th>\n",
              "      <td>59.500000</td>\n",
              "      <td>0.000000</td>\n",
              "    </tr>\n",
              "    <tr>\n",
              "      <th>25%</th>\n",
              "      <td>63.625000</td>\n",
              "      <td>0.000000</td>\n",
              "    </tr>\n",
              "    <tr>\n",
              "      <th>50%</th>\n",
              "      <td>67.000000</td>\n",
              "      <td>0.000000</td>\n",
              "    </tr>\n",
              "    <tr>\n",
              "      <th>75%</th>\n",
              "      <td>69.875000</td>\n",
              "      <td>0.000000</td>\n",
              "    </tr>\n",
              "    <tr>\n",
              "      <th>max</th>\n",
              "      <td>76.500000</td>\n",
              "      <td>1.000000</td>\n",
              "    </tr>\n",
              "  </tbody>\n",
              "</table>\n",
              "</div>"
            ],
            "text/plain": [
              "           Height       Cheat\n",
              "count  206.000000  206.000000\n",
              "mean    66.731796    0.092233\n",
              "std      3.857046    0.290059\n",
              "min     59.500000    0.000000\n",
              "25%     63.625000    0.000000\n",
              "50%     67.000000    0.000000\n",
              "75%     69.875000    0.000000\n",
              "max     76.500000    1.000000"
            ]
          },
          "metadata": {
            "tags": []
          },
          "execution_count": 83
        }
      ]
    },
    {
      "cell_type": "code",
      "metadata": {
        "id": "jyUSFiW7u-rT",
        "colab_type": "code",
        "outputId": "a59f7286-07c3-4377-ec8f-e370488229e6",
        "colab": {
          "base_uri": "https://localhost:8080/",
          "height": 286
        }
      },
      "source": [
        "df.boxplot()"
      ],
      "execution_count": 0,
      "outputs": [
        {
          "output_type": "execute_result",
          "data": {
            "text/plain": [
              "<matplotlib.axes._subplots.AxesSubplot at 0x7fc2b67097f0>"
            ]
          },
          "metadata": {
            "tags": []
          },
          "execution_count": 86
        },
        {
          "output_type": "display_data",
          "data": {
            "image/png": "[encoded data removed]",
            "text/plain": [
              "<Figure size 432x288 with 1 Axes>"
            ]
          },
          "metadata": {
            "tags": []
          }
        }
      ]
    },
    {
      "cell_type": "code",
      "metadata": {
        "id": "xV-_xRBavOL_",
        "colab_type": "code",
        "outputId": "ad7313f7-fd3d-4a33-cd4e-15dc05c175b4",
        "colab": {
          "base_uri": "https://localhost:8080/",
          "height": 347
        }
      },
      "source": [
        "df[:10]"
      ],
      "execution_count": 0,
      "outputs": [
        {
          "output_type": "execute_result",
          "data": {
            "text/html": [
              "<div>\n",
              "<style scoped>\n",
              "    .dataframe tbody tr th:only-of-type {\n",
              "        vertical-align: middle;\n",
              "    }\n",
              "\n",
              "    .dataframe tbody tr th {\n",
              "        vertical-align: top;\n",
              "    }\n",
              "\n",
              "    .dataframe thead th {\n",
              "        text-align: right;\n",
              "    }\n",
              "</style>\n",
              "<table border=\"1\" class=\"dataframe\">\n",
              "  <thead>\n",
              "    <tr style=\"text-align: right;\">\n",
              "      <th></th>\n",
              "      <th>Gender</th>\n",
              "      <th>Alcohol</th>\n",
              "      <th>Height</th>\n",
              "      <th>Cheat</th>\n",
              "    </tr>\n",
              "  </thead>\n",
              "  <tbody>\n",
              "    <tr>\n",
              "      <th>0</th>\n",
              "      <td>Female</td>\n",
              "      <td>15</td>\n",
              "      <td>64.0</td>\n",
              "      <td>0</td>\n",
              "    </tr>\n",
              "    <tr>\n",
              "      <th>1</th>\n",
              "      <td>Male</td>\n",
              "      <td>14</td>\n",
              "      <td>69.0</td>\n",
              "      <td>0</td>\n",
              "    </tr>\n",
              "    <tr>\n",
              "      <th>2</th>\n",
              "      <td>Female</td>\n",
              "      <td>*</td>\n",
              "      <td>66.0</td>\n",
              "      <td>0</td>\n",
              "    </tr>\n",
              "    <tr>\n",
              "      <th>3</th>\n",
              "      <td>Female</td>\n",
              "      <td>10</td>\n",
              "      <td>63.0</td>\n",
              "      <td>0</td>\n",
              "    </tr>\n",
              "    <tr>\n",
              "      <th>4</th>\n",
              "      <td>Male</td>\n",
              "      <td>30</td>\n",
              "      <td>72.0</td>\n",
              "      <td>0</td>\n",
              "    </tr>\n",
              "    <tr>\n",
              "      <th>5</th>\n",
              "      <td>Female</td>\n",
              "      <td>20</td>\n",
              "      <td>67.0</td>\n",
              "      <td>0</td>\n",
              "    </tr>\n",
              "    <tr>\n",
              "      <th>6</th>\n",
              "      <td>Male</td>\n",
              "      <td>15</td>\n",
              "      <td>69.0</td>\n",
              "      <td>0</td>\n",
              "    </tr>\n",
              "    <tr>\n",
              "      <th>7</th>\n",
              "      <td>Male</td>\n",
              "      <td>15</td>\n",
              "      <td>74.0</td>\n",
              "      <td>0</td>\n",
              "    </tr>\n",
              "    <tr>\n",
              "      <th>8</th>\n",
              "      <td>Male</td>\n",
              "      <td>0</td>\n",
              "      <td>72.0</td>\n",
              "      <td>0</td>\n",
              "    </tr>\n",
              "    <tr>\n",
              "      <th>9</th>\n",
              "      <td>Female</td>\n",
              "      <td>0</td>\n",
              "      <td>63.0</td>\n",
              "      <td>0</td>\n",
              "    </tr>\n",
              "  </tbody>\n",
              "</table>\n",
              "</div>"
            ],
            "text/plain": [
              "   Gender Alcohol  Height  Cheat\n",
              "0  Female      15    64.0      0\n",
              "1    Male      14    69.0      0\n",
              "2  Female       *    66.0      0\n",
              "3  Female      10    63.0      0\n",
              "4    Male      30    72.0      0\n",
              "5  Female      20    67.0      0\n",
              "6    Male      15    69.0      0\n",
              "7    Male      15    74.0      0\n",
              "8    Male       0    72.0      0\n",
              "9  Female       0    63.0      0"
            ]
          },
          "metadata": {
            "tags": []
          },
          "execution_count": 89
        }
      ]
    },
    {
      "cell_type": "code",
      "metadata": {
        "id": "eh7jEW21w4bv",
        "colab_type": "code",
        "outputId": "38b26ed7-3f37-462b-8e81-2f81c521a276",
        "colab": {
          "base_uri": "https://localhost:8080/",
          "height": 647
        }
      },
      "source": [
        "df[df.Gender == 'Male'][:20]"
      ],
      "execution_count": 0,
      "outputs": [
        {
          "output_type": "execute_result",
          "data": {
            "text/html": [
              "<div>\n",
              "<style scoped>\n",
              "    .dataframe tbody tr th:only-of-type {\n",
              "        vertical-align: middle;\n",
              "    }\n",
              "\n",
              "    .dataframe tbody tr th {\n",
              "        vertical-align: top;\n",
              "    }\n",
              "\n",
              "    .dataframe thead th {\n",
              "        text-align: right;\n",
              "    }\n",
              "</style>\n",
              "<table border=\"1\" class=\"dataframe\">\n",
              "  <thead>\n",
              "    <tr style=\"text-align: right;\">\n",
              "      <th></th>\n",
              "      <th>Gender</th>\n",
              "      <th>Alcohol</th>\n",
              "      <th>Height</th>\n",
              "      <th>Cheat</th>\n",
              "    </tr>\n",
              "  </thead>\n",
              "  <tbody>\n",
              "    <tr>\n",
              "      <th>1</th>\n",
              "      <td>Male</td>\n",
              "      <td>14</td>\n",
              "      <td>69.0</td>\n",
              "      <td>0</td>\n",
              "    </tr>\n",
              "    <tr>\n",
              "      <th>4</th>\n",
              "      <td>Male</td>\n",
              "      <td>30</td>\n",
              "      <td>72.0</td>\n",
              "      <td>0</td>\n",
              "    </tr>\n",
              "    <tr>\n",
              "      <th>6</th>\n",
              "      <td>Male</td>\n",
              "      <td>15</td>\n",
              "      <td>69.0</td>\n",
              "      <td>0</td>\n",
              "    </tr>\n",
              "    <tr>\n",
              "      <th>7</th>\n",
              "      <td>Male</td>\n",
              "      <td>15</td>\n",
              "      <td>74.0</td>\n",
              "      <td>0</td>\n",
              "    </tr>\n",
              "    <tr>\n",
              "      <th>8</th>\n",
              "      <td>Male</td>\n",
              "      <td>0</td>\n",
              "      <td>72.0</td>\n",
              "      <td>0</td>\n",
              "    </tr>\n",
              "    <tr>\n",
              "      <th>10</th>\n",
              "      <td>Male</td>\n",
              "      <td>*</td>\n",
              "      <td>68.5</td>\n",
              "      <td>0</td>\n",
              "    </tr>\n",
              "    <tr>\n",
              "      <th>11</th>\n",
              "      <td>Male</td>\n",
              "      <td>0</td>\n",
              "      <td>70.0</td>\n",
              "      <td>0</td>\n",
              "    </tr>\n",
              "    <tr>\n",
              "      <th>12</th>\n",
              "      <td>Male</td>\n",
              "      <td>0</td>\n",
              "      <td>71.0</td>\n",
              "      <td>0</td>\n",
              "    </tr>\n",
              "    <tr>\n",
              "      <th>13</th>\n",
              "      <td>Male</td>\n",
              "      <td>0</td>\n",
              "      <td>68.0</td>\n",
              "      <td>0</td>\n",
              "    </tr>\n",
              "    <tr>\n",
              "      <th>15</th>\n",
              "      <td>Male</td>\n",
              "      <td>0</td>\n",
              "      <td>71.0</td>\n",
              "      <td>0</td>\n",
              "    </tr>\n",
              "    <tr>\n",
              "      <th>19</th>\n",
              "      <td>Male</td>\n",
              "      <td>2</td>\n",
              "      <td>69.0</td>\n",
              "      <td>0</td>\n",
              "    </tr>\n",
              "    <tr>\n",
              "      <th>20</th>\n",
              "      <td>Male</td>\n",
              "      <td>*</td>\n",
              "      <td>69.0</td>\n",
              "      <td>0</td>\n",
              "    </tr>\n",
              "    <tr>\n",
              "      <th>21</th>\n",
              "      <td>Male</td>\n",
              "      <td>0</td>\n",
              "      <td>68.0</td>\n",
              "      <td>0</td>\n",
              "    </tr>\n",
              "    <tr>\n",
              "      <th>28</th>\n",
              "      <td>Male</td>\n",
              "      <td>10</td>\n",
              "      <td>69.0</td>\n",
              "      <td>0</td>\n",
              "    </tr>\n",
              "    <tr>\n",
              "      <th>29</th>\n",
              "      <td>Male</td>\n",
              "      <td>*</td>\n",
              "      <td>68.0</td>\n",
              "      <td>0</td>\n",
              "    </tr>\n",
              "    <tr>\n",
              "      <th>30</th>\n",
              "      <td>Male</td>\n",
              "      <td>12</td>\n",
              "      <td>72.0</td>\n",
              "      <td>0</td>\n",
              "    </tr>\n",
              "    <tr>\n",
              "      <th>46</th>\n",
              "      <td>Male</td>\n",
              "      <td>5</td>\n",
              "      <td>64.0</td>\n",
              "      <td>1</td>\n",
              "    </tr>\n",
              "    <tr>\n",
              "      <th>47</th>\n",
              "      <td>Male</td>\n",
              "      <td>0</td>\n",
              "      <td>76.0</td>\n",
              "      <td>0</td>\n",
              "    </tr>\n",
              "    <tr>\n",
              "      <th>48</th>\n",
              "      <td>Male</td>\n",
              "      <td>0</td>\n",
              "      <td>68.0</td>\n",
              "      <td>0</td>\n",
              "    </tr>\n",
              "    <tr>\n",
              "      <th>49</th>\n",
              "      <td>Male</td>\n",
              "      <td>0</td>\n",
              "      <td>68.0</td>\n",
              "      <td>0</td>\n",
              "    </tr>\n",
              "  </tbody>\n",
              "</table>\n",
              "</div>"
            ],
            "text/plain": [
              "   Gender Alcohol  Height  Cheat\n",
              "1    Male      14    69.0      0\n",
              "4    Male      30    72.0      0\n",
              "6    Male      15    69.0      0\n",
              "7    Male      15    74.0      0\n",
              "8    Male       0    72.0      0\n",
              "10   Male       *    68.5      0\n",
              "11   Male       0    70.0      0\n",
              "12   Male       0    71.0      0\n",
              "13   Male       0    68.0      0\n",
              "15   Male       0    71.0      0\n",
              "19   Male       2    69.0      0\n",
              "20   Male       *    69.0      0\n",
              "21   Male       0    68.0      0\n",
              "28   Male      10    69.0      0\n",
              "29   Male       *    68.0      0\n",
              "30   Male      12    72.0      0\n",
              "46   Male       5    64.0      1\n",
              "47   Male       0    76.0      0\n",
              "48   Male       0    68.0      0\n",
              "49   Male       0    68.0      0"
            ]
          },
          "metadata": {
            "tags": []
          },
          "execution_count": 91
        }
      ]
    },
    {
      "cell_type": "markdown",
      "metadata": {
        "id": "i5R_hgYAyY4n",
        "colab_type": "text"
      },
      "source": [
        "###Examining Relationships"
      ]
    },
    {
      "cell_type": "markdown",
      "metadata": {
        "id": "_f2JjEnyyel6",
        "colab_type": "text"
      },
      "source": [
        "Exaplanatory are independent variables denoted by $X$, while the response or dependent variable is denoted by $Y$. The explanatory variable changes the response variable. We usually want to study the relationship between two or more variables.\n",
        "\n",
        "If we further classify each of the 2 relevant variables according to type (categorical or quantitative), we get 4 possibilities for role-type classification: \n",
        "\n",
        "1. Categorical explanatory and quantitative response.\n",
        "2. Categorical explanatory and categorical response.\n",
        "3. Quantitative explanatory and quantitative response.\n",
        "4. Quantitative explanatory and categorical response.\n",
        "\n",
        "![alt text](https://lagunita.stanford.edu/assets/courseware/v1/505db839f2368f20253a86979a9c06b4/asset-v1:OLI+ProbStat+Open_Jan2017+type@asset+block/eda_examining_relationships_relationships_overview1.gif)\n",
        "\n",
        "If Gender is explanatory var and test response is quantitative then $C -> Q$. In the case of C->Q we use side-by-side boxplots to compare distributions of quantitative response for each category of the explanatory variable. \n",
        "\n",
        "For the case of C->C, we find that by simply converting counts to percentages within or restricted to each value of the explanatory variable separately. "
      ]
    },
    {
      "cell_type": "code",
      "metadata": {
        "id": "xg8-ehhrxfw4",
        "colab_type": "code",
        "outputId": "b5ea8257-06f6-40be-c9ee-3d9c1a211196",
        "colab": {
          "base_uri": "https://localhost:8080/"
        }
      },
      "source": [
        "!wget https://lagunita.stanford.edu/assets/courseware/v1/46736b5005458d93d421e65e1e3abad2/asset-v1:OLI+ProbStat+Open_Jan2017+type@asset+block/nightlight.RData"
      ],
      "execution_count": 0,
      "outputs": [
        {
          "output_type": "stream",
          "text": [
            "--2019-05-28 09:49:32--  https://lagunita.stanford.edu/assets/courseware/v1/46736b5005458d93d421e65e1e3abad2/asset-v1:OLI+ProbStat+Open_Jan2017+type@asset+block/nightlight.RData\n",
            "Resolving lagunita.stanford.edu (lagunita.stanford.edu)... 13.57.143.231, 54.176.179.4\n",
            "Connecting to lagunita.stanford.edu (lagunita.stanford.edu)|13.57.143.231|:443... connected.\n",
            "HTTP request sent, awaiting response... 200 OK\n",
            "Length: 565 [application/octet-stream]\n",
            "Saving to: ‘nightlight.RData’\n",
            "\n",
            "\rnightlight.RData      0%[                    ]       0  --.-KB/s               \rnightlight.RData    100%[===================>]     565  --.-KB/s    in 0s      \n",
            "\n",
            "2019-05-28 09:49:32 (74.2 MB/s) - ‘nightlight.RData’ saved [565/565]\n",
            "\n"
          ],
          "name": "stdout"
        }
      ]
    },
    {
      "cell_type": "code",
      "metadata": {
        "id": "mXNkQWd42ElO",
        "colab_type": "code",
        "outputId": "309c94f9-1795-4270-c34a-5ebacac7da38",
        "colab": {
          "base_uri": "https://localhost:8080/",
          "height": 141
        }
      },
      "source": [
        "%%R\n",
        "load('./nightlight.RData')\n",
        "head(nightlight)"
      ],
      "execution_count": 0,
      "outputs": [
        {
          "output_type": "display_data",
          "data": {
            "text/plain": [
              "        Light Nearsightedness\n",
              "1    no light              No\n",
              "2 night light              No\n",
              "3        lamp              No\n",
              "4    no light              No\n",
              "5    no light              No\n",
              "6 night light             Yes\n"
            ]
          },
          "metadata": {
            "tags": []
          }
        }
      ]
    },
    {
      "cell_type": "code",
      "metadata": {
        "id": "Sou3T0Wf2Jaa",
        "colab_type": "code",
        "outputId": "b8b92852-bee2-4a46-c1ad-7beea0c7578f",
        "colab": {
          "base_uri": "https://localhost:8080/",
          "height": 105
        }
      },
      "source": [
        "%%R\n",
        "tt = table(nightlight$Light,nightlight$Nearsightedness);tt"
      ],
      "execution_count": 0,
      "outputs": [
        {
          "output_type": "display_data",
          "data": {
            "text/plain": [
              "             \n",
              "               No Yes\n",
              "  lamp         34  41\n",
              "  night light 153  79\n",
              "  no light    155  17\n"
            ]
          },
          "metadata": {
            "tags": []
          }
        }
      ]
    },
    {
      "cell_type": "code",
      "metadata": {
        "id": "pyJr_FdJ2Mvn",
        "colab_type": "code",
        "outputId": "0b25efe1-90d3-43ee-e46d-8dfb3611be94",
        "colab": {
          "base_uri": "https://localhost:8080/",
          "height": 105
        }
      },
      "source": [
        "%%R\n",
        "prop.table(t,1)\n"
      ],
      "execution_count": 0,
      "outputs": [
        {
          "output_type": "display_data",
          "data": {
            "text/plain": [
              "             Nearsightedness\n",
              "Light                 No        Yes\n",
              "  lamp        0.45333333 0.54666667\n",
              "  night light 0.65948276 0.34051724\n",
              "  no light    0.90116279 0.09883721\n"
            ]
          },
          "metadata": {
            "tags": []
          }
        }
      ]
    },
    {
      "cell_type": "code",
      "metadata": {
        "id": "dcjxfnHT2Q_H",
        "colab_type": "code",
        "outputId": "90553faa-1624-43d2-a9f4-155a2dc0b0fa",
        "colab": {
          "base_uri": "https://localhost:8080/",
          "height": 105
        }
      },
      "source": [
        "#TO create a table of conditional proportions showing which prop of children\n",
        "#who are nearsighted or not were in each treatment group, we divide each table entry\n",
        "#by the column totals\n",
        "%%R\n",
        "prop.table(t,1)*100"
      ],
      "execution_count": 0,
      "outputs": [
        {
          "output_type": "display_data",
          "data": {
            "text/plain": [
              "             Nearsightedness\n",
              "Light                No       Yes\n",
              "  lamp        45.333333 54.666667\n",
              "  night light 65.948276 34.051724\n",
              "  no light    90.116279  9.883721\n"
            ]
          },
          "metadata": {
            "tags": []
          }
        }
      ]
    },
    {
      "cell_type": "markdown",
      "metadata": {
        "id": "Iaa4JbrX2qtp",
        "colab_type": "text"
      },
      "source": [
        "In the case of Q->Q we use a scatterplot. ![alt text](https://lagunita.stanford.edu/assets/courseware/v1/6360e4288c2f3f7b9a0f8bc4018d618e/asset-v1:OLI+ProbStat+Open_Jan2017+type@asset+block/eda_examining_relationships_scatterplot5.gif)\n",
        "The direction can be positive/negative or neither. It can be linear or curvlinear, cluster. The strength of the relationship is determined by how closely the data follow the form of the relationship. Data points that deviate from the pattern are called outliers. "
      ]
    },
    {
      "cell_type": "code",
      "metadata": {
        "id": "t7T7pwGB3c0i",
        "colab_type": "code",
        "outputId": "686708ab-8e94-433b-ec5e-691d9a05f0a8",
        "colab": {
          "base_uri": "https://localhost:8080/",
          "height": 232
        }
      },
      "source": [
        "!wget https://lagunita.stanford.edu/assets/courseware/v1/bbbcaf3f8761f60d2ebfd3a5ccb4132b/asset-v1:OLI+ProbStat+Open_Jan2017+type@asset+block/height.RData"
      ],
      "execution_count": 0,
      "outputs": [
        {
          "output_type": "stream",
          "text": [
            "--2019-05-28 09:55:36--  https://lagunita.stanford.edu/assets/courseware/v1/bbbcaf3f8761f60d2ebfd3a5ccb4132b/asset-v1:OLI+ProbStat+Open_Jan2017+type@asset+block/height.RData\n",
            "Resolving lagunita.stanford.edu (lagunita.stanford.edu)... 13.57.143.231, 54.176.179.4\n",
            "Connecting to lagunita.stanford.edu (lagunita.stanford.edu)|13.57.143.231|:443... connected.\n",
            "HTTP request sent, awaiting response... 200 OK\n",
            "Length: 403 [application/octet-stream]\n",
            "Saving to: ‘height.RData’\n",
            "\n",
            "\rheight.RData          0%[                    ]       0  --.-KB/s               \rheight.RData        100%[===================>]     403  --.-KB/s    in 0s      \n",
            "\n",
            "2019-05-28 09:55:36 (54.2 MB/s) - ‘height.RData’ saved [403/403]\n",
            "\n"
          ],
          "name": "stdout"
        }
      ]
    },
    {
      "cell_type": "code",
      "metadata": {
        "id": "WjpFn2Ar2efv",
        "colab_type": "code",
        "outputId": "f17f8120-1e08-47c9-8ec6-30a559dd9be3",
        "colab": {
          "base_uri": "https://localhost:8080/",
          "height": 141
        }
      },
      "source": [
        "%%R\n",
        "\n",
        "load('./height.RData')\n",
        "head(h)"
      ],
      "execution_count": 0,
      "outputs": [
        {
          "output_type": "display_data",
          "data": {
            "text/plain": [
              "  gender height weight\n",
              "1      0     72    155\n",
              "2      0     67    145\n",
              "3      0     65    125\n",
              "4      1     67    120\n",
              "5      1     63    105\n",
              "6      1     54    120\n"
            ]
          },
          "metadata": {
            "tags": []
          }
        }
      ]
    },
    {
      "cell_type": "code",
      "metadata": {
        "id": "YA88R8JF3ikV",
        "colab_type": "code",
        "outputId": "35a58cdd-ac81-4c3f-83fd-51e2d89449b8",
        "colab": {
          "base_uri": "https://localhost:8080/",
          "height": 496
        }
      },
      "source": [
        "%%R\n",
        "plot(h$height,h$weight, xlab=\"Height (inches)\", ylab=\"Weight (lbs)\")\n"
      ],
      "execution_count": 0,
      "outputs": [
        {
          "output_type": "display_data",
          "data": {
            "image/png": "[encoded data removed]"
          },
          "metadata": {
            "tags": []
          }
        }
      ]
    },
    {
      "cell_type": "code",
      "metadata": {
        "id": "DaE9NAQx3lrb",
        "colab_type": "code",
        "outputId": "8f15a0c5-cf59-4542-83d4-fea491bbc312",
        "colab": {
          "base_uri": "https://localhost:8080/",
          "height": 496
        }
      },
      "source": [
        "%%R\n",
        "plot(h$height,h$weight, xlab=\"Height (inches)\", ylab=\"Weight (lbs)\")"
      ],
      "execution_count": 0,
      "outputs": [
        {
          "output_type": "display_data",
          "data": {
            "image/png": "[encoded data removed]"
          },
          "metadata": {
            "tags": []
          }
        }
      ]
    },
    {
      "cell_type": "markdown",
      "metadata": {
        "id": "yCPzxABJ6ina",
        "colab_type": "text"
      },
      "source": [
        "###Linear Relationships"
      ]
    },
    {
      "cell_type": "markdown",
      "metadata": {
        "id": "md-H5LAz6mm5",
        "colab_type": "text"
      },
      "source": [
        "Assessing the strength of a relationship via a scatterplot is difficult, we thus need a numerical measure of strength. If we restrict this to special cases of relationships that have a linear form. \n",
        "\n",
        "Correlation - The correlation coefficient r is the numerical measure that assesses the strength of a linear relationship and the direction between two quantitative variables. \n",
        "Calculated: $r = \\frac{1}{n-1}\\sum^{n}_{i=1}(\\frac{x_i - \\bar{x}}{S_z})(\\frac{y_i - \\bar{y}}{S_y})$\n",
        "\n",
        "Interpreting the value of r - it ranges from -1 to 1. The sign of r indicates the direction of the relationship. It indicates the strength of the relationship. Close to 0 indicate a weak linear relationship. \n",
        "\n",
        "Properties of r - the correlation doesn't change when the units of measurement of either variable changes, it is useless for relationships that are not linear. \n",
        "\n"
      ]
    },
    {
      "cell_type": "code",
      "metadata": {
        "id": "Qbq6Hi2U3pFJ",
        "colab_type": "code",
        "outputId": "a213f1d4-3b49-4bd8-a8d0-c83f4cb9017c",
        "colab": {
          "base_uri": "https://localhost:8080/"
        }
      },
      "source": [
        "!wget https://lagunita.stanford.edu/assets/courseware/v1/2a752227f29dfded041c49db0f7bbc4b/asset-v1:OLI+ProbStat+Open_Jan2017+type@asset+block/animals.RData"
      ],
      "execution_count": 0,
      "outputs": [
        {
          "output_type": "stream",
          "text": [
            "--2019-05-28 10:51:11--  https://lagunita.stanford.edu/assets/courseware/v1/2a752227f29dfded041c49db0f7bbc4b/asset-v1:OLI+ProbStat+Open_Jan2017+type@asset+block/animals.RData\n",
            "Resolving lagunita.stanford.edu (lagunita.stanford.edu)... 54.176.179.4, 13.57.143.231\n",
            "Connecting to lagunita.stanford.edu (lagunita.stanford.edu)|54.176.179.4|:443... connected.\n",
            "HTTP request sent, awaiting response... 200 OK\n",
            "Length: 1360 (1.3K) [application/octet-stream]\n",
            "Saving to: ‘animals.RData’\n",
            "\n",
            "\ranimals.RData         0%[                    ]       0  --.-KB/s               \ranimals.RData       100%[===================>]   1.33K  --.-KB/s    in 0s      \n",
            "\n",
            "2019-05-28 10:51:12 (190 MB/s) - ‘animals.RData’ saved [1360/1360]\n",
            "\n"
          ],
          "name": "stdout"
        }
      ]
    },
    {
      "cell_type": "code",
      "metadata": {
        "id": "WhixBeQHELxe",
        "colab_type": "code",
        "outputId": "4db628f0-0f62-466c-8f87-c1717c14a80f",
        "colab": {
          "base_uri": "https://localhost:8080/",
          "height": 141
        }
      },
      "source": [
        "%%R\n",
        "load('./animals.RData')\n",
        "head(a)"
      ],
      "execution_count": 0,
      "outputs": [
        {
          "output_type": "display_data",
          "data": {
            "text/plain": [
              "         animal gestation longevity\n",
              "1        baboon       187        20\n",
              "2   bear, black       219        18\n",
              "3 bear, grizzly       225        25\n",
              "4   bear, polar       240        20\n",
              "5        beaver       122         5\n",
              "6       buffalo       278        15\n"
            ]
          },
          "metadata": {
            "tags": []
          }
        }
      ]
    },
    {
      "cell_type": "code",
      "metadata": {
        "id": "312urjByEQN5",
        "colab_type": "code",
        "outputId": "761a11dc-161d-4fac-a87d-567bbe69f4b5",
        "colab": {
          "base_uri": "https://localhost:8080/",
          "height": 496
        }
      },
      "source": [
        "%%R\n",
        "plot(a$longevity,\n",
        "     a$gestation,\n",
        "     xlab=\"Average Longevity of Species (years)\", \n",
        "     ylab=\"Average Gestation Period of Species (days)\")"
      ],
      "execution_count": 0,
      "outputs": [
        {
          "output_type": "display_data",
          "data": {
            "image/png": "[encoded data removed]"
          },
          "metadata": {
            "tags": []
          }
        }
      ]
    },
    {
      "cell_type": "code",
      "metadata": {
        "id": "HmjBPGfdEUM_",
        "colab_type": "code",
        "outputId": "f12316e9-5d08-4091-be6f-efbc9fdf9c8f",
        "colab": {
          "base_uri": "https://localhost:8080/",
          "height": 34
        }
      },
      "source": [
        "%%R\n",
        "cor(a$longevity,a$gestation)"
      ],
      "execution_count": 0,
      "outputs": [
        {
          "output_type": "display_data",
          "data": {
            "text/plain": [
              "[1] 0.6632397\n"
            ]
          },
          "metadata": {
            "tags": []
          }
        }
      ]
    },
    {
      "cell_type": "code",
      "metadata": {
        "id": "zDUls3fkEYhj",
        "colab_type": "code",
        "outputId": "44f6a6e0-f1fb-472b-969c-cd877bf1ae90",
        "colab": {
          "base_uri": "https://localhost:8080/",
          "height": 34
        }
      },
      "source": [
        "%%R\n",
        "cor(a$longevity[a$animal!=\"elephant\"],a$gestation[a$animal!=\"elephant\"])\n"
      ],
      "execution_count": 0,
      "outputs": [
        {
          "output_type": "display_data",
          "data": {
            "text/plain": [
              "[1] 0.5190389\n"
            ]
          },
          "metadata": {
            "tags": []
          }
        }
      ]
    },
    {
      "cell_type": "markdown",
      "metadata": {
        "id": "SeXc4lWTElzS",
        "colab_type": "text"
      },
      "source": [
        "###Linear Regression\n"
      ]
    },
    {
      "cell_type": "markdown",
      "metadata": {
        "id": "YXIFkcOLMRPv",
        "colab_type": "text"
      },
      "source": [
        "\n",
        "Summarizing the pattern of the data with a line. Correlation is not sufficient since it only measures strength and direction of a relationship between 2 variables. We want to describe with precision how one variable changes with the other, or predict the value of the response variable for a given value of the explanatory variable. \n",
        "\n",
        "####Least Squares Regression\n",
        "\n",
        "The technique that specifies the dependence of the response variable on the explanatory variable is called regression. When that dependence is linear we call it linear regression. We need to find a line that best fit the data. We want a criterion that ensures the best fit by taking into account the deviations from the line. The most common is least squares. The criterion says, among all the lines that look good on your data, choose the one that has the smallest sum of squared vertical deviations. ![alt text](https://lagunita.stanford.edu/assets/courseware/v1/baac72e2b586de24c1921b31c87d81b5/asset-v1:OLI+ProbStat+Open_Jan2017+type@asset+block/eda_examining_relationships_linear12.gif) We are looking for the line that will have the smallest total yellow error. \n",
        "\n",
        "####Algebra Review\n",
        "\n",
        "The equation for a line that explains the relationship between 2 variables is $y = a + bX$, a and b are constants. \n",
        "\n",
        "1. The intercept (a) is the value that Y takes when X = 0. \n",
        "2. The slope (b) is the change in Y for every increase of 1 unit in X. \n",
        "\n",
        "Consider $Y = 1 + \\frac{1}{3}X$. The intercept is 1. The slope is 1/3, and graph is: \n",
        "\n",
        "![alt text](https://lagunita.stanford.edu/assets/courseware/v1/926e461e3c688a6ed0f9fee4ea70e887/asset-v1:OLI+ProbStat+Open_Jan2017+type@asset+block/eda_algebra3.gif)\n",
        "\n",
        "The equation of least-squares regression line for summarizing the linear relationship between response variable (Y) and explanatory varaible (X) is Y = x + bX. All we need to do is calculate a and the slope b, which is easy if we know:\n",
        "\n",
        "- $\\bar{X}$- the mean of the explanatory variable's values\n",
        "- $S_x$ - standard deviation of explanatory varaibles values\n",
        "- $\\bar{Y}$-mean of response varaibles values\n",
        "- $S_y$ - standard deviation of response varaibles values\n",
        "- r - the correlation coefficient\n",
        "\n",
        "Given the above, we can find the slope and intercept of least squares:\n",
        "\n",
        "$b = r (\\frac{S_y}{S_x})$\n",
        "$a = \\bar{Y} - b\\bar{X}$\n",
        "\n",
        "With this prediction is easy. Prediction for ranges of the explanatory variable that are not in the data is called extrapolation. Since there is no way of knowing whether a relationship holds beyond the range of the explanatory variable in the data, extrapolation is not reliable, and should be avoided. "
      ]
    },
    {
      "cell_type": "code",
      "metadata": {
        "id": "gdOkBdQPEbHz",
        "colab_type": "code",
        "outputId": "7353f4c4-d34d-46bf-e9da-bc0add62558e",
        "colab": {
          "base_uri": "https://localhost:8080/",
          "height": 232
        }
      },
      "source": [
        "!wget https://lagunita.stanford.edu/assets/courseware/v1/b408bb1f3b76d70c2aa72f484d61e9e8/asset-v1:OLI+ProbStat+Open_Jan2017+type@asset+block/olympics_2012.RData"
      ],
      "execution_count": 0,
      "outputs": [
        {
          "output_type": "stream",
          "text": [
            "--2019-05-28 11:20:15--  https://lagunita.stanford.edu/assets/courseware/v1/b408bb1f3b76d70c2aa72f484d61e9e8/asset-v1:OLI+ProbStat+Open_Jan2017+type@asset+block/olympics_2012.RData\n",
            "Resolving lagunita.stanford.edu (lagunita.stanford.edu)... 13.57.143.231, 54.176.179.4\n",
            "Connecting to lagunita.stanford.edu (lagunita.stanford.edu)|13.57.143.231|:443... connected.\n",
            "HTTP request sent, awaiting response... 200 OK\n",
            "Length: 356 [application/octet-stream]\n",
            "Saving to: ‘olympics_2012.RData’\n",
            "\n",
            "\rolympics_2012.RData   0%[                    ]       0  --.-KB/s               \rolympics_2012.RData 100%[===================>]     356  --.-KB/s    in 0s      \n",
            "\n",
            "2019-05-28 11:20:15 (47.9 MB/s) - ‘olympics_2012.RData’ saved [356/356]\n",
            "\n"
          ],
          "name": "stdout"
        }
      ]
    },
    {
      "cell_type": "code",
      "metadata": {
        "id": "L2sJwVcVK1Zo",
        "colab_type": "code",
        "outputId": "a653405a-cbbe-4af4-b750-e7ceb20ce8a7",
        "colab": {
          "base_uri": "https://localhost:8080/",
          "height": 141
        }
      },
      "source": [
        "%%R\n",
        "load('olympics_2012.RData')\n",
        "head(olym)"
      ],
      "execution_count": 0,
      "outputs": [
        {
          "output_type": "display_data",
          "data": {
            "text/plain": [
              "  Year  Time\n",
              "1 1896 273.2\n",
              "2 1900 246.0\n",
              "3 1904 245.4\n",
              "4 1908 243.4\n",
              "5 1912 236.8\n",
              "6 1920 241.8\n"
            ]
          },
          "metadata": {
            "tags": []
          }
        }
      ]
    },
    {
      "cell_type": "code",
      "metadata": {
        "id": "ujlJqBp-K5M7",
        "colab_type": "code",
        "outputId": "0feb1778-846e-45fb-9d88-72c28bbe61ec",
        "colab": {
          "base_uri": "https://localhost:8080/",
          "height": 496
        }
      },
      "source": [
        "#scatterplot\n",
        "%%R\n",
        "plot(olym$Year, \n",
        "     olym$Time, \n",
        "     xlab=\"Year of Olympic Games\",\n",
        "     ylab=\"Winning Time of 1500m Race (secs)\")"
      ],
      "execution_count": 0,
      "outputs": [
        {
          "output_type": "display_data",
          "data": {
            "image/png": "[encoded data removed]"
          },
          "metadata": {
            "tags": []
          }
        }
      ]
    },
    {
      "cell_type": "code",
      "metadata": {
        "id": "PxL1osm6K94q",
        "colab_type": "code",
        "outputId": "9dc07635-e0b7-4d21-e1d3-6643365f6663",
        "colab": {
          "base_uri": "https://localhost:8080/",
          "height": 496
        }
      },
      "source": [
        "%%R\n",
        "model = lm(olym$Time~olym$Year)\n",
        "plot(olym$Year, \n",
        "     olym$Time, \n",
        "     xlab=\"Year of Olympic Games\", \n",
        "     ylab=\"Winning Time of 1500m Race (secs)\");abline(model)"
      ],
      "execution_count": 0,
      "outputs": [
        {
          "output_type": "display_data",
          "data": {
            "image/png": "[encoded data removed]"
          },
          "metadata": {
            "tags": []
          }
        }
      ]
    },
    {
      "cell_type": "code",
      "metadata": {
        "id": "LZ5K62WuLGPJ",
        "colab_type": "code",
        "outputId": "79d76b92-3cc6-427a-8043-682b8386a16c",
        "colab": {
          "base_uri": "https://localhost:8080/",
          "height": 52
        }
      },
      "source": [
        "%%R\n",
        "coef(model)\n",
        "#extract the y-intercept and slope to determine the regression equation"
      ],
      "execution_count": 0,
      "outputs": [
        {
          "output_type": "display_data",
          "data": {
            "text/plain": [
              "(Intercept)   olym$Year \n",
              "916.4323092  -0.3527988 \n"
            ]
          },
          "metadata": {
            "tags": []
          }
        }
      ]
    },
    {
      "cell_type": "code",
      "metadata": {
        "id": "f0tjAd8WLLbx",
        "colab_type": "code",
        "outputId": "af10e3f8-1e89-402f-be0f-885593b556e0",
        "colab": {
          "base_uri": "https://localhost:8080/",
          "height": 496
        }
      },
      "source": [
        "#Notice the outlier, lets remove it\n",
        "%%R\n",
        "plot(olym$Year[olym$Year!=1896], olym$Time[olym$Year!=1896])\n"
      ],
      "execution_count": 0,
      "outputs": [
        {
          "output_type": "display_data",
          "data": {
            "image/png": "[encoded data removed]"
          },
          "metadata": {
            "tags": []
          }
        }
      ]
    },
    {
      "cell_type": "code",
      "metadata": {
        "id": "WXmC69nbLRHJ",
        "colab_type": "code",
        "colab": {}
      },
      "source": [
        "%%R\n",
        "L = lm(olym$Time[olym$Year!=1896]~olym$Year[olym$Year!=1896]);"
      ],
      "execution_count": 0,
      "outputs": []
    },
    {
      "cell_type": "code",
      "metadata": {
        "id": "ALaEAMQWLTyh",
        "colab_type": "code",
        "outputId": "b4f770a7-2d79-43c2-ba53-515cd55f8a85",
        "colab": {
          "base_uri": "https://localhost:8080/",
          "height": 70
        }
      },
      "source": [
        "%%R\n",
        "abline(L);"
      ],
      "execution_count": 0,
      "outputs": [
        {
          "output_type": "stream",
          "text": [
            "\n",
            "Error in int_abline(a = a, b = b, h = h, v = v, untf = untf, ...) : \n",
            "  plot.new has not been called yet\n"
          ],
          "name": "stdout"
        }
      ]
    },
    {
      "cell_type": "code",
      "metadata": {
        "id": "WTCwamtQLYOz",
        "colab_type": "code",
        "colab": {}
      },
      "source": [
        "%%R\n",
        "cf=coefficients(L);\n"
      ],
      "execution_count": 0,
      "outputs": []
    },
    {
      "cell_type": "code",
      "metadata": {
        "id": "RwAOHpAoLZ6M",
        "colab_type": "code",
        "outputId": "6253af28-1b83-4f5c-9132-092e234e4a86",
        "colab": {
          "base_uri": "https://localhost:8080/",
          "height": 70
        }
      },
      "source": [
        "%%R\n",
        "legend(1950,240,legend=paste(\"time = \",round(cf[1],0),round(cf[2],2),\"year\"))\n"
      ],
      "execution_count": 0,
      "outputs": [
        {
          "output_type": "stream",
          "text": [
            "\n",
            "Error in strwidth(legend, units = \"user\", cex = cex, font = text.font) : \n",
            "  plot.new has not been called yet\n"
          ],
          "name": "stdout"
        }
      ]
    },
    {
      "cell_type": "markdown",
      "metadata": {
        "id": "w3IjWI8lMJyd",
        "colab_type": "text"
      },
      "source": [
        "###Causation and Lurking Variables: Impact on X and Y"
      ]
    },
    {
      "cell_type": "markdown",
      "metadata": {
        "id": "LiCNzo9SMUa3",
        "colab_type": "text"
      },
      "source": [
        "What if we have a third variable responsible for the observed relationship.![alt text](https://lagunita.stanford.edu/assets/courseware/v1/044f65f7685c671fc6411280823c6149/asset-v1:OLI+ProbStat+Open_Jan2017+type@asset+block/eda_examining_relationships_causation3.gif)\n",
        "\n",
        "A lurking variable is a variable that is not among the explanatory or response variables in a study but could affect your interpretation of the relationship among those vars. This common effect creates observed association between explanatory and response vars even when there is no causal link between them. Thus: Association **does not** imply causation! So an observed association between 2 variables is not proof of a causal relationship between them. \n",
        "\n",
        "####Simpson's Paradox:\n",
        "\n",
        "What if we included a lurking variable in our study? \n",
        "\n",
        "![alt text](https://lagunita.stanford.edu/assets/courseware/v1/1481bd199d30e3afc45692fdbf280aae/asset-v1:OLI+ProbStat+Open_Jan2017+type@asset+block/eda_examining_relationships_causation10.gif)\n",
        "\n",
        "By adding in the lurking variable severity of illness we can see that we change the direction of association. Whenever including a lurking variable causes us to rethink the direction of an association, this is calle Simpson's paradox. \n",
        "\n",
        "A gap in the data into clusters may show that there is a lurking variable. That these might be two groups. If we include the lurking variable we can observe better the relationship. "
      ]
    },
    {
      "cell_type": "markdown",
      "metadata": {
        "id": "YEmUENoAPaf1",
        "colab_type": "text"
      },
      "source": [
        "###Producing Data\n"
      ]
    },
    {
      "cell_type": "markdown",
      "metadata": {
        "id": "UBfU-MpVPsy_",
        "colab_type": "text"
      },
      "source": [
        "First we choose individuals from the population to be in the sample. Then, collect data from them. The first stage is called sampling and the second is study design. \n",
        "\n",
        "We need the sample to be truly representative of the larger population.\n",
        "\n",
        "Types of sampling:\n",
        "\n",
        "- Volunteer sample: where individuals have selected themselves to be included\n",
        "- Convenience sample: where individuals are in the right place / right time.\n",
        "- Sampling frame: list of potential individuals do not match the population of interest. \n",
        "- Systermatic sampling: Send to everyone on a list.\n",
        "- Simple Random sampling: all are likely to be selected. And the sample is not subject to any bias.\n",
        "\n",
        "####Probability Sampling Plans:\n",
        "\n",
        "Any plan that relies on random selection is probability sampling plan, there are 3 types:\n",
        "- Simple random sampling: names out of a hat style.\n",
        "- Cluster sampling: Population is divided into clusters and we take a random sample of clusters and use all the individuals within the selected clusters as our sample. \n",
        "- Stratified Sampling: population is divided into sub-populations, called statum. \n",
        "\n",
        "Cluster vs Stratified? In cluster we take a random sample of whole groups of individuals, in stratified we take a simple random sample from each group. \n",
        "\n",
        "Multistage sampling: is a complex cluster sampling. "
      ]
    },
    {
      "cell_type": "code",
      "metadata": {
        "id": "p8a-JqU-Sito",
        "colab_type": "code",
        "outputId": "4fad7505-69e2-46c9-d5e2-7c3fb073e930",
        "colab": {
          "base_uri": "https://localhost:8080/"
        }
      },
      "source": [
        "!wget https://lagunita.stanford.edu/assets/courseware/v1/2ece6c2e2aeb74057ee253b2d54451c6/asset-v1:OLI+ProbStat+Open_Jan2017+type@asset+block/student_survey.RData"
      ],
      "execution_count": 0,
      "outputs": [
        {
          "output_type": "stream",
          "text": [
            "--2019-05-28 11:53:59--  https://lagunita.stanford.edu/assets/courseware/v1/2ece6c2e2aeb74057ee253b2d54451c6/asset-v1:OLI+ProbStat+Open_Jan2017+type@asset+block/student_survey.RData\n",
            "Resolving lagunita.stanford.edu (lagunita.stanford.edu)... 54.176.179.4, 13.57.143.231\n",
            "Connecting to lagunita.stanford.edu (lagunita.stanford.edu)|54.176.179.4|:443... connected.\n",
            "HTTP request sent, awaiting response... 200 OK\n",
            "Length: 4237 (4.1K) [application/octet-stream]\n",
            "Saving to: ‘student_survey.RData’\n",
            "\n",
            "\rstudent_survey.RDat   0%[                    ]       0  --.-KB/s               \rstudent_survey.RDat 100%[===================>]   4.14K  --.-KB/s    in 0s      \n",
            "\n",
            "2019-05-28 11:53:59 (565 MB/s) - ‘student_survey.RData’ saved [4237/4237]\n",
            "\n"
          ],
          "name": "stdout"
        }
      ]
    },
    {
      "cell_type": "code",
      "metadata": {
        "id": "e1J5CDyzSkG6",
        "colab_type": "code",
        "outputId": "bc793f5d-94cb-42f8-ca91-2c1e060127de",
        "colab": {
          "base_uri": "https://localhost:8080/",
          "height": 141
        }
      },
      "source": [
        "%%R\n",
        "load('student_survey.RData')\n",
        "head(population)"
      ],
      "execution_count": 0,
      "outputs": [
        {
          "output_type": "display_data",
          "data": {
            "text/plain": [
              "   Course Handed    Sex Verbal   Age\n",
              "1  Social   left   male    470 18.83\n",
              "2  Social  right female    650 18.67\n",
              "3  Social  right   male    580 20.08\n",
              "4  Social  right female    660 18.50\n",
              "5  Social  right female    790 24.25\n",
              "6  Social  right female    640 20.33\n"
            ]
          },
          "metadata": {
            "tags": []
          }
        }
      ]
    },
    {
      "cell_type": "code",
      "metadata": {
        "id": "vsW1t18BSo_F",
        "colab_type": "code",
        "outputId": "cd7aa3dd-8ccf-4c89-fcf9-2a6951e82dfd",
        "colab": {
          "base_uri": "https://localhost:8080/",
          "height": 3447
        }
      },
      "source": [
        "#Take a random sample\n",
        "%%R\n",
        "random_sample = population[sample(length(population$Course),192),];random_sample\n"
      ],
      "execution_count": 0,
      "outputs": [
        {
          "output_type": "display_data",
          "data": {
            "text/plain": [
              "       Course Handed    Sex Verbal   Age\n",
              "867    Social  right female    600 20.50\n",
              "553    Social  right female    620 19.25\n",
              "939   Natural  right female    620 19.08\n",
              "595   Natural   left female    600 20.17\n",
              "368    Social  right female    540 19.42\n",
              "499   Natural  right   male    700 19.58\n",
              "721    Social  right   male    340 18.92\n",
              "922   Natural  right female    550 19.42\n",
              "250    Social  right female    590 19.25\n",
              "421   Natural  right female     NA 19.42\n",
              "994  Business  right female    660 18.67\n",
              "918   Natural   left   male    640 19.75\n",
              "175   Natural  right female    570 18.75\n",
              "913   Natural  right female    610 20.25\n",
              "1082 Business  right   male    430 18.92\n",
              "796    Social  right female     NA 20.08\n",
              "1060 Business  right   male    540 20.25\n",
              "263   Natural  right   male    600 20.08\n",
              "389   Natural  right   male    590 18.17\n",
              "462   Natural  right female    520 19.00\n",
              "1030 Business  right   male    600 20.25\n",
              "317    Social  right female    700 18.50\n",
              "480    Social  right   male    600 20.83\n",
              "478   Natural  right female     NA 20.33\n",
              "110   Natural  right female    560 19.50\n",
              "689  Business  right   male    600 21.67\n",
              "678  Business  right female    500 18.92\n",
              "4      Social  right female    660 18.50\n",
              "448   Natural  right female    600 19.33\n",
              "65     Social  right female    600 21.42\n",
              "492    Social  right female    660 19.25\n",
              "928   Natural  right female    680 18.25\n",
              "407   Natural  right female    700 20.67\n",
              "840    Social  right   male    550 19.58\n",
              "1100 Business  right female    540 18.67\n",
              "41     Social  right female     NA 20.83\n",
              "444   Natural  right   male    640 21.58\n",
              "519    Social  right   male    560 21.25\n",
              "1026 Business  right female    690 20.83\n",
              "671   Natural  right female    600 19.50\n",
              "324    Social  right   male    520 20.42\n",
              "530    Social  right female    560 18.58\n",
              "716    Social  right   male    620 19.58\n",
              "660   Natural  right female    540 18.50\n",
              "912   Natural   left   male     NA 18.33\n",
              "762    Social  right   male    560 18.75\n",
              "561    Social  right female    600 19.58\n",
              "154   Natural   left   male    580 22.00\n",
              "767    Social   left female    520 21.83\n",
              "330    Social  right female    560 19.42\n",
              "705  Business  right female     NA 19.67\n",
              "211   Natural  right female     NA 32.08\n",
              "1058   Social  right   male    540 18.08\n",
              "821    Social  right   male    590 22.00\n",
              "876    Social  right female     NA 31.08\n",
              "176   Natural  right female    560 20.00\n",
              "759    Social  right female    620 24.33\n",
              "933   Natural  right   male    600 19.25\n",
              "755    Social  right female    540 19.42\n",
              "1119   Social  right female    530 19.33\n",
              "820    Social  right female    480 29.58\n",
              "769    Social  right female    510 19.42\n",
              "899    Social  right female     NA 20.08\n",
              "515    Social  right female    620 19.42\n",
              "896    Social  right female    680 21.00\n",
              "122  Business   left   male    480 18.50\n",
              "731    Social  right female    560 19.75\n",
              "411   Natural  right female    640 20.67\n",
              "1006 Business  right   male     NA 18.33\n",
              "843    Social  right   male    490 19.75\n",
              "725    Social  right female    580 19.42\n",
              "47     Social  right   male     NA 26.33\n",
              "57     Social   left female    710 18.83\n",
              "857    Social  right female    700 22.83\n",
              "998  Business  right   male    520 18.83\n",
              "1063 Business   left female     NA 20.08\n",
              "999  Business  right   male    500 19.58\n",
              "195    Social  right   male    500 20.83\n",
              "596   Natural  right   male     NA 19.58\n",
              "900    Social  right female    630 22.08\n",
              "174   Natural  right   male    520 19.58\n",
              "962    Social   left   male    500 21.58\n",
              "350    Social  right   male    670 19.17\n",
              "550    Social  right female    640 19.25\n",
              "468   Natural   left female    670 20.50\n",
              "975  Business  right   male    580 18.92\n",
              "403   Natural  right   male     NA 20.75\n",
              "642   Natural  right   male    620 20.75\n",
              "391   Natural  right   male    610 19.08\n",
              "63     Social  right female    580 20.42\n",
              "466    Social  right female    610 19.50\n",
              "556    Social  right   male    610 19.42\n",
              "169   Natural  right female    720 18.75\n",
              "239   Natural  right female    550 19.50\n",
              "825    Social  right female    500 18.42\n",
              "123   Natural  right   male    540 20.08\n",
              "1117 Business  right female    560 19.25\n",
              "855    Social   left female     NA 19.92\n",
              "487   Natural  right female    620 19.92\n",
              "798    Social  right   male    580 19.42\n",
              "645   Natural   left   male    580 21.00\n",
              "179   Natural  right female    560 19.17\n",
              "538    Social  right female    650 22.00\n",
              "390   Natural  right female    670 19.25\n",
              "237   Natural  right   male    740 24.50\n",
              "701   Natural  right female    450    NA\n",
              "555    Social  right   male    580 23.08\n",
              "792    Social   left female    640 20.08\n",
              "316    Social  right female    540 19.67\n",
              "232    Social  right female    550 19.08\n",
              "832    Social  right female    460 19.33\n",
              "537    Social  right female     NA 18.67\n",
              "126   Natural  right   male    650 22.25\n",
              "1121   Social  right   male    500 19.58\n",
              "608   Natural  right female    660 18.17\n",
              "500   Natural  right female    620 20.25\n",
              "961   Natural  right female    450 34.08\n",
              "292    Social  right   male    670 19.33\n",
              "908   Natural   left   male    650 19.83\n",
              "1092 Business  right female    490 18.67\n",
              "969  Business  right female    690 20.67\n",
              "533    Social  right female    520 19.17\n",
              "938   Natural  right   male    720 21.42\n",
              "641   Natural  right   male    680 20.25\n",
              "78    Natural  right female    400 20.08\n",
              "1083 Business  right female    550 19.33\n",
              "166   Natural  right female    580 18.58\n",
              "349    Social  right female    640 19.33\n",
              "1021 Business  right female    440 18.83\n",
              "326    Social  right   male    710 19.42\n",
              "774    Social  right female     NA 20.00\n",
              "459   Natural  right female    710 17.92\n",
              "484   Natural  right female    600 19.00\n",
              "10     Social  right female    540 19.08\n",
              "644   Natural  right   male     NA 20.67\n",
              "103   Natural   left   male    600 19.92\n",
              "200   Natural   left female    590 21.50\n",
              "163   Natural  right   male    650 19.33\n",
              "190    Social  right   male    490 19.83\n",
              "626   Natural  right female    750 20.50\n",
              "545    Social  right   male    610 19.83\n",
              "97    Natural  right female    610 18.75\n",
              "1108 Business  right female    520 19.92\n",
              "1      Social   left   male    470 18.83\n",
              "564    Social  right female    620 19.00\n",
              "189    Social  right female    520 18.75\n",
              "1001 Business  right female    540 19.17\n",
              "806    Social  right female     NA 20.92\n",
              "202   Natural  right   male    540 19.08\n",
              "1078 Business  right female    560 20.33\n",
              "1027 Business  right female    690 19.67\n",
              "386   Natural  right female    670 34.67\n",
              "695  Business  right   male    500 21.58\n",
              "155   Natural  right female    700 18.50\n",
              "446   Natural  right   male    590 23.50\n",
              "282    Social  right female    550 22.50\n",
              "1049 Business  right female    600 18.33\n",
              "925   Natural  right female    540 19.67\n",
              "990  Business  right   male    450 20.25\n",
              "841    Social  right female    640 19.42\n",
              "729    Social  right female     NA 19.33\n",
              "630   Natural  right female    720 22.75\n",
              "367    Social  right   male    540    NA\n",
              "625   Natural  right female    630 22.75\n",
              "567    Social   left female    660 20.83\n",
              "293    Social  right female    600 19.42\n",
              "415   Natural  right female    720 18.00\n",
              "1104 Business  right female    530 18.17\n",
              "881    Social  right female     NA 20.00\n",
              "432   Natural  right   male    480 19.83\n",
              "131   Natural   left female    580 20.08\n",
              "1040 Business  right female    500 18.50\n",
              "793    Social  right   male    680 24.08\n",
              "604   Natural  right   male    620 21.17\n",
              "889    Social  right   male    530 19.83\n",
              "963    Social   left female    550 20.83\n",
              "724    Social  right female    740 19.58\n",
              "617    Social  right female    760 21.25\n",
              "137   Natural  right female    670 19.50\n",
              "682  Business  right female     NA 19.42\n",
              "66     Social   left female    600 19.92\n",
              "1038 Business  right   male     NA 18.67\n",
              "613   Natural  right female    640 20.00\n",
              "450   Natural  right   male    690 19.92\n",
              "437   Natural  right   male    600 28.25\n",
              "751    Social  right   male    560 20.25\n",
              "1102 Business  right   male    730 21.58\n",
              "38     Social  right   male    690 19.17\n",
              "782    Social  right female    500 20.42\n",
              "552    Social  right female    500 18.00\n",
              "817    Social  right female    550 18.33\n",
              "902   Natural   left   male    560    NA\n"
            ]
          },
          "metadata": {
            "tags": []
          }
        }
      ]
    },
    {
      "cell_type": "code",
      "metadata": {
        "id": "ipxZ-axGSwM-",
        "colab_type": "code",
        "outputId": "69a6273c-ec80-4815-850a-7c4871de525f",
        "colab": {
          "base_uri": "https://localhost:8080/",
          "height": 70
        }
      },
      "source": [
        "#now to determine if the four vars behaviour for the random is comparable to the population\n",
        "%%R\n",
        "random_sample_percent = 100*prop.table(table(random_sample$Handed));random_sample_percent\n"
      ],
      "execution_count": 0,
      "outputs": [
        {
          "output_type": "display_data",
          "data": {
            "text/plain": [
              "\n",
              "    left    right \n",
              "11.45833 88.54167 \n"
            ]
          },
          "metadata": {
            "tags": []
          }
        }
      ]
    },
    {
      "cell_type": "code",
      "metadata": {
        "id": "uee7UDshSwHc",
        "colab_type": "code",
        "outputId": "20091a10-e5fd-4939-df97-8aaeda91e4d9",
        "colab": {
          "base_uri": "https://localhost:8080/",
          "height": 70
        }
      },
      "source": [
        "%%R\n",
        "pop_percent = 100*prop.table(table(population$Handed));pop_percent\n",
        "\n"
      ],
      "execution_count": 0,
      "outputs": [
        {
          "output_type": "display_data",
          "data": {
            "text/plain": [
              "\n",
              "    left    right \n",
              "13.28609 86.71391 \n"
            ]
          },
          "metadata": {
            "tags": []
          }
        }
      ]
    },
    {
      "cell_type": "code",
      "metadata": {
        "id": "7RM3FPS4Sv_4",
        "colab_type": "code",
        "outputId": "de776977-3307-43d9-f27d-d9070a7f7677",
        "colab": {
          "base_uri": "https://localhost:8080/",
          "height": 496
        }
      },
      "source": [
        "%%R\n",
        "barplot(rbind(pop_percent,random_sample_percent), \n",
        "        beside=T, \n",
        "        col=c(0,1),\n",
        "        legend.text=T,xlab=\"Handedness\",\n",
        "        ylab=\"Percent in Group\",\n",
        "        args.legend=list(x=\"topleft\"))"
      ],
      "execution_count": 0,
      "outputs": [
        {
          "output_type": "display_data",
          "data": {
            "image/png": "[encoded data removed]"
          },
          "metadata": {
            "tags": []
          }
        }
      ]
    },
    {
      "cell_type": "code",
      "metadata": {
        "id": "H--QxbEjTFII",
        "colab_type": "code",
        "outputId": "2b603c2e-52f7-4f02-be0e-32fadd6b846c",
        "colab": {
          "base_uri": "https://localhost:8080/",
          "height": 496
        }
      },
      "source": [
        "%%R\n",
        "#consider the distributions to be comparable if the sample proportion comes within 5%\n",
        "random_sample_percent = 100*summary(random_sample$Handed)/length(random_sample$Handed);random_sample_percent; pop_percent = 100*summary(population$Handed)/length(population $Handed);pop_percent; par(mfrow=c(1,2)); pie(pop_percent,labels=paste(c(\"left=\",\"right=\"),round(pop_percent,0),\"%\"),main=\"Population\"); pie(random_sample_percent,labels=paste(c(\"left=\",\"right=\"),round(random_sample_percent,0),\"%\"),main=\"Random Sample\")"
      ],
      "execution_count": 0,
      "outputs": [
        {
          "output_type": "display_data",
          "data": {
            "image/png": "[encoded data removed]"
          },
          "metadata": {
            "tags": []
          }
        }
      ]
    },
    {
      "cell_type": "code",
      "metadata": {
        "id": "bjcLXbboTS6g",
        "colab_type": "code",
        "outputId": "1b79e145-33fb-411b-8964-3d778a5ec719",
        "colab": {
          "base_uri": "https://localhost:8080/",
          "height": 52
        }
      },
      "source": [
        "%%R\n",
        "summary(population$Verbal)\n",
        "#Since SAT scores tend to follow normal symmetric distributions you can focus on\n",
        "#means to make a comparison. Consider the distributions comparable if the sample\n",
        "#mean is within about 10 points of the population"
      ],
      "execution_count": 0,
      "outputs": [
        {
          "output_type": "display_data",
          "data": {
            "text/plain": [
              "   Min. 1st Qu.  Median    Mean 3rd Qu.    Max.    NA's \n",
              "  340.0   540.0   590.0   589.9   640.0   760.0      23 \n"
            ]
          },
          "metadata": {
            "tags": []
          }
        }
      ]
    },
    {
      "cell_type": "code",
      "metadata": {
        "id": "ZLsSRrMQTqkX",
        "colab_type": "code",
        "outputId": "ebd0080d-197c-4645-913b-3633d0ea3346",
        "colab": {
          "base_uri": "https://localhost:8080/",
          "height": 52
        }
      },
      "source": [
        "%%R\n",
        "summary(random_sample$Verbal)"
      ],
      "execution_count": 0,
      "outputs": [
        {
          "output_type": "display_data",
          "data": {
            "text/plain": [
              "   Min. 1st Qu.  Median    Mean 3rd Qu.    Max.    NA's \n",
              "  340.0   540.0   590.0   589.9   640.0   760.0      23 \n"
            ]
          },
          "metadata": {
            "tags": []
          }
        }
      ]
    },
    {
      "cell_type": "markdown",
      "metadata": {
        "id": "y4ILAA10Pbqc",
        "colab_type": "text"
      },
      "source": [
        "###Designing Studies"
      ]
    },
    {
      "cell_type": "markdown",
      "metadata": {
        "id": "8uNfVXAkT6xg",
        "colab_type": "text"
      },
      "source": [
        "After sampling, we then gain information about the variables of interest from the sampled individuals. Study designs include:\n",
        "\n",
        "- observational study, in which values of a var or var's of interest are recorded as they naturally occur. \n",
        "- Take a sample survey, which is a type of observational study where individuals report variables values themselves\n",
        "- Perform an experiment. Assigning values of the explanatory variable to the individuals.\n",
        "\n",
        "If the values of the variables of interest are recorded forward in time, this is called prospective. When the values are recorded backward in time, this is retrospective. \n",
        "\n",
        "Experiments vs Observational Studies\n",
        "\n",
        "1. Observational Study\n",
        "![alt text](https://lagunita.stanford.edu/assets/courseware/v1/7489bb791fbdd3b0710edb41643432e3/asset-v1:OLI+ProbStat+Open_Jan2017+type@asset+block/producing_data_design_image001.gif)\n",
        "2.Experiment\n",
        "![alt text](https://lagunita.stanford.edu/assets/courseware/v1/902ff6f9146270697953dbdf5e76f7ea/asset-v1:OLI+ProbStat+Open_Jan2017+type@asset+block/producing_data_design_image002.gif)\n",
        "\n",
        "The only difference is the way the sample is divded into categories for the explanatory variable. \n",
        "\n",
        "The underlying weakness of most observational studies is that some members of the sample have opted for certain values of the explanatory varaible (method of quitting) while others have opted for other values. \n",
        "\n",
        "Sample Surveys: are a type of observational study, in which individuals report variables' values themselves, frequently by giving their opinions. The following issues may arise in the design of sample surveys: open vs closed questions, unbalanced response options, leading questions, planting ideas with questions, complex questions & sensitive questions.\n",
        "\n",
        "Randomized controlled experiments are where researchers control values of the explanatory variable with a randomization procedure. Under random assignment, groups shouldn't differ significantly with respect to any potential lurking variable. \n",
        "\n",
        "There is a common misconception that experiments must include a control group of individuals receiving no treatment. \n",
        "\n",
        "Blind and Double-blind experiments - Blind experiments are when subjects in those experiments should be blind to which treament they received. It is important for researchers who evaluate the response to be blind to which treament the subject received, to prevent the experimenter effect. If neither subject nor researcher knows who was assigned what treament, this is called double-blind. The most reliable way to determine whether the explanatory variable is actually causing changes in the response variable is to carry out a randomized controlled double-blind experiment. \n",
        "\n",
        "####Pitfalls in Experimentation\n",
        "\n",
        "Hawthorne Effect - when people in an experiment behave differently from how they would normally. Even if they do not suspect they are being observed, the relationship may not be representative. \n",
        "\n",
        "Lack of realism or lack of ecological validity - drawback of an experiment over observational study. It may be imposible to control the variable's values and still maintain a fairly natural setting.\n",
        "\n",
        "####Summary:\n",
        "\n",
        "1. Observational studies:\n",
        "\n",
        "* The explanatory variable's values are allowed to occur naturally.\n",
        "\n",
        "* Because of the possibility of lurking variables, it is difficult to establish causation.\n",
        "\n",
        "* If possible, control for suspected lurking variables by studying groups of similar individuals separately.\n",
        "\n",
        "* Some lurking variables are difficult to control for; others may not be identified.\n",
        "\n",
        "2. Experiments\n",
        "\n",
        "* The explanatory variable's values are controlled by researchers (treatment is imposed).\n",
        "\n",
        "* Randomized assignment to treatments automatically controls for all lurking variables.\n",
        "\n",
        "* Making subjects blind avoids the placebo effect.\n",
        "\n",
        "* Making researchers blind avoids conscious or subconscious influences on their subjective assessment of responses.\n",
        "\n",
        "* A randomized controlled double-blind experiment is generally optimal for establishing causation.\n",
        "\n",
        "* A lack of realism may prevent researchers from generalizing experimental results to real-life situations.\n",
        "\n",
        "* Noncompliance may undermine an experiment. A volunteer sample might solve (at least partially) this problem.\n",
        "\n",
        "* It is impossible, impractical or unethical to impose some treatments."
      ]
    },
    {
      "cell_type": "markdown",
      "metadata": {
        "id": "qOb3AcV7PcDT",
        "colab_type": "text"
      },
      "source": [
        "###Probability Intro\n",
        "\n"
      ]
    },
    {
      "cell_type": "markdown",
      "metadata": {
        "id": "lEjMdiEtiwJA",
        "colab_type": "text"
      },
      "source": [
        "In order to understand how inference works we need to know probability. Probability can answer how likely something is to occur. It gives us the confidence to attach to the inference. \n",
        "\n",
        "Let's Make a Deal Paradox: contestant picked a door, one door had a prize and other 2 empty. The contestant could choose to switch or stick. The hose reveals one door. Switching is the best strategy. The intuition is that each of the two doors is equally likely, there is a 50/50 chance of winning. This is not the case, there is a 67% chance of winning by switching and 33% chance of sticking. \n",
        "\n",
        "If you pick Door A, the hose reveals one of the other 2 to you. This transfers the 2/3 probability of door b or c to non revealed door so you should switch as you only have the 1/3 probability on door A. \n",
        "\n",
        "####What is probability?\n",
        "\n",
        "It is a way to measure uncertainty. It is the likelihood that something will occur. We denote the probability of A as some event occuring as P(A). The probability of some occur tells us how likely that event will occur. \n",
        "\n",
        "####Methods of determining probabilities\n",
        "\n",
        "- theoretical (classical) - values determined by the game itself. Such as flipping a fair coin. Theoretical methods use the nature of the situation to determine probabilities. \n",
        "- empirical (observational) - if you flip a fair coin over and over again would you expect the probability to be exactly 0.5? Actually we tend to get a different number but the distribution is normal. How would we know if the coin was fair? Classical probability wont answer this, nor tell us the actual P(H), the only way is to perform an experiment. Empirical methods use a series of trials that produce outcomes that cannot be predicted in advance (hence the uncertainty).\n",
        "\n",
        "####Relative Frequency\n",
        "\n",
        "If we toss a coin many times we hardly ever achieve exact theoretical probabilities but we can get close. When we run a simulation or when we use random sample and record the results, we are using empirical probability. This is called relative frequency. ![alt text](https://lagunita.stanford.edu/assets/courseware/v1/c22df9da739525e7625fbd14c5132a93/asset-v1:OLI+ProbStat+Open_Jan2017+type@asset+block/probability_image005a.gif)\n",
        "\n",
        "Law of Large numbers - The relative frequeny of an event approaches the theoretical probability of that event as the number of repetitions increases. The law of large numbers states that as the number of trials increases, the relative frequency becomes the actual probability. As the number of trials increases, the empirical probability gets closer and clsoer to theoretical probability. "
      ]
    },
    {
      "cell_type": "markdown",
      "metadata": {
        "id": "RRUTYXuzoF5h",
        "colab_type": "text"
      },
      "source": [
        "###Finding Probability of Events"
      ]
    },
    {
      "cell_type": "markdown",
      "metadata": {
        "id": "NsYJMPW8oKyW",
        "colab_type": "text"
      },
      "source": [
        "Probability questions arise in situations involving uncertains called random experiement, an experiment that produces an outcome that cannot be predicted in advance. The possible outcomes is called the sample space $S$. \n",
        "\n",
        "Once we have defined a random experiment, we can talk of an event, which is a statement of the nature of outcome that we're actually going to get once the experiment is conducted. ![alt text](https://lagunita.stanford.edu/assets/courseware/v1/18a69c1c8a775d757c1fd3e32a2045ef/asset-v1:OLI+ProbStat+Open_Jan2017+type@asset+block/probability_finding_probability_image004.gif)\n",
        "\n",
        "####Probability Rules: Range and Sum Rules\n",
        "\n",
        "- Rule 1: for any event A, 0 <= P(A) <= 1. The probability of an event which informs us of the likelihood of it occurring can range from 0 to 1. \n",
        "- Rule 2: The sum of all possible outcomes is 1.\n",
        "- Rule 3: Complement Rule - P( not A) = 1 - P(A); that is the probability that an event does not occur is 1 minus the probability that it does occur. \n",
        "Rule 4: Two events that cannot occur at the same time are called disjoint or mutually exclusive. The addition rule for disjoint events: if A and B are disjoint events, then P(A or B)  = P(A) + P(B).\n",
        "![alt text](https://lagunita.stanford.edu/assets/courseware/v1/b35810658876e9035450fb99a2e6153f/asset-v1:OLI+ProbStat+Open_Jan2017+type@asset+block/probability_finding_probability_image017a.gif)\n",
        "P(A and B) = P(event A occurs and event B occurs) ![alt text](https://lagunita.stanford.edu/assets/courseware/v1/85e956cd27527be0de0f51b1ec9ebe4d/asset-v1:OLI+ProbStat+Open_Jan2017+type@asset+block/probability_finding_probability_image019.gif). If A and B are disjoint events than P(A and B) = 0. Two events are independent if one event has occurred does not affect the probability of the other event occurring. \n",
        "- Rule 5: Multiplication Rule for independent Events: if A and B are two independent events, then P(A and B) = P(A) * P(B).\n",
        "\n",
        "The multiplication and addition rule can be extended to more than 2 independent events. Remember the \"or\" requiers us to add while \"and\" requires multiplication. \n",
        "\n",
        "Finding the probability of at least one of: Recall rule 3 the complement rule P(A) = 1 - P(A) together with multiplication rule, is useful for finding probability of events like \"at least one of...\".\n",
        "\n",
        "*For example,*\n",
        "\n",
        "*10 people were randomly chosen. Find P(at least one of the 10 has blood type O).\n",
        "A student uses a random guess to answer 10 true/false questions on a test. Find P(the student gets at least one question right).\n",
        "The key here is to use the fact that the complement event is much easier to deal with than the actual event of interest. Going back to our example:*\n",
        "\n",
        "*The complement to \"at least one of the 10 has blood type O\" is \"none of the 10 has blood type O.\"*\n",
        "\n",
        "*The complement to \"getting at least one question right\" is \"getting none of the questions right.\"*\n",
        "\n",
        "Ri;e 6: General addition rule: when A and B are not necessarily disjoint. When event A occurs or event B or both occurs. ![alt text](https://lagunita.stanford.edu/assets/courseware/v1/954a30da5765b98ca29bd45c608b3431/asset-v1:OLI+ProbStat+Open_Jan2017+type@asset+block/probability_finding_probability_prob_9_of_11_image7.png) The general addition rule: for any 2 events A and B, P(A or B) = P(A) + P(B) - P(A and B).\n",
        "\n",
        "####Summarize\n",
        "\n",
        "1. The Complement Rule states that\n",
        "\n",
        "P(not A) = 1 - P(A)\n",
        "\n",
        "or when rearranged\n",
        "\n",
        "P(A) = 1 - P(not A).\n",
        "\n",
        "The Complement Rule is very useful when we need to find probabilities of the sort: P(At least one of several events occur) which is hard to calculate. In this case we\n",
        "\n",
        "apply the Complement Rule:\n",
        "\n",
        "P(At least one of several events occur) = 1 - P(None of the events occur), since P(None of the events occur) is usually much easier to find.\n",
        "\n",
        "2. The General Addition Rule states that for any two events,\n",
        "\n",
        "P(A or B) = P(A) + P(B) - P(A and B),\n",
        "\n",
        "where, by P(A or B) we mean P(A occurs or B occurs or both).\n",
        "\n",
        "In the special case when A, B are disjoint events (which means that P(A and B)=0) The general addition rule becomes P(A or B)=P(A)+P(B) which we called the Addition Rule for Disjoint Events.\n",
        "\n",
        "Beware of wrongly using the Additional Rule for Disjoint events when the events are not disjoint.\n",
        "\n",
        "3. When we want to find P(A and B), we can use the Multiplication Rule, but so far we've only learned the restricted version of this rule—the Multiplication Rule for Independent Events. Events are independent if the occurrence of one of the events has no effect on the probability of the other occurring, in which case:\n",
        "\n",
        "P(A and B) = P(A) * P(B).\n",
        "\n",
        "4. The Additional Rule for Disjoint Events can be naturally extended to more than two events. In other words, if events A, B, and C are disjoint then\n",
        "\n",
        "P(A or B or C)=P(A)+P(B)+P(C).\n",
        "\n",
        "Similarly, the Multiplication Rule for Independent Events can be naturally extended to more than two independent events. In other words, if events A, B, and C are independent, then: P(A and B and C)=P(A)*P(B)*P(C). The same is true for four, five etc. disjoint/independent events.\n",
        "\n",
        "5. When there are two categorical variables in the background, each with two possible values, a two-way probability table is a quick and easy way to display the probabilities associated with the 4 possible combinations."
      ]
    },
    {
      "cell_type": "markdown",
      "metadata": {
        "id": "yFLI9ezDtq_O",
        "colab_type": "text"
      },
      "source": [
        "###Conditional Probability and Independence Introduction\n",
        "\n"
      ]
    },
    {
      "cell_type": "markdown",
      "metadata": {
        "id": "z0_f0XbDtwmm",
        "colab_type": "text"
      },
      "source": [
        "We need a general multiplication rule for which the events are not independent. The idea here is that the probabilities of certain events may be affected by whether or not other events have occurred. For instance, what is the probability of a student having their ear pierced? What is the probability of the student being male? What is the probability that the student is male and has their ear pierced? The notation is P(E|M), that being the probability of E given M. This is called the conditional probability of a student's ear being pierced given the student is male. \n",
        "\n",
        "The conditional probability of event B given event A is P(B|A) = P(A and B) / P(A).\n",
        "\n",
        "We first need to check if the variables are related. With conditional probability we can formalize the definition of conditional independence of events and develop 4 ways to check. \n",
        "\n",
        "If probability changes dependending on whether we know that A has occured means it is not independent. We do this by comparing P(B|A) and P(B). \n",
        "\n",
        "Another emthod, is to compare P(B|A) and P(B| not A), in other words, two events are independent if the probability of one event does not change whether we know that the other event has occurred or we know that the other event has not occurred. \n",
        "\n",
        "Now we can formalize the general multiplication rule, a formal rule for finding P(A and B) that applies to any two events, whether they are independent or dependent. \n",
        "\n",
        "For independent events A and B, we had the rule P(A and B) - P(A) * P(B). Due to independence, to find the probability of both, we could multiply the probability of A by the simple probability of B because the occurrence of A would have no effect on P(B) occurring. For events that are dependent, to find the prob of both, we multiply the prob of A by the conditional prob of B, taking into account A has occurred. Thus the general multiplication rule for any two events A and B, P(A and B) = P(A) * P(B | A).\n",
        "\n",
        "*1. Note that although the motivation for this rule was to find P(A and B) when A and B are not independent, this rule is general in the sense that if A and B happen to be independent, then P(B | A) = P(B) is true, and we're back to Rule 5—the Multiplication Rule for Independent Events: P(A and B) = P(A) * P(B).*\n",
        "\n",
        "*2. The General Multiplication Rule is just the definition of conditional probability in disguise. Recall the definition of conditional probability: P(B | A) = P(A and B) / P(A). Let's isolate P(A and B) by multiplying both sides of the equation by P(A), and we get: P(A and B) = P(A) * P(B | A). That's it ... this is the General Multiplication Rule.*\n",
        "\n",
        "*3. The General Multiplication Rule is useful when two events, A and B, occur in stages, first A and then B. Thinking about it this way makes the General Multiplication Rule very intuitive. For both A and B to occur you first need A to occur (which happens with probability P(A)), and then you need B to occur, knowing that A has already occurred (which happens with probability P(B | A)).*\n",
        "\n",
        "Probability Trees: Useful for seeing probabilities when events occur in stages and conditional probabilities are involved. ![alt text](https://lagunita.stanford.edu/assets/courseware/v1/27e4d1d8e88a07ac8f11c03ccae45923/asset-v1:OLI+ProbStat+Open_Jan2017+type@asset+block/probability_conditional_probability_image009.gif)\n",
        "Following one branch to a connected branch, such as C then V represents the occurrence of one event then another, which requires multiplication of probabilities. \n",
        "\n",
        "The probability of any event B, based on how B is impacted by the occurrence or non-occurrence of some other event A. We call this the Law of Total Probability: P(B) = P(A) * P(B | A) + P(not A) * P(B | not A)."
      ]
    },
    {
      "cell_type": "markdown",
      "metadata": {
        "id": "XGzy8bfIy_Aa",
        "colab_type": "text"
      },
      "source": [
        "###Discrete Random Variables\n",
        "\n"
      ]
    },
    {
      "cell_type": "markdown",
      "metadata": {
        "id": "qo2LCirhzH6q",
        "colab_type": "text"
      },
      "source": [
        "The difference between random and other variables is their values are determined by random sample/trial/simulation. The probabilities of these can be gained from theoretical or observational means. A random variable assigns a unique numerical value to the outcome of a random experiment. Observational methods mean we have to answer probability using relative frequency. \n",
        "\n",
        "A random variable, whose possible values are a list of distinct values are called discrete random variables. A random varaible, that can take any value in an interval is called a continuous random variable.\n",
        "\n",
        "Count vs Measure:\n",
        "Sometimes continuous random variables are rounded and are therefore in a discrete disguise. On the other hand, there are some variables that are discrete but can take on a distinct number of values and it is easier to treat them as continuous. Discrete = count, continuous = measure. \n",
        "\n",
        "We denote P(X = x) as the prob that the discrete random var X gets value x. \n",
        "\n",
        "####Probability distribution\n",
        "\n",
        "We learned how to find individual probabilities, now lets consider all probabilities of possible values of a discrete random variable. This is called the probability distribution. In EDA, we looked at distribution of sample values. In probability distribution we consider all values and probabilities of an entie population of values for a variable. The distinction between sample and population is essential, because the **ultimate goal is to draw conclusions about unkown values for a population, based on what is observed in the sample.**\n",
        "\n",
        "EXAMPLES:\n",
        "\n",
        "![alt text](https://lagunita.stanford.edu/assets/courseware/v1/95ef1ca5e56011c87a3d6cb92c99db15/asset-v1:OLI+ProbStat+Open_Jan2017+type@asset+block/probability_random_variables_image012.gif)\n",
        "What is the prob of at least 2 defects in a randomly chosen hour?\n",
        "\n",
        "$P(X \\geq 2) = P(X=2) + P(X=3) + P(X=4) = 0.25 + 0.20 + 0.10 = 0.55$\n",
        "\n",
        "#### Mean and Variance of a Random Variable\n",
        "\n",
        "A mean of a random variable - we can use the relative frequencies to find probabilities. We can use it to also find the mean, which will be a weighted average of its values; the more probable a value is, the more weight it gets. We denote the mean of a random variable as $\\mu_x$. \n",
        "\n",
        "The definition of the mean of a discrete random variable X with probability distribution: ![alt text](https://lagunita.stanford.edu/assets/courseware/v1/9b04c5bf80493fb22a0aae866873b580/asset-v1:OLI+ProbStat+Open_Jan2017+type@asset+block/probability_random_variables_image020.gif) the mean of X is defined to be $\\mu_x=x_1p_1+x_2p_2+...+x_np_n = \\sum{n}{i=1}x_ip_i$. It tells us the long-run average value. It is sometimes referred to as the expected value of a random value of a random var. This is misleading since it is often impossible for a random var to actually equal its expected value.  \n",
        "\n",
        "#### Variance and Std of a Discrete Random Variable\n",
        "\n",
        "We measure the spread of a random variable by calculating the square root of the average squared deviation from the mean. Now average is a weighted average, where more probable values are given more weight. The variance, or average squared deviation from the mean, then take its square root to find the standard deviation: ![alt text](https://lagunita.stanford.edu/assets/courseware/v1/2119727456906fe0e7c9493201ce81b1/asset-v1:OLI+ProbStat+Open_Jan2017+type@asset+block/probability_random_variables_image033.gif).\n",
        "Variance = $\\sigma^{2}_{X}=(0-1.8)^2(0.15) + ... + (4-1.8)^2(0.1)=1.46$\n",
        "std = $\\sigma_X=\\sqrt{1.46}=1.21$\n",
        "\n",
        "When we compare distributions, the distribution in which it is more likely to find values that are further from the mean will have a larger standard deviation. Likewise, the distribution in which it is less likely to find values that are further from the mean will have the smaller standard deviation. \n",
        "Using the mean and std gives us a way to assess which values of a random var are unusual. Any values of a rand var that fall within 2 standard deviations of the mean would be considered ordinary (not unusual). \n",
        "\n",
        "####Rules for Means and Variances of Random Variables\n",
        "\n",
        "Sometimes a new random var of interest arises when we take an existing random variable and multiply by a constant and/or add a constant to its values. What would the mean and standard deviation be if we shifted the histogrm to the right- say X + 6? ![alt text](https://lagunita.stanford.edu/assets/courseware/v1/b32b9fa585a60b2f0e7ff9148a494493/asset-v1:OLI+ProbStat+Open_Jan2017+type@asset+block/probability_random_variables_image056.gif). The same intuition applies when subtracting/multiplying by a constant. \n",
        "\n",
        "- Rules for a + bX (Linear transformation of one random variable)\n",
        "\n",
        "If X is a random variable with mean and variance then the new random variable a + bX has a mean and variance of:\n",
        "$\\mu_a+bX=a+b\\mu_X$\n",
        "$\\sigma^{2}{a+bX}=b^{2}\\sigma^{2}_{X}$\n",
        "\n",
        "If we take a random var's distribution and shift it over \"a\" unites and stretch or shrink its spread by \"b\" then the mean is shifted and distribution is stretched or shrunk. \n",
        "\n",
        "- Sum of Two Variables\n",
        "\n",
        "Another way besides taking a linear transformation to form a new random variable is to combine two or more existing random variables, such as finding the sum of 2 random vars. \n",
        "\n",
        "Rules for X + Y: the mean of X + Y is the mean of X + mean of Y and the std of X + Y is std of X + std of Y. \n",
        "\n",
        "Two random vars are independent if knowing that one random var takes any of its possible values has no effect on the probability that the other random var takes a value.\n",
        "\n",
        "####Binomial Random Variables\n",
        "\n",
        "A special case of random variables that are common - binomial random variables.\n",
        "\n",
        "Binomial Experiments are random experiments that consist of a fixed number of repeated trials. These trials need to be independent. To be binomial:\n",
        "\n",
        "- a fixed number of trials, each trial must be independent, each trial has 2 possible outcomes success/failure, there is a constant probability of success for each trial the complement is (1-p) of failure.\n",
        "\n",
        "The random var X that represents the number of successes in those n trials is called binomial and is determined by values of n and p. \n",
        "Consider a random experiment that consists of n trials, each one ending up in success or failure. The number of possible outcomes in the sample space that have exactly k successes out of n is: $\\frac{n!}{k!(n-k)!}$ where n! is n factorial defined to be the product 1*2*3...*2n. 0! is defined to be 1. \n",
        "\n"
      ]
    },
    {
      "cell_type": "code",
      "metadata": {
        "id": "l3qhFc7OLbUB",
        "colab_type": "code",
        "outputId": "0c0b68f4-a642-4894-816b-50a5e2f8aa35",
        "colab": {
          "base_uri": "https://localhost:8080/"
        }
      },
      "source": [
        "%%R\n",
        "dbinom(k, n, p) = P(X = k)"
      ],
      "execution_count": 0,
      "outputs": [
        {
          "output_type": "stream",
          "text": [
            "UsageError: Cell magic `%%R` not found.\n"
          ],
          "name": "stderr"
        }
      ]
    },
    {
      "cell_type": "code",
      "metadata": {
        "id": "omxjnWLL8gHz",
        "colab_type": "code",
        "colab": {}
      },
      "source": [
        "%%R\n",
        "pbinom(k, n, p) = P(X ≤ k)\n",
        "#where k is the number of successes in trials\n",
        "#n is the number of independent trials\n",
        "#p is the probability of success in each trial"
      ],
      "execution_count": 0,
      "outputs": []
    },
    {
      "cell_type": "markdown",
      "metadata": {
        "id": "5bv4j_6J8wZW",
        "colab_type": "text"
      },
      "source": [
        "Mean and std of Binomial Random Variable\n",
        "\n",
        "If X is binomial with parameters n and p, then $\\mu_{X}=np$ and $\\sigma^{2}_{X}=np(1-p);$ \n",
        "$\\sigma_X = \\sqrt{np(1-p)}$\n",
        "\n",
        "The binomial mean and variance are special cases of our general formulas for the mean and variance of any random variable. "
      ]
    },
    {
      "cell_type": "markdown",
      "metadata": {
        "id": "qLdqCd_J934X",
        "colab_type": "text"
      },
      "source": [
        "###Continuous Random Variable"
      ]
    },
    {
      "cell_type": "markdown",
      "metadata": {
        "id": "-3wtIQjI9-0g",
        "colab_type": "text"
      },
      "source": [
        "Continuous Random Variables (CRV) - can take on any value within an interval. The probabilitiy distribution (PD) can be represented by a probability density curve. The total area under the curve equals 1. ![alt text](https://lagunita.stanford.edu/assets/courseware/v1/8d0c07aa6c3f0673a2e2eaf21bd354fa/asset-v1:OLI+ProbStat+Open_Jan2017+type@asset+block/probability_random_variables_image105.gif) So the P(X<9) = P(X<=9). The probability of a X gets a value in any interval of interest is the area above this interval and below the density curve. ![alt text](https://lagunita.stanford.edu/assets/courseware/v1/1b9cef03e8904ce7312726dcfeea247d/asset-v1:OLI+ProbStat+Open_Jan2017+type@asset+block/probability_random_variables_image108.gif). To find these we need to take the integral:\n",
        "\n",
        "$P(a \\leq X \\geq b) = (area between a and b and below the density curve) = \\int_{a}^{b} f(x) dx$, where f(x) represents the density curve. \n",
        "\n",
        "####Normal Random Variables\n",
        "\n",
        "Symmetry indicates that a var is likely to take a value a certain distance below its mean as it is to take a value that same distance above its mean; the bell-shape indicates that values closer to the mean are more likely, and it becomes increasingly unlikely to take values far from the mean in either direction. This shape is called normal.\n",
        "\n",
        "There are many normal distributions (bell-shaped) but vary in their center spread. \n",
        "\n",
        "![alt text](https://lagunita.stanford.edu/assets/courseware/v1/7863c81777019f68f4655da2d5d6fb7e/asset-v1:OLI+ProbStat+Open_Jan2017+type@asset+block/probability_random_variables_image_normal1a.gif)\n",
        "\n",
        "The center of its distribution is determined by its mean $\\mu$ and the spread by the std $\\sigma$. The black and red curves have same mean but different spread (std). Normal distributions play an important role in sampling theory, in particular, in relation to sample means or proportions to population means. \n",
        "\n",
        "The Standard deviation for normal random variables - the 68-95-97 rule for how values in normal shape behave relative to their mean and std. That is 68% falls within 1 $\\sigma$ of $\\mu$, 95% within 2$\\sigma$ of $\\mu$ and 99.7% within 3$\\sigma$ of $\\mu$. Using probability: 0.68 = $P(\\mu - \\sigma < X < \\mu + \\sigma) $, 0.95 = $P(\\mu - 2\\sigma < X < \\mu + 2\\sigma) $ 0.997 = $P(\\mu - 3\\sigma < X < \\mu + 3\\sigma) $\n",
        "\n",
        "![alt text](https://lagunita.stanford.edu/assets/courseware/v1/48b291e6dcb0a60d7e399967d9bbb4f7/asset-v1:OLI+ProbStat+Open_Jan2017+type@asset+block/probability_random_variables_image121.gif)\n",
        "\n",
        "The std is limited in answering probability questions that don't fall exactly 1, 2, and 3 std away from the mean. How do we answer these questions in general? The first step to assessing a probability associated with a normal value is to determine the relative value with respect to all other values taken by that normal variable. This is done by finding out how many std below or above the mean that value is. How many std's above/below the mean male foot length is 13 inches? So 11 is the mean, 13 is 2 inches above the mean. Since the std if 1.5 inches, this would be 2 / 1.5 = 1.33 above the mean. We have just found the **z-score**. We have standardized the value of 13, this standardized value z tells how many std below/above the mean the original value is: z-score = (value - mean)/standard deviation. $z=\\frac{x - \\mu}{\\sigma}$ \n",
        "\n",
        "####Standard Normal Table\n",
        "\n",
        "A normal table tells us the probability of a normal varaible taking a value less than any standardized score z. Since normal curves are symmetric about their mean, the curve of the z scores must be symmetric about 0. The normal table outlines the behavior of the standard normal random variable Z, the number of std's a normal value x is below its mean. The normal table provides probabilities that a standardized normal random variable Z would take a value less than or equal to a particular value z*.\n",
        "These values are list in the form *.* in rows along the left margins, specifying ones and tenths. The columns fine-tune these values to hundredths, allowing us to look up the probability of being below any standardized value z of the form *.**. \n",
        "![alt text](http://www.bbm.colmmcguinness.org/live/pd-NormalTable.GIF)\n",
        "The probability P(Z<z*) equals the area under the z curve to the left of that particular value z*. What is the probability of a normal random variable taking a value less than 2.8 std above its mean? So P(Z<2.8)=0.9974%.\n",
        "\n",
        "What is the prob of a normal random var taking a value 1.47 std's below its mean? P(Z <- 1.47)=0.0708 or 7.08%. (NB: first find 1.4 on the row then search the columns for the 0.07).\n",
        "For instance, what is the prob that a normal random var will take a value less than 1.05 std above its mean? P(Z<1.05)= 0.8531.\n",
        "\n",
        "The prob is 0.15 that a standardized normal var takes a value above what particular value of z? Method 1: In the table 0.15 (0.1492) is the prob of being below -1.04 and by symmetry must also be the prob of being +1.04. Method 2: If 0.15 is the prob, then 1-0.15=0.85. 0.85 in the table is 0.8508 prob of being below +1.04.\n",
        "\n",
        "- Steps to solve normal value x: Standardize (find z score with equation above), locate z in normal table and find corresponding probability to 4 decimal places. \n",
        "- Given a prob, solve for normal value x: Locate the prob to four decimal places on the normal table, find the corresponding z value in the margins (row/col) and unstandardize via $x = \\mu + z * \\sigma$. \n"
      ]
    },
    {
      "cell_type": "code",
      "metadata": {
        "id": "d6KSbsRr93Rc",
        "colab_type": "code",
        "outputId": "4b30a660-41c5-4497-87e2-50ffef1d983d",
        "colab": {
          "base_uri": "https://localhost:8080/",
          "height": 35
        }
      },
      "source": [
        "%%R\n",
        "pnorm(700, mean=507, sd=111)\n",
        "#allows us to find prob without first requiring you to reduce the data to z-score"
      ],
      "execution_count": 0,
      "outputs": [
        {
          "output_type": "display_data",
          "data": {
            "text/plain": [
              "[1] 0.9589596\n"
            ]
          },
          "metadata": {
            "tags": []
          }
        }
      ]
    },
    {
      "cell_type": "code",
      "metadata": {
        "id": "OtZcHCktWFsn",
        "colab_type": "code",
        "outputId": "3c7de51c-7708-41ea-a54e-8aa1d279e5a5",
        "colab": {
          "base_uri": "https://localhost:8080/",
          "height": 35
        }
      },
      "source": [
        "%%R\n",
        "1- pnorm(700, mean=507, sd=111)"
      ],
      "execution_count": 0,
      "outputs": [
        {
          "output_type": "display_data",
          "data": {
            "text/plain": [
              "[1] 0.04104036\n"
            ]
          },
          "metadata": {
            "tags": []
          }
        }
      ]
    },
    {
      "cell_type": "code",
      "metadata": {
        "id": "_y29pjecWNnB",
        "colab_type": "code",
        "outputId": "bd0988ff-8d8e-4a27-8925-a5e8f5a2ed12",
        "colab": {
          "base_uri": "https://localhost:8080/",
          "height": 35
        }
      },
      "source": [
        "%%R\n",
        "qnorm(0.98, mean=507, sd=111)\n",
        "#Finding the value given the probability"
      ],
      "execution_count": 0,
      "outputs": [
        {
          "output_type": "display_data",
          "data": {
            "text/plain": [
              "[1] 734.9661\n"
            ]
          },
          "metadata": {
            "tags": []
          }
        }
      ]
    },
    {
      "cell_type": "markdown",
      "metadata": {
        "id": "gFnto3qQWYug",
        "colab_type": "text"
      },
      "source": [
        "####Normal Random Variables: Approximation to Binomial\n",
        "\n",
        "One important application of the normal distribution is that under certain conditions it can provide a good approximation to the binomial distribution. We can use the normal table to help.\n",
        "\n",
        "Suppose students answer 20 True/False questions, what is the prob of getting 8 correct. Let X by number of questions student gets right out of 20, and probability of success is .5 X is thus a binomial random var with n = 20, p =.5. We could compute the factorial equation for the binomial above or use the table. \n",
        "\n",
        "Estimate the binomial prob of $X_B$ taking a value over a certain interval with probability that a normal random var $X_N$ takes a value over the same interval where $X_N$ has the same mean and std as $X_B$ namely $\\mu = np, \\sigma = \\sqrt{np(1-p)}$. Using the example above:\n",
        "\n",
        "$\\mu = np = 20(0.5) = 10, \\sigma = \\sqrt{np(1-p)} = \\sqrt{20(0.5)(1-0.5)} = 2.24$ and we approximate the binomial X with a normal random var having the same mean and std, then we solve using normal tables. Find z $P(Z \\leq \\frac{8-10}{2.24}) = P(Z \\leq -0.89) = 0.1867$ The approximate 0.1867 is off of 0.2517 but is a worst case example - usually with a large enough sample size n is large enough relative to the proportions of successes and failures that our approximation is stronger. The rule of thumb is $np \\geq 10$ and $n(1-p) \\geq 10$.\n",
        "\n",
        "We can improve our approximation using continuity correction (taking the entire area of the rectangle).  \n"
      ]
    },
    {
      "cell_type": "markdown",
      "metadata": {
        "id": "08HU8Fs_Ze59",
        "colab_type": "text"
      },
      "source": [
        "###Sampling Distributions"
      ]
    },
    {
      "cell_type": "markdown",
      "metadata": {
        "id": "wQPmZhmEZguY",
        "colab_type": "text"
      },
      "source": [
        "In EDA we learn to summarize values of a variable for a sample. In Probability we consider the population of all possible values taken by that variable. Here we focus on the relationship between the values of a variable for a sample and its values for the entire population from which the sample was taken. \n",
        "\n",
        "####Parameters vs Statistics\n",
        "\n",
        "Say we have an entire population, we take a sample of 500 people and we get different percentages/proportions than in our population. This is not surprising since we took a sample of 500 but if the sample is random we expect results which are not far from the population. If we took another sample we again get different figures and different from the first sample. This idea that sample results change from sample to sample is called sampling variability. \n",
        "\n",
        "A parameter is a number that describes the population; a statistic is a number that is computed from the sample. The parameters are usually unkown, since it is impractical or impossible to know exactly what values a variable takes for every member of the population. Statistics are computed from the sample and vary from sample to sample due to sampling variability. In inference we learn how to use a statistic to draw conclusions about an unknown parameter, either by estimating it or by deciding whether it is reasonable to conclude that the parameter equals a proposed value. \n",
        "\n",
        "The first step to drawing conclusions about parameters based on the accompanying statistics is to understand how sample statistics behave relative to the parameter that summarizes the entire population. We begin with the behavior of sample proportion relative to population proportion. \n",
        "\n",
        "- Behavior of Sample Proportion $\\hat{p}$\n",
        "\n",
        "Approx 60% part-time collect students are female so the population proportion of females is p = 0.6. What would you expect the behavior of a sample proportion of females to be if random samples of size 100 were taken from the population of all part-time college students? We expect the center to be low for some around 0.55 and high for others around 0.61-0.66, in other words, the mean of the distribution $\\hat{p}$ should be p. The spread we expect to not stray too far from the population proportion. The spread will be larger for smaller sample sizes than larger ones. The shape we expect to bulge in the middle and taper at the ends i.e. normal.\n",
        "\n",
        "The distribution of the values of the sample proportions in related samples is called the sampling distribution of $\\hat{p}$. If the population has a proportion of p, then random samples of the same size drawn from the population will have sample proportions close to p.\n",
        "\n",
        "- The sampling distribution of the sample proportion\n",
        "\n",
        "if repeated random samples of a given size n are taken from a population of values for a cat var, where the proportion is p, then the mean of all sample proportions $\\hat{p}$ is the population proportion (p). The std of all sample proportions $\\hat{p}$ is exactly $\\sqrt{\\frac{p(1-p)}{n}}$. Since the sample size n appears in the denominator the square root, the std does decrease as sample size increases. The shape of the distribution will be approx normal as long as the sample size n is large enough. The convention requires n(1-p) to be atleast 10. \n",
        "\n",
        "\"Apply the sampling distribution of the sample proportion (when appropriate). In particular, be able to identify unusual samples from a given population.\"\n",
        "\n",
        "*As long as the sample is truly random, the distribution of  is centered at p, no matter what size sample has been taken. Larger samples have less spread. Specifically, when we multiplied the sample size by 25, increasing it from 100 to 2,500, the standard deviation was reduced to 1/5 of the original standard deviation. **Sample proportion strays less from population proportion 0.6 when the sample is larger**: it tends to fall anywhere between 0.5 and 0.7 for samples of size 100, whereas it tends to fall between 0.58 and 0.62 for samples of size 2,500. It is not so improbable to take a value as low as 0.56 for samples of 100 (probability is more than 20%) but it is almost impossible to take a value as low as low as 0.56 for samples of 2,500 (probability is virtually zero).*\n",
        "\n",
        "*The purpose of this next activity is to give guided practice in finding the sampling distribution of the sample proportion ( $\\hat{p}$), and use it to draw conclusions about what values of  $\\hat{p}$ we are most likely to get.*\n",
        "\n",
        "####Behavior of Sample mean $\\bar{X}$\n",
        "\n",
        "The distribution of the values of the sample mean in repeated samples is called sampling distributions. As we collect more sample means the shape of the distribution goes to normal. The sample means also approximate the population mean and the std was smaller than the population std. \n",
        "\n",
        "The standard deviation of all sample means is exactly $\\frac{\\sigma}{\\sqrt{n}}$. Since the square root of sample size n appears in the denominator, the std does decrease as sample size increases. When will the distribution of sample means be approximately normal? \n",
        "\n",
        "*When we were discussing the sampling distribution of sample proportions, we said that this distribution is approximately normal if np ≥ 10 and n(1 - p) ≥ 10. In other words, we had a guideline based on sample size for determining the conditions under which we could use normal probability calculations for sample proportions.*\n",
        "\n",
        "It seems reasonable that a population with a normal distribution will have sample means that are normally distributed even for very small samples. What if the distribution is skewed? If we take arge samples will the sample means be normally distributed?\n",
        "\n",
        "If we have a smaller sample size, the sample means have a skew to the distribution, the mean is approx the same the std is smaller. If we increase the sample size, the sample means are close, the shape is normally distribed. \n",
        "\n",
        "To summarize, the distribution of sample means will be approximately normal as long as the sample size is large enough. This discovery is probably the single most important result presented in introductory statistics courses. It is stated formally as the **Central Limit Theorem**.\n",
        "\n",
        "We will depend on the Central Limit Theorem again and again in order to do normal probability calculations when we use sample means to draw conclusions about a population mean. We now know that we can do this even if the population distribution is not normal.\n",
        "\n",
        "How large a sample size do we need in order to assume that sample means will be normally distributed? Well, it really depends on the population distribution, as we saw in the simulation. The general rule of thumb is that samples of size 30 or greater will have a fairly normal distribution regardless of the shape of the distribution of the variable in the population."
      ]
    },
    {
      "cell_type": "markdown",
      "metadata": {
        "id": "0xsyTGlGej9K",
        "colab_type": "text"
      },
      "source": [
        "###Inference"
      ]
    },
    {
      "cell_type": "markdown",
      "metadata": {
        "id": "UWV7ahGJetUn",
        "colab_type": "text"
      },
      "source": [
        "####Forms of Inference\n",
        "\n",
        "- Point Estimation: we estimate an unknown parameter using a single number that is calculated from the sample data. E.g. based on sample results we estimate that p, the proportion of all US adults who are in favor of stricter gun control is 0.6.\n",
        "- Interval Estimation: we estimate an unkown parameter using an interval of values that is likely to contain the true value of that parameter (and state how confident we are that this interval indeed captures the true value of the parameter)\n",
        "- Hypothesis Testing: we have some claim about the population, and check whether or not the data obtained from the sample provide evidence against this claim. \n",
        "\n",
        "When the variable is categorical, the population parameter we infer about is the population proportion (p) associated with that variable. \"*For example, if we are interested in studying opinions about the death penalty among U.S. adults, and thus our variable of interest is \"death penalty (in favor/against),\" we'll choose a sample of U.S. adults and use the collected data to make an inference about p—the proportion of U.S. adults who support the death penalty.*\"\n",
        "\n",
        "When the variable is quantitative, the population parameter we infer about is population mean ($\\mu$) associated with that variable. \"*For example, if we are interested in studying the annual salaries in the population of teachers in a certain state, we'll choose a sample from that population and use the collected salary data to make an inference about μ, the mean annual salary of all teachers in that state.*\"\n",
        "\n",
        "####Point Estimation\n",
        "\n",
        "Point estimation is estimating an unkown parameter of interest using a single value. Say we want to estimate the mean of IQ levels (quantitative). A random sample of 100 is taken and their sample mean is 115. If we want to estimate the population mean IQ level by a single number it makes sense to use the corresponding quantity in the sample, the sample mean 115. So the point estimate is 115. \n",
        "\n",
        "The best estimator for $\\mu$ should be $\\bar{x}$ (point estimate) and the best estimator for p should be $\\hat{p}$. Probability theory gives us more explanation as to why they are good choices as point estimators. Previously we learned about the sampling distributions and found that as long as a sample is taken at random, the distribution of sample means is exactly centered at the value of population mean. ![alt text](https://lagunita.stanford.edu/assets/courseware/v1/9c35a6d34b973e873a86caf6ca01838f/asset-v1:OLI+ProbStat+Open_Jan2017+type@asset+block/inference_inference_one_variable_image019.gif) $\\bar{X}$ is thus the unbiased estimator for $\\mu$. Any particular sample mean might turn out to be more or less than the actual population mean. In the long run such sample means are on target in that they will not underestimate any more or less often than they overestimate. Likewise $\\hat{p}$ is centered at the population proportion p making it an unbiased estimator. \n",
        "\n",
        "If we took the entire population as the sample size the point estimator would not be unbiased and would probably overestimate the mean/pop-proportion. Their accuracy improves as sample size increases. \n",
        "\n",
        "![alt text](https://lagunita.stanford.edu/assets/courseware/v1/f8b92e76246583d72a10fa9be92b16cc/asset-v1:OLI+ProbStat+Open_Jan2017+type@asset+block/inference_inference_one_variable_image022.gif) AS sample size n increases the sampling distribution gets less spread out. This means that values of $\\bar{X}$ are based on a larger sample are more likely to be closer to $\\mu$. Similarly, values of $\\hat{p}$ are more likely to be closer to p when the sample size is larger.\n",
        "\n",
        "Another example of point estimate is sample variance to estimate population variance. \"*If we had divided by n instead of n - 1 in our estimator for population variance, then in the long run our sample variance would be guilty of a slight underestimation. Division by n - 1 accomplishes the goal of making this point estimator unbiased. Making unbiased estimators a top priority is, in fact, the reason that our formula for s, introduced in the Exploratory Data Analysis unit, involves division by n - 1 instead of by n.*\"\n",
        "\n",
        "####Interval estimation\n",
        "\n",
        "Point estimation is problematic: when we estimate the mean by the sample mean, we are guaranteed some error. It will be unlikely the two will match. Given such errors, these estimates are of limited use unless we can quantify the extent of estimation error. Interval estimation addresses this, by enhancing a single point estimate by providing size of error.\n",
        "\n",
        "How do we find the confidence intervals to say how far off the pop-prop or pop-mean we are? \n",
        "\n",
        "Say we know the std is 15, and the sample mean is 115. We learned that according to the central limit theorem, the sampling distribution of the sample mean is approximately normal. Where std is 15, and n=100, the possible values of $\\bar{X}$, the sample mean, is approximately normal, with mean $\\mu$ and std = $\\frac{15}{\\sqrt{100}} = 1.5$ We are trying to find the 95% confidence interval. There is a 95% chance that the sample mean falls within 2 * 1.5 = 3 of $\\mu$ given the standard deviation rule.  ![alt text](https://lagunita.stanford.edu/assets/courseware/v1/25dd169467b4ff2e7d77824b0031f56c/asset-v1:OLI+ProbStat+Open_Jan2017+type@asset+block/inference_inference_one_variable_image035.gif)\n",
        "\n",
        "There is a 95% chance the sample mean falls within 3 units of $\\mu$. So if we happen to get a sample mean 115, then we are 95% sure that $\\mu$ falls within 3 of 115, in other words $\\mu$ is covered by the interval (115-3, 115+3)=(112, 118).\n",
        "\n",
        "The General Case: Suppose we want to estimate the unknown population mean based on a random sample size of n. We are given the std and n sample size. There is a 95% chance that our sample mean will fall within $2*\\frac{\\sigma}{\\sqrt{n}}$ and we are 95% confident the population mean is: $(\\bar{x} - 2*\\frac{\\sigma}{\\sqrt{n}}, \\bar{x} + 2*\\frac{\\sigma}{\\sqrt{n}})$\n",
        "\n",
        "In practice std is rarely known but we can estimate it using the sample std. \n",
        "\n",
        "The most common Confidence Interval is 95% but we can increase it to say 99%. \n",
        "\n",
        "As we increase the confidence interval, the confidence level increases and the inerval becomes wider.\n",
        "\n",
        "The general structure of the confidence interval: $\\bar{x} \\pm z* \\ldotp \\frac{\\sigma}{\\sqrt{n}}$, where z* is the multiplier that depends on the level of confidence. ![alt text](https://lagunita.stanford.edu/assets/courseware/v1/279dd35151ad033b47e064bd05c8d8d6/asset-v1:OLI+ProbStat+Open_Jan2017+type@asset+block/inference_inference_one_variable_image062.gif) $\\hat{x}$ is the sample mean, the point estimator for the unknown population mean, m is the **margin of error** since it represents the maximum estimation error for a given level of confidence. For instance, with 95% CI we are 95% sure that our estimate will not depart from the true pop mean by more than m. ![alt text](https://lagunita.stanford.edu/assets/courseware/v1/f3069fbc4d1c9d1cb01b5fd9d7bf81bd/asset-v1:OLI+ProbStat+Open_Jan2017+type@asset+block/inference_inference_one_variable_image063.gif) \n",
        "The margin of error is composed of the product of a confidence multiplier and the standard deviation (or standard error) is the general structure of all confidence intervals. \n",
        "\n",
        "Is there a way to increase the precision of the confidence interval (make it narrower) without compromising on the level of confidence? Since the width of the CI is a function of its margin of error, lets look at the margin of error of the CI for the mean and see how it can be reduced. Since z* controls the confidence level, we can rephrase our question: can we reduce this margin of error other than by reducing z*? Yes! We can by increasing the sample size n since it appears in the denominator. While we can reduce the standard deviation in the numerator to reduce the margin of error, $\\sigma$ is the population standard deviation and is fixed. \n",
        "\n",
        "Let's try explain why a larger sample size reduces the margin of error for a fixed level of confidence? Three ways to explain.\n",
        "\n",
        "- mathematical explanation: the margin of error is $z^* *\\frac{\\sigma}{\\sqrt{n}}$, and since n appears in the denominator, increasing n will reduce the margin of error. \n",
        "\n",
        "- probability explanation: ![alt text](https://lagunita.stanford.edu/assets/courseware/v1/5cbd42521d4a41fb7d30ca70fe89ab80/asset-v1:OLI+ProbStat+Open_Jan2017+type@asset+block/inference_inference_one_variable_image069.gif) This explains why with a larger sample size the margin is smaller.\n",
        "\n",
        "- intuitive explanation: if our estimate is based on a larger sample (larger fraction of the populat), we have more faith in it it is more reliable and thus less error. \n",
        "\n",
        "We can calculate in advance what the sample size is to be able to report a confidence interval. Say we want to estimate the mean, with a margin of error of 5 and confidence at 95%, what is the sample size needed to achieve this, assume std =100.\n",
        "\n",
        "$m=2 . \\frac{100}{\\sqrt{n}}=5$\n",
        "so \n",
        "$\\sqrt{n} = \\frac{2(100)}{5}$\n",
        "and\n",
        "$n = \\frac{2(100)}{5}^2 = 1600$\n",
        "\n",
        "So for a sample size of 1600, the researcher will be able to estimate the mean with a margin of error of 5 at 95% confidence. \n",
        "\n",
        "When is it safe to use the CI? \n",
        "The sample must be random. The central limit theorem states when the sample size is large, or for smaller sample sizes, if it is known that the quantitative variable is normally distributed. The only situation we cannot use the CI is when sample size is small and the variable of interest is not known to have a normal distribution. Nonparametric methods, need to be used in these circumstances. ![alt text](https://lagunita.stanford.edu/assets/courseware/v1/94abb60554cb6bc0291f3c8701434a54/asset-v1:OLI+ProbStat+Open_Jan2017+type@asset+block/inference_inference_one_variable_image077.gif) \n",
        "\n",
        "What if std is unknown? \n",
        "\n",
        "We can easily replace the population std with the sample std. Once the population std has been replaced, we lose the central limit theorem and normality of $\\bar{X}$ and thus the confidence multipliers z* are not accurate anymore. The new multipliers come from a different distribution called the t-distribution and denoted t*. \n",
        "![alt text](https://lagunita.stanford.edu/assets/courseware/v1/fb3b1ca91a42fd01057fc4b382ed607e/asset-v1:OLI+ProbStat+Open_Jan2017+type@asset+block/inference_inference_one_variable_image078.gif)\n",
        "$\\bar{x} \\pm t^* * \\frac{s}{\\sqrt{n}}$\n",
        "\n",
        "There is a difference with the confidence multipliers t* and z*. t* has the added complexity that they depend on both the level of confidence and on sample size. \n",
        "\n",
        "Since it is rare that std is known, this interval called one-sample t confidence interval is used for estimating the mean. \n",
        "\n",
        "The quantity $\\frac{s}{\\sqrt{n}}$ is called the standard error of $\\bar{X}$. The central limit theorem tells us that  $\\frac{\\sigma}{\\sqrt{n}}$ is the std of $\\bar{X}. Whenever we replace parameters with their sample counterparts in the std of a statistic, the result is called the standard error of the statistic. \n",
        "\n",
        "\n"
      ]
    },
    {
      "cell_type": "code",
      "metadata": {
        "id": "jiylZN75WUy5",
        "colab_type": "code",
        "outputId": "4aae76b3-97e9-4b66-9349-8ed01bb25c5c",
        "colab": {
          "base_uri": "https://localhost:8080/",
          "height": 232
        }
      },
      "source": [
        "!wget https://lagunita.stanford.edu/assets/courseware/v1/58d0b52430c7c496ff4146116cea1677/asset-v1:OLI+ProbStat+Open_Jan2017+type@asset+block/birthweight.RData"
      ],
      "execution_count": 0,
      "outputs": [
        {
          "output_type": "stream",
          "text": [
            "--2019-05-29 15:30:31--  https://lagunita.stanford.edu/assets/courseware/v1/58d0b52430c7c496ff4146116cea1677/asset-v1:OLI+ProbStat+Open_Jan2017+type@asset+block/birthweight.RData\n",
            "Resolving lagunita.stanford.edu (lagunita.stanford.edu)... 13.57.143.231, 54.176.179.4\n",
            "Connecting to lagunita.stanford.edu (lagunita.stanford.edu)|13.57.143.231|:443... connected.\n",
            "HTTP request sent, awaiting response... 200 OK\n",
            "Length: 431 [application/octet-stream]\n",
            "Saving to: ‘birthweight.RData’\n",
            "\n",
            "birthweight.RData   100%[===================>]     431  --.-KB/s    in 0s      \n",
            "\n",
            "2019-05-29 15:30:37 (56.9 MB/s) - ‘birthweight.RData’ saved [431/431]\n",
            "\n"
          ],
          "name": "stdout"
        }
      ]
    },
    {
      "cell_type": "code",
      "metadata": {
        "id": "_0bMyS65NtTU",
        "colab_type": "code",
        "outputId": "b360da42-f62e-410c-998c-2c5a89fa9726",
        "colab": {
          "base_uri": "https://localhost:8080/",
          "height": 141
        }
      },
      "source": [
        "%%R\n",
        "load('birthweight.RData')\n",
        "head(birthweight)"
      ],
      "execution_count": 0,
      "outputs": [
        {
          "output_type": "display_data",
          "data": {
            "text/plain": [
              "  birthweight\n",
              "1        3870\n",
              "2        3400\n",
              "3        3430\n",
              "4        3560\n",
              "5        3220\n",
              "6        3170\n"
            ]
          },
          "metadata": {
            "tags": []
          }
        }
      ]
    },
    {
      "cell_type": "code",
      "metadata": {
        "id": "F9nWF9GlNxx-",
        "colab_type": "code",
        "colab": {}
      },
      "source": [
        "%%R\n",
        "x=birthweight$birthweight"
      ],
      "execution_count": 0,
      "outputs": []
    },
    {
      "cell_type": "code",
      "metadata": {
        "id": "JXvycDb3N1qP",
        "colab_type": "code",
        "colab": {}
      },
      "source": [
        "#set your variables CI, z etc.\n",
        "%%R\n",
        "C=0.99\n"
      ],
      "execution_count": 0,
      "outputs": []
    },
    {
      "cell_type": "code",
      "metadata": {
        "id": "MWbW_nLqN74I",
        "colab_type": "code",
        "colab": {}
      },
      "source": [
        "%%R\n",
        "z=qnorm((1+C)/2)"
      ],
      "execution_count": 0,
      "outputs": []
    },
    {
      "cell_type": "code",
      "metadata": {
        "id": "2ivIo9IDN9Wi",
        "colab_type": "code",
        "colab": {}
      },
      "source": [
        "%%R\n",
        "sigma = 500"
      ],
      "execution_count": 0,
      "outputs": []
    },
    {
      "cell_type": "code",
      "metadata": {
        "id": "3ils_B5nOCE7",
        "colab_type": "code",
        "colab": {}
      },
      "source": [
        "%%R\n",
        "n = length(x)\n",
        "xbar = mean(x)"
      ],
      "execution_count": 0,
      "outputs": []
    },
    {
      "cell_type": "code",
      "metadata": {
        "id": "JFOvICefOFDn",
        "colab_type": "code",
        "outputId": "f21cc481-7de6-4faf-ac75-a9e9b0a48f87",
        "colab": {
          "base_uri": "https://localhost:8080/",
          "height": 35
        }
      },
      "source": [
        "#lower bound\n",
        "%%R\n",
        "xbar-z*(sigma/sqrt(n))"
      ],
      "execution_count": 0,
      "outputs": [
        {
          "output_type": "display_data",
          "data": {
            "text/plain": [
              "[1] 2996.165\n"
            ]
          },
          "metadata": {
            "tags": []
          }
        }
      ]
    },
    {
      "cell_type": "code",
      "metadata": {
        "id": "n-tucPMuOLje",
        "colab_type": "code",
        "outputId": "105f1c6e-8575-4572-a28c-3d25460a8334",
        "colab": {
          "base_uri": "https://localhost:8080/",
          "height": 232
        }
      },
      "source": [
        "#In the case when population variance is unkown\n",
        "!wget https://lagunita.stanford.edu/assets/courseware/v1/ac6d73b9ae9373cf7d45496e886bdc17/asset-v1:OLI+ProbStat+Open_Jan2017+type@asset+block/sleep.RData"
      ],
      "execution_count": 0,
      "outputs": [
        {
          "output_type": "stream",
          "text": [
            "--2019-05-29 15:33:30--  https://lagunita.stanford.edu/assets/courseware/v1/ac6d73b9ae9373cf7d45496e886bdc17/asset-v1:OLI+ProbStat+Open_Jan2017+type@asset+block/sleep.RData\n",
            "Resolving lagunita.stanford.edu (lagunita.stanford.edu)... 54.176.179.4, 13.57.143.231\n",
            "Connecting to lagunita.stanford.edu (lagunita.stanford.edu)|54.176.179.4|:443... connected.\n",
            "HTTP request sent, awaiting response... 200 OK\n",
            "Length: 292 [application/octet-stream]\n",
            "Saving to: ‘sleep.RData’\n",
            "\n",
            "\rsleep.RData           0%[                    ]       0  --.-KB/s               \rsleep.RData         100%[===================>]     292  --.-KB/s    in 0s      \n",
            "\n",
            "2019-05-29 15:33:31 (33.1 MB/s) - ‘sleep.RData’ saved [292/292]\n",
            "\n"
          ],
          "name": "stdout"
        }
      ]
    },
    {
      "cell_type": "code",
      "metadata": {
        "id": "wAO4EwXrOY7Y",
        "colab_type": "code",
        "outputId": "23efaa23-1896-4f6b-8c59-e3220874da8f",
        "colab": {
          "base_uri": "https://localhost:8080/",
          "height": 141
        }
      },
      "source": [
        "%%R\n",
        "load('sleep.RData')\n",
        "head(sleep)\n"
      ],
      "execution_count": 0,
      "outputs": [
        {
          "output_type": "display_data",
          "data": {
            "text/plain": [
              "  sleep\n",
              "1     5\n",
              "2     7\n",
              "3     6\n",
              "4     6\n",
              "5     5\n",
              "6     6\n"
            ]
          },
          "metadata": {
            "tags": []
          }
        }
      ]
    },
    {
      "cell_type": "code",
      "metadata": {
        "id": "xQ8aAzLROd09",
        "colab_type": "code",
        "outputId": "4c7aa0cc-eed4-4b73-ec1e-784e101f11fa",
        "colab": {
          "base_uri": "https://localhost:8080/",
          "height": 70
        }
      },
      "source": [
        "%%R\n",
        "t.test(sleep$sleep, conf.level=0.95)$conf.int\n"
      ],
      "execution_count": 0,
      "outputs": [
        {
          "output_type": "display_data",
          "data": {
            "text/plain": [
              "[1] 7.090439 7.620828\n",
              "attr(,\"conf.level\")\n",
              "[1] 0.95\n"
            ]
          },
          "metadata": {
            "tags": []
          }
        }
      ]
    },
    {
      "cell_type": "markdown",
      "metadata": {
        "id": "9piawZcOOqwM",
        "colab_type": "text"
      },
      "source": [
        "###Population proportion"
      ]
    },
    {
      "cell_type": "markdown",
      "metadata": {
        "id": "Y-2ozGE7Owot",
        "colab_type": "text"
      },
      "source": [
        "Determing the sample size for a given margin of error in estimating proportions\n",
        "\n",
        "Just as for means, we have the same flexibility in determining sample size to achieve a desired margin of error for estimating the population proportion. \n",
        "\n",
        "Example: lets say our z* is = 2 so 95%. The 95% confidence interval for p is $\\hat{p} \\pm z^* . \\sqrt{\\frac{\\hat{p}(1-\\hat{p})}{n}}$ the margin of error then is, $m = 2 \\sqrt{\\frac{\\hat{p}(1-\\hat{p})}{n}}$. Now we isolate n i.e. express it as a function of m: $n =\\frac{ 4\\hat{p}(1-\\hat{p} ) } {m^2} $ There is a practical problem with this expression we need to overcome. You first determine the sample size, then choose random sample of that size, then collect data to find $\\hat{p}$![alt text](https://lagunita.stanford.edu/assets/courseware/v1/bd15bcfea26ed5c7ab54a93383206c34/asset-v1:OLI+ProbStat+Open_Jan2017+type@asset+block/inference_inference_one_variable_image095.gif)\n",
        "\n",
        "So the fact that the expression for determining sample size depends on $\\hat{p}$ is problematic. The way to overcome this is to set $\\hat{p} = \\frac{1}{2}$. Why is this approach called conservative? Because the expression that appears in the numerator $4\\hat{p}(1-\\hat{p} )$ is maximized when $\\hat{p} = \\frac{1}{2}$. That way the n we get will work in giving us the desired margin of error regardless of what value $\\hat{p}$ is. So we get: $n =\\frac{ 4(\\frac{1}{2}) (1-\\frac{1}{2} ) } {m^2} = \\frac{1}{m^2}$.  \n",
        "\n",
        "####When to use?\n",
        "\n",
        "To repeat, it is important to know with any inference method under what conditions is it safe to use. The sampling distribution of the sample proportion $\\hat{p}$ is roughly normal. We also want $n . \\hat{p} \\geq 10$ and $n . (1 - \\hat{p}) \\geq 10$ to be the conditions which it is safe. "
      ]
    },
    {
      "cell_type": "code",
      "metadata": {
        "id": "YQqoWODqOffx",
        "colab_type": "code",
        "outputId": "044910d8-3df7-44ce-a203-8a0b1e8ead60",
        "colab": {
          "base_uri": "https://localhost:8080/",
          "height": 232
        }
      },
      "source": [
        "!wget https://lagunita.stanford.edu/assets/courseware/v1/0fcbc4cba93dcf51e4564d54a6163ef6/asset-v1:OLI+ProbStat+Open_Jan2017+type@asset+block/guns.RData"
      ],
      "execution_count": 0,
      "outputs": [
        {
          "output_type": "stream",
          "text": [
            "--2019-05-29 17:59:54--  https://lagunita.stanford.edu/assets/courseware/v1/0fcbc4cba93dcf51e4564d54a6163ef6/asset-v1:OLI+ProbStat+Open_Jan2017+type@asset+block/guns.RData\n",
            "Resolving lagunita.stanford.edu (lagunita.stanford.edu)... 13.57.143.231, 54.176.179.4\n",
            "Connecting to lagunita.stanford.edu (lagunita.stanford.edu)|13.57.143.231|:443... connected.\n",
            "HTTP request sent, awaiting response... 200 OK\n",
            "Length: 389 [application/octet-stream]\n",
            "Saving to: ‘guns.RData’\n",
            "\n",
            "\rguns.RData            0%[                    ]       0  --.-KB/s               \rguns.RData          100%[===================>]     389  --.-KB/s    in 0s      \n",
            "\n",
            "2019-05-29 17:59:55 (56.9 MB/s) - ‘guns.RData’ saved [389/389]\n",
            "\n"
          ],
          "name": "stdout"
        }
      ]
    },
    {
      "cell_type": "code",
      "metadata": {
        "id": "DALw2yi7v4o3",
        "colab_type": "code",
        "outputId": "7afeaacf-1539-44a6-92fc-da20431b873d",
        "colab": {
          "base_uri": "https://localhost:8080/",
          "height": 141
        }
      },
      "source": [
        "%%R\n",
        "load('guns.RData')\n",
        "head(support)"
      ],
      "execution_count": 0,
      "outputs": [
        {
          "output_type": "display_data",
          "data": {
            "text/plain": [
              "        opinion\n",
              "1 not satisfied\n",
              "2     satisfied\n",
              "3 not satisfied\n",
              "4 not satisfied\n",
              "5 not satisfied\n",
              "6 not satisfied\n"
            ]
          },
          "metadata": {
            "tags": []
          }
        }
      ]
    },
    {
      "cell_type": "code",
      "metadata": {
        "id": "eFYDlzODv9In",
        "colab_type": "code",
        "outputId": "31405046-a0fc-42b9-8167-e9e5fef540c1",
        "colab": {
          "base_uri": "https://localhost:8080/",
          "height": 35
        }
      },
      "source": [
        "%%R\n",
        "n=length(support$opinion);n\n"
      ],
      "execution_count": 0,
      "outputs": [
        {
          "output_type": "display_data",
          "data": {
            "text/plain": [
              "[1] 1200\n"
            ]
          },
          "metadata": {
            "tags": []
          }
        }
      ]
    },
    {
      "cell_type": "code",
      "metadata": {
        "id": "2dUUzXmEwAwV",
        "colab_type": "code",
        "outputId": "fff36094-80e7-4f75-83c6-bfe02ae779dc",
        "colab": {
          "base_uri": "https://localhost:8080/",
          "height": 70
        }
      },
      "source": [
        "%%R\n",
        "t=table(support$opinion);t\n"
      ],
      "execution_count": 0,
      "outputs": [
        {
          "output_type": "display_data",
          "data": {
            "text/plain": [
              "\n",
              "not satisfied     satisfied \n",
              "         1058           142 \n"
            ]
          },
          "metadata": {
            "tags": []
          }
        }
      ]
    },
    {
      "cell_type": "code",
      "metadata": {
        "id": "AEB27S97wC-u",
        "colab_type": "code",
        "outputId": "c9f87d9b-6ed1-4de1-9f2f-df62f43dee63",
        "colab": {
          "base_uri": "https://localhost:8080/",
          "height": 230
        }
      },
      "source": [
        "#calculate confidence interval that is not satisfied\n",
        "%%R\n",
        "prop.test(t[1],n,conf.level=0.95)\n"
      ],
      "execution_count": 0,
      "outputs": [
        {
          "output_type": "display_data",
          "data": {
            "text/plain": [
              "\n",
              "\t1-sample proportions test with continuity correction\n",
              "\n",
              "data:  t[1] out of n, null probability 0.5\n",
              "X-squared = 697.69, df = 1, p-value < 2.2e-16\n",
              "alternative hypothesis: true p is not equal to 0.5\n",
              "95 percent confidence interval:\n",
              " 0.8617191 0.8991231\n",
              "sample estimates:\n",
              "        p \n",
              "0.8816667 \n",
              "\n"
            ]
          },
          "metadata": {
            "tags": []
          }
        }
      ]
    },
    {
      "cell_type": "markdown",
      "metadata": {
        "id": "z0RsiYrmwNzg",
        "colab_type": "text"
      },
      "source": [
        "###Hypothesis Testing"
      ]
    },
    {
      "cell_type": "markdown",
      "metadata": {
        "id": "cPBt84L0wQ2D",
        "colab_type": "text"
      },
      "source": [
        "We have already talked about point/interval estimation, now we talk about the other kind of inference, hypothesis testing, where the goal is estimating the unknown parameter.\n",
        "\n",
        "Example:\n",
        "\n",
        "There are 2 opposing claims:\n",
        "\n",
        "- the student's claim\n",
        "- the instructors claim\n",
        "\n",
        "Adherring to innocent until proven guilty, there is a call for evidence to support the instructors claim. They do. The committee agree it is unlikely to get evidence like that if the student's claim was true. \n",
        "\n",
        "Statistical hypothesis testing is: Assesing evidence provided by the data in favor of or against some claim about the population. \n",
        "\n",
        "Here's how it works:\n",
        "\n",
        "- we have two claims. \n",
        "- we choose a sample, collect relevant data and summarize\n",
        "- we figure out how likely it is to observe data like the data we got, had claim 1 been true. \n",
        "- make our decision: if claim 1 were true it would be extremely unlikely to observe the data we observed and we have a strong evident against claim 1 and we reject it in favour of claim 1. If claim 1 were true observing the data we observed is not very unlikely, then we do not have enough evidence against claim 1 and thus cannot reject it in favour of claim 2.![alt text](https://lagunita.stanford.edu/assets/courseware/v1/8fb27bd1de34a0614bdd1188be7f5d6a/asset-v1:OLI+ProbStat+Open_Jan2017+type@asset+block/inference_inference_one_variable_image205.gif)\n",
        "\n",
        "####Terminology\n",
        "\n",
        "- Step 1: Stating the claims\n",
        "\n",
        "In hypothesis testing Claim 1 is called the null hypothesis H0 and claim 2 is the alternative hypothesis Ha. The null hypothesis suggests nothing special is going on, there is not change from the status quo, no relationship. The alternative suggests the opposite, the alternate hypothesis is what we want to test. For instance, H0 is the proporiton of smokers with good hearts is 0.2, Ha the proportion of smokers with good hearts is less than 0.2.\n",
        "\n",
        "- Step 2: Choosing a sample and collecting data\n",
        "\n",
        "This step is obvious with one addition. We collect data and summarize it. You need to collect sample proportion, sample mean and sample std. AND, use these to summarize the data with a test statistic. \n",
        "\n",
        "- Step 3: Assessing the evidence\n",
        "\n",
        "We calculate how likely is it to get data like that observed when H0 is true. If this probability is very small, then it means it would be surprising to get data like that observed if H0 were true. The fact we did observe such data is evidence against H0 and we should reject it. On the other hand, if this probability is not small then evidence against H0 is not provided. This crucial probability is called the **p-value** of the test. The smaller the p-value the more surprising it is to get data like ours when H0 is true and thus the stronger the evidence the data provide against H0. \n",
        "\n",
        "- Step 4: Making conclusions\n",
        "\n",
        "Since our conclusion is based on p-value i.e. how surprising our data are when H0 is true it would be nice to have a cutoff that helps determine how small the -value must be or how rare our data must be when H0 is true to conclude we have enough evidence to reject H0.\n",
        "\n",
        "This cutoff is called the **significance level of the test** and is denoted by $\\alpha$. The most common is $\\alpha$ = 0.05 (5%). \n",
        "\n",
        "- if p-value < $\\alpha$ (0.05) then the data we got is rare or suprising enough when H0 is true and we say the data provide significant evidence against H0 so reject H0 accept Ha. \n",
        "- if p-value > $\\alpha$ (0.05) then the data is not surprising enough. \n",
        "\n",
        "The results are statistically significant when p-value < $\\alpha$ and vice versa. \n",
        "\n",
        "There is alot of wiggle room say 0.052 you may conclude as statistically significant. \n",
        "\n",
        "\"*It is important to draw your conclusions in context. It is never enough to say: \"p-value = ..., and therefore I have enough evidence to reject Ho at the .05 significance level.\"You should always add: \"... and conclude that ... (what it means in the context of the problem)\".*\"\n",
        "\n",
        "\"*Either I reject Ho and accept Ha (when the p-value is smaller than the significance level) or I cannot reject Ho (when the p-value is larger than the significance level).*\"\n",
        "\n",
        "The second conclusion does not imply I accept H0 but that we don't have enough evidence to reject it. "
      ]
    },
    {
      "cell_type": "code",
      "metadata": {
        "id": "D8PAgX0qwJLg",
        "colab_type": "code",
        "colab": {}
      },
      "source": [
        ""
      ],
      "execution_count": 0,
      "outputs": []
    },
    {
      "cell_type": "markdown",
      "metadata": {
        "id": "rcxwPnkA3_07",
        "colab_type": "text"
      },
      "source": [
        "###Hypothesis testing for population proportion p"
      ]
    },
    {
      "cell_type": "markdown",
      "metadata": {
        "id": "cTLlSwIO4Gvl",
        "colab_type": "text"
      },
      "source": [
        "####Z-test for the population proportion\n",
        "\n",
        "4 basic steps in hypothesis testing:\n",
        "\n",
        "1. State the null and alternative hypotheses.\n",
        "\n",
        "2. Collect relevant data from a random sample and summarize them (using a test statistic).\n",
        "\n",
        "3. Find the p-value, the probability of observing data like those observed assuming that Ho is true.\n",
        "\n",
        "- The z-score of a normal variable is: $z = \\frac{value - mean}{standard deviation}$ and it represents how many std below or above the mean the value is. The test statistic for this test measures the difference between the sample proportion $\\hat{p}$ and null value $p_0$ by the z-score of the sample proportion assuming the null hypothesis is true i.e. $p=p_0$.\n",
        "- We conclude that z-score of $\\hat{p}$ when $p=p_0$ is $z = \\frac{\\hat{p}-p_0}{\\sqrt\\frac{p_0(1-p_0)}{n}}$. This is the test statistic. It represents the difference betwen sample proportion and null value measured in standard deviations. \n",
        "![alt text](https://lagunita.stanford.edu/assets/courseware/v1/2b46a90f75d7a4fd914a5a5095260b52/asset-v1:OLI+ProbStat+Open_Jan2017+type@asset+block/inference_inference_one_variable_image237.gif)\n",
        "\n",
        "![alt text](https://lagunita.stanford.edu/assets/courseware/v1/9de6d3f054b81ba5064688a65b8ffe91/asset-v1:OLI+ProbStat+Open_Jan2017+type@asset+block/inference_inference_one_variable_image238.gif)\n",
        "\n",
        "Since the null hypothesis is Ho: p = 0.20, the standardized score of $\\hat{p}=0.16$ is $z = \\frac{0.16-0.20}{\\sqrt\\frac{0.20(1-0.20)}{400}} = -2$. What does this tell me? This z-score of -2 tells me assuming H0 is true, the sample proportion $\\hat{p}=0.16$ is 2 standard deviations below the null value 0.20.\n",
        "\n",
        "4. Based on the p-value, decide whether we have enough evidence to reject Ho (and accept Ha), and draw our conclusions in context.\n",
        "\n",
        "\"*You can think about this test statistic as a measure of evidence in the data against Ho. The larger the test statistic, the \"further the data are from Ho\" and therefore the more evidence the data provide against Ho.*\"\n",
        "\n",
        "It should be clear why this test is known as the z-test for the population proportion since its based on a test statistic that is a z-score.\n",
        "\n",
        "####Finding the P-value of the Test\n",
        "\n",
        "The p-value is the probability of obtaining data like those observed assuming H0 is true. Thus, it is a measure of the evidence against H0. In the case of the test statistic, the larger it is in magnitude positive or negative, the further $\\hat{p}$ from $p_0$, the more evidence we have against H0. In the case of the p-value, the opposite is true; the smaller it is the more unlikely it is to get data like those observed when H0 is true, the more evidence it is against H0. \n",
        "\n",
        "How is the p-value calculated?\n",
        "\n",
        "\"*The p-value is the probability of observing a test statistic as extreme as that observed (or even more extreme) assuming that the null hypothesis is true.*\" \n",
        "\n",
        "By extreme we mean extreme in the direction of the alternative hypothesis. \n",
        "\n",
        "1. if alternative hypothesis is $H_a : p \\leq p_0$ less than, then extreme means small and the p-value is the probability of observing a test statistic as small as that observed or smaller if the null hypothesis is true. \n",
        "2. the opposite is true if greather than. \n",
        "3. if the alternative is $H_a : p \\neq p_0$ (different from), then \"extreme\" means extreme in either direction either small or large (i.e., large in magnitude), and the p-value therefore is:\n",
        "\n",
        "The probability of observing a test statistic as large in magnitude as that observed or larger if the null hypothesis is true.\n",
        "\n",
        "Recall the test statistic, the possible values of our test statistic follow a standard normal distribution. Thus, the p-value which assume H0 to be true are simply standard normal distribution calculations for the 3 possible alternative hypothesis. \n",
        "\n",
        "The probability of observing a test statistic as small as that observed or smaller.\n",
        "![alt text](https://lagunita.stanford.edu/assets/courseware/v1/a273c945f1e4c51e6ee6c291edc736dd/asset-v1:OLI+ProbStat+Open_Jan2017+type@asset+block/inference_inference_one_variable_image258.gif)\n",
        "![alt text](https://lagunita.stanford.edu/assets/courseware/v1/1e60866b52d14bd909437b08665a07a3/asset-v1:OLI+ProbStat+Open_Jan2017+type@asset+block/inference_inference_one_variable_image259.gif)\n",
        "\n",
        "Looking at shaded region, you can see it is a left-tailed test. \n",
        "\n",
        "For a not equal to:\n",
        "\n",
        "The probability of observing a test statistic which is as large as in magnitude as that observed or larger, assuming normal distribution.\n",
        "\n",
        "![alt text](https://lagunita.stanford.edu/assets/courseware/v1/bee437a25ff693d9b6e82a14cdc2c1eb/asset-v1:OLI+ProbStat+Open_Jan2017+type@asset+block/inference_inference_one_variable_image262.gif)\n",
        "![alt text](https://lagunita.stanford.edu/assets/courseware/v1/cfd147b0aa2265427cdd2b0b6b765863/asset-v1:OLI+ProbStat+Open_Jan2017+type@asset+block/inference_inference_one_variable_image263.gif)\n",
        "\n",
        "This is two-tailed test. \n",
        "\n",
        "####Concepts of Critical Value Method\n",
        "\n",
        "The critical value is the value which cuts off an area referred to as the critical region or area of rejection as applied to the z-test. ![alt text](https://lagunita.stanford.edu/assets/courseware/v1/845cfce588b8ab2af15579eabc941d5c/asset-v1:OLI+ProbStat+Open_Jan2017+type@asset+block/inference_inference_one_variable_critical_value_image1.png)\n",
        "\n",
        "When z test statistics fall in the critical region (blue region) they are far from enough from the mean that they are significantly different from the mean, thus, the null hypothesis would be rejected. \n",
        "\n",
        "![alt text](https://lagunita.stanford.edu/assets/courseware/v1/9ed50afcdfe15ddc91c7d3614a0b15c1/asset-v1:OLI+ProbStat+Open_Jan2017+type@asset+block/inference_inference_one_variable_critical_value_image3.png)\n",
        "\n",
        "\"*The critical value method uses two concepts: 1) the critical value and 2) the critical region. The critical value is used to determine the critical region and is based on two things: 1) the significance level of the test (either 0.05 or 0.01) AND the direction of the test (ex, left-tailed, right-tailed, or two-tailed).*\n",
        "\n",
        "*When z-test statistic falls in the critical region, it is far enough from the mean that it is significantly different from the mean. Therefore, in this instance, the null hypothesis would be rejected at the significance level used to determine the critical region (either 0.05 or 0.01). Furthermore, the actual p-value can be determined by using the Normal Table.*\"\n",
        "\n",
        "Example: Poll of 293 districts with 5,019 voters, 178 would support some measure. A hypothesis test was conducted to determine if it would pass with the required 55% of the vote.\n",
        "\n",
        "![alt text](https://lagunita.stanford.edu/assets/courseware/v1/3c58b4eb26ca6b529be2b38b08dac6ba/asset-v1:OLI+ProbStat+Open_Jan2017+type@asset+block/inference_inference_one_variable_1_img6.gif)\n",
        "\n",
        "\"Here are several ways you could describe the p-value: This **p-value of 0.024 tells us that it is very unlikely to get data like those observed**, assuming Ho is true. (This is the least precise description of the four given here.) The p-value is the probability of observing a test statistic as large as 1.98 or larger, assuming Ho is true. The p-value is the probability of observing a sample proportion that is 1.98 standard deviations or more above po = 0.55, assuming that the true population proportion is 0.55. The p-value is the probability of observing a sample proportion of 0.608 or higher in a random sample of size 293 when the true population proportion is 0.55.\"\n",
        "\n",
        "####Drawing Conclusions based on the P-value\n",
        "\n",
        "The p-value is a measure of how much evidence the data present against Ho. The smaller the p-value, the more evidence the data present against Ho.\n",
        "\n",
        "We already mentioned that what determines what constitutes enough evidence against Ho is the significance level (α), a cutoff point below which the p-value is considered small enough to reject Ho in favor of Ha. The most commonly used significance level is 0.05.\n",
        "\n",
        "It is important to mention again that this step has essentially two sub-steps:\n",
        "\n",
        "(i) Based on the p-value, determine whether or not the results are significant (i.e., the data present enough evidence to reject Ho).\n",
        "\n",
        "(ii) State your conclusions in the context of the problem.\n",
        "\n",
        "####Summary\n",
        "\n",
        "Step 1\n",
        "State the null and alternative hypotheses:\n",
        "\n",
        "H_a : p { one of <, >, or ≠ } p_0\n",
        "\n",
        "where the choice of the appropriate alternative (out of the three) is usually quite clear from the context of the problem.\n",
        "\n",
        "Step 2\n",
        "Obtain data from a sample and:\n",
        "\n",
        "(i) Check whether the data satisfy the conditions which allow you to use this test.\n",
        "\n",
        "Random sample (or at least a sample that can be considered random in context)\n",
        "n ⋅ p0 ≥ 10, n ⋅ (1 − p0) ≥ 10\n",
        "(ii) Calculate the sample proportion , and summarize the data using the test statistic.\n",
        "\n",
        "(Recall: This standardized test statistic represents how many standard deviations above or below  our sample proportion  is. )\n",
        "\n",
        "Step 3\n",
        "Find the p-value of the test either by using software or by using the test statistic.\n",
        "\n",
        "Step 4\n",
        "Reach a conclusion first regarding the significance of the results, and then determine what it means in the context of the problem. Recall that:\n",
        "\n",
        "If the p-value is small (in particular, smaller than the significance level, which is usually 0.05), the results are significant (in the sense that there is a significant difference between what was observed in the sample and what was claimed in Ho), and so we reject Ho. If the p-value is not small, we do not have enough statistical evidence to reject Ho, and so we continue to believe that Ho may be true. (Remember, in hypothesis testing we never \"accept\" Ho)."
      ]
    },
    {
      "cell_type": "code",
      "metadata": {
        "id": "Jr4MM4Jb4DPh",
        "colab_type": "code",
        "outputId": "c128a418-c1ba-49be-fff4-c93f34d4a471",
        "colab": {
          "base_uri": "https://localhost:8080/",
          "height": 52
        }
      },
      "source": [
        "%%R\n",
        "prop.test()\n",
        "#R doesnt use z-test but chi-square (x2) test\n"
      ],
      "execution_count": 0,
      "outputs": [
        {
          "output_type": "stream",
          "text": [
            "\n",
            "Error in is.table(x) : argument \"x\" is missing, with no default\n"
          ],
          "name": "stdout"
        }
      ]
    },
    {
      "cell_type": "code",
      "metadata": {
        "id": "VT0NqzE5H_1n",
        "colab_type": "code",
        "outputId": "951cc2bb-9e57-443d-88ed-27876106cc3e",
        "colab": {
          "base_uri": "https://localhost:8080/",
          "height": 230
        }
      },
      "source": [
        "%%R\n",
        "p = prop.test(x=40,n=316,p=0.035,alternative=\"greater\",conf.level=0.95, correct=FALSE);p"
      ],
      "execution_count": 0,
      "outputs": [
        {
          "output_type": "display_data",
          "data": {
            "text/plain": [
              "\n",
              "\t1-sample proportions test without continuity correction\n",
              "\n",
              "data:  40 out of 316, null probability 0.035\n",
              "X-squared = 78.472, df = 1, p-value < 2.2e-16\n",
              "alternative hypothesis: true p is greater than 0.035\n",
              "95 percent confidence interval:\n",
              " 0.09895287 1.00000000\n",
              "sample estimates:\n",
              "        p \n",
              "0.1265823 \n",
              "\n"
            ]
          },
          "metadata": {
            "tags": []
          }
        }
      ]
    },
    {
      "cell_type": "code",
      "metadata": {
        "id": "T3ePfpasIKkX",
        "colab_type": "code",
        "outputId": "f9ae259c-b37d-41ae-fb44-18274593f829",
        "colab": {
          "base_uri": "https://localhost:8080/",
          "height": 52
        }
      },
      "source": [
        "%%R\n",
        "#we can pull the x-squared from the table\n",
        "p$statistic\n"
      ],
      "execution_count": 0,
      "outputs": [
        {
          "output_type": "display_data",
          "data": {
            "text/plain": [
              "X-squared \n",
              " 78.47198 \n"
            ]
          },
          "metadata": {
            "tags": []
          }
        }
      ]
    },
    {
      "cell_type": "code",
      "metadata": {
        "id": "34fwStVtIOao",
        "colab_type": "code",
        "outputId": "047556c6-8cdf-4de2-f2b3-59238b265acb",
        "colab": {
          "base_uri": "https://localhost:8080/",
          "height": 52
        }
      },
      "source": [
        "%%R\n",
        "#referred to as the chi-square (χ2) test statistic. \n",
        "#The χ2 test statistic is equivalent to z2, so we \n",
        "#can determine the z-test statistic by calculating\n",
        "# z = sqrt (X-squared)\n",
        "z = sqrt(p$statistic);z\n"
      ],
      "execution_count": 0,
      "outputs": [
        {
          "output_type": "display_data",
          "data": {
            "text/plain": [
              "X-squared \n",
              " 8.858441 \n"
            ]
          },
          "metadata": {
            "tags": []
          }
        }
      ]
    },
    {
      "cell_type": "markdown",
      "metadata": {
        "id": "yEIHLNyOIorc",
        "colab_type": "text"
      },
      "source": [
        "####Effect of sample size\n",
        "\n",
        "Issues regarding hypothesis testing are:\n",
        "\n",
        "1. The effect of sample size on hypothesis testing.\n",
        "\n",
        "The larger the sample sizes the more info to pin down the true nature of the population. We can expect sample mean and sample proportion from a larger sample to be closer to population. Thus, we get a smaller margin of error, narrower CI. It boosts how much we trust our sample results and it works the same for hypothesis testing. \n",
        "\n",
        "Example of when sample size leads to problems:\n",
        "\n",
        "![alt text](https://lagunita.stanford.edu/assets/courseware/v1/f14676b245f7dee8e110b3306f573f5d/asset-v1:OLI+ProbStat+Open_Jan2017+type@asset+block/inference_inference_one_variable_image276.gif)\n",
        "\n",
        "2. Statistical significance vs. practical importance. \n",
        "\n",
        "3. One-sided alternative vs. two-sided alternative—understanding what is going on.\n",
        "\n",
        "4. Hypothesis testing and confidence intervals—how are they related?\n",
        "\n",
        "Results that are based on a **larger sample carry more weight**, and therefore as the sample size increases, results become more significant.\n",
        "\n",
        "**Even a very small and practically unimportant effect becomes statistically significant with a large enough sample size.** The distinction between statistical significance and practical importance should therefore always be considered.\n",
        "\n",
        "For given data, **the p-value of the two-sided test is always twice as large as the p-value of the one-sided test.** It is therefore harder to reject Ho in the two-sided case than it is in the one-sided case in the sense that stronger evidence is required. Intuitively, the hunch or information that leads us to use the one-sided test can be regarded as a head-start toward the goal of rejecting Ho.\n",
        "\n",
        "Confidence intervals can be used in order to carry out two-sided tests (at the 0.05 significance level). **If the null value is not included in the confidence interval** (i.e., is not one of the plausible values for the parameter), we have enough evidence to reject Ho. Otherwise, we cannot reject Ho.\n",
        "\n",
        "If the results are significant, it might be of interest to follow up the tests with a confidence interval in order to get insight into the actual value of the parameter of interest.\n",
        "\n",
        "\n"
      ]
    },
    {
      "cell_type": "markdown",
      "metadata": {
        "id": "QatSyd5hLi87",
        "colab_type": "text"
      },
      "source": [
        "###Hypothesis Testing for Population Mean"
      ]
    },
    {
      "cell_type": "markdown",
      "metadata": {
        "id": "KrS7mr8SLols",
        "colab_type": "text"
      },
      "source": [
        "####1. Stating the Hypothesis\n",
        "\n",
        "The null and alternative hypotheses for the z-test for the population mean (μ) have exactly the same structure as the hypotheses for z-test for the population proportion.\n",
        "\n",
        "####3. Finding the p-value of the test\n",
        "\n",
        "The p-value — the probability of getting data (summarized with the test statistic) as extreme as those observed or even more extreme (in the direction of the alternative hypothesis) when Ho is true — for the z-test for the population mean is found exactly like the p-value in the z-test for the population proportion. \n",
        "\n"
      ]
    },
    {
      "cell_type": "markdown",
      "metadata": {
        "id": "TWdUI1ddMrL4",
        "colab_type": "text"
      },
      "source": [
        "###Hypothesis testing for population Mean: the t Distribution"
      ]
    },
    {
      "cell_type": "markdown",
      "metadata": {
        "id": "W_DcRLzjMv_Z",
        "colab_type": "text"
      },
      "source": [
        "####Tests About μ When σ is Unknown—The t-test for the Population Mean\n",
        "\n",
        "What can we use to replace σ? Well find the sample std S and use it instead of σ. \n",
        "\n",
        "![alt text](https://lagunita.stanford.edu/assets/courseware/v1/cc5fcdd4bcb3052776ee06166023edec/asset-v1:OLI+ProbStat+Open_Jan2017+type@asset+block/inference_inference_one_variable_image355.gif)\n",
        "\n",
        "Is that it? No, we have to get the t-test for the population mean and in what it differs from the z-test. \n",
        "\n",
        "1. State hypothesis like before.\n",
        "2. Check conditions which t-test can be used safely and summarize the data. \n",
        "- sample is random\n",
        "- ![alt text](https://lagunita.stanford.edu/assets/courseware/v1/ce8e12bb79cf3a62479e9beaa7f6a9c0/asset-v1:OLI+ProbStat+Open_Jan2017+type@asset+block/inference_inference_one_variable_image325.gif)\n",
        "\n",
        "Assuming conditions are met, calculate sample mean and sample std and summarize with test statistic. The test statistic for the population mean is thus:\n",
        "\n",
        "$t = \\frac {\\bar{x} - \\mu_0} { \\frac {s} {\\sqrt{n}} }$, the change is in the denominator, while in z-test we divide by standard deviation, here we divide by the standard error. The t-test statistic does not follow normal distribution but a bell-shaped distribution called the t-distribution. \n",
        "\n",
        "####The t-distribution\n",
        "\n",
        "It is a bell-shaped unimodal and symmetric distribution; the center of t distribution is standardized at 0 like in the normal case. It differs in the spread.![alt text](https://lagunita.stanford.edu/assets/courseware/v1/c90db4c239d6ba38035fbc6af3ce41cd/asset-v1:OLI+ProbStat+Open_Jan2017+type@asset+block/inference_inference_one_variable_image363.gif)\n",
        "The T has less area near the expected central value and has more area in the tails. Meaning it has a larger spread and more variability. \n",
        "\n",
        "The t distributions that are clsoer to normal are said to have higher degrees of freedom, so there's t's with 1 degree of freedom another t with 2 degrees of freedom are closer to normal. ![alt text](https://lagunita.stanford.edu/assets/courseware/v1/10c1955ab17cd422913c81e1cf65edcb/asset-v1:OLI+ProbStat+Open_Jan2017+type@asset+block/inference_inference_one_variable_image417.gif)\n",
        "\n",
        "In the equation for the z score there is one source of variabilit i.e. the sample mean, in the t we have 2 the sampling variability of the sample mean and sampling variability of sample std. \n",
        "\n",
        "![alt text](https://lagunita.stanford.edu/assets/courseware/v1/22608d2e5e883c780775157dea45832a/asset-v1:OLI+ProbStat+Open_Jan2017+type@asset+block/inference_inference_one_variable_image365.gif)\n",
        "\n",
        "\"*Recall that each t distribution is indexed according to \"degrees of freedom.\" Notice that, in the context of a test for a mean, the degrees of freedom depend on the sample size in the study. Remember that we said that higher degrees of freedom indicate that the t distribution is closer to normal. So in the context of a test for the mean, the larger the sample size, the higher the degrees of freedom, and the closer the t distribution is to a normal z distribution.*\"\n",
        "\n",
        "![alt text](https://lagunita.stanford.edu/assets/courseware/v1/c6a38873bdc250b6fa0e5b14d2013fe3/asset-v1:OLI+ProbStat+Open_Jan2017+type@asset+block/inference_inference_one_variable_image419.gif)\n",
        "\n",
        "####3. Finding the p-value\n",
        "\n",
        "The p-value of the t-test is found the same way as it is for the z-test, except that the t distribution is used instead of the Z-distribution."
      ]
    },
    {
      "cell_type": "code",
      "metadata": {
        "id": "6SPkx78VIceK",
        "colab_type": "code",
        "outputId": "20127b1e-b16e-4522-a109-ff334b70bf8b",
        "colab": {
          "base_uri": "https://localhost:8080/",
          "height": 232
        }
      },
      "source": [
        "!wget https://lagunita.stanford.edu/assets/courseware/v1/dbb49eeadf411b12ad2a1a78b837f9d5/asset-v1:OLI+ProbStat+Open_Jan2017+type@asset+block/drinks.RData"
      ],
      "execution_count": 0,
      "outputs": [
        {
          "output_type": "stream",
          "text": [
            "--2019-05-29 20:25:37--  https://lagunita.stanford.edu/assets/courseware/v1/dbb49eeadf411b12ad2a1a78b837f9d5/asset-v1:OLI+ProbStat+Open_Jan2017+type@asset+block/drinks.RData\n",
            "Resolving lagunita.stanford.edu (lagunita.stanford.edu)... 13.57.143.231, 54.176.179.4\n",
            "Connecting to lagunita.stanford.edu (lagunita.stanford.edu)|13.57.143.231|:443... connected.\n",
            "HTTP request sent, awaiting response... 200 OK\n",
            "Length: 217 [application/octet-stream]\n",
            "Saving to: ‘drinks.RData’\n",
            "\n",
            "\rdrinks.RData          0%[                    ]       0  --.-KB/s               \rdrinks.RData        100%[===================>]     217  --.-KB/s    in 0s      \n",
            "\n",
            "2019-05-29 20:25:37 (33.3 MB/s) - ‘drinks.RData’ saved [217/217]\n",
            "\n"
          ],
          "name": "stdout"
        }
      ]
    },
    {
      "cell_type": "code",
      "metadata": {
        "id": "mCQwFNGxRP2m",
        "colab_type": "code",
        "outputId": "7cd4c9a1-14e5-4e6e-9f88-d491010a75aa",
        "colab": {
          "base_uri": "https://localhost:8080/",
          "height": 141
        }
      },
      "source": [
        "%%R\n",
        "load('drinks.RData')\n",
        "head(drinks)"
      ],
      "execution_count": 0,
      "outputs": [
        {
          "output_type": "display_data",
          "data": {
            "text/plain": [
              "  drinks.per.week\n",
              "1               3\n",
              "2               8\n",
              "3               2\n",
              "4              15\n",
              "5               2\n",
              "6               2\n"
            ]
          },
          "metadata": {
            "tags": []
          }
        }
      ]
    },
    {
      "cell_type": "code",
      "metadata": {
        "id": "qacpfO58RSiu",
        "colab_type": "code",
        "outputId": "b414bae8-2c78-42f8-ac50-0ee75f82ab3e",
        "colab": {
          "base_uri": "https://localhost:8080/",
          "height": 230
        }
      },
      "source": [
        "%%R\n",
        "#perform t-test for pop mean\n",
        "t.test(drinks$drinks.per.week,mu = 4.73, alternative = \"two.sided\")"
      ],
      "execution_count": 0,
      "outputs": [
        {
          "output_type": "display_data",
          "data": {
            "text/plain": [
              "\n",
              "\tOne Sample t-test\n",
              "\n",
              "data:  drinks$drinks.per.week\n",
              "t = -1.8275, df = 74, p-value = 0.07165\n",
              "alternative hypothesis: true mean is not equal to 4.73\n",
              "95 percent confidence interval:\n",
              " 3.064735 4.801932\n",
              "sample estimates:\n",
              "mean of x \n",
              " 3.933333 \n",
              "\n"
            ]
          },
          "metadata": {
            "tags": []
          }
        }
      ]
    },
    {
      "cell_type": "markdown",
      "metadata": {
        "id": "_ec7vuvhRjbk",
        "colab_type": "text"
      },
      "source": [
        "####Type I and Type II Errors\n",
        "\n",
        "\"Statistical investigations involve making decisions in the face of uncertainty. So there is always some chance of making a wrong decision. In hypothesis testing, the following decisions can occur:\n",
        "\n",
        "If the null hypothesis is true and we do not reject it, it is a correct decision.\n",
        "If the null hypothesis is false and we reject it, it is a correct decision.\n",
        "If the null hypothesis is true, but we reject it. This is a type I error.\n",
        "If the null hypothesis is false, but we fail to reject it. This is a type II error.\n",
        "Type I and type II errors are not caused by mistakes. They are the result of random chance. The data provide evidence for a conclusion that is false. It’s no one’s fault!\""
      ]
    },
    {
      "cell_type": "markdown",
      "metadata": {
        "id": "15BTVRE0R3in",
        "colab_type": "text"
      },
      "source": [
        "###Inference for Relationships"
      ]
    },
    {
      "cell_type": "markdown",
      "metadata": {
        "id": "386dg-H4SC-E",
        "colab_type": "text"
      },
      "source": [
        "Our next (and final) goal for this course is to perform inference about relationships between two variables in a population, based on an observed relationship between variables in a sample.\n",
        "\n",
        "We will be doing hypothesis testing here:\n",
        "\n",
        "![alt text](https://lagunita.stanford.edu/assets/courseware/v1/1b94cf8984c20439f4a457a9f1d0a7d5/asset-v1:OLI+ProbStat+Open_Jan2017+type@asset+block/inference_inference_for_relationships_image002.gif)\n",
        "\n",
        "\n",
        "Recall the case C -> Q\n",
        "\n",
        "\"*We start with case C→Q, where the explanatory variable is categorical and the response variable is quantitative. Recall that in the Exploratory Data Analysis unit, examining the relationship between X and Y in this case amounts, in practice, to comparing the distributions of the (quantitative) response Y for each value (category) of the explanatory X. To do that, we used side-by-side boxplots (each representing the distribution of Y in one of the groups defined by X), and supplemented the display with the corresponding descriptive statistics.*\"\n",
        "\n",
        "Furthermore, in the sub-case of comparing 2 means i.e. examining the relationship between X and Y where X has only 2 categories we will distinguish between 2 sub-sub cases. What study design do we use? We often make comparisons between two groups (sub-populations) to see how responses differ to two possible categorical values. One group has one value and another independent group has the other. Independent samples are then taken from each group. In other cases, a matched pairs sample design may be used, where each observation in one sample is matched/paired/linked with an observation in the other sample. Sometimes called dependent samples. Matching could be by person say the same person measured twice. So when comparing more than two means we only deal with a case where the samples are independent. Comparing more than two means is called repeated measures. \n",
        "\n",
        "####Comparing Two Means - Two Independent Samples (The Two sample t-test)\n",
        "\n",
        "When k=2 catoegires of X we draw samples independently from two sub-populations. We need to evaluate if the data provides enough evidence that the two sub-pop's means are different. To do so we have 2 samples which were chosen independently. This is called **two-sample t-test**. The p-values are calculated under some t-distribution. \n",
        "\n",
        "- State the hypothesis:\n",
        "\n",
        "The null hypothesis $H_0: \\mu_1 - \\mu_2 = 0$ The alternative hypotheses are then, $H_a : \\mu_1 > \\mu_2 or \\mu_1 < \\mu_2 or \\mu_1 \\neq \\mu_2$ that there is a difference between the means. \n",
        "\n",
        "- Check conditions, and Summarize using a Test Statistic\n",
        "\n",
        "The two sample t-test can be used when: the two samples are independent, both populations are normal (the distribution of the response Y in both populations is normal), both are random, both populations are known or discovered to not be normal but the sample size is large enough > 30. \n",
        "\n",
        "The formula is:\n",
        "\n",
        "$t = \\frac { (\\bar{y_1} - \\bar{y_2}) - 0 } { \\sqrt{ \\frac{ s\\frac{2}{1} }{n_1} + \\frac{ s\\frac{2}{2} }{n_2} } } $\n",
        "\n",
        "where:\n",
        "\n",
        "$\\bar{y_1} , \\bar{y_2}$are the sample means of the samples from population 1 and 2. \n",
        "$s_1, s_2$ are the sample std.\n",
        "$n_1, n_2$ are sample sizes of the two samples.\n",
        "\n",
        "Why does this make sense bearing in mind this is about finding $\\mu_1 - \\mu_2$\n",
        "\n",
        "$\\bar{y_1}$ estimates $\\mu_1 $ and the same for 2, and thus, $\\bar{y_1} - \\bar{y_2}$ is what the data tells me about $\\mu_1 - \\mu_2$. \"$0$\" Is the null value - what the null hypothesis claims that the difference between the means is. The denominator $\\sqrt{ \\frac{ s\\frac{2}{1} }{n_1} + \\frac{ s\\frac{2}{2} }{n_2} }$ is the standard error of $\\bar{y_1} - \\bar{y_2}$. \n",
        "\n",
        "Thus the test statistic:\n",
        "\n",
        "$\\frac {sample estimate - null value} {standard error}$\n",
        "\n",
        "and thus measures in standard errors the difference between what the data tells us about the parameter of interest $\\mu_1 - \\mu_2$ the sample estimate and what the null hypothesis claims. \n",
        "\n",
        "![alt text](https://lagunita.stanford.edu/assets/courseware/v1/f355c519748e1479e633c2c6ca033008/asset-v1:OLI+ProbStat+Open_Jan2017+type@asset+block/inference_inference_for_relationships_stat_printouts_image1.png)\n",
        "\n",
        "This is the output of a two sample t-test. The third line tells us the t-statistic, degrees of freedom df, and p-value, which is the exact probability of getting thi value for the t-statistic. ![alt text](https://lagunita.stanford.edu/assets/courseware/v1/6dcd1fa1ca36d6bb0415a36b5b89eb54/asset-v1:OLI+ProbStat+Open_Jan2017+type@asset+block/inference_inference_for_relationships_stat_printouts_image2.png)\n",
        "\n",
        "The chart contains summary statistics for the two samples on the quantitative response/dependent variable. The first column has the explanatory independent categorical variable. Column 4 has the standard deviation for each sample, Column 5 has the standard deviation of the sampling distribution also known as the standard error.\n",
        "\n",
        "![alt text](https://lagunita.stanford.edu/assets/courseware/v1/bc0513ac09484141318fe840b33ee65a/asset-v1:OLI+ProbStat+Open_Jan2017+type@asset+block/inference_inference_for_relationships_stat_printouts_image3.png)\n",
        "\n",
        "The above shows results of the t-test using p-value method. \n",
        "\n",
        "Column 2 shows the difference between sample means. Column 3 the standard error. Column 4 the degreess of freedom, based on the sample sizes and is used to determine the critical value for cutoff scores. Column 6 is the p-value which is < 0.0001 and we can thus reject the null hypothesis. "
      ]
    },
    {
      "cell_type": "code",
      "metadata": {
        "id": "dhfHtGSKRXdU",
        "colab_type": "code",
        "outputId": "5cecaf6f-6786-410d-8af1-4531c077a619",
        "colab": {
          "base_uri": "https://localhost:8080/",
          "height": 232
        }
      },
      "source": [
        "!wget https://lagunita.stanford.edu/assets/courseware/v1/a5ffb714fa8b7abb2abab6f2e2832581/asset-v1:OLI+ProbStat+Open_Jan2017+type@asset+block/lbd1-2.RData"
      ],
      "execution_count": 0,
      "outputs": [
        {
          "output_type": "stream",
          "text": [
            "--2019-05-30 06:50:40--  https://lagunita.stanford.edu/assets/courseware/v1/a5ffb714fa8b7abb2abab6f2e2832581/asset-v1:OLI+ProbStat+Open_Jan2017+type@asset+block/lbd1-2.RData\n",
            "Resolving lagunita.stanford.edu (lagunita.stanford.edu)... 54.176.179.4, 13.57.143.231\n",
            "Connecting to lagunita.stanford.edu (lagunita.stanford.edu)|54.176.179.4|:443... connected.\n",
            "HTTP request sent, awaiting response... 200 OK\n",
            "Length: 1893 (1.8K) [application/octet-stream]\n",
            "Saving to: ‘lbd1-2.RData’\n",
            "\n",
            "\rlbd1-2.RData          0%[                    ]       0  --.-KB/s               \rlbd1-2.RData        100%[===================>]   1.85K  --.-KB/s    in 0s      \n",
            "\n",
            "2019-05-30 06:50:40 (211 MB/s) - ‘lbd1-2.RData’ saved [1893/1893]\n",
            "\n"
          ],
          "name": "stdout"
        }
      ]
    },
    {
      "cell_type": "code",
      "metadata": {
        "id": "XPabiemjgST4",
        "colab_type": "code",
        "outputId": "3dc00e01-c72f-4842-fd89-63566f59ccfe",
        "colab": {
          "base_uri": "https://localhost:8080/",
          "height": 141
        }
      },
      "source": [
        "%%R\n",
        "load('lbd1-2.RData')\n",
        "head(tv2)"
      ],
      "execution_count": 0,
      "outputs": [
        {
          "output_type": "display_data",
          "data": {
            "text/plain": [
              "  time.women time.men\n",
              "1        180      390\n",
              "2        150      590\n",
              "3        130      580\n",
              "4        990      290\n",
              "5        470      380\n",
              "6        260     1130\n"
            ]
          },
          "metadata": {
            "tags": []
          }
        }
      ]
    },
    {
      "cell_type": "code",
      "metadata": {
        "id": "K7F2_EH1gXpV",
        "colab_type": "code",
        "outputId": "e7da84c8-4fe8-4b08-d2b4-7ff31798f20a",
        "colab": {
          "base_uri": "https://localhost:8080/",
          "height": 977
        }
      },
      "source": [
        "%%R\n",
        "hist(tv2$time.men)\n",
        "hist(tv2$time.women)\n"
      ],
      "execution_count": 0,
      "outputs": [
        {
          "output_type": "display_data",
          "data": {
            "image/png": "[encoded data removed]"
          },
          "metadata": {
            "tags": []
          }
        },
        {
          "output_type": "display_data",
          "data": {
            "image/png": "[encoded data removed]"
          },
          "metadata": {
            "tags": []
          }
        }
      ]
    },
    {
      "cell_type": "markdown",
      "metadata": {
        "id": "3i-XAlYggkO2",
        "colab_type": "text"
      },
      "source": [
        "- Find the p -value\n",
        "\n",
        "- Conclusion in context"
      ]
    },
    {
      "cell_type": "code",
      "metadata": {
        "id": "qdrdgw1agbFF",
        "colab_type": "code",
        "outputId": "152bb31d-556d-4097-bf5e-5db61db933fe",
        "colab": {
          "base_uri": "https://localhost:8080/",
          "height": 232
        }
      },
      "source": [
        "#Example of carrying out two-sample t-test\n",
        "!wget https://lagunita.stanford.edu/assets/courseware/v1/909268135a94072b996db9d562d5ce12/asset-v1:OLI+ProbStat+Open_Jan2017+type@asset+block/sleep2.RData"
      ],
      "execution_count": 0,
      "outputs": [
        {
          "output_type": "stream",
          "text": [
            "--2019-05-30 06:53:13--  https://lagunita.stanford.edu/assets/courseware/v1/909268135a94072b996db9d562d5ce12/asset-v1:OLI+ProbStat+Open_Jan2017+type@asset+block/sleep2.RData\n",
            "Resolving lagunita.stanford.edu (lagunita.stanford.edu)... 13.57.143.231, 54.176.179.4\n",
            "Connecting to lagunita.stanford.edu (lagunita.stanford.edu)|13.57.143.231|:443... connected.\n",
            "HTTP request sent, awaiting response... 200 OK\n",
            "Length: 826 [application/octet-stream]\n",
            "Saving to: ‘sleep2.RData’\n",
            "\n",
            "\rsleep2.RData          0%[                    ]       0  --.-KB/s               \rsleep2.RData        100%[===================>]     826  --.-KB/s    in 0s      \n",
            "\n",
            "2019-05-30 06:53:13 (99.5 MB/s) - ‘sleep2.RData’ saved [826/826]\n",
            "\n"
          ],
          "name": "stdout"
        }
      ]
    },
    {
      "cell_type": "code",
      "metadata": {
        "id": "5WLNIbmng5X1",
        "colab_type": "code",
        "outputId": "572bfbb8-6cb2-4cbd-f97e-2f8c091a6d4c",
        "colab": {
          "base_uri": "https://localhost:8080/",
          "height": 141
        }
      },
      "source": [
        "%%R\n",
        "load('sleep2.RData')\n",
        "head(sleep)"
      ],
      "execution_count": 0,
      "outputs": [
        {
          "output_type": "display_data",
          "data": {
            "text/plain": [
              "  undergraduate graduate\n",
              "1             6        8\n",
              "2             5        5\n",
              "3             6        6\n",
              "4             6        6\n",
              "5             8        6\n",
              "6             7        7\n"
            ]
          },
          "metadata": {
            "tags": []
          }
        }
      ]
    },
    {
      "cell_type": "code",
      "metadata": {
        "id": "lfAuBmWzhAyM",
        "colab_type": "code",
        "outputId": "931f1a39-385c-484d-b744-de255250f8a1",
        "colab": {
          "base_uri": "https://localhost:8080/",
          "height": 230
        }
      },
      "source": [
        "#TO carry out the t-test \n",
        "%%R\n",
        "t.test(sleep$undergraduate,sleep$graduate,alternative = \"less\")\n"
      ],
      "execution_count": 0,
      "outputs": [
        {
          "output_type": "display_data",
          "data": {
            "text/plain": [
              "\n",
              "\tWelch Two Sample t-test\n",
              "\n",
              "data:  sleep$undergraduate and sleep$graduate\n",
              "t = -1.2304, df = 106.33, p-value = 0.1106\n",
              "alternative hypothesis: true difference in means is less than 0\n",
              "95 percent confidence interval:\n",
              "       -Inf 0.08133355\n",
              "sample estimates:\n",
              "mean of x mean of y \n",
              " 6.186667  6.420000 \n",
              "\n"
            ]
          },
          "metadata": {
            "tags": []
          }
        }
      ]
    },
    {
      "cell_type": "markdown",
      "metadata": {
        "id": "mFH1DBcLhKJw",
        "colab_type": "text"
      },
      "source": [
        "####The confidence interval of a two-sample\n",
        "\n",
        "To estimate the difference in means we can use a point estimate or preferably a 95% CI.\n",
        "\n",
        "![alt text](https://lagunita.stanford.edu/assets/courseware/v1/1f3303af395e7bbec946550ee6169fe2/asset-v1:OLI+ProbStat+Open_Jan2017+type@asset+block/inference_inference_for_relationships_image196_statcrunch.gif)\n",
        "\n",
        "According to the 95% CI for the difference in means it is roughly -3.7, -1.5 (L/U limits). The CI is stricly negative suggesting $\\mu_1$ is lower than $\\mu_2$. And that the mean of $\\mu_1$ is lower than $\\mu_2$. The CI quantifies the effect that explanatory variable has on the response."
      ]
    },
    {
      "cell_type": "markdown",
      "metadata": {
        "id": "D2eDIO-yiN1X",
        "colab_type": "text"
      },
      "source": [
        "####Matched Pairs\n",
        "\n",
        "Still in C -> Q, but in this case we care about samples that are paired/matched. Every observation in one sample is linked with an observation in the other sample. Samples are dependent. Samples are paired by subject, each subject is measured twice in the most common cases. \n",
        "\n",
        "- Paired t-test\n",
        "\n",
        "The idea behind it is to reduce this two-sample situation, where we compare 2 means, to a single sample situation where we are doing inference on a single mean, and then use a simple t-test. So we are going from inference of two means to just one. \n",
        "\n",
        "- State hypothesis: $H_0 : \\mu_d = 0$ or $H_a : \\mu < 0$ or $> 0$ or $\\neq 0$.\n",
        "\n",
        "- Check conditions and calculate test statistic\n",
        "\n",
        "The sample of differences is random and the differences vary normally unless the sample size is large then it is safe to use t-test. Assuming the conditions are safe: $t = \\frac {\\bar{x_d} - 0} { \\frac{s_d} {\\sqrt{n}} }$ where $\\bar{x_d}$ is the sample mean of differences, and $s_d$ sample std of differences. This test statistic is similar to before; it measures in standard errors how far our data are (represented by the average of the differences) from the null hypothesis represented by the null value 0. \n",
        "\n",
        "- Find the p-value\n",
        "\n",
        "As a special case, the null distribution of the paired t-test is a t distribution under which the p-values are calculated with n-1 degrees of freedom. The small p-value tells us there is little chance of getting data like those observed if the null hypothesis were true. \n",
        "\n",
        "- Conclusion in context\n",
        "\n",
        "As usual, we draw our conclusion based on the p-value. If small, there is a significant difference between what was observed in the sample and what is claimed so we reject H0. If the p-value is not small, we don't have enough evidence to reject H0. If a cutoff probability $\\alpha$ (significance level) is specified, we reject H0 if the p-value is less than $\\alpha$.\n",
        "\n",
        "- Matched Pairs CI\n",
        "\n",
        "A confidence interval for $\\mu_d$ can be insightful since it quantifies the effect that the categorical explanatory variable has on the response varaible. If the null value falls outside the CI then H0 is rejected."
      ]
    },
    {
      "cell_type": "markdown",
      "metadata": {
        "id": "e35uUQxQn0VV",
        "colab_type": "text"
      },
      "source": [
        "####Comparing More than Two Means - ANOVA\n",
        "\n",
        "We now move on to cases in which catetgorical explanatory variable takes more than two values. We now make inferences about the relationsip between explanatory X and response Y amounts to comparing the means of the response variable in the populations defined by the values of the explanatory variable, where the number of means we compare depends on the number of values of X. The samples here are independent. \n",
        "\n",
        "The inferential method for comparing more than two means is called Analysis of Variance (ANOVA) and the test associated with ANOVA is called ANOVA F-test. The structure here will be the same as previously. \n",
        "\n",
        "![alt text](https://lagunita.stanford.edu/assets/courseware/v1/66e17f15e0f1711401e763f047e2471a/asset-v1:OLI+ProbStat+Open_Jan2017+type@asset+block/inference_inference_for_relationships_image094.gif)\n",
        "\n",
        "####The ANOVA F-test\n",
        "\n",
        "The test differs in two ways from the previous:\n",
        "\n",
        "- Unlike the previous where we had 3 possible alternative hypothesis to choose from, in ANOVA F-test is only one alternative, which makes life simpler.\n",
        "- The test statistic will not have the same structure as the test statistics we've seen so far. In other words, it will not have the form $\\frac{sample statistic - null value} {standard error}$ but a structure that captures the essence of the F-test and clarifies where the name analysis of variance is coming from.\n",
        "\n",
        "- Step 1: State the hypothesis\n",
        "\n",
        "The null hypothesis claims there is no relationship between X and Y. Since this is so comparing $\\mu_1, \\mu_2, ... , \\mu_k$ the means of Y in the populations defined by the values of X, no relationship would mean that all the means are equal. Thus the null hypothsis of the F-test is: $H_0 : \\mu_1 = \\mu_2 = ... = \\mu_k$\n",
        "\n",
        "There is one alternative hypothesis, that not all the means are equal $H_0 :$ not all the $\\mu$'s are equal.\n",
        "\n",
        "####The idea behind ANOVA F-test\n",
        "\n",
        "Let's think about how we'd go about testing is all the population means are equal. The best way would be to calculate their point estimates and see how far apart these means are or in other words, measure the variation between the sample means. If we find that the four sample means are not at all close, we say we have evidence against H0.  \n",
        "\n",
        "![alt text](https://lagunita.stanford.edu/assets/courseware/v1/12c8f0323c69da55ba48d06878249e64/asset-v1:OLI+ProbStat+Open_Jan2017+type@asset+block/inference_inference_for_relationships_image111.gif) Example of samples that habe been taken from four groups which have the same population means. \n",
        "\n",
        "In order to work this out we need to look at the variation among the sample means relative to the variation within the groups: ![alt text](https://lagunita.stanford.edu/assets/courseware/v1/a3d1e2c3073f10baa2132cd051b257d4/asset-v1:OLI+ProbStat+Open_Jan2017+type@asset+block/inference_inference_for_relationships_image164.gif) which measures to what extent the difference among the sampled groups means dominates over the usual variation within sampled groups. \n",
        "![alt text](https://lagunita.stanford.edu/assets/courseware/v1/c763b4c53a67f85f4e618f43c95f4965/asset-v1:OLI+ProbStat+Open_Jan2017+type@asset+block/inference_inference_for_relationships_image112.gif)\n",
        "When the variation within groups is large, the variation among sample means could become negligible and the data provide little evidence against H0. When the variation is small within groups, like scenario 2, the variation among the sample means dominates over it and the data have stronger evidence against H0. Looking at the ratio of variations is the idea behind comparing more than 2 means hence analysis of variance (ANOVA). \n",
        "\n",
        "- Check conditions and find test statistic\n",
        "\n",
        "The test statistic of ANOVA F-test is: \n",
        "\n",
        "![alt text](https://lagunita.stanford.edu/assets/courseware/v1/a3d1e2c3073f10baa2132cd051b257d4/asset-v1:OLI+ProbStat+Open_Jan2017+type@asset+block/inference_inference_for_relationships_image164.gif)\n",
        "\n",
        "To recap, within group variations appears in the denominator, and thus if the within-group variation is small the F statistic will be large. The larger the F statistic (which happens when within group variation is small) the more evidence against H0. \n",
        "\n",
        "![alt text](https://lagunita.stanford.edu/assets/courseware/v1/3ab49129bb1dcaccfe8112918b7720a5/asset-v1:OLI+ProbStat+Open_Jan2017+type@asset+block/inference_inference_for_relationships_image154.gif)\n",
        "![alt text](https://lagunita.stanford.edu/assets/courseware/v1/a753582616e8695c61af21b73e79ff93/asset-v1:OLI+ProbStat+Open_Jan2017+type@asset+block/inference_inference_for_relationships_image155.gif)\n",
        "\n",
        "Within group variation is small, the means are likely to not be close thus not equal meaning the null hypothesis is rejected.\n",
        "\n",
        "- Find the p-value\n",
        "\n",
        "The p-value of the ANOVA F-test is the probability of getting an F statistic large as we got or even larger had $H_0 : \\mu_1 = \\mu_2 = ... = \\mu_k$ been true. It tells us how surprising it is to find data like those observed, assuming there is no difference among the population means. \n",
        "\n",
        "- Make conclusions in context\n",
        "\n",
        "As usual we base our conclusion on the p-value. A small p-value tells us that our data contain a lot of evidence against H0. It tells us the differences between the sample means are statistically significant (unlikely to have happened by chance) and thus we reject H0. "
      ]
    },
    {
      "cell_type": "code",
      "metadata": {
        "id": "4wqBYzfNhEy-",
        "colab_type": "code",
        "outputId": "2e690c1a-39b4-4162-9fb5-20ab67ce14d9",
        "colab": {
          "base_uri": "https://localhost:8080/",
          "height": 232
        }
      },
      "source": [
        "!wget https://lagunita.stanford.edu/assets/courseware/v1/1ae3f807a90b76725c41b623c05d3ca4/asset-v1:OLI+ProbStat+Open_Jan2017+type@asset+block/flicker.RData"
      ],
      "execution_count": 0,
      "outputs": [
        {
          "output_type": "stream",
          "text": [
            "--2019-05-30 08:18:12--  https://lagunita.stanford.edu/assets/courseware/v1/1ae3f807a90b76725c41b623c05d3ca4/asset-v1:OLI+ProbStat+Open_Jan2017+type@asset+block/flicker.RData\n",
            "Resolving lagunita.stanford.edu (lagunita.stanford.edu)... 13.57.143.231, 54.176.179.4\n",
            "Connecting to lagunita.stanford.edu (lagunita.stanford.edu)|13.57.143.231|:443... connected.\n",
            "HTTP request sent, awaiting response... 200 OK\n",
            "Length: 545 [application/octet-stream]\n",
            "Saving to: ‘flicker.RData’\n",
            "\n",
            "\rflicker.RData         0%[                    ]       0  --.-KB/s               \rflicker.RData       100%[===================>]     545  --.-KB/s    in 0s      \n",
            "\n",
            "2019-05-30 08:18:12 (112 MB/s) - ‘flicker.RData’ saved [545/545]\n",
            "\n"
          ],
          "name": "stdout"
        }
      ]
    },
    {
      "cell_type": "code",
      "metadata": {
        "id": "xGcHk-xB0V9R",
        "colab_type": "code",
        "outputId": "e795b23d-3492-4e6a-abda-05189ced6c6a",
        "colab": {
          "base_uri": "https://localhost:8080/",
          "height": 141
        }
      },
      "source": [
        "%%R\n",
        "load('flicker.RData')\n",
        "head(flicker)"
      ],
      "execution_count": 0,
      "outputs": [
        {
          "output_type": "display_data",
          "data": {
            "text/plain": [
              "  color  cff\n",
              "1 brown 26.8\n",
              "2 brown 27.9\n",
              "3 brown 23.7\n",
              "4 brown 25.0\n",
              "5 brown 26.3\n",
              "6 brown 24.8\n"
            ]
          },
          "metadata": {
            "tags": []
          }
        }
      ]
    },
    {
      "cell_type": "code",
      "metadata": {
        "id": "E-HUgIZj0aCu",
        "colab_type": "code",
        "outputId": "74af6698-bfb7-4bfa-c8ef-92f3d912bb84",
        "colab": {
          "base_uri": "https://localhost:8080/",
          "height": 497
        }
      },
      "source": [
        "%%R\n",
        "boxplot(flicker$cff~flicker$color,xlab=\"Eye Color\",ylab=\"CFF\")\n"
      ],
      "execution_count": 0,
      "outputs": [
        {
          "output_type": "display_data",
          "data": {
            "image/png": "[encoded data removed]"
          },
          "metadata": {
            "tags": []
          }
        }
      ]
    },
    {
      "cell_type": "code",
      "metadata": {
        "id": "dI7Kq3YK0c-0",
        "colab_type": "code",
        "outputId": "1ed89f8a-6740-41a7-f2bd-7858e52a1b6a",
        "colab": {
          "base_uri": "https://localhost:8080/",
          "height": 52
        }
      },
      "source": [
        "%%R\n",
        "tapply(flicker$cff, flicker$color, mean)\n"
      ],
      "execution_count": 0,
      "outputs": [
        {
          "output_type": "display_data",
          "data": {
            "text/plain": [
              "    blue    brown    green \n",
              "28.16667 25.58750 26.92000 \n"
            ]
          },
          "metadata": {
            "tags": []
          }
        }
      ]
    },
    {
      "cell_type": "code",
      "metadata": {
        "id": "qOSDdFnu0faI",
        "colab_type": "code",
        "outputId": "e1740cab-9097-47f7-c08b-f38b6030cab9",
        "colab": {
          "base_uri": "https://localhost:8080/",
          "height": 52
        }
      },
      "source": [
        "%%R\n",
        "tapply(flicker$cff, flicker$color, sd)\n"
      ],
      "execution_count": 0,
      "outputs": [
        {
          "output_type": "display_data",
          "data": {
            "text/plain": [
              "    blue    brown    green \n",
              "1.527962 1.365323 1.843095 \n"
            ]
          },
          "metadata": {
            "tags": []
          }
        }
      ]
    },
    {
      "cell_type": "code",
      "metadata": {
        "id": "dJvt6Yzu0hN1",
        "colab_type": "code",
        "colab": {}
      },
      "source": [
        "%%R\n",
        "cff.aov=aov(cff~color,flicker)\n"
      ],
      "execution_count": 0,
      "outputs": []
    },
    {
      "cell_type": "code",
      "metadata": {
        "id": "c_GtSYfQ0n1p",
        "colab_type": "code",
        "outputId": "4d827037-7098-4b99-e433-121877c845ea",
        "colab": {
          "base_uri": "https://localhost:8080/",
          "height": 106
        }
      },
      "source": [
        "%%R\n",
        "summary(cff.aov)\n"
      ],
      "execution_count": 0,
      "outputs": [
        {
          "output_type": "display_data",
          "data": {
            "text/plain": [
              "            Df Sum Sq Mean Sq F value Pr(>F)  \n",
              "color        2  23.00  11.499   4.802 0.0232 *\n",
              "Residuals   16  38.31   2.394                 \n",
              "---\n",
              "Signif. codes:  0 ‘***’ 0.001 ‘**’ 0.01 ‘*’ 0.05 ‘.’ 0.1 ‘ ’ 1\n"
            ]
          },
          "metadata": {
            "tags": []
          }
        }
      ]
    },
    {
      "cell_type": "code",
      "metadata": {
        "id": "Ausv3AqM0raV",
        "colab_type": "code",
        "outputId": "4d0ec9a7-0a8b-44d0-d33c-d5bd257e5c62",
        "colab": {
          "base_uri": "https://localhost:8080/",
          "height": 159
        }
      },
      "source": [
        "%%R\n",
        "anova(cff.aov)\n"
      ],
      "execution_count": 0,
      "outputs": [
        {
          "output_type": "display_data",
          "data": {
            "text/plain": [
              "Analysis of Variance Table\n",
              "\n",
              "Response: cff\n",
              "          Df Sum Sq Mean Sq F value  Pr(>F)  \n",
              "color      2 22.997 11.4986  4.8023 0.02325 *\n",
              "Residuals 16 38.310  2.3944                  \n",
              "---\n",
              "Signif. codes:  0 ‘***’ 0.001 ‘**’ 0.01 ‘*’ 0.05 ‘.’ 0.1 ‘ ’ 1\n"
            ]
          },
          "metadata": {
            "tags": []
          }
        }
      ]
    },
    {
      "cell_type": "code",
      "metadata": {
        "id": "YgmkT0MQ0t1s",
        "colab_type": "code",
        "outputId": "d8bb3f0e-f344-45b2-83cc-5848c9f6ba15",
        "colab": {
          "base_uri": "https://localhost:8080/",
          "height": 497
        }
      },
      "source": [
        "%%R\n",
        "plot(cff.aov,1)\n"
      ],
      "execution_count": 0,
      "outputs": [
        {
          "output_type": "display_data",
          "data": {
            "image/png": "[encoded data removed]"
          },
          "metadata": {
            "tags": []
          }
        }
      ]
    },
    {
      "cell_type": "code",
      "metadata": {
        "id": "urZRK2hd00Ya",
        "colab_type": "code",
        "outputId": "9fae1e6c-dd15-4dac-bf7f-08b04511a424",
        "colab": {
          "base_uri": "https://localhost:8080/",
          "height": 144
        }
      },
      "source": [
        "%%R\n",
        "residuals(cff.aov)\n"
      ],
      "execution_count": 0,
      "outputs": [
        {
          "output_type": "display_data",
          "data": {
            "text/plain": [
              "         1          2          3          4          5          6          7 \n",
              " 1.2125000  2.3125000 -1.8875000 -0.5875000  0.7125000 -0.7875000  0.1125000 \n",
              "         8          9         10         11         12         13         14 \n",
              "-1.0875000 -0.5200000 -2.7200000  1.0800000 -0.0200000  2.1800000 -2.4666667 \n",
              "        15         16         17         18         19 \n",
              "-0.9666667  1.7333333  0.3333333  1.2333333  0.1333333 \n"
            ]
          },
          "metadata": {
            "tags": []
          }
        }
      ]
    },
    {
      "cell_type": "markdown",
      "metadata": {
        "id": "QKA_-QbH1N1A",
        "colab_type": "text"
      },
      "source": [
        "If the confidence interval for $\\mu_i$ overlaps with $\\mu_j$ then they share some plausible values which means tthat based on the data we have no evidence suggests they are different. \n",
        "![alt text](https://lagunita.stanford.edu/assets/courseware/v1/fdd9864146dd99da7e68fbba2fc05e2a/asset-v1:OLI+ProbStat+Open_Jan2017+type@asset+block/inference_inference_for_relationships_anova_image28.png)\n",
        "\n"
      ]
    },
    {
      "cell_type": "markdown",
      "metadata": {
        "id": "77Edal1u1j-1",
        "colab_type": "text"
      },
      "source": [
        "###Inference: Relationships C -> C"
      ]
    },
    {
      "cell_type": "markdown",
      "metadata": {
        "id": "MqGdA6Do1rxs",
        "colab_type": "text"
      },
      "source": [
        "####Inference for the Relationships between Two Categorical Variables (Chi-Square Test for Independence)\n",
        "\n",
        "The last three procedures (two sample t, paired t, and ANOVA) all involve C -> Q. Next we consider C -> C. \n",
        "\n",
        "We would like to assess whether the relationship between X and Y that we observed in the data is due to a real relationship between X and Y in the population or if it is something that could have happened by chance due to sampling variability. The test that answers this is chi-square test for independence. Chi denoted by $\\chi$ is referred to at $\\chi^2$ test for independence. \n",
        "\n",
        "The test examines our observed data and tells us whether we have enough evidence to conclude beyond a reasonable doubt that two categorical variables are related. Much like the previous ANOVA F-test, we are going to introduce the hypothesis then discuss the idea behind the test and then conduct the test.\n",
        "\n",
        "- State the hypothesis\n",
        "\n",
        "H0: There is no relationship between two categorical variables (independent), Ha : there is a relationship (not independent). \n",
        "\n",
        "The idea behind it is to measure how far the data are from what is claimed in the null hypothesis. The further the data are from the null hypothesis, the more evidence the data presents against it. How do we represent the null hypothesis? Here we dont really have a null value, but rather a claim that two categorical variables are independent. To do so we calculate a set of counts - the counts that we would expect to see. So we would have two sets of counts: \n",
        "\n",
        "- Observed counts (the data)\n",
        "- expected counts (if H0 were true)\n",
        "\n",
        "We will measure how far the observed counts are from the expected ones. We base our decision on the size of the discrepancy between what we observed and what we expect to observe. \n",
        "\n",
        "Example,\n",
        "\n",
        "![alt text](https://lagunita.stanford.edu/assets/courseware/v1/fe0280ddd943e3ce45bba43d554a0639/asset-v1:OLI+ProbStat+Open_Jan2017+type@asset+block/inference_inference_for_relationships_image132.gif)\n",
        "\n",
        "Applying the rule to the first cell, if driving drunk and gender were independent then:\n",
        "\n",
        "P(drunk and male) = P(drunk) * P(male)\n",
        "\n",
        "By dividing the counts in our table, we see that:\n",
        "\n",
        "P(drunk) = 93 / 619 and P(male) = 481 / 619, and so P(Drunk and Male) = (93/619)(481/619),\n",
        "thus, since there are a total of 619, if drunk and gender are independent, the count of drunk male drivers that I would expect to see is:\n",
        "$619* P(drunk and male) = 619 (\\frac{93}{619}) (\\frac{481}{619}) = \\frac{93*481}{619}$ This expression is the product of the column and row totals for a cell divided by overall table total. \n",
        "\n",
        "![alt text](https://lagunita.stanford.edu/assets/courseware/v1/0c728e4ab4871410022a307cc77f98a7/asset-v1:OLI+ProbStat+Open_Jan2017+type@asset+block/inference_inference_for_relationships_image523f.png)\n",
        "\n",
        "- Check conditions and calculate test statistic\n",
        "\n",
        "In the Chi-Square case, we do the test statistic then come back to the conditions under which it is safe to use. The single number that summarizes the difference between observed and expected counts is chi-square statistic which tells us in a standardized way how far what we observed (data) is from what we expect if H0 is true. \n",
        "\n",
        "$\\chi^2 = \\sum{all cells} \\frac{(observed Count - Expected Count)^2} {Expected Count}$\n",
        "\n",
        "Why is it squared? Why do we divide each square difference by the expected count? The reason is that the null distribution of chi-square will have a known null distribution under which p-values can be easily calcluated. The null distribution of chi-square is called chi-square and like the t-distributions there are many chi-square distributions distinguished by the number of degrees of freedom associated with them. \n",
        "\n",
        "Safe conditions: sample is random, the larger the sample the more accurate and reliable the test results are. There are different versions of what conditions ensure reliability all involving expected counts. One says, all expected counts need to be > 1, and at least 80% counts > 5. \n",
        "\n",
        "- Find the p-value\n",
        "\n",
        "The p-value for the chi-square test for independence is the probability of getting counts like those observed, assuming the 2 vars are not related. The smaller the p, the more surprising it would be to get counts like we did, if the null hypothesis were true. The p-value is the probability of observing chi-square at least as large as the one observed. \n",
        "\n",
        "- Stating the conclusions in context\n",
        "\n",
        "We use the magnitude of the p-value to draw our conclusions. A small p indicates evidence provided is strong enough to reject H0 and conclude that the two variables are related. If a significance of 0.05 is used, we reject H0 if p-value < 0.05.\n",
        "\n"
      ]
    },
    {
      "cell_type": "markdown",
      "metadata": {
        "id": "zWL7TWyXfWC0",
        "colab_type": "text"
      },
      "source": [
        "###Relationships Q -> Q"
      ]
    },
    {
      "cell_type": "markdown",
      "metadata": {
        "id": "x-Ojo4I8fZo8",
        "colab_type": "text"
      },
      "source": [
        "In EDA, we examine the relationship of two quantitative variables by looking at a scatterplot and focused on the linear relationship by supplementing the scatterplot with a correlation coefficient r. \n",
        "\n",
        "We now present the method for inferring something about the relationship between two quantitative variables in an entire population, based on the relationship seen in the sample. The method here is linear relationships and will answer the following question: Is the observed linear relationship due to a true linear relationship between two variables in the population, or could it be that we obtained this pattern in the data by chance?\n",
        "\n",
        "If we can generalize the observed linear relationship to the entire population we will then use the data to estimate the line that governs the linear relationship between two variables in the population, and use it to make predictions.![alt text](https://lagunita.stanford.edu/assets/courseware/v1/398c56edfbccd4814a8e99488a8f650c/asset-v1:OLI+ProbStat+Open_Jan2017+type@asset+block/inference_inference_for_relationships_image146.gif)\n",
        "The process is summarized above. When we get to the inference we: \n",
        "\n",
        "- carry out a test that will tell us whether the observed linear relationship is significant. If it is significant, we can estimate the line that governs the linear relationship and use it to make predictions. "
      ]
    },
    {
      "cell_type": "code",
      "metadata": {
        "id": "Lm4e-z8e02dN",
        "colab_type": "code",
        "colab": {
          "base_uri": "https://localhost:8080/",
          "height": 232
        },
        "outputId": "01de59e3-9676-4313-a300-40649a941087"
      },
      "source": [
        "!wget https://lagunita.stanford.edu/assets/courseware/v1/a5c74318cae1f6a825e15b6f6039f8a2/asset-v1:OLI+ProbStat+Open_Jan2017+type@asset+block/baby-crying-IQ.RData"
      ],
      "execution_count": 1,
      "outputs": [
        {
          "output_type": "stream",
          "text": [
            "--2019-05-30 16:14:18--  https://lagunita.stanford.edu/assets/courseware/v1/a5c74318cae1f6a825e15b6f6039f8a2/asset-v1:OLI+ProbStat+Open_Jan2017+type@asset+block/baby-crying-IQ.RData\n",
            "Resolving lagunita.stanford.edu (lagunita.stanford.edu)... 13.57.143.231, 54.176.179.4\n",
            "Connecting to lagunita.stanford.edu (lagunita.stanford.edu)|13.57.143.231|:443... connected.\n",
            "HTTP request sent, awaiting response... 200 OK\n",
            "Length: 519 [application/octet-stream]\n",
            "Saving to: ‘baby-crying-IQ.RData’\n",
            "\n",
            "\rbaby-crying-IQ.RDat   0%[                    ]       0  --.-KB/s               \rbaby-crying-IQ.RDat 100%[===================>]     519  --.-KB/s    in 0s      \n",
            "\n",
            "2019-05-30 16:14:18 (65.7 MB/s) - ‘baby-crying-IQ.RData’ saved [519/519]\n",
            "\n"
          ],
          "name": "stdout"
        }
      ]
    },
    {
      "cell_type": "code",
      "metadata": {
        "id": "M8nUd254hRE1",
        "colab_type": "code",
        "colab": {
          "base_uri": "https://localhost:8080/",
          "height": 141
        },
        "outputId": "b5e13d02-aa08-4cb1-df2d-31563eff0bba"
      },
      "source": [
        "%%R\n",
        "load('baby-crying-IQ.RData')\n",
        "head(baby)"
      ],
      "execution_count": 3,
      "outputs": [
        {
          "output_type": "display_data",
          "data": {
            "text/plain": [
              "  cry.count  IQ\n",
              "1        10  87\n",
              "2        20  90\n",
              "3        17  94\n",
              "4        12  94\n",
              "5        12  97\n",
              "6        15 100\n"
            ]
          },
          "metadata": {
            "tags": []
          }
        }
      ]
    },
    {
      "cell_type": "code",
      "metadata": {
        "id": "ZiBaykC-hWJS",
        "colab_type": "code",
        "colab": {}
      },
      "source": [
        "%%R\n",
        "model=lm(baby$IQ~baby$cry.count)\n"
      ],
      "execution_count": 0,
      "outputs": []
    },
    {
      "cell_type": "code",
      "metadata": {
        "id": "RwFgmzp6h9MY",
        "colab_type": "code",
        "colab": {}
      },
      "source": [
        "\"\"\"\n",
        "The results show:\n",
        "\n",
        "- Estimates and standard errors of the intercept and slope\n",
        "- t-Test statistic and p-value to test the two sided alternative \n",
        "as well as a test for the intercept not equal zero\n",
        "- The R^2 value (multiple R-Squared) which is equivalent to the correlation\n",
        "squared, and measure of the proportion of variability in the response\n",
        "explained by the model\n",
        "- The results of an equivalent test for the significance of the slope\n",
        "using an ANOVA approach\n",
        "\n",
        "\"\"\""
      ],
      "execution_count": 0,
      "outputs": []
    },
    {
      "cell_type": "code",
      "metadata": {
        "id": "nw5a6vALhYjp",
        "colab_type": "code",
        "colab": {
          "base_uri": "https://localhost:8080/",
          "height": 355
        },
        "outputId": "4600def1-6d0a-4189-9ed0-55b50f91d054"
      },
      "source": [
        "%%R\n",
        "summary(model)"
      ],
      "execution_count": 8,
      "outputs": [
        {
          "output_type": "display_data",
          "data": {
            "text/plain": [
              "\n",
              "Call:\n",
              "lm(formula = baby$IQ ~ baby$cry.count)\n",
              "\n",
              "Residuals:\n",
              "    Min      1Q  Median      3Q     Max \n",
              "-31.482 -11.593  -2.591  10.286  51.272 \n",
              "\n",
              "Coefficients:\n",
              "               Estimate Std. Error t value Pr(>|t|)    \n",
              "(Intercept)     90.7550    10.4734   8.665 2.47e-10 ***\n",
              "baby$cry.count   1.5364     0.5835   2.633   0.0124 *  \n",
              "---\n",
              "Signif. codes:  0 ‘***’ 0.001 ‘**’ 0.01 ‘*’ 0.05 ‘.’ 0.1 ‘ ’ 1\n",
              "\n",
              "Residual standard error: 17.99 on 36 degrees of freedom\n",
              "Multiple R-squared:  0.1615,\tAdjusted R-squared:  0.1382 \n",
              "F-statistic: 6.932 on 1 and 36 DF,  p-value: 0.0124\n",
              "\n"
            ]
          },
          "metadata": {
            "tags": []
          }
        }
      ]
    },
    {
      "cell_type": "markdown",
      "metadata": {
        "id": "DSCN9_dRiDiw",
        "colab_type": "text"
      },
      "source": [
        "Since the results show the linearity in the data, and based on a test concluded that this linear relationship can be generalized to the entire population. \n",
        "\n",
        "Since this is so, we now want to estimate the equation of the straight line that governs this linear relationship. This is done by finding the line of best fit. This line is the least squares regression line, which minimizes the sum of squared vertical deviations.\n",
        "\n",
        "![alt text](https://lagunita.stanford.edu/assets/courseware/v1/78db43d1330c46c02c7e814a973482d0/asset-v1:OLI+ProbStat+Open_Jan2017+type@asset+block/inference_inference_for_relationships_image148.gif)\n",
        "\n"
      ]
    },
    {
      "cell_type": "code",
      "metadata": {
        "id": "Pc9ViZjhha7K",
        "colab_type": "code",
        "colab": {
          "base_uri": "https://localhost:8080/",
          "height": 497
        },
        "outputId": "cd8ada87-c4a2-4389-ea39-0dd53a5565f4"
      },
      "source": [
        "%%R\n",
        "plot(baby$cry.count,baby$IQ, xlab=\"Number of Crying Events\", ylab=\"IQ\")"
      ],
      "execution_count": 9,
      "outputs": [
        {
          "output_type": "display_data",
          "data": {
            "image/png": "[encoded data removed]"
          },
          "metadata": {
            "tags": []
          }
        }
      ]
    },
    {
      "cell_type": "code",
      "metadata": {
        "id": "8fGI0E8HiyZl",
        "colab_type": "code",
        "colab": {}
      },
      "source": [
        "%%R\n",
        "model=lm(baby$IQ~baby$cry.count)\n"
      ],
      "execution_count": 0,
      "outputs": []
    },
    {
      "cell_type": "code",
      "metadata": {
        "id": "8_jcEKP9i0iy",
        "colab_type": "code",
        "colab": {
          "base_uri": "https://localhost:8080/",
          "height": 161
        },
        "outputId": "ded80bb5-ccc4-41a8-c923-563aed577563"
      },
      "source": [
        "%%R\n",
        "abline(model)"
      ],
      "execution_count": 11,
      "outputs": [
        {
          "output_type": "stream",
          "text": [
            "\n",
            "Error in int_abline(a = a, b = b, h = h, v = v, untf = untf, ...) : \n",
            "  plot.new has not been called yet\n"
          ],
          "name": "stdout"
        },
        {
          "output_type": "stream",
          "text": [
            "/usr/local/lib/python3.6/dist-packages/rpy2/rinterface/__init__.py:146: RRuntimeWarning: Error in int_abline(a = a, b = b, h = h, v = v, untf = untf, ...) : \n",
            "  plot.new has not been called yet\n",
            "\n",
            "  warnings.warn(x, RRuntimeWarning)\n"
          ],
          "name": "stderr"
        }
      ]
    },
    {
      "cell_type": "code",
      "metadata": {
        "id": "mcHnGP3ui3PA",
        "colab_type": "code",
        "colab": {}
      },
      "source": [
        "%%R\n",
        "cf=coef(model)"
      ],
      "execution_count": 0,
      "outputs": []
    },
    {
      "cell_type": "code",
      "metadata": {
        "id": "nFUO57I6i4-A",
        "colab_type": "code",
        "colab": {
          "base_uri": "https://localhost:8080/",
          "height": 161
        },
        "outputId": "9932b1ba-9886-4c61-e408-f6d88903c389"
      },
      "source": [
        "%%R\n",
        "legend(10,160,legend=paste(\"IQ = \", round(cf[1],1), \"+\", round(cf[2],2), \"(cry.count)\"))"
      ],
      "execution_count": 13,
      "outputs": [
        {
          "output_type": "stream",
          "text": [
            "\n",
            "Error in strwidth(legend, units = \"user\", cex = cex, font = text.font) : \n",
            "  plot.new has not been called yet\n"
          ],
          "name": "stdout"
        },
        {
          "output_type": "stream",
          "text": [
            "/usr/local/lib/python3.6/dist-packages/rpy2/rinterface/__init__.py:146: RRuntimeWarning: Error in strwidth(legend, units = \"user\", cex = cex, font = text.font) : \n",
            "  plot.new has not been called yet\n",
            "\n",
            "  warnings.warn(x, RRuntimeWarning)\n"
          ],
          "name": "stderr"
        }
      ]
    },
    {
      "cell_type": "markdown",
      "metadata": {
        "id": "_rKOoZsgjCor",
        "colab_type": "text"
      },
      "source": [
        "####Summary\n",
        "\n",
        "![alt text](https://lagunita.stanford.edu/assets/courseware/v1/5ec642932214c50a5396068305233d05/asset-v1:OLI+ProbStat+Open_Jan2017+type@asset+block/inference_inference_for_relationships_image429.gif)"
      ]
    },
    {
      "cell_type": "markdown",
      "metadata": {
        "id": "qBeNVzW4jaQI",
        "colab_type": "text"
      },
      "source": [
        "###Summary Handout"
      ]
    },
    {
      "cell_type": "markdown",
      "metadata": {
        "id": "eSpiqZ3gjTEc",
        "colab_type": "text"
      },
      "source": [
        "https://lagunita.stanford.edu/assets/courseware/v1/ebcd53432c3c09da1c45229e20dcbce1/asset-v1:OLI+ProbStat+Open_Jan2017+type@asset+block/OLI_ProbStat_Summary.pdf"
      ]
    }
  ]
}
