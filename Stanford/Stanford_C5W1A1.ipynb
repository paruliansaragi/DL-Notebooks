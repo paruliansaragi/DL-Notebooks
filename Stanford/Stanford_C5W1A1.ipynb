{
  "nbformat": 4,
  "nbformat_minor": 0,
  "metadata": {
    "colab": {
      "name": "Stanford C5W1A1.ipynb",
      "version": "0.3.2",
      "provenance": [],
      "collapsed_sections": [],
      "include_colab_link": true
    },
    "kernelspec": {
      "name": "python3",
      "display_name": "Python 3"
    }
  },
  "cells": [
    {
      "cell_type": "markdown",
      "metadata": {
        "id": "view-in-github",
        "colab_type": "text"
      },
      "source": [
        "<a href=\"https://colab.research.google.com/github/paruliansaragi/DL-Notebooks/blob/master/Stanford_C5W1A1.ipynb\" target=\"_parent\"><img src=\"https://colab.research.google.com/assets/colab-badge.svg\" alt=\"Open In Colab\"/></a>"
      ]
    },
    {
      "cell_type": "code",
      "metadata": {
        "id": "aibeb_qmqqcy",
        "colab_type": "code",
        "colab": {}
      },
      "source": [
        "import numpy as np"
      ],
      "execution_count": 0,
      "outputs": []
    },
    {
      "cell_type": "code",
      "metadata": {
        "id": "zO6sm3_isI0w",
        "colab_type": "code",
        "colab": {}
      },
      "source": [
        "def softmax(x):\n",
        "  e_x = np.exp(x - np.max(x))\n",
        "  return e_x / e_x.sum()"
      ],
      "execution_count": 0,
      "outputs": []
    },
    {
      "cell_type": "code",
      "metadata": {
        "id": "DMReUnPdsnra",
        "colab_type": "code",
        "outputId": "195948d1-5ca1-4cd0-a5ac-3ffed8c6f63e",
        "colab": {
          "base_uri": "https://localhost:8080/",
          "height": 35
        }
      },
      "source": [
        "scores = [9.0, 10.0, 0.6]\n",
        "print(softmax(scores))"
      ],
      "execution_count": 0,
      "outputs": [
        {
          "output_type": "stream",
          "text": [
            "[2.68925158e-01 7.31014370e-01 6.04724806e-05]\n"
          ],
          "name": "stdout"
        }
      ]
    },
    {
      "cell_type": "markdown",
      "metadata": {
        "id": "xuLqjZjYrcd0",
        "colab_type": "text"
      },
      "source": [
        "![alt text](https://render.githubusercontent.com/render/math?math=a%5E%7B%5Clangle%20t%20%5Crangle%7D%20%3D%20%5Ctanh%28W_%7Baa%7D%20a%5E%7B%5Clangle%20t-1%20%5Crangle%7D%20%2B%20W_%7Bax%7D%20x%5E%7B%5Clangle%20t%20%5Crangle%7D%20%2B%20b_a%29&mode=inline)\n"
      ]
    },
    {
      "cell_type": "markdown",
      "metadata": {
        "id": "EWY91p1tum7t",
        "colab_type": "text"
      },
      "source": [
        "![alt text](https://render.githubusercontent.com/render/math?math=%5Chat%7By%7D%5E%7B%5Clangle%20t%20%5Crangle%7D%20%3D%20softmax%28W_%7Bya%7D%20a%5E%7B%5Clangle%20t%20%5Crangle%7D%20%2B%20b_y%29&mode=inline)"
      ]
    },
    {
      "cell_type": "code",
      "metadata": {
        "id": "XNKgPfJvq6XU",
        "colab_type": "code",
        "colab": {}
      },
      "source": [
        "def rnn_cell_forward(xt, a_prev, parameters):\n",
        "    \"\"\"\n",
        "    Implements a single forward step of the RNN-cell as described in Figure (2)\n",
        "\n",
        "    Arguments:\n",
        "    xt -- your input data at timestep \"t\", numpy array of shape (n_x, m).\n",
        "    a_prev -- Hidden state at timestep \"t-1\", numpy array of shape (n_a, m)\n",
        "    parameters -- python dictionary containing:\n",
        "                        Wax -- Weight matrix multiplying the input, numpy array of shape (n_a, n_x)\n",
        "                        Waa -- Weight matrix multiplying the hidden state, numpy array of shape (n_a, n_a)\n",
        "                        Wya -- Weight matrix relating the hidden-state to the output, numpy array of shape (n_y, n_a)\n",
        "                        ba --  Bias, numpy array of shape (n_a, 1)\n",
        "                        by -- Bias relating the hidden-state to the output, numpy array of shape (n_y, 1)\n",
        "    Returns:\n",
        "    a_next -- next hidden state, of shape (n_a, m)\n",
        "    yt_pred -- prediction at timestep \"t\", numpy array of shape (n_y, m)\n",
        "    cache -- tuple of values needed for the backward pass, contains (a_next, a_prev, xt, parameters)\n",
        "    \"\"\"\n",
        "    \n",
        "    # Retrieve parameters from \"parameters\"\n",
        "    Wax = parameters[\"Wax\"]\n",
        "    Waa = parameters[\"Waa\"]\n",
        "    Wya = parameters[\"Wya\"]\n",
        "    ba = parameters[\"ba\"]\n",
        "    by = parameters[\"by\"]\n",
        "    \n",
        "    ### START CODE HERE ### (≈2 lines)\n",
        "    # compute next activation state using the formula given above\n",
        "    a_next = np.tanh(np.dot(Wax, xt) + np.dot(Waa, a_prev) + ba)\n",
        "    # compute output of the current cell using the formula given above\n",
        "    yt_pred = softmax(np.dot(Wya, a_next) + by)\n",
        "    ### END CODE HERE ###\n",
        "    \n",
        "    # store values you need for backward propagation in cache\n",
        "    cache = (a_next, a_prev, xt, parameters)\n",
        "    \n",
        "    return a_next, yt_pred, cache"
      ],
      "execution_count": 0,
      "outputs": []
    },
    {
      "cell_type": "code",
      "metadata": {
        "id": "UNq1e8mNu10m",
        "colab_type": "code",
        "outputId": "1245b556-fc58-4741-c805-3dd754cc989b",
        "colab": {
          "base_uri": "https://localhost:8080/",
          "height": 121
        }
      },
      "source": [
        "np.random.seed(1)\n",
        "xt = np.random.randn(3,10)\n",
        "a_prev = np.random.randn(5,10)\n",
        "Waa = np.random.randn(5,5)\n",
        "Wax = np.random.randn(5,3)\n",
        "Wya = np.random.randn(2,5)\n",
        "ba = np.random.randn(5,1)\n",
        "by = np.random.randn(2,1)\n",
        "parameters = {\"Waa\": Waa, \"Wax\": Wax, \"Wya\": Wya, \"ba\": ba, \"by\": by}\n",
        "\n",
        "a_next, yt_pred, cache = rnn_cell_forward(xt, a_prev, parameters)\n",
        "print(\"a_next[4] = \", a_next[4])\n",
        "print(\"a_next.shape = \", a_next.shape)\n",
        "print(\"yt_pred[1] =\", yt_pred[1])\n",
        "print(\"yt_pred.shape = \", yt_pred.shape)"
      ],
      "execution_count": 0,
      "outputs": [
        {
          "output_type": "stream",
          "text": [
            "a_next[4] =  [ 0.59584544  0.18141802  0.61311866  0.99808218  0.85016201  0.99980978\n",
            " -0.18887155  0.99815551  0.6531151   0.82872037]\n",
            "a_next.shape =  (5, 10)\n",
            "yt_pred[1] = [0.17867403 0.00059564 0.00192797 0.00231747 0.0396566  0.00828257\n",
            " 0.00990921 0.21155864 0.43903066 0.00713304]\n",
            "yt_pred.shape =  (2, 10)\n"
          ],
          "name": "stdout"
        }
      ]
    },
    {
      "cell_type": "markdown",
      "metadata": {
        "id": "tktdzV6rv8g3",
        "colab_type": "text"
      },
      "source": [
        "![alt text](https://github.com/Kulbear/deep-learning-coursera/raw/997fdb2e2db67acd45d29ae418212463a54be06d/Sequence%20Models/images/rnn1.png)"
      ]
    },
    {
      "cell_type": "code",
      "metadata": {
        "id": "zIYmnF6Ou5sY",
        "colab_type": "code",
        "colab": {}
      },
      "source": [
        "def rnn_forward(x, a0, parameters):\n",
        "    \"\"\"\n",
        "    Implement the forward propagation of the recurrent neural network described in Figure (3).\n",
        "\n",
        "    Arguments:\n",
        "    x -- Input data for every time-step, of shape (n_x, m, T_x).\n",
        "    a0 -- Initial hidden state, of shape (n_a, m)\n",
        "    parameters -- python dictionary containing:\n",
        "                        Waa -- Weight matrix multiplying the hidden state, numpy array of shape (n_a, n_a)\n",
        "                        Wax -- Weight matrix multiplying the input, numpy array of shape (n_a, n_x)\n",
        "                        Wya -- Weight matrix relating the hidden-state to the output, numpy array of shape (n_y, n_a)\n",
        "                        ba --  Bias numpy array of shape (n_a, 1)\n",
        "                        by -- Bias relating the hidden-state to the output, numpy array of shape (n_y, 1)\n",
        "\n",
        "    Returns:\n",
        "    a -- Hidden states for every time-step, numpy array of shape (n_a, m, T_x)\n",
        "    y_pred -- Predictions for every time-step, numpy array of shape (n_y, m, T_x)\n",
        "    caches -- tuple of values needed for the backward pass, contains (list of caches, x)\n",
        "    \"\"\"\n",
        "    \n",
        "    # Initialize \"caches\" which will contain the list of all caches\n",
        "    caches = []\n",
        "    \n",
        "    # Retrieve dimensions from shapes of x and Wy\n",
        "    n_x, m, T_x = x.shape\n",
        "    n_y, n_a = parameters[\"Wya\"].shape\n",
        "    \n",
        "    ### START CODE HERE ###\n",
        "    \n",
        "    # initialize \"a\" and \"y\" with zeros (≈2 lines)\n",
        "    a = np.zeros((n_a, m, T_x))\n",
        "    y_pred = np.zeros((n_y, m, T_x))\n",
        "    \n",
        "    # Initialize a_next (≈1 line)\n",
        "    a_next = a0\n",
        "    \n",
        "    # loop over all time-steps\n",
        "    for t in range(T_x):\n",
        "        # Update next hidden state, compute the prediction, get the cache (≈1 line)\n",
        "        a_next, yt_pred, cache = rnn_cell_forward(x[:,:,t], a_next, parameters)\n",
        "        # Save the value of the new \"next\" hidden state in a (≈1 line)\n",
        "        a[:,:,t] = a_next\n",
        "        # Save the value of the prediction in y (≈1 line)\n",
        "        y_pred[:,:,t] = yt_pred\n",
        "        # Append \"cache\" to \"caches\" (≈1 line)\n",
        "        caches.append(cache)\n",
        "        \n",
        "    ### END CODE HERE ###\n",
        "    \n",
        "    # store values needed for backward propagation in cache\n",
        "    caches = (caches, x)\n",
        "    \n",
        "    return a, y_pred, caches"
      ],
      "execution_count": 0,
      "outputs": []
    },
    {
      "cell_type": "code",
      "metadata": {
        "id": "gjxt3hPSebNL",
        "colab_type": "code",
        "outputId": "3f6c12e8-2bad-4de9-858d-de353c594446",
        "colab": {
          "base_uri": "https://localhost:8080/",
          "height": 121
        }
      },
      "source": [
        "np.random.seed(1)\n",
        "x = np.random.randn(3,10,4)\n",
        "a0 = np.random.randn(5,10)\n",
        "Waa = np.random.randn(5,5)\n",
        "Wax = np.random.randn(5,3)\n",
        "Wya = np.random.randn(2,5)\n",
        "ba = np.random.randn(5,1)\n",
        "by = np.random.randn(2,1)\n",
        "parameters = {\"Waa\": Waa, \"Wax\": Wax, \"Wya\": Wya, \"ba\": ba, \"by\": by}\n",
        "\n",
        "a, y_pred, caches = rnn_forward(x, a0, parameters)\n",
        "print(\"a[4][1] = \", a[4][1])\n",
        "print(\"a.shape = \", a.shape)\n",
        "print(\"y_pred[1][3] =\", y_pred[1][3])\n",
        "print(\"y_pred.shape = \", y_pred.shape)\n",
        "print(\"caches[1][1][3] =\", caches[1][1][3])\n",
        "print(\"len(caches) = \", len(caches))"
      ],
      "execution_count": 0,
      "outputs": [
        {
          "output_type": "stream",
          "text": [
            "a[4][1] =  [-0.99999375  0.77911235 -0.99861469 -0.99833267]\n",
            "a.shape =  (5, 10, 4)\n",
            "y_pred[1][3] = [0.01644489 0.0328586  0.0014877  0.02851197]\n",
            "y_pred.shape =  (2, 10, 4)\n",
            "caches[1][1][3] = [-1.1425182  -0.34934272 -0.20889423  0.58662319]\n",
            "len(caches) =  2\n"
          ],
          "name": "stdout"
        }
      ]
    },
    {
      "cell_type": "markdown",
      "metadata": {
        "id": "ZIbGcxrTgpTz",
        "colab_type": "text"
      },
      "source": [
        "![alt text](https://github.com/enggen/Deep-Learning-Coursera/raw/d17ae94464bbe302e52560323f54775cb7adaf4f/Sequence%20Models/Week1/Building%20a%20Recurrent%20Neural%20Network%20-%20Step%20by%20Step/images/LSTM.png)"
      ]
    },
    {
      "cell_type": "markdown",
      "metadata": {
        "id": "GPQ9snrbgyyf",
        "colab_type": "text"
      },
      "source": [
        "About the gates\n",
        "- Forget gate\n",
        "For the sake of this illustration, lets assume we are reading words in a piece of text, and want use an LSTM to keep track of grammatical structures, such as whether the subject is singular or plural. If the subject changes from a singular word to a plural word, we need to find a way to get rid of our previously stored memory value of the singular/plural state. In an LSTM, the forget gate lets us do this:\n",
        "\n",
        "$$\\Gamma_f^{\\langle t \\rangle} = \\sigma(W_f[a^{\\langle t-1 \\rangle}, x^{\\langle t \\rangle}] + b_f)\\tag{1} $$\n",
        "Here, $W_f$ are weights that govern the forget gate's behavior. We concatenate $[a^{\\langle t-1 \\rangle}, x^{\\langle t \\rangle}]$ and multiply by $W_f$. The equation above results in a vector $\\Gamma_f^{\\langle t \\rangle}$ with values between 0 and 1. This forget gate vector will be multiplied element-wise by the previous cell state $c^{\\langle t-1 \\rangle}$. So if one of the values of $\\Gamma_f^{\\langle t \\rangle}$ is 0 (or close to 0) then it means that the LSTM should remove that piece of information (e.g. the singular subject) in the corresponding component of $c^{\\langle t-1 \\rangle}$. If one of the values is 1, then it will keep the information.\n",
        "\n",
        "- Update gate\n",
        "Once we forget that the subject being discussed is singular, we need to find a way to update it to reflect that the new subject is now plural. Here is the formulat for the update gate:\n",
        "\n",
        "$$\\Gamma_u^{\\langle t \\rangle} = \\sigma(W_u[a^{\\langle t-1 \\rangle}, x^{\\{t\\}}] + b_u)\\tag{2} $$\n",
        "Similar to the forget gate, here $\\Gamma_u^{\\langle t \\rangle}$ is again a vector of values between 0 and 1. This will be multiplied element-wise with $\\tilde{c}^{\\langle t \\rangle}$, in order to compute $c^{\\langle t \\rangle}$."
      ]
    },
    {
      "cell_type": "markdown",
      "metadata": {
        "id": "IwRhlGKFg2B6",
        "colab_type": "text"
      },
      "source": [
        "- Updating the cell\n",
        "To update the new subject we need to create a new vector of numbers that we can add to our previous cell state. The equation we use is:\n",
        "\n",
        "$$ \\tilde{c}^{\\langle t \\rangle} = \\tanh(W_c[a^{\\langle t-1 \\rangle}, x^{\\langle t \\rangle}] + b_c)\\tag{3} $$\n",
        "Finally, the new cell state is:\n",
        "\n",
        "$$ c^{\\langle t \\rangle} = \\Gamma_f^{\\langle t \\rangle}* c^{\\langle t-1 \\rangle} + \\Gamma_u^{\\langle t \\rangle} *\\tilde{c}^{\\langle t \\rangle} \\tag{4} $$\n",
        "- Output gate\n",
        "To decide which outputs we will use, we will use the following two formulas:\n",
        "\n",
        "$$ \\Gamma_o^{\\langle t \\rangle}=  \\sigma(W_o[a^{\\langle t-1 \\rangle}, x^{\\langle t \\rangle}] + b_o)\\tag{5}$$\n",
        "$$ a^{\\langle t \\rangle} = \\Gamma_o^{\\langle t \\rangle}* \\tanh(c^{\\langle t \\rangle})\\tag{6} $$\n",
        "\n",
        "Where in equation 5 you decide what to output using a sigmoid function and in equation 6 you multiply that by the $\\tanh$ of the previous state."
      ]
    },
    {
      "cell_type": "markdown",
      "metadata": {
        "id": "T85-Uc1vg4Fx",
        "colab_type": "text"
      },
      "source": [
        "\n",
        "2.1 - LSTM cell\n",
        "Exercise: Implement the LSTM cell described in the Figure (3).\n",
        "\n",
        "Instructions:\n",
        "\n",
        "Concatenate $a^{\\langle t-1 \\rangle}$ and $x^{\\langle t \\rangle}$ in a single matrix: $concat = \\begin{bmatrix} a^{\\langle t-1 \\rangle} \\\\ x^{\\langle t \\rangle} \\end{bmatrix}$\n",
        "Compute all the formulas 1-6. You can use sigmoid() (provided) and np.tanh().\n",
        "Compute the prediction $y^{\\langle t \\rangle}$. You can use softmax() (provided).\n"
      ]
    },
    {
      "cell_type": "code",
      "metadata": {
        "id": "PXPis6dRhuDR",
        "colab_type": "code",
        "colab": {}
      },
      "source": [
        "def sigmoid(x):\n",
        "  return (1 / (1 + np.exp(-x)))"
      ],
      "execution_count": 0,
      "outputs": []
    },
    {
      "cell_type": "code",
      "metadata": {
        "id": "Nds-d8ADedhb",
        "colab_type": "code",
        "colab": {}
      },
      "source": [
        "def lstm_cell_forward(xt, a_prev, c_prev, parameters):\n",
        "    \"\"\"\n",
        "    Implement a single forward step of the LSTM-cell as described in Figure (4)\n",
        "\n",
        "    Arguments:\n",
        "    xt -- your input data at timestep \"t\", numpy array of shape (n_x, m).\n",
        "    a_prev -- Hidden state at timestep \"t-1\", numpy array of shape (n_a, m)\n",
        "    c_prev -- Memory state at timestep \"t-1\", numpy array of shape (n_a, m)\n",
        "    parameters -- python dictionary containing:\n",
        "                        Wf -- Weight matrix of the forget gate, numpy array of shape (n_a, n_a + n_x)\n",
        "                        bf -- Bias of the forget gate, numpy array of shape (n_a, 1)\n",
        "                        Wi -- Weight matrix of the update gate, numpy array of shape (n_a, n_a + n_x)\n",
        "                        bi -- Bias of the update gate, numpy array of shape (n_a, 1)\n",
        "                        Wc -- Weight matrix of the first \"tanh\", numpy array of shape (n_a, n_a + n_x)\n",
        "                        bc --  Bias of the first \"tanh\", numpy array of shape (n_a, 1)\n",
        "                        Wo -- Weight matrix of the output gate, numpy array of shape (n_a, n_a + n_x)\n",
        "                        bo --  Bias of the output gate, numpy array of shape (n_a, 1)\n",
        "                        Wy -- Weight matrix relating the hidden-state to the output, numpy array of shape (n_y, n_a)\n",
        "                        by -- Bias relating the hidden-state to the output, numpy array of shape (n_y, 1)\n",
        "                        \n",
        "    Returns:\n",
        "    a_next -- next hidden state, of shape (n_a, m)\n",
        "    c_next -- next memory state, of shape (n_a, m)\n",
        "    yt_pred -- prediction at timestep \"t\", numpy array of shape (n_y, m)\n",
        "    cache -- tuple of values needed for the backward pass, contains (a_next, c_next, a_prev, c_prev, xt, parameters)\n",
        "    \n",
        "    Note: ft/it/ot stand for the forget/update/output gates, cct stands for the candidate value (c tilde),\n",
        "          c stands for the memory value\n",
        "    \"\"\"\n",
        "\n",
        "    # Retrieve parameters from \"parameters\"\n",
        "    Wf = parameters[\"Wf\"]\n",
        "    bf = parameters[\"bf\"]\n",
        "    Wi = parameters[\"Wi\"]\n",
        "    bi = parameters[\"bi\"]\n",
        "    Wc = parameters[\"Wc\"]\n",
        "    bc = parameters[\"bc\"]\n",
        "    Wo = parameters[\"Wo\"]\n",
        "    bo = parameters[\"bo\"]\n",
        "    Wy = parameters[\"Wy\"]\n",
        "    by = parameters[\"by\"]\n",
        "    \n",
        "    # Retrieve dimensions from shapes of xt and Wy\n",
        "    n_x, m = xt.shape\n",
        "    n_y, n_a = Wy.shape\n",
        "\n",
        "    ### START CODE HERE ###\n",
        "    # Concatenate a_prev and xt (≈3 lines)\n",
        "    concat = np.zeros((n_a + n_x, m))\n",
        "    concat[: n_a, :] = a_prev\n",
        "    concat[n_a :, :] = xt\n",
        "\n",
        "    # Compute values for ft, it, cct, c_next, ot, a_next using the formulas given figure (4) (≈6 lines)\n",
        "    ft = sigmoid(np.dot(Wf, concat) + bf)\n",
        "    it = sigmoid(np.dot(Wi, concat) + bi)\n",
        "    cct = np.tanh(np.dot(Wc, concat) + bc)\n",
        "    c_next = ft * c_prev + it * cct \n",
        "    ot = sigmoid(np.dot(Wo, concat) + bo)\n",
        "    a_next = ot * np.tanh(c_next)\n",
        "    \n",
        "    # Compute prediction of the LSTM cell (≈1 line)\n",
        "    yt_pred = softmax(np.dot(Wy, a_next) + by)\n",
        "    ### END CODE HERE ###\n",
        "    # store values needed for backward propagation in cache\n",
        "    cache = (a_next, c_next, a_prev, c_prev, ft, it, cct, ot, xt, parameters)\n",
        "\n",
        "    return a_next, c_next, yt_pred, cache"
      ],
      "execution_count": 0,
      "outputs": []
    },
    {
      "cell_type": "code",
      "metadata": {
        "id": "GUSl7ZEbi3HB",
        "colab_type": "code",
        "outputId": "fbbbf4ea-042e-4f72-fa4e-3d1d0c32ec37",
        "colab": {
          "base_uri": "https://localhost:8080/",
          "height": 225
        }
      },
      "source": [
        "np.random.seed(1)\n",
        "xt = np.random.randn(3,10)\n",
        "a_prev = np.random.randn(5,10)\n",
        "c_prev = np.random.randn(5,10)\n",
        "Wf = np.random.randn(5, 5+3)\n",
        "bf = np.random.randn(5,1)\n",
        "Wi = np.random.randn(5, 5+3)\n",
        "bi = np.random.randn(5,1)\n",
        "Wo = np.random.randn(5, 5+3)\n",
        "bo = np.random.randn(5,1)\n",
        "Wc = np.random.randn(5, 5+3)\n",
        "bc = np.random.randn(5,1)\n",
        "Wy = np.random.randn(2,5)\n",
        "by = np.random.randn(2,1)\n",
        "\n",
        "parameters = {\"Wf\": Wf, \"Wi\": Wi, \"Wo\": Wo, \"Wc\": Wc, \"Wy\": Wy, \"bf\": bf, \"bi\": bi, \"bo\": bo, \"bc\": bc, \"by\": by}\n",
        "\n",
        "a_next, c_next, yt, cache = lstm_cell_forward(xt, a_prev, c_prev, parameters)\n",
        "print(\"a_next[4] = \", a_next[4])\n",
        "print(\"a_next.shape = \", c_next.shape)\n",
        "print(\"c_next[2] = \", c_next[2])\n",
        "print(\"c_next.shape = \", c_next.shape)\n",
        "print(\"yt[1] =\", yt[1])\n",
        "print(\"yt.shape = \", yt.shape)\n",
        "print(\"cache[1][3] =\", cache[1][3])\n",
        "print(\"len(cache) = \", len(cache))"
      ],
      "execution_count": 0,
      "outputs": [
        {
          "output_type": "stream",
          "text": [
            "a_next[4] =  [-0.66408471  0.0036921   0.02088357  0.22834167 -0.85575339  0.00138482\n",
            "  0.76566531  0.34631421 -0.00215674  0.43827275]\n",
            "a_next.shape =  (5, 10)\n",
            "c_next[2] =  [ 0.63267805  1.00570849  0.35504474  0.20690913 -1.64566718  0.11832942\n",
            "  0.76449811 -0.0981561  -0.74348425 -0.26810932]\n",
            "c_next.shape =  (5, 10)\n",
            "yt[1] = [0.0283805  0.00706782 0.00753306 0.01091349 0.02806865 0.00955958\n",
            " 0.00444923 0.01152125 0.01426974 0.01237766]\n",
            "yt.shape =  (2, 10)\n",
            "cache[1][3] = [-0.16263996  1.03729328  0.72938082 -0.54101719  0.02752074 -0.30821874\n",
            "  0.07651101 -1.03752894  1.41219977 -0.37647422]\n",
            "len(cache) =  10\n"
          ],
          "name": "stdout"
        }
      ]
    },
    {
      "cell_type": "code",
      "metadata": {
        "id": "cMnrFrYti0cN",
        "colab_type": "code",
        "colab": {}
      },
      "source": [
        ""
      ],
      "execution_count": 0,
      "outputs": []
    }
  ]
}
