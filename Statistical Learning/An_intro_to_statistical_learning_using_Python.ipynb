{
  "nbformat": 4,
  "nbformat_minor": 0,
  "metadata": {
    "colab": {
      "name": "An intro to statistical learning using Python.ipynb",
      "version": "0.3.2",
      "provenance": [],
      "collapsed_sections": [],
      "include_colab_link": true
    },
    "kernelspec": {
      "name": "python3",
      "display_name": "Python 3"
    }
  },
  "cells": [
    {
      "cell_type": "markdown",
      "metadata": {
        "id": "view-in-github",
        "colab_type": "text"
      },
      "source": [
        "<a href=\"https://colab.research.google.com/github/paruliansaragi/Notebooks/blob/master/An_intro_to_statistical_learning_using_Python.ipynb\" target=\"_parent\"><img src=\"https://colab.research.google.com/assets/colab-badge.svg\" alt=\"Open In Colab\"/></a>"
      ]
    },
    {
      "cell_type": "markdown",
      "metadata": {
        "id": "WMGt2Gi1hrPa",
        "colab_type": "text"
      },
      "source": [
        "# Chapter 1\n",
        "\n",
        "We are trying to predict the relationship between employee's age and education and the year on their wage. \n",
        "\n",
        "The graphs show wage increases with age but drops off after 60. But there is a significant amount of variability associated with average value so age alone is unlikely to provide an accuracte prediction. Wage roughly increases linearly with the calendar year. Education is also a good predictor. So the combinataion of all 3 are best to predict wage. \n",
        "\n",
        "# Chapter 2\n",
        "\n",
        "What is statistical learning? \n",
        "\n",
        "Advertising dataset http://www-bcf.usc.edu/~gareth/ISL/data.html\n",
        "\n",
        "consists of sales of that product in 200 different markets with advertising budgets. The advertising budgets are the input variables while sales are the output variables. X = (x1, x2,..,xn) of predictor variables and we assume there is some relationship between Y and X so Y = f(X) + $\\epsilon$. Where $\\epsilon$ is the error term (which is indepdent of X and has mean 0). The error term is a value that represents how observed data differs from actual data. In linear regression we seek to find a line of best fit. Best fit means the error term, the distance from each point to the line, is minimized. \n",
        "\n",
        "Statistical learning refers to a set of approaches for estimating f. This is for prediction and inference. \n",
        "\n",
        "Prediction: $\\hat{y} = \\hat{f}(X)$ where $\\hat{f}$ represents an estimate of f and the same for y resulting in a prediction for y. \n",
        "\n",
        "The accuracy $\\hat{y}$ for Y depends on 2 quantities called reducible error and irreducible error.  $\\hat{f}$ will not be a perfect estimate of f, and this accuracy produces some error. This error is **reducible** because we can improve $\\hat{f}$ by using the most appropriate statistical learning technique to estimate f. However, even if we could provide a perfect estimate it would still have error! This is because Y is a function of $\\epsilon$ which cannot be predicted by using X. Variability associated with $\\epsilon$ affects the accuracy of our predictions. This is known as **irreducible** error. Because no matter how well we estimate f we cannot reduce the error introduced by $\\epsilon$. Our task is to minimize the reducible error.\n",
        "\n",
        "Inference: we are interested in the way Y is affected as X1,...,Xn change. We estimate f but the goal is to understand the relationship between X and Y. How Y changes as a function of X's. We do this to: extract important predictors, positive or negative relationship of predictor with independent variable, is the relationship linear?\n",
        "\n",
        "For the advertising example, we want to know the effect that changing the price of a product have on sales? \n",
        "\n",
        "###How to estimate $f$? \n",
        "\n",
        "Largely the approaches fit between parametric and non-parametric approaches. \n",
        "\n",
        "####Parametric\n",
        "\n",
        "- We assume $f$ is linear: $f(X) = \\beta0 + \\beta1X1+\\beta2X2 + ... + \\beta pXp$, we only ned to estimate the $p$ + 1 coefficients $\\beta0, \\beta1...$. \n",
        "\n",
        "- We need a training procedure to fit or train the model, that is find values of these beta parameters. The most common is ordinary least squares. \n",
        "\n",
        "The model based approach is referred to as parametric; it reduces the problem of estimating f down to one of estimating a set of parameters.\n",
        "\n",
        "####Non-parametric\n",
        "\n",
        "These do not make explicit assumptions about the function form of f. These seek to estimate f as close to the data points as possible without being too rough or wiggly. The advantages are that since they make no assumption of the functional form of f they can fit a wider range of possible shapes for f. Non-parametric requires alot observations since they don't reduce the problem of estimating f to a small number of parameters. \n",
        "\n",
        "Linear regression is fairly inflexible because it can only generate linear functions (shapes) to estimate f. Why might we choose an inflexible approach? Inflexible approaches are more interpretable. Complicated estimates of are so complicated in form that it is hard to understand how any individual predictor is associated with the response. \n",
        "\n",
        "Not always the case? https://towardsdatascience.com/interpretable-neural-networks-45ac8aa91411\n",
        "\n",
        "We often obtain more accurate predictions using a less flexible method. \n",
        "\n",
        "###Assessing Model Accuracy\n",
        "\n",
        "Why do we have so many statistical learning approaches? Well there is no free lunch in statistics: no one method dominates all others over all possible data sets. \n",
        "\n",
        "####Measuring the Quality of Fit\n",
        "To evaluate the performance of a statistical learning method on a given data set, we need to measure how well its predictions match the data. E.g. Mean Squared Error. This measures whether predicted is close to the actual. This involves computing the average squared prediction error on some test set. This is a set of data outside of the training or development data. If no test set exists because the data is too small? Well still try minimize the loss but this may still produce an overfit model. \n",
        "\n",
        "Degrees of freedom is a quantity that summarizes the flexibility of a curve. Overfitting refers to the case where a less flexible model has low error on the training but does not generalize well to the test MSE in this case. We often use cross-validation to estimate the test MSE using training data. \n",
        "\n",
        "What does variance and bias of a statistical learning method mean? Variance refers to the amount by which $\\hat{f}$ would change if we estimated it using a different training data set. Different training data sets result in different $\\hat{f}$. Ideally this shouldn't vary too much between training sets. If a method has high variance then small changes in the training data results in large changes in $\\hat{f}$ since $\\hat{f}$ has overfit greatly, with too many degrees of freedom, of the training data.\n",
        "\n",
        "Bias refers to the error that is introduced by approximating a real life problem by a simple model. E.g. linear regression assumes the relationship is linear but this is rarely the case in real world situations. \n",
        "\n",
        "####Naive Bayes Classifier\n",
        "\n",
        "A simple classifier that assigns observations to the most likely class, given its predictor values. $PR(Y=j|X=x0)$ This is a conditional probability, the probability that Y=j, given the observed predictor vector $x0$. It chooses the class with the largest probability given above.The bayes classifier produces the lowest test error rate called Bayes error rate since it always chooses the class with the largest probability. \n",
        "\n",
        "####K-Nearest Neighbors\n",
        "\n",
        "This approach attempt to estimate the conditional distribution of Y given X and then classify a given observation to the class with the highest estimated probability. Given a positive integer K and test observatiov $x0$, KNN identifies K points in the training data that are closes to $x0$, represented by N0. KNN applies the Bayes rule and classifies the test observation to the class with the largest probability. \n",
        "\n",
        "This is a simple classifier. Data with known categories we can cluster via PCA. Then for a new observation we try to classify. This is done by looking at the nearest neighbour. If K = 1 then we will only use the nearest neighbour to define that category. If 5 we use the 5 nearest neighbours. "
      ]
    },
    {
      "cell_type": "markdown",
      "metadata": {
        "id": "IJHPvALe-wUY",
        "colab_type": "text"
      },
      "source": [
        "#Questions\n",
        "\n",
        "###1. Indicate whether we expect the performance of a flexible statistical learning method to be better or worse than inflexible? \n",
        "\n",
        "- a) The sample size n is extremely large, and the number of predictors p is small? We prefer flexible approaches that perform well with lots of observations and don't reduce the problem of estimating f to a small number of parameters.  Since there are less predictors the explanatory power of a inflexible model will be small and it is unlikely that as more \n",
        "- b) What about for extremely large predictors and small number of observations? With lots of predictors the flexible model will likely overfit and have high variance to new observations. An inflexible approach is better for less observations and we can reduce the problem of f to a small number of parameters of f and we can infer which variables we need and which are redundant and dont provide any new information. \n",
        "- c) The relationship between the predictors and response is highly non-linear? We need non-parametric models to deal with non-linear models as we need to approximate any abitrarily complex shape. \n",
        "- d) The variance of the error terms, i.e. $\\sigma^{2} = Var(\\epsilon)$ is extremely high? The term MSE is used to refer to the unbiased estimate of error variance: the residual sum of squares divided by the number of degrees of freedom. That is we have some real value for y and an estimate for y, and the variance tells you how much your estimation varies around real values. If we are suffering from high variance we need to reduce overfitment and choose a more inflexible model that has fewer degrees of freedom.\n",
        "\n",
        "###2. Explain if the following scenario is a classification or regression problem, and indicate if we are interested in inference or prediction. Finally provide n and p.\n",
        "\n",
        "- a) We collect a set of data on the top 500 firms. For each firm we record profit, number of employees, industry and CEO salary. We are interested in understanding which factors affect CEO salary. This is a regression problem and we are trying to infer the relationship between \n",
        "the predictors (employees, industry, profit) affect salary. The n = 500. \n",
        "\n"
      ]
    },
    {
      "cell_type": "code",
      "metadata": {
        "id": "aPXqlhj-8Q87",
        "colab_type": "code",
        "colab": {}
      },
      "source": [
        "import pandas as pd\n",
        "import numpy as np\n",
        "import matplotlib.pyplot as plt"
      ],
      "execution_count": 0,
      "outputs": []
    },
    {
      "cell_type": "code",
      "metadata": {
        "id": "Nr9QMgRw9b_a",
        "colab_type": "code",
        "colab": {
          "base_uri": "https://localhost:8080/",
          "height": 377
        },
        "outputId": "20f89eb1-ae70-439c-ade9-e3bee8a5b217"
      },
      "source": [
        "df = pd.read_csv(\"./College.csv\")\n",
        "df.head()"
      ],
      "execution_count": 155,
      "outputs": [
        {
          "output_type": "execute_result",
          "data": {
            "text/html": [
              "<div>\n",
              "<style scoped>\n",
              "    .dataframe tbody tr th:only-of-type {\n",
              "        vertical-align: middle;\n",
              "    }\n",
              "\n",
              "    .dataframe tbody tr th {\n",
              "        vertical-align: top;\n",
              "    }\n",
              "\n",
              "    .dataframe thead th {\n",
              "        text-align: right;\n",
              "    }\n",
              "</style>\n",
              "<table border=\"1\" class=\"dataframe\">\n",
              "  <thead>\n",
              "    <tr style=\"text-align: right;\">\n",
              "      <th></th>\n",
              "      <th>Unnamed: 0</th>\n",
              "      <th>Private</th>\n",
              "      <th>Apps</th>\n",
              "      <th>Accept</th>\n",
              "      <th>Enroll</th>\n",
              "      <th>Top10perc</th>\n",
              "      <th>Top25perc</th>\n",
              "      <th>F.Undergrad</th>\n",
              "      <th>P.Undergrad</th>\n",
              "      <th>Outstate</th>\n",
              "      <th>Room.Board</th>\n",
              "      <th>Books</th>\n",
              "      <th>Personal</th>\n",
              "      <th>PhD</th>\n",
              "      <th>Terminal</th>\n",
              "      <th>S.F.Ratio</th>\n",
              "      <th>perc.alumni</th>\n",
              "      <th>Expend</th>\n",
              "      <th>Grad.Rate</th>\n",
              "    </tr>\n",
              "  </thead>\n",
              "  <tbody>\n",
              "    <tr>\n",
              "      <th>0</th>\n",
              "      <td>Abilene Christian University</td>\n",
              "      <td>Yes</td>\n",
              "      <td>1660</td>\n",
              "      <td>1232</td>\n",
              "      <td>721</td>\n",
              "      <td>23</td>\n",
              "      <td>52</td>\n",
              "      <td>2885</td>\n",
              "      <td>537</td>\n",
              "      <td>7440</td>\n",
              "      <td>3300</td>\n",
              "      <td>450</td>\n",
              "      <td>2200</td>\n",
              "      <td>70</td>\n",
              "      <td>78</td>\n",
              "      <td>18.1</td>\n",
              "      <td>12</td>\n",
              "      <td>7041</td>\n",
              "      <td>60</td>\n",
              "    </tr>\n",
              "    <tr>\n",
              "      <th>1</th>\n",
              "      <td>Adelphi University</td>\n",
              "      <td>Yes</td>\n",
              "      <td>2186</td>\n",
              "      <td>1924</td>\n",
              "      <td>512</td>\n",
              "      <td>16</td>\n",
              "      <td>29</td>\n",
              "      <td>2683</td>\n",
              "      <td>1227</td>\n",
              "      <td>12280</td>\n",
              "      <td>6450</td>\n",
              "      <td>750</td>\n",
              "      <td>1500</td>\n",
              "      <td>29</td>\n",
              "      <td>30</td>\n",
              "      <td>12.2</td>\n",
              "      <td>16</td>\n",
              "      <td>10527</td>\n",
              "      <td>56</td>\n",
              "    </tr>\n",
              "    <tr>\n",
              "      <th>2</th>\n",
              "      <td>Adrian College</td>\n",
              "      <td>Yes</td>\n",
              "      <td>1428</td>\n",
              "      <td>1097</td>\n",
              "      <td>336</td>\n",
              "      <td>22</td>\n",
              "      <td>50</td>\n",
              "      <td>1036</td>\n",
              "      <td>99</td>\n",
              "      <td>11250</td>\n",
              "      <td>3750</td>\n",
              "      <td>400</td>\n",
              "      <td>1165</td>\n",
              "      <td>53</td>\n",
              "      <td>66</td>\n",
              "      <td>12.9</td>\n",
              "      <td>30</td>\n",
              "      <td>8735</td>\n",
              "      <td>54</td>\n",
              "    </tr>\n",
              "    <tr>\n",
              "      <th>3</th>\n",
              "      <td>Agnes Scott College</td>\n",
              "      <td>Yes</td>\n",
              "      <td>417</td>\n",
              "      <td>349</td>\n",
              "      <td>137</td>\n",
              "      <td>60</td>\n",
              "      <td>89</td>\n",
              "      <td>510</td>\n",
              "      <td>63</td>\n",
              "      <td>12960</td>\n",
              "      <td>5450</td>\n",
              "      <td>450</td>\n",
              "      <td>875</td>\n",
              "      <td>92</td>\n",
              "      <td>97</td>\n",
              "      <td>7.7</td>\n",
              "      <td>37</td>\n",
              "      <td>19016</td>\n",
              "      <td>59</td>\n",
              "    </tr>\n",
              "    <tr>\n",
              "      <th>4</th>\n",
              "      <td>Alaska Pacific University</td>\n",
              "      <td>Yes</td>\n",
              "      <td>193</td>\n",
              "      <td>146</td>\n",
              "      <td>55</td>\n",
              "      <td>16</td>\n",
              "      <td>44</td>\n",
              "      <td>249</td>\n",
              "      <td>869</td>\n",
              "      <td>7560</td>\n",
              "      <td>4120</td>\n",
              "      <td>800</td>\n",
              "      <td>1500</td>\n",
              "      <td>76</td>\n",
              "      <td>72</td>\n",
              "      <td>11.9</td>\n",
              "      <td>2</td>\n",
              "      <td>10922</td>\n",
              "      <td>15</td>\n",
              "    </tr>\n",
              "  </tbody>\n",
              "</table>\n",
              "</div>"
            ],
            "text/plain": [
              "                     Unnamed: 0 Private  Apps  Accept  Enroll  Top10perc  \\\n",
              "0  Abilene Christian University     Yes  1660    1232     721         23   \n",
              "1            Adelphi University     Yes  2186    1924     512         16   \n",
              "2                Adrian College     Yes  1428    1097     336         22   \n",
              "3           Agnes Scott College     Yes   417     349     137         60   \n",
              "4     Alaska Pacific University     Yes   193     146      55         16   \n",
              "\n",
              "   Top25perc  F.Undergrad  P.Undergrad  Outstate  Room.Board  Books  Personal  \\\n",
              "0         52         2885          537      7440        3300    450      2200   \n",
              "1         29         2683         1227     12280        6450    750      1500   \n",
              "2         50         1036           99     11250        3750    400      1165   \n",
              "3         89          510           63     12960        5450    450       875   \n",
              "4         44          249          869      7560        4120    800      1500   \n",
              "\n",
              "   PhD  Terminal  S.F.Ratio  perc.alumni  Expend  Grad.Rate  \n",
              "0   70        78       18.1           12    7041         60  \n",
              "1   29        30       12.2           16   10527         56  \n",
              "2   53        66       12.9           30    8735         54  \n",
              "3   92        97        7.7           37   19016         59  \n",
              "4   76        72       11.9            2   10922         15  "
            ]
          },
          "metadata": {
            "tags": []
          },
          "execution_count": 155
        }
      ]
    },
    {
      "cell_type": "code",
      "metadata": {
        "id": "gYQMnPJo9h31",
        "colab_type": "code",
        "colab": {
          "base_uri": "https://localhost:8080/",
          "height": 34
        },
        "outputId": "0ad4e566-ef8d-4b3e-c50a-1625a254584c"
      },
      "source": [
        "df.shape"
      ],
      "execution_count": 19,
      "outputs": [
        {
          "output_type": "execute_result",
          "data": {
            "text/plain": [
              "(777, 19)"
            ]
          },
          "metadata": {
            "tags": []
          },
          "execution_count": 19
        }
      ]
    },
    {
      "cell_type": "code",
      "metadata": {
        "id": "0W-6t-q_9lod",
        "colab_type": "code",
        "colab": {
          "base_uri": "https://localhost:8080/",
          "height": 337
        },
        "outputId": "afb616ce-6056-42d2-f5c6-37c1afd95904"
      },
      "source": [
        "plt.hist(df.sales)"
      ],
      "execution_count": 5,
      "outputs": [
        {
          "output_type": "execute_result",
          "data": {
            "text/plain": [
              "(array([ 2.,  9., 20., 47., 35., 29., 22., 17., 12.,  7.]),\n",
              " array([ 1.6 ,  4.14,  6.68,  9.22, 11.76, 14.3 , 16.84, 19.38, 21.92,\n",
              "        24.46, 27.  ]),\n",
              " <a list of 10 Patch objects>)"
            ]
          },
          "metadata": {
            "tags": []
          },
          "execution_count": 5
        },
        {
          "output_type": "display_data",
          "data": {
            "image/png": "[encoded data removed]",
            "text/plain": [
              "<Figure size 432x288 with 1 Axes>"
            ]
          },
          "metadata": {
            "tags": []
          }
        }
      ]
    },
    {
      "cell_type": "code",
      "metadata": {
        "id": "CXUFuUb79sr2",
        "colab_type": "code",
        "colab": {
          "base_uri": "https://localhost:8080/",
          "height": 286
        },
        "outputId": "4b571aba-c11f-4672-cab5-056fd59a7336"
      },
      "source": [
        "plt.plot(df.TV, df.sales)"
      ],
      "execution_count": 6,
      "outputs": [
        {
          "output_type": "execute_result",
          "data": {
            "text/plain": [
              "[<matplotlib.lines.Line2D at 0x7fc5bf8f8a90>]"
            ]
          },
          "metadata": {
            "tags": []
          },
          "execution_count": 6
        },
        {
          "output_type": "display_data",
          "data": {
            "image/png": "[encoded data removed]",
            "text/plain": [
              "<Figure size 432x288 with 1 Axes>"
            ]
          },
          "metadata": {
            "tags": []
          }
        }
      ]
    },
    {
      "cell_type": "code",
      "metadata": {
        "id": "f58ZzQlZ-iFT",
        "colab_type": "code",
        "colab": {
          "base_uri": "https://localhost:8080/",
          "height": 3267
        },
        "outputId": "80551c5f-b4ba-4292-bc01-61e276150ab1"
      },
      "source": [
        "df.describe"
      ],
      "execution_count": 20,
      "outputs": [
        {
          "output_type": "execute_result",
          "data": {
            "text/plain": [
              "<bound method NDFrame.describe of                                   Unnamed: 0 Private   Apps  Accept  Enroll  \\\n",
              "0               Abilene Christian University     Yes   1660    1232     721   \n",
              "1                         Adelphi University     Yes   2186    1924     512   \n",
              "2                             Adrian College     Yes   1428    1097     336   \n",
              "3                        Agnes Scott College     Yes    417     349     137   \n",
              "4                  Alaska Pacific University     Yes    193     146      55   \n",
              "5                          Albertson College     Yes    587     479     158   \n",
              "6                    Albertus Magnus College     Yes    353     340     103   \n",
              "7                             Albion College     Yes   1899    1720     489   \n",
              "8                           Albright College     Yes   1038     839     227   \n",
              "9                  Alderson-Broaddus College     Yes    582     498     172   \n",
              "10                         Alfred University     Yes   1732    1425     472   \n",
              "11                         Allegheny College     Yes   2652    1900     484   \n",
              "12   Allentown Coll. of St. Francis de Sales     Yes   1179     780     290   \n",
              "13                              Alma College     Yes   1267    1080     385   \n",
              "14                           Alverno College     Yes    494     313     157   \n",
              "15            American International College     Yes   1420    1093     220   \n",
              "16                           Amherst College     Yes   4302     992     418   \n",
              "17                       Anderson University     Yes   1216     908     423   \n",
              "18                        Andrews University     Yes   1130     704     322   \n",
              "19                   Angelo State University      No   3540    2001    1016   \n",
              "20                        Antioch University     Yes    713     661     252   \n",
              "21              Appalachian State University      No   7313    4664    1910   \n",
              "22                           Aquinas College     Yes    619     516     219   \n",
              "23      Arizona State University Main campus      No  12809   10308    3761   \n",
              "24           Arkansas College (Lyon College)     Yes    708     334     166   \n",
              "25                  Arkansas Tech University      No   1734    1729     951   \n",
              "26                        Assumption College     Yes   2135    1700     491   \n",
              "27             Auburn University-Main Campus      No   7548    6791    3070   \n",
              "28                          Augsburg College     Yes    662     513     257   \n",
              "29                      Augustana College IL     Yes   1879    1658     497   \n",
              "..                                       ...     ...    ...     ...     ...   \n",
              "747                  Westfield State College      No   3100    2150     825   \n",
              "748                   Westminster College MO     Yes    662     553     184   \n",
              "749                      Westminster College     Yes    996     866     377   \n",
              "750    Westminster College of Salt Lake City     Yes    917     720     213   \n",
              "751                         Westmont College      No    950     713     351   \n",
              "752                       Wheaton College IL     Yes   1432     920     548   \n",
              "753                   Westminster College PA     Yes   1738    1373     417   \n",
              "754                  Wheeling Jesuit College     Yes    903     755     213   \n",
              "755                          Whitman College     Yes   1861     998     359   \n",
              "756                         Whittier College     Yes   1681    1069     344   \n",
              "757                        Whitworth College     Yes   1121     926     372   \n",
              "758                       Widener University     Yes   2139    1492     502   \n",
              "759                        Wilkes University     Yes   1631    1431     434   \n",
              "760                    Willamette University     Yes   1658    1327     395   \n",
              "761                   William Jewell College     Yes    663     547     315   \n",
              "762                 William Woods University     Yes    469     435     227   \n",
              "763                         Williams College     Yes   4186    1245     526   \n",
              "764                           Wilson College     Yes    167     130      46   \n",
              "765                          Wingate College     Yes   1239    1017     383   \n",
              "766                  Winona State University      No   3325    2047    1301   \n",
              "767                      Winthrop University      No   2320    1805     769   \n",
              "768               Wisconsin Lutheran College     Yes    152     128      75   \n",
              "769                    Wittenberg University     Yes   1979    1739     575   \n",
              "770                          Wofford College     Yes   1501     935     273   \n",
              "771          Worcester Polytechnic Institute     Yes   2768    2314     682   \n",
              "772                  Worcester State College      No   2197    1515     543   \n",
              "773                        Xavier University     Yes   1959    1805     695   \n",
              "774           Xavier University of Louisiana     Yes   2097    1915     695   \n",
              "775                          Yale University     Yes  10705    2453    1317   \n",
              "776             York College of Pennsylvania     Yes   2989    1855     691   \n",
              "\n",
              "     Top10perc  Top25perc  F.Undergrad  P.Undergrad  Outstate  Room.Board  \\\n",
              "0           23         52         2885          537      7440        3300   \n",
              "1           16         29         2683         1227     12280        6450   \n",
              "2           22         50         1036           99     11250        3750   \n",
              "3           60         89          510           63     12960        5450   \n",
              "4           16         44          249          869      7560        4120   \n",
              "5           38         62          678           41     13500        3335   \n",
              "6           17         45          416          230     13290        5720   \n",
              "7           37         68         1594           32     13868        4826   \n",
              "8           30         63          973          306     15595        4400   \n",
              "9           21         44          799           78     10468        3380   \n",
              "10          37         75         1830          110     16548        5406   \n",
              "11          44         77         1707           44     17080        4440   \n",
              "12          38         64         1130          638      9690        4785   \n",
              "13          44         73         1306           28     12572        4552   \n",
              "14          23         46         1317         1235      8352        3640   \n",
              "15           9         22         1018          287      8700        4780   \n",
              "16          83         96         1593            5     19760        5300   \n",
              "17          19         40         1819          281     10100        3520   \n",
              "18          14         23         1586          326      9996        3090   \n",
              "19          24         54         4190         1512      5130        3592   \n",
              "20          25         44          712           23     15476        3336   \n",
              "21          20         63         9940         1035      6806        2540   \n",
              "22          20         51         1251          767     11208        4124   \n",
              "23          24         49        22593         7585      7434        4850   \n",
              "24          46         74          530          182      8644        3922   \n",
              "25          12         52         3602          939      3460        2650   \n",
              "26          23         59         1708          689     12000        5920   \n",
              "27          25         57        16262         1716      6300        3933   \n",
              "28          12         30         2074          726     11902        4372   \n",
              "29          36         69         1950           38     13353        4173   \n",
              "..         ...        ...          ...          ...       ...         ...   \n",
              "747          3         20         3234          941      5542        3788   \n",
              "748         20         43          665           37     10720        4050   \n",
              "749         29         58         1411           72     12065        3615   \n",
              "750         21         60          979          743      8820        4050   \n",
              "751         42         72         1276            9     14320        5304   \n",
              "752         56         84         2200           56     11480        4200   \n",
              "753         21         55         1335           30     18460        5970   \n",
              "754         15         49          971          305     10500        4545   \n",
              "755         45         77         1220           46     16670        4900   \n",
              "756         35         63         1235           30     16249        5699   \n",
              "757         43         70         1270          160     12660        4500   \n",
              "758         24         64         2186         2171     12350        5370   \n",
              "759         15         36         1803          603     11150        5130   \n",
              "760         49         80         1595          159     14800        4620   \n",
              "761         32         67         1279           75     10060        2970   \n",
              "762         17         39          851          120     10535        4365   \n",
              "763         81         96         1988           29     19629        5790   \n",
              "764         16         50          199          676     11428        5084   \n",
              "765         10         34         1207          157      7820        3400   \n",
              "766         20         45         5800          872      4200        2700   \n",
              "767         24         61         3395          670      6400        3392   \n",
              "768         17         41          282           22      9100        3700   \n",
              "769         42         68         1980          144     15948        4404   \n",
              "770         51         83         1059           34     12680        4150   \n",
              "771         49         86         2802           86     15884        5370   \n",
              "772          4         26         3089         2029      6797        3900   \n",
              "773         24         47         2849         1107     11520        4960   \n",
              "774         34         61         2793          166      6900        4200   \n",
              "775         95         99         5217           83     19840        6510   \n",
              "776         28         63         2988         1726      4990        3560   \n",
              "\n",
              "     Books  Personal  PhD  Terminal  S.F.Ratio  perc.alumni  Expend  Grad.Rate  \n",
              "0      450      2200   70        78       18.1           12    7041         60  \n",
              "1      750      1500   29        30       12.2           16   10527         56  \n",
              "2      400      1165   53        66       12.9           30    8735         54  \n",
              "3      450       875   92        97        7.7           37   19016         59  \n",
              "4      800      1500   76        72       11.9            2   10922         15  \n",
              "5      500       675   67        73        9.4           11    9727         55  \n",
              "6      500      1500   90        93       11.5           26    8861         63  \n",
              "7      450       850   89       100       13.7           37   11487         73  \n",
              "8      300       500   79        84       11.3           23   11644         80  \n",
              "9      660      1800   40        41       11.5           15    8991         52  \n",
              "10     500       600   82        88       11.3           31   10932         73  \n",
              "11     400       600   73        91        9.9           41   11711         76  \n",
              "12     600      1000   60        84       13.3           21    7940         74  \n",
              "13     400       400   79        87       15.3           32    9305         68  \n",
              "14     650      2449   36        69       11.1           26    8127         55  \n",
              "15     450      1400   78        84       14.7           19    7355         69  \n",
              "16     660      1598   93        98        8.4           63   21424        100  \n",
              "17     550      1100   48        61       12.1           14    7994         59  \n",
              "18     900      1320   62        66       11.5           18   10908         46  \n",
              "19     500      2000   60        62       23.1            5    4010         34  \n",
              "20     400      1100   69        82       11.3           35   42926         48  \n",
              "21      96      2000   83        96       18.3           14    5854         70  \n",
              "22     350      1615   55        65       12.7           25    6584         65  \n",
              "23     700      2100   88        93       18.9            5    4602         48  \n",
              "24     500       800   79        88       12.6           24   14579         54  \n",
              "25     450      1000   57        60       19.6            5    4739         48  \n",
              "26     500       500   93        93       13.8           30    7100         88  \n",
              "27     600      1908   85        91       16.7           18    6642         69  \n",
              "28     540       950   65        65       12.8           31    7836         58  \n",
              "29     540       821   78        83       12.7           40    9220         71  \n",
              "..     ...       ...  ...       ...        ...          ...     ...        ...  \n",
              "747    500      1300   75        79       15.7           20    4222         65  \n",
              "748    600      1650   66        70       12.5           20    7925         62  \n",
              "749    430       685   62        78       12.5           41    8596         80  \n",
              "750    600      2025   68        83       10.5           34    7170         50  \n",
              "751    490      1410   77        77       14.9           17    8837         87  \n",
              "752    530      1400   81        83       12.7           40   11916         85  \n",
              "753    700       850   92        96       13.2           41   22704         71  \n",
              "754    600       600   66        71       14.1           27    7494         72  \n",
              "755    750       800   80        83       10.5           51   13198         72  \n",
              "756    500      1998   84        92       13.6           29   11778         52  \n",
              "757    678      2424   80        80       16.9           20    8328         80  \n",
              "758    500      1350   88        86       12.6           19    9603         63  \n",
              "759    550      1260   78        92       13.3           24    8543         67  \n",
              "760    400       790   91        94       13.3           37   10779         68  \n",
              "761    500      2600   74        80       11.2           19    7885         59  \n",
              "762    550      3700   39        66       12.9           16    7438         52  \n",
              "763    500      1200   94        99        9.0           64   22014         99  \n",
              "764    450       475   67        76        8.3           43   10291         67  \n",
              "765    550      1550   69        81       13.9            8    7264         91  \n",
              "766    300      1200   53        60       20.2           18    5318         58  \n",
              "767    580      2150   71        80       12.8           26    6729         59  \n",
              "768    500      1400   48        48        8.5           26    8960         50  \n",
              "769    400       800   82        95       12.8           29   10414         78  \n",
              "770    605      1440   91        92       15.3           42    7875         75  \n",
              "771    530       730   92        94       15.2           34   10774         82  \n",
              "772    500      1200   60        60       21.0           14    4469         40  \n",
              "773    600      1250   73        75       13.3           31    9189         83  \n",
              "774    617       781   67        75       14.4           20    8323         49  \n",
              "775    630      2115   96        96        5.8           49   40386         99  \n",
              "776    500      1250   75        75       18.1           28    4509         99  \n",
              "\n",
              "[777 rows x 19 columns]>"
            ]
          },
          "metadata": {
            "tags": []
          },
          "execution_count": 20
        }
      ]
    },
    {
      "cell_type": "code",
      "metadata": {
        "id": "lQutAV73KU2z",
        "colab_type": "code",
        "colab": {
          "base_uri": "https://localhost:8080/",
          "height": 3085
        },
        "outputId": "dc47eb85-4581-4177-950c-ab12e9ac0368"
      },
      "source": [
        "import seaborn as sns; sns.set(style=\"ticks\", color_codes=True)\n",
        "\n",
        "g = sns.pairplot(df[:10])"
      ],
      "execution_count": 24,
      "outputs": [
        {
          "output_type": "display_data",
          "data": {
            "image/png": "[encoded data removed]",
            "text/plain": [
              "<Figure size 3060x3060 with 306 Axes>"
            ]
          },
          "metadata": {
            "tags": []
          }
        }
      ]
    },
    {
      "cell_type": "code",
      "metadata": {
        "id": "IOo5bndRKgAl",
        "colab_type": "code",
        "colab": {
          "base_uri": "https://localhost:8080/",
          "height": 185
        },
        "outputId": "2b1bc00e-1791-44ce-b33a-f4f4d8497bfd"
      },
      "source": [
        "g = sns.pairplot(df, x_vars=['Outstate'], y_vars=['Private'])"
      ],
      "execution_count": 26,
      "outputs": [
        {
          "output_type": "display_data",
          "data": {
            "image/png": "[encoded data removed]",
            "text/plain": [
              "<Figure size 180x180 with 1 Axes>"
            ]
          },
          "metadata": {
            "tags": []
          }
        }
      ]
    },
    {
      "cell_type": "code",
      "metadata": {
        "id": "GvjX_ftCLSnv",
        "colab_type": "code",
        "colab": {
          "base_uri": "https://localhost:8080/",
          "height": 410
        },
        "outputId": "e1f88056-7b01-49a9-f05f-472202681ae7"
      },
      "source": [
        "plt.boxplot(df.Outstate)"
      ],
      "execution_count": 39,
      "outputs": [
        {
          "output_type": "execute_result",
          "data": {
            "text/plain": [
              "{'boxes': [<matplotlib.lines.Line2D at 0x7fc5a5aa80f0>],\n",
              " 'caps': [<matplotlib.lines.Line2D at 0x7fc5a5aa8978>,\n",
              "  <matplotlib.lines.Line2D at 0x7fc5a5aa8cf8>],\n",
              " 'fliers': [<matplotlib.lines.Line2D at 0x7fc5a5ab4438>],\n",
              " 'means': [],\n",
              " 'medians': [<matplotlib.lines.Line2D at 0x7fc5a5ab40b8>],\n",
              " 'whiskers': [<matplotlib.lines.Line2D at 0x7fc5a5aa8278>,\n",
              "  <matplotlib.lines.Line2D at 0x7fc5a5aa85f8>]}"
            ]
          },
          "metadata": {
            "tags": []
          },
          "execution_count": 39
        },
        {
          "output_type": "display_data",
          "data": {
            "image/png": "[encoded data removed]",
            "text/plain": [
              "<Figure size 432x288 with 1 Axes>"
            ]
          },
          "metadata": {
            "tags": []
          }
        }
      ]
    },
    {
      "cell_type": "code",
      "metadata": {
        "id": "pgJ8z2BdNdTz",
        "colab_type": "code",
        "colab": {}
      },
      "source": [
        "Elite = df.Top10perc > 50"
      ],
      "execution_count": 0,
      "outputs": []
    },
    {
      "cell_type": "code",
      "metadata": {
        "id": "I_dCriNmQT3R",
        "colab_type": "code",
        "colab": {}
      },
      "source": [
        "not_elite = df.Top10perc < 50\n",
        "not_elite_df = df[not_elite]"
      ],
      "execution_count": 0,
      "outputs": []
    },
    {
      "cell_type": "code",
      "metadata": {
        "id": "P_w0HLThNuSV",
        "colab_type": "code",
        "colab": {}
      },
      "source": [
        "elite_df = df[Elite]\n",
        "Elite = df['Unnamed: 0'][Elite]"
      ],
      "execution_count": 0,
      "outputs": []
    },
    {
      "cell_type": "code",
      "metadata": {
        "id": "mnGBEq0tOs51",
        "colab_type": "code",
        "colab": {
          "base_uri": "https://localhost:8080/",
          "height": 119
        },
        "outputId": "d5aa0d69-3d3a-433b-cbfd-54236550ae39"
      },
      "source": [
        "Elite.head()"
      ],
      "execution_count": 72,
      "outputs": [
        {
          "output_type": "execute_result",
          "data": {
            "text/plain": [
              "3             Agnes Scott College\n",
              "16                Amherst College\n",
              "37                Barnard College\n",
              "54    Birmingham-Southern College\n",
              "60                Bowdoin College\n",
              "Name: Unnamed: 0, dtype: object"
            ]
          },
          "metadata": {
            "tags": []
          },
          "execution_count": 72
        }
      ]
    },
    {
      "cell_type": "code",
      "metadata": {
        "id": "DU6ADK-iPLXN",
        "colab_type": "code",
        "colab": {
          "base_uri": "https://localhost:8080/",
          "height": 291
        },
        "outputId": "17474388-7984-4af8-a4a6-17c506e90c69"
      },
      "source": [
        "Elite[:5].hist(bins=5)"
      ],
      "execution_count": 73,
      "outputs": [
        {
          "output_type": "execute_result",
          "data": {
            "text/plain": [
              "<matplotlib.axes._subplots.AxesSubplot at 0x7fc5a4b30cf8>"
            ]
          },
          "metadata": {
            "tags": []
          },
          "execution_count": 73
        },
        {
          "output_type": "display_data",
          "data": {
            "image/png": "[encoded data removed]",
            "text/plain": [
              "<Figure size 432x288 with 1 Axes>"
            ]
          },
          "metadata": {
            "tags": []
          }
        }
      ]
    },
    {
      "cell_type": "code",
      "metadata": {
        "id": "TXKbA8-rPTmM",
        "colab_type": "code",
        "colab": {
          "base_uri": "https://localhost:8080/",
          "height": 326
        },
        "outputId": "61d95a08-ce28-40ea-cef6-9bd6a3b2847d"
      },
      "source": [
        "elite_df.head()"
      ],
      "execution_count": 74,
      "outputs": [
        {
          "output_type": "execute_result",
          "data": {
            "text/html": [
              "<div>\n",
              "<style scoped>\n",
              "    .dataframe tbody tr th:only-of-type {\n",
              "        vertical-align: middle;\n",
              "    }\n",
              "\n",
              "    .dataframe tbody tr th {\n",
              "        vertical-align: top;\n",
              "    }\n",
              "\n",
              "    .dataframe thead th {\n",
              "        text-align: right;\n",
              "    }\n",
              "</style>\n",
              "<table border=\"1\" class=\"dataframe\">\n",
              "  <thead>\n",
              "    <tr style=\"text-align: right;\">\n",
              "      <th></th>\n",
              "      <th>Unnamed: 0</th>\n",
              "      <th>Private</th>\n",
              "      <th>Apps</th>\n",
              "      <th>Accept</th>\n",
              "      <th>Enroll</th>\n",
              "      <th>Top10perc</th>\n",
              "      <th>Top25perc</th>\n",
              "      <th>F.Undergrad</th>\n",
              "      <th>P.Undergrad</th>\n",
              "      <th>Outstate</th>\n",
              "      <th>Room.Board</th>\n",
              "      <th>Books</th>\n",
              "      <th>Personal</th>\n",
              "      <th>PhD</th>\n",
              "      <th>Terminal</th>\n",
              "      <th>S.F.Ratio</th>\n",
              "      <th>perc.alumni</th>\n",
              "      <th>Expend</th>\n",
              "      <th>Grad.Rate</th>\n",
              "    </tr>\n",
              "  </thead>\n",
              "  <tbody>\n",
              "    <tr>\n",
              "      <th>3</th>\n",
              "      <td>Agnes Scott College</td>\n",
              "      <td>Yes</td>\n",
              "      <td>417</td>\n",
              "      <td>349</td>\n",
              "      <td>137</td>\n",
              "      <td>60</td>\n",
              "      <td>89</td>\n",
              "      <td>510</td>\n",
              "      <td>63</td>\n",
              "      <td>12960</td>\n",
              "      <td>5450</td>\n",
              "      <td>450</td>\n",
              "      <td>875</td>\n",
              "      <td>92</td>\n",
              "      <td>97</td>\n",
              "      <td>7.7</td>\n",
              "      <td>37</td>\n",
              "      <td>19016</td>\n",
              "      <td>59</td>\n",
              "    </tr>\n",
              "    <tr>\n",
              "      <th>16</th>\n",
              "      <td>Amherst College</td>\n",
              "      <td>Yes</td>\n",
              "      <td>4302</td>\n",
              "      <td>992</td>\n",
              "      <td>418</td>\n",
              "      <td>83</td>\n",
              "      <td>96</td>\n",
              "      <td>1593</td>\n",
              "      <td>5</td>\n",
              "      <td>19760</td>\n",
              "      <td>5300</td>\n",
              "      <td>660</td>\n",
              "      <td>1598</td>\n",
              "      <td>93</td>\n",
              "      <td>98</td>\n",
              "      <td>8.4</td>\n",
              "      <td>63</td>\n",
              "      <td>21424</td>\n",
              "      <td>100</td>\n",
              "    </tr>\n",
              "    <tr>\n",
              "      <th>37</th>\n",
              "      <td>Barnard College</td>\n",
              "      <td>Yes</td>\n",
              "      <td>2496</td>\n",
              "      <td>1402</td>\n",
              "      <td>531</td>\n",
              "      <td>53</td>\n",
              "      <td>95</td>\n",
              "      <td>2121</td>\n",
              "      <td>69</td>\n",
              "      <td>17926</td>\n",
              "      <td>8124</td>\n",
              "      <td>600</td>\n",
              "      <td>850</td>\n",
              "      <td>83</td>\n",
              "      <td>93</td>\n",
              "      <td>10.3</td>\n",
              "      <td>33</td>\n",
              "      <td>12580</td>\n",
              "      <td>91</td>\n",
              "    </tr>\n",
              "    <tr>\n",
              "      <th>54</th>\n",
              "      <td>Birmingham-Southern College</td>\n",
              "      <td>Yes</td>\n",
              "      <td>805</td>\n",
              "      <td>588</td>\n",
              "      <td>287</td>\n",
              "      <td>67</td>\n",
              "      <td>88</td>\n",
              "      <td>1376</td>\n",
              "      <td>207</td>\n",
              "      <td>11660</td>\n",
              "      <td>4325</td>\n",
              "      <td>400</td>\n",
              "      <td>900</td>\n",
              "      <td>74</td>\n",
              "      <td>79</td>\n",
              "      <td>14.0</td>\n",
              "      <td>34</td>\n",
              "      <td>8649</td>\n",
              "      <td>72</td>\n",
              "    </tr>\n",
              "    <tr>\n",
              "      <th>60</th>\n",
              "      <td>Bowdoin College</td>\n",
              "      <td>Yes</td>\n",
              "      <td>3356</td>\n",
              "      <td>1019</td>\n",
              "      <td>418</td>\n",
              "      <td>76</td>\n",
              "      <td>100</td>\n",
              "      <td>1490</td>\n",
              "      <td>8</td>\n",
              "      <td>19030</td>\n",
              "      <td>5885</td>\n",
              "      <td>1495</td>\n",
              "      <td>875</td>\n",
              "      <td>93</td>\n",
              "      <td>96</td>\n",
              "      <td>11.2</td>\n",
              "      <td>52</td>\n",
              "      <td>20447</td>\n",
              "      <td>96</td>\n",
              "    </tr>\n",
              "  </tbody>\n",
              "</table>\n",
              "</div>"
            ],
            "text/plain": [
              "                     Unnamed: 0 Private  Apps  Accept  Enroll  Top10perc  \\\n",
              "3           Agnes Scott College     Yes   417     349     137         60   \n",
              "16              Amherst College     Yes  4302     992     418         83   \n",
              "37              Barnard College     Yes  2496    1402     531         53   \n",
              "54  Birmingham-Southern College     Yes   805     588     287         67   \n",
              "60              Bowdoin College     Yes  3356    1019     418         76   \n",
              "\n",
              "    Top25perc  F.Undergrad  P.Undergrad  Outstate  Room.Board  Books  \\\n",
              "3          89          510           63     12960        5450    450   \n",
              "16         96         1593            5     19760        5300    660   \n",
              "37         95         2121           69     17926        8124    600   \n",
              "54         88         1376          207     11660        4325    400   \n",
              "60        100         1490            8     19030        5885   1495   \n",
              "\n",
              "    Personal  PhD  Terminal  S.F.Ratio  perc.alumni  Expend  Grad.Rate  \n",
              "3        875   92        97        7.7           37   19016         59  \n",
              "16      1598   93        98        8.4           63   21424        100  \n",
              "37       850   83        93       10.3           33   12580         91  \n",
              "54       900   74        79       14.0           34    8649         72  \n",
              "60       875   93        96       11.2           52   20447         96  "
            ]
          },
          "metadata": {
            "tags": []
          },
          "execution_count": 74
        }
      ]
    },
    {
      "cell_type": "code",
      "metadata": {
        "id": "sNOE9ZBUPzoC",
        "colab_type": "code",
        "colab": {
          "base_uri": "https://localhost:8080/",
          "height": 34
        },
        "outputId": "74d6dcc5-9371-4569-ee38-ac8b04243f86"
      },
      "source": [
        "sum(elite_df.Private == 'No'), sum(elite_df.Private == 'Yes')"
      ],
      "execution_count": 82,
      "outputs": [
        {
          "output_type": "execute_result",
          "data": {
            "text/plain": [
              "(13, 65)"
            ]
          },
          "metadata": {
            "tags": []
          },
          "execution_count": 82
        }
      ]
    },
    {
      "cell_type": "code",
      "metadata": {
        "id": "FKmGInCtP-G7",
        "colab_type": "code",
        "colab": {
          "base_uri": "https://localhost:8080/",
          "height": 34
        },
        "outputId": "0c3babd6-0575-4983-f996-443d1fb0a6a2"
      },
      "source": [
        "sum(not_elite_df.Private == 'No'), sum(not_elite_df.Private == 'Yes')"
      ],
      "execution_count": 84,
      "outputs": [
        {
          "output_type": "execute_result",
          "data": {
            "text/plain": [
              "(198, 496)"
            ]
          },
          "metadata": {
            "tags": []
          },
          "execution_count": 84
        }
      ]
    },
    {
      "cell_type": "markdown",
      "metadata": {
        "id": "845pcDQxQOJ6",
        "colab_type": "text"
      },
      "source": [
        "Vast majority of schools are private."
      ]
    },
    {
      "cell_type": "code",
      "metadata": {
        "id": "bBL3QxqNQiS5",
        "colab_type": "code",
        "colab": {
          "base_uri": "https://localhost:8080/",
          "height": 34
        },
        "outputId": "f4feb288-c63c-49f1-b115-17272762282f"
      },
      "source": [
        "elite_df.Accept.mean(), not_elite_df.Accept.mean()"
      ],
      "execution_count": 88,
      "outputs": [
        {
          "output_type": "execute_result",
          "data": {
            "text/plain": [
              "(2852.602564102564, 1918.1801152737753)"
            ]
          },
          "metadata": {
            "tags": []
          },
          "execution_count": 88
        }
      ]
    },
    {
      "cell_type": "code",
      "metadata": {
        "id": "Kx_lBGtcQlYM",
        "colab_type": "code",
        "colab": {
          "base_uri": "https://localhost:8080/",
          "height": 34
        },
        "outputId": "8ce4fa59-f571-4dc0-a915-9d578dc2308c"
      },
      "source": [
        "elite_df.Apps.mean(), not_elite_df.Apps.mean()"
      ],
      "execution_count": 89,
      "outputs": [
        {
          "output_type": "execute_result",
          "data": {
            "text/plain": [
              "(5980.5641025641025, 2657.3674351585014)"
            ]
          },
          "metadata": {
            "tags": []
          },
          "execution_count": 89
        }
      ]
    },
    {
      "cell_type": "code",
      "metadata": {
        "id": "8Duo4HSYQxFe",
        "colab_type": "code",
        "colab": {
          "base_uri": "https://localhost:8080/",
          "height": 291
        },
        "outputId": "bdb08eb2-60cb-4fea-91d5-20d93f40ad6b"
      },
      "source": [
        "plt.scatter(elite_df.Apps, elite_df['Unnamed: 0'])"
      ],
      "execution_count": 93,
      "outputs": [
        {
          "output_type": "execute_result",
          "data": {
            "text/plain": [
              "<matplotlib.collections.PathCollection at 0x7fc5a49eeb70>"
            ]
          },
          "metadata": {
            "tags": []
          },
          "execution_count": 93
        },
        {
          "output_type": "display_data",
          "data": {
            "image/png": "[encoded data removed]",
            "text/plain": [
              "<Figure size 432x288 with 1 Axes>"
            ]
          },
          "metadata": {
            "tags": []
          }
        }
      ]
    },
    {
      "cell_type": "markdown",
      "metadata": {
        "id": "iqC2FDAXSkIV",
        "colab_type": "text"
      },
      "source": [
        "# Outside of Book"
      ]
    },
    {
      "cell_type": "markdown",
      "metadata": {
        "id": "ADUkY97URvWs",
        "colab_type": "text"
      },
      "source": [
        "Lets see if we can predict PHD's. We will use ordinary least squares which tries to fit a linear model with some $\\beta$ coefficients that minimizes the sum of square residuals between the observed and actual data. \n",
        "\n",
        "$min_{w} ||Xw-y||^2_{2}$\n",
        "\n"
      ]
    },
    {
      "cell_type": "code",
      "metadata": {
        "id": "X9D0ZjkET_gq",
        "colab_type": "code",
        "colab": {}
      },
      "source": [
        "from sklearn.model_selection import train_test_split\n",
        "\n",
        "trn, test = train_test_split(df)"
      ],
      "execution_count": 0,
      "outputs": []
    },
    {
      "cell_type": "code",
      "metadata": {
        "id": "qNbbGYoJVFx2",
        "colab_type": "code",
        "colab": {}
      },
      "source": [
        "x_test = test.drop(['PhD', 'Unnamed: 0'], axis=1)\n",
        "E = {'No': 0, 'Yes': 1}\n",
        "x_test.Private = x_test.Private.apply(lambda x:E[x])\n",
        "y_test = test.PhD"
      ],
      "execution_count": 0,
      "outputs": []
    },
    {
      "cell_type": "code",
      "metadata": {
        "id": "HCNk7sXDTcv8",
        "colab_type": "code",
        "colab": {
          "base_uri": "https://localhost:8080/",
          "height": 224
        },
        "outputId": "c292c14c-8c5e-420d-d44c-298eee60fc69"
      },
      "source": [
        "x_train = trn.drop(['PhD', 'Unnamed: 0'], axis=1)\n",
        "x_train.head()"
      ],
      "execution_count": 133,
      "outputs": [
        {
          "output_type": "execute_result",
          "data": {
            "text/html": [
              "<div>\n",
              "<style scoped>\n",
              "    .dataframe tbody tr th:only-of-type {\n",
              "        vertical-align: middle;\n",
              "    }\n",
              "\n",
              "    .dataframe tbody tr th {\n",
              "        vertical-align: top;\n",
              "    }\n",
              "\n",
              "    .dataframe thead th {\n",
              "        text-align: right;\n",
              "    }\n",
              "</style>\n",
              "<table border=\"1\" class=\"dataframe\">\n",
              "  <thead>\n",
              "    <tr style=\"text-align: right;\">\n",
              "      <th></th>\n",
              "      <th>Private</th>\n",
              "      <th>Apps</th>\n",
              "      <th>Accept</th>\n",
              "      <th>Enroll</th>\n",
              "      <th>Top10perc</th>\n",
              "      <th>Top25perc</th>\n",
              "      <th>F.Undergrad</th>\n",
              "      <th>P.Undergrad</th>\n",
              "      <th>Outstate</th>\n",
              "      <th>Room.Board</th>\n",
              "      <th>Books</th>\n",
              "      <th>Personal</th>\n",
              "      <th>Terminal</th>\n",
              "      <th>S.F.Ratio</th>\n",
              "      <th>perc.alumni</th>\n",
              "      <th>Expend</th>\n",
              "      <th>Grad.Rate</th>\n",
              "    </tr>\n",
              "  </thead>\n",
              "  <tbody>\n",
              "    <tr>\n",
              "      <th>627</th>\n",
              "      <td>Yes</td>\n",
              "      <td>1597</td>\n",
              "      <td>969</td>\n",
              "      <td>226</td>\n",
              "      <td>16</td>\n",
              "      <td>38</td>\n",
              "      <td>1431</td>\n",
              "      <td>1522</td>\n",
              "      <td>13540</td>\n",
              "      <td>5050</td>\n",
              "      <td>630</td>\n",
              "      <td>2298</td>\n",
              "      <td>68</td>\n",
              "      <td>14.1</td>\n",
              "      <td>23</td>\n",
              "      <td>10139</td>\n",
              "      <td>47</td>\n",
              "    </tr>\n",
              "    <tr>\n",
              "      <th>548</th>\n",
              "      <td>Yes</td>\n",
              "      <td>191</td>\n",
              "      <td>165</td>\n",
              "      <td>63</td>\n",
              "      <td>5</td>\n",
              "      <td>25</td>\n",
              "      <td>494</td>\n",
              "      <td>574</td>\n",
              "      <td>11550</td>\n",
              "      <td>4270</td>\n",
              "      <td>300</td>\n",
              "      <td>500</td>\n",
              "      <td>77</td>\n",
              "      <td>14.5</td>\n",
              "      <td>8</td>\n",
              "      <td>9209</td>\n",
              "      <td>40</td>\n",
              "    </tr>\n",
              "    <tr>\n",
              "      <th>707</th>\n",
              "      <td>Yes</td>\n",
              "      <td>2075</td>\n",
              "      <td>1727</td>\n",
              "      <td>520</td>\n",
              "      <td>49</td>\n",
              "      <td>81</td>\n",
              "      <td>2501</td>\n",
              "      <td>198</td>\n",
              "      <td>11800</td>\n",
              "      <td>3260</td>\n",
              "      <td>500</td>\n",
              "      <td>800</td>\n",
              "      <td>89</td>\n",
              "      <td>14.2</td>\n",
              "      <td>23</td>\n",
              "      <td>9681</td>\n",
              "      <td>95</td>\n",
              "    </tr>\n",
              "    <tr>\n",
              "      <th>716</th>\n",
              "      <td>Yes</td>\n",
              "      <td>647</td>\n",
              "      <td>518</td>\n",
              "      <td>271</td>\n",
              "      <td>17</td>\n",
              "      <td>43</td>\n",
              "      <td>1014</td>\n",
              "      <td>387</td>\n",
              "      <td>9140</td>\n",
              "      <td>3365</td>\n",
              "      <td>500</td>\n",
              "      <td>2245</td>\n",
              "      <td>65</td>\n",
              "      <td>10.7</td>\n",
              "      <td>31</td>\n",
              "      <td>8050</td>\n",
              "      <td>73</td>\n",
              "    </tr>\n",
              "    <tr>\n",
              "      <th>489</th>\n",
              "      <td>No</td>\n",
              "      <td>3971</td>\n",
              "      <td>3306</td>\n",
              "      <td>1921</td>\n",
              "      <td>10</td>\n",
              "      <td>34</td>\n",
              "      <td>11493</td>\n",
              "      <td>2206</td>\n",
              "      <td>4259</td>\n",
              "      <td>2625</td>\n",
              "      <td>350</td>\n",
              "      <td>1884</td>\n",
              "      <td>75</td>\n",
              "      <td>18.9</td>\n",
              "      <td>10</td>\n",
              "      <td>4629</td>\n",
              "      <td>58</td>\n",
              "    </tr>\n",
              "  </tbody>\n",
              "</table>\n",
              "</div>"
            ],
            "text/plain": [
              "    Private  Apps  Accept  Enroll  Top10perc  Top25perc  F.Undergrad  \\\n",
              "627     Yes  1597     969     226         16         38         1431   \n",
              "548     Yes   191     165      63          5         25          494   \n",
              "707     Yes  2075    1727     520         49         81         2501   \n",
              "716     Yes   647     518     271         17         43         1014   \n",
              "489      No  3971    3306    1921         10         34        11493   \n",
              "\n",
              "     P.Undergrad  Outstate  Room.Board  Books  Personal  Terminal  S.F.Ratio  \\\n",
              "627         1522     13540        5050    630      2298        68       14.1   \n",
              "548          574     11550        4270    300       500        77       14.5   \n",
              "707          198     11800        3260    500       800        89       14.2   \n",
              "716          387      9140        3365    500      2245        65       10.7   \n",
              "489         2206      4259        2625    350      1884        75       18.9   \n",
              "\n",
              "     perc.alumni  Expend  Grad.Rate  \n",
              "627           23   10139         47  \n",
              "548            8    9209         40  \n",
              "707           23    9681         95  \n",
              "716           31    8050         73  \n",
              "489           10    4629         58  "
            ]
          },
          "metadata": {
            "tags": []
          },
          "execution_count": 133
        }
      ]
    },
    {
      "cell_type": "code",
      "metadata": {
        "id": "oJdXhx9sU6RM",
        "colab_type": "code",
        "colab": {}
      },
      "source": [
        "y_train = trn.PhD"
      ],
      "execution_count": 0,
      "outputs": []
    },
    {
      "cell_type": "code",
      "metadata": {
        "id": "yuo-bkv4UfwL",
        "colab_type": "code",
        "colab": {
          "base_uri": "https://localhost:8080/",
          "height": 34
        },
        "outputId": "8e0f8447-0339-401b-bc4c-03527451dbdf"
      },
      "source": [
        "y_train.shape, x_train.shape"
      ],
      "execution_count": 135,
      "outputs": [
        {
          "output_type": "execute_result",
          "data": {
            "text/plain": [
              "((582,), (582, 17))"
            ]
          },
          "metadata": {
            "tags": []
          },
          "execution_count": 135
        }
      ]
    },
    {
      "cell_type": "code",
      "metadata": {
        "id": "Xi3Nryq6TzFK",
        "colab_type": "code",
        "colab": {}
      },
      "source": [
        "x_train.Private = x_train.Private.apply(lambda x:E[x])"
      ],
      "execution_count": 0,
      "outputs": []
    },
    {
      "cell_type": "code",
      "metadata": {
        "id": "RCGhJ16_Q4cI",
        "colab_type": "code",
        "colab": {
          "base_uri": "https://localhost:8080/",
          "height": 51
        },
        "outputId": "46334fc5-4710-4f45-a08c-e3918b2b71e2"
      },
      "source": [
        "from sklearn import linear_model\n",
        "from sklearn.metrics import mean_squared_error, r2_score\n",
        "reg = linear_model.LinearRegression()\n",
        "\n",
        "reg.fit(x_train, y_train)"
      ],
      "execution_count": 137,
      "outputs": [
        {
          "output_type": "execute_result",
          "data": {
            "text/plain": [
              "LinearRegression(copy_X=True, fit_intercept=True, n_jobs=None,\n",
              "         normalize=False)"
            ]
          },
          "metadata": {
            "tags": []
          },
          "execution_count": 137
        }
      ]
    },
    {
      "cell_type": "code",
      "metadata": {
        "id": "LKVTdLRJVC63",
        "colab_type": "code",
        "colab": {}
      },
      "source": [
        "y_pred = reg.predict(x_test)"
      ],
      "execution_count": 0,
      "outputs": []
    },
    {
      "cell_type": "markdown",
      "metadata": {
        "id": "XDbZ1AFcV0lA",
        "colab_type": "text"
      },
      "source": [
        "So if our hypothesis is that the 17 predictor variables determines a Phd then we need a good R^2 score. The \"R squared\", is the proportion of the variance in the dependent variable that is predictable from the independent variable(s).\n",
        "\n",
        "The coefficient of determination repots a fairly strong to moderate variation in the dependent variable is explained by variations in the independent variable. \n",
        "\n",
        "The coefficients tell us which relationships in the model are statistically significant and the nature of those relationships. "
      ]
    },
    {
      "cell_type": "code",
      "metadata": {
        "id": "GixAz91oReLx",
        "colab_type": "code",
        "colab": {
          "base_uri": "https://localhost:8080/",
          "height": 153
        },
        "outputId": "5baff762-af72-40bb-b6ab-04a444e6d7b6"
      },
      "source": [
        "# The coefficients\n",
        "print('Coefficients: \\n', reg.coef_)\n",
        "# The mean squared error\n",
        "print(\"Mean squared error: %.2f\"\n",
        "      % mean_squared_error(y_test, y_pred))\n",
        "# Explained variance score: 1 is perfect prediction\n",
        "print('Variance score: %.2f' % r2_score(y_test, y_pred))"
      ],
      "execution_count": 143,
      "outputs": [
        {
          "output_type": "stream",
          "text": [
            "Coefficients: \n",
            " [-3.46974538e+00 -7.67107652e-04  1.49003757e-03 -8.09672753e-05\n",
            "  2.47439003e-01 -6.26126918e-02 -2.57518587e-04  6.83019451e-04\n",
            "  1.31782463e-04 -2.91840630e-04 -9.05844119e-03  4.21013768e-04\n",
            "  8.41055298e-01  2.60665184e-01  2.20935330e-04  5.69393613e-05\n",
            "  5.88627926e-02]\n",
            "Mean squared error: 65.95\n",
            "Variance score: 0.70\n"
          ],
          "name": "stdout"
        }
      ]
    },
    {
      "cell_type": "markdown",
      "metadata": {
        "id": "yGI7-6jPYnhI",
        "colab_type": "text"
      },
      "source": [
        "The p-value is a measure of statistical significance. It helps determine which hypothesis the data supports. If the p-value is less than your significance level, you can reject the null hypothesis and conclude that the effect of one predictor is statistically significant. \n",
        "\n"
      ]
    },
    {
      "cell_type": "code",
      "metadata": {
        "id": "jnuzOawSXGMe",
        "colab_type": "code",
        "colab": {
          "base_uri": "https://localhost:8080/",
          "height": 802
        },
        "outputId": "64db157e-0d25-4d07-af34-a0429900e229"
      },
      "source": [
        "import statsmodels.api as sm\n",
        "\n",
        "X2 = sm.add_constant(x_train)\n",
        "est = sm.OLS(y_train, X2)\n",
        "est2 = est.fit()\n",
        "print(est2.summary())"
      ],
      "execution_count": 141,
      "outputs": [
        {
          "output_type": "stream",
          "text": [
            "                            OLS Regression Results                            \n",
            "==============================================================================\n",
            "Dep. Variable:                    PhD   R-squared:                       0.767\n",
            "Model:                            OLS   Adj. R-squared:                  0.760\n",
            "Method:                 Least Squares   F-statistic:                     109.1\n",
            "Date:                Tue, 14 May 2019   Prob (F-statistic):          1.19e-165\n",
            "Time:                        12:41:42   Log-Likelihood:                -2042.1\n",
            "No. Observations:                 582   AIC:                             4120.\n",
            "Df Residuals:                     564   BIC:                             4199.\n",
            "Df Model:                          17                                         \n",
            "Covariance Type:            nonrobust                                         \n",
            "===============================================================================\n",
            "                  coef    std err          t      P>|t|      [0.025      0.975]\n",
            "-------------------------------------------------------------------------------\n",
            "const           0.7361      3.659      0.201      0.841      -6.450       7.922\n",
            "Private        -3.4697      1.243     -2.790      0.005      -5.912      -1.027\n",
            "Apps           -0.0008      0.000     -2.034      0.042      -0.002   -2.62e-05\n",
            "Accept          0.0015      0.001      2.211      0.027       0.000       0.003\n",
            "Enroll      -8.097e-05      0.002     -0.045      0.964      -0.004       0.003\n",
            "Top10perc       0.2474      0.052      4.752      0.000       0.145       0.350\n",
            "Top25perc      -0.0626      0.041     -1.528      0.127      -0.143       0.018\n",
            "F.Undergrad    -0.0003      0.000     -0.879      0.380      -0.001       0.000\n",
            "P.Undergrad     0.0007      0.000      2.313      0.021       0.000       0.001\n",
            "Outstate        0.0001      0.000      0.751      0.453      -0.000       0.000\n",
            "Room.Board     -0.0003      0.000     -0.657      0.511      -0.001       0.001\n",
            "Books          -0.0091      0.002     -4.316      0.000      -0.013      -0.005\n",
            "Personal        0.0004      0.001      0.753      0.452      -0.001       0.002\n",
            "Terminal        0.8411      0.032     26.522      0.000       0.779       0.903\n",
            "S.F.Ratio       0.2607      0.117      2.229      0.026       0.031       0.490\n",
            "perc.alumni     0.0002      0.037      0.006      0.995      -0.073       0.074\n",
            "Expend       5.694e-05      0.000      0.521      0.602      -0.000       0.000\n",
            "Grad.Rate       0.0589      0.026      2.225      0.026       0.007       0.111\n",
            "==============================================================================\n",
            "Omnibus:                      296.919   Durbin-Watson:                   2.078\n",
            "Prob(Omnibus):                  0.000   Jarque-Bera (JB):             2667.821\n",
            "Skew:                          -2.067   Prob(JB):                         0.00\n",
            "Kurtosis:                      12.639   Cond. No.                     1.83e+05\n",
            "==============================================================================\n",
            "\n",
            "Warnings:\n",
            "[1] Standard Errors assume that the covariance matrix of the errors is correctly specified.\n",
            "[2] The condition number is large, 1.83e+05. This might indicate that there are\n",
            "strong multicollinearity or other numerical problems.\n"
          ],
          "name": "stdout"
        },
        {
          "output_type": "stream",
          "text": [
            "/usr/local/lib/python3.6/dist-packages/numpy/core/fromnumeric.py:2389: FutureWarning: Method .ptp is deprecated and will be removed in a future version. Use numpy.ptp instead.\n",
            "  return ptp(axis=axis, out=out, **kwargs)\n"
          ],
          "name": "stderr"
        }
      ]
    },
    {
      "cell_type": "markdown",
      "metadata": {
        "id": "Uc7se1t7anlG",
        "colab_type": "text"
      },
      "source": [
        "OLS models suffer from **endogeneity**, that is variables that have valus that are determined by other variables in the system. It causes OLS to fail, as one assumption of OLS is that there is no correlation between a predictor variable and the error term. We test for this using the Durbin-Wu-Hausman test. For panel studies it helps decide between using a Fixed Effects or random effects model. Fixed effects are variables that are constant or change slightly over time and random are unpredictable random variables. \n",
        "\n",
        "That is that there is no statistical significance in a set of given observations. No variation exists between variables or that a single variable is no different than its mean. \n",
        "\n",
        "We can overcome endogeneity via two-stage least squares (2SLS) regression. This approach requires replacing the endogenous variable with a variable that is correlated with that endogenous variable but not correlated with the error term i.e. it should not directly affect the depdent variable. \n",
        "\n",
        "The Durbin-Watson tests for autocorrelation in the residuals and the value is close to 2.0 which means there is no autocorrelation. Autocorrelation is the degree of similarity in a time series and is the same as calculating the correlation between two different time series. "
      ]
    },
    {
      "cell_type": "code",
      "metadata": {
        "id": "-FeyGcFjiJdu",
        "colab_type": "code",
        "colab": {}
      },
      "source": [
        "new_df = df\n",
        "new_df.head()"
      ],
      "execution_count": 0,
      "outputs": []
    },
    {
      "cell_type": "code",
      "metadata": {
        "id": "ATjjhy-hiDOW",
        "colab_type": "code",
        "colab": {}
      },
      "source": [
        "new_df.Private = new_df.Private.apply(lambda x:E[x])"
      ],
      "execution_count": 0,
      "outputs": []
    },
    {
      "cell_type": "code",
      "metadata": {
        "id": "7GGsF-67aY6U",
        "colab_type": "code",
        "colab": {
          "base_uri": "https://localhost:8080/",
          "height": 364
        },
        "outputId": "6dcaa0c7-1c40-49dd-d6d3-4b53139ab071"
      },
      "source": [
        "new_df.plot(x='Private', y='PhD', kind='box')"
      ],
      "execution_count": 164,
      "outputs": [
        {
          "output_type": "execute_result",
          "data": {
            "text/plain": [
              "<matplotlib.axes._subplots.AxesSubplot at 0x7fc59799b470>"
            ]
          },
          "metadata": {
            "tags": []
          },
          "execution_count": 164
        },
        {
          "output_type": "display_data",
          "data": {
            "image/png": "[encoded data removed]",
            "text/plain": [
              "<Figure size 576x396 with 1 Axes>"
            ]
          },
          "metadata": {
            "tags": []
          }
        }
      ]
    },
    {
      "cell_type": "code",
      "metadata": {
        "id": "QSn8Rw74hYbq",
        "colab_type": "code",
        "colab": {
          "base_uri": "https://localhost:8080/",
          "height": 378
        },
        "outputId": "726cf76d-dc7c-438c-9713-2233819bfc7e"
      },
      "source": [
        "new_df.plot(x='PhD', y='Expend', kind='scatter')"
      ],
      "execution_count": 166,
      "outputs": [
        {
          "output_type": "execute_result",
          "data": {
            "text/plain": [
              "<matplotlib.axes._subplots.AxesSubplot at 0x7fc59798a978>"
            ]
          },
          "metadata": {
            "tags": []
          },
          "execution_count": 166
        },
        {
          "output_type": "display_data",
          "data": {
            "image/png": "[encoded data removed]",
            "text/plain": [
              "<Figure size 576x396 with 1 Axes>"
            ]
          },
          "metadata": {
            "tags": []
          }
        }
      ]
    },
    {
      "cell_type": "code",
      "metadata": {
        "id": "BQfNcwCki99A",
        "colab_type": "code",
        "colab": {
          "base_uri": "https://localhost:8080/",
          "height": 377
        },
        "outputId": "1376e59c-a05d-4368-f452-115056da17dc"
      },
      "source": [
        "df.head()"
      ],
      "execution_count": 167,
      "outputs": [
        {
          "output_type": "execute_result",
          "data": {
            "text/html": [
              "<div>\n",
              "<style scoped>\n",
              "    .dataframe tbody tr th:only-of-type {\n",
              "        vertical-align: middle;\n",
              "    }\n",
              "\n",
              "    .dataframe tbody tr th {\n",
              "        vertical-align: top;\n",
              "    }\n",
              "\n",
              "    .dataframe thead th {\n",
              "        text-align: right;\n",
              "    }\n",
              "</style>\n",
              "<table border=\"1\" class=\"dataframe\">\n",
              "  <thead>\n",
              "    <tr style=\"text-align: right;\">\n",
              "      <th></th>\n",
              "      <th>Unnamed: 0</th>\n",
              "      <th>Private</th>\n",
              "      <th>Apps</th>\n",
              "      <th>Accept</th>\n",
              "      <th>Enroll</th>\n",
              "      <th>Top10perc</th>\n",
              "      <th>Top25perc</th>\n",
              "      <th>F.Undergrad</th>\n",
              "      <th>P.Undergrad</th>\n",
              "      <th>Outstate</th>\n",
              "      <th>Room.Board</th>\n",
              "      <th>Books</th>\n",
              "      <th>Personal</th>\n",
              "      <th>PhD</th>\n",
              "      <th>Terminal</th>\n",
              "      <th>S.F.Ratio</th>\n",
              "      <th>perc.alumni</th>\n",
              "      <th>Expend</th>\n",
              "      <th>Grad.Rate</th>\n",
              "    </tr>\n",
              "  </thead>\n",
              "  <tbody>\n",
              "    <tr>\n",
              "      <th>0</th>\n",
              "      <td>Abilene Christian University</td>\n",
              "      <td>1</td>\n",
              "      <td>1660</td>\n",
              "      <td>1232</td>\n",
              "      <td>721</td>\n",
              "      <td>23</td>\n",
              "      <td>52</td>\n",
              "      <td>2885</td>\n",
              "      <td>537</td>\n",
              "      <td>7440</td>\n",
              "      <td>3300</td>\n",
              "      <td>450</td>\n",
              "      <td>2200</td>\n",
              "      <td>70</td>\n",
              "      <td>78</td>\n",
              "      <td>18.1</td>\n",
              "      <td>12</td>\n",
              "      <td>7041</td>\n",
              "      <td>60</td>\n",
              "    </tr>\n",
              "    <tr>\n",
              "      <th>1</th>\n",
              "      <td>Adelphi University</td>\n",
              "      <td>1</td>\n",
              "      <td>2186</td>\n",
              "      <td>1924</td>\n",
              "      <td>512</td>\n",
              "      <td>16</td>\n",
              "      <td>29</td>\n",
              "      <td>2683</td>\n",
              "      <td>1227</td>\n",
              "      <td>12280</td>\n",
              "      <td>6450</td>\n",
              "      <td>750</td>\n",
              "      <td>1500</td>\n",
              "      <td>29</td>\n",
              "      <td>30</td>\n",
              "      <td>12.2</td>\n",
              "      <td>16</td>\n",
              "      <td>10527</td>\n",
              "      <td>56</td>\n",
              "    </tr>\n",
              "    <tr>\n",
              "      <th>2</th>\n",
              "      <td>Adrian College</td>\n",
              "      <td>1</td>\n",
              "      <td>1428</td>\n",
              "      <td>1097</td>\n",
              "      <td>336</td>\n",
              "      <td>22</td>\n",
              "      <td>50</td>\n",
              "      <td>1036</td>\n",
              "      <td>99</td>\n",
              "      <td>11250</td>\n",
              "      <td>3750</td>\n",
              "      <td>400</td>\n",
              "      <td>1165</td>\n",
              "      <td>53</td>\n",
              "      <td>66</td>\n",
              "      <td>12.9</td>\n",
              "      <td>30</td>\n",
              "      <td>8735</td>\n",
              "      <td>54</td>\n",
              "    </tr>\n",
              "    <tr>\n",
              "      <th>3</th>\n",
              "      <td>Agnes Scott College</td>\n",
              "      <td>1</td>\n",
              "      <td>417</td>\n",
              "      <td>349</td>\n",
              "      <td>137</td>\n",
              "      <td>60</td>\n",
              "      <td>89</td>\n",
              "      <td>510</td>\n",
              "      <td>63</td>\n",
              "      <td>12960</td>\n",
              "      <td>5450</td>\n",
              "      <td>450</td>\n",
              "      <td>875</td>\n",
              "      <td>92</td>\n",
              "      <td>97</td>\n",
              "      <td>7.7</td>\n",
              "      <td>37</td>\n",
              "      <td>19016</td>\n",
              "      <td>59</td>\n",
              "    </tr>\n",
              "    <tr>\n",
              "      <th>4</th>\n",
              "      <td>Alaska Pacific University</td>\n",
              "      <td>1</td>\n",
              "      <td>193</td>\n",
              "      <td>146</td>\n",
              "      <td>55</td>\n",
              "      <td>16</td>\n",
              "      <td>44</td>\n",
              "      <td>249</td>\n",
              "      <td>869</td>\n",
              "      <td>7560</td>\n",
              "      <td>4120</td>\n",
              "      <td>800</td>\n",
              "      <td>1500</td>\n",
              "      <td>76</td>\n",
              "      <td>72</td>\n",
              "      <td>11.9</td>\n",
              "      <td>2</td>\n",
              "      <td>10922</td>\n",
              "      <td>15</td>\n",
              "    </tr>\n",
              "  </tbody>\n",
              "</table>\n",
              "</div>"
            ],
            "text/plain": [
              "                     Unnamed: 0  Private  Apps  Accept  Enroll  Top10perc  \\\n",
              "0  Abilene Christian University        1  1660    1232     721         23   \n",
              "1            Adelphi University        1  2186    1924     512         16   \n",
              "2                Adrian College        1  1428    1097     336         22   \n",
              "3           Agnes Scott College        1   417     349     137         60   \n",
              "4     Alaska Pacific University        1   193     146      55         16   \n",
              "\n",
              "   Top25perc  F.Undergrad  P.Undergrad  Outstate  Room.Board  Books  Personal  \\\n",
              "0         52         2885          537      7440        3300    450      2200   \n",
              "1         29         2683         1227     12280        6450    750      1500   \n",
              "2         50         1036           99     11250        3750    400      1165   \n",
              "3         89          510           63     12960        5450    450       875   \n",
              "4         44          249          869      7560        4120    800      1500   \n",
              "\n",
              "   PhD  Terminal  S.F.Ratio  perc.alumni  Expend  Grad.Rate  \n",
              "0   70        78       18.1           12    7041         60  \n",
              "1   29        30       12.2           16   10527         56  \n",
              "2   53        66       12.9           30    8735         54  \n",
              "3   92        97        7.7           37   19016         59  \n",
              "4   76        72       11.9            2   10922         15  "
            ]
          },
          "metadata": {
            "tags": []
          },
          "execution_count": 167
        }
      ]
    },
    {
      "cell_type": "code",
      "metadata": {
        "id": "UWX6Qaseiuid",
        "colab_type": "code",
        "colab": {}
      },
      "source": [
        "reg1 = sm.OLS(endog=df1['logpgp95'], exog=df1[['const', 'avexpr']], missing='drop')"
      ],
      "execution_count": 0,
      "outputs": []
    },
    {
      "cell_type": "code",
      "metadata": {
        "id": "z7xNoVx4jE-3",
        "colab_type": "code",
        "colab": {
          "base_uri": "https://localhost:8080/",
          "height": 410
        },
        "outputId": "7ea9f01d-494c-4878-d508-a829d62b8c77"
      },
      "source": [
        "corr = new_df.corr()\n",
        "sns.heatmap(corr, \n",
        "            xticklabels=corr.columns.values,\n",
        "            yticklabels=corr.columns.values)"
      ],
      "execution_count": 171,
      "outputs": [
        {
          "output_type": "execute_result",
          "data": {
            "text/plain": [
              "<matplotlib.axes._subplots.AxesSubplot at 0x7fc597830780>"
            ]
          },
          "metadata": {
            "tags": []
          },
          "execution_count": 171
        },
        {
          "output_type": "display_data",
          "data": {
            "image/png": "[encoded data removed]",
            "text/plain": [
              "<Figure size 576x396 with 2 Axes>"
            ]
          },
          "metadata": {
            "tags": []
          }
        }
      ]
    },
    {
      "cell_type": "code",
      "metadata": {
        "id": "5g_3NENgjsXz",
        "colab_type": "code",
        "colab": {
          "base_uri": "https://localhost:8080/",
          "height": 438
        },
        "outputId": "6e4640c8-ce74-45da-b14c-6504d4cb3b4c"
      },
      "source": [
        "corr.style.background_gradient(cmap='coolwarm')"
      ],
      "execution_count": 172,
      "outputs": [
        {
          "output_type": "execute_result",
          "data": {
            "text/html": [
              "<style  type=\"text/css\" >\n",
              "    #T_5fc6e7fc_764d_11e9_8331_0242ac1c0002row0_col0 {\n",
              "            background-color:  #b40426;\n",
              "            color:  #f1f1f1;\n",
              "        }    #T_5fc6e7fc_764d_11e9_8331_0242ac1c0002row0_col1 {\n",
              "            background-color:  #3b4cc0;\n",
              "            color:  #f1f1f1;\n",
              "        }    #T_5fc6e7fc_764d_11e9_8331_0242ac1c0002row0_col2 {\n",
              "            background-color:  #3b4cc0;\n",
              "            color:  #f1f1f1;\n",
              "        }    #T_5fc6e7fc_764d_11e9_8331_0242ac1c0002row0_col3 {\n",
              "            background-color:  #3b4cc0;\n",
              "            color:  #f1f1f1;\n",
              "        }    #T_5fc6e7fc_764d_11e9_8331_0242ac1c0002row0_col4 {\n",
              "            background-color:  #bfd3f6;\n",
              "            color:  #000000;\n",
              "        }    #T_5fc6e7fc_764d_11e9_8331_0242ac1c0002row0_col5 {\n",
              "            background-color:  #9fbfff;\n",
              "            color:  #000000;\n",
              "        }    #T_5fc6e7fc_764d_11e9_8331_0242ac1c0002row0_col6 {\n",
              "            background-color:  #3b4cc0;\n",
              "            color:  #f1f1f1;\n",
              "        }    #T_5fc6e7fc_764d_11e9_8331_0242ac1c0002row0_col7 {\n",
              "            background-color:  #3b4cc0;\n",
              "            color:  #f1f1f1;\n",
              "        }    #T_5fc6e7fc_764d_11e9_8331_0242ac1c0002row0_col8 {\n",
              "            background-color:  #f7a889;\n",
              "            color:  #000000;\n",
              "        }    #T_5fc6e7fc_764d_11e9_8331_0242ac1c0002row0_col9 {\n",
              "            background-color:  #e1dad6;\n",
              "            color:  #000000;\n",
              "        }    #T_5fc6e7fc_764d_11e9_8331_0242ac1c0002row0_col10 {\n",
              "            background-color:  #4055c8;\n",
              "            color:  #f1f1f1;\n",
              "        }    #T_5fc6e7fc_764d_11e9_8331_0242ac1c0002row0_col11 {\n",
              "            background-color:  #3b4cc0;\n",
              "            color:  #f1f1f1;\n",
              "        }    #T_5fc6e7fc_764d_11e9_8331_0242ac1c0002row0_col12 {\n",
              "            background-color:  #3b4cc0;\n",
              "            color:  #f1f1f1;\n",
              "        }    #T_5fc6e7fc_764d_11e9_8331_0242ac1c0002row0_col13 {\n",
              "            background-color:  #4257c9;\n",
              "            color:  #f1f1f1;\n",
              "        }    #T_5fc6e7fc_764d_11e9_8331_0242ac1c0002row0_col14 {\n",
              "            background-color:  #506bda;\n",
              "            color:  #000000;\n",
              "        }    #T_5fc6e7fc_764d_11e9_8331_0242ac1c0002row0_col15 {\n",
              "            background-color:  #efcebd;\n",
              "            color:  #000000;\n",
              "        }    #T_5fc6e7fc_764d_11e9_8331_0242ac1c0002row0_col16 {\n",
              "            background-color:  #e5d8d1;\n",
              "            color:  #000000;\n",
              "        }    #T_5fc6e7fc_764d_11e9_8331_0242ac1c0002row0_col17 {\n",
              "            background-color:  #dadce0;\n",
              "            color:  #000000;\n",
              "        }    #T_5fc6e7fc_764d_11e9_8331_0242ac1c0002row1_col0 {\n",
              "            background-color:  #5e7de7;\n",
              "            color:  #000000;\n",
              "        }    #T_5fc6e7fc_764d_11e9_8331_0242ac1c0002row1_col1 {\n",
              "            background-color:  #b40426;\n",
              "            color:  #f1f1f1;\n",
              "        }    #T_5fc6e7fc_764d_11e9_8331_0242ac1c0002row1_col2 {\n",
              "            background-color:  #c12b30;\n",
              "            color:  #f1f1f1;\n",
              "        }    #T_5fc6e7fc_764d_11e9_8331_0242ac1c0002row1_col3 {\n",
              "            background-color:  #d65244;\n",
              "            color:  #000000;\n",
              "        }    #T_5fc6e7fc_764d_11e9_8331_0242ac1c0002row1_col4 {\n",
              "            background-color:  #e2dad5;\n",
              "            color:  #000000;\n",
              "        }    #T_5fc6e7fc_764d_11e9_8331_0242ac1c0002row1_col5 {\n",
              "            background-color:  #dcdddd;\n",
              "            color:  #000000;\n",
              "        }    #T_5fc6e7fc_764d_11e9_8331_0242ac1c0002row1_col6 {\n",
              "            background-color:  #da5a49;\n",
              "            color:  #000000;\n",
              "        }    #T_5fc6e7fc_764d_11e9_8331_0242ac1c0002row1_col7 {\n",
              "            background-color:  #efcebd;\n",
              "            color:  #000000;\n",
              "        }    #T_5fc6e7fc_764d_11e9_8331_0242ac1c0002row1_col8 {\n",
              "            background-color:  #bcd2f7;\n",
              "            color:  #000000;\n",
              "        }    #T_5fc6e7fc_764d_11e9_8331_0242ac1c0002row1_col9 {\n",
              "            background-color:  #bcd2f7;\n",
              "            color:  #000000;\n",
              "        }    #T_5fc6e7fc_764d_11e9_8331_0242ac1c0002row1_col10 {\n",
              "            background-color:  #6f92f3;\n",
              "            color:  #000000;\n",
              "        }    #T_5fc6e7fc_764d_11e9_8331_0242ac1c0002row1_col11 {\n",
              "            background-color:  #b6cefa;\n",
              "            color:  #000000;\n",
              "        }    #T_5fc6e7fc_764d_11e9_8331_0242ac1c0002row1_col12 {\n",
              "            background-color:  #d6dce4;\n",
              "            color:  #000000;\n",
              "        }    #T_5fc6e7fc_764d_11e9_8331_0242ac1c0002row1_col13 {\n",
              "            background-color:  #d1dae9;\n",
              "            color:  #000000;\n",
              "        }    #T_5fc6e7fc_764d_11e9_8331_0242ac1c0002row1_col14 {\n",
              "            background-color:  #c9d7f0;\n",
              "            color:  #000000;\n",
              "        }    #T_5fc6e7fc_764d_11e9_8331_0242ac1c0002row1_col15 {\n",
              "            background-color:  #84a7fc;\n",
              "            color:  #000000;\n",
              "        }    #T_5fc6e7fc_764d_11e9_8331_0242ac1c0002row1_col16 {\n",
              "            background-color:  #e5d8d1;\n",
              "            color:  #000000;\n",
              "        }    #T_5fc6e7fc_764d_11e9_8331_0242ac1c0002row1_col17 {\n",
              "            background-color:  #aec9fc;\n",
              "            color:  #000000;\n",
              "        }    #T_5fc6e7fc_764d_11e9_8331_0242ac1c0002row2_col0 {\n",
              "            background-color:  #5572df;\n",
              "            color:  #000000;\n",
              "        }    #T_5fc6e7fc_764d_11e9_8331_0242ac1c0002row2_col1 {\n",
              "            background-color:  #c32e31;\n",
              "            color:  #f1f1f1;\n",
              "        }    #T_5fc6e7fc_764d_11e9_8331_0242ac1c0002row2_col2 {\n",
              "            background-color:  #b40426;\n",
              "            color:  #f1f1f1;\n",
              "        }    #T_5fc6e7fc_764d_11e9_8331_0242ac1c0002row2_col3 {\n",
              "            background-color:  #c83836;\n",
              "            color:  #f1f1f1;\n",
              "        }    #T_5fc6e7fc_764d_11e9_8331_0242ac1c0002row2_col4 {\n",
              "            background-color:  #c5d6f2;\n",
              "            color:  #000000;\n",
              "        }    #T_5fc6e7fc_764d_11e9_8331_0242ac1c0002row2_col5 {\n",
              "            background-color:  #c6d6f1;\n",
              "            color:  #000000;\n",
              "        }    #T_5fc6e7fc_764d_11e9_8331_0242ac1c0002row2_col6 {\n",
              "            background-color:  #cf453c;\n",
              "            color:  #f1f1f1;\n",
              "        }    #T_5fc6e7fc_764d_11e9_8331_0242ac1c0002row2_col7 {\n",
              "            background-color:  #f3c7b1;\n",
              "            color:  #000000;\n",
              "        }    #T_5fc6e7fc_764d_11e9_8331_0242ac1c0002row2_col8 {\n",
              "            background-color:  #adc9fd;\n",
              "            color:  #000000;\n",
              "        }    #T_5fc6e7fc_764d_11e9_8331_0242ac1c0002row2_col9 {\n",
              "            background-color:  #aac7fd;\n",
              "            color:  #000000;\n",
              "        }    #T_5fc6e7fc_764d_11e9_8331_0242ac1c0002row2_col10 {\n",
              "            background-color:  #688aef;\n",
              "            color:  #000000;\n",
              "        }    #T_5fc6e7fc_764d_11e9_8331_0242ac1c0002row2_col11 {\n",
              "            background-color:  #bcd2f7;\n",
              "            color:  #000000;\n",
              "        }    #T_5fc6e7fc_764d_11e9_8331_0242ac1c0002row2_col12 {\n",
              "            background-color:  #cdd9ec;\n",
              "            color:  #000000;\n",
              "        }    #T_5fc6e7fc_764d_11e9_8331_0242ac1c0002row2_col13 {\n",
              "            background-color:  #c9d7f0;\n",
              "            color:  #000000;\n",
              "        }    #T_5fc6e7fc_764d_11e9_8331_0242ac1c0002row2_col14 {\n",
              "            background-color:  #d7dce3;\n",
              "            color:  #000000;\n",
              "        }    #T_5fc6e7fc_764d_11e9_8331_0242ac1c0002row2_col15 {\n",
              "            background-color:  #7295f4;\n",
              "            color:  #000000;\n",
              "        }    #T_5fc6e7fc_764d_11e9_8331_0242ac1c0002row2_col16 {\n",
              "            background-color:  #cedaeb;\n",
              "            color:  #000000;\n",
              "        }    #T_5fc6e7fc_764d_11e9_8331_0242ac1c0002row2_col17 {\n",
              "            background-color:  #9abbff;\n",
              "            color:  #000000;\n",
              "        }    #T_5fc6e7fc_764d_11e9_8331_0242ac1c0002row3_col0 {\n",
              "            background-color:  #4358cb;\n",
              "            color:  #f1f1f1;\n",
              "        }    #T_5fc6e7fc_764d_11e9_8331_0242ac1c0002row3_col1 {\n",
              "            background-color:  #d85646;\n",
              "            color:  #000000;\n",
              "        }    #T_5fc6e7fc_764d_11e9_8331_0242ac1c0002row3_col2 {\n",
              "            background-color:  #ca3b37;\n",
              "            color:  #f1f1f1;\n",
              "        }    #T_5fc6e7fc_764d_11e9_8331_0242ac1c0002row3_col3 {\n",
              "            background-color:  #b40426;\n",
              "            color:  #f1f1f1;\n",
              "        }    #T_5fc6e7fc_764d_11e9_8331_0242ac1c0002row3_col4 {\n",
              "            background-color:  #c3d5f4;\n",
              "            color:  #000000;\n",
              "        }    #T_5fc6e7fc_764d_11e9_8331_0242ac1c0002row3_col5 {\n",
              "            background-color:  #c1d4f4;\n",
              "            color:  #000000;\n",
              "        }    #T_5fc6e7fc_764d_11e9_8331_0242ac1c0002row3_col6 {\n",
              "            background-color:  #bb1b2c;\n",
              "            color:  #f1f1f1;\n",
              "        }    #T_5fc6e7fc_764d_11e9_8331_0242ac1c0002row3_col7 {\n",
              "            background-color:  #f7b89c;\n",
              "            color:  #000000;\n",
              "        }    #T_5fc6e7fc_764d_11e9_8331_0242ac1c0002row3_col8 {\n",
              "            background-color:  #8fb1fe;\n",
              "            color:  #000000;\n",
              "        }    #T_5fc6e7fc_764d_11e9_8331_0242ac1c0002row3_col9 {\n",
              "            background-color:  #88abfd;\n",
              "            color:  #000000;\n",
              "        }    #T_5fc6e7fc_764d_11e9_8331_0242ac1c0002row3_col10 {\n",
              "            background-color:  #688aef;\n",
              "            color:  #000000;\n",
              "        }    #T_5fc6e7fc_764d_11e9_8331_0242ac1c0002row3_col11 {\n",
              "            background-color:  #cedaeb;\n",
              "            color:  #000000;\n",
              "        }    #T_5fc6e7fc_764d_11e9_8331_0242ac1c0002row3_col12 {\n",
              "            background-color:  #c7d7f0;\n",
              "            color:  #000000;\n",
              "        }    #T_5fc6e7fc_764d_11e9_8331_0242ac1c0002row3_col13 {\n",
              "            background-color:  #c1d4f4;\n",
              "            color:  #000000;\n",
              "        }    #T_5fc6e7fc_764d_11e9_8331_0242ac1c0002row3_col14 {\n",
              "            background-color:  #e1dad6;\n",
              "            color:  #000000;\n",
              "        }    #T_5fc6e7fc_764d_11e9_8331_0242ac1c0002row3_col15 {\n",
              "            background-color:  #6c8ff1;\n",
              "            color:  #000000;\n",
              "        }    #T_5fc6e7fc_764d_11e9_8331_0242ac1c0002row3_col16 {\n",
              "            background-color:  #c3d5f4;\n",
              "            color:  #000000;\n",
              "        }    #T_5fc6e7fc_764d_11e9_8331_0242ac1c0002row3_col17 {\n",
              "            background-color:  #81a4fb;\n",
              "            color:  #000000;\n",
              "        }    #T_5fc6e7fc_764d_11e9_8331_0242ac1c0002row4_col0 {\n",
              "            background-color:  #d8dce2;\n",
              "            color:  #000000;\n",
              "        }    #T_5fc6e7fc_764d_11e9_8331_0242ac1c0002row4_col1 {\n",
              "            background-color:  #e6d7cf;\n",
              "            color:  #000000;\n",
              "        }    #T_5fc6e7fc_764d_11e9_8331_0242ac1c0002row4_col2 {\n",
              "            background-color:  #cfdaea;\n",
              "            color:  #000000;\n",
              "        }    #T_5fc6e7fc_764d_11e9_8331_0242ac1c0002row4_col3 {\n",
              "            background-color:  #d7dce3;\n",
              "            color:  #000000;\n",
              "        }    #T_5fc6e7fc_764d_11e9_8331_0242ac1c0002row4_col4 {\n",
              "            background-color:  #b40426;\n",
              "            color:  #f1f1f1;\n",
              "        }    #T_5fc6e7fc_764d_11e9_8331_0242ac1c0002row4_col5 {\n",
              "            background-color:  #d1493f;\n",
              "            color:  #f1f1f1;\n",
              "        }    #T_5fc6e7fc_764d_11e9_8331_0242ac1c0002row4_col6 {\n",
              "            background-color:  #d4dbe6;\n",
              "            color:  #000000;\n",
              "        }    #T_5fc6e7fc_764d_11e9_8331_0242ac1c0002row4_col7 {\n",
              "            background-color:  #89acfd;\n",
              "            color:  #000000;\n",
              "        }    #T_5fc6e7fc_764d_11e9_8331_0242ac1c0002row4_col8 {\n",
              "            background-color:  #f7a688;\n",
              "            color:  #000000;\n",
              "        }    #T_5fc6e7fc_764d_11e9_8331_0242ac1c0002row4_col9 {\n",
              "            background-color:  #e6d7cf;\n",
              "            color:  #000000;\n",
              "        }    #T_5fc6e7fc_764d_11e9_8331_0242ac1c0002row4_col10 {\n",
              "            background-color:  #6b8df0;\n",
              "            color:  #000000;\n",
              "        }    #T_5fc6e7fc_764d_11e9_8331_0242ac1c0002row4_col11 {\n",
              "            background-color:  #6e90f2;\n",
              "            color:  #000000;\n",
              "        }    #T_5fc6e7fc_764d_11e9_8331_0242ac1c0002row4_col12 {\n",
              "            background-color:  #f1ccb8;\n",
              "            color:  #000000;\n",
              "        }    #T_5fc6e7fc_764d_11e9_8331_0242ac1c0002row4_col13 {\n",
              "            background-color:  #ebd3c6;\n",
              "            color:  #000000;\n",
              "        }    #T_5fc6e7fc_764d_11e9_8331_0242ac1c0002row4_col14 {\n",
              "            background-color:  #6282ea;\n",
              "            color:  #000000;\n",
              "        }    #T_5fc6e7fc_764d_11e9_8331_0242ac1c0002row4_col15 {\n",
              "            background-color:  #f3c8b2;\n",
              "            color:  #000000;\n",
              "        }    #T_5fc6e7fc_764d_11e9_8331_0242ac1c0002row4_col16 {\n",
              "            background-color:  #f08a6c;\n",
              "            color:  #000000;\n",
              "        }    #T_5fc6e7fc_764d_11e9_8331_0242ac1c0002row4_col17 {\n",
              "            background-color:  #f3c7b1;\n",
              "            color:  #000000;\n",
              "        }    #T_5fc6e7fc_764d_11e9_8331_0242ac1c0002row5_col0 {\n",
              "            background-color:  #ccd9ed;\n",
              "            color:  #000000;\n",
              "        }    #T_5fc6e7fc_764d_11e9_8331_0242ac1c0002row5_col1 {\n",
              "            background-color:  #e9d5cb;\n",
              "            color:  #000000;\n",
              "        }    #T_5fc6e7fc_764d_11e9_8331_0242ac1c0002row5_col2 {\n",
              "            background-color:  #dadce0;\n",
              "            color:  #000000;\n",
              "        }    #T_5fc6e7fc_764d_11e9_8331_0242ac1c0002row5_col3 {\n",
              "            background-color:  #dedcdb;\n",
              "            color:  #000000;\n",
              "        }    #T_5fc6e7fc_764d_11e9_8331_0242ac1c0002row5_col4 {\n",
              "            background-color:  #cf453c;\n",
              "            color:  #f1f1f1;\n",
              "        }    #T_5fc6e7fc_764d_11e9_8331_0242ac1c0002row5_col5 {\n",
              "            background-color:  #b40426;\n",
              "            color:  #f1f1f1;\n",
              "        }    #T_5fc6e7fc_764d_11e9_8331_0242ac1c0002row5_col6 {\n",
              "            background-color:  #dedcdb;\n",
              "            color:  #000000;\n",
              "        }    #T_5fc6e7fc_764d_11e9_8331_0242ac1c0002row5_col7 {\n",
              "            background-color:  #96b7ff;\n",
              "            color:  #000000;\n",
              "        }    #T_5fc6e7fc_764d_11e9_8331_0242ac1c0002row5_col8 {\n",
              "            background-color:  #f7b79b;\n",
              "            color:  #000000;\n",
              "        }    #T_5fc6e7fc_764d_11e9_8331_0242ac1c0002row5_col9 {\n",
              "            background-color:  #dfdbd9;\n",
              "            color:  #000000;\n",
              "        }    #T_5fc6e7fc_764d_11e9_8331_0242ac1c0002row5_col10 {\n",
              "            background-color:  #6a8bef;\n",
              "            color:  #000000;\n",
              "        }    #T_5fc6e7fc_764d_11e9_8331_0242ac1c0002row5_col11 {\n",
              "            background-color:  #7093f3;\n",
              "            color:  #000000;\n",
              "        }    #T_5fc6e7fc_764d_11e9_8331_0242ac1c0002row5_col12 {\n",
              "            background-color:  #f2c9b4;\n",
              "            color:  #000000;\n",
              "        }    #T_5fc6e7fc_764d_11e9_8331_0242ac1c0002row5_col13 {\n",
              "            background-color:  #f1cdba;\n",
              "            color:  #000000;\n",
              "        }    #T_5fc6e7fc_764d_11e9_8331_0242ac1c0002row5_col14 {\n",
              "            background-color:  #7597f6;\n",
              "            color:  #000000;\n",
              "        }    #T_5fc6e7fc_764d_11e9_8331_0242ac1c0002row5_col15 {\n",
              "            background-color:  #efcebd;\n",
              "            color:  #000000;\n",
              "        }    #T_5fc6e7fc_764d_11e9_8331_0242ac1c0002row5_col16 {\n",
              "            background-color:  #f7ac8e;\n",
              "            color:  #000000;\n",
              "        }    #T_5fc6e7fc_764d_11e9_8331_0242ac1c0002row5_col17 {\n",
              "            background-color:  #f2cbb7;\n",
              "            color:  #000000;\n",
              "        }    #T_5fc6e7fc_764d_11e9_8331_0242ac1c0002row6_col0 {\n",
              "            background-color:  #3b4cc0;\n",
              "            color:  #f1f1f1;\n",
              "        }    #T_5fc6e7fc_764d_11e9_8331_0242ac1c0002row6_col1 {\n",
              "            background-color:  #df634e;\n",
              "            color:  #000000;\n",
              "        }    #T_5fc6e7fc_764d_11e9_8331_0242ac1c0002row6_col2 {\n",
              "            background-color:  #d1493f;\n",
              "            color:  #f1f1f1;\n",
              "        }    #T_5fc6e7fc_764d_11e9_8331_0242ac1c0002row6_col3 {\n",
              "            background-color:  #bb1b2c;\n",
              "            color:  #f1f1f1;\n",
              "        }    #T_5fc6e7fc_764d_11e9_8331_0242ac1c0002row6_col4 {\n",
              "            background-color:  #bad0f8;\n",
              "            color:  #000000;\n",
              "        }    #T_5fc6e7fc_764d_11e9_8331_0242ac1c0002row6_col5 {\n",
              "            background-color:  #bad0f8;\n",
              "            color:  #000000;\n",
              "        }    #T_5fc6e7fc_764d_11e9_8331_0242ac1c0002row6_col6 {\n",
              "            background-color:  #b40426;\n",
              "            color:  #f1f1f1;\n",
              "        }    #T_5fc6e7fc_764d_11e9_8331_0242ac1c0002row6_col7 {\n",
              "            background-color:  #f7aa8c;\n",
              "            color:  #000000;\n",
              "        }    #T_5fc6e7fc_764d_11e9_8331_0242ac1c0002row6_col8 {\n",
              "            background-color:  #81a4fb;\n",
              "            color:  #000000;\n",
              "        }    #T_5fc6e7fc_764d_11e9_8331_0242ac1c0002row6_col9 {\n",
              "            background-color:  #81a4fb;\n",
              "            color:  #000000;\n",
              "        }    #T_5fc6e7fc_764d_11e9_8331_0242ac1c0002row6_col10 {\n",
              "            background-color:  #6a8bef;\n",
              "            color:  #000000;\n",
              "        }    #T_5fc6e7fc_764d_11e9_8331_0242ac1c0002row6_col11 {\n",
              "            background-color:  #d7dce3;\n",
              "            color:  #000000;\n",
              "        }    #T_5fc6e7fc_764d_11e9_8331_0242ac1c0002row6_col12 {\n",
              "            background-color:  #c4d5f3;\n",
              "            color:  #000000;\n",
              "        }    #T_5fc6e7fc_764d_11e9_8331_0242ac1c0002row6_col13 {\n",
              "            background-color:  #bfd3f6;\n",
              "            color:  #000000;\n",
              "        }    #T_5fc6e7fc_764d_11e9_8331_0242ac1c0002row6_col14 {\n",
              "            background-color:  #e8d6cc;\n",
              "            color:  #000000;\n",
              "        }    #T_5fc6e7fc_764d_11e9_8331_0242ac1c0002row6_col15 {\n",
              "            background-color:  #6180e9;\n",
              "            color:  #000000;\n",
              "        }    #T_5fc6e7fc_764d_11e9_8331_0242ac1c0002row6_col16 {\n",
              "            background-color:  #bad0f8;\n",
              "            color:  #000000;\n",
              "        }    #T_5fc6e7fc_764d_11e9_8331_0242ac1c0002row6_col17 {\n",
              "            background-color:  #7295f4;\n",
              "            color:  #000000;\n",
              "        }    #T_5fc6e7fc_764d_11e9_8331_0242ac1c0002row7_col0 {\n",
              "            background-color:  #5977e3;\n",
              "            color:  #000000;\n",
              "        }    #T_5fc6e7fc_764d_11e9_8331_0242ac1c0002row7_col1 {\n",
              "            background-color:  #efcfbf;\n",
              "            color:  #000000;\n",
              "        }    #T_5fc6e7fc_764d_11e9_8331_0242ac1c0002row7_col2 {\n",
              "            background-color:  #f4c5ad;\n",
              "            color:  #000000;\n",
              "        }    #T_5fc6e7fc_764d_11e9_8331_0242ac1c0002row7_col3 {\n",
              "            background-color:  #f7b093;\n",
              "            color:  #000000;\n",
              "        }    #T_5fc6e7fc_764d_11e9_8331_0242ac1c0002row7_col4 {\n",
              "            background-color:  #7b9ff9;\n",
              "            color:  #000000;\n",
              "        }    #T_5fc6e7fc_764d_11e9_8331_0242ac1c0002row7_col5 {\n",
              "            background-color:  #7699f6;\n",
              "            color:  #000000;\n",
              "        }    #T_5fc6e7fc_764d_11e9_8331_0242ac1c0002row7_col6 {\n",
              "            background-color:  #f5a081;\n",
              "            color:  #000000;\n",
              "        }    #T_5fc6e7fc_764d_11e9_8331_0242ac1c0002row7_col7 {\n",
              "            background-color:  #b40426;\n",
              "            color:  #f1f1f1;\n",
              "        }    #T_5fc6e7fc_764d_11e9_8331_0242ac1c0002row7_col8 {\n",
              "            background-color:  #799cf8;\n",
              "            color:  #000000;\n",
              "        }    #T_5fc6e7fc_764d_11e9_8331_0242ac1c0002row7_col9 {\n",
              "            background-color:  #82a6fb;\n",
              "            color:  #000000;\n",
              "        }    #T_5fc6e7fc_764d_11e9_8331_0242ac1c0002row7_col10 {\n",
              "            background-color:  #5e7de7;\n",
              "            color:  #000000;\n",
              "        }    #T_5fc6e7fc_764d_11e9_8331_0242ac1c0002row7_col11 {\n",
              "            background-color:  #d7dce3;\n",
              "            color:  #000000;\n",
              "        }    #T_5fc6e7fc_764d_11e9_8331_0242ac1c0002row7_col12 {\n",
              "            background-color:  #92b4fe;\n",
              "            color:  #000000;\n",
              "        }    #T_5fc6e7fc_764d_11e9_8331_0242ac1c0002row7_col13 {\n",
              "            background-color:  #90b2fe;\n",
              "            color:  #000000;\n",
              "        }    #T_5fc6e7fc_764d_11e9_8331_0242ac1c0002row7_col14 {\n",
              "            background-color:  #e0dbd8;\n",
              "            color:  #000000;\n",
              "        }    #T_5fc6e7fc_764d_11e9_8331_0242ac1c0002row7_col15 {\n",
              "            background-color:  #5572df;\n",
              "            color:  #000000;\n",
              "        }    #T_5fc6e7fc_764d_11e9_8331_0242ac1c0002row7_col16 {\n",
              "            background-color:  #a3c2fe;\n",
              "            color:  #000000;\n",
              "        }    #T_5fc6e7fc_764d_11e9_8331_0242ac1c0002row7_col17 {\n",
              "            background-color:  #455cce;\n",
              "            color:  #f1f1f1;\n",
              "        }    #T_5fc6e7fc_764d_11e9_8331_0242ac1c0002row8_col0 {\n",
              "            background-color:  #f6a385;\n",
              "            color:  #000000;\n",
              "        }    #T_5fc6e7fc_764d_11e9_8331_0242ac1c0002row8_col1 {\n",
              "            background-color:  #abc8fd;\n",
              "            color:  #000000;\n",
              "        }    #T_5fc6e7fc_764d_11e9_8331_0242ac1c0002row8_col2 {\n",
              "            background-color:  #a1c0ff;\n",
              "            color:  #000000;\n",
              "        }    #T_5fc6e7fc_764d_11e9_8331_0242ac1c0002row8_col3 {\n",
              "            background-color:  #92b4fe;\n",
              "            color:  #000000;\n",
              "        }    #T_5fc6e7fc_764d_11e9_8331_0242ac1c0002row8_col4 {\n",
              "            background-color:  #f7b194;\n",
              "            color:  #000000;\n",
              "        }    #T_5fc6e7fc_764d_11e9_8331_0242ac1c0002row8_col5 {\n",
              "            background-color:  #f2c9b4;\n",
              "            color:  #000000;\n",
              "        }    #T_5fc6e7fc_764d_11e9_8331_0242ac1c0002row8_col6 {\n",
              "            background-color:  #8caffe;\n",
              "            color:  #000000;\n",
              "        }    #T_5fc6e7fc_764d_11e9_8331_0242ac1c0002row8_col7 {\n",
              "            background-color:  #6687ed;\n",
              "            color:  #000000;\n",
              "        }    #T_5fc6e7fc_764d_11e9_8331_0242ac1c0002row8_col8 {\n",
              "            background-color:  #b40426;\n",
              "            color:  #f1f1f1;\n",
              "        }    #T_5fc6e7fc_764d_11e9_8331_0242ac1c0002row8_col9 {\n",
              "            background-color:  #f49a7b;\n",
              "            color:  #000000;\n",
              "        }    #T_5fc6e7fc_764d_11e9_8331_0242ac1c0002row8_col10 {\n",
              "            background-color:  #516ddb;\n",
              "            color:  #000000;\n",
              "        }    #T_5fc6e7fc_764d_11e9_8331_0242ac1c0002row8_col11 {\n",
              "            background-color:  #3c4ec2;\n",
              "            color:  #f1f1f1;\n",
              "        }    #T_5fc6e7fc_764d_11e9_8331_0242ac1c0002row8_col12 {\n",
              "            background-color:  #d4dbe6;\n",
              "            color:  #000000;\n",
              "        }    #T_5fc6e7fc_764d_11e9_8331_0242ac1c0002row8_col13 {\n",
              "            background-color:  #dadce0;\n",
              "            color:  #000000;\n",
              "        }    #T_5fc6e7fc_764d_11e9_8331_0242ac1c0002row8_col14 {\n",
              "            background-color:  #3f53c6;\n",
              "            color:  #f1f1f1;\n",
              "        }    #T_5fc6e7fc_764d_11e9_8331_0242ac1c0002row8_col15 {\n",
              "            background-color:  #f7b093;\n",
              "            color:  #000000;\n",
              "        }    #T_5fc6e7fc_764d_11e9_8331_0242ac1c0002row8_col16 {\n",
              "            background-color:  #ee8669;\n",
              "            color:  #000000;\n",
              "        }    #T_5fc6e7fc_764d_11e9_8331_0242ac1c0002row8_col17 {\n",
              "            background-color:  #f7b599;\n",
              "            color:  #000000;\n",
              "        }    #T_5fc6e7fc_764d_11e9_8331_0242ac1c0002row9_col0 {\n",
              "            background-color:  #f1cdba;\n",
              "            color:  #000000;\n",
              "        }    #T_5fc6e7fc_764d_11e9_8331_0242ac1c0002row9_col1 {\n",
              "            background-color:  #c5d6f2;\n",
              "            color:  #000000;\n",
              "        }    #T_5fc6e7fc_764d_11e9_8331_0242ac1c0002row9_col2 {\n",
              "            background-color:  #bbd1f8;\n",
              "            color:  #000000;\n",
              "        }    #T_5fc6e7fc_764d_11e9_8331_0242ac1c0002row9_col3 {\n",
              "            background-color:  #abc8fd;\n",
              "            color:  #000000;\n",
              "        }    #T_5fc6e7fc_764d_11e9_8331_0242ac1c0002row9_col4 {\n",
              "            background-color:  #e8d6cc;\n",
              "            color:  #000000;\n",
              "        }    #T_5fc6e7fc_764d_11e9_8331_0242ac1c0002row9_col5 {\n",
              "            background-color:  #d8dce2;\n",
              "            color:  #000000;\n",
              "        }    #T_5fc6e7fc_764d_11e9_8331_0242ac1c0002row9_col6 {\n",
              "            background-color:  #abc8fd;\n",
              "            color:  #000000;\n",
              "        }    #T_5fc6e7fc_764d_11e9_8331_0242ac1c0002row9_col7 {\n",
              "            background-color:  #93b5fe;\n",
              "            color:  #000000;\n",
              "        }    #T_5fc6e7fc_764d_11e9_8331_0242ac1c0002row9_col8 {\n",
              "            background-color:  #f18d6f;\n",
              "            color:  #000000;\n",
              "        }    #T_5fc6e7fc_764d_11e9_8331_0242ac1c0002row9_col9 {\n",
              "            background-color:  #b40426;\n",
              "            color:  #f1f1f1;\n",
              "        }    #T_5fc6e7fc_764d_11e9_8331_0242ac1c0002row9_col10 {\n",
              "            background-color:  #6e90f2;\n",
              "            color:  #000000;\n",
              "        }    #T_5fc6e7fc_764d_11e9_8331_0242ac1c0002row9_col11 {\n",
              "            background-color:  #536edd;\n",
              "            color:  #000000;\n",
              "        }    #T_5fc6e7fc_764d_11e9_8331_0242ac1c0002row9_col12 {\n",
              "            background-color:  #c6d6f1;\n",
              "            color:  #000000;\n",
              "        }    #T_5fc6e7fc_764d_11e9_8331_0242ac1c0002row9_col13 {\n",
              "            background-color:  #d2dbe8;\n",
              "            color:  #000000;\n",
              "        }    #T_5fc6e7fc_764d_11e9_8331_0242ac1c0002row9_col14 {\n",
              "            background-color:  #6687ed;\n",
              "            color:  #000000;\n",
              "        }    #T_5fc6e7fc_764d_11e9_8331_0242ac1c0002row9_col15 {\n",
              "            background-color:  #d8dce2;\n",
              "            color:  #000000;\n",
              "        }    #T_5fc6e7fc_764d_11e9_8331_0242ac1c0002row9_col16 {\n",
              "            background-color:  #f7b194;\n",
              "            color:  #000000;\n",
              "        }    #T_5fc6e7fc_764d_11e9_8331_0242ac1c0002row9_col17 {\n",
              "            background-color:  #ebd3c6;\n",
              "            color:  #000000;\n",
              "        }    #T_5fc6e7fc_764d_11e9_8331_0242ac1c0002row10_col0 {\n",
              "            background-color:  #b6cefa;\n",
              "            color:  #000000;\n",
              "        }    #T_5fc6e7fc_764d_11e9_8331_0242ac1c0002row10_col1 {\n",
              "            background-color:  #bed2f6;\n",
              "            color:  #000000;\n",
              "        }    #T_5fc6e7fc_764d_11e9_8331_0242ac1c0002row10_col2 {\n",
              "            background-color:  #c0d4f5;\n",
              "            color:  #000000;\n",
              "        }    #T_5fc6e7fc_764d_11e9_8331_0242ac1c0002row10_col3 {\n",
              "            background-color:  #cbd8ee;\n",
              "            color:  #000000;\n",
              "        }    #T_5fc6e7fc_764d_11e9_8331_0242ac1c0002row10_col4 {\n",
              "            background-color:  #b5cdfa;\n",
              "            color:  #000000;\n",
              "        }    #T_5fc6e7fc_764d_11e9_8331_0242ac1c0002row10_col5 {\n",
              "            background-color:  #a5c3fe;\n",
              "            color:  #000000;\n",
              "        }    #T_5fc6e7fc_764d_11e9_8331_0242ac1c0002row10_col6 {\n",
              "            background-color:  #cfdaea;\n",
              "            color:  #000000;\n",
              "        }    #T_5fc6e7fc_764d_11e9_8331_0242ac1c0002row10_col7 {\n",
              "            background-color:  #b6cefa;\n",
              "            color:  #000000;\n",
              "        }    #T_5fc6e7fc_764d_11e9_8331_0242ac1c0002row10_col8 {\n",
              "            background-color:  #bad0f8;\n",
              "            color:  #000000;\n",
              "        }    #T_5fc6e7fc_764d_11e9_8331_0242ac1c0002row10_col9 {\n",
              "            background-color:  #b3cdfb;\n",
              "            color:  #000000;\n",
              "        }    #T_5fc6e7fc_764d_11e9_8331_0242ac1c0002row10_col10 {\n",
              "            background-color:  #b40426;\n",
              "            color:  #f1f1f1;\n",
              "        }    #T_5fc6e7fc_764d_11e9_8331_0242ac1c0002row10_col11 {\n",
              "            background-color:  #b6cefa;\n",
              "            color:  #000000;\n",
              "        }    #T_5fc6e7fc_764d_11e9_8331_0242ac1c0002row10_col12 {\n",
              "            background-color:  #6c8ff1;\n",
              "            color:  #000000;\n",
              "        }    #T_5fc6e7fc_764d_11e9_8331_0242ac1c0002row10_col13 {\n",
              "            background-color:  #84a7fc;\n",
              "            color:  #000000;\n",
              "        }    #T_5fc6e7fc_764d_11e9_8331_0242ac1c0002row10_col14 {\n",
              "            background-color:  #afcafc;\n",
              "            color:  #000000;\n",
              "        }    #T_5fc6e7fc_764d_11e9_8331_0242ac1c0002row10_col15 {\n",
              "            background-color:  #90b2fe;\n",
              "            color:  #000000;\n",
              "        }    #T_5fc6e7fc_764d_11e9_8331_0242ac1c0002row10_col16 {\n",
              "            background-color:  #ccd9ed;\n",
              "            color:  #000000;\n",
              "        }    #T_5fc6e7fc_764d_11e9_8331_0242ac1c0002row10_col17 {\n",
              "            background-color:  #88abfd;\n",
              "            color:  #000000;\n",
              "        }    #T_5fc6e7fc_764d_11e9_8331_0242ac1c0002row11_col0 {\n",
              "            background-color:  #799cf8;\n",
              "            color:  #000000;\n",
              "        }    #T_5fc6e7fc_764d_11e9_8331_0242ac1c0002row11_col1 {\n",
              "            background-color:  #c9d7f0;\n",
              "            color:  #000000;\n",
              "        }    #T_5fc6e7fc_764d_11e9_8331_0242ac1c0002row11_col2 {\n",
              "            background-color:  #d2dbe8;\n",
              "            color:  #000000;\n",
              "        }    #T_5fc6e7fc_764d_11e9_8331_0242ac1c0002row11_col3 {\n",
              "            background-color:  #e7d7ce;\n",
              "            color:  #000000;\n",
              "        }    #T_5fc6e7fc_764d_11e9_8331_0242ac1c0002row11_col4 {\n",
              "            background-color:  #7ea1fa;\n",
              "            color:  #000000;\n",
              "        }    #T_5fc6e7fc_764d_11e9_8331_0242ac1c0002row11_col5 {\n",
              "            background-color:  #6f92f3;\n",
              "            color:  #000000;\n",
              "        }    #T_5fc6e7fc_764d_11e9_8331_0242ac1c0002row11_col6 {\n",
              "            background-color:  #eed0c0;\n",
              "            color:  #000000;\n",
              "        }    #T_5fc6e7fc_764d_11e9_8331_0242ac1c0002row11_col7 {\n",
              "            background-color:  #e5d8d1;\n",
              "            color:  #000000;\n",
              "        }    #T_5fc6e7fc_764d_11e9_8331_0242ac1c0002row11_col8 {\n",
              "            background-color:  #6f92f3;\n",
              "            color:  #000000;\n",
              "        }    #T_5fc6e7fc_764d_11e9_8331_0242ac1c0002row11_col9 {\n",
              "            background-color:  #5f7fe8;\n",
              "            color:  #000000;\n",
              "        }    #T_5fc6e7fc_764d_11e9_8331_0242ac1c0002row11_col10 {\n",
              "            background-color:  #80a3fa;\n",
              "            color:  #000000;\n",
              "        }    #T_5fc6e7fc_764d_11e9_8331_0242ac1c0002row11_col11 {\n",
              "            background-color:  #b40426;\n",
              "            color:  #f1f1f1;\n",
              "        }    #T_5fc6e7fc_764d_11e9_8331_0242ac1c0002row11_col12 {\n",
              "            background-color:  #6282ea;\n",
              "            color:  #000000;\n",
              "        }    #T_5fc6e7fc_764d_11e9_8331_0242ac1c0002row11_col13 {\n",
              "            background-color:  #5d7ce6;\n",
              "            color:  #000000;\n",
              "        }    #T_5fc6e7fc_764d_11e9_8331_0242ac1c0002row11_col14 {\n",
              "            background-color:  #d1dae9;\n",
              "            color:  #000000;\n",
              "        }    #T_5fc6e7fc_764d_11e9_8331_0242ac1c0002row11_col15 {\n",
              "            background-color:  #5470de;\n",
              "            color:  #000000;\n",
              "        }    #T_5fc6e7fc_764d_11e9_8331_0242ac1c0002row11_col16 {\n",
              "            background-color:  #a1c0ff;\n",
              "            color:  #000000;\n",
              "        }    #T_5fc6e7fc_764d_11e9_8331_0242ac1c0002row11_col17 {\n",
              "            background-color:  #4358cb;\n",
              "            color:  #f1f1f1;\n",
              "        }    #T_5fc6e7fc_764d_11e9_8331_0242ac1c0002row12_col0 {\n",
              "            background-color:  #98b9ff;\n",
              "            color:  #000000;\n",
              "        }    #T_5fc6e7fc_764d_11e9_8331_0242ac1c0002row12_col1 {\n",
              "            background-color:  #eed0c0;\n",
              "            color:  #000000;\n",
              "        }    #T_5fc6e7fc_764d_11e9_8331_0242ac1c0002row12_col2 {\n",
              "            background-color:  #ecd3c5;\n",
              "            color:  #000000;\n",
              "        }    #T_5fc6e7fc_764d_11e9_8331_0242ac1c0002row12_col3 {\n",
              "            background-color:  #edd1c2;\n",
              "            color:  #000000;\n",
              "        }    #T_5fc6e7fc_764d_11e9_8331_0242ac1c0002row12_col4 {\n",
              "            background-color:  #f7b99e;\n",
              "            color:  #000000;\n",
              "        }    #T_5fc6e7fc_764d_11e9_8331_0242ac1c0002row12_col5 {\n",
              "            background-color:  #f6bda2;\n",
              "            color:  #000000;\n",
              "        }    #T_5fc6e7fc_764d_11e9_8331_0242ac1c0002row12_col6 {\n",
              "            background-color:  #eed0c0;\n",
              "            color:  #000000;\n",
              "        }    #T_5fc6e7fc_764d_11e9_8331_0242ac1c0002row12_col7 {\n",
              "            background-color:  #c4d5f3;\n",
              "            color:  #000000;\n",
              "        }    #T_5fc6e7fc_764d_11e9_8331_0242ac1c0002row12_col8 {\n",
              "            background-color:  #f2cab5;\n",
              "            color:  #000000;\n",
              "        }    #T_5fc6e7fc_764d_11e9_8331_0242ac1c0002row12_col9 {\n",
              "            background-color:  #dedcdb;\n",
              "            color:  #000000;\n",
              "        }    #T_5fc6e7fc_764d_11e9_8331_0242ac1c0002row12_col10 {\n",
              "            background-color:  #4e68d8;\n",
              "            color:  #000000;\n",
              "        }    #T_5fc6e7fc_764d_11e9_8331_0242ac1c0002row12_col11 {\n",
              "            background-color:  #84a7fc;\n",
              "            color:  #000000;\n",
              "        }    #T_5fc6e7fc_764d_11e9_8331_0242ac1c0002row12_col12 {\n",
              "            background-color:  #b40426;\n",
              "            color:  #f1f1f1;\n",
              "        }    #T_5fc6e7fc_764d_11e9_8331_0242ac1c0002row12_col13 {\n",
              "            background-color:  #df634e;\n",
              "            color:  #000000;\n",
              "        }    #T_5fc6e7fc_764d_11e9_8331_0242ac1c0002row12_col14 {\n",
              "            background-color:  #9abbff;\n",
              "            color:  #000000;\n",
              "        }    #T_5fc6e7fc_764d_11e9_8331_0242ac1c0002row12_col15 {\n",
              "            background-color:  #d3dbe7;\n",
              "            color:  #000000;\n",
              "        }    #T_5fc6e7fc_764d_11e9_8331_0242ac1c0002row12_col16 {\n",
              "            background-color:  #f6bfa6;\n",
              "            color:  #000000;\n",
              "        }    #T_5fc6e7fc_764d_11e9_8331_0242ac1c0002row12_col17 {\n",
              "            background-color:  #d4dbe6;\n",
              "            color:  #000000;\n",
              "        }    #T_5fc6e7fc_764d_11e9_8331_0242ac1c0002row13_col0 {\n",
              "            background-color:  #9fbfff;\n",
              "            color:  #000000;\n",
              "        }    #T_5fc6e7fc_764d_11e9_8331_0242ac1c0002row13_col1 {\n",
              "            background-color:  #ebd3c6;\n",
              "            color:  #000000;\n",
              "        }    #T_5fc6e7fc_764d_11e9_8331_0242ac1c0002row13_col2 {\n",
              "            background-color:  #ead5c9;\n",
              "            color:  #000000;\n",
              "        }    #T_5fc6e7fc_764d_11e9_8331_0242ac1c0002row13_col3 {\n",
              "            background-color:  #ebd3c6;\n",
              "            color:  #000000;\n",
              "        }    #T_5fc6e7fc_764d_11e9_8331_0242ac1c0002row13_col4 {\n",
              "            background-color:  #f5c2aa;\n",
              "            color:  #000000;\n",
              "        }    #T_5fc6e7fc_764d_11e9_8331_0242ac1c0002row13_col5 {\n",
              "            background-color:  #f5c1a9;\n",
              "            color:  #000000;\n",
              "        }    #T_5fc6e7fc_764d_11e9_8331_0242ac1c0002row13_col6 {\n",
              "            background-color:  #edd2c3;\n",
              "            color:  #000000;\n",
              "        }    #T_5fc6e7fc_764d_11e9_8331_0242ac1c0002row13_col7 {\n",
              "            background-color:  #c3d5f4;\n",
              "            color:  #000000;\n",
              "        }    #T_5fc6e7fc_764d_11e9_8331_0242ac1c0002row13_col8 {\n",
              "            background-color:  #f4c6af;\n",
              "            color:  #000000;\n",
              "        }    #T_5fc6e7fc_764d_11e9_8331_0242ac1c0002row13_col9 {\n",
              "            background-color:  #e7d7ce;\n",
              "            color:  #000000;\n",
              "        }    #T_5fc6e7fc_764d_11e9_8331_0242ac1c0002row13_col10 {\n",
              "            background-color:  #6485ec;\n",
              "            color:  #000000;\n",
              "        }    #T_5fc6e7fc_764d_11e9_8331_0242ac1c0002row13_col11 {\n",
              "            background-color:  #7ea1fa;\n",
              "            color:  #000000;\n",
              "        }    #T_5fc6e7fc_764d_11e9_8331_0242ac1c0002row13_col12 {\n",
              "            background-color:  #df634e;\n",
              "            color:  #000000;\n",
              "        }    #T_5fc6e7fc_764d_11e9_8331_0242ac1c0002row13_col13 {\n",
              "            background-color:  #b40426;\n",
              "            color:  #f1f1f1;\n",
              "        }    #T_5fc6e7fc_764d_11e9_8331_0242ac1c0002row13_col14 {\n",
              "            background-color:  #93b5fe;\n",
              "            color:  #000000;\n",
              "        }    #T_5fc6e7fc_764d_11e9_8331_0242ac1c0002row13_col15 {\n",
              "            background-color:  #d7dce3;\n",
              "            color:  #000000;\n",
              "        }    #T_5fc6e7fc_764d_11e9_8331_0242ac1c0002row13_col16 {\n",
              "            background-color:  #f6bea4;\n",
              "            color:  #000000;\n",
              "        }    #T_5fc6e7fc_764d_11e9_8331_0242ac1c0002row13_col17 {\n",
              "            background-color:  #d1dae9;\n",
              "            color:  #000000;\n",
              "        }    #T_5fc6e7fc_764d_11e9_8331_0242ac1c0002row14_col0 {\n",
              "            background-color:  #5572df;\n",
              "            color:  #000000;\n",
              "        }    #T_5fc6e7fc_764d_11e9_8331_0242ac1c0002row14_col1 {\n",
              "            background-color:  #b6cefa;\n",
              "            color:  #000000;\n",
              "        }    #T_5fc6e7fc_764d_11e9_8331_0242ac1c0002row14_col2 {\n",
              "            background-color:  #cdd9ec;\n",
              "            color:  #000000;\n",
              "        }    #T_5fc6e7fc_764d_11e9_8331_0242ac1c0002row14_col3 {\n",
              "            background-color:  #e0dbd8;\n",
              "            color:  #000000;\n",
              "        }    #T_5fc6e7fc_764d_11e9_8331_0242ac1c0002row14_col4 {\n",
              "            background-color:  #3b4cc0;\n",
              "            color:  #f1f1f1;\n",
              "        }    #T_5fc6e7fc_764d_11e9_8331_0242ac1c0002row14_col5 {\n",
              "            background-color:  #3b4cc0;\n",
              "            color:  #f1f1f1;\n",
              "        }    #T_5fc6e7fc_764d_11e9_8331_0242ac1c0002row14_col6 {\n",
              "            background-color:  #ead5c9;\n",
              "            color:  #000000;\n",
              "        }    #T_5fc6e7fc_764d_11e9_8331_0242ac1c0002row14_col7 {\n",
              "            background-color:  #d5dbe5;\n",
              "            color:  #000000;\n",
              "        }    #T_5fc6e7fc_764d_11e9_8331_0242ac1c0002row14_col8 {\n",
              "            background-color:  #3b4cc0;\n",
              "            color:  #f1f1f1;\n",
              "        }    #T_5fc6e7fc_764d_11e9_8331_0242ac1c0002row14_col9 {\n",
              "            background-color:  #3b4cc0;\n",
              "            color:  #f1f1f1;\n",
              "        }    #T_5fc6e7fc_764d_11e9_8331_0242ac1c0002row14_col10 {\n",
              "            background-color:  #3d50c3;\n",
              "            color:  #f1f1f1;\n",
              "        }    #T_5fc6e7fc_764d_11e9_8331_0242ac1c0002row14_col11 {\n",
              "            background-color:  #abc8fd;\n",
              "            color:  #000000;\n",
              "        }    #T_5fc6e7fc_764d_11e9_8331_0242ac1c0002row14_col12 {\n",
              "            background-color:  #4055c8;\n",
              "            color:  #f1f1f1;\n",
              "        }    #T_5fc6e7fc_764d_11e9_8331_0242ac1c0002row14_col13 {\n",
              "            background-color:  #3b4cc0;\n",
              "            color:  #f1f1f1;\n",
              "        }    #T_5fc6e7fc_764d_11e9_8331_0242ac1c0002row14_col14 {\n",
              "            background-color:  #b40426;\n",
              "            color:  #f1f1f1;\n",
              "        }    #T_5fc6e7fc_764d_11e9_8331_0242ac1c0002row14_col15 {\n",
              "            background-color:  #3b4cc0;\n",
              "            color:  #f1f1f1;\n",
              "        }    #T_5fc6e7fc_764d_11e9_8331_0242ac1c0002row14_col16 {\n",
              "            background-color:  #3b4cc0;\n",
              "            color:  #f1f1f1;\n",
              "        }    #T_5fc6e7fc_764d_11e9_8331_0242ac1c0002row14_col17 {\n",
              "            background-color:  #3b4cc0;\n",
              "            color:  #f1f1f1;\n",
              "        }    #T_5fc6e7fc_764d_11e9_8331_0242ac1c0002row15_col0 {\n",
              "            background-color:  #f5c0a7;\n",
              "            color:  #000000;\n",
              "        }    #T_5fc6e7fc_764d_11e9_8331_0242ac1c0002row15_col1 {\n",
              "            background-color:  #89acfd;\n",
              "            color:  #000000;\n",
              "        }    #T_5fc6e7fc_764d_11e9_8331_0242ac1c0002row15_col2 {\n",
              "            background-color:  #80a3fa;\n",
              "            color:  #000000;\n",
              "        }    #T_5fc6e7fc_764d_11e9_8331_0242ac1c0002row15_col3 {\n",
              "            background-color:  #8caffe;\n",
              "            color:  #000000;\n",
              "        }    #T_5fc6e7fc_764d_11e9_8331_0242ac1c0002row15_col4 {\n",
              "            background-color:  #f2c9b4;\n",
              "            color:  #000000;\n",
              "        }    #T_5fc6e7fc_764d_11e9_8331_0242ac1c0002row15_col5 {\n",
              "            background-color:  #e9d5cb;\n",
              "            color:  #000000;\n",
              "        }    #T_5fc6e7fc_764d_11e9_8331_0242ac1c0002row15_col6 {\n",
              "            background-color:  #89acfd;\n",
              "            color:  #000000;\n",
              "        }    #T_5fc6e7fc_764d_11e9_8331_0242ac1c0002row15_col7 {\n",
              "            background-color:  #5f7fe8;\n",
              "            color:  #000000;\n",
              "        }    #T_5fc6e7fc_764d_11e9_8331_0242ac1c0002row15_col8 {\n",
              "            background-color:  #f6a586;\n",
              "            color:  #000000;\n",
              "        }    #T_5fc6e7fc_764d_11e9_8331_0242ac1c0002row15_col9 {\n",
              "            background-color:  #d4dbe6;\n",
              "            color:  #000000;\n",
              "        }    #T_5fc6e7fc_764d_11e9_8331_0242ac1c0002row15_col10 {\n",
              "            background-color:  #3b4cc0;\n",
              "            color:  #f1f1f1;\n",
              "        }    #T_5fc6e7fc_764d_11e9_8331_0242ac1c0002row15_col11 {\n",
              "            background-color:  #3e51c5;\n",
              "            color:  #f1f1f1;\n",
              "        }    #T_5fc6e7fc_764d_11e9_8331_0242ac1c0002row15_col12 {\n",
              "            background-color:  #afcafc;\n",
              "            color:  #000000;\n",
              "        }    #T_5fc6e7fc_764d_11e9_8331_0242ac1c0002row15_col13 {\n",
              "            background-color:  #b6cefa;\n",
              "            color:  #000000;\n",
              "        }    #T_5fc6e7fc_764d_11e9_8331_0242ac1c0002row15_col14 {\n",
              "            background-color:  #5e7de7;\n",
              "            color:  #000000;\n",
              "        }    #T_5fc6e7fc_764d_11e9_8331_0242ac1c0002row15_col15 {\n",
              "            background-color:  #b40426;\n",
              "            color:  #f1f1f1;\n",
              "        }    #T_5fc6e7fc_764d_11e9_8331_0242ac1c0002row15_col16 {\n",
              "            background-color:  #f5c2aa;\n",
              "            color:  #000000;\n",
              "        }    #T_5fc6e7fc_764d_11e9_8331_0242ac1c0002row15_col17 {\n",
              "            background-color:  #f3c8b2;\n",
              "            color:  #000000;\n",
              "        }    #T_5fc6e7fc_764d_11e9_8331_0242ac1c0002row16_col0 {\n",
              "            background-color:  #e7d7ce;\n",
              "            color:  #000000;\n",
              "        }    #T_5fc6e7fc_764d_11e9_8331_0242ac1c0002row16_col1 {\n",
              "            background-color:  #d8dce2;\n",
              "            color:  #000000;\n",
              "        }    #T_5fc6e7fc_764d_11e9_8331_0242ac1c0002row16_col2 {\n",
              "            background-color:  #c3d5f4;\n",
              "            color:  #000000;\n",
              "        }    #T_5fc6e7fc_764d_11e9_8331_0242ac1c0002row16_col3 {\n",
              "            background-color:  #c1d4f4;\n",
              "            color:  #000000;\n",
              "        }    #T_5fc6e7fc_764d_11e9_8331_0242ac1c0002row16_col4 {\n",
              "            background-color:  #f39778;\n",
              "            color:  #000000;\n",
              "        }    #T_5fc6e7fc_764d_11e9_8331_0242ac1c0002row16_col5 {\n",
              "            background-color:  #f5c1a9;\n",
              "            color:  #000000;\n",
              "        }    #T_5fc6e7fc_764d_11e9_8331_0242ac1c0002row16_col6 {\n",
              "            background-color:  #bed2f6;\n",
              "            color:  #000000;\n",
              "        }    #T_5fc6e7fc_764d_11e9_8331_0242ac1c0002row16_col7 {\n",
              "            background-color:  #8db0fe;\n",
              "            color:  #000000;\n",
              "        }    #T_5fc6e7fc_764d_11e9_8331_0242ac1c0002row16_col8 {\n",
              "            background-color:  #ef886b;\n",
              "            color:  #000000;\n",
              "        }    #T_5fc6e7fc_764d_11e9_8331_0242ac1c0002row16_col9 {\n",
              "            background-color:  #f5c1a9;\n",
              "            color:  #000000;\n",
              "        }    #T_5fc6e7fc_764d_11e9_8331_0242ac1c0002row16_col10 {\n",
              "            background-color:  #688aef;\n",
              "            color:  #000000;\n",
              "        }    #T_5fc6e7fc_764d_11e9_8331_0242ac1c0002row16_col11 {\n",
              "            background-color:  #6c8ff1;\n",
              "            color:  #000000;\n",
              "        }    #T_5fc6e7fc_764d_11e9_8331_0242ac1c0002row16_col12 {\n",
              "            background-color:  #dfdbd9;\n",
              "            color:  #000000;\n",
              "        }    #T_5fc6e7fc_764d_11e9_8331_0242ac1c0002row16_col13 {\n",
              "            background-color:  #e1dad6;\n",
              "            color:  #000000;\n",
              "        }    #T_5fc6e7fc_764d_11e9_8331_0242ac1c0002row16_col14 {\n",
              "            background-color:  #3b4cc0;\n",
              "            color:  #f1f1f1;\n",
              "        }    #T_5fc6e7fc_764d_11e9_8331_0242ac1c0002row16_col15 {\n",
              "            background-color:  #efcebd;\n",
              "            color:  #000000;\n",
              "        }    #T_5fc6e7fc_764d_11e9_8331_0242ac1c0002row16_col16 {\n",
              "            background-color:  #b40426;\n",
              "            color:  #f1f1f1;\n",
              "        }    #T_5fc6e7fc_764d_11e9_8331_0242ac1c0002row16_col17 {\n",
              "            background-color:  #e5d8d1;\n",
              "            color:  #000000;\n",
              "        }    #T_5fc6e7fc_764d_11e9_8331_0242ac1c0002row17_col0 {\n",
              "            background-color:  #f0cdbb;\n",
              "            color:  #000000;\n",
              "        }    #T_5fc6e7fc_764d_11e9_8331_0242ac1c0002row17_col1 {\n",
              "            background-color:  #c1d4f4;\n",
              "            color:  #000000;\n",
              "        }    #T_5fc6e7fc_764d_11e9_8331_0242ac1c0002row17_col2 {\n",
              "            background-color:  #b6cefa;\n",
              "            color:  #000000;\n",
              "        }    #T_5fc6e7fc_764d_11e9_8331_0242ac1c0002row17_col3 {\n",
              "            background-color:  #afcafc;\n",
              "            color:  #000000;\n",
              "        }    #T_5fc6e7fc_764d_11e9_8331_0242ac1c0002row17_col4 {\n",
              "            background-color:  #f5c1a9;\n",
              "            color:  #000000;\n",
              "        }    #T_5fc6e7fc_764d_11e9_8331_0242ac1c0002row17_col5 {\n",
              "            background-color:  #f1ccb8;\n",
              "            color:  #000000;\n",
              "        }    #T_5fc6e7fc_764d_11e9_8331_0242ac1c0002row17_col6 {\n",
              "            background-color:  #aac7fd;\n",
              "            color:  #000000;\n",
              "        }    #T_5fc6e7fc_764d_11e9_8331_0242ac1c0002row17_col7 {\n",
              "            background-color:  #6485ec;\n",
              "            color:  #000000;\n",
              "        }    #T_5fc6e7fc_764d_11e9_8331_0242ac1c0002row17_col8 {\n",
              "            background-color:  #f6a385;\n",
              "            color:  #000000;\n",
              "        }    #T_5fc6e7fc_764d_11e9_8331_0242ac1c0002row17_col9 {\n",
              "            background-color:  #eed0c0;\n",
              "            color:  #000000;\n",
              "        }    #T_5fc6e7fc_764d_11e9_8331_0242ac1c0002row17_col10 {\n",
              "            background-color:  #465ecf;\n",
              "            color:  #f1f1f1;\n",
              "        }    #T_5fc6e7fc_764d_11e9_8331_0242ac1c0002row17_col11 {\n",
              "            background-color:  #4257c9;\n",
              "            color:  #f1f1f1;\n",
              "        }    #T_5fc6e7fc_764d_11e9_8331_0242ac1c0002row17_col12 {\n",
              "            background-color:  #c0d4f5;\n",
              "            color:  #000000;\n",
              "        }    #T_5fc6e7fc_764d_11e9_8331_0242ac1c0002row17_col13 {\n",
              "            background-color:  #bcd2f7;\n",
              "            color:  #000000;\n",
              "        }    #T_5fc6e7fc_764d_11e9_8331_0242ac1c0002row17_col14 {\n",
              "            background-color:  #7295f4;\n",
              "            color:  #000000;\n",
              "        }    #T_5fc6e7fc_764d_11e9_8331_0242ac1c0002row17_col15 {\n",
              "            background-color:  #f5c0a7;\n",
              "            color:  #000000;\n",
              "        }    #T_5fc6e7fc_764d_11e9_8331_0242ac1c0002row17_col16 {\n",
              "            background-color:  #f3c7b1;\n",
              "            color:  #000000;\n",
              "        }    #T_5fc6e7fc_764d_11e9_8331_0242ac1c0002row17_col17 {\n",
              "            background-color:  #b40426;\n",
              "            color:  #f1f1f1;\n",
              "        }</style><table id=\"T_5fc6e7fc_764d_11e9_8331_0242ac1c0002\" ><thead>    <tr>        <th class=\"blank level0\" ></th>        <th class=\"col_heading level0 col0\" >Private</th>        <th class=\"col_heading level0 col1\" >Apps</th>        <th class=\"col_heading level0 col2\" >Accept</th>        <th class=\"col_heading level0 col3\" >Enroll</th>        <th class=\"col_heading level0 col4\" >Top10perc</th>        <th class=\"col_heading level0 col5\" >Top25perc</th>        <th class=\"col_heading level0 col6\" >F.Undergrad</th>        <th class=\"col_heading level0 col7\" >P.Undergrad</th>        <th class=\"col_heading level0 col8\" >Outstate</th>        <th class=\"col_heading level0 col9\" >Room.Board</th>        <th class=\"col_heading level0 col10\" >Books</th>        <th class=\"col_heading level0 col11\" >Personal</th>        <th class=\"col_heading level0 col12\" >PhD</th>        <th class=\"col_heading level0 col13\" >Terminal</th>        <th class=\"col_heading level0 col14\" >S.F.Ratio</th>        <th class=\"col_heading level0 col15\" >perc.alumni</th>        <th class=\"col_heading level0 col16\" >Expend</th>        <th class=\"col_heading level0 col17\" >Grad.Rate</th>    </tr></thead><tbody>\n",
              "                <tr>\n",
              "                        <th id=\"T_5fc6e7fc_764d_11e9_8331_0242ac1c0002level0_row0\" class=\"row_heading level0 row0\" >Private</th>\n",
              "                        <td id=\"T_5fc6e7fc_764d_11e9_8331_0242ac1c0002row0_col0\" class=\"data row0 col0\" >1</td>\n",
              "                        <td id=\"T_5fc6e7fc_764d_11e9_8331_0242ac1c0002row0_col1\" class=\"data row0 col1\" >-0.432095</td>\n",
              "                        <td id=\"T_5fc6e7fc_764d_11e9_8331_0242ac1c0002row0_col2\" class=\"data row0 col2\" >-0.475252</td>\n",
              "                        <td id=\"T_5fc6e7fc_764d_11e9_8331_0242ac1c0002row0_col3\" class=\"data row0 col3\" >-0.567908</td>\n",
              "                        <td id=\"T_5fc6e7fc_764d_11e9_8331_0242ac1c0002row0_col4\" class=\"data row0 col4\" >0.164132</td>\n",
              "                        <td id=\"T_5fc6e7fc_764d_11e9_8331_0242ac1c0002row0_col5\" class=\"data row0 col5\" >0.0957522</td>\n",
              "                        <td id=\"T_5fc6e7fc_764d_11e9_8331_0242ac1c0002row0_col6\" class=\"data row0 col6\" >-0.615561</td>\n",
              "                        <td id=\"T_5fc6e7fc_764d_11e9_8331_0242ac1c0002row0_col7\" class=\"data row0 col7\" >-0.452088</td>\n",
              "                        <td id=\"T_5fc6e7fc_764d_11e9_8331_0242ac1c0002row0_col8\" class=\"data row0 col8\" >0.55265</td>\n",
              "                        <td id=\"T_5fc6e7fc_764d_11e9_8331_0242ac1c0002row0_col9\" class=\"data row0 col9\" >0.340532</td>\n",
              "                        <td id=\"T_5fc6e7fc_764d_11e9_8331_0242ac1c0002row0_col10\" class=\"data row0 col10\" >-0.018549</td>\n",
              "                        <td id=\"T_5fc6e7fc_764d_11e9_8331_0242ac1c0002row0_col11\" class=\"data row0 col11\" >-0.304485</td>\n",
              "                        <td id=\"T_5fc6e7fc_764d_11e9_8331_0242ac1c0002row0_col12\" class=\"data row0 col12\" >-0.156714</td>\n",
              "                        <td id=\"T_5fc6e7fc_764d_11e9_8331_0242ac1c0002row0_col13\" class=\"data row0 col13\" >-0.12962</td>\n",
              "                        <td id=\"T_5fc6e7fc_764d_11e9_8331_0242ac1c0002row0_col14\" class=\"data row0 col14\" >-0.472205</td>\n",
              "                        <td id=\"T_5fc6e7fc_764d_11e9_8331_0242ac1c0002row0_col15\" class=\"data row0 col15\" >0.414775</td>\n",
              "                        <td id=\"T_5fc6e7fc_764d_11e9_8331_0242ac1c0002row0_col16\" class=\"data row0 col16\" >0.258461</td>\n",
              "                        <td id=\"T_5fc6e7fc_764d_11e9_8331_0242ac1c0002row0_col17\" class=\"data row0 col17\" >0.336162</td>\n",
              "            </tr>\n",
              "            <tr>\n",
              "                        <th id=\"T_5fc6e7fc_764d_11e9_8331_0242ac1c0002level0_row1\" class=\"row_heading level0 row1\" >Apps</th>\n",
              "                        <td id=\"T_5fc6e7fc_764d_11e9_8331_0242ac1c0002row1_col0\" class=\"data row1 col0\" >-0.432095</td>\n",
              "                        <td id=\"T_5fc6e7fc_764d_11e9_8331_0242ac1c0002row1_col1\" class=\"data row1 col1\" >1</td>\n",
              "                        <td id=\"T_5fc6e7fc_764d_11e9_8331_0242ac1c0002row1_col2\" class=\"data row1 col2\" >0.943451</td>\n",
              "                        <td id=\"T_5fc6e7fc_764d_11e9_8331_0242ac1c0002row1_col3\" class=\"data row1 col3\" >0.846822</td>\n",
              "                        <td id=\"T_5fc6e7fc_764d_11e9_8331_0242ac1c0002row1_col4\" class=\"data row1 col4\" >0.338834</td>\n",
              "                        <td id=\"T_5fc6e7fc_764d_11e9_8331_0242ac1c0002row1_col5\" class=\"data row1 col5\" >0.35164</td>\n",
              "                        <td id=\"T_5fc6e7fc_764d_11e9_8331_0242ac1c0002row1_col6\" class=\"data row1 col6\" >0.814491</td>\n",
              "                        <td id=\"T_5fc6e7fc_764d_11e9_8331_0242ac1c0002row1_col7\" class=\"data row1 col7\" >0.398264</td>\n",
              "                        <td id=\"T_5fc6e7fc_764d_11e9_8331_0242ac1c0002row1_col8\" class=\"data row1 col8\" >0.050159</td>\n",
              "                        <td id=\"T_5fc6e7fc_764d_11e9_8331_0242ac1c0002row1_col9\" class=\"data row1 col9\" >0.164939</td>\n",
              "                        <td id=\"T_5fc6e7fc_764d_11e9_8331_0242ac1c0002row1_col10\" class=\"data row1 col10\" >0.132559</td>\n",
              "                        <td id=\"T_5fc6e7fc_764d_11e9_8331_0242ac1c0002row1_col11\" class=\"data row1 col11\" >0.178731</td>\n",
              "                        <td id=\"T_5fc6e7fc_764d_11e9_8331_0242ac1c0002row1_col12\" class=\"data row1 col12\" >0.390697</td>\n",
              "                        <td id=\"T_5fc6e7fc_764d_11e9_8331_0242ac1c0002row1_col13\" class=\"data row1 col13\" >0.369491</td>\n",
              "                        <td id=\"T_5fc6e7fc_764d_11e9_8331_0242ac1c0002row1_col14\" class=\"data row1 col14\" >0.095633</td>\n",
              "                        <td id=\"T_5fc6e7fc_764d_11e9_8331_0242ac1c0002row1_col15\" class=\"data row1 col15\" >-0.0902259</td>\n",
              "                        <td id=\"T_5fc6e7fc_764d_11e9_8331_0242ac1c0002row1_col16\" class=\"data row1 col16\" >0.259592</td>\n",
              "                        <td id=\"T_5fc6e7fc_764d_11e9_8331_0242ac1c0002row1_col17\" class=\"data row1 col17\" >0.146755</td>\n",
              "            </tr>\n",
              "            <tr>\n",
              "                        <th id=\"T_5fc6e7fc_764d_11e9_8331_0242ac1c0002level0_row2\" class=\"row_heading level0 row2\" >Accept</th>\n",
              "                        <td id=\"T_5fc6e7fc_764d_11e9_8331_0242ac1c0002row2_col0\" class=\"data row2 col0\" >-0.475252</td>\n",
              "                        <td id=\"T_5fc6e7fc_764d_11e9_8331_0242ac1c0002row2_col1\" class=\"data row2 col1\" >0.943451</td>\n",
              "                        <td id=\"T_5fc6e7fc_764d_11e9_8331_0242ac1c0002row2_col2\" class=\"data row2 col2\" >1</td>\n",
              "                        <td id=\"T_5fc6e7fc_764d_11e9_8331_0242ac1c0002row2_col3\" class=\"data row2 col3\" >0.911637</td>\n",
              "                        <td id=\"T_5fc6e7fc_764d_11e9_8331_0242ac1c0002row2_col4\" class=\"data row2 col4\" >0.192447</td>\n",
              "                        <td id=\"T_5fc6e7fc_764d_11e9_8331_0242ac1c0002row2_col5\" class=\"data row2 col5\" >0.247476</td>\n",
              "                        <td id=\"T_5fc6e7fc_764d_11e9_8331_0242ac1c0002row2_col6\" class=\"data row2 col6\" >0.874223</td>\n",
              "                        <td id=\"T_5fc6e7fc_764d_11e9_8331_0242ac1c0002row2_col7\" class=\"data row2 col7\" >0.441271</td>\n",
              "                        <td id=\"T_5fc6e7fc_764d_11e9_8331_0242ac1c0002row2_col8\" class=\"data row2 col8\" >-0.0257545</td>\n",
              "                        <td id=\"T_5fc6e7fc_764d_11e9_8331_0242ac1c0002row2_col9\" class=\"data row2 col9\" >0.0908986</td>\n",
              "                        <td id=\"T_5fc6e7fc_764d_11e9_8331_0242ac1c0002row2_col10\" class=\"data row2 col10\" >0.113525</td>\n",
              "                        <td id=\"T_5fc6e7fc_764d_11e9_8331_0242ac1c0002row2_col11\" class=\"data row2 col11\" >0.200989</td>\n",
              "                        <td id=\"T_5fc6e7fc_764d_11e9_8331_0242ac1c0002row2_col12\" class=\"data row2 col12\" >0.355758</td>\n",
              "                        <td id=\"T_5fc6e7fc_764d_11e9_8331_0242ac1c0002row2_col13\" class=\"data row2 col13\" >0.337583</td>\n",
              "                        <td id=\"T_5fc6e7fc_764d_11e9_8331_0242ac1c0002row2_col14\" class=\"data row2 col14\" >0.176229</td>\n",
              "                        <td id=\"T_5fc6e7fc_764d_11e9_8331_0242ac1c0002row2_col15\" class=\"data row2 col15\" >-0.15999</td>\n",
              "                        <td id=\"T_5fc6e7fc_764d_11e9_8331_0242ac1c0002row2_col16\" class=\"data row2 col16\" >0.124717</td>\n",
              "                        <td id=\"T_5fc6e7fc_764d_11e9_8331_0242ac1c0002row2_col17\" class=\"data row2 col17\" >0.0673125</td>\n",
              "            </tr>\n",
              "            <tr>\n",
              "                        <th id=\"T_5fc6e7fc_764d_11e9_8331_0242ac1c0002level0_row3\" class=\"row_heading level0 row3\" >Enroll</th>\n",
              "                        <td id=\"T_5fc6e7fc_764d_11e9_8331_0242ac1c0002row3_col0\" class=\"data row3 col0\" >-0.567908</td>\n",
              "                        <td id=\"T_5fc6e7fc_764d_11e9_8331_0242ac1c0002row3_col1\" class=\"data row3 col1\" >0.846822</td>\n",
              "                        <td id=\"T_5fc6e7fc_764d_11e9_8331_0242ac1c0002row3_col2\" class=\"data row3 col2\" >0.911637</td>\n",
              "                        <td id=\"T_5fc6e7fc_764d_11e9_8331_0242ac1c0002row3_col3\" class=\"data row3 col3\" >1</td>\n",
              "                        <td id=\"T_5fc6e7fc_764d_11e9_8331_0242ac1c0002row3_col4\" class=\"data row3 col4\" >0.181294</td>\n",
              "                        <td id=\"T_5fc6e7fc_764d_11e9_8331_0242ac1c0002row3_col5\" class=\"data row3 col5\" >0.226745</td>\n",
              "                        <td id=\"T_5fc6e7fc_764d_11e9_8331_0242ac1c0002row3_col6\" class=\"data row3 col6\" >0.96464</td>\n",
              "                        <td id=\"T_5fc6e7fc_764d_11e9_8331_0242ac1c0002row3_col7\" class=\"data row3 col7\" >0.513069</td>\n",
              "                        <td id=\"T_5fc6e7fc_764d_11e9_8331_0242ac1c0002row3_col8\" class=\"data row3 col8\" >-0.155477</td>\n",
              "                        <td id=\"T_5fc6e7fc_764d_11e9_8331_0242ac1c0002row3_col9\" class=\"data row3 col9\" >-0.0402317</td>\n",
              "                        <td id=\"T_5fc6e7fc_764d_11e9_8331_0242ac1c0002row3_col10\" class=\"data row3 col10\" >0.112711</td>\n",
              "                        <td id=\"T_5fc6e7fc_764d_11e9_8331_0242ac1c0002row3_col11\" class=\"data row3 col11\" >0.280929</td>\n",
              "                        <td id=\"T_5fc6e7fc_764d_11e9_8331_0242ac1c0002row3_col12\" class=\"data row3 col12\" >0.331469</td>\n",
              "                        <td id=\"T_5fc6e7fc_764d_11e9_8331_0242ac1c0002row3_col13\" class=\"data row3 col13\" >0.308274</td>\n",
              "                        <td id=\"T_5fc6e7fc_764d_11e9_8331_0242ac1c0002row3_col14\" class=\"data row3 col14\" >0.237271</td>\n",
              "                        <td id=\"T_5fc6e7fc_764d_11e9_8331_0242ac1c0002row3_col15\" class=\"data row3 col15\" >-0.180794</td>\n",
              "                        <td id=\"T_5fc6e7fc_764d_11e9_8331_0242ac1c0002row3_col16\" class=\"data row3 col16\" >0.0641692</td>\n",
              "                        <td id=\"T_5fc6e7fc_764d_11e9_8331_0242ac1c0002row3_col17\" class=\"data row3 col17\" >-0.022341</td>\n",
              "            </tr>\n",
              "            <tr>\n",
              "                        <th id=\"T_5fc6e7fc_764d_11e9_8331_0242ac1c0002level0_row4\" class=\"row_heading level0 row4\" >Top10perc</th>\n",
              "                        <td id=\"T_5fc6e7fc_764d_11e9_8331_0242ac1c0002row4_col0\" class=\"data row4 col0\" >0.164132</td>\n",
              "                        <td id=\"T_5fc6e7fc_764d_11e9_8331_0242ac1c0002row4_col1\" class=\"data row4 col1\" >0.338834</td>\n",
              "                        <td id=\"T_5fc6e7fc_764d_11e9_8331_0242ac1c0002row4_col2\" class=\"data row4 col2\" >0.192447</td>\n",
              "                        <td id=\"T_5fc6e7fc_764d_11e9_8331_0242ac1c0002row4_col3\" class=\"data row4 col3\" >0.181294</td>\n",
              "                        <td id=\"T_5fc6e7fc_764d_11e9_8331_0242ac1c0002row4_col4\" class=\"data row4 col4\" >1</td>\n",
              "                        <td id=\"T_5fc6e7fc_764d_11e9_8331_0242ac1c0002row4_col5\" class=\"data row4 col5\" >0.891995</td>\n",
              "                        <td id=\"T_5fc6e7fc_764d_11e9_8331_0242ac1c0002row4_col6\" class=\"data row4 col6\" >0.141289</td>\n",
              "                        <td id=\"T_5fc6e7fc_764d_11e9_8331_0242ac1c0002row4_col7\" class=\"data row4 col7\" >-0.105356</td>\n",
              "                        <td id=\"T_5fc6e7fc_764d_11e9_8331_0242ac1c0002row4_col8\" class=\"data row4 col8\" >0.562331</td>\n",
              "                        <td id=\"T_5fc6e7fc_764d_11e9_8331_0242ac1c0002row4_col9\" class=\"data row4 col9\" >0.37148</td>\n",
              "                        <td id=\"T_5fc6e7fc_764d_11e9_8331_0242ac1c0002row4_col10\" class=\"data row4 col10\" >0.118858</td>\n",
              "                        <td id=\"T_5fc6e7fc_764d_11e9_8331_0242ac1c0002row4_col11\" class=\"data row4 col11\" >-0.0933164</td>\n",
              "                        <td id=\"T_5fc6e7fc_764d_11e9_8331_0242ac1c0002row4_col12\" class=\"data row4 col12\" >0.531828</td>\n",
              "                        <td id=\"T_5fc6e7fc_764d_11e9_8331_0242ac1c0002row4_col13\" class=\"data row4 col13\" >0.491135</td>\n",
              "                        <td id=\"T_5fc6e7fc_764d_11e9_8331_0242ac1c0002row4_col14\" class=\"data row4 col14\" >-0.384875</td>\n",
              "                        <td id=\"T_5fc6e7fc_764d_11e9_8331_0242ac1c0002row4_col15\" class=\"data row4 col15\" >0.455485</td>\n",
              "                        <td id=\"T_5fc6e7fc_764d_11e9_8331_0242ac1c0002row4_col16\" class=\"data row4 col16\" >0.660913</td>\n",
              "                        <td id=\"T_5fc6e7fc_764d_11e9_8331_0242ac1c0002row4_col17\" class=\"data row4 col17\" >0.494989</td>\n",
              "            </tr>\n",
              "            <tr>\n",
              "                        <th id=\"T_5fc6e7fc_764d_11e9_8331_0242ac1c0002level0_row5\" class=\"row_heading level0 row5\" >Top25perc</th>\n",
              "                        <td id=\"T_5fc6e7fc_764d_11e9_8331_0242ac1c0002row5_col0\" class=\"data row5 col0\" >0.0957522</td>\n",
              "                        <td id=\"T_5fc6e7fc_764d_11e9_8331_0242ac1c0002row5_col1\" class=\"data row5 col1\" >0.35164</td>\n",
              "                        <td id=\"T_5fc6e7fc_764d_11e9_8331_0242ac1c0002row5_col2\" class=\"data row5 col2\" >0.247476</td>\n",
              "                        <td id=\"T_5fc6e7fc_764d_11e9_8331_0242ac1c0002row5_col3\" class=\"data row5 col3\" >0.226745</td>\n",
              "                        <td id=\"T_5fc6e7fc_764d_11e9_8331_0242ac1c0002row5_col4\" class=\"data row5 col4\" >0.891995</td>\n",
              "                        <td id=\"T_5fc6e7fc_764d_11e9_8331_0242ac1c0002row5_col5\" class=\"data row5 col5\" >1</td>\n",
              "                        <td id=\"T_5fc6e7fc_764d_11e9_8331_0242ac1c0002row5_col6\" class=\"data row5 col6\" >0.199445</td>\n",
              "                        <td id=\"T_5fc6e7fc_764d_11e9_8331_0242ac1c0002row5_col7\" class=\"data row5 col7\" >-0.0535766</td>\n",
              "                        <td id=\"T_5fc6e7fc_764d_11e9_8331_0242ac1c0002row5_col8\" class=\"data row5 col8\" >0.489394</td>\n",
              "                        <td id=\"T_5fc6e7fc_764d_11e9_8331_0242ac1c0002row5_col9\" class=\"data row5 col9\" >0.33149</td>\n",
              "                        <td id=\"T_5fc6e7fc_764d_11e9_8331_0242ac1c0002row5_col10\" class=\"data row5 col10\" >0.115527</td>\n",
              "                        <td id=\"T_5fc6e7fc_764d_11e9_8331_0242ac1c0002row5_col11\" class=\"data row5 col11\" >-0.0808103</td>\n",
              "                        <td id=\"T_5fc6e7fc_764d_11e9_8331_0242ac1c0002row5_col12\" class=\"data row5 col12\" >0.545862</td>\n",
              "                        <td id=\"T_5fc6e7fc_764d_11e9_8331_0242ac1c0002row5_col13\" class=\"data row5 col13\" >0.524749</td>\n",
              "                        <td id=\"T_5fc6e7fc_764d_11e9_8331_0242ac1c0002row5_col14\" class=\"data row5 col14\" >-0.294629</td>\n",
              "                        <td id=\"T_5fc6e7fc_764d_11e9_8331_0242ac1c0002row5_col15\" class=\"data row5 col15\" >0.417864</td>\n",
              "                        <td id=\"T_5fc6e7fc_764d_11e9_8331_0242ac1c0002row5_col16\" class=\"data row5 col16\" >0.527447</td>\n",
              "                        <td id=\"T_5fc6e7fc_764d_11e9_8331_0242ac1c0002row5_col17\" class=\"data row5 col17\" >0.477281</td>\n",
              "            </tr>\n",
              "            <tr>\n",
              "                        <th id=\"T_5fc6e7fc_764d_11e9_8331_0242ac1c0002level0_row6\" class=\"row_heading level0 row6\" >F.Undergrad</th>\n",
              "                        <td id=\"T_5fc6e7fc_764d_11e9_8331_0242ac1c0002row6_col0\" class=\"data row6 col0\" >-0.615561</td>\n",
              "                        <td id=\"T_5fc6e7fc_764d_11e9_8331_0242ac1c0002row6_col1\" class=\"data row6 col1\" >0.814491</td>\n",
              "                        <td id=\"T_5fc6e7fc_764d_11e9_8331_0242ac1c0002row6_col2\" class=\"data row6 col2\" >0.874223</td>\n",
              "                        <td id=\"T_5fc6e7fc_764d_11e9_8331_0242ac1c0002row6_col3\" class=\"data row6 col3\" >0.96464</td>\n",
              "                        <td id=\"T_5fc6e7fc_764d_11e9_8331_0242ac1c0002row6_col4\" class=\"data row6 col4\" >0.141289</td>\n",
              "                        <td id=\"T_5fc6e7fc_764d_11e9_8331_0242ac1c0002row6_col5\" class=\"data row6 col5\" >0.199445</td>\n",
              "                        <td id=\"T_5fc6e7fc_764d_11e9_8331_0242ac1c0002row6_col6\" class=\"data row6 col6\" >1</td>\n",
              "                        <td id=\"T_5fc6e7fc_764d_11e9_8331_0242ac1c0002row6_col7\" class=\"data row6 col7\" >0.570512</td>\n",
              "                        <td id=\"T_5fc6e7fc_764d_11e9_8331_0242ac1c0002row6_col8\" class=\"data row6 col8\" >-0.215742</td>\n",
              "                        <td id=\"T_5fc6e7fc_764d_11e9_8331_0242ac1c0002row6_col9\" class=\"data row6 col9\" >-0.0688904</td>\n",
              "                        <td id=\"T_5fc6e7fc_764d_11e9_8331_0242ac1c0002row6_col10\" class=\"data row6 col10\" >0.11555</td>\n",
              "                        <td id=\"T_5fc6e7fc_764d_11e9_8331_0242ac1c0002row6_col11\" class=\"data row6 col11\" >0.3172</td>\n",
              "                        <td id=\"T_5fc6e7fc_764d_11e9_8331_0242ac1c0002row6_col12\" class=\"data row6 col12\" >0.318337</td>\n",
              "                        <td id=\"T_5fc6e7fc_764d_11e9_8331_0242ac1c0002row6_col13\" class=\"data row6 col13\" >0.300019</td>\n",
              "                        <td id=\"T_5fc6e7fc_764d_11e9_8331_0242ac1c0002row6_col14\" class=\"data row6 col14\" >0.279703</td>\n",
              "                        <td id=\"T_5fc6e7fc_764d_11e9_8331_0242ac1c0002row6_col15\" class=\"data row6 col15\" >-0.229462</td>\n",
              "                        <td id=\"T_5fc6e7fc_764d_11e9_8331_0242ac1c0002row6_col16\" class=\"data row6 col16\" >0.0186516</td>\n",
              "                        <td id=\"T_5fc6e7fc_764d_11e9_8331_0242ac1c0002row6_col17\" class=\"data row6 col17\" >-0.0787731</td>\n",
              "            </tr>\n",
              "            <tr>\n",
              "                        <th id=\"T_5fc6e7fc_764d_11e9_8331_0242ac1c0002level0_row7\" class=\"row_heading level0 row7\" >P.Undergrad</th>\n",
              "                        <td id=\"T_5fc6e7fc_764d_11e9_8331_0242ac1c0002row7_col0\" class=\"data row7 col0\" >-0.452088</td>\n",
              "                        <td id=\"T_5fc6e7fc_764d_11e9_8331_0242ac1c0002row7_col1\" class=\"data row7 col1\" >0.398264</td>\n",
              "                        <td id=\"T_5fc6e7fc_764d_11e9_8331_0242ac1c0002row7_col2\" class=\"data row7 col2\" >0.441271</td>\n",
              "                        <td id=\"T_5fc6e7fc_764d_11e9_8331_0242ac1c0002row7_col3\" class=\"data row7 col3\" >0.513069</td>\n",
              "                        <td id=\"T_5fc6e7fc_764d_11e9_8331_0242ac1c0002row7_col4\" class=\"data row7 col4\" >-0.105356</td>\n",
              "                        <td id=\"T_5fc6e7fc_764d_11e9_8331_0242ac1c0002row7_col5\" class=\"data row7 col5\" >-0.0535766</td>\n",
              "                        <td id=\"T_5fc6e7fc_764d_11e9_8331_0242ac1c0002row7_col6\" class=\"data row7 col6\" >0.570512</td>\n",
              "                        <td id=\"T_5fc6e7fc_764d_11e9_8331_0242ac1c0002row7_col7\" class=\"data row7 col7\" >1</td>\n",
              "                        <td id=\"T_5fc6e7fc_764d_11e9_8331_0242ac1c0002row7_col8\" class=\"data row7 col8\" >-0.253512</td>\n",
              "                        <td id=\"T_5fc6e7fc_764d_11e9_8331_0242ac1c0002row7_col9\" class=\"data row7 col9\" >-0.0613255</td>\n",
              "                        <td id=\"T_5fc6e7fc_764d_11e9_8331_0242ac1c0002row7_col10\" class=\"data row7 col10\" >0.0811995</td>\n",
              "                        <td id=\"T_5fc6e7fc_764d_11e9_8331_0242ac1c0002row7_col11\" class=\"data row7 col11\" >0.319882</td>\n",
              "                        <td id=\"T_5fc6e7fc_764d_11e9_8331_0242ac1c0002row7_col12\" class=\"data row7 col12\" >0.149114</td>\n",
              "                        <td id=\"T_5fc6e7fc_764d_11e9_8331_0242ac1c0002row7_col13\" class=\"data row7 col13\" >0.141904</td>\n",
              "                        <td id=\"T_5fc6e7fc_764d_11e9_8331_0242ac1c0002row7_col14\" class=\"data row7 col14\" >0.232531</td>\n",
              "                        <td id=\"T_5fc6e7fc_764d_11e9_8331_0242ac1c0002row7_col15\" class=\"data row7 col15\" >-0.280792</td>\n",
              "                        <td id=\"T_5fc6e7fc_764d_11e9_8331_0242ac1c0002row7_col16\" class=\"data row7 col16\" >-0.0835684</td>\n",
              "                        <td id=\"T_5fc6e7fc_764d_11e9_8331_0242ac1c0002row7_col17\" class=\"data row7 col17\" >-0.257001</td>\n",
              "            </tr>\n",
              "            <tr>\n",
              "                        <th id=\"T_5fc6e7fc_764d_11e9_8331_0242ac1c0002level0_row8\" class=\"row_heading level0 row8\" >Outstate</th>\n",
              "                        <td id=\"T_5fc6e7fc_764d_11e9_8331_0242ac1c0002row8_col0\" class=\"data row8 col0\" >0.55265</td>\n",
              "                        <td id=\"T_5fc6e7fc_764d_11e9_8331_0242ac1c0002row8_col1\" class=\"data row8 col1\" >0.050159</td>\n",
              "                        <td id=\"T_5fc6e7fc_764d_11e9_8331_0242ac1c0002row8_col2\" class=\"data row8 col2\" >-0.0257545</td>\n",
              "                        <td id=\"T_5fc6e7fc_764d_11e9_8331_0242ac1c0002row8_col3\" class=\"data row8 col3\" >-0.155477</td>\n",
              "                        <td id=\"T_5fc6e7fc_764d_11e9_8331_0242ac1c0002row8_col4\" class=\"data row8 col4\" >0.562331</td>\n",
              "                        <td id=\"T_5fc6e7fc_764d_11e9_8331_0242ac1c0002row8_col5\" class=\"data row8 col5\" >0.489394</td>\n",
              "                        <td id=\"T_5fc6e7fc_764d_11e9_8331_0242ac1c0002row8_col6\" class=\"data row8 col6\" >-0.215742</td>\n",
              "                        <td id=\"T_5fc6e7fc_764d_11e9_8331_0242ac1c0002row8_col7\" class=\"data row8 col7\" >-0.253512</td>\n",
              "                        <td id=\"T_5fc6e7fc_764d_11e9_8331_0242ac1c0002row8_col8\" class=\"data row8 col8\" >1</td>\n",
              "                        <td id=\"T_5fc6e7fc_764d_11e9_8331_0242ac1c0002row8_col9\" class=\"data row8 col9\" >0.654256</td>\n",
              "                        <td id=\"T_5fc6e7fc_764d_11e9_8331_0242ac1c0002row8_col10\" class=\"data row8 col10\" >0.0388549</td>\n",
              "                        <td id=\"T_5fc6e7fc_764d_11e9_8331_0242ac1c0002row8_col11\" class=\"data row8 col11\" >-0.299087</td>\n",
              "                        <td id=\"T_5fc6e7fc_764d_11e9_8331_0242ac1c0002row8_col12\" class=\"data row8 col12\" >0.382982</td>\n",
              "                        <td id=\"T_5fc6e7fc_764d_11e9_8331_0242ac1c0002row8_col13\" class=\"data row8 col13\" >0.407983</td>\n",
              "                        <td id=\"T_5fc6e7fc_764d_11e9_8331_0242ac1c0002row8_col14\" class=\"data row8 col14\" >-0.554821</td>\n",
              "                        <td id=\"T_5fc6e7fc_764d_11e9_8331_0242ac1c0002row8_col15\" class=\"data row8 col15\" >0.566262</td>\n",
              "                        <td id=\"T_5fc6e7fc_764d_11e9_8331_0242ac1c0002row8_col16\" class=\"data row8 col16\" >0.672779</td>\n",
              "                        <td id=\"T_5fc6e7fc_764d_11e9_8331_0242ac1c0002row8_col17\" class=\"data row8 col17\" >0.57129</td>\n",
              "            </tr>\n",
              "            <tr>\n",
              "                        <th id=\"T_5fc6e7fc_764d_11e9_8331_0242ac1c0002level0_row9\" class=\"row_heading level0 row9\" >Room.Board</th>\n",
              "                        <td id=\"T_5fc6e7fc_764d_11e9_8331_0242ac1c0002row9_col0\" class=\"data row9 col0\" >0.340532</td>\n",
              "                        <td id=\"T_5fc6e7fc_764d_11e9_8331_0242ac1c0002row9_col1\" class=\"data row9 col1\" >0.164939</td>\n",
              "                        <td id=\"T_5fc6e7fc_764d_11e9_8331_0242ac1c0002row9_col2\" class=\"data row9 col2\" >0.0908986</td>\n",
              "                        <td id=\"T_5fc6e7fc_764d_11e9_8331_0242ac1c0002row9_col3\" class=\"data row9 col3\" >-0.0402317</td>\n",
              "                        <td id=\"T_5fc6e7fc_764d_11e9_8331_0242ac1c0002row9_col4\" class=\"data row9 col4\" >0.37148</td>\n",
              "                        <td id=\"T_5fc6e7fc_764d_11e9_8331_0242ac1c0002row9_col5\" class=\"data row9 col5\" >0.33149</td>\n",
              "                        <td id=\"T_5fc6e7fc_764d_11e9_8331_0242ac1c0002row9_col6\" class=\"data row9 col6\" >-0.0688904</td>\n",
              "                        <td id=\"T_5fc6e7fc_764d_11e9_8331_0242ac1c0002row9_col7\" class=\"data row9 col7\" >-0.0613255</td>\n",
              "                        <td id=\"T_5fc6e7fc_764d_11e9_8331_0242ac1c0002row9_col8\" class=\"data row9 col8\" >0.654256</td>\n",
              "                        <td id=\"T_5fc6e7fc_764d_11e9_8331_0242ac1c0002row9_col9\" class=\"data row9 col9\" >1</td>\n",
              "                        <td id=\"T_5fc6e7fc_764d_11e9_8331_0242ac1c0002row9_col10\" class=\"data row9 col10\" >0.127963</td>\n",
              "                        <td id=\"T_5fc6e7fc_764d_11e9_8331_0242ac1c0002row9_col11\" class=\"data row9 col11\" >-0.199428</td>\n",
              "                        <td id=\"T_5fc6e7fc_764d_11e9_8331_0242ac1c0002row9_col12\" class=\"data row9 col12\" >0.329202</td>\n",
              "                        <td id=\"T_5fc6e7fc_764d_11e9_8331_0242ac1c0002row9_col13\" class=\"data row9 col13\" >0.37454</td>\n",
              "                        <td id=\"T_5fc6e7fc_764d_11e9_8331_0242ac1c0002row9_col14\" class=\"data row9 col14\" >-0.362628</td>\n",
              "                        <td id=\"T_5fc6e7fc_764d_11e9_8331_0242ac1c0002row9_col15\" class=\"data row9 col15\" >0.272363</td>\n",
              "                        <td id=\"T_5fc6e7fc_764d_11e9_8331_0242ac1c0002row9_col16\" class=\"data row9 col16\" >0.501739</td>\n",
              "                        <td id=\"T_5fc6e7fc_764d_11e9_8331_0242ac1c0002row9_col17\" class=\"data row9 col17\" >0.424942</td>\n",
              "            </tr>\n",
              "            <tr>\n",
              "                        <th id=\"T_5fc6e7fc_764d_11e9_8331_0242ac1c0002level0_row10\" class=\"row_heading level0 row10\" >Books</th>\n",
              "                        <td id=\"T_5fc6e7fc_764d_11e9_8331_0242ac1c0002row10_col0\" class=\"data row10 col0\" >-0.018549</td>\n",
              "                        <td id=\"T_5fc6e7fc_764d_11e9_8331_0242ac1c0002row10_col1\" class=\"data row10 col1\" >0.132559</td>\n",
              "                        <td id=\"T_5fc6e7fc_764d_11e9_8331_0242ac1c0002row10_col2\" class=\"data row10 col2\" >0.113525</td>\n",
              "                        <td id=\"T_5fc6e7fc_764d_11e9_8331_0242ac1c0002row10_col3\" class=\"data row10 col3\" >0.112711</td>\n",
              "                        <td id=\"T_5fc6e7fc_764d_11e9_8331_0242ac1c0002row10_col4\" class=\"data row10 col4\" >0.118858</td>\n",
              "                        <td id=\"T_5fc6e7fc_764d_11e9_8331_0242ac1c0002row10_col5\" class=\"data row10 col5\" >0.115527</td>\n",
              "                        <td id=\"T_5fc6e7fc_764d_11e9_8331_0242ac1c0002row10_col6\" class=\"data row10 col6\" >0.11555</td>\n",
              "                        <td id=\"T_5fc6e7fc_764d_11e9_8331_0242ac1c0002row10_col7\" class=\"data row10 col7\" >0.0811995</td>\n",
              "                        <td id=\"T_5fc6e7fc_764d_11e9_8331_0242ac1c0002row10_col8\" class=\"data row10 col8\" >0.0388549</td>\n",
              "                        <td id=\"T_5fc6e7fc_764d_11e9_8331_0242ac1c0002row10_col9\" class=\"data row10 col9\" >0.127963</td>\n",
              "                        <td id=\"T_5fc6e7fc_764d_11e9_8331_0242ac1c0002row10_col10\" class=\"data row10 col10\" >1</td>\n",
              "                        <td id=\"T_5fc6e7fc_764d_11e9_8331_0242ac1c0002row10_col11\" class=\"data row10 col11\" >0.179295</td>\n",
              "                        <td id=\"T_5fc6e7fc_764d_11e9_8331_0242ac1c0002row10_col12\" class=\"data row10 col12\" >0.0269057</td>\n",
              "                        <td id=\"T_5fc6e7fc_764d_11e9_8331_0242ac1c0002row10_col13\" class=\"data row10 col13\" >0.0999547</td>\n",
              "                        <td id=\"T_5fc6e7fc_764d_11e9_8331_0242ac1c0002row10_col14\" class=\"data row10 col14\" >-0.0319293</td>\n",
              "                        <td id=\"T_5fc6e7fc_764d_11e9_8331_0242ac1c0002row10_col15\" class=\"data row10 col15\" >-0.0402077</td>\n",
              "                        <td id=\"T_5fc6e7fc_764d_11e9_8331_0242ac1c0002row10_col16\" class=\"data row10 col16\" >0.112409</td>\n",
              "                        <td id=\"T_5fc6e7fc_764d_11e9_8331_0242ac1c0002row10_col17\" class=\"data row10 col17\" >0.00106089</td>\n",
              "            </tr>\n",
              "            <tr>\n",
              "                        <th id=\"T_5fc6e7fc_764d_11e9_8331_0242ac1c0002level0_row11\" class=\"row_heading level0 row11\" >Personal</th>\n",
              "                        <td id=\"T_5fc6e7fc_764d_11e9_8331_0242ac1c0002row11_col0\" class=\"data row11 col0\" >-0.304485</td>\n",
              "                        <td id=\"T_5fc6e7fc_764d_11e9_8331_0242ac1c0002row11_col1\" class=\"data row11 col1\" >0.178731</td>\n",
              "                        <td id=\"T_5fc6e7fc_764d_11e9_8331_0242ac1c0002row11_col2\" class=\"data row11 col2\" >0.200989</td>\n",
              "                        <td id=\"T_5fc6e7fc_764d_11e9_8331_0242ac1c0002row11_col3\" class=\"data row11 col3\" >0.280929</td>\n",
              "                        <td id=\"T_5fc6e7fc_764d_11e9_8331_0242ac1c0002row11_col4\" class=\"data row11 col4\" >-0.0933164</td>\n",
              "                        <td id=\"T_5fc6e7fc_764d_11e9_8331_0242ac1c0002row11_col5\" class=\"data row11 col5\" >-0.0808103</td>\n",
              "                        <td id=\"T_5fc6e7fc_764d_11e9_8331_0242ac1c0002row11_col6\" class=\"data row11 col6\" >0.3172</td>\n",
              "                        <td id=\"T_5fc6e7fc_764d_11e9_8331_0242ac1c0002row11_col7\" class=\"data row11 col7\" >0.319882</td>\n",
              "                        <td id=\"T_5fc6e7fc_764d_11e9_8331_0242ac1c0002row11_col8\" class=\"data row11 col8\" >-0.299087</td>\n",
              "                        <td id=\"T_5fc6e7fc_764d_11e9_8331_0242ac1c0002row11_col9\" class=\"data row11 col9\" >-0.199428</td>\n",
              "                        <td id=\"T_5fc6e7fc_764d_11e9_8331_0242ac1c0002row11_col10\" class=\"data row11 col10\" >0.179295</td>\n",
              "                        <td id=\"T_5fc6e7fc_764d_11e9_8331_0242ac1c0002row11_col11\" class=\"data row11 col11\" >1</td>\n",
              "                        <td id=\"T_5fc6e7fc_764d_11e9_8331_0242ac1c0002row11_col12\" class=\"data row11 col12\" >-0.0109358</td>\n",
              "                        <td id=\"T_5fc6e7fc_764d_11e9_8331_0242ac1c0002row11_col13\" class=\"data row11 col13\" >-0.0306131</td>\n",
              "                        <td id=\"T_5fc6e7fc_764d_11e9_8331_0242ac1c0002row11_col14\" class=\"data row11 col14\" >0.136345</td>\n",
              "                        <td id=\"T_5fc6e7fc_764d_11e9_8331_0242ac1c0002row11_col15\" class=\"data row11 col15\" >-0.285968</td>\n",
              "                        <td id=\"T_5fc6e7fc_764d_11e9_8331_0242ac1c0002row11_col16\" class=\"data row11 col16\" >-0.0978919</td>\n",
              "                        <td id=\"T_5fc6e7fc_764d_11e9_8331_0242ac1c0002row11_col17\" class=\"data row11 col17\" >-0.269344</td>\n",
              "            </tr>\n",
              "            <tr>\n",
              "                        <th id=\"T_5fc6e7fc_764d_11e9_8331_0242ac1c0002level0_row12\" class=\"row_heading level0 row12\" >PhD</th>\n",
              "                        <td id=\"T_5fc6e7fc_764d_11e9_8331_0242ac1c0002row12_col0\" class=\"data row12 col0\" >-0.156714</td>\n",
              "                        <td id=\"T_5fc6e7fc_764d_11e9_8331_0242ac1c0002row12_col1\" class=\"data row12 col1\" >0.390697</td>\n",
              "                        <td id=\"T_5fc6e7fc_764d_11e9_8331_0242ac1c0002row12_col2\" class=\"data row12 col2\" >0.355758</td>\n",
              "                        <td id=\"T_5fc6e7fc_764d_11e9_8331_0242ac1c0002row12_col3\" class=\"data row12 col3\" >0.331469</td>\n",
              "                        <td id=\"T_5fc6e7fc_764d_11e9_8331_0242ac1c0002row12_col4\" class=\"data row12 col4\" >0.531828</td>\n",
              "                        <td id=\"T_5fc6e7fc_764d_11e9_8331_0242ac1c0002row12_col5\" class=\"data row12 col5\" >0.545862</td>\n",
              "                        <td id=\"T_5fc6e7fc_764d_11e9_8331_0242ac1c0002row12_col6\" class=\"data row12 col6\" >0.318337</td>\n",
              "                        <td id=\"T_5fc6e7fc_764d_11e9_8331_0242ac1c0002row12_col7\" class=\"data row12 col7\" >0.149114</td>\n",
              "                        <td id=\"T_5fc6e7fc_764d_11e9_8331_0242ac1c0002row12_col8\" class=\"data row12 col8\" >0.382982</td>\n",
              "                        <td id=\"T_5fc6e7fc_764d_11e9_8331_0242ac1c0002row12_col9\" class=\"data row12 col9\" >0.329202</td>\n",
              "                        <td id=\"T_5fc6e7fc_764d_11e9_8331_0242ac1c0002row12_col10\" class=\"data row12 col10\" >0.0269057</td>\n",
              "                        <td id=\"T_5fc6e7fc_764d_11e9_8331_0242ac1c0002row12_col11\" class=\"data row12 col11\" >-0.0109358</td>\n",
              "                        <td id=\"T_5fc6e7fc_764d_11e9_8331_0242ac1c0002row12_col12\" class=\"data row12 col12\" >1</td>\n",
              "                        <td id=\"T_5fc6e7fc_764d_11e9_8331_0242ac1c0002row12_col13\" class=\"data row12 col13\" >0.849587</td>\n",
              "                        <td id=\"T_5fc6e7fc_764d_11e9_8331_0242ac1c0002row12_col14\" class=\"data row12 col14\" >-0.13053</td>\n",
              "                        <td id=\"T_5fc6e7fc_764d_11e9_8331_0242ac1c0002row12_col15\" class=\"data row12 col15\" >0.249009</td>\n",
              "                        <td id=\"T_5fc6e7fc_764d_11e9_8331_0242ac1c0002row12_col16\" class=\"data row12 col16\" >0.432762</td>\n",
              "                        <td id=\"T_5fc6e7fc_764d_11e9_8331_0242ac1c0002row12_col17\" class=\"data row12 col17\" >0.305038</td>\n",
              "            </tr>\n",
              "            <tr>\n",
              "                        <th id=\"T_5fc6e7fc_764d_11e9_8331_0242ac1c0002level0_row13\" class=\"row_heading level0 row13\" >Terminal</th>\n",
              "                        <td id=\"T_5fc6e7fc_764d_11e9_8331_0242ac1c0002row13_col0\" class=\"data row13 col0\" >-0.12962</td>\n",
              "                        <td id=\"T_5fc6e7fc_764d_11e9_8331_0242ac1c0002row13_col1\" class=\"data row13 col1\" >0.369491</td>\n",
              "                        <td id=\"T_5fc6e7fc_764d_11e9_8331_0242ac1c0002row13_col2\" class=\"data row13 col2\" >0.337583</td>\n",
              "                        <td id=\"T_5fc6e7fc_764d_11e9_8331_0242ac1c0002row13_col3\" class=\"data row13 col3\" >0.308274</td>\n",
              "                        <td id=\"T_5fc6e7fc_764d_11e9_8331_0242ac1c0002row13_col4\" class=\"data row13 col4\" >0.491135</td>\n",
              "                        <td id=\"T_5fc6e7fc_764d_11e9_8331_0242ac1c0002row13_col5\" class=\"data row13 col5\" >0.524749</td>\n",
              "                        <td id=\"T_5fc6e7fc_764d_11e9_8331_0242ac1c0002row13_col6\" class=\"data row13 col6\" >0.300019</td>\n",
              "                        <td id=\"T_5fc6e7fc_764d_11e9_8331_0242ac1c0002row13_col7\" class=\"data row13 col7\" >0.141904</td>\n",
              "                        <td id=\"T_5fc6e7fc_764d_11e9_8331_0242ac1c0002row13_col8\" class=\"data row13 col8\" >0.407983</td>\n",
              "                        <td id=\"T_5fc6e7fc_764d_11e9_8331_0242ac1c0002row13_col9\" class=\"data row13 col9\" >0.37454</td>\n",
              "                        <td id=\"T_5fc6e7fc_764d_11e9_8331_0242ac1c0002row13_col10\" class=\"data row13 col10\" >0.0999547</td>\n",
              "                        <td id=\"T_5fc6e7fc_764d_11e9_8331_0242ac1c0002row13_col11\" class=\"data row13 col11\" >-0.0306131</td>\n",
              "                        <td id=\"T_5fc6e7fc_764d_11e9_8331_0242ac1c0002row13_col12\" class=\"data row13 col12\" >0.849587</td>\n",
              "                        <td id=\"T_5fc6e7fc_764d_11e9_8331_0242ac1c0002row13_col13\" class=\"data row13 col13\" >1</td>\n",
              "                        <td id=\"T_5fc6e7fc_764d_11e9_8331_0242ac1c0002row13_col14\" class=\"data row13 col14\" >-0.160104</td>\n",
              "                        <td id=\"T_5fc6e7fc_764d_11e9_8331_0242ac1c0002row13_col15\" class=\"data row13 col15\" >0.26713</td>\n",
              "                        <td id=\"T_5fc6e7fc_764d_11e9_8331_0242ac1c0002row13_col16\" class=\"data row13 col16\" >0.438799</td>\n",
              "                        <td id=\"T_5fc6e7fc_764d_11e9_8331_0242ac1c0002row13_col17\" class=\"data row13 col17\" >0.289527</td>\n",
              "            </tr>\n",
              "            <tr>\n",
              "                        <th id=\"T_5fc6e7fc_764d_11e9_8331_0242ac1c0002level0_row14\" class=\"row_heading level0 row14\" >S.F.Ratio</th>\n",
              "                        <td id=\"T_5fc6e7fc_764d_11e9_8331_0242ac1c0002row14_col0\" class=\"data row14 col0\" >-0.472205</td>\n",
              "                        <td id=\"T_5fc6e7fc_764d_11e9_8331_0242ac1c0002row14_col1\" class=\"data row14 col1\" >0.095633</td>\n",
              "                        <td id=\"T_5fc6e7fc_764d_11e9_8331_0242ac1c0002row14_col2\" class=\"data row14 col2\" >0.176229</td>\n",
              "                        <td id=\"T_5fc6e7fc_764d_11e9_8331_0242ac1c0002row14_col3\" class=\"data row14 col3\" >0.237271</td>\n",
              "                        <td id=\"T_5fc6e7fc_764d_11e9_8331_0242ac1c0002row14_col4\" class=\"data row14 col4\" >-0.384875</td>\n",
              "                        <td id=\"T_5fc6e7fc_764d_11e9_8331_0242ac1c0002row14_col5\" class=\"data row14 col5\" >-0.294629</td>\n",
              "                        <td id=\"T_5fc6e7fc_764d_11e9_8331_0242ac1c0002row14_col6\" class=\"data row14 col6\" >0.279703</td>\n",
              "                        <td id=\"T_5fc6e7fc_764d_11e9_8331_0242ac1c0002row14_col7\" class=\"data row14 col7\" >0.232531</td>\n",
              "                        <td id=\"T_5fc6e7fc_764d_11e9_8331_0242ac1c0002row14_col8\" class=\"data row14 col8\" >-0.554821</td>\n",
              "                        <td id=\"T_5fc6e7fc_764d_11e9_8331_0242ac1c0002row14_col9\" class=\"data row14 col9\" >-0.362628</td>\n",
              "                        <td id=\"T_5fc6e7fc_764d_11e9_8331_0242ac1c0002row14_col10\" class=\"data row14 col10\" >-0.0319293</td>\n",
              "                        <td id=\"T_5fc6e7fc_764d_11e9_8331_0242ac1c0002row14_col11\" class=\"data row14 col11\" >0.136345</td>\n",
              "                        <td id=\"T_5fc6e7fc_764d_11e9_8331_0242ac1c0002row14_col12\" class=\"data row14 col12\" >-0.13053</td>\n",
              "                        <td id=\"T_5fc6e7fc_764d_11e9_8331_0242ac1c0002row14_col13\" class=\"data row14 col13\" >-0.160104</td>\n",
              "                        <td id=\"T_5fc6e7fc_764d_11e9_8331_0242ac1c0002row14_col14\" class=\"data row14 col14\" >1</td>\n",
              "                        <td id=\"T_5fc6e7fc_764d_11e9_8331_0242ac1c0002row14_col15\" class=\"data row14 col15\" >-0.402929</td>\n",
              "                        <td id=\"T_5fc6e7fc_764d_11e9_8331_0242ac1c0002row14_col16\" class=\"data row14 col16\" >-0.583832</td>\n",
              "                        <td id=\"T_5fc6e7fc_764d_11e9_8331_0242ac1c0002row14_col17\" class=\"data row14 col17\" >-0.30671</td>\n",
              "            </tr>\n",
              "            <tr>\n",
              "                        <th id=\"T_5fc6e7fc_764d_11e9_8331_0242ac1c0002level0_row15\" class=\"row_heading level0 row15\" >perc.alumni</th>\n",
              "                        <td id=\"T_5fc6e7fc_764d_11e9_8331_0242ac1c0002row15_col0\" class=\"data row15 col0\" >0.414775</td>\n",
              "                        <td id=\"T_5fc6e7fc_764d_11e9_8331_0242ac1c0002row15_col1\" class=\"data row15 col1\" >-0.0902259</td>\n",
              "                        <td id=\"T_5fc6e7fc_764d_11e9_8331_0242ac1c0002row15_col2\" class=\"data row15 col2\" >-0.15999</td>\n",
              "                        <td id=\"T_5fc6e7fc_764d_11e9_8331_0242ac1c0002row15_col3\" class=\"data row15 col3\" >-0.180794</td>\n",
              "                        <td id=\"T_5fc6e7fc_764d_11e9_8331_0242ac1c0002row15_col4\" class=\"data row15 col4\" >0.455485</td>\n",
              "                        <td id=\"T_5fc6e7fc_764d_11e9_8331_0242ac1c0002row15_col5\" class=\"data row15 col5\" >0.417864</td>\n",
              "                        <td id=\"T_5fc6e7fc_764d_11e9_8331_0242ac1c0002row15_col6\" class=\"data row15 col6\" >-0.229462</td>\n",
              "                        <td id=\"T_5fc6e7fc_764d_11e9_8331_0242ac1c0002row15_col7\" class=\"data row15 col7\" >-0.280792</td>\n",
              "                        <td id=\"T_5fc6e7fc_764d_11e9_8331_0242ac1c0002row15_col8\" class=\"data row15 col8\" >0.566262</td>\n",
              "                        <td id=\"T_5fc6e7fc_764d_11e9_8331_0242ac1c0002row15_col9\" class=\"data row15 col9\" >0.272363</td>\n",
              "                        <td id=\"T_5fc6e7fc_764d_11e9_8331_0242ac1c0002row15_col10\" class=\"data row15 col10\" >-0.0402077</td>\n",
              "                        <td id=\"T_5fc6e7fc_764d_11e9_8331_0242ac1c0002row15_col11\" class=\"data row15 col11\" >-0.285968</td>\n",
              "                        <td id=\"T_5fc6e7fc_764d_11e9_8331_0242ac1c0002row15_col12\" class=\"data row15 col12\" >0.249009</td>\n",
              "                        <td id=\"T_5fc6e7fc_764d_11e9_8331_0242ac1c0002row15_col13\" class=\"data row15 col13\" >0.26713</td>\n",
              "                        <td id=\"T_5fc6e7fc_764d_11e9_8331_0242ac1c0002row15_col14\" class=\"data row15 col14\" >-0.402929</td>\n",
              "                        <td id=\"T_5fc6e7fc_764d_11e9_8331_0242ac1c0002row15_col15\" class=\"data row15 col15\" >1</td>\n",
              "                        <td id=\"T_5fc6e7fc_764d_11e9_8331_0242ac1c0002row15_col16\" class=\"data row15 col16\" >0.417712</td>\n",
              "                        <td id=\"T_5fc6e7fc_764d_11e9_8331_0242ac1c0002row15_col17\" class=\"data row15 col17\" >0.490898</td>\n",
              "            </tr>\n",
              "            <tr>\n",
              "                        <th id=\"T_5fc6e7fc_764d_11e9_8331_0242ac1c0002level0_row16\" class=\"row_heading level0 row16\" >Expend</th>\n",
              "                        <td id=\"T_5fc6e7fc_764d_11e9_8331_0242ac1c0002row16_col0\" class=\"data row16 col0\" >0.258461</td>\n",
              "                        <td id=\"T_5fc6e7fc_764d_11e9_8331_0242ac1c0002row16_col1\" class=\"data row16 col1\" >0.259592</td>\n",
              "                        <td id=\"T_5fc6e7fc_764d_11e9_8331_0242ac1c0002row16_col2\" class=\"data row16 col2\" >0.124717</td>\n",
              "                        <td id=\"T_5fc6e7fc_764d_11e9_8331_0242ac1c0002row16_col3\" class=\"data row16 col3\" >0.0641692</td>\n",
              "                        <td id=\"T_5fc6e7fc_764d_11e9_8331_0242ac1c0002row16_col4\" class=\"data row16 col4\" >0.660913</td>\n",
              "                        <td id=\"T_5fc6e7fc_764d_11e9_8331_0242ac1c0002row16_col5\" class=\"data row16 col5\" >0.527447</td>\n",
              "                        <td id=\"T_5fc6e7fc_764d_11e9_8331_0242ac1c0002row16_col6\" class=\"data row16 col6\" >0.0186516</td>\n",
              "                        <td id=\"T_5fc6e7fc_764d_11e9_8331_0242ac1c0002row16_col7\" class=\"data row16 col7\" >-0.0835684</td>\n",
              "                        <td id=\"T_5fc6e7fc_764d_11e9_8331_0242ac1c0002row16_col8\" class=\"data row16 col8\" >0.672779</td>\n",
              "                        <td id=\"T_5fc6e7fc_764d_11e9_8331_0242ac1c0002row16_col9\" class=\"data row16 col9\" >0.501739</td>\n",
              "                        <td id=\"T_5fc6e7fc_764d_11e9_8331_0242ac1c0002row16_col10\" class=\"data row16 col10\" >0.112409</td>\n",
              "                        <td id=\"T_5fc6e7fc_764d_11e9_8331_0242ac1c0002row16_col11\" class=\"data row16 col11\" >-0.0978919</td>\n",
              "                        <td id=\"T_5fc6e7fc_764d_11e9_8331_0242ac1c0002row16_col12\" class=\"data row16 col12\" >0.432762</td>\n",
              "                        <td id=\"T_5fc6e7fc_764d_11e9_8331_0242ac1c0002row16_col13\" class=\"data row16 col13\" >0.438799</td>\n",
              "                        <td id=\"T_5fc6e7fc_764d_11e9_8331_0242ac1c0002row16_col14\" class=\"data row16 col14\" >-0.583832</td>\n",
              "                        <td id=\"T_5fc6e7fc_764d_11e9_8331_0242ac1c0002row16_col15\" class=\"data row16 col15\" >0.417712</td>\n",
              "                        <td id=\"T_5fc6e7fc_764d_11e9_8331_0242ac1c0002row16_col16\" class=\"data row16 col16\" >1</td>\n",
              "                        <td id=\"T_5fc6e7fc_764d_11e9_8331_0242ac1c0002row16_col17\" class=\"data row16 col17\" >0.390343</td>\n",
              "            </tr>\n",
              "            <tr>\n",
              "                        <th id=\"T_5fc6e7fc_764d_11e9_8331_0242ac1c0002level0_row17\" class=\"row_heading level0 row17\" >Grad.Rate</th>\n",
              "                        <td id=\"T_5fc6e7fc_764d_11e9_8331_0242ac1c0002row17_col0\" class=\"data row17 col0\" >0.336162</td>\n",
              "                        <td id=\"T_5fc6e7fc_764d_11e9_8331_0242ac1c0002row17_col1\" class=\"data row17 col1\" >0.146755</td>\n",
              "                        <td id=\"T_5fc6e7fc_764d_11e9_8331_0242ac1c0002row17_col2\" class=\"data row17 col2\" >0.0673125</td>\n",
              "                        <td id=\"T_5fc6e7fc_764d_11e9_8331_0242ac1c0002row17_col3\" class=\"data row17 col3\" >-0.022341</td>\n",
              "                        <td id=\"T_5fc6e7fc_764d_11e9_8331_0242ac1c0002row17_col4\" class=\"data row17 col4\" >0.494989</td>\n",
              "                        <td id=\"T_5fc6e7fc_764d_11e9_8331_0242ac1c0002row17_col5\" class=\"data row17 col5\" >0.477281</td>\n",
              "                        <td id=\"T_5fc6e7fc_764d_11e9_8331_0242ac1c0002row17_col6\" class=\"data row17 col6\" >-0.0787731</td>\n",
              "                        <td id=\"T_5fc6e7fc_764d_11e9_8331_0242ac1c0002row17_col7\" class=\"data row17 col7\" >-0.257001</td>\n",
              "                        <td id=\"T_5fc6e7fc_764d_11e9_8331_0242ac1c0002row17_col8\" class=\"data row17 col8\" >0.57129</td>\n",
              "                        <td id=\"T_5fc6e7fc_764d_11e9_8331_0242ac1c0002row17_col9\" class=\"data row17 col9\" >0.424942</td>\n",
              "                        <td id=\"T_5fc6e7fc_764d_11e9_8331_0242ac1c0002row17_col10\" class=\"data row17 col10\" >0.00106089</td>\n",
              "                        <td id=\"T_5fc6e7fc_764d_11e9_8331_0242ac1c0002row17_col11\" class=\"data row17 col11\" >-0.269344</td>\n",
              "                        <td id=\"T_5fc6e7fc_764d_11e9_8331_0242ac1c0002row17_col12\" class=\"data row17 col12\" >0.305038</td>\n",
              "                        <td id=\"T_5fc6e7fc_764d_11e9_8331_0242ac1c0002row17_col13\" class=\"data row17 col13\" >0.289527</td>\n",
              "                        <td id=\"T_5fc6e7fc_764d_11e9_8331_0242ac1c0002row17_col14\" class=\"data row17 col14\" >-0.30671</td>\n",
              "                        <td id=\"T_5fc6e7fc_764d_11e9_8331_0242ac1c0002row17_col15\" class=\"data row17 col15\" >0.490898</td>\n",
              "                        <td id=\"T_5fc6e7fc_764d_11e9_8331_0242ac1c0002row17_col16\" class=\"data row17 col16\" >0.390343</td>\n",
              "                        <td id=\"T_5fc6e7fc_764d_11e9_8331_0242ac1c0002row17_col17\" class=\"data row17 col17\" >1</td>\n",
              "            </tr>\n",
              "    </tbody></table>"
            ],
            "text/plain": [
              "<pandas.io.formats.style.Styler at 0x7fc5978ee470>"
            ]
          },
          "metadata": {
            "tags": []
          },
          "execution_count": 172
        }
      ]
    },
    {
      "cell_type": "code",
      "metadata": {
        "id": "1N3vNbTlj6od",
        "colab_type": "code",
        "colab": {}
      },
      "source": [
        "reg1 = sm.OLS(endog=new_df['PhD'], exog=new_df[['Apps', 'Accept']], missing='drop')"
      ],
      "execution_count": 0,
      "outputs": []
    },
    {
      "cell_type": "code",
      "metadata": {
        "id": "BnBI-aqvkSDX",
        "colab_type": "code",
        "colab": {
          "base_uri": "https://localhost:8080/",
          "height": 444
        },
        "outputId": "1e5afd39-0a4c-4b94-b1a2-780e998df021"
      },
      "source": [
        "results = reg1.fit()\n",
        "results.summary()"
      ],
      "execution_count": 177,
      "outputs": [
        {
          "output_type": "execute_result",
          "data": {
            "text/html": [
              "<table class=\"simpletable\">\n",
              "<caption>OLS Regression Results</caption>\n",
              "<tr>\n",
              "  <th>Dep. Variable:</th>           <td>PhD</td>       <th>  R-squared:         </th> <td>   0.465</td> \n",
              "</tr>\n",
              "<tr>\n",
              "  <th>Model:</th>                   <td>OLS</td>       <th>  Adj. R-squared:    </th> <td>   0.463</td> \n",
              "</tr>\n",
              "<tr>\n",
              "  <th>Method:</th>             <td>Least Squares</td>  <th>  F-statistic:       </th> <td>   336.1</td> \n",
              "</tr>\n",
              "<tr>\n",
              "  <th>Date:</th>             <td>Tue, 14 May 2019</td> <th>  Prob (F-statistic):</th> <td>7.83e-106</td>\n",
              "</tr>\n",
              "<tr>\n",
              "  <th>Time:</th>                 <td>13:40:40</td>     <th>  Log-Likelihood:    </th> <td> -4209.1</td> \n",
              "</tr>\n",
              "<tr>\n",
              "  <th>No. Observations:</th>      <td>   777</td>      <th>  AIC:               </th> <td>   8422.</td> \n",
              "</tr>\n",
              "<tr>\n",
              "  <th>Df Residuals:</th>          <td>   775</td>      <th>  BIC:               </th> <td>   8431.</td> \n",
              "</tr>\n",
              "<tr>\n",
              "  <th>Df Model:</th>              <td>     2</td>      <th>                     </th>     <td> </td>    \n",
              "</tr>\n",
              "<tr>\n",
              "  <th>Covariance Type:</th>      <td>nonrobust</td>    <th>                     </th>     <td> </td>    \n",
              "</tr>\n",
              "</table>\n",
              "<table class=\"simpletable\">\n",
              "<tr>\n",
              "     <td></td>       <th>coef</th>     <th>std err</th>      <th>t</th>      <th>P>|t|</th>  <th>[0.025</th>    <th>0.975]</th>  \n",
              "</tr>\n",
              "<tr>\n",
              "  <th>Apps</th>   <td>    0.0020</td> <td>    0.002</td> <td>    1.292</td> <td> 0.197</td> <td>   -0.001</td> <td>    0.005</td>\n",
              "</tr>\n",
              "<tr>\n",
              "  <th>Accept</th> <td>    0.0130</td> <td>    0.002</td> <td>    5.535</td> <td> 0.000</td> <td>    0.008</td> <td>    0.018</td>\n",
              "</tr>\n",
              "</table>\n",
              "<table class=\"simpletable\">\n",
              "<tr>\n",
              "  <th>Omnibus:</th>       <td>612.177</td> <th>  Durbin-Watson:     </th> <td>   0.794</td> \n",
              "</tr>\n",
              "<tr>\n",
              "  <th>Prob(Omnibus):</th> <td> 0.000</td>  <th>  Jarque-Bera (JB):  </th> <td>16341.239</td>\n",
              "</tr>\n",
              "<tr>\n",
              "  <th>Skew:</th>          <td>-3.333</td>  <th>  Prob(JB):          </th> <td>    0.00</td> \n",
              "</tr>\n",
              "<tr>\n",
              "  <th>Kurtosis:</th>      <td>24.455</td>  <th>  Cond. No.          </th> <td>    8.24</td> \n",
              "</tr>\n",
              "</table><br/><br/>Warnings:<br/>[1] Standard Errors assume that the covariance matrix of the errors is correctly specified."
            ],
            "text/plain": [
              "<class 'statsmodels.iolib.summary.Summary'>\n",
              "\"\"\"\n",
              "                            OLS Regression Results                            \n",
              "==============================================================================\n",
              "Dep. Variable:                    PhD   R-squared:                       0.465\n",
              "Model:                            OLS   Adj. R-squared:                  0.463\n",
              "Method:                 Least Squares   F-statistic:                     336.1\n",
              "Date:                Tue, 14 May 2019   Prob (F-statistic):          7.83e-106\n",
              "Time:                        13:40:40   Log-Likelihood:                -4209.1\n",
              "No. Observations:                 777   AIC:                             8422.\n",
              "Df Residuals:                     775   BIC:                             8431.\n",
              "Df Model:                           2                                         \n",
              "Covariance Type:            nonrobust                                         \n",
              "==============================================================================\n",
              "                 coef    std err          t      P>|t|      [0.025      0.975]\n",
              "------------------------------------------------------------------------------\n",
              "Apps           0.0020      0.002      1.292      0.197      -0.001       0.005\n",
              "Accept         0.0130      0.002      5.535      0.000       0.008       0.018\n",
              "==============================================================================\n",
              "Omnibus:                      612.177   Durbin-Watson:                   0.794\n",
              "Prob(Omnibus):                  0.000   Jarque-Bera (JB):            16341.239\n",
              "Skew:                          -3.333   Prob(JB):                         0.00\n",
              "Kurtosis:                      24.455   Cond. No.                         8.24\n",
              "==============================================================================\n",
              "\n",
              "Warnings:\n",
              "[1] Standard Errors assume that the covariance matrix of the errors is correctly specified.\n",
              "\"\"\""
            ]
          },
          "metadata": {
            "tags": []
          },
          "execution_count": 177
        }
      ]
    },
    {
      "cell_type": "code",
      "metadata": {
        "id": "gyQEmpPDkXOm",
        "colab_type": "code",
        "colab": {}
      },
      "source": [
        "# Add constant term to dataset\n",
        "new_df['const'] = 1\n",
        "\n",
        "# Create lists of variables to be used in each regression\n",
        "X1 = ['Enroll', 'Expend']\n",
        "X2 = ['Enroll', 'Expend', 'Outstate']\n",
        "X3 = ['Enroll', 'Expend', 'Outstate', 'perc.alumni', 'Room.Board', 'Personal']\n",
        "\n",
        "reg1 = sm.OLS(new_df['PhD'], new_df[X1], missing='drop').fit()\n",
        "reg2 = sm.OLS(new_df['PhD'], new_df[X2], missing='drop').fit()\n",
        "reg3 = sm.OLS(new_df['PhD'], new_df[X3], missing='drop').fit()"
      ],
      "execution_count": 0,
      "outputs": []
    },
    {
      "cell_type": "markdown",
      "metadata": {
        "id": "ZrQD1aiomDqq",
        "colab_type": "text"
      },
      "source": [
        "Endogeneity maybe present: \n",
        "\n",
        "- Expenditure may be determined by Room board\n",
        "\n",
        "- Certainly being out of state affects Expenditure on the student"
      ]
    },
    {
      "cell_type": "code",
      "metadata": {
        "id": "myKkLNiOlZSN",
        "colab_type": "code",
        "colab": {
          "base_uri": "https://localhost:8080/",
          "height": 374
        },
        "outputId": "beedc813-2101-4679-91a6-0e9758394554"
      },
      "source": [
        "from statsmodels.iolib.summary2 import summary_col\n",
        "\n",
        "info_dict={'R-squared' : lambda x: f\"{x.rsquared:.2f}\",\n",
        "           'No. observations' : lambda x: f\"{int(x.nobs):d}\"}\n",
        "\n",
        "results_table = summary_col(results=[reg1,reg2,reg3],\n",
        "                            float_format='%0.2f',\n",
        "                            stars = True,\n",
        "                            model_names=['Model 1',\n",
        "                                         'Model 3',\n",
        "                                         'Model 4'],\n",
        "                            info_dict=info_dict,\n",
        "                            regressor_order=['const',\n",
        "                                             'avexpr',\n",
        "                                             'lat_abst',\n",
        "                                             'asia',\n",
        "                                             'africa'])\n",
        "\n",
        "results_table.add_title('Table 2 - OLS Regressions')\n",
        "\n",
        "print(results_table)"
      ],
      "execution_count": 179,
      "outputs": [
        {
          "output_type": "stream",
          "text": [
            "       Table 2 - OLS Regressions\n",
            "========================================\n",
            "                 Model 1 Model 3 Model 4\n",
            "----------------------------------------\n",
            "Enroll           0.01*** 0.01*** 0.01***\n",
            "                 (0.00)  (0.00)  (0.00) \n",
            "Expend           0.01*** 0.00**  0.00   \n",
            "                 (0.00)  (0.00)  (0.00) \n",
            "Outstate                 0.01*** 0.00***\n",
            "                         (0.00)  (0.00) \n",
            "Personal                         0.01***\n",
            "                                 (0.00) \n",
            "Room.Board                       0.01***\n",
            "                                 (0.00) \n",
            "perc.alumni                      0.37***\n",
            "                                 (0.05) \n",
            "R-squared        0.85    0.92    0.96   \n",
            "No. observations 777     777     777    \n",
            "========================================\n",
            "Standard errors in parentheses.\n",
            "* p<.1, ** p<.05, ***p<.01\n"
          ],
          "name": "stdout"
        }
      ]
    },
    {
      "cell_type": "markdown",
      "metadata": {
        "id": "easjggVjmvjW",
        "colab_type": "text"
      },
      "source": [
        "###First stage of our two-stage least squares \n",
        "\n",
        "- regress the endogenous variable (Expend) on the set of all exogenous (variable not affected by other variables) variables in the model. "
      ]
    },
    {
      "cell_type": "code",
      "metadata": {
        "id": "UtXvrUSJop-2",
        "colab_type": "code",
        "colab": {
          "base_uri": "https://localhost:8080/",
          "height": 235
        },
        "outputId": "b7dee9fd-0d93-49a8-e98b-0f848c74d767"
      },
      "source": [
        "a_df = df\n",
        "\n",
        "control_vars = ['Outstate', 'perc.alumni', 'Room.Board', 'Personal']\n",
        "instruments = ['Enroll']\n",
        "a_df[instruments].describe(percentiles=[])"
      ],
      "execution_count": 183,
      "outputs": [
        {
          "output_type": "execute_result",
          "data": {
            "text/html": [
              "<div>\n",
              "<style scoped>\n",
              "    .dataframe tbody tr th:only-of-type {\n",
              "        vertical-align: middle;\n",
              "    }\n",
              "\n",
              "    .dataframe tbody tr th {\n",
              "        vertical-align: top;\n",
              "    }\n",
              "\n",
              "    .dataframe thead th {\n",
              "        text-align: right;\n",
              "    }\n",
              "</style>\n",
              "<table border=\"1\" class=\"dataframe\">\n",
              "  <thead>\n",
              "    <tr style=\"text-align: right;\">\n",
              "      <th></th>\n",
              "      <th>Enroll</th>\n",
              "    </tr>\n",
              "  </thead>\n",
              "  <tbody>\n",
              "    <tr>\n",
              "      <th>count</th>\n",
              "      <td>777.000000</td>\n",
              "    </tr>\n",
              "    <tr>\n",
              "      <th>mean</th>\n",
              "      <td>779.972973</td>\n",
              "    </tr>\n",
              "    <tr>\n",
              "      <th>std</th>\n",
              "      <td>929.176190</td>\n",
              "    </tr>\n",
              "    <tr>\n",
              "      <th>min</th>\n",
              "      <td>35.000000</td>\n",
              "    </tr>\n",
              "    <tr>\n",
              "      <th>50%</th>\n",
              "      <td>434.000000</td>\n",
              "    </tr>\n",
              "    <tr>\n",
              "      <th>max</th>\n",
              "      <td>6392.000000</td>\n",
              "    </tr>\n",
              "  </tbody>\n",
              "</table>\n",
              "</div>"
            ],
            "text/plain": [
              "            Enroll\n",
              "count   777.000000\n",
              "mean    779.972973\n",
              "std     929.176190\n",
              "min      35.000000\n",
              "50%     434.000000\n",
              "max    6392.000000"
            ]
          },
          "metadata": {
            "tags": []
          },
          "execution_count": 183
        }
      ]
    },
    {
      "cell_type": "code",
      "metadata": {
        "id": "iGE2QJggpI5R",
        "colab_type": "code",
        "colab": {
          "base_uri": "https://localhost:8080/",
          "height": 111
        },
        "outputId": "37dd904a-4867-45ea-ecba-041b2637e9c1"
      },
      "source": [
        "a_df[['Expend'] + instruments].corr()"
      ],
      "execution_count": 185,
      "outputs": [
        {
          "output_type": "execute_result",
          "data": {
            "text/html": [
              "<div>\n",
              "<style scoped>\n",
              "    .dataframe tbody tr th:only-of-type {\n",
              "        vertical-align: middle;\n",
              "    }\n",
              "\n",
              "    .dataframe tbody tr th {\n",
              "        vertical-align: top;\n",
              "    }\n",
              "\n",
              "    .dataframe thead th {\n",
              "        text-align: right;\n",
              "    }\n",
              "</style>\n",
              "<table border=\"1\" class=\"dataframe\">\n",
              "  <thead>\n",
              "    <tr style=\"text-align: right;\">\n",
              "      <th></th>\n",
              "      <th>Expend</th>\n",
              "      <th>Enroll</th>\n",
              "    </tr>\n",
              "  </thead>\n",
              "  <tbody>\n",
              "    <tr>\n",
              "      <th>Expend</th>\n",
              "      <td>1.000000</td>\n",
              "      <td>0.064169</td>\n",
              "    </tr>\n",
              "    <tr>\n",
              "      <th>Enroll</th>\n",
              "      <td>0.064169</td>\n",
              "      <td>1.000000</td>\n",
              "    </tr>\n",
              "  </tbody>\n",
              "</table>\n",
              "</div>"
            ],
            "text/plain": [
              "          Expend    Enroll\n",
              "Expend  1.000000  0.064169\n",
              "Enroll  0.064169  1.000000"
            ]
          },
          "metadata": {
            "tags": []
          },
          "execution_count": 185
        }
      ]
    },
    {
      "cell_type": "code",
      "metadata": {
        "id": "MJwhx8h8pXNs",
        "colab_type": "code",
        "colab": {}
      },
      "source": [
        "a_df['const'] + 1\n",
        "control_vars = ['const'] + control_vars"
      ],
      "execution_count": 0,
      "outputs": []
    },
    {
      "cell_type": "code",
      "metadata": {
        "id": "gs9CGCvhqB_1",
        "colab_type": "code",
        "colab": {
          "base_uri": "https://localhost:8080/",
          "height": 292
        },
        "outputId": "63aef7dd-8334-4c63-c69b-09112fc9b8cd"
      },
      "source": [
        "!pip install linearmodels"
      ],
      "execution_count": 190,
      "outputs": [
        {
          "output_type": "stream",
          "text": [
            "Collecting linearmodels\n",
            "\u001b[?25l  Downloading https://files.pythonhosted.org/packages/a1/27/592a87ad829c7ba10d32854afc928e6f0f078985c2f8048d42b51540c2de/linearmodels-4.12-py2.py3-none-any.whl (952kB)\n",
            "\u001b[K     |████████████████████████████████| 962kB 2.9MB/s \n",
            "\u001b[?25hRequirement already satisfied: pandas>=0.19 in /usr/local/lib/python3.6/dist-packages (from linearmodels) (0.24.2)\n",
            "Collecting cached-property>=1.5.1 (from linearmodels)\n",
            "  Downloading https://files.pythonhosted.org/packages/3b/86/85c1be2e8db9e13ef9a350aecd6dea292bd612fa288c2f40d035bb750ded/cached_property-1.5.1-py2.py3-none-any.whl\n",
            "Requirement already satisfied: statsmodels>=0.8 in /usr/local/lib/python3.6/dist-packages (from linearmodels) (0.9.0)\n",
            "Requirement already satisfied: numpy>=1.11 in /usr/local/lib/python3.6/dist-packages (from linearmodels) (1.16.3)\n",
            "Requirement already satisfied: scipy>=0.18 in /usr/local/lib/python3.6/dist-packages (from linearmodels) (1.2.1)\n",
            "Requirement already satisfied: patsy in /usr/local/lib/python3.6/dist-packages (from linearmodels) (0.5.1)\n",
            "Requirement already satisfied: python-dateutil>=2.5.0 in /usr/local/lib/python3.6/dist-packages (from pandas>=0.19->linearmodels) (2.5.3)\n",
            "Requirement already satisfied: pytz>=2011k in /usr/local/lib/python3.6/dist-packages (from pandas>=0.19->linearmodels) (2018.9)\n",
            "Requirement already satisfied: six in /usr/local/lib/python3.6/dist-packages (from patsy->linearmodels) (1.12.0)\n",
            "Installing collected packages: cached-property, linearmodels\n",
            "Successfully installed cached-property-1.5.1 linearmodels-4.12\n"
          ],
          "name": "stdout"
        }
      ]
    },
    {
      "cell_type": "code",
      "metadata": {
        "id": "NlbpcQnzqHAN",
        "colab_type": "code",
        "colab": {}
      },
      "source": [
        "a_df.head()"
      ],
      "execution_count": 0,
      "outputs": []
    },
    {
      "cell_type": "code",
      "metadata": {
        "id": "TYH9VYytphM5",
        "colab_type": "code",
        "colab": {
          "base_uri": "https://localhost:8080/",
          "height": 366
        },
        "outputId": "4ed949a1-a21e-41f4-98c3-52f6b4742c8c"
      },
      "source": [
        "from linearmodels import IV2SLS, IVLIML, IVGMM, IVGMMCUE\n",
        "\n",
        "ivolsmod = IV2SLS(a_df.PhD, a_df[['Enroll'] + control_vars], None, None)\n",
        "res_ols = ivolsmod.fit()\n",
        "res_ols"
      ],
      "execution_count": 197,
      "outputs": [
        {
          "output_type": "execute_result",
          "data": {
            "text/html": [
              "<table class=\"simpletable\">\n",
              "<caption>OLS Estimation Summary</caption>\n",
              "<tr>\n",
              "  <th>Dep. Variable:</th>           <td>PhD</td>       <th>  R-squared:         </th> <td>0.3184</td> \n",
              "</tr>\n",
              "<tr>\n",
              "  <th>Estimator:</th>               <td>OLS</td>       <th>  Adj. R-squared:    </th> <td>0.3140</td> \n",
              "</tr>\n",
              "<tr>\n",
              "  <th>No. Observations:</th>        <td>777</td>       <th>  F-statistic:       </th> <td>392.34</td> \n",
              "</tr>\n",
              "<tr>\n",
              "  <th>Date:</th>             <td>Tue, May 14 2019</td> <th>  P-value (F-stat)   </th> <td>0.0000</td> \n",
              "</tr>\n",
              "<tr>\n",
              "  <th>Time:</th>                 <td>14:05:28</td>     <th>  Distribution:      </th> <td>chi2(5)</td>\n",
              "</tr>\n",
              "<tr>\n",
              "  <th>Cov. Estimator:</th>        <td>robust</td>      <th>                     </th>    <td></td>    \n",
              "</tr>\n",
              "<tr>\n",
              "  <th></th>                          <td></td>         <th>                     </th>    <td></td>    \n",
              "</tr>\n",
              "</table>\n",
              "<table class=\"simpletable\">\n",
              "<caption>Parameter Estimates</caption>\n",
              "<tr>\n",
              "       <td></td>       <th>Parameter</th> <th>Std. Err.</th> <th>T-stat</th> <th>P-value</th> <th>Lower CI</th> <th>Upper CI</th>\n",
              "</tr>\n",
              "<tr>\n",
              "  <th>Enroll</th>       <td>0.0070</td>    <td>0.0006</td>   <td>12.307</td> <td>0.0000</td>   <td>0.0059</td>   <td>0.0081</td> \n",
              "</tr>\n",
              "<tr>\n",
              "  <th>const</th>        <td>42.065</td>    <td>2.5205</td>   <td>16.689</td> <td>0.0000</td>   <td>37.125</td>   <td>47.005</td> \n",
              "</tr>\n",
              "<tr>\n",
              "  <th>Outstate</th>     <td>0.0012</td>    <td>0.0002</td>   <td>6.0527</td> <td>0.0000</td>   <td>0.0008</td>   <td>0.0017</td> \n",
              "</tr>\n",
              "<tr>\n",
              "  <th>perc.alumni</th>  <td>0.1623</td>    <td>0.0515</td>   <td>3.1544</td> <td>0.0016</td>   <td>0.0615</td>   <td>0.2632</td> \n",
              "</tr>\n",
              "<tr>\n",
              "  <th>Room.Board</th>   <td>0.0017</td>    <td>0.0007</td>   <td>2.4996</td> <td>0.0124</td>   <td>0.0004</td>   <td>0.0031</td> \n",
              "</tr>\n",
              "<tr>\n",
              "  <th>Personal</th>     <td>0.0007</td>    <td>0.0009</td>   <td>0.7735</td> <td>0.4392</td>   <td>-0.0010</td>  <td>0.0023</td> \n",
              "</tr>\n",
              "</table><br/>id: 0x7fc594060f98"
            ],
            "text/plain": [
              "                            OLS Estimation Summary                            \n",
              "==============================================================================\n",
              "Dep. Variable:                    PhD   R-squared:                      0.3184\n",
              "Estimator:                        OLS   Adj. R-squared:                 0.3140\n",
              "No. Observations:                 777   F-statistic:                    392.34\n",
              "Date:                Tue, May 14 2019   P-value (F-stat)                0.0000\n",
              "Time:                        14:05:28   Distribution:                  chi2(5)\n",
              "Cov. Estimator:                robust                                         \n",
              "                                                                              \n",
              "                              Parameter Estimates                              \n",
              "===============================================================================\n",
              "             Parameter  Std. Err.     T-stat    P-value    Lower CI    Upper CI\n",
              "-------------------------------------------------------------------------------\n",
              "Enroll          0.0070     0.0006     12.307     0.0000      0.0059      0.0081\n",
              "const           42.065     2.5205     16.689     0.0000      37.125      47.005\n",
              "Outstate        0.0012     0.0002     6.0527     0.0000      0.0008      0.0017\n",
              "perc.alumni     0.1623     0.0515     3.1544     0.0016      0.0615      0.2632\n",
              "Room.Board      0.0017     0.0007     2.4996     0.0124      0.0004      0.0031\n",
              "Personal        0.0007     0.0009     0.7735     0.4392     -0.0010      0.0023\n",
              "===============================================================================\n",
              "OLSResults, id: 0x7fc594060f98"
            ]
          },
          "metadata": {
            "tags": []
          },
          "execution_count": 197
        }
      ]
    },
    {
      "cell_type": "code",
      "metadata": {
        "id": "U2CwaQWjpqFd",
        "colab_type": "code",
        "colab": {
          "base_uri": "https://localhost:8080/",
          "height": 442
        },
        "outputId": "561cbc8e-d3df-433c-bc46-e19a58bf2685"
      },
      "source": [
        "ivmod = IV2SLS(a_df.PhD, a_df[control_vars], a_df.Expend, a_df.Enroll)\n",
        "res_2sls = ivmod.fit()\n",
        "print(res_2sls.summary)"
      ],
      "execution_count": 201,
      "outputs": [
        {
          "output_type": "stream",
          "text": [
            "                          IV-2SLS Estimation Summary                          \n",
            "==============================================================================\n",
            "Dep. Variable:                    PhD   R-squared:                     -2.5133\n",
            "Estimator:                    IV-2SLS   Adj. R-squared:                -2.5361\n",
            "No. Observations:                 777   F-statistic:                    62.693\n",
            "Date:                Tue, May 14 2019   P-value (F-stat)                0.0000\n",
            "Time:                        14:07:16   Distribution:                  chi2(5)\n",
            "Cov. Estimator:                robust                                         \n",
            "                                                                              \n",
            "                              Parameter Estimates                              \n",
            "===============================================================================\n",
            "             Parameter  Std. Err.     T-stat    P-value    Lower CI    Upper CI\n",
            "-------------------------------------------------------------------------------\n",
            "const           68.029     6.9258     9.8226     0.0000      54.455      81.603\n",
            "Outstate       -0.0049     0.0008    -5.9333     0.0000     -0.0065     -0.0033\n",
            "perc.alumni    -0.1971     0.1005    -1.9613     0.0498     -0.3941     -0.0001\n",
            "Room.Board     -0.0025     0.0016    -1.5780     0.1146     -0.0055      0.0006\n",
            "Personal       -0.0048     0.0019    -2.5304     0.0114     -0.0085     -0.0011\n",
            "Expend          0.0080     0.0010     7.8530     0.0000      0.0060      0.0100\n",
            "===============================================================================\n",
            "\n",
            "Endogenous: Expend\n",
            "Instruments: Enroll\n",
            "Robust Covariance (Heteroskedastic)\n",
            "Debiased: False\n"
          ],
          "name": "stdout"
        }
      ]
    },
    {
      "cell_type": "code",
      "metadata": {
        "id": "maWSBYSSqkUm",
        "colab_type": "code",
        "colab": {}
      },
      "source": [
        ""
      ],
      "execution_count": 0,
      "outputs": []
    }
  ]
}
