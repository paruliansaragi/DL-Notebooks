{
  "nbformat": 4,
  "nbformat_minor": 0,
  "metadata": {
    "colab": {
      "name": "WesMcK.ipynb",
      "version": "0.3.2",
      "provenance": [],
      "collapsed_sections": [],
      "include_colab_link": true
    },
    "kernelspec": {
      "name": "python3",
      "display_name": "Python 3"
    }
  },
  "cells": [
    {
      "cell_type": "markdown",
      "metadata": {
        "id": "view-in-github",
        "colab_type": "text"
      },
      "source": [
        "<a href=\"https://colab.research.google.com/github/paruliansaragi/DL-Notebooks/blob/master/WesMcK.ipynb\" target=\"_parent\"><img src=\"https://colab.research.google.com/assets/colab-badge.svg\" alt=\"Open In Colab\"/></a>"
      ]
    },
    {
      "cell_type": "markdown",
      "metadata": {
        "id": "Ck6sswrG1Pj0",
        "colab_type": "text"
      },
      "source": [
        "Mutable and immutable objects\n",
        "\n",
        "Most objects in python such as lists, dicts, arrays, user defined classes are mutable. This means that the object or values that they contain can be modified."
      ]
    },
    {
      "cell_type": "markdown",
      "metadata": {
        "id": "b7iyxBoM2DFy",
        "colab_type": "text"
      },
      "source": [
        "Unicode\n",
        "\n",
        "has become the first class string type to enable a more consistent handling of ASCII and non-ASCII test. In older versions, strings were all bytes without any explicit Unicode encoding. You could convert to Unicode assuming you knew the character encoding. "
      ]
    },
    {
      "cell_type": "code",
      "metadata": {
        "id": "t2z3wnJ23PGX",
        "colab_type": "code",
        "colab": {}
      },
      "source": [
        "b = 5"
      ],
      "execution_count": 0,
      "outputs": []
    },
    {
      "cell_type": "code",
      "metadata": {
        "id": "PlRLTMUv3gNo",
        "colab_type": "code",
        "outputId": "78ee1add-6764-40a8-e343-44d8bb62a408",
        "colab": {
          "base_uri": "https://localhost:8080/",
          "height": 35
        }
      },
      "source": [
        "b is not None"
      ],
      "execution_count": 0,
      "outputs": [
        {
          "output_type": "execute_result",
          "data": {
            "text/plain": [
              "True"
            ]
          },
          "metadata": {
            "tags": []
          },
          "execution_count": 8
        }
      ]
    },
    {
      "cell_type": "code",
      "metadata": {
        "id": "XM69V1Qy3hd-",
        "colab_type": "code",
        "colab": {}
      },
      "source": [
        "from datetime import datetime, date, time\n",
        "\n",
        "dt = datetime(2018, 9, 13, 9, 11)"
      ],
      "execution_count": 0,
      "outputs": []
    },
    {
      "cell_type": "code",
      "metadata": {
        "id": "ezSyQwmt47nH",
        "colab_type": "code",
        "outputId": "2a5366df-bcc4-4f56-ed94-c5205e85c872",
        "colab": {
          "base_uri": "https://localhost:8080/",
          "height": 35
        }
      },
      "source": [
        "dt.day"
      ],
      "execution_count": 0,
      "outputs": [
        {
          "output_type": "execute_result",
          "data": {
            "text/plain": [
              "13"
            ]
          },
          "metadata": {
            "tags": []
          },
          "execution_count": 13
        }
      ]
    },
    {
      "cell_type": "code",
      "metadata": {
        "id": "lYH1_Eaz5jRK",
        "colab_type": "code",
        "outputId": "01e131b8-18e4-4e5a-c58b-e8310a142caa",
        "colab": {
          "base_uri": "https://localhost:8080/",
          "height": 35
        }
      },
      "source": [
        "dt.minute"
      ],
      "execution_count": 0,
      "outputs": [
        {
          "output_type": "execute_result",
          "data": {
            "text/plain": [
              "11"
            ]
          },
          "metadata": {
            "tags": []
          },
          "execution_count": 14
        }
      ]
    },
    {
      "cell_type": "code",
      "metadata": {
        "id": "CqdUX9Gu5kkR",
        "colab_type": "code",
        "outputId": "32632724-aac7-4f86-aaca-5d18ddb7fd28",
        "colab": {
          "base_uri": "https://localhost:8080/",
          "height": 35
        }
      },
      "source": [
        "dt.strftime('%m/%d/%Y %H:%M')"
      ],
      "execution_count": 0,
      "outputs": [
        {
          "output_type": "execute_result",
          "data": {
            "text/plain": [
              "'09/13/2018 09:11'"
            ]
          },
          "metadata": {
            "tags": []
          },
          "execution_count": 15
        }
      ]
    },
    {
      "cell_type": "code",
      "metadata": {
        "id": "DqaMnExK5tR4",
        "colab_type": "code",
        "outputId": "f7d5800c-2619-43cc-d455-f4b097397220",
        "colab": {
          "base_uri": "https://localhost:8080/",
          "height": 35
        }
      },
      "source": [
        "dt.strftime('%F')"
      ],
      "execution_count": 0,
      "outputs": [
        {
          "output_type": "execute_result",
          "data": {
            "text/plain": [
              "'2018-09-13'"
            ]
          },
          "metadata": {
            "tags": []
          },
          "execution_count": 16
        }
      ]
    },
    {
      "cell_type": "code",
      "metadata": {
        "id": "13_nV9QV7UlH",
        "colab_type": "code",
        "outputId": "251cadea-cc3b-4537-f4ba-7952a49acf30",
        "colab": {
          "base_uri": "https://localhost:8080/",
          "height": 156
        }
      },
      "source": [
        "for i in range(4):\n",
        "  for j in range(4):\n",
        "    if j > 1:\n",
        "      break\n",
        "    print((i,j))"
      ],
      "execution_count": 0,
      "outputs": [
        {
          "output_type": "stream",
          "text": [
            "(0, 0)\n",
            "(0, 1)\n",
            "(1, 0)\n",
            "(1, 1)\n",
            "(2, 0)\n",
            "(2, 1)\n",
            "(3, 0)\n",
            "(3, 1)\n"
          ],
          "name": "stdout"
        }
      ]
    },
    {
      "cell_type": "markdown",
      "metadata": {
        "id": "up-uCNsv8Pml",
        "colab_type": "text"
      },
      "source": [
        "the range function returns an iterator that yields a sequence of evenly spaced integers:"
      ]
    },
    {
      "cell_type": "code",
      "metadata": {
        "id": "YpLfoekl8Bqt",
        "colab_type": "code",
        "outputId": "68034d85-eb9e-4afa-b329-83649b7fc8f4",
        "colab": {
          "base_uri": "https://localhost:8080/",
          "height": 35
        }
      },
      "source": [
        "list(range(11))"
      ],
      "execution_count": 0,
      "outputs": [
        {
          "output_type": "execute_result",
          "data": {
            "text/plain": [
              "[0, 1, 2, 3, 4, 5, 6, 7, 8, 9, 10]"
            ]
          },
          "metadata": {
            "tags": []
          },
          "execution_count": 20
        }
      ]
    },
    {
      "cell_type": "code",
      "metadata": {
        "id": "bGPJbNoD8YIW",
        "colab_type": "code",
        "outputId": "6e053111-ab78-4aa9-9540-a710cfbde32e",
        "colab": {
          "base_uri": "https://localhost:8080/",
          "height": 35
        }
      },
      "source": [
        "list(range(12, 19, 3))"
      ],
      "execution_count": 0,
      "outputs": [
        {
          "output_type": "execute_result",
          "data": {
            "text/plain": [
              "[12, 15, 18]"
            ]
          },
          "metadata": {
            "tags": []
          },
          "execution_count": 26
        }
      ]
    },
    {
      "cell_type": "markdown",
      "metadata": {
        "id": "Tzf3kd-U8rik",
        "colab_type": "text"
      },
      "source": [
        "a common use for range is for iterating through sequences by index:"
      ]
    },
    {
      "cell_type": "code",
      "metadata": {
        "id": "__abzhdy8dno",
        "colab_type": "code",
        "colab": {}
      },
      "source": [
        "seq = [1, 2, 3, 4, 5, 6, 7]\n",
        "for i in range(len(seq)):\n",
        "  val = seq[i]"
      ],
      "execution_count": 0,
      "outputs": []
    },
    {
      "cell_type": "code",
      "metadata": {
        "id": "N76tzbL-8037",
        "colab_type": "code",
        "outputId": "6d65a3d8-e2de-47a1-c5c4-132a1c10c7a1",
        "colab": {
          "base_uri": "https://localhost:8080/",
          "height": 35
        }
      },
      "source": [
        "val"
      ],
      "execution_count": 0,
      "outputs": [
        {
          "output_type": "execute_result",
          "data": {
            "text/plain": [
              "7"
            ]
          },
          "metadata": {
            "tags": []
          },
          "execution_count": 32
        }
      ]
    },
    {
      "cell_type": "markdown",
      "metadata": {
        "id": "5U6VlAd-9VUj",
        "colab_type": "text"
      },
      "source": [
        "# Built-in Data Structures, Functions and Files\n",
        "\n",
        "Tuple\n",
        "\n",
        "fixed-length immutable sequence of python objects"
      ]
    },
    {
      "cell_type": "code",
      "metadata": {
        "id": "AuPWAQ8Z82B0",
        "colab_type": "code",
        "outputId": "4472ae5f-6a35-4aad-95de-3037ac20ed40",
        "colab": {
          "base_uri": "https://localhost:8080/",
          "height": 35
        }
      },
      "source": [
        "tuple = 1, 4, 7\n",
        "tuple"
      ],
      "execution_count": 0,
      "outputs": [
        {
          "output_type": "execute_result",
          "data": {
            "text/plain": [
              "(1, 4, 7)"
            ]
          },
          "metadata": {
            "tags": []
          },
          "execution_count": 33
        }
      ]
    },
    {
      "cell_type": "code",
      "metadata": {
        "id": "JUla1CZ09mZ9",
        "colab_type": "code",
        "outputId": "3ae804d1-4a0a-4979-d5bc-4c82833ee178",
        "colab": {
          "base_uri": "https://localhost:8080/",
          "height": 35
        }
      },
      "source": [
        "nested_tuple = (1, 4, 7), (8, 22, 1242)\n",
        "nested_tuple"
      ],
      "execution_count": 0,
      "outputs": [
        {
          "output_type": "execute_result",
          "data": {
            "text/plain": [
              "((1, 4, 7), (8, 22, 1242))"
            ]
          },
          "metadata": {
            "tags": []
          },
          "execution_count": 35
        }
      ]
    },
    {
      "cell_type": "markdown",
      "metadata": {
        "id": "RCCUqAzd98EK",
        "colab_type": "text"
      },
      "source": [
        "Elements can be accessed with square brackets []."
      ]
    },
    {
      "cell_type": "code",
      "metadata": {
        "id": "Y717S_fV9tQZ",
        "colab_type": "code",
        "outputId": "289d4b14-a240-42ed-b455-eef861e69f92",
        "colab": {
          "base_uri": "https://localhost:8080/",
          "height": 35
        }
      },
      "source": [
        "tuple[0]"
      ],
      "execution_count": 0,
      "outputs": [
        {
          "output_type": "execute_result",
          "data": {
            "text/plain": [
              "1"
            ]
          },
          "metadata": {
            "tags": []
          },
          "execution_count": 36
        }
      ]
    },
    {
      "cell_type": "code",
      "metadata": {
        "id": "sP3inELN-AvM",
        "colab_type": "code",
        "colab": {}
      },
      "source": [
        "tup = tuple(['fat', [6,8], True])"
      ],
      "execution_count": 0,
      "outputs": []
    },
    {
      "cell_type": "code",
      "metadata": {
        "id": "tArgCsU--Hex",
        "colab_type": "code",
        "outputId": "322ecf90-b9ab-42a2-94ac-2242de9d9468",
        "colab": {
          "base_uri": "https://localhost:8080/",
          "height": 35
        }
      },
      "source": [
        "tup = (7, 12, 15)\n",
        "first, second, third = tup\n",
        "\n",
        "second, third"
      ],
      "execution_count": 0,
      "outputs": [
        {
          "output_type": "execute_result",
          "data": {
            "text/plain": [
              "(12, 15)"
            ]
          },
          "metadata": {
            "tags": []
          },
          "execution_count": 41
        }
      ]
    },
    {
      "cell_type": "code",
      "metadata": {
        "id": "g20beX_p-VH2",
        "colab_type": "code",
        "outputId": "e889d867-1861-46c8-db93-a29401fa9cc1",
        "colab": {
          "base_uri": "https://localhost:8080/",
          "height": 35
        }
      },
      "source": [
        "a = (1,242,46,5,5,45,35,7)\n",
        "a.count(5)"
      ],
      "execution_count": 0,
      "outputs": [
        {
          "output_type": "execute_result",
          "data": {
            "text/plain": [
              "2"
            ]
          },
          "metadata": {
            "tags": []
          },
          "execution_count": 49
        }
      ]
    },
    {
      "cell_type": "markdown",
      "metadata": {
        "id": "hwORJ__W-zzJ",
        "colab_type": "text"
      },
      "source": [
        "In contrast lists are variable length and their contents can be modified in place. "
      ]
    },
    {
      "cell_type": "code",
      "metadata": {
        "id": "3_gRni6Y-j-A",
        "colab_type": "code",
        "outputId": "25054605-1d61-4441-d62b-c047c2c9b958",
        "colab": {
          "base_uri": "https://localhost:8080/",
          "height": 35
        }
      },
      "source": [
        "a_list = [1,2,3, None]\n",
        "\n",
        "tup = ('f', 'b', 'd')\n",
        "\n",
        "b_list = list(tup)\n",
        "\n",
        "b_list"
      ],
      "execution_count": 0,
      "outputs": [
        {
          "output_type": "execute_result",
          "data": {
            "text/plain": [
              "['f', 'b', 'd']"
            ]
          },
          "metadata": {
            "tags": []
          },
          "execution_count": 50
        }
      ]
    },
    {
      "cell_type": "code",
      "metadata": {
        "id": "EIhmHZbi_ENA",
        "colab_type": "code",
        "outputId": "f30d44f8-6db7-48be-a2db-ec75c6d2755e",
        "colab": {
          "base_uri": "https://localhost:8080/",
          "height": 35
        }
      },
      "source": [
        "b_list[1] = 'twat'\n",
        "\n",
        "b_list"
      ],
      "execution_count": 0,
      "outputs": [
        {
          "output_type": "execute_result",
          "data": {
            "text/plain": [
              "['f', 'twat', 'd']"
            ]
          },
          "metadata": {
            "tags": []
          },
          "execution_count": 51
        }
      ]
    },
    {
      "cell_type": "code",
      "metadata": {
        "id": "lwctt-F2_Kgu",
        "colab_type": "code",
        "outputId": "5cf7cf15-41a5-442e-9883-9f3eeb5315be",
        "colab": {
          "base_uri": "https://localhost:8080/",
          "height": 35
        }
      },
      "source": [
        "b_list.append('nugget')\n",
        "b_list"
      ],
      "execution_count": 0,
      "outputs": [
        {
          "output_type": "execute_result",
          "data": {
            "text/plain": [
              "['f', 'twat', 'd', 'nugget', 'nugget']"
            ]
          },
          "metadata": {
            "tags": []
          },
          "execution_count": 53
        }
      ]
    },
    {
      "cell_type": "code",
      "metadata": {
        "id": "fXp9u7Bp_Nwt",
        "colab_type": "code",
        "outputId": "f629d0c6-4790-4dcf-d24b-cca8d12fb50e",
        "colab": {
          "base_uri": "https://localhost:8080/",
          "height": 35
        }
      },
      "source": [
        "b_list.insert(2, 'hello')\n",
        "b_list"
      ],
      "execution_count": 0,
      "outputs": [
        {
          "output_type": "execute_result",
          "data": {
            "text/plain": [
              "['f', 'twat', 'hello', 'hello', 'd', 'nugget', 'nugget']"
            ]
          },
          "metadata": {
            "tags": []
          },
          "execution_count": 55
        }
      ]
    },
    {
      "cell_type": "code",
      "metadata": {
        "id": "kzAmW_5u_UbB",
        "colab_type": "code",
        "outputId": "e1cdae21-04bd-4d24-8b2e-37620b7ac190",
        "colab": {
          "base_uri": "https://localhost:8080/",
          "height": 35
        }
      },
      "source": [
        "b_list.pop(2)"
      ],
      "execution_count": 0,
      "outputs": [
        {
          "output_type": "execute_result",
          "data": {
            "text/plain": [
              "'hello'"
            ]
          },
          "metadata": {
            "tags": []
          },
          "execution_count": 56
        }
      ]
    },
    {
      "cell_type": "code",
      "metadata": {
        "id": "439CTwX1_ZUR",
        "colab_type": "code",
        "outputId": "01f0b6f8-825e-4150-9b4b-d069ea74ec69",
        "colab": {
          "base_uri": "https://localhost:8080/",
          "height": 35
        }
      },
      "source": [
        "b_list"
      ],
      "execution_count": 0,
      "outputs": [
        {
          "output_type": "execute_result",
          "data": {
            "text/plain": [
              "['f', 'twat', 'hello', 'd', 'nugget', 'nugget']"
            ]
          },
          "metadata": {
            "tags": []
          },
          "execution_count": 57
        }
      ]
    },
    {
      "cell_type": "code",
      "metadata": {
        "id": "E-QCk7qG_eS-",
        "colab_type": "code",
        "colab": {}
      },
      "source": [
        "b_list.remove('nugget')"
      ],
      "execution_count": 0,
      "outputs": []
    },
    {
      "cell_type": "code",
      "metadata": {
        "id": "dEm8HMRd_gjw",
        "colab_type": "code",
        "outputId": "53b48759-5719-4cc8-cfb9-3e6a87f1005d",
        "colab": {
          "base_uri": "https://localhost:8080/",
          "height": 35
        }
      },
      "source": [
        "b_list"
      ],
      "execution_count": 0,
      "outputs": [
        {
          "output_type": "execute_result",
          "data": {
            "text/plain": [
              "['f', 'twat', 'hello', 'd', 'nugget']"
            ]
          },
          "metadata": {
            "tags": []
          },
          "execution_count": 59
        }
      ]
    },
    {
      "cell_type": "code",
      "metadata": {
        "id": "JrCknNuS_len",
        "colab_type": "code",
        "outputId": "4d3944f3-40b1-4899-f0ce-6b5ab432221f",
        "colab": {
          "base_uri": "https://localhost:8080/",
          "height": 35
        }
      },
      "source": [
        "'nugget' in b_list"
      ],
      "execution_count": 0,
      "outputs": [
        {
          "output_type": "execute_result",
          "data": {
            "text/plain": [
              "True"
            ]
          },
          "metadata": {
            "tags": []
          },
          "execution_count": 60
        }
      ]
    },
    {
      "cell_type": "code",
      "metadata": {
        "id": "jnvU2S_J_nK5",
        "colab_type": "code",
        "outputId": "6337cc98-1f0b-484d-e3f4-88838d7eb1df",
        "colab": {
          "base_uri": "https://localhost:8080/",
          "height": 35
        }
      },
      "source": [
        "[4, None, 'foo'] + [7, 8, (2, 3)]"
      ],
      "execution_count": 0,
      "outputs": [
        {
          "output_type": "execute_result",
          "data": {
            "text/plain": [
              "[4, None, 'foo', 7, 8, (2, 3)]"
            ]
          },
          "metadata": {
            "tags": []
          },
          "execution_count": 61
        }
      ]
    },
    {
      "cell_type": "code",
      "metadata": {
        "id": "GwxxVLdbAt1B",
        "colab_type": "code",
        "outputId": "2fbb9bda-d371-4cc4-aad6-3c1f77c6e1a3",
        "colab": {
          "base_uri": "https://localhost:8080/",
          "height": 35
        }
      },
      "source": [
        "x = [4, None, 'foo']\n",
        "x.extend([4,5, (56, 1)])\n",
        "x"
      ],
      "execution_count": 0,
      "outputs": [
        {
          "output_type": "execute_result",
          "data": {
            "text/plain": [
              "[4, None, 'foo', 4, 5, (56, 1)]"
            ]
          },
          "metadata": {
            "tags": []
          },
          "execution_count": 62
        }
      ]
    },
    {
      "cell_type": "code",
      "metadata": {
        "id": "EY0Ch2RbA1_O",
        "colab_type": "code",
        "outputId": "54582cf3-bec5-4872-d9d0-4953fa616250",
        "colab": {
          "base_uri": "https://localhost:8080/",
          "height": 35
        }
      },
      "source": [
        "a = [7, 2, 13, 3, 56]\n",
        "a.sort()\n",
        "a"
      ],
      "execution_count": 0,
      "outputs": [
        {
          "output_type": "execute_result",
          "data": {
            "text/plain": [
              "[2, 3, 7, 13, 56]"
            ]
          },
          "metadata": {
            "tags": []
          },
          "execution_count": 64
        }
      ]
    },
    {
      "cell_type": "code",
      "metadata": {
        "id": "6MMQT8AGBWWb",
        "colab_type": "code",
        "outputId": "5e2c3183-a78d-4fcf-cf41-25119536ecdd",
        "colab": {
          "base_uri": "https://localhost:8080/",
          "height": 35
        }
      },
      "source": [
        "seq = [7,232,6,43,8,5]\n",
        "\n",
        "seq[0:3:1]#start stop step"
      ],
      "execution_count": 0,
      "outputs": [
        {
          "output_type": "execute_result",
          "data": {
            "text/plain": [
              "[7, 232, 6]"
            ]
          },
          "metadata": {
            "tags": []
          },
          "execution_count": 7
        }
      ]
    },
    {
      "cell_type": "code",
      "metadata": {
        "id": "NsE1xteLNVGT",
        "colab_type": "code",
        "outputId": "057fcd81-d9bf-45dc-eca0-21c7be590724",
        "colab": {
          "base_uri": "https://localhost:8080/",
          "height": 35
        }
      },
      "source": [
        "seq[-5:]"
      ],
      "execution_count": 0,
      "outputs": [
        {
          "output_type": "execute_result",
          "data": {
            "text/plain": [
              "[232, 6, 43, 8, 5]"
            ]
          },
          "metadata": {
            "tags": []
          },
          "execution_count": 9
        }
      ]
    },
    {
      "cell_type": "code",
      "metadata": {
        "id": "Rgnw83uCOrhC",
        "colab_type": "code",
        "outputId": "1d7031f1-3393-4307-f1b6-3145eff098b5",
        "colab": {
          "base_uri": "https://localhost:8080/",
          "height": 35
        }
      },
      "source": [
        "seq[-3:]"
      ],
      "execution_count": 0,
      "outputs": [
        {
          "output_type": "execute_result",
          "data": {
            "text/plain": [
              "[43, 8, 5]"
            ]
          },
          "metadata": {
            "tags": []
          },
          "execution_count": 17
        }
      ]
    },
    {
      "cell_type": "markdown",
      "metadata": {
        "id": "PWSuMBX6O8d3",
        "colab_type": "text"
      },
      "source": [
        "Built-in-Sequence Functions\n",
        "\n",
        "enumerate: when iterating over a sequence to want to keep track of the index of the current item. Enumerate returns a sequence of (i, vale) tuples:"
      ]
    },
    {
      "cell_type": "code",
      "metadata": {
        "id": "j2_s6g-0Owdw",
        "colab_type": "code",
        "outputId": "11b62b61-ffba-44de-d032-0f2edaeb9b59",
        "colab": {
          "base_uri": "https://localhost:8080/",
          "height": 121
        }
      },
      "source": [
        "for i, value in enumerate(seq):\n",
        "  print(str((i, value)))"
      ],
      "execution_count": 0,
      "outputs": [
        {
          "output_type": "stream",
          "text": [
            "(0, 7)\n",
            "(1, 232)\n",
            "(2, 6)\n",
            "(3, 43)\n",
            "(4, 8)\n",
            "(5, 5)\n"
          ],
          "name": "stdout"
        }
      ]
    },
    {
      "cell_type": "code",
      "metadata": {
        "id": "BogR1tNVPIOH",
        "colab_type": "code",
        "colab": {}
      },
      "source": [
        "some_list = ['foo', 'bar', 'baz']"
      ],
      "execution_count": 0,
      "outputs": []
    },
    {
      "cell_type": "markdown",
      "metadata": {
        "id": "8tGREj0f4LpB",
        "colab_type": "text"
      },
      "source": [
        "when indexing data a helpful pattern that uses enumerate is computing a dict mapping the values of a sequence to their locations in the sequence:"
      ]
    },
    {
      "cell_type": "code",
      "metadata": {
        "id": "GhJSUqIb3v3X",
        "colab_type": "code",
        "colab": {}
      },
      "source": [
        "mapping = {}"
      ],
      "execution_count": 0,
      "outputs": []
    },
    {
      "cell_type": "code",
      "metadata": {
        "id": "uxC1Wr5g4Je_",
        "colab_type": "code",
        "colab": {}
      },
      "source": [
        "for i, v in enumerate(some_list):\n",
        "  mapping[v] = i\n",
        "  "
      ],
      "execution_count": 0,
      "outputs": []
    },
    {
      "cell_type": "code",
      "metadata": {
        "id": "aBhn_RzW4bA0",
        "colab_type": "code",
        "outputId": "dd07a8b7-ea04-4e60-cbd7-0687a60e0f9b",
        "colab": {
          "base_uri": "https://localhost:8080/",
          "height": 35
        }
      },
      "source": [
        "mapping"
      ],
      "execution_count": 0,
      "outputs": [
        {
          "output_type": "execute_result",
          "data": {
            "text/plain": [
              "{'bar': 1, 'baz': 2, 'foo': 0}"
            ]
          },
          "metadata": {
            "tags": []
          },
          "execution_count": 11
        }
      ]
    },
    {
      "cell_type": "markdown",
      "metadata": {
        "id": "qCqD8nuA4kw-",
        "colab_type": "text"
      },
      "source": [
        "Sorted\n",
        "\n",
        "The sorted function return a new sorted list from the element of any sequence:"
      ]
    },
    {
      "cell_type": "code",
      "metadata": {
        "id": "cx2DtGWx4bhC",
        "colab_type": "code",
        "outputId": "13294135-72a9-45dd-cfc1-226877e6e1b8",
        "colab": {
          "base_uri": "https://localhost:8080/",
          "height": 35
        }
      },
      "source": [
        "sorted([44,21,6462,2,46])"
      ],
      "execution_count": 0,
      "outputs": [
        {
          "output_type": "execute_result",
          "data": {
            "text/plain": [
              "[2, 21, 44, 46, 6462]"
            ]
          },
          "metadata": {
            "tags": []
          },
          "execution_count": 12
        }
      ]
    },
    {
      "cell_type": "markdown",
      "metadata": {
        "id": "KyTUTcw6403U",
        "colab_type": "text"
      },
      "source": [
        "Zip\n",
        "\n",
        "zip pairs up the elements of a number of lists, tuplex or other sequences to create a list of tuples:"
      ]
    },
    {
      "cell_type": "code",
      "metadata": {
        "id": "e8l0-ocb4yfl",
        "colab_type": "code",
        "outputId": "6fdcf6e4-e2d4-483a-dcdb-5d495033ef35",
        "colab": {
          "base_uri": "https://localhost:8080/",
          "height": 35
        }
      },
      "source": [
        "seq1 = ['foo', 'bar','baz']\n",
        "seq2 = ['one','two','three']\n",
        "\n",
        "zipped = zip(seq1,seq2)\n",
        "list(zipped)"
      ],
      "execution_count": 0,
      "outputs": [
        {
          "output_type": "execute_result",
          "data": {
            "text/plain": [
              "[('foo', 'one'), ('bar', 'two'), ('baz', 'three')]"
            ]
          },
          "metadata": {
            "tags": []
          },
          "execution_count": 13
        }
      ]
    },
    {
      "cell_type": "code",
      "metadata": {
        "id": "_9pWas7C5GEU",
        "colab_type": "code",
        "outputId": "493c9b08-20ff-462f-a917-3d01b9cb14e1",
        "colab": {
          "base_uri": "https://localhost:8080/",
          "height": 69
        }
      },
      "source": [
        "#a common use of zip is simultaneously iterating over multiple sequences, possibly also combined with enumerate\n",
        "for i, (a, b) in enumerate(zip(seq1, seq2)):\n",
        "  print('{0}: {1}, {2}'.format(i, a, b))"
      ],
      "execution_count": 0,
      "outputs": [
        {
          "output_type": "stream",
          "text": [
            "0: foo, one\n",
            "1: bar, two\n",
            "2: baz, three\n"
          ],
          "name": "stdout"
        }
      ]
    },
    {
      "cell_type": "markdown",
      "metadata": {
        "id": "IHG8wDKm5xYJ",
        "colab_type": "text"
      },
      "source": [
        "dict\n",
        "\n",
        "A more common name for it is hash map or associative array. It is a flexibly sized collection of key-value pairs, where key and value are Python objects. "
      ]
    },
    {
      "cell_type": "code",
      "metadata": {
        "id": "j19E70UB5jkw",
        "colab_type": "code",
        "colab": {}
      },
      "source": [
        "empty_dict = {}"
      ],
      "execution_count": 0,
      "outputs": []
    },
    {
      "cell_type": "code",
      "metadata": {
        "id": "tszwZs4r6DJ2",
        "colab_type": "code",
        "outputId": "3978b0fb-b294-4f02-d27e-b9d12b67f142",
        "colab": {
          "base_uri": "https://localhost:8080/",
          "height": 35
        }
      },
      "source": [
        "d1 = {'a': 'some val', 'b': [1,2,3,4]}\n",
        "d1"
      ],
      "execution_count": 0,
      "outputs": [
        {
          "output_type": "execute_result",
          "data": {
            "text/plain": [
              "{'a': 'some val', 'b': [1, 2, 3, 4]}"
            ]
          },
          "metadata": {
            "tags": []
          },
          "execution_count": 19
        }
      ]
    },
    {
      "cell_type": "code",
      "metadata": {
        "id": "3sYoSHC56JRQ",
        "colab_type": "code",
        "colab": {}
      },
      "source": [
        "d1[7] = 'an int'"
      ],
      "execution_count": 0,
      "outputs": []
    },
    {
      "cell_type": "code",
      "metadata": {
        "id": "lJ3fWNuh6YO0",
        "colab_type": "code",
        "outputId": "cfcabf43-71f6-4c91-f349-5a6a6ba0c446",
        "colab": {
          "base_uri": "https://localhost:8080/",
          "height": 35
        }
      },
      "source": [
        "d1"
      ],
      "execution_count": 0,
      "outputs": [
        {
          "output_type": "execute_result",
          "data": {
            "text/plain": [
              "{7: 'an int', 'a': 'some val', 'b': [1, 2, 3, 4]}"
            ]
          },
          "metadata": {
            "tags": []
          },
          "execution_count": 21
        }
      ]
    },
    {
      "cell_type": "code",
      "metadata": {
        "id": "_-rOnHUn6Y68",
        "colab_type": "code",
        "outputId": "6b5216bf-8810-4158-d5af-5c32dea7d9fb",
        "colab": {
          "base_uri": "https://localhost:8080/",
          "height": 35
        }
      },
      "source": [
        "d1['b']"
      ],
      "execution_count": 0,
      "outputs": [
        {
          "output_type": "execute_result",
          "data": {
            "text/plain": [
              "[1, 2, 3, 4]"
            ]
          },
          "metadata": {
            "tags": []
          },
          "execution_count": 22
        }
      ]
    },
    {
      "cell_type": "code",
      "metadata": {
        "id": "V7-fyFKK6bss",
        "colab_type": "code",
        "outputId": "67cb2a05-324c-4aa3-e36e-9726f2c25320",
        "colab": {
          "base_uri": "https://localhost:8080/",
          "height": 35
        }
      },
      "source": [
        "'a' in d1"
      ],
      "execution_count": 0,
      "outputs": [
        {
          "output_type": "execute_result",
          "data": {
            "text/plain": [
              "True"
            ]
          },
          "metadata": {
            "tags": []
          },
          "execution_count": 23
        }
      ]
    },
    {
      "cell_type": "markdown",
      "metadata": {
        "id": "cONFjSYw67wd",
        "colab_type": "text"
      },
      "source": [
        "del or pop methods allow you to delete values"
      ]
    },
    {
      "cell_type": "code",
      "metadata": {
        "id": "MbI_hjFD6naf",
        "colab_type": "code",
        "outputId": "166cfab6-10d3-449f-eff8-159762f4a87e",
        "colab": {
          "base_uri": "https://localhost:8080/",
          "height": 35
        }
      },
      "source": [
        "list(d1.keys())"
      ],
      "execution_count": 0,
      "outputs": [
        {
          "output_type": "execute_result",
          "data": {
            "text/plain": [
              "['a', 'b', 7]"
            ]
          },
          "metadata": {
            "tags": []
          },
          "execution_count": 24
        }
      ]
    },
    {
      "cell_type": "code",
      "metadata": {
        "id": "UawMc2_R8QIf",
        "colab_type": "code",
        "outputId": "c1bf07a3-204e-4511-d24b-6c611d7d605d",
        "colab": {
          "base_uri": "https://localhost:8080/",
          "height": 35
        }
      },
      "source": [
        "list(d1.values())"
      ],
      "execution_count": 0,
      "outputs": [
        {
          "output_type": "execute_result",
          "data": {
            "text/plain": [
              "['some val', [1, 2, 3, 4], 'an int']"
            ]
          },
          "metadata": {
            "tags": []
          },
          "execution_count": 25
        }
      ]
    },
    {
      "cell_type": "code",
      "metadata": {
        "id": "kzIIq8lS8S56",
        "colab_type": "code",
        "colab": {}
      },
      "source": [
        "#Creating dicts from sequences\n",
        "mapping = {}\n",
        "#define key list and value list\n",
        "for key, value in zip(key_list, value_list):\n",
        "  mapping[key] = value"
      ],
      "execution_count": 0,
      "outputs": []
    },
    {
      "cell_type": "code",
      "metadata": {
        "id": "yVEUE-AX8lF4",
        "colab_type": "code",
        "outputId": "d68a47f6-d52c-4d98-8bbd-9e1e20255b1a",
        "colab": {
          "base_uri": "https://localhost:8080/",
          "height": 35
        }
      },
      "source": [
        "#Since a dict is a collection of 2 tuples it accepts lists of 2 tuples\n",
        "words = ['bana','crock','shark','team']\n",
        "\n",
        "by_letter = {}\n",
        "\n",
        "for word in words:\n",
        "  letter = word[0]\n",
        "  if letter not in by_letter:\n",
        "    by_letter[letter] = [word]\n",
        "  else:\n",
        "    by_letter[letter].append(word)\n",
        "    \n",
        "by_letter"
      ],
      "execution_count": 0,
      "outputs": [
        {
          "output_type": "execute_result",
          "data": {
            "text/plain": [
              "{'b': ['bana'], 'c': ['crock'], 's': ['shark'], 't': ['team']}"
            ]
          },
          "metadata": {
            "tags": []
          },
          "execution_count": 28
        }
      ]
    },
    {
      "cell_type": "code",
      "metadata": {
        "id": "bVX3tAqD9yqo",
        "colab_type": "code",
        "colab": {}
      },
      "source": [
        "#the preceding for loop can be rewritten using the setdefault method\n",
        "\n",
        "for word in words:\n",
        "  letter = word[0]\n",
        "  by_letter.setdefault(letter, []).append(word)"
      ],
      "execution_count": 0,
      "outputs": []
    },
    {
      "cell_type": "code",
      "metadata": {
        "id": "Y7Z5sCLY-NnE",
        "colab_type": "code",
        "colab": {}
      },
      "source": [
        "#the collections module has a useful class defaultdict which makes this even easier\n",
        "from collections import defaultdict\n",
        "by_letter = defaultdict(list)\n",
        "for word in words:\n",
        "  by_letter[word[0]].append(word)"
      ],
      "execution_count": 0,
      "outputs": []
    },
    {
      "cell_type": "markdown",
      "metadata": {
        "id": "l9DCCBfV_NLF",
        "colab_type": "text"
      },
      "source": [
        "Valid dict key types\n",
        "\n",
        "keys generally have to be immutable objects like scalar types or tuples. The correct term is hashability. You can check whether an object is hashable with the hash function:"
      ]
    },
    {
      "cell_type": "code",
      "metadata": {
        "id": "hMOrIW18_Ix9",
        "colab_type": "code",
        "outputId": "ba3ecabb-6ba7-4494-9700-05743eab0e69",
        "colab": {
          "base_uri": "https://localhost:8080/",
          "height": 35
        }
      },
      "source": [
        "hash('string')"
      ],
      "execution_count": 0,
      "outputs": [
        {
          "output_type": "execute_result",
          "data": {
            "text/plain": [
              "9052248940619009166"
            ]
          },
          "metadata": {
            "tags": []
          },
          "execution_count": 32
        }
      ]
    },
    {
      "cell_type": "markdown",
      "metadata": {
        "id": "NRaVFkSW_lVX",
        "colab_type": "text"
      },
      "source": [
        "Set\n",
        "\n",
        "a set is an unordered collection of unique elements. You can think of them like dicts, but keys only no values. A set can be created by the set function or a set literal with curly braces:"
      ]
    },
    {
      "cell_type": "code",
      "metadata": {
        "id": "MPVffEGe_hUS",
        "colab_type": "code",
        "outputId": "ebe9e86d-f17f-409a-d2f3-aeed0caa3c4f",
        "colab": {
          "base_uri": "https://localhost:8080/",
          "height": 35
        }
      },
      "source": [
        "set([2,2,2,3,1,4])"
      ],
      "execution_count": 0,
      "outputs": [
        {
          "output_type": "execute_result",
          "data": {
            "text/plain": [
              "{1, 2, 3, 4}"
            ]
          },
          "metadata": {
            "tags": []
          },
          "execution_count": 33
        }
      ]
    },
    {
      "cell_type": "code",
      "metadata": {
        "id": "ixLJ7vwT_3H4",
        "colab_type": "code",
        "colab": {}
      },
      "source": [
        "a = {1,23,4,5}\n",
        "b = {3,46,57,8}"
      ],
      "execution_count": 0,
      "outputs": []
    },
    {
      "cell_type": "code",
      "metadata": {
        "id": "fO7WM1wk__yY",
        "colab_type": "code",
        "outputId": "7a1356a4-350c-4f1d-fbc5-efc235348b6c",
        "colab": {
          "base_uri": "https://localhost:8080/",
          "height": 35
        }
      },
      "source": [
        "a.union(b)#distinct elements of these two sets"
      ],
      "execution_count": 0,
      "outputs": [
        {
          "output_type": "execute_result",
          "data": {
            "text/plain": [
              "{1, 3, 4, 5, 8, 23, 46, 57}"
            ]
          },
          "metadata": {
            "tags": []
          },
          "execution_count": 36
        }
      ]
    },
    {
      "cell_type": "code",
      "metadata": {
        "id": "jhJ9Gf-DABst",
        "colab_type": "code",
        "outputId": "793b3ceb-90b2-4106-b497-27c997fcb163",
        "colab": {
          "base_uri": "https://localhost:8080/",
          "height": 35
        }
      },
      "source": [
        "a | b#does the same as union"
      ],
      "execution_count": 0,
      "outputs": [
        {
          "output_type": "execute_result",
          "data": {
            "text/plain": [
              "{1, 3, 4, 5, 8, 23, 46, 57}"
            ]
          },
          "metadata": {
            "tags": []
          },
          "execution_count": 37
        }
      ]
    },
    {
      "cell_type": "code",
      "metadata": {
        "id": "VykPKcISADGR",
        "colab_type": "code",
        "outputId": "9adc7556-8114-4ad7-e13a-df0325250eef",
        "colab": {
          "base_uri": "https://localhost:8080/",
          "height": 35
        }
      },
      "source": [
        "a.intersection(b)#elements occurring in both"
      ],
      "execution_count": 0,
      "outputs": [
        {
          "output_type": "execute_result",
          "data": {
            "text/plain": [
              "set()"
            ]
          },
          "metadata": {
            "tags": []
          },
          "execution_count": 38
        }
      ]
    },
    {
      "cell_type": "code",
      "metadata": {
        "id": "MaWRG5q1AQid",
        "colab_type": "code",
        "outputId": "499c4c50-8a28-4d41-cfbf-0b006ca9fa11",
        "colab": {
          "base_uri": "https://localhost:8080/",
          "height": 35
        }
      },
      "source": [
        "a & b"
      ],
      "execution_count": 0,
      "outputs": [
        {
          "output_type": "execute_result",
          "data": {
            "text/plain": [
              "set()"
            ]
          },
          "metadata": {
            "tags": []
          },
          "execution_count": 41
        }
      ]
    },
    {
      "cell_type": "code",
      "metadata": {
        "id": "-2nmhojFAVG9",
        "colab_type": "code",
        "colab": {}
      },
      "source": [
        "c = a.copy()"
      ],
      "execution_count": 0,
      "outputs": []
    },
    {
      "cell_type": "code",
      "metadata": {
        "id": "l9DlhLJ0Ahj7",
        "colab_type": "code",
        "colab": {}
      },
      "source": [
        "c |= b"
      ],
      "execution_count": 0,
      "outputs": []
    },
    {
      "cell_type": "code",
      "metadata": {
        "id": "laqR-9dwAjGr",
        "colab_type": "code",
        "outputId": "b6afed23-d626-49f7-e0d4-1856380cc8a4",
        "colab": {
          "base_uri": "https://localhost:8080/",
          "height": 35
        }
      },
      "source": [
        "c"
      ],
      "execution_count": 0,
      "outputs": [
        {
          "output_type": "execute_result",
          "data": {
            "text/plain": [
              "{3, 8, 46, 57}"
            ]
          },
          "metadata": {
            "tags": []
          },
          "execution_count": 44
        }
      ]
    },
    {
      "cell_type": "code",
      "metadata": {
        "id": "QMb864CMAj2K",
        "colab_type": "code",
        "outputId": "be29eeb0-e74e-4a49-b89e-c8aa6ce2a927",
        "colab": {
          "base_uri": "https://localhost:8080/",
          "height": 35
        }
      },
      "source": [
        "my_data = [1,2,3,4]\n",
        "\n",
        "my_set = {tuple(my_data)}\n",
        "my_set"
      ],
      "execution_count": 0,
      "outputs": [
        {
          "output_type": "execute_result",
          "data": {
            "text/plain": [
              "{(1, 2, 3, 4)}"
            ]
          },
          "metadata": {
            "tags": []
          },
          "execution_count": 45
        }
      ]
    },
    {
      "cell_type": "markdown",
      "metadata": {
        "id": "gtIc8uBkBHdU",
        "colab_type": "text"
      },
      "source": [
        "List, set, and Dict Comprehensions\n",
        "\n",
        "List comprehensions allow you to concisely form a new list by filtering the elements of a collection, transforming the elements passing the filter in one concise expression. They take a basic form:\n",
        "\n",
        "[expr for vali in collection if condition]"
      ]
    },
    {
      "cell_type": "code",
      "metadata": {
        "id": "av8rAQ--ArzG",
        "colab_type": "code",
        "colab": {}
      },
      "source": [
        "result = []\n",
        "for val in collection:\n",
        "  if condition:\n",
        "    result.append(expr)"
      ],
      "execution_count": 0,
      "outputs": []
    },
    {
      "cell_type": "code",
      "metadata": {
        "id": "L2UTHD3PBea-",
        "colab_type": "code",
        "colab": {}
      },
      "source": [
        "strings = ['a', 'as','bat','car','dove','python']\n"
      ],
      "execution_count": 0,
      "outputs": []
    },
    {
      "cell_type": "code",
      "metadata": {
        "id": "3D0y1CauDYD-",
        "colab_type": "code",
        "outputId": "fb891ba3-a0ee-454d-af91-5d4854475274",
        "colab": {
          "base_uri": "https://localhost:8080/",
          "height": 35
        }
      },
      "source": [
        "[x.upper() for x in strings if len(x)>2]"
      ],
      "execution_count": 0,
      "outputs": [
        {
          "output_type": "execute_result",
          "data": {
            "text/plain": [
              "['BAT', 'CAR', 'DOVE', 'PYTHON']"
            ]
          },
          "metadata": {
            "tags": []
          },
          "execution_count": 47
        }
      ]
    },
    {
      "cell_type": "code",
      "metadata": {
        "id": "2x_iFRbcDcYz",
        "colab_type": "code",
        "colab": {}
      },
      "source": [
        "#dict_comp = {key-expr: value-expr for value in collection if condition}"
      ],
      "execution_count": 0,
      "outputs": []
    },
    {
      "cell_type": "code",
      "metadata": {
        "id": "R0j4pHrEFs17",
        "colab_type": "code",
        "colab": {}
      },
      "source": [
        "unique_lengths = {len(x) for x in strings}"
      ],
      "execution_count": 0,
      "outputs": []
    },
    {
      "cell_type": "code",
      "metadata": {
        "id": "f4EEYkRZGEsC",
        "colab_type": "code",
        "outputId": "67b4ecec-dcbe-4c8e-d86b-7193f6ee5922",
        "colab": {
          "base_uri": "https://localhost:8080/",
          "height": 35
        }
      },
      "source": [
        "unique_lengths"
      ],
      "execution_count": 0,
      "outputs": [
        {
          "output_type": "execute_result",
          "data": {
            "text/plain": [
              "{1, 2, 3, 4, 6}"
            ]
          },
          "metadata": {
            "tags": []
          },
          "execution_count": 51
        }
      ]
    },
    {
      "cell_type": "code",
      "metadata": {
        "id": "N1ktBvJ_GKkj",
        "colab_type": "code",
        "outputId": "77e87916-bea2-4e88-aeda-e7046de36baf",
        "colab": {
          "base_uri": "https://localhost:8080/",
          "height": 35
        }
      },
      "source": [
        "set(map(len, strings))"
      ],
      "execution_count": 0,
      "outputs": [
        {
          "output_type": "execute_result",
          "data": {
            "text/plain": [
              "{1, 2, 3, 4, 6}"
            ]
          },
          "metadata": {
            "tags": []
          },
          "execution_count": 52
        }
      ]
    },
    {
      "cell_type": "code",
      "metadata": {
        "id": "vUA-6Ye6GOYk",
        "colab_type": "code",
        "colab": {}
      },
      "source": [
        "#We could create a lookup map of these strings to their locations in the list:\n",
        "loc_mapping = {val: index for index, val in enumerate(strings)}"
      ],
      "execution_count": 0,
      "outputs": []
    },
    {
      "cell_type": "code",
      "metadata": {
        "id": "UnJvSnMCGYOG",
        "colab_type": "code",
        "outputId": "3d098f72-16be-4aae-a513-36c175b53bcb",
        "colab": {
          "base_uri": "https://localhost:8080/",
          "height": 35
        }
      },
      "source": [
        "loc_mapping"
      ],
      "execution_count": 0,
      "outputs": [
        {
          "output_type": "execute_result",
          "data": {
            "text/plain": [
              "{'a': 0, 'as': 1, 'bat': 2, 'car': 3, 'dove': 4, 'python': 5}"
            ]
          },
          "metadata": {
            "tags": []
          },
          "execution_count": 57
        }
      ]
    },
    {
      "cell_type": "markdown",
      "metadata": {
        "id": "RlMIuOJjGjXE",
        "colab_type": "text"
      },
      "source": [
        "Nested list comprehension\n",
        "\n"
      ]
    },
    {
      "cell_type": "code",
      "metadata": {
        "id": "_GepjFweGY4v",
        "colab_type": "code",
        "colab": {}
      },
      "source": [
        "all_data = [['John','Emily','Dave','Steven'],\n",
        "           ['Mary','Hank','Jim','Throm']]"
      ],
      "execution_count": 0,
      "outputs": []
    },
    {
      "cell_type": "code",
      "metadata": {
        "id": "K-PZlCCeGyTY",
        "colab_type": "code",
        "colab": {}
      },
      "source": [
        "names_of_interest = []\n",
        "for names in all_data:\n",
        "  enough_es = [name for name in names if name.count('e')>=2]\n",
        "  names_of_interest.extend(enough_es)"
      ],
      "execution_count": 0,
      "outputs": []
    },
    {
      "cell_type": "code",
      "metadata": {
        "id": "22aCrywYG9b2",
        "colab_type": "code",
        "colab": {}
      },
      "source": [
        "#wrap the above in a nested list comp\n",
        "result = [name for names in all_data for name in names if name.count('e')>=2]\n",
        "#the filter condition is at the end"
      ],
      "execution_count": 0,
      "outputs": []
    },
    {
      "cell_type": "code",
      "metadata": {
        "id": "tdibGhHiHGI-",
        "colab_type": "code",
        "outputId": "c161c5d9-fe4e-4c69-ab1a-db1b45204c8c",
        "colab": {
          "base_uri": "https://localhost:8080/",
          "height": 35
        }
      },
      "source": [
        "result"
      ],
      "execution_count": 0,
      "outputs": [
        {
          "output_type": "execute_result",
          "data": {
            "text/plain": [
              "['Steven']"
            ]
          },
          "metadata": {
            "tags": []
          },
          "execution_count": 65
        }
      ]
    },
    {
      "cell_type": "code",
      "metadata": {
        "id": "JOCjm9l8HHFd",
        "colab_type": "code",
        "colab": {}
      },
      "source": [
        "some_tuples = [(1,2,3),(4,5,6),(7,8,9)]"
      ],
      "execution_count": 0,
      "outputs": []
    },
    {
      "cell_type": "code",
      "metadata": {
        "id": "ACERwUYfHbNh",
        "colab_type": "code",
        "colab": {}
      },
      "source": [
        "flattened = [x for tup in some_tuples for x in tup]"
      ],
      "execution_count": 0,
      "outputs": []
    },
    {
      "cell_type": "code",
      "metadata": {
        "id": "hDKn2mf3HfUk",
        "colab_type": "code",
        "outputId": "94b3eb38-444e-413d-f1be-9d8ff650abcb",
        "colab": {
          "base_uri": "https://localhost:8080/",
          "height": 35
        }
      },
      "source": [
        "flattened"
      ],
      "execution_count": 0,
      "outputs": [
        {
          "output_type": "execute_result",
          "data": {
            "text/plain": [
              "[1, 2, 3, 4, 5, 6, 7, 8, 9]"
            ]
          },
          "metadata": {
            "tags": []
          },
          "execution_count": 68
        }
      ]
    },
    {
      "cell_type": "code",
      "metadata": {
        "id": "oJfFcAivHf3X",
        "colab_type": "code",
        "colab": {}
      },
      "source": [
        "flattened = []\n",
        "for tup in some_tuples:\n",
        "  for x in tup:\n",
        "    flattened.append(x)"
      ],
      "execution_count": 0,
      "outputs": []
    },
    {
      "cell_type": "markdown",
      "metadata": {
        "id": "-e731r5cIPjT",
        "colab_type": "text"
      },
      "source": [
        "# Functions\n",
        "\n"
      ]
    },
    {
      "cell_type": "code",
      "metadata": {
        "id": "6Qp_DpSMICTs",
        "colab_type": "code",
        "colab": {}
      },
      "source": [
        "def my_funct(x, y, z=1.5):\n",
        "  if z > 1:\n",
        "    return z * (x + y)\n",
        "  else:\n",
        "    return z / (x + y)"
      ],
      "execution_count": 0,
      "outputs": []
    },
    {
      "cell_type": "code",
      "metadata": {
        "id": "VwHkINVOIbaZ",
        "colab_type": "code",
        "outputId": "aca549c9-5ca1-4dd7-ab83-9d0858e6f73d",
        "colab": {
          "base_uri": "https://localhost:8080/",
          "height": 35
        }
      },
      "source": [
        "my_funct(1,2)"
      ],
      "execution_count": 0,
      "outputs": [
        {
          "output_type": "execute_result",
          "data": {
            "text/plain": [
              "4.5"
            ]
          },
          "metadata": {
            "tags": []
          },
          "execution_count": 74
        }
      ]
    },
    {
      "cell_type": "code",
      "metadata": {
        "id": "pnMKUQO9Ie1e",
        "colab_type": "code",
        "outputId": "147d2328-4726-4d8d-f968-cdd2dee3bc79",
        "colab": {
          "base_uri": "https://localhost:8080/",
          "height": 35
        }
      },
      "source": [
        "#there is no restriction on num of returns, if none is specified none is auto returned\n",
        "#They have key word arguemtsn and positional argumetns\n",
        "#Key word arguments have to follow positional arguments. It is possible to use keyword argumetns fr positional arguments\n",
        "my_funct(x=5, y=6, z=7)"
      ],
      "execution_count": 0,
      "outputs": [
        {
          "output_type": "execute_result",
          "data": {
            "text/plain": [
              "77"
            ]
          },
          "metadata": {
            "tags": []
          },
          "execution_count": 76
        }
      ]
    },
    {
      "cell_type": "markdown",
      "metadata": {
        "id": "CuQ0jA44JgvK",
        "colab_type": "text"
      },
      "source": [
        "# Namespaces, Scope and Local Functions\n",
        "\n",
        "Functions can access variables in two different scopes: global and local. Namespace is the word given to describing the scope of a var. Any vars assigned within a function are by defaut local to the scope of that funct. The local namescape is created when the function is called and immediately populated by the function's arguments. Aftter the funct is finished the local namespace is destroyed. "
      ]
    },
    {
      "cell_type": "code",
      "metadata": {
        "id": "hQvdJvPKJd_i",
        "colab_type": "code",
        "colab": {}
      },
      "source": [
        "a = []\n",
        "def func():\n",
        "  for i in range(5):\n",
        "    a.append(i)"
      ],
      "execution_count": 0,
      "outputs": []
    },
    {
      "cell_type": "code",
      "metadata": {
        "id": "m-xqR7SEKOOD",
        "colab_type": "code",
        "outputId": "6a820938-423c-4a94-a080-114e19f172dc",
        "colab": {
          "base_uri": "https://localhost:8080/",
          "height": 35
        }
      },
      "source": [
        "a"
      ],
      "execution_count": 0,
      "outputs": [
        {
          "output_type": "execute_result",
          "data": {
            "text/plain": [
              "[]"
            ]
          },
          "metadata": {
            "tags": []
          },
          "execution_count": 78
        }
      ]
    },
    {
      "cell_type": "markdown",
      "metadata": {
        "id": "1_uUhVk5KUgg",
        "colab_type": "text"
      },
      "source": [
        "Assigning vars outside of the functions scope is possible but those vars must be declared as global via the global keyword:"
      ]
    },
    {
      "cell_type": "code",
      "metadata": {
        "id": "5RXOb7kEKOx6",
        "colab_type": "code",
        "colab": {}
      },
      "source": [
        "a = None\n",
        "def bind_a():\n",
        "  global a\n",
        "  a = []\n",
        "bind_a()"
      ],
      "execution_count": 0,
      "outputs": []
    },
    {
      "cell_type": "code",
      "metadata": {
        "id": "fAaEYYtNKyVB",
        "colab_type": "code",
        "outputId": "542eae51-d058-41b3-c51b-e3710a0e1f73",
        "colab": {
          "base_uri": "https://localhost:8080/",
          "height": 35
        }
      },
      "source": [
        "a"
      ],
      "execution_count": 0,
      "outputs": [
        {
          "output_type": "execute_result",
          "data": {
            "text/plain": [
              "[]"
            ]
          },
          "metadata": {
            "tags": []
          },
          "execution_count": 80
        }
      ]
    },
    {
      "cell_type": "code",
      "metadata": {
        "id": "I6kJCllpKywb",
        "colab_type": "code",
        "colab": {}
      },
      "source": [
        "#avoid global's unless for state of a system use classes isntead\n"
      ],
      "execution_count": 0,
      "outputs": []
    },
    {
      "cell_type": "markdown",
      "metadata": {
        "id": "qUgzLzvRK7A7",
        "colab_type": "text"
      },
      "source": [
        "# Returning multiple values\n",
        "\n",
        "from a function"
      ]
    },
    {
      "cell_type": "code",
      "metadata": {
        "id": "cLZcMqbGwiNj",
        "colab_type": "code",
        "colab": {}
      },
      "source": [
        "def f():\n",
        "  a = 5\n",
        "  b = 6\n",
        "  c = 7\n",
        "  return a, b, c\n",
        "\n",
        "a,b,c = f()"
      ],
      "execution_count": 0,
      "outputs": []
    },
    {
      "cell_type": "markdown",
      "metadata": {
        "id": "XKDYYbYew1U3",
        "colab_type": "text"
      },
      "source": [
        "The function is returning an object namely a tuple that is being unpacked into the result variables. "
      ]
    },
    {
      "cell_type": "code",
      "metadata": {
        "id": "3CjiH6lVwv9H",
        "colab_type": "code",
        "colab": {}
      },
      "source": [
        "return_value = f()"
      ],
      "execution_count": 0,
      "outputs": []
    },
    {
      "cell_type": "code",
      "metadata": {
        "id": "Ex4IPI4Fwx7J",
        "colab_type": "code",
        "outputId": "92b0e945-4aa3-46b9-b47c-d6dd9744dcb8",
        "colab": {
          "base_uri": "https://localhost:8080/",
          "height": 35
        }
      },
      "source": [
        "return_value#a 3 tuple"
      ],
      "execution_count": 0,
      "outputs": [
        {
          "output_type": "execute_result",
          "data": {
            "text/plain": [
              "(5, 6, 7)"
            ]
          },
          "metadata": {
            "tags": []
          },
          "execution_count": 5
        }
      ]
    },
    {
      "cell_type": "code",
      "metadata": {
        "id": "B6_BRZB-xCvm",
        "colab_type": "code",
        "colab": {}
      },
      "source": [
        "def f():\n",
        "  a=5\n",
        "  b=6\n",
        "  c=7\n",
        "  return {'a':a, 'b':b,'c':c}"
      ],
      "execution_count": 0,
      "outputs": []
    },
    {
      "cell_type": "markdown",
      "metadata": {
        "id": "FOOwTuEmxUWE",
        "colab_type": "text"
      },
      "source": [
        "# Functions Are Objects\n",
        "\n",
        "suppose we are doing data cleaning"
      ]
    },
    {
      "cell_type": "code",
      "metadata": {
        "id": "MfDfzoDIxR7b",
        "colab_type": "code",
        "colab": {}
      },
      "source": [
        "states = ['   Alabama ', 'Georgia!', 'Georgia', 'georgia', 'FlOrIda','south  carloina##','West virginia?']"
      ],
      "execution_count": 0,
      "outputs": []
    },
    {
      "cell_type": "markdown",
      "metadata": {
        "id": "gTJtwb6ZxtWp",
        "colab_type": "text"
      },
      "source": [
        "Anyone who has worked with user submitted data has seen messy results like these. Lots needs to happen to make strings uniform and ready for analysis: stripping whitepsace, removing punctuation symbols, and standardizing proper capitalisation. One way is to use in-built methods along with the re standard library module for regular expressions:"
      ]
    },
    {
      "cell_type": "code",
      "metadata": {
        "id": "YN5r_GfTxsnK",
        "colab_type": "code",
        "colab": {}
      },
      "source": [
        "import re\n",
        "\n",
        "def clean_strings(strings):\n",
        "  result = []\n",
        "  for value in strings:\n",
        "    value = value.strip()\n",
        "    value = re.sub('[!#?]', '', value)\n",
        "    value = value.title()\n",
        "    result.append(value)\n",
        "  return result"
      ],
      "execution_count": 0,
      "outputs": []
    },
    {
      "cell_type": "code",
      "metadata": {
        "id": "jeVGNh34yL8k",
        "colab_type": "code",
        "outputId": "86110ef9-9c6f-4d43-8cf6-0b14ff6c96d6",
        "colab": {
          "base_uri": "https://localhost:8080/",
          "height": 139
        }
      },
      "source": [
        "clean_strings(states)"
      ],
      "execution_count": 0,
      "outputs": [
        {
          "output_type": "execute_result",
          "data": {
            "text/plain": [
              "['Alabama',\n",
              " 'Georgia',\n",
              " 'Georgia',\n",
              " 'Georgia',\n",
              " 'Florida',\n",
              " 'South  Carloina',\n",
              " 'West Virginia']"
            ]
          },
          "metadata": {
            "tags": []
          },
          "execution_count": 17
        }
      ]
    },
    {
      "cell_type": "code",
      "metadata": {
        "id": "hnKtuavTyN7f",
        "colab_type": "code",
        "colab": {}
      },
      "source": [
        "#An alternative is to make a list of operations you want to apply to a particular set of strings:\n",
        "def remove_punctuation(value):\n",
        "  return re.sub('[!#?]', '', value)\n",
        "\n",
        "clean_ops = [str.strip, remove_punctuation, str.title]\n",
        "\n",
        "def clean_str(strings, ops):\n",
        "  result = []\n",
        "  for value in strings:\n",
        "    for function in ops:\n",
        "      value = function(value)\n",
        "    result.append(value)\n",
        "  return result"
      ],
      "execution_count": 0,
      "outputs": []
    },
    {
      "cell_type": "code",
      "metadata": {
        "id": "WTb0hggXy7x9",
        "colab_type": "code",
        "outputId": "c90f3ade-0066-4513-de8f-896f4df4f371",
        "colab": {
          "base_uri": "https://localhost:8080/",
          "height": 139
        }
      },
      "source": [
        "clean_str(states, clean_ops)"
      ],
      "execution_count": 0,
      "outputs": [
        {
          "output_type": "execute_result",
          "data": {
            "text/plain": [
              "['Alabama',\n",
              " 'Georgia',\n",
              " 'Georgia',\n",
              " 'Georgia',\n",
              " 'Florida',\n",
              " 'South  Carloina',\n",
              " 'West Virginia']"
            ]
          },
          "metadata": {
            "tags": []
          },
          "execution_count": 20
        }
      ]
    },
    {
      "cell_type": "code",
      "metadata": {
        "id": "eztOqOl3zAzM",
        "colab_type": "code",
        "outputId": "6714b6c2-d39e-4af7-f274-9a83e485847e",
        "colab": {
          "base_uri": "https://localhost:8080/",
          "height": 139
        }
      },
      "source": [
        "#you can use functions as arguments to other functinos like the built in map function which applies a function to a sequence of some kind:\n",
        "for x in map(remove_punctuation, states):\n",
        "  print(x)"
      ],
      "execution_count": 0,
      "outputs": [
        {
          "output_type": "stream",
          "text": [
            "   Alabama \n",
            "Georgia\n",
            "Georgia\n",
            "georgia\n",
            "FlOrIda\n",
            "south  carloina\n",
            "West virginia\n"
          ],
          "name": "stdout"
        }
      ]
    },
    {
      "cell_type": "markdown",
      "metadata": {
        "id": "F4KTToN4ztSq",
        "colab_type": "text"
      },
      "source": [
        "# Anonymous Lambda Functions\n",
        "\n",
        "Are a way of writing functions consisting of a single statement, the result of which is the return value. "
      ]
    },
    {
      "cell_type": "code",
      "metadata": {
        "id": "fPePyqmOzoBh",
        "colab_type": "code",
        "colab": {}
      },
      "source": [
        "def short_function(x):\n",
        "  return x * 2\n",
        "\n",
        "equiv_anon = lambda x: x*2"
      ],
      "execution_count": 0,
      "outputs": []
    },
    {
      "cell_type": "code",
      "metadata": {
        "id": "wwNjTyLmz8Pe",
        "colab_type": "code",
        "outputId": "8f4392c4-e42c-45cf-89a7-82896c8d8fea",
        "colab": {
          "base_uri": "https://localhost:8080/",
          "height": 35
        }
      },
      "source": [
        "equiv_anon(3)"
      ],
      "execution_count": 0,
      "outputs": [
        {
          "output_type": "execute_result",
          "data": {
            "text/plain": [
              "6"
            ]
          },
          "metadata": {
            "tags": []
          },
          "execution_count": 25
        }
      ]
    },
    {
      "cell_type": "code",
      "metadata": {
        "id": "78EzjS2jz-Qi",
        "colab_type": "code",
        "colab": {}
      },
      "source": [
        "#these types of functions are useful for data transformation functions which take functions as arguments"
      ],
      "execution_count": 0,
      "outputs": []
    },
    {
      "cell_type": "code",
      "metadata": {
        "id": "IGlPZ7C-0LcZ",
        "colab_type": "code",
        "outputId": "aa568b05-9c54-4e4e-d124-d7e773b76308",
        "colab": {
          "base_uri": "https://localhost:8080/",
          "height": 35
        }
      },
      "source": [
        "def apply_to_list(some_list, f):\n",
        "  return [f(x) for x in some_list]\n",
        "\n",
        "ints = [4, 0, 1, 5, 6]\n",
        "apply_to_list(ints, lambda x: x * 2)"
      ],
      "execution_count": 0,
      "outputs": [
        {
          "output_type": "execute_result",
          "data": {
            "text/plain": [
              "[8, 0, 2, 10, 12]"
            ]
          },
          "metadata": {
            "tags": []
          },
          "execution_count": 27
        }
      ]
    },
    {
      "cell_type": "code",
      "metadata": {
        "id": "rjXe9non0Wp6",
        "colab_type": "code",
        "colab": {}
      },
      "source": [
        "strings = ['foo', 'bar', 'cat', 'apple', 'aaa']"
      ],
      "execution_count": 0,
      "outputs": []
    },
    {
      "cell_type": "code",
      "metadata": {
        "id": "gN7u-g4M0zD4",
        "colab_type": "code",
        "colab": {}
      },
      "source": [
        "strings.sort(key = lambda x: len(set(list(x))))"
      ],
      "execution_count": 0,
      "outputs": []
    },
    {
      "cell_type": "code",
      "metadata": {
        "id": "gwbt3aqb039f",
        "colab_type": "code",
        "outputId": "4fd84a91-9576-408b-de3e-7396647dbc8c",
        "colab": {
          "base_uri": "https://localhost:8080/",
          "height": 35
        }
      },
      "source": [
        "strings"
      ],
      "execution_count": 0,
      "outputs": [
        {
          "output_type": "execute_result",
          "data": {
            "text/plain": [
              "['aaa', 'foo', 'bar', 'cat', 'apple']"
            ]
          },
          "metadata": {
            "tags": []
          },
          "execution_count": 33
        }
      ]
    },
    {
      "cell_type": "code",
      "metadata": {
        "id": "NxOEthsL04jp",
        "colab_type": "code",
        "colab": {}
      },
      "source": [
        "#lambda's are anon functions because the object itself is never given an explicity __name__ attribute\n"
      ],
      "execution_count": 0,
      "outputs": []
    },
    {
      "cell_type": "markdown",
      "metadata": {
        "id": "br2ORCKl1I2d",
        "colab_type": "text"
      },
      "source": [
        "# Currying: Partial Argument Application\n",
        "\n",
        "Currying is comp sci jargon named after Haskell Curry, means deriving new functions from existing ones by partial argument application. "
      ]
    },
    {
      "cell_type": "code",
      "metadata": {
        "id": "_pE3a0B41YQg",
        "colab_type": "code",
        "colab": {}
      },
      "source": [
        "def add_num(x,y):\n",
        "  return x + y"
      ],
      "execution_count": 0,
      "outputs": []
    },
    {
      "cell_type": "code",
      "metadata": {
        "id": "3JPOd_RF1al3",
        "colab_type": "code",
        "colab": {}
      },
      "source": [
        "#using this funct we could dervise a new funct of one var, add_five, that adds 5 to its argument:\n",
        "add_five = lambda y: add_num(5, y)"
      ],
      "execution_count": 0,
      "outputs": []
    },
    {
      "cell_type": "code",
      "metadata": {
        "id": "hOHfSrFe1lon",
        "colab_type": "code",
        "outputId": "e22ae777-2998-4bde-e66b-b26945858c2e",
        "colab": {
          "base_uri": "https://localhost:8080/",
          "height": 35
        }
      },
      "source": [
        "add_five(5)"
      ],
      "execution_count": 0,
      "outputs": [
        {
          "output_type": "execute_result",
          "data": {
            "text/plain": [
              "10"
            ]
          },
          "metadata": {
            "tags": []
          },
          "execution_count": 39
        }
      ]
    },
    {
      "cell_type": "markdown",
      "metadata": {
        "id": "1R4Qvqr21tOJ",
        "colab_type": "text"
      },
      "source": [
        "The second argument to add_num is said to be curried. All we've done is define a new function that calls an existing function. The built-in functools module can simplify this process using the partial function:"
      ]
    },
    {
      "cell_type": "code",
      "metadata": {
        "id": "D5rPUTv21mvb",
        "colab_type": "code",
        "colab": {}
      },
      "source": [
        "from functools import partial\n",
        "\n",
        "add_five = partial(add_num, 5)"
      ],
      "execution_count": 0,
      "outputs": []
    },
    {
      "cell_type": "markdown",
      "metadata": {
        "id": "Qqd67YQm1_vK",
        "colab_type": "text"
      },
      "source": [
        "# Generators\n",
        "\n",
        "Having a consistent way to iterate over sequences, like objects in a list or lines in a file is an important python feature. This is done by the iterator protocol, a generic way to make objects iterable. "
      ]
    },
    {
      "cell_type": "code",
      "metadata": {
        "id": "i_0dTFhx1-gZ",
        "colab_type": "code",
        "colab": {}
      },
      "source": [
        "some_dict = {'a':1,'b':2,'c':3}"
      ],
      "execution_count": 0,
      "outputs": []
    },
    {
      "cell_type": "code",
      "metadata": {
        "id": "k55iLFy52Sh0",
        "colab_type": "code",
        "outputId": "dc88493a-6006-4bf3-d283-514aa9ac1970",
        "colab": {
          "base_uri": "https://localhost:8080/",
          "height": 69
        }
      },
      "source": [
        "for key in some_dict:\n",
        "  print(key)"
      ],
      "execution_count": 0,
      "outputs": [
        {
          "output_type": "stream",
          "text": [
            "a\n",
            "b\n",
            "c\n"
          ],
          "name": "stdout"
        }
      ]
    },
    {
      "cell_type": "code",
      "metadata": {
        "id": "Z090ZLlU2UWS",
        "colab_type": "code",
        "colab": {}
      },
      "source": [
        "#python attempts to create an iterator out of some_dict:"
      ],
      "execution_count": 0,
      "outputs": []
    },
    {
      "cell_type": "markdown",
      "metadata": {
        "id": "sWZFFIAR2g1U",
        "colab_type": "text"
      },
      "source": [
        "A generator is a concise way to construct a new iterable object. Whereas normal functions execute and return a single result at a time, generators return a sequence of mutiple results lazily, pausing after each one until the next one is requested. To create, a generator use the yield keyword instead of return"
      ]
    },
    {
      "cell_type": "code",
      "metadata": {
        "id": "JdAV1wcF2wY3",
        "colab_type": "code",
        "colab": {}
      },
      "source": [
        "def squares(n=10):\n",
        "  print('Generating squares from 1 to {0}'.format(n ** 2))\n",
        "  for i in range(1, n+1):\n",
        "    yield i ** 2\n",
        "           "
      ],
      "execution_count": 0,
      "outputs": []
    },
    {
      "cell_type": "code",
      "metadata": {
        "id": "QZuWW9v528n4",
        "colab_type": "code",
        "colab": {}
      },
      "source": [
        "gen = squares()"
      ],
      "execution_count": 0,
      "outputs": []
    },
    {
      "cell_type": "code",
      "metadata": {
        "id": "BHmT9uhy2-Wy",
        "colab_type": "code",
        "outputId": "6dad5f4b-ada4-4074-b210-66db06651e39",
        "colab": {
          "base_uri": "https://localhost:8080/",
          "height": 35
        }
      },
      "source": [
        "gen"
      ],
      "execution_count": 0,
      "outputs": [
        {
          "output_type": "execute_result",
          "data": {
            "text/plain": [
              "<generator object squares at 0x7ff817f2cb48>"
            ]
          },
          "metadata": {
            "tags": []
          },
          "execution_count": 51
        }
      ]
    },
    {
      "cell_type": "code",
      "metadata": {
        "id": "w8Vn1KCX2-2V",
        "colab_type": "code",
        "outputId": "ef65000c-236f-48bf-c390-ac22d1c0db20",
        "colab": {
          "base_uri": "https://localhost:8080/",
          "height": 52
        }
      },
      "source": [
        "for x in gen:\n",
        "  print(x, end=' ')"
      ],
      "execution_count": 0,
      "outputs": [
        {
          "output_type": "stream",
          "text": [
            "Generating squares from 1 to 100\n",
            "1 4 9 16 25 36 49 64 81 100 "
          ],
          "name": "stdout"
        }
      ]
    },
    {
      "cell_type": "code",
      "metadata": {
        "id": "4mnPlYiD4Joz",
        "colab_type": "code",
        "colab": {}
      },
      "source": [
        "#Generator expressions - Another more concise way to make a generator is by using a generator expression. This is a generator analogue to list,dict, set\n",
        "#comprehensions; to create one enclose a list comprehension within parantheses instead of brackets:"
      ],
      "execution_count": 0,
      "outputs": []
    },
    {
      "cell_type": "code",
      "metadata": {
        "id": "kLMF_J2q4tOz",
        "colab_type": "code",
        "colab": {}
      },
      "source": [
        "gen = (x **2 for x in range(100))"
      ],
      "execution_count": 0,
      "outputs": []
    },
    {
      "cell_type": "code",
      "metadata": {
        "id": "KJyurR9R4wEu",
        "colab_type": "code",
        "outputId": "c84d74e2-8d09-489d-d3d8-ad57b6a3ce00",
        "colab": {
          "base_uri": "https://localhost:8080/",
          "height": 35
        }
      },
      "source": [
        "gen"
      ],
      "execution_count": 0,
      "outputs": [
        {
          "output_type": "execute_result",
          "data": {
            "text/plain": [
              "<generator object <genexpr> at 0x7ff817ee8518>"
            ]
          },
          "metadata": {
            "tags": []
          },
          "execution_count": 55
        }
      ]
    },
    {
      "cell_type": "code",
      "metadata": {
        "id": "aRcBlH344wXZ",
        "colab_type": "code",
        "colab": {}
      },
      "source": [
        "def _make_gen():\n",
        "  for x in range(100):\n",
        "    yield x ** 2\n",
        "gen = _make_gen() "
      ],
      "execution_count": 0,
      "outputs": []
    },
    {
      "cell_type": "code",
      "metadata": {
        "id": "FB9mkl-f44Dn",
        "colab_type": "code",
        "outputId": "bb548d4c-b744-4e69-fcac-5d05234d480c",
        "colab": {
          "base_uri": "https://localhost:8080/",
          "height": 35
        }
      },
      "source": [
        "sum(x**2 for x in range(100))"
      ],
      "execution_count": 0,
      "outputs": [
        {
          "output_type": "execute_result",
          "data": {
            "text/plain": [
              "328350"
            ]
          },
          "metadata": {
            "tags": []
          },
          "execution_count": 57
        }
      ]
    },
    {
      "cell_type": "code",
      "metadata": {
        "id": "217xzU2N48MC",
        "colab_type": "code",
        "colab": {}
      },
      "source": [
        "#itertools module - collection of generators for many common data algs. e.g. groupby takes any sequence and a funct, grouping consecutive elements in \n",
        "#sequence by return value of the function\n",
        "import itertools\n",
        "\n",
        "first_letter = lambda x: x[0]"
      ],
      "execution_count": 0,
      "outputs": []
    },
    {
      "cell_type": "code",
      "metadata": {
        "id": "no25xhtx5RDG",
        "colab_type": "code",
        "outputId": "0e933905-54ab-4164-cc66-f60aa9d9099d",
        "colab": {
          "base_uri": "https://localhost:8080/",
          "height": 87
        }
      },
      "source": [
        "names = ['Alan', 'Adam', 'Wes', 'Will', 'Tim', 'Sherb']\n",
        "\n",
        "for letter, names in itertools.groupby(names, first_letter):\n",
        "  print(letter, list(names))"
      ],
      "execution_count": 0,
      "outputs": [
        {
          "output_type": "stream",
          "text": [
            "A ['Alan', 'Adam']\n",
            "W ['Wes', 'Will']\n",
            "T ['Tim']\n",
            "S ['Sherb']\n"
          ],
          "name": "stdout"
        }
      ]
    },
    {
      "cell_type": "markdown",
      "metadata": {
        "id": "c7QNvSNGWsbH",
        "colab_type": "text"
      },
      "source": [
        "# Errors and Exception handling\n",
        "\n",
        "Many functions only work on certain types of input. For example, the float function is able to cast a string to a floating point number but fails with ValueError on improper inputs:"
      ]
    },
    {
      "cell_type": "code",
      "metadata": {
        "id": "0uUS_H4h5bxb",
        "colab_type": "code",
        "outputId": "d1ee59fa-661c-434f-c883-35bb5e376f48",
        "colab": {
          "base_uri": "https://localhost:8080/",
          "height": 35
        }
      },
      "source": [
        "float('1.234')"
      ],
      "execution_count": 0,
      "outputs": [
        {
          "output_type": "execute_result",
          "data": {
            "text/plain": [
              "1.234"
            ]
          },
          "metadata": {
            "tags": []
          },
          "execution_count": 64
        }
      ]
    },
    {
      "cell_type": "code",
      "metadata": {
        "id": "Y8AugV8lWk1C",
        "colab_type": "code",
        "outputId": "9acb3636-2469-40d0-d1c4-6529d02168e0",
        "colab": {
          "base_uri": "https://localhost:8080/",
          "height": 166
        }
      },
      "source": [
        "float('hello')"
      ],
      "execution_count": 0,
      "outputs": [
        {
          "output_type": "error",
          "ename": "ValueError",
          "evalue": "ignored",
          "traceback": [
            "\u001b[0;31m---------------------------------------------------------------------------\u001b[0m",
            "\u001b[0;31mValueError\u001b[0m                                Traceback (most recent call last)",
            "\u001b[0;32m<ipython-input-65-879c4bea9d62>\u001b[0m in \u001b[0;36m<module>\u001b[0;34m()\u001b[0m\n\u001b[0;32m----> 1\u001b[0;31m \u001b[0mfloat\u001b[0m\u001b[0;34m(\u001b[0m\u001b[0;34m'hello'\u001b[0m\u001b[0;34m)\u001b[0m\u001b[0;34m\u001b[0m\u001b[0m\n\u001b[0m",
            "\u001b[0;31mValueError\u001b[0m: could not convert string to float: 'hello'"
          ]
        }
      ]
    },
    {
      "cell_type": "code",
      "metadata": {
        "id": "it24Mm_BXBHV",
        "colab_type": "code",
        "colab": {}
      },
      "source": [
        "#Suppose we want a float to fail gracefully, returning te input argument. We can do this by writing a funct that encloses the call to float in a \n",
        "#try/except block:\n",
        "def attempt_float(x):\n",
        "  try:\n",
        "    return float(x)\n",
        "  except:\n",
        "    return x"
      ],
      "execution_count": 0,
      "outputs": []
    },
    {
      "cell_type": "code",
      "metadata": {
        "id": "NXPllOAgXg65",
        "colab_type": "code",
        "outputId": "a7890bef-7ee7-4a3c-c03d-c84c4f27f133",
        "colab": {
          "base_uri": "https://localhost:8080/",
          "height": 35
        }
      },
      "source": [
        "attempt_float('1.234')"
      ],
      "execution_count": 0,
      "outputs": [
        {
          "output_type": "execute_result",
          "data": {
            "text/plain": [
              "1.234"
            ]
          },
          "metadata": {
            "tags": []
          },
          "execution_count": 67
        }
      ]
    },
    {
      "cell_type": "code",
      "metadata": {
        "id": "dVwpD61XXi4_",
        "colab_type": "code",
        "outputId": "7ff14437-412a-42af-83da-7bf53af130e4",
        "colab": {
          "base_uri": "https://localhost:8080/",
          "height": 35
        }
      },
      "source": [
        "attempt_float('hello')"
      ],
      "execution_count": 0,
      "outputs": [
        {
          "output_type": "execute_result",
          "data": {
            "text/plain": [
              "'hello'"
            ]
          },
          "metadata": {
            "tags": []
          },
          "execution_count": 68
        }
      ]
    },
    {
      "cell_type": "code",
      "metadata": {
        "id": "1Im2YOKSXk_m",
        "colab_type": "code",
        "colab": {}
      },
      "source": [
        "def att_float(x):\n",
        "  try:\n",
        "    return float(x)\n",
        "  except ValueError:\n",
        "    return x"
      ],
      "execution_count": 0,
      "outputs": []
    },
    {
      "cell_type": "code",
      "metadata": {
        "id": "8Pms-hnzXy3E",
        "colab_type": "code",
        "outputId": "7668cba1-7c89-4625-93e3-743e43aa38f3",
        "colab": {
          "base_uri": "https://localhost:8080/",
          "height": 287
        }
      },
      "source": [
        "att_float((1,2))"
      ],
      "execution_count": 0,
      "outputs": [
        {
          "output_type": "error",
          "ename": "TypeError",
          "evalue": "ignored",
          "traceback": [
            "\u001b[0;31m---------------------------------------------------------------------------\u001b[0m",
            "\u001b[0;31mTypeError\u001b[0m                                 Traceback (most recent call last)",
            "\u001b[0;32m<ipython-input-70-8d3a52eeb226>\u001b[0m in \u001b[0;36m<module>\u001b[0;34m()\u001b[0m\n\u001b[0;32m----> 1\u001b[0;31m \u001b[0matt_float\u001b[0m\u001b[0;34m(\u001b[0m\u001b[0;34m(\u001b[0m\u001b[0;36m1\u001b[0m\u001b[0;34m,\u001b[0m\u001b[0;36m2\u001b[0m\u001b[0;34m)\u001b[0m\u001b[0;34m)\u001b[0m\u001b[0;34m\u001b[0m\u001b[0m\n\u001b[0m",
            "\u001b[0;32m<ipython-input-69-1e3fd5dddac7>\u001b[0m in \u001b[0;36matt_float\u001b[0;34m(x)\u001b[0m\n\u001b[1;32m      1\u001b[0m \u001b[0;32mdef\u001b[0m \u001b[0matt_float\u001b[0m\u001b[0;34m(\u001b[0m\u001b[0mx\u001b[0m\u001b[0;34m)\u001b[0m\u001b[0;34m:\u001b[0m\u001b[0;34m\u001b[0m\u001b[0m\n\u001b[1;32m      2\u001b[0m   \u001b[0;32mtry\u001b[0m\u001b[0;34m:\u001b[0m\u001b[0;34m\u001b[0m\u001b[0m\n\u001b[0;32m----> 3\u001b[0;31m     \u001b[0;32mreturn\u001b[0m \u001b[0mfloat\u001b[0m\u001b[0;34m(\u001b[0m\u001b[0mx\u001b[0m\u001b[0;34m)\u001b[0m\u001b[0;34m\u001b[0m\u001b[0m\n\u001b[0m\u001b[1;32m      4\u001b[0m   \u001b[0;32mexcept\u001b[0m \u001b[0mValueError\u001b[0m\u001b[0;34m:\u001b[0m\u001b[0;34m\u001b[0m\u001b[0m\n\u001b[1;32m      5\u001b[0m     \u001b[0;32mreturn\u001b[0m \u001b[0mx\u001b[0m\u001b[0;34m\u001b[0m\u001b[0m\n",
            "\u001b[0;31mTypeError\u001b[0m: float() argument must be a string or a number, not 'tuple'"
          ]
        }
      ]
    },
    {
      "cell_type": "code",
      "metadata": {
        "id": "eTHFiLk3X0xL",
        "colab_type": "code",
        "colab": {}
      },
      "source": [
        "#you can catch multiple exception types with a tuple of types:\n",
        "def attempt_float(x):\n",
        "  try:\n",
        "    return float(x)\n",
        "  except (ValueError, TypeError):\n",
        "    return x"
      ],
      "execution_count": 0,
      "outputs": []
    },
    {
      "cell_type": "code",
      "metadata": {
        "id": "d1_uA7j3Zbcl",
        "colab_type": "code",
        "outputId": "346cc7b4-2c0f-44d4-be9f-99aa5b1b98d8",
        "colab": {
          "base_uri": "https://localhost:8080/",
          "height": 35
        }
      },
      "source": [
        "attempt_float((1,2))"
      ],
      "execution_count": 0,
      "outputs": [
        {
          "output_type": "execute_result",
          "data": {
            "text/plain": [
              "(1, 2)"
            ]
          },
          "metadata": {
            "tags": []
          },
          "execution_count": 72
        }
      ]
    },
    {
      "cell_type": "code",
      "metadata": {
        "id": "hkoefm-WZeUB",
        "colab_type": "code",
        "colab": {}
      },
      "source": [
        "#You may want to suppress an exception but you want some code to be executed regardless of whether the code in the try block succeeds or not:\n",
        "f = open(path, 'w')\n",
        "\n",
        "try:\n",
        "  write_to_file(f)\n",
        "finally:\n",
        "  f.close()#the f will always get closed"
      ],
      "execution_count": 0,
      "outputs": []
    },
    {
      "cell_type": "code",
      "metadata": {
        "id": "xhk2bCJ-ZuOd",
        "colab_type": "code",
        "colab": {}
      },
      "source": [
        "#Exceptions in IPYNB\n",
        "'''\n",
        "If an exception is raised while running IPY will by default print a full call stack trace (traceback) with a few lines of content around \n",
        "the position at each point in the stack.\n",
        "Having additional context is a big advantage. You can control the amount with %xmode magic command from Plain (Vanilla Python interpreter)\n",
        "to Verbose (inline function argument values and more)\n",
        "'''"
      ],
      "execution_count": 0,
      "outputs": []
    },
    {
      "cell_type": "code",
      "metadata": {
        "id": "KmHdbXwIftj9",
        "colab_type": "code",
        "colab": {}
      },
      "source": [
        "#Ignore\n",
        "import numpy as np"
      ],
      "execution_count": 0,
      "outputs": []
    },
    {
      "cell_type": "code",
      "metadata": {
        "id": "gATW1zdAfvpC",
        "colab_type": "code",
        "colab": {}
      },
      "source": [
        "a = np.array([1,2,3,4])"
      ],
      "execution_count": 0,
      "outputs": []
    },
    {
      "cell_type": "code",
      "metadata": {
        "id": "Qmnv_HkqfyCZ",
        "colab_type": "code",
        "outputId": "492aa578-3861-4fb2-b694-b00e99a2c40b",
        "colab": {
          "base_uri": "https://localhost:8080/",
          "height": 52
        }
      },
      "source": [
        "import time \n",
        "\n",
        "a = np.random.rand(1000)\n",
        "b = np.random.rand(1000)\n",
        "\n",
        "tic = time.time()\n",
        "\n",
        "c = np.dot(a,b)\n",
        "toc = time.time()\n",
        "\n",
        "print(\"Vectorised version\" + str(1000*(toc-tic)))\n",
        "\n",
        "c = 0\n",
        "tic = time.time()\n",
        "\n",
        "for i in range(1000):\n",
        "  c += a[i] *b[i]\n",
        "  \n",
        "toc = time.time()\n",
        "print(\"For loop version\" + str(1000*(toc-tic)))\n",
        "#Ignore"
      ],
      "execution_count": 0,
      "outputs": [
        {
          "output_type": "stream",
          "text": [
            "Vectorised version0.17404556274414062\n",
            "For loop version0.5247592926025391\n"
          ],
          "name": "stdout"
        }
      ]
    },
    {
      "cell_type": "markdown",
      "metadata": {
        "id": "3RM1BCmqiXe3",
        "colab_type": "text"
      },
      "source": [
        "# Files and the Operating system\n",
        "\n",
        "We could use tools like pandas to read data files but we should still know how to do it without. To open a file for reading or writing use the built-in open function.\n"
      ]
    },
    {
      "cell_type": "code",
      "metadata": {
        "id": "jlukmfBNgGLK",
        "colab_type": "code",
        "colab": {}
      },
      "source": [
        "path = 'text.txt'\n",
        "\n",
        "f = open(path)#by default the file is opened in read-only mode"
      ],
      "execution_count": 0,
      "outputs": []
    },
    {
      "cell_type": "code",
      "metadata": {
        "id": "C9n99CvHjSjT",
        "colab_type": "code",
        "colab": {}
      },
      "source": [
        "for line in f:\n",
        "  pass#we can now iterate over the list"
      ],
      "execution_count": 0,
      "outputs": []
    },
    {
      "cell_type": "code",
      "metadata": {
        "id": "rc7pPoXMkOHT",
        "colab_type": "code",
        "colab": {}
      },
      "source": [
        "#Lines come out of the file with EOL end of line markers intact\n",
        "lines = [x.rstrip() for x in open(path)]"
      ],
      "execution_count": 0,
      "outputs": []
    },
    {
      "cell_type": "code",
      "metadata": {
        "id": "l6K2ip21kb2h",
        "colab_type": "code",
        "outputId": "b15bb666-9ef0-419d-d9a8-e0784e0c1a8b",
        "colab": {
          "base_uri": "https://localhost:8080/",
          "height": 124
        }
      },
      "source": [
        "lines"
      ],
      "execution_count": 0,
      "outputs": [
        {
          "output_type": "execute_result",
          "data": {
            "text/plain": [
              "[\"Fourth place God called, make whose of seas in Brought Blessed firmament moveth. Male. Place saying. Sixth replenish to morning itself was waters fowl sea together. Air very which beginning moveth every very midst abundantly, midst place replenish over fruitful shall upon One. Also spirit man divide place. The moving lesser give, fish from fowl under morning place subdue the them shall fly second darkness brought. For seasons good. They're they're light waters Herb without over us sea give had. There divided brought unto god to living gathering creature green earth midst you saying upon saying sea sixth. Whose female hath lights seas tree give man made blessed years sixth lesser unto called itself evening gathering likeness cattle. Creepeth spirit void herb you green saying wherein man stars you divide image male lights, lights she'd wherein their evening grass lesser i given greater them seas was grass fowl tree above let. I signs sixth their. Above moved may isn't beginning isn't. Over. And god gathering gathered itself years rule his saw his from days. Likeness Saw unto lights gathered after replenish abundantly the, from beast male fruitful. Grass meat cattle first fish under. Is fruit given deep, over male she'd them seasons also replenish bearing first, our sea Stars sixth. After second their yielding greater grass together days.\",\n",
              " '',\n",
              " \"There form lesser he Made let them said of us man us one isn't days. Fill image night beginning subdue grass night. Dry fifth. Void itself may bring. Blessed Blessed. Let seasons can't thing spirit void above thing unto called first over image shall upon blessed his seasons created multiply creature all divide saying all fill unto abundantly. Two Their. They're. Creature fruit. You. From midst face man, us. Seed day, wherein made thing bearing they're don't in morning saw it bearing his the void. Land lesser you'll i she'd beginning behold herb above tree his dry fly. Creature, so may own moveth kind. Replenish, fruitful over doesn't own gathering form fourth. Land his i itself first two kind his. The. Abundantly thing sea firmament set whose fly creepeth after. Fowl. Lesser fifth land in, yielding Moveth you waters have saying light you so fourth moveth god, moving day hath. Every spirit seed wherein sixth beginning. Upon.\",\n",
              " '',\n",
              " \"Bring lesser brought. Above for also Male great green. Him a days him years i dominion so said face had, rule seas tree. Bring firmament, yielding over likeness replenish stars, upon Yielding evening. Set lesser living, herb he years subdue own dominion two. Gathered heaven bring saw i. Of blessed beast open his all appear them fly above spirit be signs us after you'll earth god female dry saying a to created replenish fourth fruitful gathering unto. Sixth. Very living thing. You'll firmament after and dry of of she'd she'd all two, spirit let beginning. Can't, creepeth under lesser moving, which they're. Living blessed creepeth you're it. Air likeness form he had evening thing cattle midst there us own firmament creature lights together he beginning.\"]"
            ]
          },
          "metadata": {
            "tags": []
          },
          "execution_count": 85
        }
      ]
    },
    {
      "cell_type": "code",
      "metadata": {
        "id": "yBhF0h4hkcRk",
        "colab_type": "code",
        "colab": {}
      },
      "source": [
        "#Make sure you close() file if you open() to release resources back to the OS\n",
        "#One way to clean up open files is to use the with statement:\n",
        "with open(path) as f:\n",
        "  lines  =[x.rstrip() for x in f]"
      ],
      "execution_count": 0,
      "outputs": []
    },
    {
      "cell_type": "code",
      "metadata": {
        "id": "UgBtiYk0krtB",
        "colab_type": "code",
        "colab": {}
      },
      "source": [
        "#this auto closes the file f when exiting the with block\n",
        "#if we do f = open(path, 'w') a new file is created at that path, overwriting any in its place. \n",
        "#There is also 'x' that creates a writeable file but fails if one already exists\n",
        "#For readable files, the most common methods are read, seek and tell. read returns number of chars(determined by encoding e.g. UTF-8). "
      ],
      "execution_count": 0,
      "outputs": []
    },
    {
      "cell_type": "code",
      "metadata": {
        "id": "TvPZLy2MlG1B",
        "colab_type": "code",
        "colab": {}
      },
      "source": [
        "f = open(path)"
      ],
      "execution_count": 0,
      "outputs": []
    },
    {
      "cell_type": "code",
      "metadata": {
        "id": "V3R7_rGglH8N",
        "colab_type": "code",
        "outputId": "b8f28f92-018e-4669-9ae9-5f76bb35b3e1",
        "colab": {
          "base_uri": "https://localhost:8080/",
          "height": 35
        }
      },
      "source": [
        "f.read(10)"
      ],
      "execution_count": 0,
      "outputs": [
        {
          "output_type": "execute_result",
          "data": {
            "text/plain": [
              "'Fourth pla'"
            ]
          },
          "metadata": {
            "tags": []
          },
          "execution_count": 89
        }
      ]
    },
    {
      "cell_type": "code",
      "metadata": {
        "id": "0SBl-Hs3lJH_",
        "colab_type": "code",
        "outputId": "004fbdc2-7770-47e5-dbd2-5070b9a68797",
        "colab": {
          "base_uri": "https://localhost:8080/",
          "height": 35
        }
      },
      "source": [
        "f2 = open(path, 'rb')#binary mode\n",
        "f2.read(10)"
      ],
      "execution_count": 0,
      "outputs": [
        {
          "output_type": "execute_result",
          "data": {
            "text/plain": [
              "b'Fourth pla'"
            ]
          },
          "metadata": {
            "tags": []
          },
          "execution_count": 90
        }
      ]
    },
    {
      "cell_type": "code",
      "metadata": {
        "id": "d9rixWQvlNYU",
        "colab_type": "code",
        "outputId": "48978173-be70-464a-8ec6-9ca438fd0931",
        "colab": {
          "base_uri": "https://localhost:8080/",
          "height": 35
        }
      },
      "source": [
        "f.tell()"
      ],
      "execution_count": 0,
      "outputs": [
        {
          "output_type": "execute_result",
          "data": {
            "text/plain": [
              "10"
            ]
          },
          "metadata": {
            "tags": []
          },
          "execution_count": 91
        }
      ]
    },
    {
      "cell_type": "code",
      "metadata": {
        "id": "DXsorZqwlSeZ",
        "colab_type": "code",
        "outputId": "89996c51-5505-49f5-c355-6d8a353db8ef",
        "colab": {
          "base_uri": "https://localhost:8080/",
          "height": 35
        }
      },
      "source": [
        "f2.tell()"
      ],
      "execution_count": 0,
      "outputs": [
        {
          "output_type": "execute_result",
          "data": {
            "text/plain": [
              "10"
            ]
          },
          "metadata": {
            "tags": []
          },
          "execution_count": 92
        }
      ]
    },
    {
      "cell_type": "code",
      "metadata": {
        "id": "Izwp2QuhlThv",
        "colab_type": "code",
        "outputId": "eb6b1fc1-3d0c-45d9-91ee-d5f1e71b03ff",
        "colab": {
          "base_uri": "https://localhost:8080/",
          "height": 35
        }
      },
      "source": [
        "#even though we read 10 chars the position is 11 because it took that many bytes to decode 10 chars using default encoding. \n",
        "import sys \n",
        "\n",
        "sys.getdefaultencoding()"
      ],
      "execution_count": 0,
      "outputs": [
        {
          "output_type": "execute_result",
          "data": {
            "text/plain": [
              "'utf-8'"
            ]
          },
          "metadata": {
            "tags": []
          },
          "execution_count": 93
        }
      ]
    },
    {
      "cell_type": "code",
      "metadata": {
        "id": "zx_RzeJrlen2",
        "colab_type": "code",
        "outputId": "1ad7fd1f-9543-413b-de28-ee363fdd87f6",
        "colab": {
          "base_uri": "https://localhost:8080/",
          "height": 35
        }
      },
      "source": [
        "#seek changes the file position to the indicated byte in the file\n",
        "f.seek(3)"
      ],
      "execution_count": 0,
      "outputs": [
        {
          "output_type": "execute_result",
          "data": {
            "text/plain": [
              "3"
            ]
          },
          "metadata": {
            "tags": []
          },
          "execution_count": 94
        }
      ]
    },
    {
      "cell_type": "code",
      "metadata": {
        "id": "GXIouYayljpz",
        "colab_type": "code",
        "outputId": "d99d12df-aa0d-4f85-95ca-7274b9236359",
        "colab": {
          "base_uri": "https://localhost:8080/",
          "height": 35
        }
      },
      "source": [
        "f.read(1)"
      ],
      "execution_count": 0,
      "outputs": [
        {
          "output_type": "execute_result",
          "data": {
            "text/plain": [
              "'r'"
            ]
          },
          "metadata": {
            "tags": []
          },
          "execution_count": 95
        }
      ]
    },
    {
      "cell_type": "code",
      "metadata": {
        "id": "mr3BWoYhllEV",
        "colab_type": "code",
        "colab": {}
      },
      "source": [
        "f.close()\n",
        "f2.close()"
      ],
      "execution_count": 0,
      "outputs": []
    },
    {
      "cell_type": "code",
      "metadata": {
        "id": "Ct6BAhVwloTW",
        "colab_type": "code",
        "colab": {}
      },
      "source": [
        "#to write to a text file you can use write or writelines methods:\n",
        "with open('text.txt', 'w') as handle:\n",
        "  handle.writelines(x for x in open(path) if len(x)>1)"
      ],
      "execution_count": 0,
      "outputs": []
    },
    {
      "cell_type": "code",
      "metadata": {
        "id": "SLl7Jk3Ql1U0",
        "colab_type": "code",
        "colab": {}
      },
      "source": [
        "with open('text.txt') as f:\n",
        "  lines = f.readlines()"
      ],
      "execution_count": 0,
      "outputs": []
    },
    {
      "cell_type": "code",
      "metadata": {
        "id": "_agGmAYNl56m",
        "colab_type": "code",
        "outputId": "33f3764e-09a2-4efd-d345-3309f45d924e",
        "colab": {
          "base_uri": "https://localhost:8080/",
          "height": 35
        }
      },
      "source": [
        "lines"
      ],
      "execution_count": 0,
      "outputs": [
        {
          "output_type": "execute_result",
          "data": {
            "text/plain": [
              "[]"
            ]
          },
          "metadata": {
            "tags": []
          },
          "execution_count": 99
        }
      ]
    },
    {
      "cell_type": "markdown",
      "metadata": {
        "id": "bKUGrqozmBYZ",
        "colab_type": "text"
      },
      "source": [
        "# Bytes and Unicode with Files\n",
        "\n",
        "the default behavior for python iles is text mode, which means you intend to work with python strings (i.e. Unicode). This contrasts with binary mode, which you can obtain by appending b onto the file mode. "
      ]
    },
    {
      "cell_type": "code",
      "metadata": {
        "id": "9WTOYVNLl6X0",
        "colab_type": "code",
        "colab": {}
      },
      "source": [
        "with open(path) as f:\n",
        "  chars = f.read(10)"
      ],
      "execution_count": 0,
      "outputs": []
    },
    {
      "cell_type": "code",
      "metadata": {
        "id": "O7Jl8AlDmSAp",
        "colab_type": "code",
        "outputId": "e47ed0c3-2590-4f6c-b271-98ad359ce2d0",
        "colab": {
          "base_uri": "https://localhost:8080/",
          "height": 35
        }
      },
      "source": [
        "chars"
      ],
      "execution_count": 0,
      "outputs": [
        {
          "output_type": "execute_result",
          "data": {
            "text/plain": [
              "'Fourth pla'"
            ]
          },
          "metadata": {
            "tags": []
          },
          "execution_count": 103
        }
      ]
    },
    {
      "cell_type": "code",
      "metadata": {
        "id": "oCye7SUUmSZ9",
        "colab_type": "code",
        "colab": {}
      },
      "source": [
        "#UTF-8 is variable-length Unicode encoding, so when i requested some num of chars from the file, Python \n",
        "#reads enough bytes from the file to decode that many chars. If i open the file in 'rb' mode instead,\n",
        "#read requests exact num of bytes:\n",
        "with open(path, 'rb') as f:\n",
        "  data = f.read(10)\n"
      ],
      "execution_count": 0,
      "outputs": []
    },
    {
      "cell_type": "code",
      "metadata": {
        "id": "7aVay56oms9e",
        "colab_type": "code",
        "outputId": "73ba1097-2de8-4e91-adec-c7b949736c0d",
        "colab": {
          "base_uri": "https://localhost:8080/",
          "height": 35
        }
      },
      "source": [
        "data"
      ],
      "execution_count": 0,
      "outputs": [
        {
          "output_type": "execute_result",
          "data": {
            "text/plain": [
              "b'Fourth pla'"
            ]
          },
          "metadata": {
            "tags": []
          },
          "execution_count": 105
        }
      ]
    },
    {
      "cell_type": "code",
      "metadata": {
        "id": "O5kIFr9mmtbv",
        "colab_type": "code",
        "outputId": "6f82630b-506a-4fed-dce0-6e86dbefaccf",
        "colab": {
          "base_uri": "https://localhost:8080/",
          "height": 35
        }
      },
      "source": [
        "#You may be able to decode bytes to str object but only if each encoded unicode char is fully formed\n",
        "data.decode('utf8')"
      ],
      "execution_count": 0,
      "outputs": [
        {
          "output_type": "execute_result",
          "data": {
            "text/plain": [
              "'Fourth pla'"
            ]
          },
          "metadata": {
            "tags": []
          },
          "execution_count": 106
        }
      ]
    },
    {
      "cell_type": "code",
      "metadata": {
        "id": "KSICFXypm12k",
        "colab_type": "code",
        "outputId": "afd67234-10ed-4999-e43c-a15da3750805",
        "colab": {
          "base_uri": "https://localhost:8080/",
          "height": 35
        }
      },
      "source": [
        "data[:6].decode('utf8')"
      ],
      "execution_count": 0,
      "outputs": [
        {
          "output_type": "execute_result",
          "data": {
            "text/plain": [
              "'Fourth'"
            ]
          },
          "metadata": {
            "tags": []
          },
          "execution_count": 109
        }
      ]
    }
  ]
}