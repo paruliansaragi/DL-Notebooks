{
  "nbformat": 4,
  "nbformat_minor": 0,
  "metadata": {
    "colab": {
      "name": "oxford deep nlp P1.ipynb",
      "version": "0.3.2",
      "provenance": [],
      "collapsed_sections": [],
      "include_colab_link": true
    },
    "kernelspec": {
      "name": "python3",
      "display_name": "Python 3"
    },
    "accelerator": "GPU"
  },
  "cells": [
    {
      "cell_type": "markdown",
      "metadata": {
        "id": "view-in-github",
        "colab_type": "text"
      },
      "source": [
        "<a href=\"https://colab.research.google.com/github/paruliansaragi/DL-Notebooks/blob/master/oxford_deep_nlp_P1.ipynb\" target=\"_parent\"><img src=\"https://colab.research.google.com/assets/colab-badge.svg\" alt=\"Open In Colab\"/></a>"
      ]
    },
    {
      "cell_type": "code",
      "metadata": {
        "id": "uhpmBTeCcdIo",
        "colab_type": "code",
        "outputId": "737aa375-65c4-4b09-b134-463c2420a7a9",
        "colab": {
          "base_uri": "https://localhost:8080/",
          "height": 384
        }
      },
      "source": [
        "!pip install bokeh"
      ],
      "execution_count": 0,
      "outputs": [
        {
          "output_type": "stream",
          "text": [
            "Collecting bokeh\n",
            "\u001b[?25l  Downloading https://files.pythonhosted.org/packages/54/4f/e6554176080d5cb809a20f36b8723ded05872c60f72e791efd6f2a9346bd/bokeh-1.0.2.tar.gz (16.2MB)\n",
            "\u001b[K    100% |████████████████████████████████| 16.2MB 1.8MB/s \n",
            "\u001b[?25hRequirement already satisfied: six>=1.5.2 in /usr/local/lib/python3.6/dist-packages (from bokeh) (1.11.0)\n",
            "Requirement already satisfied: PyYAML>=3.10 in /usr/local/lib/python3.6/dist-packages (from bokeh) (3.13)\n",
            "Requirement already satisfied: python-dateutil>=2.1 in /usr/local/lib/python3.6/dist-packages (from bokeh) (2.5.3)\n",
            "Requirement already satisfied: Jinja2>=2.7 in /usr/local/lib/python3.6/dist-packages (from bokeh) (2.10)\n",
            "Requirement already satisfied: numpy>=1.7.1 in /usr/local/lib/python3.6/dist-packages (from bokeh) (1.14.6)\n",
            "Requirement already satisfied: pillow>=4.0 in /usr/local/lib/python3.6/dist-packages (from bokeh) (5.3.0)\n",
            "Collecting packaging>=16.8 (from bokeh)\n",
            "  Downloading https://files.pythonhosted.org/packages/89/d1/92e6df2e503a69df9faab187c684585f0136662c12bb1f36901d426f3fab/packaging-18.0-py2.py3-none-any.whl\n",
            "Requirement already satisfied: tornado>=4.3 in /usr/local/lib/python3.6/dist-packages (from bokeh) (4.5.3)\n",
            "Requirement already satisfied: MarkupSafe>=0.23 in /usr/local/lib/python3.6/dist-packages (from Jinja2>=2.7->bokeh) (1.1.0)\n",
            "Requirement already satisfied: pyparsing>=2.0.2 in /usr/local/lib/python3.6/dist-packages (from packaging>=16.8->bokeh) (2.3.0)\n",
            "Building wheels for collected packages: bokeh\n",
            "  Running setup.py bdist_wheel for bokeh ... \u001b[?25l-\b \b\\\b \b|\b \b/\b \b-\b \b\\\b \b|\b \b/\b \b-\b \b\\\b \b|\b \b/\b \b-\b \bdone\n",
            "\u001b[?25h  Stored in directory: /root/.cache/pip/wheels/1a/a0/ec/d46994ac427b4879969dd780cf422bd3a0886fb85f481dd064\n",
            "Successfully built bokeh\n",
            "Installing collected packages: packaging, bokeh\n",
            "Successfully installed bokeh-1.0.2 packaging-18.0\n"
          ],
          "name": "stdout"
        }
      ]
    },
    {
      "cell_type": "code",
      "metadata": {
        "id": "bLomXXNXcGxC",
        "colab_type": "code",
        "colab": {}
      },
      "source": [
        "import numpy as np\n",
        "import os\n",
        "from random import shuffle\n",
        "import re"
      ],
      "execution_count": 0,
      "outputs": []
    },
    {
      "cell_type": "code",
      "metadata": {
        "id": "_4rBR2u4cMWK",
        "colab_type": "code",
        "outputId": "4f101b13-9915-4da8-c6b1-39daf63cd7de",
        "colab": {
          "base_uri": "https://localhost:8080/",
          "height": 47
        }
      },
      "source": [
        "from bokeh.models import ColumnDataSource, LabelSet\n",
        "from bokeh.plotting import figure, show, output_file\n",
        "from bokeh.io import output_notebook\n",
        "output_notebook()"
      ],
      "execution_count": 0,
      "outputs": [
        {
          "output_type": "display_data",
          "data": {
            "text/html": [
              "\n",
              "    <div class=\"bk-root\">\n",
              "        <a href=\"https://bokeh.pydata.org\" target=\"_blank\" class=\"bk-logo bk-logo-small bk-logo-notebook\"></a>\n",
              "        <span id=\"1001\">Loading BokehJS ...</span>\n",
              "    </div>"
            ]
          },
          "metadata": {
            "tags": []
          }
        },
        {
          "output_type": "display_data",
          "data": {
            "application/javascript": [
              "\n",
              "(function(root) {\n",
              "  function now() {\n",
              "    return new Date();\n",
              "  }\n",
              "\n",
              "  var force = true;\n",
              "\n",
              "  if (typeof (root._bokeh_onload_callbacks) === \"undefined\" || force === true) {\n",
              "    root._bokeh_onload_callbacks = [];\n",
              "    root._bokeh_is_loading = undefined;\n",
              "  }\n",
              "\n",
              "  var JS_MIME_TYPE = 'application/javascript';\n",
              "  var HTML_MIME_TYPE = 'text/html';\n",
              "  var EXEC_MIME_TYPE = 'application/vnd.bokehjs_exec.v0+json';\n",
              "  var CLASS_NAME = 'output_bokeh rendered_html';\n",
              "\n",
              "  /**\n",
              "   * Render data to the DOM node\n",
              "   */\n",
              "  function render(props, node) {\n",
              "    var script = document.createElement(\"script\");\n",
              "    node.appendChild(script);\n",
              "  }\n",
              "\n",
              "  /**\n",
              "   * Handle when an output is cleared or removed\n",
              "   */\n",
              "  function handleClearOutput(event, handle) {\n",
              "    var cell = handle.cell;\n",
              "\n",
              "    var id = cell.output_area._bokeh_element_id;\n",
              "    var server_id = cell.output_area._bokeh_server_id;\n",
              "    // Clean up Bokeh references\n",
              "    if (id != null && id in Bokeh.index) {\n",
              "      Bokeh.index[id].model.document.clear();\n",
              "      delete Bokeh.index[id];\n",
              "    }\n",
              "\n",
              "    if (server_id !== undefined) {\n",
              "      // Clean up Bokeh references\n",
              "      var cmd = \"from bokeh.io.state import curstate; print(curstate().uuid_to_server['\" + server_id + \"'].get_sessions()[0].document.roots[0]._id)\";\n",
              "      cell.notebook.kernel.execute(cmd, {\n",
              "        iopub: {\n",
              "          output: function(msg) {\n",
              "            var id = msg.content.text.trim();\n",
              "            if (id in Bokeh.index) {\n",
              "              Bokeh.index[id].model.document.clear();\n",
              "              delete Bokeh.index[id];\n",
              "            }\n",
              "          }\n",
              "        }\n",
              "      });\n",
              "      // Destroy server and session\n",
              "      var cmd = \"import bokeh.io.notebook as ion; ion.destroy_server('\" + server_id + \"')\";\n",
              "      cell.notebook.kernel.execute(cmd);\n",
              "    }\n",
              "  }\n",
              "\n",
              "  /**\n",
              "   * Handle when a new output is added\n",
              "   */\n",
              "  function handleAddOutput(event, handle) {\n",
              "    var output_area = handle.output_area;\n",
              "    var output = handle.output;\n",
              "\n",
              "    // limit handleAddOutput to display_data with EXEC_MIME_TYPE content only\n",
              "    if ((output.output_type != \"display_data\") || (!output.data.hasOwnProperty(EXEC_MIME_TYPE))) {\n",
              "      return\n",
              "    }\n",
              "\n",
              "    var toinsert = output_area.element.find(\".\" + CLASS_NAME.split(' ')[0]);\n",
              "\n",
              "    if (output.metadata[EXEC_MIME_TYPE][\"id\"] !== undefined) {\n",
              "      toinsert[toinsert.length - 1].firstChild.textContent = output.data[JS_MIME_TYPE];\n",
              "      // store reference to embed id on output_area\n",
              "      output_area._bokeh_element_id = output.metadata[EXEC_MIME_TYPE][\"id\"];\n",
              "    }\n",
              "    if (output.metadata[EXEC_MIME_TYPE][\"server_id\"] !== undefined) {\n",
              "      var bk_div = document.createElement(\"div\");\n",
              "      bk_div.innerHTML = output.data[HTML_MIME_TYPE];\n",
              "      var script_attrs = bk_div.children[0].attributes;\n",
              "      for (var i = 0; i < script_attrs.length; i++) {\n",
              "        toinsert[toinsert.length - 1].firstChild.setAttribute(script_attrs[i].name, script_attrs[i].value);\n",
              "      }\n",
              "      // store reference to server id on output_area\n",
              "      output_area._bokeh_server_id = output.metadata[EXEC_MIME_TYPE][\"server_id\"];\n",
              "    }\n",
              "  }\n",
              "\n",
              "  function register_renderer(events, OutputArea) {\n",
              "\n",
              "    function append_mime(data, metadata, element) {\n",
              "      // create a DOM node to render to\n",
              "      var toinsert = this.create_output_subarea(\n",
              "        metadata,\n",
              "        CLASS_NAME,\n",
              "        EXEC_MIME_TYPE\n",
              "      );\n",
              "      this.keyboard_manager.register_events(toinsert);\n",
              "      // Render to node\n",
              "      var props = {data: data, metadata: metadata[EXEC_MIME_TYPE]};\n",
              "      render(props, toinsert[toinsert.length - 1]);\n",
              "      element.append(toinsert);\n",
              "      return toinsert\n",
              "    }\n",
              "\n",
              "    /* Handle when an output is cleared or removed */\n",
              "    events.on('clear_output.CodeCell', handleClearOutput);\n",
              "    events.on('delete.Cell', handleClearOutput);\n",
              "\n",
              "    /* Handle when a new output is added */\n",
              "    events.on('output_added.OutputArea', handleAddOutput);\n",
              "\n",
              "    /**\n",
              "     * Register the mime type and append_mime function with output_area\n",
              "     */\n",
              "    OutputArea.prototype.register_mime_type(EXEC_MIME_TYPE, append_mime, {\n",
              "      /* Is output safe? */\n",
              "      safe: true,\n",
              "      /* Index of renderer in `output_area.display_order` */\n",
              "      index: 0\n",
              "    });\n",
              "  }\n",
              "\n",
              "  // register the mime type if in Jupyter Notebook environment and previously unregistered\n",
              "  if (root.Jupyter !== undefined) {\n",
              "    var events = require('base/js/events');\n",
              "    var OutputArea = require('notebook/js/outputarea').OutputArea;\n",
              "\n",
              "    if (OutputArea.prototype.mime_types().indexOf(EXEC_MIME_TYPE) == -1) {\n",
              "      register_renderer(events, OutputArea);\n",
              "    }\n",
              "  }\n",
              "\n",
              "  \n",
              "  if (typeof (root._bokeh_timeout) === \"undefined\" || force === true) {\n",
              "    root._bokeh_timeout = Date.now() + 5000;\n",
              "    root._bokeh_failed_load = false;\n",
              "  }\n",
              "\n",
              "  var NB_LOAD_WARNING = {'data': {'text/html':\n",
              "     \"<div style='background-color: #fdd'>\\n\"+\n",
              "     \"<p>\\n\"+\n",
              "     \"BokehJS does not appear to have successfully loaded. If loading BokehJS from CDN, this \\n\"+\n",
              "     \"may be due to a slow or bad network connection. Possible fixes:\\n\"+\n",
              "     \"</p>\\n\"+\n",
              "     \"<ul>\\n\"+\n",
              "     \"<li>re-rerun `output_notebook()` to attempt to load from CDN again, or</li>\\n\"+\n",
              "     \"<li>use INLINE resources instead, as so:</li>\\n\"+\n",
              "     \"</ul>\\n\"+\n",
              "     \"<code>\\n\"+\n",
              "     \"from bokeh.resources import INLINE\\n\"+\n",
              "     \"output_notebook(resources=INLINE)\\n\"+\n",
              "     \"</code>\\n\"+\n",
              "     \"</div>\"}};\n",
              "\n",
              "  function display_loaded() {\n",
              "    var el = document.getElementById(\"1001\");\n",
              "    if (el != null) {\n",
              "      el.textContent = \"BokehJS is loading...\";\n",
              "    }\n",
              "    if (root.Bokeh !== undefined) {\n",
              "      if (el != null) {\n",
              "        el.textContent = \"BokehJS \" + root.Bokeh.version + \" successfully loaded.\";\n",
              "      }\n",
              "    } else if (Date.now() < root._bokeh_timeout) {\n",
              "      setTimeout(display_loaded, 100)\n",
              "    }\n",
              "  }\n",
              "\n",
              "\n",
              "  function run_callbacks() {\n",
              "    try {\n",
              "      root._bokeh_onload_callbacks.forEach(function(callback) { callback() });\n",
              "    }\n",
              "    finally {\n",
              "      delete root._bokeh_onload_callbacks\n",
              "    }\n",
              "    console.info(\"Bokeh: all callbacks have finished\");\n",
              "  }\n",
              "\n",
              "  function load_libs(js_urls, callback) {\n",
              "    root._bokeh_onload_callbacks.push(callback);\n",
              "    if (root._bokeh_is_loading > 0) {\n",
              "      console.log(\"Bokeh: BokehJS is being loaded, scheduling callback at\", now());\n",
              "      return null;\n",
              "    }\n",
              "    if (js_urls == null || js_urls.length === 0) {\n",
              "      run_callbacks();\n",
              "      return null;\n",
              "    }\n",
              "    console.log(\"Bokeh: BokehJS not loaded, scheduling load and callback at\", now());\n",
              "    root._bokeh_is_loading = js_urls.length;\n",
              "    for (var i = 0; i < js_urls.length; i++) {\n",
              "      var url = js_urls[i];\n",
              "      var s = document.createElement('script');\n",
              "      s.src = url;\n",
              "      s.async = false;\n",
              "      s.onreadystatechange = s.onload = function() {\n",
              "        root._bokeh_is_loading--;\n",
              "        if (root._bokeh_is_loading === 0) {\n",
              "          console.log(\"Bokeh: all BokehJS libraries loaded\");\n",
              "          run_callbacks()\n",
              "        }\n",
              "      };\n",
              "      s.onerror = function() {\n",
              "        console.warn(\"failed to load library \" + url);\n",
              "      };\n",
              "      console.log(\"Bokeh: injecting script tag for BokehJS library: \", url);\n",
              "      document.getElementsByTagName(\"head\")[0].appendChild(s);\n",
              "    }\n",
              "  };var element = document.getElementById(\"1001\");\n",
              "  if (element == null) {\n",
              "    console.log(\"Bokeh: ERROR: autoload.js configured with elementid '1001' but no matching script tag was found. \")\n",
              "    return false;\n",
              "  }\n",
              "\n",
              "  var js_urls = [\"https://cdn.pydata.org/bokeh/release/bokeh-1.0.2.min.js\", \"https://cdn.pydata.org/bokeh/release/bokeh-widgets-1.0.2.min.js\", \"https://cdn.pydata.org/bokeh/release/bokeh-tables-1.0.2.min.js\", \"https://cdn.pydata.org/bokeh/release/bokeh-gl-1.0.2.min.js\"];\n",
              "\n",
              "  var inline_js = [\n",
              "    function(Bokeh) {\n",
              "      Bokeh.set_log_level(\"info\");\n",
              "    },\n",
              "    \n",
              "    function(Bokeh) {\n",
              "      \n",
              "    },\n",
              "    function(Bokeh) {\n",
              "      console.log(\"Bokeh: injecting CSS: https://cdn.pydata.org/bokeh/release/bokeh-1.0.2.min.css\");\n",
              "      Bokeh.embed.inject_css(\"https://cdn.pydata.org/bokeh/release/bokeh-1.0.2.min.css\");\n",
              "      console.log(\"Bokeh: injecting CSS: https://cdn.pydata.org/bokeh/release/bokeh-widgets-1.0.2.min.css\");\n",
              "      Bokeh.embed.inject_css(\"https://cdn.pydata.org/bokeh/release/bokeh-widgets-1.0.2.min.css\");\n",
              "      console.log(\"Bokeh: injecting CSS: https://cdn.pydata.org/bokeh/release/bokeh-tables-1.0.2.min.css\");\n",
              "      Bokeh.embed.inject_css(\"https://cdn.pydata.org/bokeh/release/bokeh-tables-1.0.2.min.css\");\n",
              "    }\n",
              "  ];\n",
              "\n",
              "  function run_inline_js() {\n",
              "    \n",
              "    if ((root.Bokeh !== undefined) || (force === true)) {\n",
              "      for (var i = 0; i < inline_js.length; i++) {\n",
              "        inline_js[i].call(root, root.Bokeh);\n",
              "      }if (force === true) {\n",
              "        display_loaded();\n",
              "      }} else if (Date.now() < root._bokeh_timeout) {\n",
              "      setTimeout(run_inline_js, 100);\n",
              "    } else if (!root._bokeh_failed_load) {\n",
              "      console.log(\"Bokeh: BokehJS failed to load within specified timeout.\");\n",
              "      root._bokeh_failed_load = true;\n",
              "    } else if (force !== true) {\n",
              "      var cell = $(document.getElementById(\"1001\")).parents('.cell').data().cell;\n",
              "      cell.output_area.append_execute_result(NB_LOAD_WARNING)\n",
              "    }\n",
              "\n",
              "  }\n",
              "\n",
              "  if (root._bokeh_is_loading === 0) {\n",
              "    console.log(\"Bokeh: BokehJS loaded, going straight to plotting\");\n",
              "    run_inline_js();\n",
              "  } else {\n",
              "    load_libs(js_urls, function() {\n",
              "      console.log(\"Bokeh: BokehJS plotting callback run at\", now());\n",
              "      run_inline_js();\n",
              "    });\n",
              "  }\n",
              "}(window));"
            ],
            "application/vnd.bokehjs_load.v0+json": "\n(function(root) {\n  function now() {\n    return new Date();\n  }\n\n  var force = true;\n\n  if (typeof (root._bokeh_onload_callbacks) === \"undefined\" || force === true) {\n    root._bokeh_onload_callbacks = [];\n    root._bokeh_is_loading = undefined;\n  }\n\n  \n\n  \n  if (typeof (root._bokeh_timeout) === \"undefined\" || force === true) {\n    root._bokeh_timeout = Date.now() + 5000;\n    root._bokeh_failed_load = false;\n  }\n\n  var NB_LOAD_WARNING = {'data': {'text/html':\n     \"<div style='background-color: #fdd'>\\n\"+\n     \"<p>\\n\"+\n     \"BokehJS does not appear to have successfully loaded. If loading BokehJS from CDN, this \\n\"+\n     \"may be due to a slow or bad network connection. Possible fixes:\\n\"+\n     \"</p>\\n\"+\n     \"<ul>\\n\"+\n     \"<li>re-rerun `output_notebook()` to attempt to load from CDN again, or</li>\\n\"+\n     \"<li>use INLINE resources instead, as so:</li>\\n\"+\n     \"</ul>\\n\"+\n     \"<code>\\n\"+\n     \"from bokeh.resources import INLINE\\n\"+\n     \"output_notebook(resources=INLINE)\\n\"+\n     \"</code>\\n\"+\n     \"</div>\"}};\n\n  function display_loaded() {\n    var el = document.getElementById(\"1001\");\n    if (el != null) {\n      el.textContent = \"BokehJS is loading...\";\n    }\n    if (root.Bokeh !== undefined) {\n      if (el != null) {\n        el.textContent = \"BokehJS \" + root.Bokeh.version + \" successfully loaded.\";\n      }\n    } else if (Date.now() < root._bokeh_timeout) {\n      setTimeout(display_loaded, 100)\n    }\n  }\n\n\n  function run_callbacks() {\n    try {\n      root._bokeh_onload_callbacks.forEach(function(callback) { callback() });\n    }\n    finally {\n      delete root._bokeh_onload_callbacks\n    }\n    console.info(\"Bokeh: all callbacks have finished\");\n  }\n\n  function load_libs(js_urls, callback) {\n    root._bokeh_onload_callbacks.push(callback);\n    if (root._bokeh_is_loading > 0) {\n      console.log(\"Bokeh: BokehJS is being loaded, scheduling callback at\", now());\n      return null;\n    }\n    if (js_urls == null || js_urls.length === 0) {\n      run_callbacks();\n      return null;\n    }\n    console.log(\"Bokeh: BokehJS not loaded, scheduling load and callback at\", now());\n    root._bokeh_is_loading = js_urls.length;\n    for (var i = 0; i < js_urls.length; i++) {\n      var url = js_urls[i];\n      var s = document.createElement('script');\n      s.src = url;\n      s.async = false;\n      s.onreadystatechange = s.onload = function() {\n        root._bokeh_is_loading--;\n        if (root._bokeh_is_loading === 0) {\n          console.log(\"Bokeh: all BokehJS libraries loaded\");\n          run_callbacks()\n        }\n      };\n      s.onerror = function() {\n        console.warn(\"failed to load library \" + url);\n      };\n      console.log(\"Bokeh: injecting script tag for BokehJS library: \", url);\n      document.getElementsByTagName(\"head\")[0].appendChild(s);\n    }\n  };var element = document.getElementById(\"1001\");\n  if (element == null) {\n    console.log(\"Bokeh: ERROR: autoload.js configured with elementid '1001' but no matching script tag was found. \")\n    return false;\n  }\n\n  var js_urls = [\"https://cdn.pydata.org/bokeh/release/bokeh-1.0.2.min.js\", \"https://cdn.pydata.org/bokeh/release/bokeh-widgets-1.0.2.min.js\", \"https://cdn.pydata.org/bokeh/release/bokeh-tables-1.0.2.min.js\", \"https://cdn.pydata.org/bokeh/release/bokeh-gl-1.0.2.min.js\"];\n\n  var inline_js = [\n    function(Bokeh) {\n      Bokeh.set_log_level(\"info\");\n    },\n    \n    function(Bokeh) {\n      \n    },\n    function(Bokeh) {\n      console.log(\"Bokeh: injecting CSS: https://cdn.pydata.org/bokeh/release/bokeh-1.0.2.min.css\");\n      Bokeh.embed.inject_css(\"https://cdn.pydata.org/bokeh/release/bokeh-1.0.2.min.css\");\n      console.log(\"Bokeh: injecting CSS: https://cdn.pydata.org/bokeh/release/bokeh-widgets-1.0.2.min.css\");\n      Bokeh.embed.inject_css(\"https://cdn.pydata.org/bokeh/release/bokeh-widgets-1.0.2.min.css\");\n      console.log(\"Bokeh: injecting CSS: https://cdn.pydata.org/bokeh/release/bokeh-tables-1.0.2.min.css\");\n      Bokeh.embed.inject_css(\"https://cdn.pydata.org/bokeh/release/bokeh-tables-1.0.2.min.css\");\n    }\n  ];\n\n  function run_inline_js() {\n    \n    if ((root.Bokeh !== undefined) || (force === true)) {\n      for (var i = 0; i < inline_js.length; i++) {\n        inline_js[i].call(root, root.Bokeh);\n      }if (force === true) {\n        display_loaded();\n      }} else if (Date.now() < root._bokeh_timeout) {\n      setTimeout(run_inline_js, 100);\n    } else if (!root._bokeh_failed_load) {\n      console.log(\"Bokeh: BokehJS failed to load within specified timeout.\");\n      root._bokeh_failed_load = true;\n    } else if (force !== true) {\n      var cell = $(document.getElementById(\"1001\")).parents('.cell').data().cell;\n      cell.output_area.append_execute_result(NB_LOAD_WARNING)\n    }\n\n  }\n\n  if (root._bokeh_is_loading === 0) {\n    console.log(\"Bokeh: BokehJS loaded, going straight to plotting\");\n    run_inline_js();\n  } else {\n    load_libs(js_urls, function() {\n      console.log(\"Bokeh: BokehJS plotting callback run at\", now());\n      run_inline_js();\n    });\n  }\n}(window));"
          },
          "metadata": {
            "tags": []
          }
        }
      ]
    },
    {
      "cell_type": "code",
      "metadata": {
        "id": "Tgzl0-SNcn6W",
        "colab_type": "code",
        "colab": {}
      },
      "source": [
        "#!pip install lxml"
      ],
      "execution_count": 0,
      "outputs": []
    },
    {
      "cell_type": "code",
      "metadata": {
        "id": "hq8DsZZKcX4P",
        "colab_type": "code",
        "colab": {}
      },
      "source": [
        "import urllib.request\n",
        "import zipfile\n",
        "import lxml.etree"
      ],
      "execution_count": 0,
      "outputs": []
    },
    {
      "cell_type": "code",
      "metadata": {
        "id": "LKSV5zhnci5m",
        "colab_type": "code",
        "colab": {}
      },
      "source": [
        "# Download the dataset if it's not already there: this may take a minute as it is 75MB\n",
        "if not os.path.isfile('ted_en-20160408.zip'):\n",
        "    urllib.request.urlretrieve(\"https://wit3.fbk.eu/get.php?path=XML_releases/xml/ted_en-20160408.zip&filename=ted_en-20160408.zip\", filename=\"ted_en-20160408.zip\")"
      ],
      "execution_count": 0,
      "outputs": []
    },
    {
      "cell_type": "code",
      "metadata": {
        "id": "w_7VDd_3clY0",
        "colab_type": "code",
        "colab": {}
      },
      "source": [
        "# For now, we're only interested in the subtitle text, so let's extract that from the XML:\n",
        "with zipfile.ZipFile('ted_en-20160408.zip', 'r') as z:\n",
        "    doc = lxml.etree.parse(z.open('ted_en-20160408.xml', 'r'))\n",
        "input_text = '\\n'.join(doc.xpath('//content/text()'))\n",
        "del doc"
      ],
      "execution_count": 0,
      "outputs": []
    },
    {
      "cell_type": "code",
      "metadata": {
        "id": "s8TJvh4ccqAK",
        "colab_type": "code",
        "outputId": "ea1d4a7c-3ef2-4450-de2e-7abf819f5087",
        "colab": {
          "base_uri": "https://localhost:8080/",
          "height": 55
        }
      },
      "source": [
        "i = input_text.find(\"Hyowon Gweon: See this?\")\n",
        "input_text[i-20:i+150]"
      ],
      "execution_count": 0,
      "outputs": [
        {
          "output_type": "execute_result",
          "data": {
            "text/plain": [
              "' baby does.\\n(Video) Hyowon Gweon: See this? (Ball squeaks) Did you see that? (Ball squeaks) Cool. See this one? (Ball squeaks) Wow.\\nLaura Schulz: Told you. (Laughs)\\n(Vide'"
            ]
          },
          "metadata": {
            "tags": []
          },
          "execution_count": 7
        }
      ]
    },
    {
      "cell_type": "code",
      "metadata": {
        "id": "8UaDIXPMctaS",
        "colab_type": "code",
        "colab": {}
      },
      "source": [
        "input_text_noparens = re.sub(r'\\([^)]*\\)', '', input_text)"
      ],
      "execution_count": 0,
      "outputs": []
    },
    {
      "cell_type": "code",
      "metadata": {
        "id": "MrbUydO_c0-Q",
        "colab_type": "code",
        "outputId": "0e00d5ac-314c-4ffc-99c4-2ffd687482e2",
        "colab": {
          "base_uri": "https://localhost:8080/",
          "height": 55
        }
      },
      "source": [
        "i = input_text_noparens.find(\"Hyowon Gweon: See this?\")\n",
        "input_text_noparens[i-20:i+150]"
      ],
      "execution_count": 0,
      "outputs": [
        {
          "output_type": "execute_result",
          "data": {
            "text/plain": [
              "\"hat the baby does.\\n Hyowon Gweon: See this?  Did you see that?  Cool. See this one?  Wow.\\nLaura Schulz: Told you. \\n HG: See this one?  Hey Clara, this one's for you. You \""
            ]
          },
          "metadata": {
            "tags": []
          },
          "execution_count": 9
        }
      ]
    },
    {
      "cell_type": "markdown",
      "metadata": {
        "id": "kmhqpWogdKdi",
        "colab_type": "text"
      },
      "source": [
        "Now, let's attempt to remove speakers' names that occur at the beginning of a line, by deleting pieces of the form \"<up to 20 characters>:\", as shown in this example. Of course, this is an imperfect heuristic."
      ]
    },
    {
      "cell_type": "code",
      "metadata": {
        "id": "j_tgFKktc3Nt",
        "colab_type": "code",
        "outputId": "0fe8af60-2984-48d7-b6f0-2d3b2bc13e4e",
        "colab": {
          "base_uri": "https://localhost:8080/",
          "height": 124
        }
      },
      "source": [
        "sentences_strings_ted = []\n",
        "for line in input_text_noparens.split('\\n'):\n",
        "    m = re.match(r'^(?:(?P<precolon>[^:]{,20}):)?(?P<postcolon>.*)$', line)\n",
        "    sentences_strings_ted.extend(sent for sent in m.groupdict()['postcolon'].split('.') if sent)\n",
        "\n",
        "# Uncomment if you need to save some RAM: these strings are about 50MB.\n",
        "# del input_text, input_text_noparens\n",
        "\n",
        "# Let's view the first few:\n",
        "sentences_strings_ted[:5]"
      ],
      "execution_count": 0,
      "outputs": [
        {
          "output_type": "execute_result",
          "data": {
            "text/plain": [
              "[\"Here are two reasons companies fail: they only do more of the same, or they only do what's new\",\n",
              " 'To me the real, real solution to quality growth is figuring out the balance between two activities: exploration and exploitation',\n",
              " ' Both are necessary, but it can be too much of a good thing',\n",
              " 'Consider Facit',\n",
              " \" I'm actually old enough to remember them\"]"
            ]
          },
          "metadata": {
            "tags": []
          },
          "execution_count": 10
        }
      ]
    },
    {
      "cell_type": "markdown",
      "metadata": {
        "id": "AVn2WQzDdRTD",
        "colab_type": "text"
      },
      "source": [
        "\n",
        "Now that we have sentences, we're ready to tokenize each of them into words. This tokenization is imperfect, of course. For instance, how many tokens is \"can't\", and where/how do we split it? We'll take the simplest naive approach of splitting on spaces. Before splitting, we remove non-alphanumeric characters, such as punctuation. You may want to consider the following question: why do we replace these characters with spaces rather than deleting them? Think of a case where this yields a different answer."
      ]
    },
    {
      "cell_type": "code",
      "metadata": {
        "id": "t2Q0y0F0dIJT",
        "colab_type": "code",
        "colab": {}
      },
      "source": [
        "sentences_ted = []\n",
        "for sent_str in sentences_strings_ted:\n",
        "    tokens = re.sub(r\"[^a-z0-9]+\", \" \", sent_str.lower()).split()\n",
        "    sentences_ted.append(tokens)"
      ],
      "execution_count": 0,
      "outputs": []
    },
    {
      "cell_type": "code",
      "metadata": {
        "id": "7wYEWlDldTz7",
        "colab_type": "code",
        "outputId": "44515838-29b5-44f8-b431-af83880249fa",
        "colab": {
          "base_uri": "https://localhost:8080/",
          "height": 35
        }
      },
      "source": [
        "len(sentences_ted), len(sentences_ted[5]), len(sentences_ted[1])"
      ],
      "execution_count": 0,
      "outputs": [
        {
          "output_type": "execute_result",
          "data": {
            "text/plain": [
              "(266694, 5, 20)"
            ]
          },
          "metadata": {
            "tags": []
          },
          "execution_count": 14
        }
      ]
    },
    {
      "cell_type": "markdown",
      "metadata": {
        "id": "GDH79piEdrSx",
        "colab_type": "text"
      },
      "source": [
        "If you store the counts of the top 1000 words in a list called counts_ted_top1000, the code below will plot the histogram requested in the writeup."
      ]
    },
    {
      "cell_type": "code",
      "metadata": {
        "id": "RIdS3JPDdhre",
        "colab_type": "code",
        "colab": {}
      },
      "source": [
        "from collections import Counter"
      ],
      "execution_count": 0,
      "outputs": []
    },
    {
      "cell_type": "code",
      "metadata": {
        "id": "qFw1KMsGeTE8",
        "colab_type": "code",
        "colab": {}
      },
      "source": [
        "freq = Counter(p for o in sentences_ted for p in o)\n",
        "itos = [o for o, c in freq.most_common()]"
      ],
      "execution_count": 0,
      "outputs": []
    },
    {
      "cell_type": "code",
      "metadata": {
        "id": "cPiU50jne051",
        "colab_type": "code",
        "outputId": "8571ae7b-df4a-4c65-ea58-3ff0a9a90d98",
        "colab": {
          "base_uri": "https://localhost:8080/",
          "height": 104
        }
      },
      "source": [
        "counts_ted_top1000 = freq.most_common(1000); counts_ted_top1000[:5]"
      ],
      "execution_count": 0,
      "outputs": [
        {
          "output_type": "execute_result",
          "data": {
            "text/plain": [
              "[('the', 207748),\n",
              " ('and', 149305),\n",
              " ('to', 125169),\n",
              " ('of', 114818),\n",
              " ('a', 105399)]"
            ]
          },
          "metadata": {
            "tags": []
          },
          "execution_count": 69
        }
      ]
    },
    {
      "cell_type": "code",
      "metadata": {
        "id": "GRIsmvMFjepz",
        "colab_type": "code",
        "colab": {}
      },
      "source": [
        "import collections\n",
        "count = collections.Counter()\n",
        "for sentence in sentences_ted:\n",
        "    for word in sentence:\n",
        "        count[word] += 1\n",
        "words_top_ted = [token_count_pair[0] for token_count_pair in count.most_common(1000)]\n",
        "counts_ted_top1000 = [token_count_pair[1] for token_count_pair in count.most_common(1000)]"
      ],
      "execution_count": 0,
      "outputs": []
    },
    {
      "cell_type": "code",
      "metadata": {
        "id": "Ezqilfdxjky9",
        "colab_type": "code",
        "outputId": "a44b631f-7be1-4e5a-ff21-3ea4fb097df8",
        "colab": {
          "base_uri": "https://localhost:8080/",
          "height": 35
        }
      },
      "source": [
        "counts_ted_top1000[:5], words_top_ted[:5]"
      ],
      "execution_count": 0,
      "outputs": [
        {
          "output_type": "execute_result",
          "data": {
            "text/plain": [
              "([207748, 149305, 125169, 114818, 105399], ['the', 'and', 'to', 'of', 'a'])"
            ]
          },
          "metadata": {
            "tags": []
          },
          "execution_count": 65
        }
      ]
    },
    {
      "cell_type": "code",
      "metadata": {
        "id": "YtFwrwCaf0-G",
        "colab_type": "code",
        "outputId": "080ba643-092c-4d53-fd8c-9e59470f7b72",
        "colab": {
          "base_uri": "https://localhost:8080/",
          "height": 17
        }
      },
      "source": [
        "hist, edges = np.histogram(counts_ted_top1000, density=True, bins=100, normed=True)\n",
        "\n",
        "p = figure(tools=\"pan,wheel_zoom,reset,save\",\n",
        "           toolbar_location=\"above\",\n",
        "           title=\"Top-1000 words distribution\")\n",
        "p.quad(top=hist, bottom=0, left=edges[:-1], right=edges[1:], line_color=\"#555555\")\n",
        "show(p)"
      ],
      "execution_count": 0,
      "outputs": [
        {
          "output_type": "display_data",
          "data": {
            "text/html": [
              "\n",
              "\n",
              "\n",
              "\n",
              "\n",
              "\n",
              "  <div class=\"bk-root\" id=\"9cc80eb0-0b80-4451-947c-c80f96bda417\"></div>\n"
            ]
          },
          "metadata": {
            "tags": []
          }
        },
        {
          "output_type": "display_data",
          "data": {
            "application/javascript": [
              "(function(root) {\n",
              "  function embed_document(root) {\n",
              "    \n",
              "  var docs_json = {\"305eadc7-6f4c-4d7b-b042-6a096263a1fc\":{\"roots\":{\"references\":[{\"attributes\":{\"below\":[{\"id\":\"1391\",\"type\":\"LinearAxis\"}],\"left\":[{\"id\":\"1396\",\"type\":\"LinearAxis\"}],\"renderers\":[{\"id\":\"1391\",\"type\":\"LinearAxis\"},{\"id\":\"1395\",\"type\":\"Grid\"},{\"id\":\"1396\",\"type\":\"LinearAxis\"},{\"id\":\"1400\",\"type\":\"Grid\"},{\"id\":\"1413\",\"type\":\"GlyphRenderer\"}],\"title\":{\"id\":\"1380\",\"type\":\"Title\"},\"toolbar\":{\"id\":\"1405\",\"type\":\"Toolbar\"},\"toolbar_location\":\"above\",\"x_range\":{\"id\":\"1383\",\"type\":\"DataRange1d\"},\"x_scale\":{\"id\":\"1387\",\"type\":\"LinearScale\"},\"y_range\":{\"id\":\"1385\",\"type\":\"DataRange1d\"},\"y_scale\":{\"id\":\"1389\",\"type\":\"LinearScale\"}},\"id\":\"1381\",\"subtype\":\"Figure\",\"type\":\"Plot\"},{\"attributes\":{\"active_drag\":\"auto\",\"active_inspect\":\"auto\",\"active_multi\":null,\"active_scroll\":\"auto\",\"active_tap\":\"auto\",\"tools\":[{\"id\":\"1401\",\"type\":\"PanTool\"},{\"id\":\"1402\",\"type\":\"WheelZoomTool\"},{\"id\":\"1403\",\"type\":\"ResetTool\"},{\"id\":\"1404\",\"type\":\"SaveTool\"}]},\"id\":\"1405\",\"type\":\"Toolbar\"},{\"attributes\":{},\"id\":\"1403\",\"type\":\"ResetTool\"},{\"attributes\":{},\"id\":\"1387\",\"type\":\"LinearScale\"},{\"attributes\":{\"callback\":null,\"data\":{\"left\":{\"__ndarray__\":\"AAAAAABAeUB7FK5H4VqjQHsUrkfhxrFAuB6F61HguUB7FK5H4fzAQJqZmZmZCcVAuB6F61EWyUDXo3A9CiPNQHsUrkfhl9BACtejcD2e0kCamZmZmaTUQClcj8L1qtZAuB6F61Gx2EBI4XoUrrfaQNejcD0KvtxAZ2ZmZmbE3kB7FK5HYWXgQMP1KFyPaOFACtejcL1r4kBSuB6F627jQJqZmZkZcuRA4XoUrkd15UApXI/CdXjmQHE9Cteje+dAuB6F69F+6EAAAAAAAILpQEjhehQuhepAkML1KFyI60DXo3A9iovsQB+F61G4ju1AZ2ZmZuaR7kCuR+F6FJXvQHsUrkchTPBAH4XrUbjN8EDD9ShcT0/xQGdmZmbm0PFACtejcH1S8kCuR+F6FNTyQFK4HoWrVfNA9ihcj0LX80CamZmZ2Vj0QD4K16Nw2vRA4XoUrgdc9UCF61G4nt31QClcj8I1X/ZAzczMzMzg9kBxPQrXY2L3QBWuR+H64/dAuB6F65Fl+EBcj8L1KOf4QAAAAADAaPlApHA9Clfq+UBI4XoU7mv6QOxRuB6F7fpAkML1KBxv+0AzMzMzs/D7QNejcD1KcvxAexSuR+Hz/EAfhetReHX9QMP1KFwP9/1AZ2ZmZqZ4/kAK16NwPfr+QK5H4XrUe/9AUrgehWv9/0B7FK5HgT8AQc3MzMxMgABBH4XrURjBAEFxPQrX4wEBQcP1KFyvQgFBFa5H4XqDAUFnZmZmRsQBQbgehesRBQJBCtejcN1FAkFcj8L1qIYCQa5H4Xp0xwJBAAAAAEAIA0FSuB6FC0kDQaRwPQrXiQNB9ihcj6LKA0FI4XoUbgsEQZqZmZk5TARB7FG4HgWNBEE+Ctej0M0EQZDC9SicDgVB4XoUrmdPBUEzMzMzM5AFQYXrUbj+0AVB16NwPcoRBkEpXI/ClVIGQXsUrkdhkwZBzczMzCzUBkEfhetR+BQHQXE9CtfDVQdBw/UoXI+WB0EVrkfhWtcHQWdmZmYmGAhBuB6F6/FYCEEK16NwvZkIQVyPwvWI2ghBrkfhelQbCUE=\",\"dtype\":\"float64\",\"shape\":[100]},\"right\":{\"__ndarray__\":\"exSuR+Fao0B7FK5H4caxQLgehetR4LlAexSuR+H8wECamZmZmQnFQLgehetRFslA16NwPQojzUB7FK5H4ZfQQArXo3A9ntJAmpmZmZmk1EApXI/C9arWQLgehetRsdhASOF6FK632kDXo3A9Cr7cQGdmZmZmxN5AexSuR2Fl4EDD9Shcj2jhQArXo3C9a+JAUrgehetu40CamZmZGXLkQOF6FK5HdeVAKVyPwnV45kBxPQrXo3vnQLgehevRfuhAAAAAAACC6UBI4XoULoXqQJDC9ShciOtA16NwPYqL7EAfhetRuI7tQGdmZmbmke5ArkfhehSV70B7FK5HIUzwQB+F61G4zfBAw/UoXE9P8UBnZmZm5tDxQArXo3B9UvJArkfhehTU8kBSuB6Fq1XzQPYoXI9C1/NAmpmZmdlY9EA+CtejcNr0QOF6FK4HXPVAhetRuJ7d9UApXI/CNV/2QM3MzMzM4PZAcT0K12Ni90AVrkfh+uP3QLgeheuRZfhAXI/C9Sjn+EAAAAAAwGj5QKRwPQpX6vlASOF6FO5r+kDsUbgehe36QJDC9Sgcb/tAMzMzM7Pw+0DXo3A9SnL8QHsUrkfh8/xAH4XrUXh1/UDD9ShcD/f9QGdmZmameP5ACtejcD36/kCuR+F61Hv/QFK4HoVr/f9AexSuR4E/AEHNzMzMTIAAQR+F61EYwQBBcT0K1+MBAUHD9Shcr0IBQRWuR+F6gwFBZ2ZmZkbEAUG4HoXrEQUCQQrXo3DdRQJBXI/C9aiGAkGuR+F6dMcCQQAAAABACANBUrgehQtJA0GkcD0K14kDQfYoXI+iygNBSOF6FG4LBEGamZmZOUwEQexRuB4FjQRBPgrXo9DNBEGQwvUonA4FQeF6FK5nTwVBMzMzMzOQBUGF61G4/tAFQdejcD3KEQZBKVyPwpVSBkF7FK5HYZMGQc3MzMws1AZBH4XrUfgUB0FxPQrXw1UHQcP1KFyPlgdBFa5H4VrXB0FnZmZmJhgIQbgehevxWAhBCtejcL2ZCEFcj8L1iNoIQa5H4XpUGwlBAAAAACBcCUE=\",\"dtype\":\"float64\",\"shape\":[100]},\"top\":{\"__ndarray__\":\"50H1zNSBOT/ypb1tgHIBPwsriUb5Uew+zuTFiLI04j78kGUPxTHhPh40R25oQNY+zuTFiLI00j4pPQWW1y7APsTbB2FDRsg+JT0FltcuwD4tPQWW1y6wPi09BZbXLrA+JT0FltcuwD4tPQWW1y6gPiU9BZbXLrA+LT0FltcuoD4AAAAAAAAAADU9BZbXLqA+AAAAAAAAAAAAAAAAAAAAAAAAAAAAAAAAAAAAAAAAAAAAAAAAAAAAADU9BZbXLqA+AAAAAAAAAAAAAAAAAAAAAAAAAAAAAAAANT0FltcuoD4AAAAAAAAAAAAAAAAAAAAANT0FltcuoD4AAAAAAAAAACU9BZbXLqA+AAAAAAAAAAAlPQWW1y6gPkU9BZbXLqA+AAAAAAAAAAAlPQWW1y6gPgAAAAAAAAAAJT0FltcuoD4AAAAAAAAAAAAAAAAAAAAAAAAAAAAAAAAAAAAAAAAAAAAAAAAAAAAAJT0FltcuoD4AAAAAAAAAAAAAAAAAAAAAAAAAAAAAAAAAAAAAAAAAACU9BZbXLqA+AAAAAAAAAAAAAAAAAAAAAAAAAAAAAAAAAAAAAAAAAAAlPQWW1y6gPgAAAAAAAAAAAAAAAAAAAAAAAAAAAAAAAAAAAAAAAAAART0FltcuoD4AAAAAAAAAAAAAAAAAAAAAAAAAAAAAAAAAAAAAAAAAAAAAAAAAAAAAAAAAAAAAAAAAAAAAAAAAAAAAAAAAAAAAAAAAAAAAAAAAAAAAAAAAACU9BZbXLqA+AAAAAAAAAAAAAAAAAAAAAAAAAAAAAAAAAAAAAAAAAAAAAAAAAAAAAAAAAAAAAAAAAAAAAAAAAAAAAAAAAAAAAAAAAAAAAAAAAAAAAAAAAAAAAAAAAAAAAAAAAAAAAAAAAAAAAAAAAAAAAAAAAAAAAAAAAAAAAAAAAAAAAAAAAAAAAAAAAAAAAAAAAAAAAAAAAAAAAAAAAAAAAAAAAAAAAAAAAAAAAAAAAAAAAAAAAAAAAAAAAAAAAAAAAAAAAAAAAAAAAAAAAAAAAAAAAAAAAAAAAAAAAAAAJT0FltcuoD4=\",\"dtype\":\"float64\",\"shape\":[100]}},\"selected\":{\"id\":\"1449\",\"type\":\"Selection\"},\"selection_policy\":{\"id\":\"1448\",\"type\":\"UnionRenderers\"}},\"id\":\"1410\",\"type\":\"ColumnDataSource\"},{\"attributes\":{},\"id\":\"1397\",\"type\":\"BasicTicker\"},{\"attributes\":{\"callback\":null},\"id\":\"1383\",\"type\":\"DataRange1d\"},{\"attributes\":{},\"id\":\"1404\",\"type\":\"SaveTool\"},{\"attributes\":{},\"id\":\"1401\",\"type\":\"PanTool\"},{\"attributes\":{\"formatter\":{\"id\":\"1446\",\"type\":\"BasicTickFormatter\"},\"plot\":{\"id\":\"1381\",\"subtype\":\"Figure\",\"type\":\"Plot\"},\"ticker\":{\"id\":\"1397\",\"type\":\"BasicTicker\"}},\"id\":\"1396\",\"type\":\"LinearAxis\"},{\"attributes\":{\"bottom\":{\"value\":0},\"fill_alpha\":{\"value\":0.1},\"fill_color\":{\"value\":\"#1f77b4\"},\"left\":{\"field\":\"left\"},\"line_alpha\":{\"value\":0.1},\"line_color\":{\"value\":\"#1f77b4\"},\"right\":{\"field\":\"right\"},\"top\":{\"field\":\"top\"}},\"id\":\"1412\",\"type\":\"Quad\"},{\"attributes\":{\"callback\":null},\"id\":\"1385\",\"type\":\"DataRange1d\"},{\"attributes\":{\"formatter\":{\"id\":\"1444\",\"type\":\"BasicTickFormatter\"},\"plot\":{\"id\":\"1381\",\"subtype\":\"Figure\",\"type\":\"Plot\"},\"ticker\":{\"id\":\"1392\",\"type\":\"BasicTicker\"}},\"id\":\"1391\",\"type\":\"LinearAxis\"},{\"attributes\":{},\"id\":\"1446\",\"type\":\"BasicTickFormatter\"},{\"attributes\":{\"source\":{\"id\":\"1410\",\"type\":\"ColumnDataSource\"}},\"id\":\"1414\",\"type\":\"CDSView\"},{\"attributes\":{},\"id\":\"1402\",\"type\":\"WheelZoomTool\"},{\"attributes\":{},\"id\":\"1448\",\"type\":\"UnionRenderers\"},{\"attributes\":{\"plot\":null,\"text\":\"Top-1000 words distribution\"},\"id\":\"1380\",\"type\":\"Title\"},{\"attributes\":{\"dimension\":1,\"plot\":{\"id\":\"1381\",\"subtype\":\"Figure\",\"type\":\"Plot\"},\"ticker\":{\"id\":\"1397\",\"type\":\"BasicTicker\"}},\"id\":\"1400\",\"type\":\"Grid\"},{\"attributes\":{\"bottom\":{\"value\":0},\"fill_color\":{\"value\":\"#1f77b4\"},\"left\":{\"field\":\"left\"},\"line_color\":{\"value\":\"#555555\"},\"right\":{\"field\":\"right\"},\"top\":{\"field\":\"top\"}},\"id\":\"1411\",\"type\":\"Quad\"},{\"attributes\":{\"plot\":{\"id\":\"1381\",\"subtype\":\"Figure\",\"type\":\"Plot\"},\"ticker\":{\"id\":\"1392\",\"type\":\"BasicTicker\"}},\"id\":\"1395\",\"type\":\"Grid\"},{\"attributes\":{\"data_source\":{\"id\":\"1410\",\"type\":\"ColumnDataSource\"},\"glyph\":{\"id\":\"1411\",\"type\":\"Quad\"},\"hover_glyph\":null,\"muted_glyph\":null,\"nonselection_glyph\":{\"id\":\"1412\",\"type\":\"Quad\"},\"selection_glyph\":null,\"view\":{\"id\":\"1414\",\"type\":\"CDSView\"}},\"id\":\"1413\",\"type\":\"GlyphRenderer\"},{\"attributes\":{},\"id\":\"1392\",\"type\":\"BasicTicker\"},{\"attributes\":{},\"id\":\"1449\",\"type\":\"Selection\"},{\"attributes\":{},\"id\":\"1389\",\"type\":\"LinearScale\"},{\"attributes\":{},\"id\":\"1444\",\"type\":\"BasicTickFormatter\"}],\"root_ids\":[\"1381\"]},\"title\":\"Bokeh Application\",\"version\":\"1.0.2\"}};\n",
              "  var render_items = [{\"docid\":\"305eadc7-6f4c-4d7b-b042-6a096263a1fc\",\"roots\":{\"1381\":\"9cc80eb0-0b80-4451-947c-c80f96bda417\"}}];\n",
              "  root.Bokeh.embed.embed_items_notebook(docs_json, render_items);\n",
              "\n",
              "  }\n",
              "  if (root.Bokeh !== undefined) {\n",
              "    embed_document(root);\n",
              "  } else {\n",
              "    var attempts = 0;\n",
              "    var timer = setInterval(function(root) {\n",
              "      if (root.Bokeh !== undefined) {\n",
              "        embed_document(root);\n",
              "        clearInterval(timer);\n",
              "      }\n",
              "      attempts++;\n",
              "      if (attempts > 100) {\n",
              "        console.log(\"Bokeh: ERROR: Unable to run BokehJS code because BokehJS library is missing\");\n",
              "        clearInterval(timer);\n",
              "      }\n",
              "    }, 10, root)\n",
              "  }\n",
              "})(window);"
            ],
            "application/vnd.bokehjs_exec.v0+json": ""
          },
          "metadata": {
            "tags": [],
            "application/vnd.bokehjs_exec.v0+json": {
              "id": "1381"
            }
          }
        }
      ]
    },
    {
      "cell_type": "code",
      "metadata": {
        "id": "OltMa8FekUgy",
        "colab_type": "code",
        "outputId": "5aab3f5c-baf3-4729-e0ee-c3d846b3ec62",
        "colab": {
          "base_uri": "https://localhost:8080/",
          "height": 748
        }
      },
      "source": [
        "!pip install -U gensim"
      ],
      "execution_count": 0,
      "outputs": [
        {
          "output_type": "stream",
          "text": [
            "Collecting gensim\n",
            "\u001b[?25l  Downloading https://files.pythonhosted.org/packages/27/a4/d10c0acc8528d838cda5eede0ee9c784caa598dbf40bd0911ff8d067a7eb/gensim-3.6.0-cp36-cp36m-manylinux1_x86_64.whl (23.6MB)\n",
            "\u001b[K    100% |████████████████████████████████| 23.6MB 1.7MB/s \n",
            "\u001b[?25hRequirement already satisfied, skipping upgrade: numpy>=1.11.3 in /usr/local/lib/python3.6/dist-packages (from gensim) (1.14.6)\n",
            "Requirement already satisfied, skipping upgrade: six>=1.5.0 in /usr/local/lib/python3.6/dist-packages (from gensim) (1.11.0)\n",
            "Requirement already satisfied, skipping upgrade: scipy>=0.18.1 in /usr/local/lib/python3.6/dist-packages (from gensim) (1.1.0)\n",
            "Collecting smart-open>=1.2.1 (from gensim)\n",
            "  Downloading https://files.pythonhosted.org/packages/4b/1f/6f27e3682124de63ac97a0a5876da6186de6c19410feab66c1543afab055/smart_open-1.7.1.tar.gz\n",
            "Collecting boto>=2.32 (from smart-open>=1.2.1->gensim)\n",
            "\u001b[?25l  Downloading https://files.pythonhosted.org/packages/23/10/c0b78c27298029e4454a472a1919bde20cb182dab1662cec7f2ca1dcc523/boto-2.49.0-py2.py3-none-any.whl (1.4MB)\n",
            "\u001b[K    100% |████████████████████████████████| 1.4MB 14.6MB/s \n",
            "\u001b[?25hCollecting bz2file (from smart-open>=1.2.1->gensim)\n",
            "  Downloading https://files.pythonhosted.org/packages/61/39/122222b5e85cd41c391b68a99ee296584b2a2d1d233e7ee32b4532384f2d/bz2file-0.98.tar.gz\n",
            "Requirement already satisfied, skipping upgrade: requests in /usr/local/lib/python3.6/dist-packages (from smart-open>=1.2.1->gensim) (2.18.4)\n",
            "Collecting boto3 (from smart-open>=1.2.1->gensim)\n",
            "\u001b[?25l  Downloading https://files.pythonhosted.org/packages/9c/b9/7df67f1775d240ac8d111211f967fa75ecc9968ae79ffa0594e36345445f/boto3-1.9.62-py2.py3-none-any.whl (128kB)\n",
            "\u001b[K    100% |████████████████████████████████| 133kB 22.8MB/s \n",
            "\u001b[?25hRequirement already satisfied, skipping upgrade: urllib3<1.23,>=1.21.1 in /usr/local/lib/python3.6/dist-packages (from requests->smart-open>=1.2.1->gensim) (1.22)\n",
            "Requirement already satisfied, skipping upgrade: certifi>=2017.4.17 in /usr/local/lib/python3.6/dist-packages (from requests->smart-open>=1.2.1->gensim) (2018.11.29)\n",
            "Requirement already satisfied, skipping upgrade: chardet<3.1.0,>=3.0.2 in /usr/local/lib/python3.6/dist-packages (from requests->smart-open>=1.2.1->gensim) (3.0.4)\n",
            "Requirement already satisfied, skipping upgrade: idna<2.7,>=2.5 in /usr/local/lib/python3.6/dist-packages (from requests->smart-open>=1.2.1->gensim) (2.6)\n",
            "Collecting jmespath<1.0.0,>=0.7.1 (from boto3->smart-open>=1.2.1->gensim)\n",
            "  Downloading https://files.pythonhosted.org/packages/b7/31/05c8d001f7f87f0f07289a5fc0fc3832e9a57f2dbd4d3b0fee70e0d51365/jmespath-0.9.3-py2.py3-none-any.whl\n",
            "Collecting botocore<1.13.0,>=1.12.62 (from boto3->smart-open>=1.2.1->gensim)\n",
            "\u001b[?25l  Downloading https://files.pythonhosted.org/packages/e2/77/35e82076e3beb506280f94213a258819378115f174e516ce69b3a2336e1c/botocore-1.12.62-py2.py3-none-any.whl (5.1MB)\n",
            "\u001b[K    100% |████████████████████████████████| 5.1MB 6.8MB/s \n",
            "\u001b[?25hCollecting s3transfer<0.2.0,>=0.1.10 (from boto3->smart-open>=1.2.1->gensim)\n",
            "\u001b[?25l  Downloading https://files.pythonhosted.org/packages/d7/14/2a0004d487464d120c9fb85313a75cd3d71a7506955be458eebfe19a6b1d/s3transfer-0.1.13-py2.py3-none-any.whl (59kB)\n",
            "\u001b[K    100% |████████████████████████████████| 61kB 20.6MB/s \n",
            "\u001b[?25hCollecting docutils>=0.10 (from botocore<1.13.0,>=1.12.62->boto3->smart-open>=1.2.1->gensim)\n",
            "\u001b[?25l  Downloading https://files.pythonhosted.org/packages/36/fa/08e9e6e0e3cbd1d362c3bbee8d01d0aedb2155c4ac112b19ef3cae8eed8d/docutils-0.14-py3-none-any.whl (543kB)\n",
            "\u001b[K    100% |████████████████████████████████| 552kB 22.3MB/s \n",
            "\u001b[?25hRequirement already satisfied, skipping upgrade: python-dateutil<3.0.0,>=2.1; python_version >= \"2.7\" in /usr/local/lib/python3.6/dist-packages (from botocore<1.13.0,>=1.12.62->boto3->smart-open>=1.2.1->gensim) (2.5.3)\n",
            "Building wheels for collected packages: smart-open, bz2file\n",
            "  Running setup.py bdist_wheel for smart-open ... \u001b[?25l-\b \b\\\b \bdone\n",
            "\u001b[?25h  Stored in directory: /root/.cache/pip/wheels/23/00/44/e5b939f7a80c04e32297dbd6d96fa3065af89ecf57e2b5f89f\n",
            "  Running setup.py bdist_wheel for bz2file ... \u001b[?25l-\b \bdone\n",
            "\u001b[?25h  Stored in directory: /root/.cache/pip/wheels/81/75/d6/e1317bf09bf1af5a30befc2a007869fa6e1f516b8f7c591cb9\n",
            "Successfully built smart-open bz2file\n",
            "Installing collected packages: boto, bz2file, jmespath, docutils, botocore, s3transfer, boto3, smart-open, gensim\n",
            "Successfully installed boto-2.49.0 boto3-1.9.62 botocore-1.12.62 bz2file-0.98 docutils-0.14 gensim-3.6.0 jmespath-0.9.3 s3transfer-0.1.13 smart-open-1.7.1\n"
          ],
          "name": "stdout"
        }
      ]
    },
    {
      "cell_type": "code",
      "metadata": {
        "id": "oelb4nkwgQ9M",
        "colab_type": "code",
        "colab": {}
      },
      "source": [
        "from gensim.models import Word2Vec"
      ],
      "execution_count": 0,
      "outputs": []
    },
    {
      "cell_type": "code",
      "metadata": {
        "id": "I5vBcXoIkTPK",
        "colab_type": "code",
        "colab": {}
      },
      "source": [
        "model_ted = Word2Vec(sentences_ted, min_count=1)"
      ],
      "execution_count": 0,
      "outputs": []
    },
    {
      "cell_type": "code",
      "metadata": {
        "id": "c7jLUIGjknXs",
        "colab_type": "code",
        "outputId": "f6a96eb7-2ea8-40a3-edcb-9aa945e39d13",
        "colab": {
          "base_uri": "https://localhost:8080/",
          "height": 280
        }
      },
      "source": [
        "model_ted.most_similar(\"man\")"
      ],
      "execution_count": 0,
      "outputs": [
        {
          "output_type": "stream",
          "text": [
            "/usr/local/lib/python3.6/dist-packages/ipykernel_launcher.py:1: DeprecationWarning: Call to deprecated `most_similar` (Method will be removed in 4.0.0, use self.wv.most_similar() instead).\n",
            "  \"\"\"Entry point for launching an IPython kernel.\n",
            "/usr/local/lib/python3.6/dist-packages/gensim/matutils.py:737: FutureWarning: Conversion of the second argument of issubdtype from `int` to `np.signedinteger` is deprecated. In future, it will be treated as `np.int64 == np.dtype(int).type`.\n",
            "  if np.issubdtype(vec.dtype, np.int):\n"
          ],
          "name": "stderr"
        },
        {
          "output_type": "execute_result",
          "data": {
            "text/plain": [
              "[('woman', 0.857656717300415),\n",
              " ('guy', 0.8415890336036682),\n",
              " ('lady', 0.7838987112045288),\n",
              " ('girl', 0.7515023946762085),\n",
              " ('boy', 0.7491970062255859),\n",
              " ('kid', 0.7147458791732788),\n",
              " ('gentleman', 0.7110449075698853),\n",
              " ('soldier', 0.7045953273773193),\n",
              " ('surgeon', 0.6718157529830933),\n",
              " ('john', 0.6670570373535156)]"
            ]
          },
          "metadata": {
            "tags": []
          },
          "execution_count": 77
        }
      ]
    },
    {
      "cell_type": "code",
      "metadata": {
        "id": "AlP_t8PlkpWy",
        "colab_type": "code",
        "outputId": "ed862376-a585-4ba8-f928-4a75c5efcce4",
        "colab": {
          "base_uri": "https://localhost:8080/",
          "height": 280
        }
      },
      "source": [
        "model_ted.most_similar(\"computer\")"
      ],
      "execution_count": 0,
      "outputs": [
        {
          "output_type": "stream",
          "text": [
            "/usr/local/lib/python3.6/dist-packages/ipykernel_launcher.py:1: DeprecationWarning: Call to deprecated `most_similar` (Method will be removed in 4.0.0, use self.wv.most_similar() instead).\n",
            "  \"\"\"Entry point for launching an IPython kernel.\n",
            "/usr/local/lib/python3.6/dist-packages/gensim/matutils.py:737: FutureWarning: Conversion of the second argument of issubdtype from `int` to `np.signedinteger` is deprecated. In future, it will be treated as `np.int64 == np.dtype(int).type`.\n",
            "  if np.issubdtype(vec.dtype, np.int):\n"
          ],
          "name": "stderr"
        },
        {
          "output_type": "execute_result",
          "data": {
            "text/plain": [
              "[('software', 0.7263487577438354),\n",
              " ('machine', 0.7113944888114929),\n",
              " ('interface', 0.6860880851745605),\n",
              " ('robot', 0.6775686144828796),\n",
              " ('3d', 0.6734641790390015),\n",
              " ('chip', 0.6694499254226685),\n",
              " ('printer', 0.6630687117576599),\n",
              " ('device', 0.6628063917160034),\n",
              " ('mechanical', 0.6486104130744934),\n",
              " ('program', 0.6475090384483337)]"
            ]
          },
          "metadata": {
            "tags": []
          },
          "execution_count": 78
        }
      ]
    },
    {
      "cell_type": "code",
      "metadata": {
        "id": "pfwvpXQ5lPo6",
        "colab_type": "code",
        "outputId": "aee28f1e-4cf8-4670-8f33-3276ae6ddee3",
        "colab": {
          "base_uri": "https://localhost:8080/",
          "height": 280
        }
      },
      "source": [
        "model_ted.most_similar(\"machine\")"
      ],
      "execution_count": 0,
      "outputs": [
        {
          "output_type": "stream",
          "text": [
            "/usr/local/lib/python3.6/dist-packages/ipykernel_launcher.py:1: DeprecationWarning: Call to deprecated `most_similar` (Method will be removed in 4.0.0, use self.wv.most_similar() instead).\n",
            "  \"\"\"Entry point for launching an IPython kernel.\n",
            "/usr/local/lib/python3.6/dist-packages/gensim/matutils.py:737: FutureWarning: Conversion of the second argument of issubdtype from `int` to `np.signedinteger` is deprecated. In future, it will be treated as `np.int64 == np.dtype(int).type`.\n",
            "  if np.issubdtype(vec.dtype, np.int):\n"
          ],
          "name": "stderr"
        },
        {
          "output_type": "execute_result",
          "data": {
            "text/plain": [
              "[('device', 0.7576619386672974),\n",
              " ('robot', 0.7519630193710327),\n",
              " ('computer', 0.7113944888114929),\n",
              " ('software', 0.7027640342712402),\n",
              " ('printer', 0.6825121641159058),\n",
              " ('program', 0.6762884855270386),\n",
              " ('3d', 0.6712007522583008),\n",
              " ('laser', 0.6686410903930664),\n",
              " ('model', 0.6660893559455872),\n",
              " ('interface', 0.6593688726425171)]"
            ]
          },
          "metadata": {
            "tags": []
          },
          "execution_count": 80
        }
      ]
    },
    {
      "cell_type": "code",
      "metadata": {
        "id": "4rE41c8wlXH9",
        "colab_type": "code",
        "outputId": "a64c0fce-083c-4642-8aa3-3b9b43d561da",
        "colab": {
          "base_uri": "https://localhost:8080/",
          "height": 280
        }
      },
      "source": [
        "model_ted.most_similar(\"learning\")"
      ],
      "execution_count": 0,
      "outputs": [
        {
          "output_type": "stream",
          "text": [
            "/usr/local/lib/python3.6/dist-packages/ipykernel_launcher.py:1: DeprecationWarning: Call to deprecated `most_similar` (Method will be removed in 4.0.0, use self.wv.most_similar() instead).\n",
            "  \"\"\"Entry point for launching an IPython kernel.\n",
            "/usr/local/lib/python3.6/dist-packages/gensim/matutils.py:737: FutureWarning: Conversion of the second argument of issubdtype from `int` to `np.signedinteger` is deprecated. In future, it will be treated as `np.int64 == np.dtype(int).type`.\n",
            "  if np.issubdtype(vec.dtype, np.int):\n"
          ],
          "name": "stderr"
        },
        {
          "output_type": "execute_result",
          "data": {
            "text/plain": [
              "[('designing', 0.6857173442840576),\n",
              " ('sharing', 0.6324872970581055),\n",
              " ('thinking', 0.5989416837692261),\n",
              " ('teaching', 0.5966650247573853),\n",
              " ('understanding', 0.5961527228355408),\n",
              " ('creativity', 0.5843908786773682),\n",
              " ('conscious', 0.573307991027832),\n",
              " ('knowledge', 0.5699175596237183),\n",
              " ('concerned', 0.5649411678314209),\n",
              " ('engaging', 0.5649142265319824)]"
            ]
          },
          "metadata": {
            "tags": []
          },
          "execution_count": 81
        }
      ]
    },
    {
      "cell_type": "markdown",
      "metadata": {
        "id": "S9NrqAE6lfyp",
        "colab_type": "text"
      },
      "source": [
        "**t-SNE visualization**\n",
        "\n",
        "To use the t-SNE code below, first put a list of the top 1000 words (as strings) into a variable words_top_ted. The following code gets the corresponding vectors from the model, assuming it's called model_ted:"
      ]
    },
    {
      "cell_type": "code",
      "metadata": {
        "id": "DwEr2KeOlbqw",
        "colab_type": "code",
        "outputId": "36a379b7-0e68-4d95-8e3a-8abefaaed01a",
        "colab": {
          "base_uri": "https://localhost:8080/",
          "height": 72
        }
      },
      "source": [
        "# This assumes words_top_ted is a list of strings, the top 1000 words\n",
        "words_top_vec_ted = model_ted[words_top_ted]"
      ],
      "execution_count": 0,
      "outputs": [
        {
          "output_type": "stream",
          "text": [
            "/usr/local/lib/python3.6/dist-packages/ipykernel_launcher.py:1: DeprecationWarning: Call to deprecated `__getitem__` (Method will be removed in 4.0.0, use self.wv.__getitem__() instead).\n",
            "  \"\"\"Entry point for launching an IPython kernel.\n"
          ],
          "name": "stderr"
        }
      ]
    },
    {
      "cell_type": "code",
      "metadata": {
        "id": "4toKky1zlxW0",
        "colab_type": "code",
        "colab": {}
      },
      "source": [
        "from sklearn.manifold import TSNE\n",
        "tsne = TSNE(n_components=2, random_state=0)\n",
        "words_top_ted_tsne = tsne.fit_transform(words_top_vec_ted)"
      ],
      "execution_count": 0,
      "outputs": []
    },
    {
      "cell_type": "code",
      "metadata": {
        "id": "-qGKS4-il1WL",
        "colab_type": "code",
        "outputId": "2c33fddc-4a26-4642-c9fe-152096fadc0c",
        "colab": {
          "base_uri": "https://localhost:8080/",
          "height": 17
        }
      },
      "source": [
        "p = figure(tools=\"pan,wheel_zoom,reset,save\",\n",
        "           toolbar_location=\"above\",\n",
        "           title=\"word2vec T-SNE for most common words\")\n",
        "\n",
        "source = ColumnDataSource(data=dict(x1=words_top_ted_tsne[:,0],\n",
        "                                    x2=words_top_ted_tsne[:,1],\n",
        "                                    names=words_top_ted))\n",
        "\n",
        "p.scatter(x=\"x1\", y=\"x2\", size=8, source=source)\n",
        "\n",
        "labels = LabelSet(x=\"x1\", y=\"x2\", text=\"names\", y_offset=6,\n",
        "                  text_font_size=\"8pt\", text_color=\"#555555\",\n",
        "                  source=source, text_align='center')\n",
        "p.add_layout(labels)\n",
        "\n",
        "show(p)"
      ],
      "execution_count": 0,
      "outputs": [
        {
          "output_type": "display_data",
          "data": {
            "text/html": [
              "\n",
              "\n",
              "\n",
              "\n",
              "\n",
              "\n",
              "  <div class=\"bk-root\" id=\"ac9ad4b7-e40f-464d-87b6-e10c1ce0f7bc\"></div>\n"
            ]
          },
          "metadata": {
            "tags": []
          }
        },
        {
          "output_type": "display_data",
          "data": {
            "application/javascript": [
              "(function(root) {\n",
              "  function embed_document(root) {\n",
              "    \n",
              "  var docs_json = {\"5515923e-422d-4bd2-b7a6-e26083fa63c8\":{\"roots\":{\"references\":[{\"attributes\":{\"below\":[{\"id\":\"1503\",\"type\":\"LinearAxis\"}],\"left\":[{\"id\":\"1508\",\"type\":\"LinearAxis\"}],\"renderers\":[{\"id\":\"1503\",\"type\":\"LinearAxis\"},{\"id\":\"1507\",\"type\":\"Grid\"},{\"id\":\"1508\",\"type\":\"LinearAxis\"},{\"id\":\"1512\",\"type\":\"Grid\"},{\"id\":\"1526\",\"type\":\"GlyphRenderer\"},{\"id\":\"1528\",\"type\":\"LabelSet\"}],\"title\":{\"id\":\"1492\",\"type\":\"Title\"},\"toolbar\":{\"id\":\"1517\",\"type\":\"Toolbar\"},\"toolbar_location\":\"above\",\"x_range\":{\"id\":\"1495\",\"type\":\"DataRange1d\"},\"x_scale\":{\"id\":\"1499\",\"type\":\"LinearScale\"},\"y_range\":{\"id\":\"1497\",\"type\":\"DataRange1d\"},\"y_scale\":{\"id\":\"1501\",\"type\":\"LinearScale\"}},\"id\":\"1493\",\"subtype\":\"Figure\",\"type\":\"Plot\"},{\"attributes\":{\"formatter\":{\"id\":\"1566\",\"type\":\"BasicTickFormatter\"},\"plot\":{\"id\":\"1493\",\"subtype\":\"Figure\",\"type\":\"Plot\"},\"ticker\":{\"id\":\"1504\",\"type\":\"BasicTicker\"}},\"id\":\"1503\",\"type\":\"LinearAxis\"},{\"attributes\":{},\"id\":\"1504\",\"type\":\"BasicTicker\"},{\"attributes\":{\"plot\":{\"id\":\"1493\",\"subtype\":\"Figure\",\"type\":\"Plot\"},\"ticker\":{\"id\":\"1504\",\"type\":\"BasicTicker\"}},\"id\":\"1507\",\"type\":\"Grid\"},{\"attributes\":{},\"id\":\"1571\",\"type\":\"Selection\"},{\"attributes\":{\"formatter\":{\"id\":\"1568\",\"type\":\"BasicTickFormatter\"},\"plot\":{\"id\":\"1493\",\"subtype\":\"Figure\",\"type\":\"Plot\"},\"ticker\":{\"id\":\"1509\",\"type\":\"BasicTicker\"}},\"id\":\"1508\",\"type\":\"LinearAxis\"},{\"attributes\":{\"plot\":{\"id\":\"1493\",\"subtype\":\"Figure\",\"type\":\"Plot\"},\"source\":{\"id\":\"1522\",\"type\":\"ColumnDataSource\"},\"text\":{\"field\":\"names\"},\"text_align\":\"center\",\"text_color\":{\"value\":\"#555555\"},\"text_font_size\":{\"value\":\"8pt\"},\"x\":{\"field\":\"x1\"},\"y\":{\"field\":\"x2\"},\"y_offset\":{\"value\":6}},\"id\":\"1528\",\"type\":\"LabelSet\"},{\"attributes\":{},\"id\":\"1509\",\"type\":\"BasicTicker\"},{\"attributes\":{\"dimension\":1,\"plot\":{\"id\":\"1493\",\"subtype\":\"Figure\",\"type\":\"Plot\"},\"ticker\":{\"id\":\"1509\",\"type\":\"BasicTicker\"}},\"id\":\"1512\",\"type\":\"Grid\"},{\"attributes\":{},\"id\":\"1513\",\"type\":\"PanTool\"},{\"attributes\":{\"fill_color\":{\"value\":\"#1f77b4\"},\"line_color\":{\"value\":\"#1f77b4\"},\"size\":{\"units\":\"screen\",\"value\":8},\"x\":{\"field\":\"x1\"},\"y\":{\"field\":\"x2\"}},\"id\":\"1524\",\"type\":\"Scatter\"},{\"attributes\":{},\"id\":\"1514\",\"type\":\"WheelZoomTool\"},{\"attributes\":{},\"id\":\"1515\",\"type\":\"ResetTool\"},{\"attributes\":{},\"id\":\"1566\",\"type\":\"BasicTickFormatter\"},{\"attributes\":{},\"id\":\"1516\",\"type\":\"SaveTool\"},{\"attributes\":{\"callback\":null,\"data\":{\"names\":[\"the\",\"and\",\"to\",\"of\",\"a\",\"that\",\"i\",\"in\",\"it\",\"you\",\"we\",\"is\",\"s\",\"this\",\"so\",\"they\",\"was\",\"for\",\"are\",\"have\",\"but\",\"what\",\"on\",\"with\",\"can\",\"t\",\"about\",\"there\",\"be\",\"as\",\"at\",\"all\",\"not\",\"do\",\"my\",\"one\",\"re\",\"people\",\"like\",\"if\",\"from\",\"now\",\"our\",\"he\",\"an\",\"just\",\"these\",\"or\",\"when\",\"because\",\"very\",\"me\",\"out\",\"by\",\"them\",\"how\",\"know\",\"up\",\"going\",\"had\",\"more\",\"think\",\"who\",\"were\",\"see\",\"your\",\"their\",\"which\",\"would\",\"here\",\"really\",\"get\",\"ve\",\"then\",\"m\",\"world\",\"us\",\"time\",\"some\",\"has\",\"don\",\"actually\",\"into\",\"way\",\"where\",\"will\",\"years\",\"things\",\"other\",\"no\",\"could\",\"go\",\"well\",\"want\",\"been\",\"make\",\"right\",\"she\",\"said\",\"something\",\"those\",\"first\",\"two\",\"than\",\"much\",\"also\",\"look\",\"new\",\"thing\",\"little\",\"got\",\"back\",\"over\",\"most\",\"say\",\"even\",\"his\",\"life\",\"only\",\"work\",\"many\",\"take\",\"need\",\"did\",\"lot\",\"kind\",\"why\",\"good\",\"around\",\"every\",\"different\",\"down\",\"ll\",\"let\",\"her\",\"through\",\"same\",\"being\",\"come\",\"d\",\"day\",\"year\",\"three\",\"use\",\"doing\",\"put\",\"called\",\"any\",\"today\",\"percent\",\"made\",\"after\",\"thank\",\"tell\",\"great\",\"human\",\"find\",\"didn\",\"fact\",\"talk\",\"change\",\"started\",\"another\",\"idea\",\"big\",\"last\",\"own\",\"before\",\"its\",\"never\",\"should\",\"better\",\"give\",\"thought\",\"went\",\"might\",\"important\",\"000\",\"again\",\"able\",\"together\",\"still\",\"problem\",\"off\",\"next\",\"part\",\"course\",\"system\",\"him\",\"does\",\"each\",\"start\",\"show\",\"long\",\"ago\",\"story\",\"came\",\"brain\",\"few\",\"bit\",\"between\",\"used\",\"place\",\"technology\",\"women\",\"too\",\"old\",\"mean\",\"data\",\"water\",\"looking\",\"question\",\"maybe\",\"found\",\"love\",\"doesn\",\"end\",\"example\",\"10\",\"done\",\"point\",\"four\",\"real\",\"wanted\",\"ever\",\"school\",\"understand\",\"sort\",\"live\",\"call\",\"whole\",\"children\",\"always\",\"trying\",\"may\",\"person\",\"away\",\"believe\",\"feel\",\"try\",\"million\",\"working\",\"help\",\"everything\",\"five\",\"country\",\"thinking\",\"second\",\"using\",\"information\",\"money\",\"means\",\"power\",\"took\",\"times\",\"high\",\"space\",\"number\",\"kids\",\"home\",\"become\",\"create\",\"small\",\"design\",\"making\",\"best\",\"left\",\"getting\",\"future\",\"enough\",\"man\",\"quite\",\"city\",\"without\",\"sense\",\"happened\",\"comes\",\"social\",\"probably\",\"less\",\"light\",\"talking\",\"energy\",\"am\",\"building\",\"science\",\"food\",\"body\",\"told\",\"interesting\",\"ask\",\"half\",\"pretty\",\"hard\",\"play\",\"anything\",\"lives\",\"countries\",\"coming\",\"such\",\"family\",\"stuff\",\"dollars\",\"earth\",\"moment\",\"20\",\"imagine\",\"across\",\"side\",\"while\",\"saw\",\"happen\",\"once\",\"okay\",\"build\",\"having\",\"men\",\"later\",\"experience\",\"makes\",\"asked\",\"living\",\"seen\",\"says\",\"room\",\"hand\",\"simple\",\"health\",\"ways\",\"else\",\"case\",\"yet\",\"almost\",\"young\",\"days\",\"nothing\",\"care\",\"bad\",\"happens\",\"goes\",\"move\",\"states\",\"reason\",\"computer\",\"open\",\"learn\",\"africa\",\"process\",\"inside\",\"someone\",\"six\",\"far\",\"mind\",\"project\",\"remember\",\"single\",\"picture\",\"both\",\"whether\",\"problems\",\"saying\",\"community\",\"basically\",\"already\",\"within\",\"looked\",\"myself\",\"billion\",\"often\",\"possible\",\"business\",\"planet\",\"global\",\"everybody\",\"top\",\"sure\",\"public\",\"set\",\"wrong\",\"car\",\"book\",\"keep\",\"yes\",\"answer\",\"oh\",\"hope\",\"sometimes\",\"true\",\"history\",\"war\",\"guy\",\"child\",\"instead\",\"months\",\"ideas\",\"looks\",\"matter\",\"government\",\"amazing\",\"united\",\"since\",\"bring\",\"age\",\"cells\",\"job\",\"heard\",\"until\",\"face\",\"wasn\",\"100\",\"read\",\"control\",\"isn\",\"research\",\"30\",\"words\",\"u\",\"group\",\"under\",\"self\",\"somebody\",\"built\",\"state\",\"woman\",\"turn\",\"friends\",\"beautiful\",\"line\",\"knew\",\"couple\",\"order\",\"form\",\"yeah\",\"internet\",\"middle\",\"music\",\"piece\",\"nature\",\"head\",\"though\",\"stop\",\"everyone\",\"50\",\"places\",\"video\",\"learned\",\"language\",\"run\",\"night\",\"decided\",\"study\",\"word\",\"cancer\",\"taking\",\"works\",\"became\",\"exactly\",\"species\",\"society\",\"completely\",\"education\",\"against\",\"stories\",\"large\",\"share\",\"level\",\"heart\",\"america\",\"model\",\"questions\",\"gets\",\"mother\",\"god\",\"company\",\"turns\",\"ourselves\",\"happening\",\"hear\",\"art\",\"themselves\",\"must\",\"itself\",\"rather\",\"kinds\",\"students\",\"name\",\"hours\",\"disease\",\"front\",\"house\",\"huge\",\"couldn\",\"created\",\"universe\",\"ok\",\"animals\",\"american\",\"environment\",\"worked\",\"minutes\",\"ones\",\"black\",\"perhaps\",\"1\",\"past\",\"third\",\"along\",\"others\",\"finally\",\"sound\",\"early\",\"game\",\"thousands\",\"century\",\"based\",\"least\",\"per\",\"ted\",\"lots\",\"figure\",\"free\",\"guys\",\"particular\",\"happy\",\"news\",\"learning\",\"entire\",\"won\",\"gave\",\"machine\",\"india\",\"during\",\"systems\",\"air\",\"difference\",\"outside\",\"natural\",\"taken\",\"seven\",\"given\",\"changed\",\"leave\",\"cell\",\"15\",\"close\",\"behind\",\"cities\",\"full\",\"scale\",\"difficult\",\"china\",\"takes\",\"companies\",\"yourself\",\"area\",\"reality\",\"seeing\",\"easy\",\"turned\",\"cost\",\"eyes\",\"team\",\"moving\",\"population\",\"culture\",\"york\",\"hands\",\"whatever\",\"began\",\"needs\",\"terms\",\"image\",\"simply\",\"needed\",\"beginning\",\"father\",\"local\",\"realized\",\"media\",\"death\",\"parents\",\"view\",\"walk\",\"white\",\"market\",\"parts\",\"ocean\",\"economic\",\"eight\",\"powerful\",\"known\",\"week\",\"size\",\"felt\",\"humans\",\"certain\",\"spend\",\"longer\",\"phone\",\"wonderful\",\"cannot\",\"grow\",\"common\",\"center\",\"tried\",\"fish\",\"land\",\"oil\",\"political\",\"interested\",\"deal\",\"red\",\"gone\",\"amount\",\"weeks\",\"spent\",\"opportunity\",\"paper\",\"lost\",\"national\",\"quickly\",\"blue\",\"step\",\"poor\",\"green\",\"buy\",\"growth\",\"wouldn\",\"either\",\"patients\",\"sitting\",\"ability\",\"changes\",\"write\",\"challenge\",\"south\",\"low\",\"growing\",\"friend\",\"field\",\"shows\",\"2\",\"born\",\"rest\",\"climate\",\"40\",\"test\",\"street\",\"surface\",\"incredible\",\"average\",\"physical\",\"morning\",\"scientists\",\"program\",\"pay\",\"value\",\"feeling\",\"hundreds\",\"girl\",\"met\",\"behavior\",\"economy\",\"dna\",\"complex\",\"access\",\"risk\",\"animal\",\"structure\",\"feet\",\"attention\",\"areas\",\"anyone\",\"deep\",\"watch\",\"short\",\"absolutely\",\"speak\",\"brought\",\"die\",\"bottom\",\"numbers\",\"audience\",\"stage\",\"realize\",\"law\",\"images\",\"wrote\",\"understanding\",\"knowledge\",\"literally\",\"books\",\"movement\",\"ground\",\"giving\",\"eat\",\"force\",\"seems\",\"alone\",\"telling\",\"starting\",\"hold\",\"nice\",\"forward\",\"sea\",\"developed\",\"individual\",\"kid\",\"millions\",\"support\",\"miles\",\"tools\",\"running\",\"online\",\"result\",\"act\",\"medical\",\"technologies\",\"north\",\"lab\",\"development\",\"blood\",\"fear\",\"nobody\",\"map\",\"personal\",\"issue\",\"voice\",\"material\",\"key\",\"12\",\"recently\",\"theory\",\"cut\",\"cars\",\"sun\",\"fast\",\"changing\",\"playing\",\"clear\",\"especially\",\"soon\",\"girls\",\"patient\",\"choice\",\"fly\",\"creating\",\"normal\",\"discovered\",\"europe\",\"talked\",\"relationship\",\"gives\",\"generation\",\"dark\",\"type\",\"showed\",\"chance\",\"seem\",\"industry\",\"asking\",\"rate\",\"fun\",\"issues\",\"color\",\"designed\",\"hour\",\"university\",\"innovation\",\"several\",\"class\",\"computers\",\"english\",\"tiny\",\"allow\",\"save\",\"focus\",\"digital\",\"solve\",\"developing\",\"network\",\"film\",\"special\",\"wall\",\"situation\",\"baby\",\"solution\",\"reasons\",\"box\",\"knows\",\"meet\",\"dead\",\"stand\",\"begin\",\"haven\",\"impact\",\"anybody\",\"term\",\"beyond\",\"pictures\",\"please\",\"ice\",\"produce\",\"shape\",\"non\",\"resources\",\"robot\",\"cool\",\"groups\",\"likely\",\"stay\",\"available\",\"truth\",\"rights\",\"major\",\"cause\",\"evidence\",\"obviously\",\"writing\",\"experiment\",\"modern\",\"drug\",\"becomes\",\"incredibly\",\"aren\",\"bigger\",\"guess\",\"nine\",\"product\",\"drugs\",\"lived\",\"involved\",\"perfect\",\"google\",\"month\",\"effect\",\"similar\",\"putting\",\"eye\",\"pick\",\"message\",\"quality\",\"violence\",\"web\",\"evolution\",\"security\",\"office\",\"basic\",\"solar\",\"indeed\",\"general\",\"towards\",\"present\",\"drive\",\"send\",\"listen\",\"worth\",\"revolution\",\"explain\",\"hundred\",\"certainly\",\"died\",\"ready\",\"teach\",\"journey\",\"25\",\"hit\",\"walking\",\"led\",\"approach\",\"international\",\"200\",\"scientific\",\"games\",\"60\",\"potential\",\"crazy\",\"communities\",\"chinese\",\"device\",\"source\",\"camera\",\"rules\",\"sex\",\"carbon\",\"sounds\",\"boy\",\"reach\",\"starts\",\"examples\",\"west\",\"3\",\"success\",\"measure\",\"particularly\",\"software\",\"totally\",\"suddenly\",\"action\",\"college\",\"higher\",\"code\",\"eventually\",\"democracy\",\"among\",\"minute\",\"sit\",\"largest\",\"showing\",\"hospital\",\"notice\",\"period\",\"mass\",\"develop\",\"dream\",\"onto\",\"plants\",\"break\",\"add\",\"memory\",\"everywhere\",\"favorite\",\"11\",\"zero\",\"speed\",\"schools\",\"moved\",\"response\",\"wants\",\"extremely\",\"movie\",\"individuals\",\"table\",\"wait\",\"medicine\",\"follow\",\"anyway\",\"trust\",\"plant\",\"biggest\",\"watching\",\"organization\",\"creative\",\"road\",\"choose\",\"worse\",\"lead\",\"results\",\"500\",\"exciting\",\"grew\",\"materials\",\"jobs\",\"plan\",\"east\",\"poverty\",\"positive\",\"safe\",\"strong\",\"fall\",\"essentially\",\"object\",\"door\",\"son\",\"vision\",\"further\",\"happiness\",\"continue\",\"student\",\"doctor\",\"including\",\"named\",\"role\",\"objects\",\"extraordinary\",\"standing\",\"skin\",\"leaders\",\"usually\",\"african\",\"conversation\",\"projects\",\"allowed\",\"models\",\"supposed\",\"faster\",\"interest\",\"families\",\"police\",\"fight\",\"tree\",\"connected\",\"screen\",\"5\",\"cases\",\"goal\",\"somewhere\",\"finding\",\"buildings\",\"shown\"],\"x1\":{\"__ndarray__\":\"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\",\"dtype\":\"float32\",\"shape\":[1000]},\"x2\":{\"__ndarray__\":\"0ZQ7QX85MkHkdXRB2gQXQGhcT8CQPGvBEIakwQiuvr8rwXJB5C+yQYTxwEGZk89A8ffqQLJ1YMHRd23B3z3CQWtjYUAnGihBzwENwrQTo8GImH3BeHaLwdLgO0BbwJjBJTrzwHURNcGXuQxApPtBwbnSvsFbLiNBG9kawIFui0FP1apAmpSlPtyYl8E24EbBmnMKwiPNp8GIPKnA9koHwRNzCkEO3oPBQbIEQvWEhcHMX6RBBL+TwHXc4UFDw5pAAswSQYJseMGvWLrBBWmTwRdSrj+4jLxBICb8QQSiZMFHk3fBDZqKQFBt3MATPaPAQsGJQT74VMFi777BOM8NwqDrlMF89aJB3SD1QfLJc8EwRLfAZKKFwSdfscE2FfbBTf2hwVNTbsEd1/fBKurrQTcKBEIYduXAkT/PQaHCoz31WGDBrndawUnsk0AcswVBwOdHv49JxcAFMzzABy6MQfWKM0GciXBAGAXIwLsx48Gup6DAtWX2wAO+VUCg7ezBctcwwTC6hcEvxGHB3PGYwQTn4UGouV7Bo/UxQdi5GMGGDPXBEZx/QTXANEGIsQRA6+x4QXN45z96D7bAkRg3QHyy1kBQY5rBNrtuwagjP0CYRZfBLA/AwQrTrDx2PtDBPUrFQXc098HikPnALxwbwBc0wkFvxufBsmlcwbw2LcGtisdA/ZsCQmEFmsCVqxlAVWfMwBLag8G7kZDBYzGqQKAb7kBFgK0/kM3bwa1/rMDlwYjAjdZfwL42MUHE7ODBxhCdQHlL/sHVLwjB4tOGQN+MSUG+FDVB5SaMwGQUisHGuozB2PmQwTLQmsAdjztB0rSuwR7OZcFMQntAnbKGwSe8KEFRD1o/CUtDwNRouUBkR+PAs5xwwZJxAkBex4XBi5lQQX8rucELbq7AR0KIQfudAMJX/t0/xgVCwHyVj8APBBDBoccpQWY8VcEkFMTAjAvCQDSFsb+1PdlAFqrgP5EpbcEhYglBgUwAQQRaJEHW55TB8fj4QD1500GJYbbBtcOYwVJV6cFjvJnBOow1wPcpRsCm4NHB0YJmQaHHaUHdt6RB2U9ewPZTj0DypFhB7D+5wfLlrcGCBKLBzMFmwbFZC0J/DBBBbR0wQQjrjkAGzohApC1LvpqIO8Hd+1XBQhomQU+RDUCWQzBBVzuTP8SibsAR4StBxTPlQB3IuMA9LrnBwm8vwaArosGZxOfBLurGwQq+gMF2SrfAHlWiwcp8KMAKZM3AJjiKwKV6MMHKb6Y/2X5lwRt2YcG8yKjB6ygxQfbErsCyUbrBSW2PwZhPKkGTketBrR4hwZmmT8ESID3B0VQLQi0j3kEq4RJBdUJcQZHFpjxUUmM/RrxlwPRNEkG1LHNBU66jwUbLFMHvV8/BCtzgwVO23MACiHBAE2+qwECMbUEdNEfAafHgwAq8RUFf9abBt+RZwUivscGeId1Bb+LKQdv/5UCpzzdAzk6eQMmqiUFs86I/X4+IQR5cv0C/khzBfHc3QXHT98E4fBs/jH5TQWGlokHT78zB0Bw8wZue/MBbmY7B+NnrQI0Ss8GfQSbBmfiswbFgl8EZhdxBXM3oQc+9BcEtgh9BNJuKwaHNg0F4uJNAo6IDQvx/ZcCGiC1BoJuRwSh60UDif4bA19vXQE41+71arL7B2K7+QCawT8FWjOHBuIsSwdteuME4tJbBPT+6wbqzbEAEjTvBM9WDP6A+Ab/qPGHBUdnWwDZhi8BttW3AFo6iQcccnkH/5CvBlDqJQKCPPb6dlkA/zFC7wfSn2b9E2JHBerCyQWTiLMG/tflAMB6bQNeE6MEVffxBvkGPQZOzvz/mKdnBT0GlwX5+80GK7OFAQQwsP+xGgMHW/x1BxqLtwQIYwMFml51BYXqCwWBmAEJxfhI/9haIQa0mk0CZzrVByGRJwdltokFY1SDAWOJtvy6ZV0HynylBMN2ewS7cM0FvrKDAHqE3wf24lUHoqgNCdVqMQdRRjsH7XQhBNY4GwR5hm0GJwgrCAHfOwAWxlMAxu4fAFDDOwW1GW8FmcqJANbZjwRnIA0FmgW/AhmtAwZ0dj8GPxM9BzgVfwaEGM8FtkhXBiKr4v+psm0H1jipBNSTBQFFBq0H619PAgcL+QU+KgsHqz/LB6UlmQWDBt0Af94lBW6jDvzNlgsFTR01Bbv94wcO7K0EyB5HBHfgCQbteesEIkppBG0AkQdM9xEFpw99B7oerQZFCzr0oNStB0FCBwbUGEMCu7L9BjstPwVHC6MGtv5PB39vCwPYjlj0mHIo/WLpmQX0VYkECfflAqNFawe/mlkDcR+dBqcbAwAUDEr9JGhtBGM6kwNbCJ8DavsTBcaaNwblTK0Ev8+NB5eoBwKFoRL9EabXAMB7iweW5isCZ/aLAYGKQQWvEscAHIc5Byd7mwBcJ7kAdnXNAagVKwM1y00FnHGpB6RF7vytdnkFO+7lBCDKoQd8B3MCtYbTBV/NRQdISjkEt8u9BU62fQJjBp0Gd26JAPaB+wSBKbMEmgJxB1xHSwJKkAkKrWdZA8zaJwaRRTkEr6vVBexe6wFrASkEEp3RB2rnHQTGApcFe2QTBK+5zvyglzkFxKObAnfjnwFKp1sA/jm3BeIfbv7BpC0FTHVDB7tDIQRwlyUE9Bx1Bv5CDwKkYSr/sF8lBy6HePxs+b0DCmQhBvXJ0wQGpTsGdfqBA8VvsQfcnZsF/PkdBE5hbwXrlmb+66cVB+eLKQbGdusFV7IBBmI7fQLN5uMD5IMhBp124wX6a38DveLxBy082wJCc/8DPjnFAxeGpvtb3g8AzLmzBHmMqPyJpFT8vR+tBYciFwfNopUHCFAZBPEsfQU4UOj1RZQBAZRzQP6TUD0Haimm8Vb+kP9ZRucE9zKBABUodQaQK38GKv98/5vreQcBrwL/a2E9BCuAawawQ6UHSgFhACy3CQUyyqEETFQJBzqn+QIhQv0BYDx7BFLnAwH/IZkGvYKXALIKmQcLpF8F9opFBaP5TQckNBMEp76TAFWNtQPFAlz9gYk/AxYc/QT4BiD+BZZ3AULWTwCrVMUF0UnvBNQymQWyuaj9ZO4pBhnFuQd6elMGv15LABifawdbb3T9Z7H5BYmvYQbflv0Baa4VBE0QYQdY6KMB22tU/73BFwBahBkFoZwNAIufLQfHXdsALG/zBxyNjQUngT8DFgrTAYtLIwHaO3cEZ5BbAAxdfwCl9ncBJ6ONA8n0IQeOyH0Hb2IRBmO6xP955I0F4IC5AE50LQGaqTEHvk9W/i8W4wX9mJkE8YnG/6z4rwFLPs0GjYuLBh2YyQJw3GcHiJBNAALc8QEwV7cEQzYZBJABrwfsPcUBjH95BFxcBwRzMZkFUJnZBXZ+RwYs+6EB37PJBoVFowPMoIMEWiGfBORq1QCo5xkBAJQNBO20qwS5kor+xtJFBagUdQavUxz+fEDbAE2rdQFY/wMA8vOpAWV8TQIMCfMD8CMpB/jjqPzn08cE800NB6GsXvqPixUEX+1PBgW8IwPneIkEoF4dBCnvdQL8PI8D2qsDB2291QRFhEEF1B/tAUsEgQF1c10Gvxt5BnyuEwUoMlEBOEaPBULHmwX6Fqr//C6rBLCNewBP8xMGX3wtB7mW6QcwcwMCAdXTArmp4wT3YrEEIR7VB6b+NvwFULkG7UUpBrcNnv/qTskHsWlhBjr/uQKff+8BZA+XBV9VDQayGMUGldIm/bJ0vwXsZssBv6dzB/XrrwL712kAmsMlAI2+ev2CwI0ENiEfBf+jFQXu2u8HO8CVAxsuiQeAXCsFWK4dAADUUQUib10CQd6dBqNCgQbfp8UEet69BXdZ7Qb3JXEBqvbZAdaeOwfnqoECH6rk/VTjqQO/l5MAac/xAGsAGvyPfDEFEiVvB98IKQfCC3ME/y7tBdX3DQL2f5MEAmag/k5AcwS5ZB8FUPZI/ZWHhwRL9r8GwihbBd7MEQbQe2sEMRJo+ZqtDwLE/LD6P0utBgGziv6g4J0HDpkRAxZUHwYd5i0Bo66BAXjKXvgJ4FUGoDUVB7dV9QRYXJ8ElHWdB8euOwK14ukHOBStAleo9wJO1cL9zUspB9NtpQTYeSkE5mb9BM8WvQVK+zcAUwQlAkJXFwb8b+8EDE7zBPcghQE7pzsELnoRBXCC8QFcBUMB3U37AP4IMwIpJn0C4V0zBsArDQN9bkkEdM92+VNMBwIiStMFUERrBP/7LwYxrtMF6h4PBTYXsQG00hMG2PB9BYiH8QKd7tkHwR4PBS5/XQH8d2MERp/1Aiw+AQUy2q0Fj03y9TD3xwAEJ0UG6KRDBeDTIwTZt5MDSE6JAFDieQTmkdEEDVbVACQ8KQdIJBsBs1RjBjpEWv+WydkHmV31B6T+gQKRJrcFiuoDBHpt4QZAjc8FusQhBPTbGQATWwEFg3jvAfsqHPxA9R8BmDFZAmtQuwC817UAYn4LAFIDhwO5FwT/KJuXBNHXNwNelRkEEwqNBrguQQArCGUGx25xB7CoHwTCGhr/06RpBUTbKv5JoW0Fdn/RAMrWAQPYS1sGjq/XBcFSuwele2T+JMMZByCitwRL4REGimcu+6BY7wLgfwcDuQ6fBa8/Bv5PlFEEB45zBAvEFwQayxb9G06tAEnShQfg6GkE8rGFBV8yNQDFaDkEi3j1BX63LwKnG0EE8s7VB75UyP5d4KkHozvS/eHqpQUHxHkBOWyZBK2o+QT+yUcGrAdLBGDAzQALMqUE1RuZBmw33QP+tD0F/MAVB1mIqPzvhLkDMAYS/An8PwcCpNkFgnyPBUEZ8QSjZU0C851/Bcrt3QeeOr0HMDBHAgBHQwXLXgEGHhL1AhWMRwarVl8F/A3zBX6QmQaW10cGjntG+fK8WQBetvUFlRNnBkVLbwT0r00DNV6C/nr0EwYJ27kBJoSxB2ZhCQbupzEEZN2/AtnQFQUolPcAwG67B0pxkwE3b1EHoT3zAkHiZwZt0U0GixLnBGfxjwC+Zr8FfFBdB+mp3QWFiI8Fs9JdB/r3FvuEjs78DBbjBHuR9QRC3ysEMELhBkeEUQXpN98DFDxzAVVuqQcFxxEGUB1s/0znsQeCToEGrpnq/R4LVwHhwEMDXw9LBk5AWwHA8vD8U66zAFxt1wbyNykC4rl9BOn8WQTA3vsF6AirBN+U3wbvzr0Edm07BWtY6QclAtEEJPL7AhVH/wEkYL0AKnMlBtxhnwCT7yEG7cMO/EgW0QSbHjsAcBalBgSKkwFUxckE+eSFBhSPWQWfitEEap8HBXr0kv0DCScBjRNq/2NAEQd+RwUFtTNpAWOWivxdbIsCjNrlBCW6ZPA==\",\"dtype\":\"float32\",\"shape\":[1000]}},\"selected\":{\"id\":\"1571\",\"type\":\"Selection\"},\"selection_policy\":{\"id\":\"1570\",\"type\":\"UnionRenderers\"}},\"id\":\"1522\",\"type\":\"ColumnDataSource\"},{\"attributes\":{\"active_drag\":\"auto\",\"active_inspect\":\"auto\",\"active_multi\":null,\"active_scroll\":\"auto\",\"active_tap\":\"auto\",\"tools\":[{\"id\":\"1513\",\"type\":\"PanTool\"},{\"id\":\"1514\",\"type\":\"WheelZoomTool\"},{\"id\":\"1515\",\"type\":\"ResetTool\"},{\"id\":\"1516\",\"type\":\"SaveTool\"}]},\"id\":\"1517\",\"type\":\"Toolbar\"},{\"attributes\":{},\"id\":\"1570\",\"type\":\"UnionRenderers\"},{\"attributes\":{\"fill_alpha\":{\"value\":0.1},\"fill_color\":{\"value\":\"#1f77b4\"},\"line_alpha\":{\"value\":0.1},\"line_color\":{\"value\":\"#1f77b4\"},\"size\":{\"units\":\"screen\",\"value\":8},\"x\":{\"field\":\"x1\"},\"y\":{\"field\":\"x2\"}},\"id\":\"1525\",\"type\":\"Scatter\"},{\"attributes\":{\"plot\":null,\"text\":\"word2vec T-SNE for most common words\"},\"id\":\"1492\",\"type\":\"Title\"},{\"attributes\":{},\"id\":\"1568\",\"type\":\"BasicTickFormatter\"},{\"attributes\":{\"data_source\":{\"id\":\"1522\",\"type\":\"ColumnDataSource\"},\"glyph\":{\"id\":\"1524\",\"type\":\"Scatter\"},\"hover_glyph\":null,\"muted_glyph\":null,\"nonselection_glyph\":{\"id\":\"1525\",\"type\":\"Scatter\"},\"selection_glyph\":null,\"view\":{\"id\":\"1527\",\"type\":\"CDSView\"}},\"id\":\"1526\",\"type\":\"GlyphRenderer\"},{\"attributes\":{\"callback\":null},\"id\":\"1495\",\"type\":\"DataRange1d\"},{\"attributes\":{\"callback\":null},\"id\":\"1497\",\"type\":\"DataRange1d\"},{\"attributes\":{\"source\":{\"id\":\"1522\",\"type\":\"ColumnDataSource\"}},\"id\":\"1527\",\"type\":\"CDSView\"},{\"attributes\":{},\"id\":\"1499\",\"type\":\"LinearScale\"},{\"attributes\":{},\"id\":\"1501\",\"type\":\"LinearScale\"}],\"root_ids\":[\"1493\"]},\"title\":\"Bokeh Application\",\"version\":\"1.0.2\"}};\n",
              "  var render_items = [{\"docid\":\"5515923e-422d-4bd2-b7a6-e26083fa63c8\",\"roots\":{\"1493\":\"ac9ad4b7-e40f-464d-87b6-e10c1ce0f7bc\"}}];\n",
              "  root.Bokeh.embed.embed_items_notebook(docs_json, render_items);\n",
              "\n",
              "  }\n",
              "  if (root.Bokeh !== undefined) {\n",
              "    embed_document(root);\n",
              "  } else {\n",
              "    var attempts = 0;\n",
              "    var timer = setInterval(function(root) {\n",
              "      if (root.Bokeh !== undefined) {\n",
              "        embed_document(root);\n",
              "        clearInterval(timer);\n",
              "      }\n",
              "      attempts++;\n",
              "      if (attempts > 100) {\n",
              "        console.log(\"Bokeh: ERROR: Unable to run BokehJS code because BokehJS library is missing\");\n",
              "        clearInterval(timer);\n",
              "      }\n",
              "    }, 10, root)\n",
              "  }\n",
              "})(window);"
            ],
            "application/vnd.bokehjs_exec.v0+json": ""
          },
          "metadata": {
            "tags": [],
            "application/vnd.bokehjs_exec.v0+json": {
              "id": "1493"
            }
          }
        }
      ]
    },
    {
      "cell_type": "markdown",
      "metadata": {
        "id": "CNBJA1kwmC_r",
        "colab_type": "text"
      },
      "source": [
        "# Wiki Text"
      ]
    },
    {
      "cell_type": "code",
      "metadata": {
        "id": "zfki4e5omBDg",
        "colab_type": "code",
        "colab": {}
      },
      "source": [
        "if not os.path.isfile('wikitext-103-raw-v1.zip'):\n",
        "    urllib.request.urlretrieve(\"https://s3.amazonaws.com/research.metamind.io/wikitext/wikitext-103-raw-v1.zip\", filename=\"wikitext-103-raw-v1.zip\")"
      ],
      "execution_count": 0,
      "outputs": []
    },
    {
      "cell_type": "code",
      "metadata": {
        "id": "x8BFmOF1mBis",
        "colab_type": "code",
        "colab": {}
      },
      "source": [
        "with zipfile.ZipFile('wikitext-103-raw-v1.zip', 'r') as z:\n",
        "    input_text = str(z.open('wikitext-103-raw/wiki.train.raw', 'r').read(), encoding='utf-8') # Thanks Robert Bastian"
      ],
      "execution_count": 0,
      "outputs": []
    },
    {
      "cell_type": "code",
      "metadata": {
        "id": "WlJ1KuNnmKj7",
        "colab_type": "code",
        "colab": {}
      },
      "source": [
        "sentences_wiki = []\n",
        "for line in input_text.split('\\n'):\n",
        "    s = [x for x in line.split('.') if x and len(x.split()) >= 5]\n",
        "    sentences_wiki.extend(s)\n",
        "    \n",
        "for s_i in range(len(sentences_wiki)):\n",
        "    sentences_wiki[s_i] = re.sub(\"[^a-z]\", \" \", sentences_wiki[s_i].lower())\n",
        "    sentences_wiki[s_i] = re.sub(r'\\([^)]*\\)', '', sentences_wiki[s_i])\n",
        "del input_text"
      ],
      "execution_count": 0,
      "outputs": []
    },
    {
      "cell_type": "code",
      "metadata": {
        "id": "u2UJ0lnWmNFQ",
        "colab_type": "code",
        "outputId": "4852bba2-a53c-4e1c-a54b-f52737aecaa0",
        "colab": {
          "base_uri": "https://localhost:8080/",
          "height": 52
        }
      },
      "source": [
        "# sample 1/5 of the data\n",
        "shuffle(sentences_wiki)\n",
        "print(len(sentences_wiki))\n",
        "sentences_wiki = sentences_wiki[:int(len(sentences_wiki)/5)]\n",
        "print(len(sentences_wiki))"
      ],
      "execution_count": 0,
      "outputs": [
        {
          "output_type": "stream",
          "text": [
            "4267112\n",
            "853422\n"
          ],
          "name": "stdout"
        }
      ]
    },
    {
      "cell_type": "markdown",
      "metadata": {
        "id": "zxCJXjxfmRZg",
        "colab_type": "text"
      },
      "source": [
        "Now, repeat all the same steps that you performed above. You should be able to reuse essentially all the code.\n",
        "\n"
      ]
    },
    {
      "cell_type": "code",
      "metadata": {
        "id": "XTUDKYtum53X",
        "colab_type": "code",
        "outputId": "b81512b0-ff9d-4fb7-82c3-088caed94db3",
        "colab": {
          "base_uri": "https://localhost:8080/",
          "height": 55
        }
      },
      "source": [
        "sentences_wiki[1]"
      ],
      "execution_count": 0,
      "outputs": [
        {
          "output_type": "execute_result",
          "data": {
            "text/plain": [
              "' the militants who were not killed or captured either managed to flee back to albania or were hiding along the border   according to a kvm monitor '"
            ]
          },
          "metadata": {
            "tags": []
          },
          "execution_count": 137
        }
      ]
    },
    {
      "cell_type": "code",
      "metadata": {
        "id": "W4BZxUilszut",
        "colab_type": "code",
        "colab": {}
      },
      "source": [
        "model_wiki = Word2Vec(sentences_wiki, min_count=1)"
      ],
      "execution_count": 0,
      "outputs": []
    },
    {
      "cell_type": "code",
      "metadata": {
        "id": "oACfJhxgrHud",
        "colab_type": "code",
        "colab": {}
      },
      "source": [
        "count_wiki = collections.Counter()\n",
        "for sentence in sentences_wiki:\n",
        "    for word in sentence:\n",
        "        count_wiki[word] += 1\n",
        "words_top_wiki = [token_count_pair[0] for token_count_pair in count.most_common(1000)]"
      ],
      "execution_count": 0,
      "outputs": []
    },
    {
      "cell_type": "code",
      "metadata": {
        "id": "mU5S1ILUmxNT",
        "colab_type": "code",
        "outputId": "fcf30bed-ffcb-4866-d36b-97ef2aa1de47",
        "colab": {
          "base_uri": "https://localhost:8080/",
          "height": 72
        }
      },
      "source": [
        "# This assumes words_top_wiki is a list of strings, the top 1000 words\n",
        "words_top_vec_wiki = model_wiki[words_top_wiki]\n",
        "\n",
        "tsne = TSNE(n_components=2, random_state=0)\n",
        "words_top_wiki_tsne = tsne.fit_transform(words_top_vec_wiki)"
      ],
      "execution_count": 0,
      "outputs": [
        {
          "output_type": "stream",
          "text": [
            "/usr/local/lib/python3.6/dist-packages/ipykernel_launcher.py:1: DeprecationWarning: Call to deprecated `__getitem__` (Method will be removed in 4.0.0, use self.wv.__getitem__() instead).\n",
            "  \"\"\"Entry point for launching an IPython kernel.\n"
          ],
          "name": "stderr"
        }
      ]
    },
    {
      "cell_type": "code",
      "metadata": {
        "id": "5SlXJAjCoGOs",
        "colab_type": "code",
        "outputId": "80dd3a99-1931-4063-8e06-13472f29e613",
        "colab": {
          "base_uri": "https://localhost:8080/",
          "height": 17
        }
      },
      "source": [
        "p = figure(tools=\"pan,wheel_zoom,reset,save\",\n",
        "           toolbar_location=\"above\",\n",
        "           title=\"word2vec T-SNE for most common words\")\n",
        "\n",
        "source = ColumnDataSource(data=dict(x1=words_top_wiki_tsne[:,0],\n",
        "                                    x2=words_top_wiki_tsne[:,1],\n",
        "                                    names=words_top_wiki))\n",
        "\n",
        "p.scatter(x=\"x1\", y=\"x2\", size=8, source=source)\n",
        "\n",
        "labels = LabelSet(x=\"x1\", y=\"x2\", text=\"names\", y_offset=6,\n",
        "                  text_font_size=\"8pt\", text_color=\"#555555\",\n",
        "                  source=source, text_align='center')\n",
        "p.add_layout(labels)\n",
        "\n",
        "show(p)"
      ],
      "execution_count": 0,
      "outputs": [
        {
          "output_type": "display_data",
          "data": {
            "text/html": [
              "\n",
              "\n",
              "\n",
              "\n",
              "\n",
              "\n",
              "  <div class=\"bk-root\" id=\"01400498-cf18-4acd-a2e5-bb134ea76bc4\"></div>\n"
            ]
          },
          "metadata": {
            "tags": []
          }
        },
        {
          "output_type": "display_data",
          "data": {
            "application/javascript": [
              "(function(root) {\n",
              "  function embed_document(root) {\n",
              "    \n",
              "  var docs_json = {\"e1e96c2a-36ed-40ef-9ce9-902c903e084c\":{\"roots\":{\"references\":[{\"attributes\":{\"below\":[{\"id\":\"1625\",\"type\":\"LinearAxis\"}],\"left\":[{\"id\":\"1630\",\"type\":\"LinearAxis\"}],\"renderers\":[{\"id\":\"1625\",\"type\":\"LinearAxis\"},{\"id\":\"1629\",\"type\":\"Grid\"},{\"id\":\"1630\",\"type\":\"LinearAxis\"},{\"id\":\"1634\",\"type\":\"Grid\"},{\"id\":\"1648\",\"type\":\"GlyphRenderer\"},{\"id\":\"1650\",\"type\":\"LabelSet\"}],\"title\":{\"id\":\"1614\",\"type\":\"Title\"},\"toolbar\":{\"id\":\"1639\",\"type\":\"Toolbar\"},\"toolbar_location\":\"above\",\"x_range\":{\"id\":\"1617\",\"type\":\"DataRange1d\"},\"x_scale\":{\"id\":\"1621\",\"type\":\"LinearScale\"},\"y_range\":{\"id\":\"1619\",\"type\":\"DataRange1d\"},\"y_scale\":{\"id\":\"1623\",\"type\":\"LinearScale\"}},\"id\":\"1615\",\"subtype\":\"Figure\",\"type\":\"Plot\"},{\"attributes\":{},\"id\":\"1695\",\"type\":\"BasicTickFormatter\"},{\"attributes\":{},\"id\":\"1635\",\"type\":\"PanTool\"},{\"attributes\":{},\"id\":\"1636\",\"type\":\"WheelZoomTool\"},{\"attributes\":{\"formatter\":{\"id\":\"1695\",\"type\":\"BasicTickFormatter\"},\"plot\":{\"id\":\"1615\",\"subtype\":\"Figure\",\"type\":\"Plot\"},\"ticker\":{\"id\":\"1626\",\"type\":\"BasicTicker\"}},\"id\":\"1625\",\"type\":\"LinearAxis\"},{\"attributes\":{\"plot\":{\"id\":\"1615\",\"subtype\":\"Figure\",\"type\":\"Plot\"},\"source\":{\"id\":\"1644\",\"type\":\"ColumnDataSource\"},\"text\":{\"field\":\"names\"},\"text_align\":\"center\",\"text_color\":{\"value\":\"#555555\"},\"text_font_size\":{\"value\":\"8pt\"},\"x\":{\"field\":\"x1\"},\"y\":{\"field\":\"x2\"},\"y_offset\":{\"value\":6}},\"id\":\"1650\",\"type\":\"LabelSet\"},{\"attributes\":{},\"id\":\"1621\",\"type\":\"LinearScale\"},{\"attributes\":{\"formatter\":{\"id\":\"1697\",\"type\":\"BasicTickFormatter\"},\"plot\":{\"id\":\"1615\",\"subtype\":\"Figure\",\"type\":\"Plot\"},\"ticker\":{\"id\":\"1631\",\"type\":\"BasicTicker\"}},\"id\":\"1630\",\"type\":\"LinearAxis\"},{\"attributes\":{\"callback\":null},\"id\":\"1619\",\"type\":\"DataRange1d\"},{\"attributes\":{\"active_drag\":\"auto\",\"active_inspect\":\"auto\",\"active_multi\":null,\"active_scroll\":\"auto\",\"active_tap\":\"auto\",\"tools\":[{\"id\":\"1635\",\"type\":\"PanTool\"},{\"id\":\"1636\",\"type\":\"WheelZoomTool\"},{\"id\":\"1637\",\"type\":\"ResetTool\"},{\"id\":\"1638\",\"type\":\"SaveTool\"}]},\"id\":\"1639\",\"type\":\"Toolbar\"},{\"attributes\":{\"data_source\":{\"id\":\"1644\",\"type\":\"ColumnDataSource\"},\"glyph\":{\"id\":\"1646\",\"type\":\"Scatter\"},\"hover_glyph\":null,\"muted_glyph\":null,\"nonselection_glyph\":{\"id\":\"1647\",\"type\":\"Scatter\"},\"selection_glyph\":null,\"view\":{\"id\":\"1649\",\"type\":\"CDSView\"}},\"id\":\"1648\",\"type\":\"GlyphRenderer\"},{\"attributes\":{},\"id\":\"1697\",\"type\":\"BasicTickFormatter\"},{\"attributes\":{\"source\":{\"id\":\"1644\",\"type\":\"ColumnDataSource\"}},\"id\":\"1649\",\"type\":\"CDSView\"},{\"attributes\":{},\"id\":\"1631\",\"type\":\"BasicTicker\"},{\"attributes\":{\"fill_alpha\":{\"value\":0.1},\"fill_color\":{\"value\":\"#1f77b4\"},\"line_alpha\":{\"value\":0.1},\"line_color\":{\"value\":\"#1f77b4\"},\"size\":{\"units\":\"screen\",\"value\":8},\"x\":{\"field\":\"x1\"},\"y\":{\"field\":\"x2\"}},\"id\":\"1647\",\"type\":\"Scatter\"},{\"attributes\":{},\"id\":\"1637\",\"type\":\"ResetTool\"},{\"attributes\":{\"plot\":{\"id\":\"1615\",\"subtype\":\"Figure\",\"type\":\"Plot\"},\"ticker\":{\"id\":\"1626\",\"type\":\"BasicTicker\"}},\"id\":\"1629\",\"type\":\"Grid\"},{\"attributes\":{},\"id\":\"1623\",\"type\":\"LinearScale\"},{\"attributes\":{},\"id\":\"1700\",\"type\":\"Selection\"},{\"attributes\":{\"callback\":null},\"id\":\"1617\",\"type\":\"DataRange1d\"},{\"attributes\":{},\"id\":\"1626\",\"type\":\"BasicTicker\"},{\"attributes\":{},\"id\":\"1638\",\"type\":\"SaveTool\"},{\"attributes\":{},\"id\":\"1699\",\"type\":\"UnionRenderers\"},{\"attributes\":{\"fill_color\":{\"value\":\"#1f77b4\"},\"line_color\":{\"value\":\"#1f77b4\"},\"size\":{\"units\":\"screen\",\"value\":8},\"x\":{\"field\":\"x1\"},\"y\":{\"field\":\"x2\"}},\"id\":\"1646\",\"type\":\"Scatter\"},{\"attributes\":{\"dimension\":1,\"plot\":{\"id\":\"1615\",\"subtype\":\"Figure\",\"type\":\"Plot\"},\"ticker\":{\"id\":\"1631\",\"type\":\"BasicTicker\"}},\"id\":\"1634\",\"type\":\"Grid\"},{\"attributes\":{\"callback\":null,\"data\":{\"names\":[\" \",\"e\",\"t\",\"a\",\"i\",\"n\",\"o\",\"r\",\"s\",\"h\",\"l\",\"d\",\"c\",\"u\",\"m\",\"f\",\"g\",\"p\",\"w\",\"b\",\"y\",\"v\",\"k\",\"j\",\"x\",\"z\",\"q\"],\"x1\":{\"__ndarray__\":\"KdMLwtZEHEKtG99BluI3Q5avCEP6XSTD3fDrwX4XEkLaTGJDj3mHQQqIkkJ7iDNASlATQ7WrwEJCqb/CzpWAQnbfN8J4iVPCR3xUQ2llEEN/yjDDnmicQgTt/cIbL/jB1kLsQgbcw8JIUNbC\",\"dtype\":\"float32\",\"shape\":[27]},\"x2\":{\"__ndarray__\":\"nkFaQDP3Q0OIXxFCpx3AQgjzcMKfxaHC0j5Gw5uz5UJ+7S5BJO84wsZjxMKUHfjCsBGDQRrXikKt1U5CIYQ6w71BJUPI15XCHImlwvfRFcNz/d5B+1JNwd1B/EIK26lC2q8XQzlBDcMvo8nB\",\"dtype\":\"float32\",\"shape\":[27]}},\"selected\":{\"id\":\"1700\",\"type\":\"Selection\"},\"selection_policy\":{\"id\":\"1699\",\"type\":\"UnionRenderers\"}},\"id\":\"1644\",\"type\":\"ColumnDataSource\"},{\"attributes\":{\"plot\":null,\"text\":\"word2vec T-SNE for most common words\"},\"id\":\"1614\",\"type\":\"Title\"}],\"root_ids\":[\"1615\"]},\"title\":\"Bokeh Application\",\"version\":\"1.0.2\"}};\n",
              "  var render_items = [{\"docid\":\"e1e96c2a-36ed-40ef-9ce9-902c903e084c\",\"roots\":{\"1615\":\"01400498-cf18-4acd-a2e5-bb134ea76bc4\"}}];\n",
              "  root.Bokeh.embed.embed_items_notebook(docs_json, render_items);\n",
              "\n",
              "  }\n",
              "  if (root.Bokeh !== undefined) {\n",
              "    embed_document(root);\n",
              "  } else {\n",
              "    var attempts = 0;\n",
              "    var timer = setInterval(function(root) {\n",
              "      if (root.Bokeh !== undefined) {\n",
              "        embed_document(root);\n",
              "        clearInterval(timer);\n",
              "      }\n",
              "      attempts++;\n",
              "      if (attempts > 100) {\n",
              "        console.log(\"Bokeh: ERROR: Unable to run BokehJS code because BokehJS library is missing\");\n",
              "        clearInterval(timer);\n",
              "      }\n",
              "    }, 10, root)\n",
              "  }\n",
              "})(window);"
            ],
            "application/vnd.bokehjs_exec.v0+json": ""
          },
          "metadata": {
            "tags": [],
            "application/vnd.bokehjs_exec.v0+json": {
              "id": "1615"
            }
          }
        }
      ]
    },
    {
      "cell_type": "code",
      "metadata": {
        "id": "rN6WWKySoGjS",
        "colab_type": "code",
        "colab": {}
      },
      "source": [
        ""
      ],
      "execution_count": 0,
      "outputs": []
    }
  ]
}